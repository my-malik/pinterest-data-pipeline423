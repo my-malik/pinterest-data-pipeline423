{
 "cells": [
  {
   "cell_type": "code",
   "execution_count": null,
   "metadata": {
    "application/vnd.databricks.v1+cell": {
     "cellMetadata": {
      "byteLimit": 2048000,
      "rowLimit": 10000
     },
     "inputWidgets": {},
     "nuid": "8c3f8903-8560-4dae-a10f-3df3b30deb6d",
     "showTitle": false,
     "title": ""
    }
   },
   "outputs": [
    {
     "data": {
      "text/html": [
       "<style scoped>\n",
       "  .ansiout {\n",
       "    display: block;\n",
       "    unicode-bidi: embed;\n",
       "    white-space: pre-wrap;\n",
       "    word-wrap: break-word;\n",
       "    word-break: break-all;\n",
       "    font-family: \"Menlo\", \"Monaco\", \"Consolas\", \"Ubuntu Mono\", \"Source Code Pro\", monospace;\n",
       "    font-size: 13px;\n",
       "    color: #555;\n",
       "    margin-left: 4px;\n",
       "    line-height: 19px;\n",
       "  }\n",
       "</style>\n",
       "<div class=\"ansiout\"></div>"
      ]
     },
     "metadata": {
      "application/vnd.databricks.v1+output": {
       "addedWidgets": {},
       "arguments": {},
       "data": "<div class=\"ansiout\"></div>",
       "datasetInfos": [],
       "metadata": {},
       "removedWidgets": [],
       "type": "html"
      }
     },
     "output_type": "display_data"
    }
   ],
   "source": [
    "from pyspark.sql.types import *\n",
    "from pyspark.sql.functions import *\n",
    "import urllib\n"
   ]
  },
  {
   "cell_type": "code",
   "execution_count": null,
   "metadata": {
    "application/vnd.databricks.v1+cell": {
     "cellMetadata": {
      "byteLimit": 2048000,
      "rowLimit": 10000
     },
     "inputWidgets": {},
     "nuid": "73c57a28-6b76-4044-a440-4a5b2dec2f2e",
     "showTitle": false,
     "title": ""
    }
   },
   "outputs": [
    {
     "data": {
      "text/html": [
       "<style scoped>\n",
       "  .ansiout {\n",
       "    display: block;\n",
       "    unicode-bidi: embed;\n",
       "    white-space: pre-wrap;\n",
       "    word-wrap: break-word;\n",
       "    word-break: break-all;\n",
       "    font-family: \"Menlo\", \"Monaco\", \"Consolas\", \"Ubuntu Mono\", \"Source Code Pro\", monospace;\n",
       "    font-size: 13px;\n",
       "    color: #555;\n",
       "    margin-left: 4px;\n",
       "    line-height: 19px;\n",
       "  }\n",
       "</style>\n",
       "<div class=\"ansiout\"></div>"
      ]
     },
     "metadata": {
      "application/vnd.databricks.v1+output": {
       "addedWidgets": {},
       "arguments": {},
       "data": "<div class=\"ansiout\"></div>",
       "datasetInfos": [],
       "metadata": {},
       "removedWidgets": [],
       "type": "html"
      }
     },
     "output_type": "display_data"
    }
   ],
   "source": [
    "# Define the path to the Delta table\n",
    "delta_table_path = \"dbfs:/user/hive/warehouse/authentication_credentials\"\n",
    "\n",
    "# Read the Delta table to a Spark DataFrame\n",
    "aws_keys_df = spark.read.format(\"delta\").load(delta_table_path)"
   ]
  },
  {
   "cell_type": "code",
   "execution_count": null,
   "metadata": {
    "application/vnd.databricks.v1+cell": {
     "cellMetadata": {
      "byteLimit": 2048000,
      "rowLimit": 10000
     },
     "inputWidgets": {},
     "nuid": "9597a35b-3a64-472c-b425-2f723d3b6ff1",
     "showTitle": false,
     "title": ""
    }
   },
   "outputs": [
    {
     "data": {
      "text/html": [
       "<style scoped>\n",
       "  .ansiout {\n",
       "    display: block;\n",
       "    unicode-bidi: embed;\n",
       "    white-space: pre-wrap;\n",
       "    word-wrap: break-word;\n",
       "    word-break: break-all;\n",
       "    font-family: \"Menlo\", \"Monaco\", \"Consolas\", \"Ubuntu Mono\", \"Source Code Pro\", monospace;\n",
       "    font-size: 13px;\n",
       "    color: #555;\n",
       "    margin-left: 4px;\n",
       "    line-height: 19px;\n",
       "  }\n",
       "</style>\n",
       "<div class=\"ansiout\"></div>"
      ]
     },
     "metadata": {
      "application/vnd.databricks.v1+output": {
       "addedWidgets": {},
       "arguments": {},
       "data": "<div class=\"ansiout\"></div>",
       "datasetInfos": [],
       "metadata": {},
       "removedWidgets": [],
       "type": "html"
      }
     },
     "output_type": "display_data"
    }
   ],
   "source": [
    "# Get the AWS access key and secret key from the spark dataframe\n",
    "ACCESS_KEY = aws_keys_df.select('Access key ID').collect()[0]['Access key ID']\n",
    "SECRET_KEY = aws_keys_df.select('Secret access key').collect()[0]['Secret access key']\n",
    "# Encode the secrete key\n",
    "ENCODED_SECRET_KEY = urllib.parse.quote(string=SECRET_KEY, safe=\"\")"
   ]
  },
  {
   "cell_type": "code",
   "execution_count": null,
   "metadata": {
    "application/vnd.databricks.v1+cell": {
     "cellMetadata": {
      "byteLimit": 2048000,
      "rowLimit": 10000
     },
     "inputWidgets": {},
     "nuid": "ce538264-e8cd-4113-98e8-dcb44a5da301",
     "showTitle": false,
     "title": ""
    }
   },
   "outputs": [
    {
     "data": {
      "text/html": [
       "<style scoped>\n",
       "  .ansiout {\n",
       "    display: block;\n",
       "    unicode-bidi: embed;\n",
       "    white-space: pre-wrap;\n",
       "    word-wrap: break-word;\n",
       "    word-break: break-all;\n",
       "    font-family: \"Menlo\", \"Monaco\", \"Consolas\", \"Ubuntu Mono\", \"Source Code Pro\", monospace;\n",
       "    font-size: 13px;\n",
       "    color: #555;\n",
       "    margin-left: 4px;\n",
       "    line-height: 19px;\n",
       "  }\n",
       "</style>\n",
       "<div class=\"ansiout\"></div>"
      ]
     },
     "metadata": {
      "application/vnd.databricks.v1+output": {
       "addedWidgets": {},
       "arguments": {},
       "data": "<div class=\"ansiout\"></div>",
       "datasetInfos": [],
       "metadata": {},
       "removedWidgets": [],
       "type": "html"
      }
     },
     "output_type": "display_data"
    }
   ],
   "source": [
    "df_pin = spark \\\n",
    ".readStream \\\n",
    ".format('kinesis') \\\n",
    ".option('streamName','streaming-0e06e68acedb-pin') \\\n",
    ".option('initialPosition','latest') \\\n",
    ".option('region','us-east-1') \\\n",
    ".option('awsAccessKey', ACCESS_KEY) \\\n",
    ".option('awsSecretKey', SECRET_KEY) \\\n",
    ".load()"
   ]
  },
  {
   "cell_type": "code",
   "execution_count": null,
   "metadata": {
    "application/vnd.databricks.v1+cell": {
     "cellMetadata": {
      "byteLimit": 2048000,
      "rowLimit": 10000
     },
     "inputWidgets": {},
     "nuid": "15395b22-7497-4ea0-8d73-764bac335ac8",
     "showTitle": false,
     "title": ""
    }
   },
   "outputs": [
    {
     "data": {
      "text/html": [
       "<style scoped>\n",
       "  .table-result-container {\n",
       "    max-height: 300px;\n",
       "    overflow: auto;\n",
       "  }\n",
       "  table, th, td {\n",
       "    border: 1px solid black;\n",
       "    border-collapse: collapse;\n",
       "  }\n",
       "  th, td {\n",
       "    padding: 5px;\n",
       "  }\n",
       "  th {\n",
       "    text-align: left;\n",
       "  }\n",
       "</style><div class='table-result-container'><table class='table-result'><thead style='background-color: white'><tr><th>data</th></tr></thead><tbody><tr><td>{\"index\":8255,\"unique_id\":\"eaa198cd-1ff1-4a47-b086-69be38a7af6c\",\"title\":\"Spirituality\",\"description\":\"Spirituality. What is spirituality? you might ask. For a very long time, people of all different ethnic backgrounds have tried to define what the word spirituality is about. I'v… \",\"poster_name\":\"Lourence\",\"follower_count\":\"65\",\"tag_list\":\"Now Quotes,Life Quotes Love,True Quotes,Great Quotes,Quotes To Live By,Motivational Quotes,Inspirational Quotes,Funny Quotes,People Quotes\",\"is_image_or_video\":\"image\",\"image_src\":\"https://i.pinimg.com/originals/db/79/2c/db792cfadbdd4c8ace88bbeabef12c38.jpg\",\"downloaded\":1,\"save_location\":\"Local save in /data/quotes\",\"category\":\"quotes\"}</td></tr><tr><td>{\"index\":9721,\"unique_id\":\"943d2b55-2ed3-45a7-a80f-03b0d149da8c\",\"title\":\"10 essential travel tips for Rome: A must read for first time visitors\",\"description\":\"Michele is sharing her top travel tips and travel hacks for Rome. She's shared lots of simple insider travel tips to make your trip to Rome easier. These Rome travel tips will s… \",\"poster_name\":\"Brooke Kissler\",\"follower_count\":\"179\",\"tag_list\":\"Travel Goals,Travel Advice,Travel Guides,Travel Hacks,Freedom Travel,Italy Travel Tips,Rome Travel,Paris Travel,Travel Europe\",\"is_image_or_video\":\"image\",\"image_src\":\"https://i.pinimg.com/originals/aa/9c/77/aa9c77c831c9e6e7fbd6a828e8efec35.png\",\"downloaded\":1,\"save_location\":\"Local save in /data/travel\",\"category\":\"travel\"}</td></tr><tr><td>{\"index\":1626,\"unique_id\":\"d6ab80c8-3819-42ee-8a17-3e5cb564d38f\",\"title\":\"DIY No More Oily Skin - Budget Savvy Diva\",\"description\":\"Other Great Tips! How to Remove Grease and Oil From Clothing How to Make Fabric Softener Sheets How to Clean a Toilet with Coke Use Mayonnaise to Remove Water Marks on Wood DIY… \",\"poster_name\":\"Budget Savvy Diva\",\"follower_count\":\"384k\",\"tag_list\":\"Skin Tips,Skin Care Tips,Beauty Secrets,Beauty Hacks,Beauty Ideas,Beauty Products,Beauty Care,Hair Beauty,Do It Yourself Fashion\",\"is_image_or_video\":\"image\",\"image_src\":\"https://i.pinimg.com/originals/98/eb/79/98eb797d7ea6de9e48471841fff6a0a8.jpg\",\"downloaded\":1,\"save_location\":\"Local save in /data/beauty\",\"category\":\"beauty\"}</td></tr><tr><td>{\"index\":3164,\"unique_id\":\"d603a766-5e05-4493-82b5-7155c95528a0\",\"title\":\"over 30 fun Christmas tree crafts for kids! - A girl and a glue gun\",\"description\":\"Fun Christmas tree crafts for kids to do! Window Tree Fingerprint Trees handprint Christmas trees Button trees Glitter hands paper mache\",\"poster_name\":\"Kimberly West (a girl and a glue gun)\",\"follower_count\":\"243k\",\"tag_list\":\"Handprint Christmas Tree,Cool Christmas Trees,Preschool Christmas,Toddler Christmas,Christmas Activities,Tree Handprint,Xmas Tree,Christmas Christmas,Classroom Christmas Decor\",\"is_image_or_video\":\"image\",\"image_src\":\"https://i.pinimg.com/originals/3f/78/5a/3f785af07e9bfbaacad4331a1e57a971.jpg\",\"downloaded\":1,\"save_location\":\"Local save in /data/diy-and-crafts\",\"category\":\"diy-and-crafts\"}</td></tr><tr><td>{\"index\":2952,\"unique_id\":\"59decdeb-6a42-4ddb-afcf-712719d85367\",\"title\":\"Handprint Joy Keepsake Craft For The Holidays\",\"description\":\"We hoping to spread so much crafty JOY with our latest tutorial! Today's Handprint Joy Keepsake Printable post, is perfect to make in honor of the\",\"poster_name\":\"Glued To My Crafts\",\"follower_count\":\"226k\",\"tag_list\":\"Christmas Art Projects,Christmas Arts And Crafts,Christmas Crafts For Toddlers,Winter Crafts For Kids,Toddler Christmas,Christmas Crafts For Kindergarteners,Christmas Tree,Christmas Decor,Christmas Handprint Crafts\",\"is_image_or_video\":\"image\",\"image_src\":\"https://i.pinimg.com/originals/5e/90/22/5e9022c20b4a0422bd989be5da9e97c1.jpg\",\"downloaded\":1,\"save_location\":\"Local save in /data/diy-and-crafts\",\"category\":\"diy-and-crafts\"}</td></tr><tr><td>{\"index\":6813,\"unique_id\":\"632ac3ec-c018-4266-ade7-95d232d6c935\",\"title\":\"No Title Data Available\",\"description\":\"No description available Story format\",\"poster_name\":\"User Info Error\",\"follower_count\":\"User Info Error\",\"tag_list\":\"N,o, ,T,a,g,s, ,A,v,a,i,l,a,b,l,e\",\"is_image_or_video\":\"multi-video(story page format)\",\"image_src\":\"Image src error.\",\"downloaded\":0,\"save_location\":\"Local save in /data/mens-fashion\",\"category\":\"mens-fashion\"}</td></tr><tr><td>{\"index\":867,\"unique_id\":\"a56691d1-f302-4b54-9bb7-93afa29331f1\",\"title\":\"How to Use the Rule of Thirds\",\"description\":\"How to improve a paintings using just four lines? I’m sharing one of my favorite strategies to make strong compositions - The Rule of Thirds.\",\"poster_name\":\"Mary Bentz Gilkerson: Artist+Teacher\",\"follower_count\":\"34k\",\"tag_list\":\"Acrylic Painting Lessons,Acrylic Painting Techniques,Painting Videos,Art Techniques,Painting & Drawing,Drawing Tips,Oil Painting Tips,Acrylic Art,Learn Art\",\"is_image_or_video\":\"image\",\"image_src\":\"https://i.pinimg.com/originals/c3/34/d2/c334d23c28c23ecdeeafdb0a6a3c3835.jpg\",\"downloaded\":1,\"save_location\":\"Local save in /data/art\",\"category\":\"art\"}</td></tr><tr><td>{\"index\":4500,\"unique_id\":\"197405a0-21ba-4f01-8e35-f98395c489cc\",\"title\":\"How to Work From Home as an Event Planner\",\"description\":\"Do you love planning parties? Do you want to work-at-home? This post covers everything you need to know about becoming a home-based event planner!\",\"poster_name\":\"The Work at Home Woman\",\"follower_count\":\"110k\",\"tag_list\":\"Event Planning Quotes,Event Planning Checklist,Planning Budget,Event Planning Business,Wedding Planning Tips,Party Planning,Business Ideas,Event Ideas,Wedding Advice\",\"is_image_or_video\":\"image\",\"image_src\":\"https://i.pinimg.com/originals/33/79/43/33794391313d094103b20eb01f5aa49f.jpg\",\"downloaded\":1,\"save_location\":\"Local save in /data/event-planning\",\"category\":\"event-planning\"}</td></tr><tr><td>{\"index\":7073,\"unique_id\":\"0621d967-86d0-49b4-9374-68ee59059154\",\"title\":\"TENDÊNCIAS NA MODA MASCULINA VERÃO 2020\",\"description\":\"Tu veux utiliser cette image en mode transparent pour le deposer sur n'importe quel plan?Découvre comment rendre cette images transparente avec des contours. Clique sur l'image… \",\"poster_name\":\"Ecole du Net\",\"follower_count\":\"2k\",\"tag_list\":\"Cool Outfits For Men,Stylish Mens Outfits,Sporty Outfits,Urban Outfits,Mode Outfits,Stylish Clothes For Men,Girl Outfits,Grunge Outfits,Outfit Ideas For Guys\",\"is_image_or_video\":\"image\",\"image_src\":\"https://i.pinimg.com/originals/c5/24/6f/c5246f79a1f1febc2b2ab2541cd92d49.png\",\"downloaded\":1,\"save_location\":\"Local save in /data/mens-fashion\",\"category\":\"mens-fashion\"}</td></tr><tr><td>{\"index\":6374,\"unique_id\":\"991cfb8f-d972-4cc9-b2aa-1cb66e94b355\",\"title\":\"Farmhouse Easter Vignettes Home Tour\",\"description\":\"Farmhouse Easter Vignettes Home Tour\",\"poster_name\":\"The Painted Hinge\",\"follower_count\":\"55k\",\"tag_list\":\"Country Farmhouse Decor,French Country Decorating,Farmhouse Design,Modern Farmhouse,Vintage Farmhouse Decor,Farmhouse Style,Farmhouse Ideas,Cottage Farmhouse,Antique Farmhouse\",\"is_image_or_video\":\"image\",\"image_src\":\"https://i.pinimg.com/originals/85/71/de/8571decd7793d8c4f23f2970e2708b73.jpg\",\"downloaded\":1,\"save_location\":\"Local save in /data/home-decor\",\"category\":\"home-decor\"}</td></tr><tr><td>{\"index\":10904,\"unique_id\":\"0ef85377-31a7-42e9-a275-69f78f2ffc63\",\"title\":\"Search: 10 results found for \\\"heart steering wheel \\\"\",\"description\":\"Tokyo Tom's Automotive Parts and Accessories for Sports, Drift and JDM Enthusiasts. Over 20,000 auto parts and accessories direct to you at the best possible prices. Follow us f… \",\"poster_name\":\"Kay𖨆\",\"follower_count\":\"301\",\"tag_list\":\"Miata Car,Mazda Miata,Dream Cars,My Dream Car,Pretty Cars,Cute Cars,Pink Car Accessories,Girly Car,Rims For Cars\",\"is_image_or_video\":\"image\",\"image_src\":\"https://i.pinimg.com/originals/18/3d/9c/183d9ce9fbd5082fbad72f4119a23482.jpg\",\"downloaded\":1,\"save_location\":\"Local save in /data/vehicles\",\"category\":\"vehicles\"}</td></tr><tr><td>{\"index\":3717,\"unique_id\":\"186482b4-00e0-4229-bc2c-fadb1921ea2e\",\"title\":\"The Leading Edge of Early Childhood Education : Linking Science to Policy for a New Generation (Paperback)\",\"description\":\"The Leading Edge of Early Childhood Education aims to support the effort to simultaneously scale up and improve the quality of early childhood education by bringing together rel… \",\"poster_name\":\"Walmart\",\"follower_count\":\"2M\",\"tag_list\":\"Term Life,Use Of Technology,Emotional Development,Learning Environments,Early Childhood Education,Effort,Insight,Scale,Science\",\"is_image_or_video\":\"image\",\"image_src\":\"https://i.pinimg.com/originals/81/b8/3e/81b83e687c82c45984a5e4282e960b19.jpg\",\"downloaded\":1,\"save_location\":\"Local save in /data/education\",\"category\":\"education\"}</td></tr><tr><td>{\"index\":10253,\"unique_id\":\"cab8a53e-40e1-4324-9e25-9b339ade9fd2\",\"title\":\"Romantic Travel Destinations For Adventurous Couples - Society19\",\"description\":\"Romantic travel destinations shouldn't be limited to Florida beaches and relaxing resorts. Celebrate your next anniversary or just get away with the person you love by having a… \",\"poster_name\":\"SOCIETY19\",\"follower_count\":\"1M\",\"tag_list\":\"Places To Travel,Travel Destinations,Places To Visit,Romantic Destinations,Africa Destinations,Romantic Vacations,Travel Pictures,Travel Photos,Honeymoon Pictures\",\"is_image_or_video\":\"image\",\"image_src\":\"https://i.pinimg.com/originals/37/82/eb/3782eb7bc424afa46e5325642f7e3a5c.jpg\",\"downloaded\":1,\"save_location\":\"Local save in /data/travel\",\"category\":\"travel\"}</td></tr><tr><td>{\"index\":4983,\"unique_id\":\"15bf1a80-b2ff-47bf-9137-5ba26f1a17dd\",\"title\":\"kytica saténová - výsledky vyhľadávania\",\"description\":\"kytica saténová - výsledky vyhľadávania od slovenských tvorcov, remeselníkov, umelcov a návrhárov. Lokálne výrobky od domácich autorov.\",\"poster_name\":\"SAShE.sk\",\"follower_count\":\"92k\",\"tag_list\":\"Fountain Wedding Cakes,Care Bears Vintage,Betta Fish Types,Best Sugar Cookies,Event Planning Business,Color Psychology,Crewel Embroidery,Blessed Mother,Wedding Bouquets\",\"is_image_or_video\":\"image\",\"image_src\":\"https://i.pinimg.com/originals/aa/1e/4d/aa1e4d9f57fe2cfaf2cd529276c7526a.jpg\",\"downloaded\":1,\"save_location\":\"Local save in /data/event-planning\",\"category\":\"event-planning\"}</td></tr><tr><td>{\"index\":5566,\"unique_id\":\"2ebe1964-767d-40e7-a274-71294045b048\",\"title\":\"11 simple steps to help you pay off any kind of debt\",\"description\":\"Take it from people who have been there.\",\"poster_name\":\"Elizabeth Leigh\",\"follower_count\":\"406\",\"tag_list\":\"Illustration Simple,Pay Off Mortgage Early,Paying Off Credit Cards,Mortgage Tips,Refinance Mortgage,Mortgage Calculator,Mortgage Estimator,Mortgage Humor,Mortgage Payment\",\"is_image_or_video\":\"image\",\"image_src\":\"https://i.pinimg.com/originals/e9/6d/4d/e96d4dc5f4175a1633294a0d016387df.jpg\",\"downloaded\":1,\"save_location\":\"Local save in /data/finance\",\"category\":\"finance\"}</td></tr><tr><td>{\"index\":4482,\"unique_id\":\"8489479d-b91b-46b8-8088-b29958cd2503\",\"title\":\"4 Tips for Booking your First Client without a Portfolio (2021) - EVENT PLANNING CERTIFICATE\",\"description\":\"Today I'm sharing four simple strategies event planners can use right now to book your first paying client without a portfolio.\",\"poster_name\":\"Jody-Ann Rowe | Marketing Coach for Wedding Professionals\",\"follower_count\":\"884\",\"tag_list\":\"Event Planning Template,Event Planning Quotes,Event Planning Checklist,Event Planning Business,Event Planning Design,Party Planning,Wedding Planning,Wedding Ideas,Business Ideas\",\"is_image_or_video\":\"image\",\"image_src\":\"https://i.pinimg.com/originals/6d/ec/c5/6decc533f545a95eed6536640f419c1c.png\",\"downloaded\":1,\"save_location\":\"Local save in /data/event-planning\",\"category\":\"event-planning\"}</td></tr><tr><td>{\"index\":4651,\"unique_id\":\"98e74286-2d52-4c2f-87e8-0e5ac249a308\",\"title\":\"Beautiful Princess | Etsy\",\"description\":\"This is a really beautiful princess invitation ideal to your next important day The invitation come with withe envelopes or a cellophane bag We don't sell just one invitation we… \",\"poster_name\":\"Rachelle DeBoue\",\"follower_count\":\"19\",\"tag_list\":\"Quince Invitations,Butterfly Invitations,Princess Invitations,Baptism Invitations,Pink Invitations,Invitation Cards,Wedding Invitations,Invitations Quinceanera,Quinceanera Planning\",\"is_image_or_video\":\"image\",\"image_src\":\"https://i.pinimg.com/originals/8c/2e/85/8c2e85387255f86569cdc73c33e89ee1.jpg\",\"downloaded\":1,\"save_location\":\"Local save in /data/event-planning\",\"category\":\"event-planning\"}</td></tr><tr><td>{\"index\":9567,\"unique_id\":\"75b3e4a0-31e6-40e9-83e1-1bcc87c7ae7f\",\"title\":\"The Solo Female Traveler's Guide to Iceland • The Blonde Abroad\",\"description\":\"I could rave all day about Iceland—in addition to being safe, it’s natural wonders are truly amazing. Here is my solo female traveler's guide to Iceland!\",\"poster_name\":\"The Blonde Abroad\",\"follower_count\":\"123k\",\"tag_list\":\"Guide To Iceland,Iceland Travel Tips,Solo Travel Tips,Travel Packing,Europe Packing,Traveling Europe,Backpacking Europe,Packing Lists,Air Travel\",\"is_image_or_video\":\"image\",\"image_src\":\"https://i.pinimg.com/originals/05/09/34/050934de78f82252c7dfc89af21c4321.jpg\",\"downloaded\":1,\"save_location\":\"Local save in /data/travel\",\"category\":\"travel\"}</td></tr><tr><td>{\"index\":6633,\"unique_id\":\"d136f6bc-840d-44f8-bbad-115eb7e6c51e\",\"title\":\"The Cottage Journal on Instagram: “Can you say color?! 😍😍😍 We are loving the cheery vibes that these aqua blue cabinets are giving. If you could paint your cabinets any…”\",\"description\":\"6,636 Likes, 141 Comments - The Cottage Journal (@thecottagejournal) on Instagram: “Can you say color?! 😍😍😍 We are loving the cheery vibes that these aqua blue cabinets are g… \",\"poster_name\":\"Sarah Martin\",\"follower_count\":\"394\",\"tag_list\":\"Diy Kitchen Cabinets,Kitchen Redo,Home Decor Kitchen,New Kitchen,Home Kitchens,Kitchen Remodeling,Aqua Kitchen,Kitchen Counters,Kitchen Islands\",\"is_image_or_video\":\"image\",\"image_src\":\"https://i.pinimg.com/originals/8c/17/a2/8c17a257b70780480bb89c3699363144.jpg\",\"downloaded\":1,\"save_location\":\"Local save in /data/home-decor\",\"category\":\"home-decor\"}</td></tr><tr><td>{\"index\":10912,\"unique_id\":\"13d7053a-0dfb-4249-98e7-774cad35c564\",\"title\":\"Shelby GT500 Mustang\",\"description\":\"Shelby GT500 First Drive - Most Powerful Street-Legal Ford Ever\",\"poster_name\":\"ManTripping\",\"follower_count\":\"22k\",\"tag_list\":\"Ford Mustang Shelby Gt500,Mustang Cobra,Ford Gt500,Ford Shelby,Auto Poster,Shelby Gt 500,Ford Mustang Wallpaper,Street Racing Cars,Ford Classic Cars\",\"is_image_or_video\":\"image\",\"image_src\":\"https://i.pinimg.com/originals/d0/e8/ef/d0e8ef5fdb3eee67dcf260cd5f648580.jpg\",\"downloaded\":1,\"save_location\":\"Local save in /data/vehicles\",\"category\":\"vehicles\"}</td></tr><tr><td>{\"index\":10500,\"unique_id\":\"d559762f-ead9-4914-97d0-c226ad016826\",\"title\":\"CREDITS: jbalwaysfresh\",\"description\":\"No description available Story format\",\"poster_name\":\"ForYou\",\"follower_count\":\"2k\",\"tag_list\":\"Fast Sports Cars,Exotic Sports Cars,Luxury Sports Cars,Weird Cars,Cool Cars,Strange Cars,Crazy Cars,E36 Coupe,Best Jdm Cars\",\"is_image_or_video\":\"multi-video(story page format)\",\"image_src\":\"https://i.pinimg.com/videos/thumbnails/originals/37/22/fa/3722fa11e34a785bd7546103da3a291c.0000001.jpg\",\"downloaded\":1,\"save_location\":\"Local save in /data/vehicles\",\"category\":\"vehicles\"}</td></tr><tr><td>{\"index\":6309,\"unique_id\":\"f0e84d26-ee34-44bd-bd93-783c56616e60\",\"title\":\"70 Fall Farmhouse Decor Ideas » Lady Decluttered\",\"description\":\"Need some neutral fall farmhouse decor ideas? We found the best decorating ideas from the front porch, livings room, and even the bedroom!\",\"poster_name\":\"Lady Decluttered | Decluttering, Organizing, & Simple Living Tips\",\"follower_count\":\"88k\",\"tag_list\":\"Country Decor,Farmhouse Decor,Farmhouse Ideas,Home Living Room,Living Room Decor,Fall Room Decor,Fall Entryway Decor,Deco Design,Autumn Home\",\"is_image_or_video\":\"image\",\"image_src\":\"https://i.pinimg.com/originals/0d/c0/16/0dc016230f5c6a7712d16283e199b9b3.jpg\",\"downloaded\":1,\"save_location\":\"Local save in /data/home-decor\",\"category\":\"home-decor\"}</td></tr><tr><td>{\"index\":10097,\"unique_id\":\"14fba170-01a3-4584-a2d8-48884101cea6\",\"title\":\"11 Best Places In The Netherlands To Visit\",\"description\":\"11 Best Places In The Netherlands To Visit - Hand Luggage Only - Travel, Food & Photography Blog #travel\",\"poster_name\":\"Hand Luggage Only\",\"follower_count\":\"459k\",\"tag_list\":\"Travel Photography Tumblr,Photography Beach,Food Photography,Canon Photography,Amsterdam Photography,Photography Equipment,Tumblr Travel,Scenery Photography,Adventure Photography\",\"is_image_or_video\":\"image\",\"image_src\":\"https://i.pinimg.com/originals/5c/a7/05/5ca70597aef1f45bb4b8dab4b81bb830.jpg\",\"downloaded\":1,\"save_location\":\"Local save in /data/travel\",\"category\":\"travel\"}</td></tr><tr><td>{\"index\":6671,\"unique_id\":\"4cd9f203-5a1d-43d0-9f2f-5ae29fe8b461\",\"title\":\"Striped Coffin Shelf\",\"description\":\"This Striped Coffin Shelf is perfect for showcasing your most prized possessions. Thanks to the black and white striped backing, you can now better showcase darker objects and a… \",\"poster_name\":\"Witching Hour Baby\",\"follower_count\":\"262\",\"tag_list\":\"Dark Home Decor,Goth Home Decor,Goth Bedroom,Gothic Bedroom Decor,Gothic Room,Beetlejuice Halloween,Gothic House,Coffin,Room Inspiration\",\"is_image_or_video\":\"image\",\"image_src\":\"https://i.pinimg.com/originals/e4/a6/c0/e4a6c0dd07e418e6a3be9c79cb6a17a7.png\",\"downloaded\":1,\"save_location\":\"Local save in /data/home-decor\",\"category\":\"home-decor\"}</td></tr><tr><td>{\"index\":6849,\"unique_id\":\"cc37c836-b2f3-4f1e-b8fd-da1a83bbc200\",\"title\":\"Chêne Du Paris\",\"description\":\"Chêne du Paris creates exquisitely handcrafted leather shoes for men that let their individualism shine through their modern, exclusive, and timeless style. We inspire to help y… \",\"poster_name\":\"CHRISTIAN CHÊNE\",\"follower_count\":\"3k\",\"tag_list\":\"Stylish Mens Fashion,Stylish Mens Outfits,Men Fashion,Fashion Ideas,Fashion Clothes,Fashion Shirts,Man Winter Fashion,Man Clothes Style,Fashion Spring\",\"is_image_or_video\":\"image\",\"image_src\":\"https://i.pinimg.com/originals/8c/4f/aa/8c4faa790f7e8ad924ab464b708acf11.jpg\",\"downloaded\":1,\"save_location\":\"Local save in /data/mens-fashion\",\"category\":\"mens-fashion\"}</td></tr><tr><td>{\"index\":3359,\"unique_id\":\"4899e069-d6f4-42aa-ba5c-576e9680c44b\",\"title\":\"The Complete Guide to Sharpie Mugs - with Simple Designs and Ideas\",\"description\":\"Find out how to make Sharpie mugs that won't wash away! Also, get some fun design ideas that are so simple a kid can do it. Includes baking temperature,\",\"poster_name\":\"Jasmine | Feeling Nifty | Acrylic Painting Tutorials, Ideas &More\",\"follower_count\":\"48k\",\"tag_list\":\"Valentine Day Crafts,Xmas Crafts,Fun Crafts,Simple Crafts,Simple Craft Ideas,Kids Valentines,Tape Crafts,Diy Arts And Crafts,Decor Crafts\",\"is_image_or_video\":\"image\",\"image_src\":\"https://i.pinimg.com/originals/cb/4b/b4/cb4bb4d11dd6e158155a975d48191516.png\",\"downloaded\":1,\"save_location\":\"Local save in /data/diy-and-crafts\",\"category\":\"diy-and-crafts\"}</td></tr><tr><td>{\"index\":3175,\"unique_id\":\"6458726f-1a86-4cb1-b29f-224d3d767ffb\",\"title\":\"Gingerbread House Craft for Kids\",\"description\":\"This gingerbread house craft is perfect for the month of December. It works well as an at-home craft, or as part of your gingerbread activities for Kindergarten or first grade.… \",\"poster_name\":\"The Printable Princess\",\"follower_count\":\"52k\",\"tag_list\":\"Preschool Christmas Crafts,Christmas Arts And Crafts,Kindergarten Crafts,Daycare Crafts,Winter Crafts For Kids,Christmas Activities For Kids,Preschool Crafts,Kids Christmas,Holiday Crafts\",\"is_image_or_video\":\"image\",\"image_src\":\"https://i.pinimg.com/originals/30/06/87/300687a63b3654b74eae1ad31981c620.jpg\",\"downloaded\":1,\"save_location\":\"Local save in /data/diy-and-crafts\",\"category\":\"diy-and-crafts\"}</td></tr><tr><td>{\"index\":250,\"unique_id\":\"8bf6d8fb-6f21-4d8c-86ff-3e3572875dee\",\"title\":\"Beautiful Souls Healing With Art: Holly Irwin - Hello Lovely\",\"description\":\"Come tour paintings and art work of celebrated Atlanta artist, Holly Irwin in Beautiful Souls Healing With Art: Holly Irwin.\",\"poster_name\":\"Hello Lovely\",\"follower_count\":\"115k\",\"tag_list\":\"Art Sketches,Art Drawings,Animal Drawings,Art Amour,Fine Art,Fine Fine,Beautiful Soul,Hello Beautiful,Pebble Art\",\"is_image_or_video\":\"image\",\"image_src\":\"https://i.pinimg.com/originals/60/25/2b/60252bca459d301010f903d0e77fd6d6.jpg\",\"downloaded\":1,\"save_location\":\"Local save in /data/art\",\"category\":\"art\"}</td></tr><tr><td>{\"index\":5566,\"unique_id\":\"2ebe1964-767d-40e7-a274-71294045b048\",\"title\":\"11 simple steps to help you pay off any kind of debt\",\"description\":\"Take it from people who have been there.\",\"poster_name\":\"Elizabeth Leigh\",\"follower_count\":\"406\",\"tag_list\":\"Illustration Simple,Pay Off Mortgage Early,Paying Off Credit Cards,Mortgage Tips,Refinance Mortgage,Mortgage Calculator,Mortgage Estimator,Mortgage Humor,Mortgage Payment\",\"is_image_or_video\":\"image\",\"image_src\":\"https://i.pinimg.com/originals/e9/6d/4d/e96d4dc5f4175a1633294a0d016387df.jpg\",\"downloaded\":1,\"save_location\":\"Local save in /data/finance\",\"category\":\"finance\"}</td></tr><tr><td>{\"index\":2715,\"unique_id\":\"e26c5ef8-97cf-47ff-9aef-dfe41ea54ecc\",\"title\":\"Make a Popsicle Stick Snowman Craft this Christmas\",\"description\":\"This Popsicle Stick Snowman is one of the easiest crafts you can make this Christmas! Perfect Stocking Stuffer, Christmas Craft & Ornament!\",\"poster_name\":\"ArtsyCraftsyMom | Art, Craft & DIY ideas\",\"follower_count\":\"229k\",\"tag_list\":\"Popsicle Stick Christmas Crafts,Christmas Crafts For Toddlers,Christmas Crafts To Make,Winter Crafts For Kids,Preschool Christmas,Christmas Ornament Crafts,Snowman Crafts,Craft Stick Crafts,Toddler Crafts\",\"is_image_or_video\":\"image\",\"image_src\":\"https://i.pinimg.com/originals/84/fd/5e/84fd5e0e9e25b7310aab4c5fd8149fa0.jpg\",\"downloaded\":1,\"save_location\":\"Local save in /data/diy-and-crafts\",\"category\":\"diy-and-crafts\"}</td></tr><tr><td>{\"index\":7648,\"unique_id\":\"961ead2e-3c58-42cf-9b56-85d190c0f8dd\",\"title\":\"House stuff. | Mix & Match Mama\",\"description\":\"…honestly, the whole staircase seems very overwhelming right now, so I just keep taking it one step at a time.\",\"poster_name\":\"Mix and Match Mama\",\"follower_count\":\"103k\",\"tag_list\":\"Motivacional Quotes,Words Quotes,Wise Words,Best Quotes,Motivational Sayings,Reminder Quotes,Popular Quotes,Inspirational Sayings About Life,Hang On Quotes\",\"is_image_or_video\":\"image\",\"image_src\":\"https://i.pinimg.com/originals/a0/f2/ef/a0f2eff818509c88015c4e216c663ad4.jpg\",\"downloaded\":1,\"save_location\":\"Local save in /data/quotes\",\"category\":\"quotes\"}</td></tr><tr><td>{\"index\":4931,\"unique_id\":\"ea1a895d-eb93-4e46-bad3-aa2ed586d28a\",\"title\":\"Small Business Packaging Ideas for Small Business Owners - Business Branding Ideas - Package Orders\",\"description\":\"No description available Story format\",\"poster_name\":\"The Boss Depot\",\"follower_count\":\"319\",\"tag_list\":\"Small Business Help,Best Small Business Ideas,Successful Business Tips,Business Advice,Small Business Marketing,Business Branding,Business Planner,Marketing Ideas,Small Business Organization\",\"is_image_or_video\":\"multi-video(story page format)\",\"image_src\":\"https://i.pinimg.com/videos/thumbnails/originals/90/29/16/90291635d804620c99729e4a7eeaa1e1.0000001.jpg\",\"downloaded\":1,\"save_location\":\"Local save in /data/event-planning\",\"category\":\"event-planning\"}</td></tr><tr><td>{\"index\":7446,\"unique_id\":\"2f11aedc-b67b-4f61-82ab-457ca66c72a8\",\"title\":\"Korean Men Wool Blends Coats Overcoat Male Winter Warm Clothes Wool Outwear Long Black White Plaid Blends Male Coat Plus Size - Dark Grey / XXL / China\",\"description\":\"Brand Name: NoEnName_NullMaterial: PolyesterOrigin: CN(Origin)Applicable Season: Autumn And WinterApplicable Scene: BANQUETStyle: CasualSleeve Length(cm): FullSleeve Style: Regu… \",\"poster_name\":\"Fkjie\",\"follower_count\":\"662\",\"tag_list\":\"Ramses,Black Coat Outfit,Man's Overcoat,Black Overcoat,Fashion Casual,Fashion Men,Men Winter Fashion,Herren Winter,Outfits Hombre\",\"is_image_or_video\":\"image\",\"image_src\":\"https://i.pinimg.com/originals/dd/c5/4f/ddc54f1ae810704dd7d1dbd0c3cbd361.jpg\",\"downloaded\":1,\"save_location\":\"Local save in /data/mens-fashion\",\"category\":\"mens-fashion\"}</td></tr><tr><td>{\"index\":10524,\"unique_id\":\"df3510fe-4c3d-4035-982c-2b5e53e21c59\",\"title\":\"Lamborghini Urus\",\"description\":\"Lamborghini Urus\",\"poster_name\":\"Cars Zone\",\"follower_count\":\"134k\",\"tag_list\":\"Dream Cars,My Dream Car,Lambo Truck,Top Luxury Cars,Lux Cars,Pretty Cars,Car Goals,Photo Couple,Future Car\",\"is_image_or_video\":\"image\",\"image_src\":\"https://i.pinimg.com/originals/bf/56/bc/bf56bcb24dcd3b8a720622a15222390c.jpg\",\"downloaded\":1,\"save_location\":\"Local save in /data/vehicles\",\"category\":\"vehicles\"}</td></tr><tr><td>{\"index\":2530,\"unique_id\":\"41162d03-a159-43dd-a10d-cb393d6c2007\",\"title\":\"20 Best DIY Ugly Christmas Sweater Ideas (Dresses/Outfits too)\",\"description\":\"20 DIY ugly christmas sweater and outfit ideas for an ugly sweater party! Ideas include homemade sweater ideas, dresses, outfits with friends, and more!\",\"poster_name\":\"Hairs Out of Place\",\"follower_count\":\"44k\",\"tag_list\":\"Couple Christmas,Christmas Style,Christmas Fun,Chicago Christmas,Christmas Scenes,Christmas Fashion,Outdoor Christmas,Diy Ugly Christmas Sweater,Ugly Sweater Party\",\"is_image_or_video\":\"image\",\"image_src\":\"https://i.pinimg.com/originals/a7/3a/ed/a73aed97b55b51881f59d864eaf6ac0c.jpg\",\"downloaded\":1,\"save_location\":\"Local save in /data/christmas\",\"category\":\"christmas\"}</td></tr><tr><td>{\"index\":4775,\"unique_id\":\"e1ade703-c9e8-4ed8-b960-f598a665f5ab\",\"title\":\"Seashell Napkin Rings - Satsuma Designs\",\"description\":\"Seashell Napkin Rings Seashells evoke summer to me and they're a great way to bring the summertime to any season when entertaining....\",\"poster_name\":\"Satsuma Designs | Make + Sew + Teach\",\"follower_count\":\"18k\",\"tag_list\":\"Moana Birthday Party,Girl Birthday,Birthday Parties,Summer Parties,Holiday Parties,Tea Parties,Nautical Wedding,Nautical Theme,Sea Side\",\"is_image_or_video\":\"image\",\"image_src\":\"https://i.pinimg.com/originals/cc/6c/10/cc6c104f0090def179e45bd99b021435.jpg\",\"downloaded\":1,\"save_location\":\"Local save in /data/event-planning\",\"category\":\"event-planning\"}</td></tr><tr><td>{\"index\":6770,\"unique_id\":\"8cfba8b2-229b-4255-a7f2-82f1a37d6445\",\"title\":\"Fashion clothing for men | Suits | Street Style |... - It was night that night.\",\"description\":\"mens work outfits #men'sbusinessoutfit #men's #business #outfit #mens #fashion\",\"poster_name\":\"Outfit Ideas HQ\",\"follower_count\":\"20k\",\"tag_list\":\"Smart Business Casual,Business Casual Attire For Men,Professional Attire,Preppy Mens Fashion,Mens Fashion Suits,Men's Fashion,Men's Casual Fashion,Fashion Ideas,Fashion Socks\",\"is_image_or_video\":\"image\",\"image_src\":\"https://i.pinimg.com/originals/af/de/b2/afdeb28ab1d9bcc07fd757d10c2446a9.jpg\",\"downloaded\":1,\"save_location\":\"Local save in /data/mens-fashion\",\"category\":\"mens-fashion\"}</td></tr><tr><td>{\"index\":5184,\"unique_id\":\"e49cdde3-f98e-41bc-a840-d94863de358a\",\"title\":\"12 Month Money Challenge\",\"description\":\"12 Month Money Challenge | He and She Eat Clean\",\"poster_name\":\"He and She Eat Clean\",\"follower_count\":\"88k\",\"tag_list\":\"Savings Challenge,Money Saving Challenge,Savings Plan,Money Saving Tips,Saving Ideas,Retirement Savings,Money Tips,Money Chart,Money Plan\",\"is_image_or_video\":\"image\",\"image_src\":\"https://i.pinimg.com/originals/02/c9/7e/02c97eff00aa1c1f518c5b2772565548.jpg\",\"downloaded\":1,\"save_location\":\"Local save in /data/finance\",\"category\":\"finance\"}</td></tr><tr><td>{\"index\":1537,\"unique_id\":\"beae025b-7a9b-4796-87cd-3b1c98c68c06\",\"title\":\"DIY Coffee Grounds Facial Scrub {Natural Beauty} - Creative Home Keeper\",\"description\":\"DIY Coffee Grounds Facial Scrub: Only 2 ingredients you probably already have in your pantry makes this not only simple and natural, but also quite frugal too! Your skin will th… \",\"poster_name\":\"Creative Home Keeper\",\"follower_count\":\"28k\",\"tag_list\":\"Beauty Care,Diy Beauty,Beauty Hacks,Face Beauty,Beauty Ideas,Beauty Tutorials,Luscious Hair,Home Remedies For Hair,Face Masks\",\"is_image_or_video\":\"image\",\"image_src\":\"https://i.pinimg.com/originals/62/4f/cb/624fcbe8dfec755ac2da7bb8a1468b6c.jpg\",\"downloaded\":1,\"save_location\":\"Local save in /data/beauty\",\"category\":\"beauty\"}</td></tr><tr><td>{\"index\":2090,\"unique_id\":\"db317dcf-d3b0-4ace-a95d-9a5208e45cd0\",\"title\":\"My favorite Christmas Trees of 2019!\",\"description\":\"For some beautiful Christmas Tree inspirations, stop by and see My Favorite Christmas Trees of 2019 for so many great ideas!\",\"poster_name\":\"Home with Holliday\",\"follower_count\":\"31k\",\"tag_list\":\"White Flocked Christmas Tree,Elegant Christmas Trees,Beautiful Christmas Decorations,Black Christmas,Christmas Tree Themes,Noel Christmas,Christmas Night,Christmas Tree With Feathers,Rustic Christmas\",\"is_image_or_video\":\"image\",\"image_src\":\"https://i.pinimg.com/originals/35/81/92/358192958420057003411c93a95a4041.jpg\",\"downloaded\":1,\"save_location\":\"Local save in /data/christmas\",\"category\":\"christmas\"}</td></tr><tr><td>{\"index\":1379,\"unique_id\":\"bdb0b6b9-e4cc-4dcd-8a49-47775501f12b\",\"title\":\"Here’s What Beauty Products People Are Buying On Amazon Right Now\",\"description\":\"Movers and Shakers is a list of products on Amazon that are currently rising up in the ranking. This week in beauty products: coconut lime scrubs and ~Wunderbrow~.\",\"poster_name\":\"BuzzFeed\",\"follower_count\":\"5M\",\"tag_list\":\"Beauty Blender Sponge,Makeup Blender,Beauty Sponge,Makeup Tools,Makeup Brushes,Makeup Sponges,Best Makeup Sponge,Aesthetica Cosmetics,Cream Contour\",\"is_image_or_video\":\"image\",\"image_src\":\"https://i.pinimg.com/originals/4a/a4/a1/4aa4a1879bdff0ebdf280cad3af2a45d.jpg\",\"downloaded\":1,\"save_location\":\"Local save in /data/beauty\",\"category\":\"beauty\"}</td></tr><tr><td>{\"index\":1301,\"unique_id\":\"c072a9aa-e65e-4932-a5fe-60d8a341c669\",\"title\":\"Custom Beauty | Individually Filled | Function of Beauty\",\"description\":\"Customized Skin Care, built just for you.\",\"poster_name\":\"Function of Beauty\",\"follower_count\":\"8k\",\"tag_list\":\"Skincare Packaging,Beauty Packaging,Face Skin Care,Diy Skin Care,Skin Care Tools,Beauty Care,Beauty Skin,Women's Beauty,Luxury Beauty\",\"is_image_or_video\":\"image\",\"image_src\":\"https://i.pinimg.com/originals/e9/64/b8/e964b82da8add27a9172946a0de64b30.jpg\",\"downloaded\":1,\"save_location\":\"Local save in /data/beauty\",\"category\":\"beauty\"}</td></tr><tr><td>{\"index\":660,\"unique_id\":\"7e2fdc90-4501-4da7-86fa-263c7311b49a\",\"title\":\"36 DIY Canvas Painting Ideas\",\"description\":\"Easy painting ideas for those blank walls of yours? Try our 36 DIY canvas painting ideas for homemade wall art for the bedroom, living room, kitchen, home.\",\"poster_name\":\"DIY Joy - Crafts, Home Improvement, Decor & Recipes\",\"follower_count\":\"985k\",\"tag_list\":\"Simple Wall Art,Diy Wall Art,Diy Art,Abstract Ocean Painting,Creative Arts And Crafts,Ocean Scenes,Adult Crafts,Ocean Crafts For Teens,Arts And Crafts For Adults\",\"is_image_or_video\":\"image\",\"image_src\":\"https://i.pinimg.com/originals/9c/4c/7e/9c4c7ecbc1bdc3bf0be8e3c7db5ad8ab.jpg\",\"downloaded\":1,\"save_location\":\"Local save in /data/art\",\"category\":\"art\"}</td></tr><tr><td>{\"index\":3285,\"unique_id\":\"45aa124d-a7e6-4a3f-a434-fd59284abed9\",\"title\":\"A Beaded Snowflake Craft for Kids: Math & Fine Motor Activity\",\"description\":\"This beaded snowflake ornament craft for kids is a great winter project that provides opportunities to work on fine motor skills and number sense. I want to show you a cute wint… \",\"poster_name\":\"Early Learning Ideas\",\"follower_count\":\"50k\",\"tag_list\":\"Winter Activities For Kids,Holiday Crafts For Kids,Craft Activities,Winter Toddler Crafts,Winter Preschool Crafts,Winter Crafts For Preschoolers,Frozen Activities,Hand Crafts For Kids,Holiday Fine Motor Activities\",\"is_image_or_video\":\"image\",\"image_src\":\"https://i.pinimg.com/originals/f4/28/f5/f428f54127770cfb2c347feefad5b5ea.png\",\"downloaded\":1,\"save_location\":\"Local save in /data/diy-and-crafts\",\"category\":\"diy-and-crafts\"}</td></tr><tr><td>{\"index\":9969,\"unique_id\":\"c48eaf84-76ae-4c93-88b4-cd20aeca11e2\",\"title\":\"15 Fairytale Travel Destinations You HAVE To See\",\"description\":\"These places look like they have been taken right out of a fairy tale! Check out the best fairy tale travel destinations in the world!\",\"poster_name\":\"Avenly Lane Travel blog | Travel Inspiration | Beautiful Places\",\"follower_count\":\"91k\",\"tag_list\":\"Ville France,Reisen In Europa,Voyage Europe,Destination Voyage,Destination Wedding,Travel Goals,Travel Tips,Travel Hacks,Travel Bag\",\"is_image_or_video\":\"image\",\"image_src\":\"https://i.pinimg.com/originals/4d/16/72/4d1672aa76345e0d7e6120c394b650d0.jpg\",\"downloaded\":1,\"save_location\":\"Local save in /data/travel\",\"category\":\"travel\"}</td></tr><tr><td>{\"index\":857,\"unique_id\":\"445d2f86-1625-4e97-be3c-92474181d6f3\",\"title\":\"The Artists and the Elements- An Elementary Art Curriculum - The Kitchen Table Classroom\",\"description\":\"Study the art of Hokusai in this elementary art curriculum designed to combine the elements of art, art history, and fun, hands on projects!\",\"poster_name\":\"The Kitchen Table Classroom\",\"follower_count\":\"221k\",\"tag_list\":\"Art History Lessons,Art Lessons For Kids,History Projects,Curriculum Design,Art Curriculum,High School Art,Middle School Art,Documents D'art,Programme D'art\",\"is_image_or_video\":\"image\",\"image_src\":\"https://i.pinimg.com/originals/2c/65/c0/2c65c0694d0f5e4eb8fddcf8aff99321.png\",\"downloaded\":1,\"save_location\":\"Local save in /data/art\",\"category\":\"art\"}</td></tr><tr><td>{\"index\":10659,\"unique_id\":\"18b679e0-de84-41f5-9c6c-a5f1ce94e534\",\"title\":\"Armortruck Futuristic Armored SUV Concept | Cool Material\",\"description\":\"We’ve seen plenty of futuristic, apocalypse-ready vehicles over the years. Few of them compare to the share absurdity of the Armortruck Futuristic Armored SUV Concept from Bulga… \",\"poster_name\":\"Cool Material\",\"follower_count\":\"36k\",\"tag_list\":\"Chevrolet Blazer,Chevrolet Suv,Armored Truck,Futuristic Cars,Batmobile,Armored Vehicles,Suv Vehicles,Army Vehicles,Koenigsegg\",\"is_image_or_video\":\"image\",\"image_src\":\"https://i.pinimg.com/originals/ce/7d/0c/ce7d0ce4aa352e7d7bf3dc14913eb2cd.jpg\",\"downloaded\":1,\"save_location\":\"Local save in /data/vehicles\",\"category\":\"vehicles\"}</td></tr><tr><td>{\"index\":8309,\"unique_id\":\"986289d5-eeab-4324-ae16-5b1b2e8b89f0\",\"title\":\"2017: Grow\",\"description\":\"Grow is my word of the year for 2017 - both in my business and in my family life, as we go through big changes this year.\",\"poster_name\":\"Evolution of Style\",\"follower_count\":\"47k\",\"tag_list\":\"Great Quotes,Quotes To Live By,Me Quotes,Motivational Quotes,Inspirational Quotes,Quotes Images,Food Quotes,Positive Quotes,Cool Life Quotes\",\"is_image_or_video\":\"image\",\"image_src\":\"https://i.pinimg.com/originals/db/91/ce/db91ceeff8a4e9feb489e7b46f452624.jpg\",\"downloaded\":1,\"save_location\":\"Local save in /data/quotes\",\"category\":\"quotes\"}</td></tr><tr><td>{\"index\":9267,\"unique_id\":\"309c68ce-323c-42b8-9568-9e60b6aa32be\",\"title\":\"165 Best Tattoo Ideas For Women 2021\",\"description\":\"Looking for some tattoo inspiration? We have put together the best tattoo ideas for women that are amazing in design and meaning.\",\"poster_name\":\"TheTrendSpotter\",\"follower_count\":\"211k\",\"tag_list\":\"Dainty Tattoos,Pretty Tattoos,Mini Tattoos,Unique Tattoos,Cute Tattoos,Small Tattoos,Tribal Heart Tattoos,Tatoos,Finger Tattoos\",\"is_image_or_video\":\"image\",\"image_src\":\"https://i.pinimg.com/originals/60/b1/a2/60b1a2800dfecd36e7cfbb99da3f7aa4.jpg\",\"downloaded\":1,\"save_location\":\"Local save in /data/tattoos\",\"category\":\"tattoos\"}</td></tr></tbody></table></div>"
      ]
     },
     "metadata": {
      "application/vnd.databricks.v1+output": {
       "addedWidgets": {},
       "aggData": [],
       "aggError": "",
       "aggOverflow": false,
       "aggSchema": [],
       "aggSeriesLimitReached": false,
       "aggType": "",
       "arguments": {},
       "columnCustomDisplayInfos": {},
       "data": [
        [
         "{\"index\":8255,\"unique_id\":\"eaa198cd-1ff1-4a47-b086-69be38a7af6c\",\"title\":\"Spirituality\",\"description\":\"Spirituality. What is spirituality? you might ask. For a very long time, people of all different ethnic backgrounds have tried to define what the word spirituality is about. I'v… \",\"poster_name\":\"Lourence\",\"follower_count\":\"65\",\"tag_list\":\"Now Quotes,Life Quotes Love,True Quotes,Great Quotes,Quotes To Live By,Motivational Quotes,Inspirational Quotes,Funny Quotes,People Quotes\",\"is_image_or_video\":\"image\",\"image_src\":\"https://i.pinimg.com/originals/db/79/2c/db792cfadbdd4c8ace88bbeabef12c38.jpg\",\"downloaded\":1,\"save_location\":\"Local save in /data/quotes\",\"category\":\"quotes\"}"
        ],
        [
         "{\"index\":9721,\"unique_id\":\"943d2b55-2ed3-45a7-a80f-03b0d149da8c\",\"title\":\"10 essential travel tips for Rome: A must read for first time visitors\",\"description\":\"Michele is sharing her top travel tips and travel hacks for Rome. She's shared lots of simple insider travel tips to make your trip to Rome easier. These Rome travel tips will s… \",\"poster_name\":\"Brooke Kissler\",\"follower_count\":\"179\",\"tag_list\":\"Travel Goals,Travel Advice,Travel Guides,Travel Hacks,Freedom Travel,Italy Travel Tips,Rome Travel,Paris Travel,Travel Europe\",\"is_image_or_video\":\"image\",\"image_src\":\"https://i.pinimg.com/originals/aa/9c/77/aa9c77c831c9e6e7fbd6a828e8efec35.png\",\"downloaded\":1,\"save_location\":\"Local save in /data/travel\",\"category\":\"travel\"}"
        ],
        [
         "{\"index\":1626,\"unique_id\":\"d6ab80c8-3819-42ee-8a17-3e5cb564d38f\",\"title\":\"DIY No More Oily Skin - Budget Savvy Diva\",\"description\":\"Other Great Tips! How to Remove Grease and Oil From Clothing How to Make Fabric Softener Sheets How to Clean a Toilet with Coke Use Mayonnaise to Remove Water Marks on Wood DIY… \",\"poster_name\":\"Budget Savvy Diva\",\"follower_count\":\"384k\",\"tag_list\":\"Skin Tips,Skin Care Tips,Beauty Secrets,Beauty Hacks,Beauty Ideas,Beauty Products,Beauty Care,Hair Beauty,Do It Yourself Fashion\",\"is_image_or_video\":\"image\",\"image_src\":\"https://i.pinimg.com/originals/98/eb/79/98eb797d7ea6de9e48471841fff6a0a8.jpg\",\"downloaded\":1,\"save_location\":\"Local save in /data/beauty\",\"category\":\"beauty\"}"
        ],
        [
         "{\"index\":3164,\"unique_id\":\"d603a766-5e05-4493-82b5-7155c95528a0\",\"title\":\"over 30 fun Christmas tree crafts for kids! - A girl and a glue gun\",\"description\":\"Fun Christmas tree crafts for kids to do! Window Tree Fingerprint Trees handprint Christmas trees Button trees Glitter hands paper mache\",\"poster_name\":\"Kimberly West (a girl and a glue gun)\",\"follower_count\":\"243k\",\"tag_list\":\"Handprint Christmas Tree,Cool Christmas Trees,Preschool Christmas,Toddler Christmas,Christmas Activities,Tree Handprint,Xmas Tree,Christmas Christmas,Classroom Christmas Decor\",\"is_image_or_video\":\"image\",\"image_src\":\"https://i.pinimg.com/originals/3f/78/5a/3f785af07e9bfbaacad4331a1e57a971.jpg\",\"downloaded\":1,\"save_location\":\"Local save in /data/diy-and-crafts\",\"category\":\"diy-and-crafts\"}"
        ],
        [
         "{\"index\":2952,\"unique_id\":\"59decdeb-6a42-4ddb-afcf-712719d85367\",\"title\":\"Handprint Joy Keepsake Craft For The Holidays\",\"description\":\"We hoping to spread so much crafty JOY with our latest tutorial! Today's Handprint Joy Keepsake Printable post, is perfect to make in honor of the\",\"poster_name\":\"Glued To My Crafts\",\"follower_count\":\"226k\",\"tag_list\":\"Christmas Art Projects,Christmas Arts And Crafts,Christmas Crafts For Toddlers,Winter Crafts For Kids,Toddler Christmas,Christmas Crafts For Kindergarteners,Christmas Tree,Christmas Decor,Christmas Handprint Crafts\",\"is_image_or_video\":\"image\",\"image_src\":\"https://i.pinimg.com/originals/5e/90/22/5e9022c20b4a0422bd989be5da9e97c1.jpg\",\"downloaded\":1,\"save_location\":\"Local save in /data/diy-and-crafts\",\"category\":\"diy-and-crafts\"}"
        ],
        [
         "{\"index\":6813,\"unique_id\":\"632ac3ec-c018-4266-ade7-95d232d6c935\",\"title\":\"No Title Data Available\",\"description\":\"No description available Story format\",\"poster_name\":\"User Info Error\",\"follower_count\":\"User Info Error\",\"tag_list\":\"N,o, ,T,a,g,s, ,A,v,a,i,l,a,b,l,e\",\"is_image_or_video\":\"multi-video(story page format)\",\"image_src\":\"Image src error.\",\"downloaded\":0,\"save_location\":\"Local save in /data/mens-fashion\",\"category\":\"mens-fashion\"}"
        ],
        [
         "{\"index\":867,\"unique_id\":\"a56691d1-f302-4b54-9bb7-93afa29331f1\",\"title\":\"How to Use the Rule of Thirds\",\"description\":\"How to improve a paintings using just four lines? I’m sharing one of my favorite strategies to make strong compositions - The Rule of Thirds.\",\"poster_name\":\"Mary Bentz Gilkerson: Artist+Teacher\",\"follower_count\":\"34k\",\"tag_list\":\"Acrylic Painting Lessons,Acrylic Painting Techniques,Painting Videos,Art Techniques,Painting & Drawing,Drawing Tips,Oil Painting Tips,Acrylic Art,Learn Art\",\"is_image_or_video\":\"image\",\"image_src\":\"https://i.pinimg.com/originals/c3/34/d2/c334d23c28c23ecdeeafdb0a6a3c3835.jpg\",\"downloaded\":1,\"save_location\":\"Local save in /data/art\",\"category\":\"art\"}"
        ],
        [
         "{\"index\":4500,\"unique_id\":\"197405a0-21ba-4f01-8e35-f98395c489cc\",\"title\":\"How to Work From Home as an Event Planner\",\"description\":\"Do you love planning parties? Do you want to work-at-home? This post covers everything you need to know about becoming a home-based event planner!\",\"poster_name\":\"The Work at Home Woman\",\"follower_count\":\"110k\",\"tag_list\":\"Event Planning Quotes,Event Planning Checklist,Planning Budget,Event Planning Business,Wedding Planning Tips,Party Planning,Business Ideas,Event Ideas,Wedding Advice\",\"is_image_or_video\":\"image\",\"image_src\":\"https://i.pinimg.com/originals/33/79/43/33794391313d094103b20eb01f5aa49f.jpg\",\"downloaded\":1,\"save_location\":\"Local save in /data/event-planning\",\"category\":\"event-planning\"}"
        ],
        [
         "{\"index\":7073,\"unique_id\":\"0621d967-86d0-49b4-9374-68ee59059154\",\"title\":\"TENDÊNCIAS NA MODA MASCULINA VERÃO 2020\",\"description\":\"Tu veux utiliser cette image en mode transparent pour le deposer sur n'importe quel plan?Découvre comment rendre cette images transparente avec des contours. Clique sur l'image… \",\"poster_name\":\"Ecole du Net\",\"follower_count\":\"2k\",\"tag_list\":\"Cool Outfits For Men,Stylish Mens Outfits,Sporty Outfits,Urban Outfits,Mode Outfits,Stylish Clothes For Men,Girl Outfits,Grunge Outfits,Outfit Ideas For Guys\",\"is_image_or_video\":\"image\",\"image_src\":\"https://i.pinimg.com/originals/c5/24/6f/c5246f79a1f1febc2b2ab2541cd92d49.png\",\"downloaded\":1,\"save_location\":\"Local save in /data/mens-fashion\",\"category\":\"mens-fashion\"}"
        ],
        [
         "{\"index\":6374,\"unique_id\":\"991cfb8f-d972-4cc9-b2aa-1cb66e94b355\",\"title\":\"Farmhouse Easter Vignettes Home Tour\",\"description\":\"Farmhouse Easter Vignettes Home Tour\",\"poster_name\":\"The Painted Hinge\",\"follower_count\":\"55k\",\"tag_list\":\"Country Farmhouse Decor,French Country Decorating,Farmhouse Design,Modern Farmhouse,Vintage Farmhouse Decor,Farmhouse Style,Farmhouse Ideas,Cottage Farmhouse,Antique Farmhouse\",\"is_image_or_video\":\"image\",\"image_src\":\"https://i.pinimg.com/originals/85/71/de/8571decd7793d8c4f23f2970e2708b73.jpg\",\"downloaded\":1,\"save_location\":\"Local save in /data/home-decor\",\"category\":\"home-decor\"}"
        ],
        [
         "{\"index\":10904,\"unique_id\":\"0ef85377-31a7-42e9-a275-69f78f2ffc63\",\"title\":\"Search: 10 results found for \\\"heart steering wheel \\\"\",\"description\":\"Tokyo Tom's Automotive Parts and Accessories for Sports, Drift and JDM Enthusiasts. Over 20,000 auto parts and accessories direct to you at the best possible prices. Follow us f… \",\"poster_name\":\"Kay𖨆\",\"follower_count\":\"301\",\"tag_list\":\"Miata Car,Mazda Miata,Dream Cars,My Dream Car,Pretty Cars,Cute Cars,Pink Car Accessories,Girly Car,Rims For Cars\",\"is_image_or_video\":\"image\",\"image_src\":\"https://i.pinimg.com/originals/18/3d/9c/183d9ce9fbd5082fbad72f4119a23482.jpg\",\"downloaded\":1,\"save_location\":\"Local save in /data/vehicles\",\"category\":\"vehicles\"}"
        ],
        [
         "{\"index\":3717,\"unique_id\":\"186482b4-00e0-4229-bc2c-fadb1921ea2e\",\"title\":\"The Leading Edge of Early Childhood Education : Linking Science to Policy for a New Generation (Paperback)\",\"description\":\"The Leading Edge of Early Childhood Education aims to support the effort to simultaneously scale up and improve the quality of early childhood education by bringing together rel… \",\"poster_name\":\"Walmart\",\"follower_count\":\"2M\",\"tag_list\":\"Term Life,Use Of Technology,Emotional Development,Learning Environments,Early Childhood Education,Effort,Insight,Scale,Science\",\"is_image_or_video\":\"image\",\"image_src\":\"https://i.pinimg.com/originals/81/b8/3e/81b83e687c82c45984a5e4282e960b19.jpg\",\"downloaded\":1,\"save_location\":\"Local save in /data/education\",\"category\":\"education\"}"
        ],
        [
         "{\"index\":10253,\"unique_id\":\"cab8a53e-40e1-4324-9e25-9b339ade9fd2\",\"title\":\"Romantic Travel Destinations For Adventurous Couples - Society19\",\"description\":\"Romantic travel destinations shouldn't be limited to Florida beaches and relaxing resorts. Celebrate your next anniversary or just get away with the person you love by having a… \",\"poster_name\":\"SOCIETY19\",\"follower_count\":\"1M\",\"tag_list\":\"Places To Travel,Travel Destinations,Places To Visit,Romantic Destinations,Africa Destinations,Romantic Vacations,Travel Pictures,Travel Photos,Honeymoon Pictures\",\"is_image_or_video\":\"image\",\"image_src\":\"https://i.pinimg.com/originals/37/82/eb/3782eb7bc424afa46e5325642f7e3a5c.jpg\",\"downloaded\":1,\"save_location\":\"Local save in /data/travel\",\"category\":\"travel\"}"
        ],
        [
         "{\"index\":4983,\"unique_id\":\"15bf1a80-b2ff-47bf-9137-5ba26f1a17dd\",\"title\":\"kytica saténová - výsledky vyhľadávania\",\"description\":\"kytica saténová - výsledky vyhľadávania od slovenských tvorcov, remeselníkov, umelcov a návrhárov. Lokálne výrobky od domácich autorov.\",\"poster_name\":\"SAShE.sk\",\"follower_count\":\"92k\",\"tag_list\":\"Fountain Wedding Cakes,Care Bears Vintage,Betta Fish Types,Best Sugar Cookies,Event Planning Business,Color Psychology,Crewel Embroidery,Blessed Mother,Wedding Bouquets\",\"is_image_or_video\":\"image\",\"image_src\":\"https://i.pinimg.com/originals/aa/1e/4d/aa1e4d9f57fe2cfaf2cd529276c7526a.jpg\",\"downloaded\":1,\"save_location\":\"Local save in /data/event-planning\",\"category\":\"event-planning\"}"
        ],
        [
         "{\"index\":5566,\"unique_id\":\"2ebe1964-767d-40e7-a274-71294045b048\",\"title\":\"11 simple steps to help you pay off any kind of debt\",\"description\":\"Take it from people who have been there.\",\"poster_name\":\"Elizabeth Leigh\",\"follower_count\":\"406\",\"tag_list\":\"Illustration Simple,Pay Off Mortgage Early,Paying Off Credit Cards,Mortgage Tips,Refinance Mortgage,Mortgage Calculator,Mortgage Estimator,Mortgage Humor,Mortgage Payment\",\"is_image_or_video\":\"image\",\"image_src\":\"https://i.pinimg.com/originals/e9/6d/4d/e96d4dc5f4175a1633294a0d016387df.jpg\",\"downloaded\":1,\"save_location\":\"Local save in /data/finance\",\"category\":\"finance\"}"
        ],
        [
         "{\"index\":4482,\"unique_id\":\"8489479d-b91b-46b8-8088-b29958cd2503\",\"title\":\"4 Tips for Booking your First Client without a Portfolio (2021) - EVENT PLANNING CERTIFICATE\",\"description\":\"Today I'm sharing four simple strategies event planners can use right now to book your first paying client without a portfolio.\",\"poster_name\":\"Jody-Ann Rowe | Marketing Coach for Wedding Professionals\",\"follower_count\":\"884\",\"tag_list\":\"Event Planning Template,Event Planning Quotes,Event Planning Checklist,Event Planning Business,Event Planning Design,Party Planning,Wedding Planning,Wedding Ideas,Business Ideas\",\"is_image_or_video\":\"image\",\"image_src\":\"https://i.pinimg.com/originals/6d/ec/c5/6decc533f545a95eed6536640f419c1c.png\",\"downloaded\":1,\"save_location\":\"Local save in /data/event-planning\",\"category\":\"event-planning\"}"
        ],
        [
         "{\"index\":4651,\"unique_id\":\"98e74286-2d52-4c2f-87e8-0e5ac249a308\",\"title\":\"Beautiful Princess | Etsy\",\"description\":\"This is a really beautiful princess invitation ideal to your next important day The invitation come with withe envelopes or a cellophane bag We don't sell just one invitation we… \",\"poster_name\":\"Rachelle DeBoue\",\"follower_count\":\"19\",\"tag_list\":\"Quince Invitations,Butterfly Invitations,Princess Invitations,Baptism Invitations,Pink Invitations,Invitation Cards,Wedding Invitations,Invitations Quinceanera,Quinceanera Planning\",\"is_image_or_video\":\"image\",\"image_src\":\"https://i.pinimg.com/originals/8c/2e/85/8c2e85387255f86569cdc73c33e89ee1.jpg\",\"downloaded\":1,\"save_location\":\"Local save in /data/event-planning\",\"category\":\"event-planning\"}"
        ],
        [
         "{\"index\":9567,\"unique_id\":\"75b3e4a0-31e6-40e9-83e1-1bcc87c7ae7f\",\"title\":\"The Solo Female Traveler's Guide to Iceland • The Blonde Abroad\",\"description\":\"I could rave all day about Iceland—in addition to being safe, it’s natural wonders are truly amazing. Here is my solo female traveler's guide to Iceland!\",\"poster_name\":\"The Blonde Abroad\",\"follower_count\":\"123k\",\"tag_list\":\"Guide To Iceland,Iceland Travel Tips,Solo Travel Tips,Travel Packing,Europe Packing,Traveling Europe,Backpacking Europe,Packing Lists,Air Travel\",\"is_image_or_video\":\"image\",\"image_src\":\"https://i.pinimg.com/originals/05/09/34/050934de78f82252c7dfc89af21c4321.jpg\",\"downloaded\":1,\"save_location\":\"Local save in /data/travel\",\"category\":\"travel\"}"
        ],
        [
         "{\"index\":6633,\"unique_id\":\"d136f6bc-840d-44f8-bbad-115eb7e6c51e\",\"title\":\"The Cottage Journal on Instagram: “Can you say color?! 😍😍😍 We are loving the cheery vibes that these aqua blue cabinets are giving. If you could paint your cabinets any…”\",\"description\":\"6,636 Likes, 141 Comments - The Cottage Journal (@thecottagejournal) on Instagram: “Can you say color?! 😍😍😍 We are loving the cheery vibes that these aqua blue cabinets are g… \",\"poster_name\":\"Sarah Martin\",\"follower_count\":\"394\",\"tag_list\":\"Diy Kitchen Cabinets,Kitchen Redo,Home Decor Kitchen,New Kitchen,Home Kitchens,Kitchen Remodeling,Aqua Kitchen,Kitchen Counters,Kitchen Islands\",\"is_image_or_video\":\"image\",\"image_src\":\"https://i.pinimg.com/originals/8c/17/a2/8c17a257b70780480bb89c3699363144.jpg\",\"downloaded\":1,\"save_location\":\"Local save in /data/home-decor\",\"category\":\"home-decor\"}"
        ],
        [
         "{\"index\":10912,\"unique_id\":\"13d7053a-0dfb-4249-98e7-774cad35c564\",\"title\":\"Shelby GT500 Mustang\",\"description\":\"Shelby GT500 First Drive - Most Powerful Street-Legal Ford Ever\",\"poster_name\":\"ManTripping\",\"follower_count\":\"22k\",\"tag_list\":\"Ford Mustang Shelby Gt500,Mustang Cobra,Ford Gt500,Ford Shelby,Auto Poster,Shelby Gt 500,Ford Mustang Wallpaper,Street Racing Cars,Ford Classic Cars\",\"is_image_or_video\":\"image\",\"image_src\":\"https://i.pinimg.com/originals/d0/e8/ef/d0e8ef5fdb3eee67dcf260cd5f648580.jpg\",\"downloaded\":1,\"save_location\":\"Local save in /data/vehicles\",\"category\":\"vehicles\"}"
        ],
        [
         "{\"index\":10500,\"unique_id\":\"d559762f-ead9-4914-97d0-c226ad016826\",\"title\":\"CREDITS: jbalwaysfresh\",\"description\":\"No description available Story format\",\"poster_name\":\"ForYou\",\"follower_count\":\"2k\",\"tag_list\":\"Fast Sports Cars,Exotic Sports Cars,Luxury Sports Cars,Weird Cars,Cool Cars,Strange Cars,Crazy Cars,E36 Coupe,Best Jdm Cars\",\"is_image_or_video\":\"multi-video(story page format)\",\"image_src\":\"https://i.pinimg.com/videos/thumbnails/originals/37/22/fa/3722fa11e34a785bd7546103da3a291c.0000001.jpg\",\"downloaded\":1,\"save_location\":\"Local save in /data/vehicles\",\"category\":\"vehicles\"}"
        ],
        [
         "{\"index\":6309,\"unique_id\":\"f0e84d26-ee34-44bd-bd93-783c56616e60\",\"title\":\"70 Fall Farmhouse Decor Ideas » Lady Decluttered\",\"description\":\"Need some neutral fall farmhouse decor ideas? We found the best decorating ideas from the front porch, livings room, and even the bedroom!\",\"poster_name\":\"Lady Decluttered | Decluttering, Organizing, & Simple Living Tips\",\"follower_count\":\"88k\",\"tag_list\":\"Country Decor,Farmhouse Decor,Farmhouse Ideas,Home Living Room,Living Room Decor,Fall Room Decor,Fall Entryway Decor,Deco Design,Autumn Home\",\"is_image_or_video\":\"image\",\"image_src\":\"https://i.pinimg.com/originals/0d/c0/16/0dc016230f5c6a7712d16283e199b9b3.jpg\",\"downloaded\":1,\"save_location\":\"Local save in /data/home-decor\",\"category\":\"home-decor\"}"
        ],
        [
         "{\"index\":10097,\"unique_id\":\"14fba170-01a3-4584-a2d8-48884101cea6\",\"title\":\"11 Best Places In The Netherlands To Visit\",\"description\":\"11 Best Places In The Netherlands To Visit - Hand Luggage Only - Travel, Food & Photography Blog #travel\",\"poster_name\":\"Hand Luggage Only\",\"follower_count\":\"459k\",\"tag_list\":\"Travel Photography Tumblr,Photography Beach,Food Photography,Canon Photography,Amsterdam Photography,Photography Equipment,Tumblr Travel,Scenery Photography,Adventure Photography\",\"is_image_or_video\":\"image\",\"image_src\":\"https://i.pinimg.com/originals/5c/a7/05/5ca70597aef1f45bb4b8dab4b81bb830.jpg\",\"downloaded\":1,\"save_location\":\"Local save in /data/travel\",\"category\":\"travel\"}"
        ],
        [
         "{\"index\":6671,\"unique_id\":\"4cd9f203-5a1d-43d0-9f2f-5ae29fe8b461\",\"title\":\"Striped Coffin Shelf\",\"description\":\"This Striped Coffin Shelf is perfect for showcasing your most prized possessions. Thanks to the black and white striped backing, you can now better showcase darker objects and a… \",\"poster_name\":\"Witching Hour Baby\",\"follower_count\":\"262\",\"tag_list\":\"Dark Home Decor,Goth Home Decor,Goth Bedroom,Gothic Bedroom Decor,Gothic Room,Beetlejuice Halloween,Gothic House,Coffin,Room Inspiration\",\"is_image_or_video\":\"image\",\"image_src\":\"https://i.pinimg.com/originals/e4/a6/c0/e4a6c0dd07e418e6a3be9c79cb6a17a7.png\",\"downloaded\":1,\"save_location\":\"Local save in /data/home-decor\",\"category\":\"home-decor\"}"
        ],
        [
         "{\"index\":6849,\"unique_id\":\"cc37c836-b2f3-4f1e-b8fd-da1a83bbc200\",\"title\":\"Chêne Du Paris\",\"description\":\"Chêne du Paris creates exquisitely handcrafted leather shoes for men that let their individualism shine through their modern, exclusive, and timeless style. We inspire to help y… \",\"poster_name\":\"CHRISTIAN CHÊNE\",\"follower_count\":\"3k\",\"tag_list\":\"Stylish Mens Fashion,Stylish Mens Outfits,Men Fashion,Fashion Ideas,Fashion Clothes,Fashion Shirts,Man Winter Fashion,Man Clothes Style,Fashion Spring\",\"is_image_or_video\":\"image\",\"image_src\":\"https://i.pinimg.com/originals/8c/4f/aa/8c4faa790f7e8ad924ab464b708acf11.jpg\",\"downloaded\":1,\"save_location\":\"Local save in /data/mens-fashion\",\"category\":\"mens-fashion\"}"
        ],
        [
         "{\"index\":3359,\"unique_id\":\"4899e069-d6f4-42aa-ba5c-576e9680c44b\",\"title\":\"The Complete Guide to Sharpie Mugs - with Simple Designs and Ideas\",\"description\":\"Find out how to make Sharpie mugs that won't wash away! Also, get some fun design ideas that are so simple a kid can do it. Includes baking temperature,\",\"poster_name\":\"Jasmine | Feeling Nifty | Acrylic Painting Tutorials, Ideas &More\",\"follower_count\":\"48k\",\"tag_list\":\"Valentine Day Crafts,Xmas Crafts,Fun Crafts,Simple Crafts,Simple Craft Ideas,Kids Valentines,Tape Crafts,Diy Arts And Crafts,Decor Crafts\",\"is_image_or_video\":\"image\",\"image_src\":\"https://i.pinimg.com/originals/cb/4b/b4/cb4bb4d11dd6e158155a975d48191516.png\",\"downloaded\":1,\"save_location\":\"Local save in /data/diy-and-crafts\",\"category\":\"diy-and-crafts\"}"
        ],
        [
         "{\"index\":3175,\"unique_id\":\"6458726f-1a86-4cb1-b29f-224d3d767ffb\",\"title\":\"Gingerbread House Craft for Kids\",\"description\":\"This gingerbread house craft is perfect for the month of December. It works well as an at-home craft, or as part of your gingerbread activities for Kindergarten or first grade.… \",\"poster_name\":\"The Printable Princess\",\"follower_count\":\"52k\",\"tag_list\":\"Preschool Christmas Crafts,Christmas Arts And Crafts,Kindergarten Crafts,Daycare Crafts,Winter Crafts For Kids,Christmas Activities For Kids,Preschool Crafts,Kids Christmas,Holiday Crafts\",\"is_image_or_video\":\"image\",\"image_src\":\"https://i.pinimg.com/originals/30/06/87/300687a63b3654b74eae1ad31981c620.jpg\",\"downloaded\":1,\"save_location\":\"Local save in /data/diy-and-crafts\",\"category\":\"diy-and-crafts\"}"
        ],
        [
         "{\"index\":250,\"unique_id\":\"8bf6d8fb-6f21-4d8c-86ff-3e3572875dee\",\"title\":\"Beautiful Souls Healing With Art: Holly Irwin - Hello Lovely\",\"description\":\"Come tour paintings and art work of celebrated Atlanta artist, Holly Irwin in Beautiful Souls Healing With Art: Holly Irwin.\",\"poster_name\":\"Hello Lovely\",\"follower_count\":\"115k\",\"tag_list\":\"Art Sketches,Art Drawings,Animal Drawings,Art Amour,Fine Art,Fine Fine,Beautiful Soul,Hello Beautiful,Pebble Art\",\"is_image_or_video\":\"image\",\"image_src\":\"https://i.pinimg.com/originals/60/25/2b/60252bca459d301010f903d0e77fd6d6.jpg\",\"downloaded\":1,\"save_location\":\"Local save in /data/art\",\"category\":\"art\"}"
        ],
        [
         "{\"index\":5566,\"unique_id\":\"2ebe1964-767d-40e7-a274-71294045b048\",\"title\":\"11 simple steps to help you pay off any kind of debt\",\"description\":\"Take it from people who have been there.\",\"poster_name\":\"Elizabeth Leigh\",\"follower_count\":\"406\",\"tag_list\":\"Illustration Simple,Pay Off Mortgage Early,Paying Off Credit Cards,Mortgage Tips,Refinance Mortgage,Mortgage Calculator,Mortgage Estimator,Mortgage Humor,Mortgage Payment\",\"is_image_or_video\":\"image\",\"image_src\":\"https://i.pinimg.com/originals/e9/6d/4d/e96d4dc5f4175a1633294a0d016387df.jpg\",\"downloaded\":1,\"save_location\":\"Local save in /data/finance\",\"category\":\"finance\"}"
        ],
        [
         "{\"index\":2715,\"unique_id\":\"e26c5ef8-97cf-47ff-9aef-dfe41ea54ecc\",\"title\":\"Make a Popsicle Stick Snowman Craft this Christmas\",\"description\":\"This Popsicle Stick Snowman is one of the easiest crafts you can make this Christmas! Perfect Stocking Stuffer, Christmas Craft & Ornament!\",\"poster_name\":\"ArtsyCraftsyMom | Art, Craft & DIY ideas\",\"follower_count\":\"229k\",\"tag_list\":\"Popsicle Stick Christmas Crafts,Christmas Crafts For Toddlers,Christmas Crafts To Make,Winter Crafts For Kids,Preschool Christmas,Christmas Ornament Crafts,Snowman Crafts,Craft Stick Crafts,Toddler Crafts\",\"is_image_or_video\":\"image\",\"image_src\":\"https://i.pinimg.com/originals/84/fd/5e/84fd5e0e9e25b7310aab4c5fd8149fa0.jpg\",\"downloaded\":1,\"save_location\":\"Local save in /data/diy-and-crafts\",\"category\":\"diy-and-crafts\"}"
        ],
        [
         "{\"index\":7648,\"unique_id\":\"961ead2e-3c58-42cf-9b56-85d190c0f8dd\",\"title\":\"House stuff. | Mix & Match Mama\",\"description\":\"…honestly, the whole staircase seems very overwhelming right now, so I just keep taking it one step at a time.\",\"poster_name\":\"Mix and Match Mama\",\"follower_count\":\"103k\",\"tag_list\":\"Motivacional Quotes,Words Quotes,Wise Words,Best Quotes,Motivational Sayings,Reminder Quotes,Popular Quotes,Inspirational Sayings About Life,Hang On Quotes\",\"is_image_or_video\":\"image\",\"image_src\":\"https://i.pinimg.com/originals/a0/f2/ef/a0f2eff818509c88015c4e216c663ad4.jpg\",\"downloaded\":1,\"save_location\":\"Local save in /data/quotes\",\"category\":\"quotes\"}"
        ],
        [
         "{\"index\":4931,\"unique_id\":\"ea1a895d-eb93-4e46-bad3-aa2ed586d28a\",\"title\":\"Small Business Packaging Ideas for Small Business Owners - Business Branding Ideas - Package Orders\",\"description\":\"No description available Story format\",\"poster_name\":\"The Boss Depot\",\"follower_count\":\"319\",\"tag_list\":\"Small Business Help,Best Small Business Ideas,Successful Business Tips,Business Advice,Small Business Marketing,Business Branding,Business Planner,Marketing Ideas,Small Business Organization\",\"is_image_or_video\":\"multi-video(story page format)\",\"image_src\":\"https://i.pinimg.com/videos/thumbnails/originals/90/29/16/90291635d804620c99729e4a7eeaa1e1.0000001.jpg\",\"downloaded\":1,\"save_location\":\"Local save in /data/event-planning\",\"category\":\"event-planning\"}"
        ],
        [
         "{\"index\":7446,\"unique_id\":\"2f11aedc-b67b-4f61-82ab-457ca66c72a8\",\"title\":\"Korean Men Wool Blends Coats Overcoat Male Winter Warm Clothes Wool Outwear Long Black White Plaid Blends Male Coat Plus Size - Dark Grey / XXL / China\",\"description\":\"Brand Name: NoEnName_NullMaterial: PolyesterOrigin: CN(Origin)Applicable Season: Autumn And WinterApplicable Scene: BANQUETStyle: CasualSleeve Length(cm): FullSleeve Style: Regu… \",\"poster_name\":\"Fkjie\",\"follower_count\":\"662\",\"tag_list\":\"Ramses,Black Coat Outfit,Man's Overcoat,Black Overcoat,Fashion Casual,Fashion Men,Men Winter Fashion,Herren Winter,Outfits Hombre\",\"is_image_or_video\":\"image\",\"image_src\":\"https://i.pinimg.com/originals/dd/c5/4f/ddc54f1ae810704dd7d1dbd0c3cbd361.jpg\",\"downloaded\":1,\"save_location\":\"Local save in /data/mens-fashion\",\"category\":\"mens-fashion\"}"
        ],
        [
         "{\"index\":10524,\"unique_id\":\"df3510fe-4c3d-4035-982c-2b5e53e21c59\",\"title\":\"Lamborghini Urus\",\"description\":\"Lamborghini Urus\",\"poster_name\":\"Cars Zone\",\"follower_count\":\"134k\",\"tag_list\":\"Dream Cars,My Dream Car,Lambo Truck,Top Luxury Cars,Lux Cars,Pretty Cars,Car Goals,Photo Couple,Future Car\",\"is_image_or_video\":\"image\",\"image_src\":\"https://i.pinimg.com/originals/bf/56/bc/bf56bcb24dcd3b8a720622a15222390c.jpg\",\"downloaded\":1,\"save_location\":\"Local save in /data/vehicles\",\"category\":\"vehicles\"}"
        ],
        [
         "{\"index\":2530,\"unique_id\":\"41162d03-a159-43dd-a10d-cb393d6c2007\",\"title\":\"20 Best DIY Ugly Christmas Sweater Ideas (Dresses/Outfits too)\",\"description\":\"20 DIY ugly christmas sweater and outfit ideas for an ugly sweater party! Ideas include homemade sweater ideas, dresses, outfits with friends, and more!\",\"poster_name\":\"Hairs Out of Place\",\"follower_count\":\"44k\",\"tag_list\":\"Couple Christmas,Christmas Style,Christmas Fun,Chicago Christmas,Christmas Scenes,Christmas Fashion,Outdoor Christmas,Diy Ugly Christmas Sweater,Ugly Sweater Party\",\"is_image_or_video\":\"image\",\"image_src\":\"https://i.pinimg.com/originals/a7/3a/ed/a73aed97b55b51881f59d864eaf6ac0c.jpg\",\"downloaded\":1,\"save_location\":\"Local save in /data/christmas\",\"category\":\"christmas\"}"
        ],
        [
         "{\"index\":4775,\"unique_id\":\"e1ade703-c9e8-4ed8-b960-f598a665f5ab\",\"title\":\"Seashell Napkin Rings - Satsuma Designs\",\"description\":\"Seashell Napkin Rings Seashells evoke summer to me and they're a great way to bring the summertime to any season when entertaining....\",\"poster_name\":\"Satsuma Designs | Make + Sew + Teach\",\"follower_count\":\"18k\",\"tag_list\":\"Moana Birthday Party,Girl Birthday,Birthday Parties,Summer Parties,Holiday Parties,Tea Parties,Nautical Wedding,Nautical Theme,Sea Side\",\"is_image_or_video\":\"image\",\"image_src\":\"https://i.pinimg.com/originals/cc/6c/10/cc6c104f0090def179e45bd99b021435.jpg\",\"downloaded\":1,\"save_location\":\"Local save in /data/event-planning\",\"category\":\"event-planning\"}"
        ],
        [
         "{\"index\":6770,\"unique_id\":\"8cfba8b2-229b-4255-a7f2-82f1a37d6445\",\"title\":\"Fashion clothing for men | Suits | Street Style |... - It was night that night.\",\"description\":\"mens work outfits #men'sbusinessoutfit #men's #business #outfit #mens #fashion\",\"poster_name\":\"Outfit Ideas HQ\",\"follower_count\":\"20k\",\"tag_list\":\"Smart Business Casual,Business Casual Attire For Men,Professional Attire,Preppy Mens Fashion,Mens Fashion Suits,Men's Fashion,Men's Casual Fashion,Fashion Ideas,Fashion Socks\",\"is_image_or_video\":\"image\",\"image_src\":\"https://i.pinimg.com/originals/af/de/b2/afdeb28ab1d9bcc07fd757d10c2446a9.jpg\",\"downloaded\":1,\"save_location\":\"Local save in /data/mens-fashion\",\"category\":\"mens-fashion\"}"
        ],
        [
         "{\"index\":5184,\"unique_id\":\"e49cdde3-f98e-41bc-a840-d94863de358a\",\"title\":\"12 Month Money Challenge\",\"description\":\"12 Month Money Challenge | He and She Eat Clean\",\"poster_name\":\"He and She Eat Clean\",\"follower_count\":\"88k\",\"tag_list\":\"Savings Challenge,Money Saving Challenge,Savings Plan,Money Saving Tips,Saving Ideas,Retirement Savings,Money Tips,Money Chart,Money Plan\",\"is_image_or_video\":\"image\",\"image_src\":\"https://i.pinimg.com/originals/02/c9/7e/02c97eff00aa1c1f518c5b2772565548.jpg\",\"downloaded\":1,\"save_location\":\"Local save in /data/finance\",\"category\":\"finance\"}"
        ],
        [
         "{\"index\":1537,\"unique_id\":\"beae025b-7a9b-4796-87cd-3b1c98c68c06\",\"title\":\"DIY Coffee Grounds Facial Scrub {Natural Beauty} - Creative Home Keeper\",\"description\":\"DIY Coffee Grounds Facial Scrub: Only 2 ingredients you probably already have in your pantry makes this not only simple and natural, but also quite frugal too! Your skin will th… \",\"poster_name\":\"Creative Home Keeper\",\"follower_count\":\"28k\",\"tag_list\":\"Beauty Care,Diy Beauty,Beauty Hacks,Face Beauty,Beauty Ideas,Beauty Tutorials,Luscious Hair,Home Remedies For Hair,Face Masks\",\"is_image_or_video\":\"image\",\"image_src\":\"https://i.pinimg.com/originals/62/4f/cb/624fcbe8dfec755ac2da7bb8a1468b6c.jpg\",\"downloaded\":1,\"save_location\":\"Local save in /data/beauty\",\"category\":\"beauty\"}"
        ],
        [
         "{\"index\":2090,\"unique_id\":\"db317dcf-d3b0-4ace-a95d-9a5208e45cd0\",\"title\":\"My favorite Christmas Trees of 2019!\",\"description\":\"For some beautiful Christmas Tree inspirations, stop by and see My Favorite Christmas Trees of 2019 for so many great ideas!\",\"poster_name\":\"Home with Holliday\",\"follower_count\":\"31k\",\"tag_list\":\"White Flocked Christmas Tree,Elegant Christmas Trees,Beautiful Christmas Decorations,Black Christmas,Christmas Tree Themes,Noel Christmas,Christmas Night,Christmas Tree With Feathers,Rustic Christmas\",\"is_image_or_video\":\"image\",\"image_src\":\"https://i.pinimg.com/originals/35/81/92/358192958420057003411c93a95a4041.jpg\",\"downloaded\":1,\"save_location\":\"Local save in /data/christmas\",\"category\":\"christmas\"}"
        ],
        [
         "{\"index\":1379,\"unique_id\":\"bdb0b6b9-e4cc-4dcd-8a49-47775501f12b\",\"title\":\"Here’s What Beauty Products People Are Buying On Amazon Right Now\",\"description\":\"Movers and Shakers is a list of products on Amazon that are currently rising up in the ranking. This week in beauty products: coconut lime scrubs and ~Wunderbrow~.\",\"poster_name\":\"BuzzFeed\",\"follower_count\":\"5M\",\"tag_list\":\"Beauty Blender Sponge,Makeup Blender,Beauty Sponge,Makeup Tools,Makeup Brushes,Makeup Sponges,Best Makeup Sponge,Aesthetica Cosmetics,Cream Contour\",\"is_image_or_video\":\"image\",\"image_src\":\"https://i.pinimg.com/originals/4a/a4/a1/4aa4a1879bdff0ebdf280cad3af2a45d.jpg\",\"downloaded\":1,\"save_location\":\"Local save in /data/beauty\",\"category\":\"beauty\"}"
        ],
        [
         "{\"index\":1301,\"unique_id\":\"c072a9aa-e65e-4932-a5fe-60d8a341c669\",\"title\":\"Custom Beauty | Individually Filled | Function of Beauty\",\"description\":\"Customized Skin Care, built just for you.\",\"poster_name\":\"Function of Beauty\",\"follower_count\":\"8k\",\"tag_list\":\"Skincare Packaging,Beauty Packaging,Face Skin Care,Diy Skin Care,Skin Care Tools,Beauty Care,Beauty Skin,Women's Beauty,Luxury Beauty\",\"is_image_or_video\":\"image\",\"image_src\":\"https://i.pinimg.com/originals/e9/64/b8/e964b82da8add27a9172946a0de64b30.jpg\",\"downloaded\":1,\"save_location\":\"Local save in /data/beauty\",\"category\":\"beauty\"}"
        ],
        [
         "{\"index\":660,\"unique_id\":\"7e2fdc90-4501-4da7-86fa-263c7311b49a\",\"title\":\"36 DIY Canvas Painting Ideas\",\"description\":\"Easy painting ideas for those blank walls of yours? Try our 36 DIY canvas painting ideas for homemade wall art for the bedroom, living room, kitchen, home.\",\"poster_name\":\"DIY Joy - Crafts, Home Improvement, Decor & Recipes\",\"follower_count\":\"985k\",\"tag_list\":\"Simple Wall Art,Diy Wall Art,Diy Art,Abstract Ocean Painting,Creative Arts And Crafts,Ocean Scenes,Adult Crafts,Ocean Crafts For Teens,Arts And Crafts For Adults\",\"is_image_or_video\":\"image\",\"image_src\":\"https://i.pinimg.com/originals/9c/4c/7e/9c4c7ecbc1bdc3bf0be8e3c7db5ad8ab.jpg\",\"downloaded\":1,\"save_location\":\"Local save in /data/art\",\"category\":\"art\"}"
        ],
        [
         "{\"index\":3285,\"unique_id\":\"45aa124d-a7e6-4a3f-a434-fd59284abed9\",\"title\":\"A Beaded Snowflake Craft for Kids: Math & Fine Motor Activity\",\"description\":\"This beaded snowflake ornament craft for kids is a great winter project that provides opportunities to work on fine motor skills and number sense. I want to show you a cute wint… \",\"poster_name\":\"Early Learning Ideas\",\"follower_count\":\"50k\",\"tag_list\":\"Winter Activities For Kids,Holiday Crafts For Kids,Craft Activities,Winter Toddler Crafts,Winter Preschool Crafts,Winter Crafts For Preschoolers,Frozen Activities,Hand Crafts For Kids,Holiday Fine Motor Activities\",\"is_image_or_video\":\"image\",\"image_src\":\"https://i.pinimg.com/originals/f4/28/f5/f428f54127770cfb2c347feefad5b5ea.png\",\"downloaded\":1,\"save_location\":\"Local save in /data/diy-and-crafts\",\"category\":\"diy-and-crafts\"}"
        ],
        [
         "{\"index\":9969,\"unique_id\":\"c48eaf84-76ae-4c93-88b4-cd20aeca11e2\",\"title\":\"15 Fairytale Travel Destinations You HAVE To See\",\"description\":\"These places look like they have been taken right out of a fairy tale! Check out the best fairy tale travel destinations in the world!\",\"poster_name\":\"Avenly Lane Travel blog | Travel Inspiration | Beautiful Places\",\"follower_count\":\"91k\",\"tag_list\":\"Ville France,Reisen In Europa,Voyage Europe,Destination Voyage,Destination Wedding,Travel Goals,Travel Tips,Travel Hacks,Travel Bag\",\"is_image_or_video\":\"image\",\"image_src\":\"https://i.pinimg.com/originals/4d/16/72/4d1672aa76345e0d7e6120c394b650d0.jpg\",\"downloaded\":1,\"save_location\":\"Local save in /data/travel\",\"category\":\"travel\"}"
        ],
        [
         "{\"index\":857,\"unique_id\":\"445d2f86-1625-4e97-be3c-92474181d6f3\",\"title\":\"The Artists and the Elements- An Elementary Art Curriculum - The Kitchen Table Classroom\",\"description\":\"Study the art of Hokusai in this elementary art curriculum designed to combine the elements of art, art history, and fun, hands on projects!\",\"poster_name\":\"The Kitchen Table Classroom\",\"follower_count\":\"221k\",\"tag_list\":\"Art History Lessons,Art Lessons For Kids,History Projects,Curriculum Design,Art Curriculum,High School Art,Middle School Art,Documents D'art,Programme D'art\",\"is_image_or_video\":\"image\",\"image_src\":\"https://i.pinimg.com/originals/2c/65/c0/2c65c0694d0f5e4eb8fddcf8aff99321.png\",\"downloaded\":1,\"save_location\":\"Local save in /data/art\",\"category\":\"art\"}"
        ],
        [
         "{\"index\":10659,\"unique_id\":\"18b679e0-de84-41f5-9c6c-a5f1ce94e534\",\"title\":\"Armortruck Futuristic Armored SUV Concept | Cool Material\",\"description\":\"We’ve seen plenty of futuristic, apocalypse-ready vehicles over the years. Few of them compare to the share absurdity of the Armortruck Futuristic Armored SUV Concept from Bulga… \",\"poster_name\":\"Cool Material\",\"follower_count\":\"36k\",\"tag_list\":\"Chevrolet Blazer,Chevrolet Suv,Armored Truck,Futuristic Cars,Batmobile,Armored Vehicles,Suv Vehicles,Army Vehicles,Koenigsegg\",\"is_image_or_video\":\"image\",\"image_src\":\"https://i.pinimg.com/originals/ce/7d/0c/ce7d0ce4aa352e7d7bf3dc14913eb2cd.jpg\",\"downloaded\":1,\"save_location\":\"Local save in /data/vehicles\",\"category\":\"vehicles\"}"
        ],
        [
         "{\"index\":8309,\"unique_id\":\"986289d5-eeab-4324-ae16-5b1b2e8b89f0\",\"title\":\"2017: Grow\",\"description\":\"Grow is my word of the year for 2017 - both in my business and in my family life, as we go through big changes this year.\",\"poster_name\":\"Evolution of Style\",\"follower_count\":\"47k\",\"tag_list\":\"Great Quotes,Quotes To Live By,Me Quotes,Motivational Quotes,Inspirational Quotes,Quotes Images,Food Quotes,Positive Quotes,Cool Life Quotes\",\"is_image_or_video\":\"image\",\"image_src\":\"https://i.pinimg.com/originals/db/91/ce/db91ceeff8a4e9feb489e7b46f452624.jpg\",\"downloaded\":1,\"save_location\":\"Local save in /data/quotes\",\"category\":\"quotes\"}"
        ],
        [
         "{\"index\":9267,\"unique_id\":\"309c68ce-323c-42b8-9568-9e60b6aa32be\",\"title\":\"165 Best Tattoo Ideas For Women 2021\",\"description\":\"Looking for some tattoo inspiration? We have put together the best tattoo ideas for women that are amazing in design and meaning.\",\"poster_name\":\"TheTrendSpotter\",\"follower_count\":\"211k\",\"tag_list\":\"Dainty Tattoos,Pretty Tattoos,Mini Tattoos,Unique Tattoos,Cute Tattoos,Small Tattoos,Tribal Heart Tattoos,Tatoos,Finger Tattoos\",\"is_image_or_video\":\"image\",\"image_src\":\"https://i.pinimg.com/originals/60/b1/a2/60b1a2800dfecd36e7cfbb99da3f7aa4.jpg\",\"downloaded\":1,\"save_location\":\"Local save in /data/tattoos\",\"category\":\"tattoos\"}"
        ]
       ],
       "datasetInfos": [],
       "dbfsResultPath": null,
       "isJsonSchema": true,
       "metadata": {},
       "overflow": false,
       "plotOptions": {
        "customPlotOptions": {},
        "displayType": "table",
        "pivotAggregation": null,
        "pivotColumns": null,
        "xColumns": null,
        "yColumns": null
       },
       "removedWidgets": [],
       "schema": [
        {
         "metadata": "{}",
         "name": "data",
         "type": "\"string\""
        }
       ],
       "type": "table"
      }
     },
     "output_type": "display_data"
    }
   ],
   "source": [
    "df_pin = df_pin.selectExpr(\"CAST(data as STRING)\")\n",
    "display(df_pin)"
   ]
  },
  {
   "cell_type": "code",
   "execution_count": null,
   "metadata": {
    "application/vnd.databricks.v1+cell": {
     "cellMetadata": {
      "byteLimit": 2048000,
      "rowLimit": 10000
     },
     "inputWidgets": {},
     "nuid": "c3355aaa-890a-404e-a113-eba3c73e3018",
     "showTitle": false,
     "title": ""
    }
   },
   "outputs": [
    {
     "data": {
      "text/html": [
       "<style scoped>\n",
       "  .ansiout {\n",
       "    display: block;\n",
       "    unicode-bidi: embed;\n",
       "    white-space: pre-wrap;\n",
       "    word-wrap: break-word;\n",
       "    word-break: break-all;\n",
       "    font-family: \"Menlo\", \"Monaco\", \"Consolas\", \"Ubuntu Mono\", \"Source Code Pro\", monospace;\n",
       "    font-size: 13px;\n",
       "    color: #555;\n",
       "    margin-left: 4px;\n",
       "    line-height: 19px;\n",
       "  }\n",
       "</style>\n",
       "<div class=\"ansiout\"></div>"
      ]
     },
     "metadata": {
      "application/vnd.databricks.v1+output": {
       "addedWidgets": {},
       "arguments": {},
       "data": "<div class=\"ansiout\"></div>",
       "datasetInfos": [],
       "metadata": {},
       "removedWidgets": [],
       "type": "html"
      }
     },
     "output_type": "display_data"
    }
   ],
   "source": [
    "df_geo = spark \\\n",
    ".readStream \\\n",
    ".format('kinesis') \\\n",
    ".option('streamName','streaming-0e06e68acedb-geo') \\\n",
    ".option('initialPosition','latest') \\\n",
    ".option('region','us-east-1') \\\n",
    ".option('awsAccessKey', ACCESS_KEY) \\\n",
    ".option('awsSecretKey', SECRET_KEY) \\\n",
    ".load()"
   ]
  },
  {
   "cell_type": "code",
   "execution_count": null,
   "metadata": {
    "application/vnd.databricks.v1+cell": {
     "cellMetadata": {
      "byteLimit": 2048000,
      "rowLimit": 10000
     },
     "inputWidgets": {},
     "nuid": "1ff7297a-3bd7-4766-b9f8-49cd2d583d48",
     "showTitle": false,
     "title": ""
    }
   },
   "outputs": [
    {
     "data": {
      "text/html": [
       "<style scoped>\n",
       "  .table-result-container {\n",
       "    max-height: 300px;\n",
       "    overflow: auto;\n",
       "  }\n",
       "  table, th, td {\n",
       "    border: 1px solid black;\n",
       "    border-collapse: collapse;\n",
       "  }\n",
       "  th, td {\n",
       "    padding: 5px;\n",
       "  }\n",
       "  th {\n",
       "    text-align: left;\n",
       "  }\n",
       "</style><div class='table-result-container'><table class='table-result'><thead style='background-color: white'><tr><th>data</th></tr></thead><tbody><tr><td>{\"ind\":9721,\"timestamp\":\"2021-11-06 19:42:39\",\"latitude\":-17.4568,\"longitude\":-148.686,\"country\":\"Singapore\"}</td></tr><tr><td>{\"ind\":1626,\"timestamp\":\"2020-09-23 10:43:02\",\"latitude\":-58.448,\"longitude\":-104.059,\"country\":\"Tokelau\"}</td></tr><tr><td>{\"ind\":3164,\"timestamp\":\"2018-04-25 18:32:49\",\"latitude\":-44.6381,\"longitude\":82.124,\"country\":\"Bolivia\"}</td></tr><tr><td>{\"ind\":2952,\"timestamp\":\"2019-04-03 08:24:44\",\"latitude\":-79.2535,\"longitude\":-170.409,\"country\":\"Chad\"}</td></tr><tr><td>{\"ind\":6813,\"timestamp\":\"2019-03-28 09:34:06\",\"latitude\":-89.9787,\"longitude\":-173.293,\"country\":\"Albania\"}</td></tr><tr><td>{\"ind\":867,\"timestamp\":\"2020-10-06 15:34:55\",\"latitude\":43.8747,\"longitude\":-54.895,\"country\":\"Lesotho\"}</td></tr><tr><td>{\"ind\":4500,\"timestamp\":\"2020-09-12 03:16:36\",\"latitude\":-84.3768,\"longitude\":-157.544,\"country\":\"Aruba\"}</td></tr><tr><td>{\"ind\":7073,\"timestamp\":\"2021-12-23 13:56:14\",\"latitude\":-33.9813,\"longitude\":-128.525,\"country\":\"Madagascar\"}</td></tr><tr><td>{\"ind\":6374,\"timestamp\":\"2020-05-14 22:42:45\",\"latitude\":-76.5909,\"longitude\":-153.068,\"country\":\"Congo\"}</td></tr><tr><td>{\"ind\":10904,\"timestamp\":\"2017-11-17 03:50:33\",\"latitude\":64.0854,\"longitude\":35.3199,\"country\":\"Romania\"}</td></tr><tr><td>{\"ind\":3717,\"timestamp\":\"2019-05-20 06:15:42\",\"latitude\":-88.5478,\"longitude\":-174.971,\"country\":\"Afghanistan\"}</td></tr><tr><td>{\"ind\":10253,\"timestamp\":\"2018-03-07 12:37:25\",\"latitude\":-89.3669,\"longitude\":-170.886,\"country\":\"Azerbaijan\"}</td></tr><tr><td>{\"ind\":4983,\"timestamp\":\"2022-10-16 23:45:36\",\"latitude\":-8.61001,\"longitude\":57.615,\"country\":\"India\"}</td></tr><tr><td>{\"ind\":5566,\"timestamp\":\"2021-02-17 18:10:11\",\"latitude\":-72.7358,\"longitude\":67.9857,\"country\":\"Egypt\"}</td></tr><tr><td>{\"ind\":4482,\"timestamp\":\"2020-04-14 23:57:05\",\"latitude\":-79.0427,\"longitude\":-174.242,\"country\":\"Bermuda\"}</td></tr><tr><td>{\"ind\":4651,\"timestamp\":\"2020-05-06 16:03:39\",\"latitude\":42.3157,\"longitude\":-56.7178,\"country\":\"Cocos (Keeling) Islands\"}</td></tr><tr><td>{\"ind\":9567,\"timestamp\":\"2021-09-02 20:30:15\",\"latitude\":-60.4206,\"longitude\":-116.385,\"country\":\"Cameroon\"}</td></tr><tr><td>{\"ind\":6633,\"timestamp\":\"2018-09-02 10:13:09\",\"latitude\":86.8189,\"longitude\":-91.7252,\"country\":\"Guyana\"}</td></tr><tr><td>{\"ind\":10912,\"timestamp\":\"2019-12-11 00:03:39\",\"latitude\":-89.3302,\"longitude\":-60.6105,\"country\":\"Armenia\"}</td></tr><tr><td>{\"ind\":10500,\"timestamp\":\"2019-06-16 10:28:02\",\"latitude\":-84.9984,\"longitude\":155.706,\"country\":\"Philippines\"}</td></tr><tr><td>{\"ind\":6309,\"timestamp\":\"2022-10-14 19:53:00\",\"latitude\":-28.9498,\"longitude\":-165.807,\"country\":\"Anguilla\"}</td></tr><tr><td>{\"ind\":10097,\"timestamp\":\"2021-09-24 16:28:48\",\"latitude\":-74.7055,\"longitude\":-177.87,\"country\":\"Algeria\"}</td></tr><tr><td>{\"ind\":6671,\"timestamp\":\"2019-06-19 07:38:50\",\"latitude\":-38.5336,\"longitude\":63.0323,\"country\":\"Armenia\"}</td></tr><tr><td>{\"ind\":6849,\"timestamp\":\"2019-11-13 13:26:28\",\"latitude\":15.771,\"longitude\":161.106,\"country\":\"Singapore\"}</td></tr><tr><td>{\"ind\":3359,\"timestamp\":\"2018-12-31 08:50:21\",\"latitude\":-64.984,\"longitude\":-117.531,\"country\":\"Aruba\"}</td></tr><tr><td>{\"ind\":3175,\"timestamp\":\"2021-12-08 02:58:18\",\"latitude\":-84.8365,\"longitude\":-122.171,\"country\":\"French Polynesia\"}</td></tr><tr><td>{\"ind\":250,\"timestamp\":\"2018-11-08 12:14:12\",\"latitude\":-84.4203,\"longitude\":-142.539,\"country\":\"France\"}</td></tr><tr><td>{\"ind\":5566,\"timestamp\":\"2021-02-17 18:10:11\",\"latitude\":-72.7358,\"longitude\":67.9857,\"country\":\"Egypt\"}</td></tr><tr><td>{\"ind\":2715,\"timestamp\":\"2021-12-29 12:18:25\",\"latitude\":-58.4025,\"longitude\":-168.097,\"country\":\"Albania\"}</td></tr><tr><td>{\"ind\":7648,\"timestamp\":\"2018-02-14 12:26:14\",\"latitude\":83.3604,\"longitude\":7.88083,\"country\":\"Madagascar\"}</td></tr><tr><td>{\"ind\":4931,\"timestamp\":\"2020-03-27 07:42:02\",\"latitude\":42.2143,\"longitude\":-45.0378,\"country\":\"Honduras\"}</td></tr><tr><td>{\"ind\":7446,\"timestamp\":\"2021-10-08 07:48:05\",\"latitude\":-79.3098,\"longitude\":-179.101,\"country\":\"Korea\"}</td></tr><tr><td>{\"ind\":10524,\"timestamp\":\"2022-02-09 07:36:35\",\"latitude\":-39.0782,\"longitude\":-177.418,\"country\":\"Guinea\"}</td></tr><tr><td>{\"ind\":2530,\"timestamp\":\"2018-08-21 22:40:24\",\"latitude\":-89.3675,\"longitude\":-157.004,\"country\":\"Albania\"}</td></tr><tr><td>{\"ind\":4775,\"timestamp\":\"2018-03-21 03:50:29\",\"latitude\":19.1474,\"longitude\":100.721,\"country\":\"Maldives\"}</td></tr><tr><td>{\"ind\":6770,\"timestamp\":\"2021-11-21 22:59:39\",\"latitude\":-58.8668,\"longitude\":44.9303,\"country\":\"Kenya\"}</td></tr><tr><td>{\"ind\":5184,\"timestamp\":\"2018-06-27 00:16:41\",\"latitude\":-14.7152,\"longitude\":-170.399,\"country\":\"Congo\"}</td></tr><tr><td>{\"ind\":1537,\"timestamp\":\"2017-12-15 13:53:57\",\"latitude\":43.6096,\"longitude\":-176.551,\"country\":\"Lebanon\"}</td></tr><tr><td>{\"ind\":2090,\"timestamp\":\"2020-01-10 22:22:33\",\"latitude\":78.1523,\"longitude\":0.381029,\"country\":\"Mayotte\"}</td></tr><tr><td>{\"ind\":1379,\"timestamp\":\"2018-05-26 03:05:20\",\"latitude\":-88.5252,\"longitude\":-172.436,\"country\":\"American Samoa\"}</td></tr><tr><td>{\"ind\":1301,\"timestamp\":\"2020-12-16 16:24:43\",\"latitude\":-20.2845,\"longitude\":-1.62035,\"country\":\"Lesotho\"}</td></tr><tr><td>{\"ind\":660,\"timestamp\":\"2021-06-01 23:24:07\",\"latitude\":-75.7662,\"longitude\":-171.892,\"country\":\"Afghanistan\"}</td></tr><tr><td>{\"ind\":3285,\"timestamp\":\"2022-07-26 17:05:09\",\"latitude\":-42.3946,\"longitude\":-149.855,\"country\":\"Azerbaijan\"}</td></tr><tr><td>{\"ind\":9969,\"timestamp\":\"2019-11-02 09:49:59\",\"latitude\":-85.0855,\"longitude\":-156.903,\"country\":\"Christmas Island\"}</td></tr><tr><td>{\"ind\":857,\"timestamp\":\"2021-12-28 23:31:43\",\"latitude\":-87.0574,\"longitude\":-164.826,\"country\":\"Bahamas\"}</td></tr><tr><td>{\"ind\":10659,\"timestamp\":\"2018-06-12 12:29:05\",\"latitude\":-87.6895,\"longitude\":-176.801,\"country\":\"Bulgaria\"}</td></tr><tr><td>{\"ind\":8309,\"timestamp\":\"2019-05-14 19:32:10\",\"latitude\":75.447,\"longitude\":62.1468,\"country\":\"United States of America\"}</td></tr><tr><td>{\"ind\":9267,\"timestamp\":\"2019-05-08 18:13:23\",\"latitude\":-83.104,\"longitude\":-171.302,\"country\":\"Aruba\"}</td></tr><tr><td>{\"ind\":10204,\"timestamp\":\"2020-04-06 02:56:29\",\"latitude\":-14.3257,\"longitude\":26.9087,\"country\":\"Svalbard & Jan Mayen Islands\"}</td></tr></tbody></table></div>"
      ]
     },
     "metadata": {
      "application/vnd.databricks.v1+output": {
       "addedWidgets": {},
       "aggData": [],
       "aggError": "",
       "aggOverflow": false,
       "aggSchema": [],
       "aggSeriesLimitReached": false,
       "aggType": "",
       "arguments": {},
       "columnCustomDisplayInfos": {},
       "data": [
        [
         "{\"ind\":9721,\"timestamp\":\"2021-11-06 19:42:39\",\"latitude\":-17.4568,\"longitude\":-148.686,\"country\":\"Singapore\"}"
        ],
        [
         "{\"ind\":1626,\"timestamp\":\"2020-09-23 10:43:02\",\"latitude\":-58.448,\"longitude\":-104.059,\"country\":\"Tokelau\"}"
        ],
        [
         "{\"ind\":3164,\"timestamp\":\"2018-04-25 18:32:49\",\"latitude\":-44.6381,\"longitude\":82.124,\"country\":\"Bolivia\"}"
        ],
        [
         "{\"ind\":2952,\"timestamp\":\"2019-04-03 08:24:44\",\"latitude\":-79.2535,\"longitude\":-170.409,\"country\":\"Chad\"}"
        ],
        [
         "{\"ind\":6813,\"timestamp\":\"2019-03-28 09:34:06\",\"latitude\":-89.9787,\"longitude\":-173.293,\"country\":\"Albania\"}"
        ],
        [
         "{\"ind\":867,\"timestamp\":\"2020-10-06 15:34:55\",\"latitude\":43.8747,\"longitude\":-54.895,\"country\":\"Lesotho\"}"
        ],
        [
         "{\"ind\":4500,\"timestamp\":\"2020-09-12 03:16:36\",\"latitude\":-84.3768,\"longitude\":-157.544,\"country\":\"Aruba\"}"
        ],
        [
         "{\"ind\":7073,\"timestamp\":\"2021-12-23 13:56:14\",\"latitude\":-33.9813,\"longitude\":-128.525,\"country\":\"Madagascar\"}"
        ],
        [
         "{\"ind\":6374,\"timestamp\":\"2020-05-14 22:42:45\",\"latitude\":-76.5909,\"longitude\":-153.068,\"country\":\"Congo\"}"
        ],
        [
         "{\"ind\":10904,\"timestamp\":\"2017-11-17 03:50:33\",\"latitude\":64.0854,\"longitude\":35.3199,\"country\":\"Romania\"}"
        ],
        [
         "{\"ind\":3717,\"timestamp\":\"2019-05-20 06:15:42\",\"latitude\":-88.5478,\"longitude\":-174.971,\"country\":\"Afghanistan\"}"
        ],
        [
         "{\"ind\":10253,\"timestamp\":\"2018-03-07 12:37:25\",\"latitude\":-89.3669,\"longitude\":-170.886,\"country\":\"Azerbaijan\"}"
        ],
        [
         "{\"ind\":4983,\"timestamp\":\"2022-10-16 23:45:36\",\"latitude\":-8.61001,\"longitude\":57.615,\"country\":\"India\"}"
        ],
        [
         "{\"ind\":5566,\"timestamp\":\"2021-02-17 18:10:11\",\"latitude\":-72.7358,\"longitude\":67.9857,\"country\":\"Egypt\"}"
        ],
        [
         "{\"ind\":4482,\"timestamp\":\"2020-04-14 23:57:05\",\"latitude\":-79.0427,\"longitude\":-174.242,\"country\":\"Bermuda\"}"
        ],
        [
         "{\"ind\":4651,\"timestamp\":\"2020-05-06 16:03:39\",\"latitude\":42.3157,\"longitude\":-56.7178,\"country\":\"Cocos (Keeling) Islands\"}"
        ],
        [
         "{\"ind\":9567,\"timestamp\":\"2021-09-02 20:30:15\",\"latitude\":-60.4206,\"longitude\":-116.385,\"country\":\"Cameroon\"}"
        ],
        [
         "{\"ind\":6633,\"timestamp\":\"2018-09-02 10:13:09\",\"latitude\":86.8189,\"longitude\":-91.7252,\"country\":\"Guyana\"}"
        ],
        [
         "{\"ind\":10912,\"timestamp\":\"2019-12-11 00:03:39\",\"latitude\":-89.3302,\"longitude\":-60.6105,\"country\":\"Armenia\"}"
        ],
        [
         "{\"ind\":10500,\"timestamp\":\"2019-06-16 10:28:02\",\"latitude\":-84.9984,\"longitude\":155.706,\"country\":\"Philippines\"}"
        ],
        [
         "{\"ind\":6309,\"timestamp\":\"2022-10-14 19:53:00\",\"latitude\":-28.9498,\"longitude\":-165.807,\"country\":\"Anguilla\"}"
        ],
        [
         "{\"ind\":10097,\"timestamp\":\"2021-09-24 16:28:48\",\"latitude\":-74.7055,\"longitude\":-177.87,\"country\":\"Algeria\"}"
        ],
        [
         "{\"ind\":6671,\"timestamp\":\"2019-06-19 07:38:50\",\"latitude\":-38.5336,\"longitude\":63.0323,\"country\":\"Armenia\"}"
        ],
        [
         "{\"ind\":6849,\"timestamp\":\"2019-11-13 13:26:28\",\"latitude\":15.771,\"longitude\":161.106,\"country\":\"Singapore\"}"
        ],
        [
         "{\"ind\":3359,\"timestamp\":\"2018-12-31 08:50:21\",\"latitude\":-64.984,\"longitude\":-117.531,\"country\":\"Aruba\"}"
        ],
        [
         "{\"ind\":3175,\"timestamp\":\"2021-12-08 02:58:18\",\"latitude\":-84.8365,\"longitude\":-122.171,\"country\":\"French Polynesia\"}"
        ],
        [
         "{\"ind\":250,\"timestamp\":\"2018-11-08 12:14:12\",\"latitude\":-84.4203,\"longitude\":-142.539,\"country\":\"France\"}"
        ],
        [
         "{\"ind\":5566,\"timestamp\":\"2021-02-17 18:10:11\",\"latitude\":-72.7358,\"longitude\":67.9857,\"country\":\"Egypt\"}"
        ],
        [
         "{\"ind\":2715,\"timestamp\":\"2021-12-29 12:18:25\",\"latitude\":-58.4025,\"longitude\":-168.097,\"country\":\"Albania\"}"
        ],
        [
         "{\"ind\":7648,\"timestamp\":\"2018-02-14 12:26:14\",\"latitude\":83.3604,\"longitude\":7.88083,\"country\":\"Madagascar\"}"
        ],
        [
         "{\"ind\":4931,\"timestamp\":\"2020-03-27 07:42:02\",\"latitude\":42.2143,\"longitude\":-45.0378,\"country\":\"Honduras\"}"
        ],
        [
         "{\"ind\":7446,\"timestamp\":\"2021-10-08 07:48:05\",\"latitude\":-79.3098,\"longitude\":-179.101,\"country\":\"Korea\"}"
        ],
        [
         "{\"ind\":10524,\"timestamp\":\"2022-02-09 07:36:35\",\"latitude\":-39.0782,\"longitude\":-177.418,\"country\":\"Guinea\"}"
        ],
        [
         "{\"ind\":2530,\"timestamp\":\"2018-08-21 22:40:24\",\"latitude\":-89.3675,\"longitude\":-157.004,\"country\":\"Albania\"}"
        ],
        [
         "{\"ind\":4775,\"timestamp\":\"2018-03-21 03:50:29\",\"latitude\":19.1474,\"longitude\":100.721,\"country\":\"Maldives\"}"
        ],
        [
         "{\"ind\":6770,\"timestamp\":\"2021-11-21 22:59:39\",\"latitude\":-58.8668,\"longitude\":44.9303,\"country\":\"Kenya\"}"
        ],
        [
         "{\"ind\":5184,\"timestamp\":\"2018-06-27 00:16:41\",\"latitude\":-14.7152,\"longitude\":-170.399,\"country\":\"Congo\"}"
        ],
        [
         "{\"ind\":1537,\"timestamp\":\"2017-12-15 13:53:57\",\"latitude\":43.6096,\"longitude\":-176.551,\"country\":\"Lebanon\"}"
        ],
        [
         "{\"ind\":2090,\"timestamp\":\"2020-01-10 22:22:33\",\"latitude\":78.1523,\"longitude\":0.381029,\"country\":\"Mayotte\"}"
        ],
        [
         "{\"ind\":1379,\"timestamp\":\"2018-05-26 03:05:20\",\"latitude\":-88.5252,\"longitude\":-172.436,\"country\":\"American Samoa\"}"
        ],
        [
         "{\"ind\":1301,\"timestamp\":\"2020-12-16 16:24:43\",\"latitude\":-20.2845,\"longitude\":-1.62035,\"country\":\"Lesotho\"}"
        ],
        [
         "{\"ind\":660,\"timestamp\":\"2021-06-01 23:24:07\",\"latitude\":-75.7662,\"longitude\":-171.892,\"country\":\"Afghanistan\"}"
        ],
        [
         "{\"ind\":3285,\"timestamp\":\"2022-07-26 17:05:09\",\"latitude\":-42.3946,\"longitude\":-149.855,\"country\":\"Azerbaijan\"}"
        ],
        [
         "{\"ind\":9969,\"timestamp\":\"2019-11-02 09:49:59\",\"latitude\":-85.0855,\"longitude\":-156.903,\"country\":\"Christmas Island\"}"
        ],
        [
         "{\"ind\":857,\"timestamp\":\"2021-12-28 23:31:43\",\"latitude\":-87.0574,\"longitude\":-164.826,\"country\":\"Bahamas\"}"
        ],
        [
         "{\"ind\":10659,\"timestamp\":\"2018-06-12 12:29:05\",\"latitude\":-87.6895,\"longitude\":-176.801,\"country\":\"Bulgaria\"}"
        ],
        [
         "{\"ind\":8309,\"timestamp\":\"2019-05-14 19:32:10\",\"latitude\":75.447,\"longitude\":62.1468,\"country\":\"United States of America\"}"
        ],
        [
         "{\"ind\":9267,\"timestamp\":\"2019-05-08 18:13:23\",\"latitude\":-83.104,\"longitude\":-171.302,\"country\":\"Aruba\"}"
        ],
        [
         "{\"ind\":10204,\"timestamp\":\"2020-04-06 02:56:29\",\"latitude\":-14.3257,\"longitude\":26.9087,\"country\":\"Svalbard & Jan Mayen Islands\"}"
        ]
       ],
       "datasetInfos": [],
       "dbfsResultPath": null,
       "isJsonSchema": true,
       "metadata": {
        "isDbfsCommandResult": false
       },
       "overflow": false,
       "plotOptions": {
        "customPlotOptions": {},
        "displayType": "table",
        "pivotAggregation": null,
        "pivotColumns": null,
        "xColumns": null,
        "yColumns": null
       },
       "removedWidgets": [],
       "schema": [
        {
         "metadata": "{}",
         "name": "data",
         "type": "\"string\""
        }
       ],
       "type": "table"
      }
     },
     "output_type": "display_data"
    }
   ],
   "source": [
    "df_geo = df_geo.selectExpr(\"CAST(data as STRING)\")\n",
    "\n",
    "display(df_geo)"
   ]
  },
  {
   "cell_type": "code",
   "execution_count": null,
   "metadata": {
    "application/vnd.databricks.v1+cell": {
     "cellMetadata": {
      "byteLimit": 2048000,
      "rowLimit": 10000
     },
     "inputWidgets": {},
     "nuid": "9795aecc-a3dd-487b-8cb3-43413ae271c5",
     "showTitle": false,
     "title": ""
    }
   },
   "outputs": [
    {
     "data": {
      "text/html": [
       "<style scoped>\n",
       "  .ansiout {\n",
       "    display: block;\n",
       "    unicode-bidi: embed;\n",
       "    white-space: pre-wrap;\n",
       "    word-wrap: break-word;\n",
       "    word-break: break-all;\n",
       "    font-family: \"Menlo\", \"Monaco\", \"Consolas\", \"Ubuntu Mono\", \"Source Code Pro\", monospace;\n",
       "    font-size: 13px;\n",
       "    color: #555;\n",
       "    margin-left: 4px;\n",
       "    line-height: 19px;\n",
       "  }\n",
       "</style>\n",
       "<div class=\"ansiout\"></div>"
      ]
     },
     "metadata": {
      "application/vnd.databricks.v1+output": {
       "addedWidgets": {},
       "arguments": {},
       "data": "<div class=\"ansiout\"></div>",
       "datasetInfos": [],
       "metadata": {},
       "removedWidgets": [],
       "type": "html"
      }
     },
     "output_type": "display_data"
    }
   ],
   "source": [
    "df_user = spark \\\n",
    ".readStream \\\n",
    ".format('kinesis') \\\n",
    ".option('streamName','streaming-0e06e68acedb-user') \\\n",
    ".option('initialPosition','latest') \\\n",
    ".option('region','us-east-1') \\\n",
    ".option('awsAccessKey', ACCESS_KEY) \\\n",
    ".option('awsSecretKey', SECRET_KEY) \\\n",
    ".load()"
   ]
  },
  {
   "cell_type": "code",
   "execution_count": null,
   "metadata": {
    "application/vnd.databricks.v1+cell": {
     "cellMetadata": {
      "byteLimit": 2048000,
      "rowLimit": 10000
     },
     "inputWidgets": {},
     "nuid": "7d15c156-da68-420c-b80f-ac4e29d37194",
     "showTitle": false,
     "title": ""
    }
   },
   "outputs": [
    {
     "data": {
      "text/html": [
       "<style scoped>\n",
       "  .table-result-container {\n",
       "    max-height: 300px;\n",
       "    overflow: auto;\n",
       "  }\n",
       "  table, th, td {\n",
       "    border: 1px solid black;\n",
       "    border-collapse: collapse;\n",
       "  }\n",
       "  th, td {\n",
       "    padding: 5px;\n",
       "  }\n",
       "  th {\n",
       "    text-align: left;\n",
       "  }\n",
       "</style><div class='table-result-container'><table class='table-result'><thead style='background-color: white'><tr><th>data</th></tr></thead><tbody><tr><td>{\"ind\":9721,\"first_name\":\"Debra\",\"last_name\":\"Jenkins\",\"age\":50,\"date_joined\":\"2016-02-03 06:04:15\"}</td></tr><tr><td>{\"ind\":1626,\"first_name\":\"Jennifer\",\"last_name\":\"Melton\",\"age\":39,\"date_joined\":\"2016-03-02 15:41:23\"}</td></tr><tr><td>{\"ind\":3164,\"first_name\":\"Cynthia\",\"last_name\":\"Harper\",\"age\":43,\"date_joined\":\"2016-01-23 05:44:11\"}</td></tr><tr><td>{\"ind\":2952,\"first_name\":\"Billy\",\"last_name\":\"Armstrong\",\"age\":22,\"date_joined\":\"2015-12-18 20:54:14\"}</td></tr><tr><td>{\"ind\":6813,\"first_name\":\"Abigail\",\"last_name\":\"Ali\",\"age\":20,\"date_joined\":\"2015-10-24 11:23:51\"}</td></tr><tr><td>{\"ind\":867,\"first_name\":\"Herbert\",\"last_name\":\"Sawyer\",\"age\":45,\"date_joined\":\"2016-07-27 15:08:03\"}</td></tr><tr><td>{\"ind\":4500,\"first_name\":\"Angela\",\"last_name\":\"Brooks\",\"age\":24,\"date_joined\":\"2015-11-20 05:37:11\"}</td></tr><tr><td>{\"ind\":7073,\"first_name\":\"Manuel\",\"last_name\":\"Ashley\",\"age\":55,\"date_joined\":\"2017-07-13 23:48:07\"}</td></tr><tr><td>{\"ind\":6374,\"first_name\":\"Brandon\",\"last_name\":\"Bender\",\"age\":21,\"date_joined\":\"2016-02-15 23:12:43\"}</td></tr><tr><td>{\"ind\":10904,\"first_name\":\"Deanna\",\"last_name\":\"Alexander\",\"age\":29,\"date_joined\":\"2016-04-04 18:49:31\"}</td></tr><tr><td>{\"ind\":3717,\"first_name\":\"Alexandria\",\"last_name\":\"Alvarado\",\"age\":20,\"date_joined\":\"2015-10-23 04:13:23\"}</td></tr><tr><td>{\"ind\":10253,\"first_name\":\"Aaron\",\"last_name\":\"Anderson\",\"age\":21,\"date_joined\":\"2015-10-23 03:43:54\"}</td></tr><tr><td>{\"ind\":4983,\"first_name\":\"John\",\"last_name\":\"Mueller\",\"age\":33,\"date_joined\":\"2017-04-28 12:34:25\"}</td></tr><tr><td>{\"ind\":5566,\"first_name\":\"Ashley\",\"last_name\":\"Anderson\",\"age\":32,\"date_joined\":\"2017-07-14 17:59:46\"}</td></tr><tr><td>{\"ind\":4482,\"first_name\":\"Amber\",\"last_name\":\"Blevins\",\"age\":20,\"date_joined\":\"2015-12-13 16:33:13\"}</td></tr><tr><td>{\"ind\":4651,\"first_name\":\"Charles\",\"last_name\":\"York\",\"age\":20,\"date_joined\":\"2016-12-20 21:37:01\"}</td></tr><tr><td>{\"ind\":9567,\"first_name\":\"Daniel\",\"last_name\":\"Dorsey\",\"age\":26,\"date_joined\":\"2016-05-30 04:59:21\"}</td></tr><tr><td>{\"ind\":6633,\"first_name\":\"James\",\"last_name\":\"Turner\",\"age\":47,\"date_joined\":\"2017-10-04 16:16:34\"}</td></tr><tr><td>{\"ind\":10912,\"first_name\":\"Valerie\",\"last_name\":\"Bryant\",\"age\":42,\"date_joined\":\"2016-08-01 22:44:34\"}</td></tr><tr><td>{\"ind\":10500,\"first_name\":\"Brooke\",\"last_name\":\"Vang\",\"age\":33,\"date_joined\":\"2016-12-09 20:16:49\"}</td></tr><tr><td>{\"ind\":6309,\"first_name\":\"Angela\",\"last_name\":\"Everett\",\"age\":23,\"date_joined\":\"2016-02-23 11:59:45\"}</td></tr><tr><td>{\"ind\":10097,\"first_name\":\"Alexandra\",\"last_name\":\"Austin\",\"age\":22,\"date_joined\":\"2015-11-06 05:05:43\"}</td></tr><tr><td>{\"ind\":6671,\"first_name\":\"Jessica\",\"last_name\":\"Long\",\"age\":47,\"date_joined\":\"2017-10-06 04:10:16\"}</td></tr><tr><td>{\"ind\":6849,\"first_name\":\"Jeffrey\",\"last_name\":\"Jones\",\"age\":54,\"date_joined\":\"2016-08-12 04:15:37\"}</td></tr><tr><td>{\"ind\":3359,\"first_name\":\"Abigail\",\"last_name\":\"Carter\",\"age\":21,\"date_joined\":\"2015-12-10 01:13:45\"}</td></tr><tr><td>{\"ind\":3175,\"first_name\":\"David\",\"last_name\":\"Bell\",\"age\":20,\"date_joined\":\"2016-04-15 17:11:11\"}</td></tr><tr><td>{\"ind\":250,\"first_name\":\"Cody\",\"last_name\":\"Adams\",\"age\":22,\"date_joined\":\"2015-10-26 03:29:49\"}</td></tr><tr><td>{\"ind\":5566,\"first_name\":\"Ashley\",\"last_name\":\"Anderson\",\"age\":32,\"date_joined\":\"2017-07-14 17:59:46\"}</td></tr><tr><td>{\"ind\":2715,\"first_name\":\"Adrienne\",\"last_name\":\"Acosta\",\"age\":21,\"date_joined\":\"2015-11-17 14:56:48\"}</td></tr><tr><td>{\"ind\":7648,\"first_name\":\"Louis\",\"last_name\":\"Patterson\",\"age\":23,\"date_joined\":\"2016-05-13 10:51:36\"}</td></tr><tr><td>{\"ind\":4931,\"first_name\":\"Steven\",\"last_name\":\"Duncan\",\"age\":44,\"date_joined\":\"2016-04-25 23:51:06\"}</td></tr><tr><td>{\"ind\":7446,\"first_name\":\"Melissa\",\"last_name\":\"Weiss\",\"age\":32,\"date_joined\":\"2017-09-19 15:10:12\"}</td></tr><tr><td>{\"ind\":10524,\"first_name\":\"Brian\",\"last_name\":\"Conley\",\"age\":32,\"date_joined\":\"2016-06-01 06:25:53\"}</td></tr><tr><td>{\"ind\":2530,\"first_name\":\"Ariel\",\"last_name\":\"Brown\",\"age\":26,\"date_joined\":\"2015-11-24 23:04:52\"}</td></tr><tr><td>{\"ind\":4775,\"first_name\":\"Kyle\",\"last_name\":\"Perry\",\"age\":29,\"date_joined\":\"2016-08-09 19:40:48\"}</td></tr><tr><td>{\"ind\":6770,\"first_name\":\"David\",\"last_name\":\"Buckley\",\"age\":30,\"date_joined\":\"2016-05-29 17:08:36\"}</td></tr><tr><td>{\"ind\":5184,\"first_name\":\"Jacob\",\"last_name\":\"Chapman\",\"age\":42,\"date_joined\":\"2016-05-09 01:25:48\"}</td></tr><tr><td>{\"ind\":1537,\"first_name\":\"Nichole\",\"last_name\":\"Chapman\",\"age\":27,\"date_joined\":\"2017-06-05 09:25:41\"}</td></tr><tr><td>{\"ind\":2090,\"first_name\":\"Edward\",\"last_name\":\"Oliver\",\"age\":21,\"date_joined\":\"2016-04-05 00:40:22\"}</td></tr><tr><td>{\"ind\":1379,\"first_name\":\"Aaron\",\"last_name\":\"Abbott\",\"age\":20,\"date_joined\":\"2015-10-31 18:51:07\"}</td></tr><tr><td>{\"ind\":1301,\"first_name\":\"Lisa\",\"last_name\":\"Washington\",\"age\":46,\"date_joined\":\"2016-08-18 08:22:56\"}</td></tr><tr><td>{\"ind\":660,\"first_name\":\"Amy\",\"last_name\":\"Atkins\",\"age\":21,\"date_joined\":\"2015-10-31 07:37:40\"}</td></tr><tr><td>{\"ind\":3285,\"first_name\":\"Aaron\",\"last_name\":\"Greene\",\"age\":25,\"date_joined\":\"2016-01-14 00:10:04\"}</td></tr><tr><td>{\"ind\":9969,\"first_name\":\"Angela\",\"last_name\":\"Bailey\",\"age\":21,\"date_joined\":\"2015-12-13 04:59:44\"}</td></tr><tr><td>{\"ind\":857,\"first_name\":\"Andrew\",\"last_name\":\"Burke\",\"age\":20,\"date_joined\":\"2015-11-14 17:38:31\"}</td></tr></tbody></table></div>"
      ]
     },
     "metadata": {
      "application/vnd.databricks.v1+output": {
       "addedWidgets": {},
       "aggData": [],
       "aggError": "",
       "aggOverflow": false,
       "aggSchema": [],
       "aggSeriesLimitReached": false,
       "aggType": "",
       "arguments": {},
       "columnCustomDisplayInfos": {},
       "data": [
        [
         "{\"ind\":9721,\"first_name\":\"Debra\",\"last_name\":\"Jenkins\",\"age\":50,\"date_joined\":\"2016-02-03 06:04:15\"}"
        ],
        [
         "{\"ind\":1626,\"first_name\":\"Jennifer\",\"last_name\":\"Melton\",\"age\":39,\"date_joined\":\"2016-03-02 15:41:23\"}"
        ],
        [
         "{\"ind\":3164,\"first_name\":\"Cynthia\",\"last_name\":\"Harper\",\"age\":43,\"date_joined\":\"2016-01-23 05:44:11\"}"
        ],
        [
         "{\"ind\":2952,\"first_name\":\"Billy\",\"last_name\":\"Armstrong\",\"age\":22,\"date_joined\":\"2015-12-18 20:54:14\"}"
        ],
        [
         "{\"ind\":6813,\"first_name\":\"Abigail\",\"last_name\":\"Ali\",\"age\":20,\"date_joined\":\"2015-10-24 11:23:51\"}"
        ],
        [
         "{\"ind\":867,\"first_name\":\"Herbert\",\"last_name\":\"Sawyer\",\"age\":45,\"date_joined\":\"2016-07-27 15:08:03\"}"
        ],
        [
         "{\"ind\":4500,\"first_name\":\"Angela\",\"last_name\":\"Brooks\",\"age\":24,\"date_joined\":\"2015-11-20 05:37:11\"}"
        ],
        [
         "{\"ind\":7073,\"first_name\":\"Manuel\",\"last_name\":\"Ashley\",\"age\":55,\"date_joined\":\"2017-07-13 23:48:07\"}"
        ],
        [
         "{\"ind\":6374,\"first_name\":\"Brandon\",\"last_name\":\"Bender\",\"age\":21,\"date_joined\":\"2016-02-15 23:12:43\"}"
        ],
        [
         "{\"ind\":10904,\"first_name\":\"Deanna\",\"last_name\":\"Alexander\",\"age\":29,\"date_joined\":\"2016-04-04 18:49:31\"}"
        ],
        [
         "{\"ind\":3717,\"first_name\":\"Alexandria\",\"last_name\":\"Alvarado\",\"age\":20,\"date_joined\":\"2015-10-23 04:13:23\"}"
        ],
        [
         "{\"ind\":10253,\"first_name\":\"Aaron\",\"last_name\":\"Anderson\",\"age\":21,\"date_joined\":\"2015-10-23 03:43:54\"}"
        ],
        [
         "{\"ind\":4983,\"first_name\":\"John\",\"last_name\":\"Mueller\",\"age\":33,\"date_joined\":\"2017-04-28 12:34:25\"}"
        ],
        [
         "{\"ind\":5566,\"first_name\":\"Ashley\",\"last_name\":\"Anderson\",\"age\":32,\"date_joined\":\"2017-07-14 17:59:46\"}"
        ],
        [
         "{\"ind\":4482,\"first_name\":\"Amber\",\"last_name\":\"Blevins\",\"age\":20,\"date_joined\":\"2015-12-13 16:33:13\"}"
        ],
        [
         "{\"ind\":4651,\"first_name\":\"Charles\",\"last_name\":\"York\",\"age\":20,\"date_joined\":\"2016-12-20 21:37:01\"}"
        ],
        [
         "{\"ind\":9567,\"first_name\":\"Daniel\",\"last_name\":\"Dorsey\",\"age\":26,\"date_joined\":\"2016-05-30 04:59:21\"}"
        ],
        [
         "{\"ind\":6633,\"first_name\":\"James\",\"last_name\":\"Turner\",\"age\":47,\"date_joined\":\"2017-10-04 16:16:34\"}"
        ],
        [
         "{\"ind\":10912,\"first_name\":\"Valerie\",\"last_name\":\"Bryant\",\"age\":42,\"date_joined\":\"2016-08-01 22:44:34\"}"
        ],
        [
         "{\"ind\":10500,\"first_name\":\"Brooke\",\"last_name\":\"Vang\",\"age\":33,\"date_joined\":\"2016-12-09 20:16:49\"}"
        ],
        [
         "{\"ind\":6309,\"first_name\":\"Angela\",\"last_name\":\"Everett\",\"age\":23,\"date_joined\":\"2016-02-23 11:59:45\"}"
        ],
        [
         "{\"ind\":10097,\"first_name\":\"Alexandra\",\"last_name\":\"Austin\",\"age\":22,\"date_joined\":\"2015-11-06 05:05:43\"}"
        ],
        [
         "{\"ind\":6671,\"first_name\":\"Jessica\",\"last_name\":\"Long\",\"age\":47,\"date_joined\":\"2017-10-06 04:10:16\"}"
        ],
        [
         "{\"ind\":6849,\"first_name\":\"Jeffrey\",\"last_name\":\"Jones\",\"age\":54,\"date_joined\":\"2016-08-12 04:15:37\"}"
        ],
        [
         "{\"ind\":3359,\"first_name\":\"Abigail\",\"last_name\":\"Carter\",\"age\":21,\"date_joined\":\"2015-12-10 01:13:45\"}"
        ],
        [
         "{\"ind\":3175,\"first_name\":\"David\",\"last_name\":\"Bell\",\"age\":20,\"date_joined\":\"2016-04-15 17:11:11\"}"
        ],
        [
         "{\"ind\":250,\"first_name\":\"Cody\",\"last_name\":\"Adams\",\"age\":22,\"date_joined\":\"2015-10-26 03:29:49\"}"
        ],
        [
         "{\"ind\":5566,\"first_name\":\"Ashley\",\"last_name\":\"Anderson\",\"age\":32,\"date_joined\":\"2017-07-14 17:59:46\"}"
        ],
        [
         "{\"ind\":2715,\"first_name\":\"Adrienne\",\"last_name\":\"Acosta\",\"age\":21,\"date_joined\":\"2015-11-17 14:56:48\"}"
        ],
        [
         "{\"ind\":7648,\"first_name\":\"Louis\",\"last_name\":\"Patterson\",\"age\":23,\"date_joined\":\"2016-05-13 10:51:36\"}"
        ],
        [
         "{\"ind\":4931,\"first_name\":\"Steven\",\"last_name\":\"Duncan\",\"age\":44,\"date_joined\":\"2016-04-25 23:51:06\"}"
        ],
        [
         "{\"ind\":7446,\"first_name\":\"Melissa\",\"last_name\":\"Weiss\",\"age\":32,\"date_joined\":\"2017-09-19 15:10:12\"}"
        ],
        [
         "{\"ind\":10524,\"first_name\":\"Brian\",\"last_name\":\"Conley\",\"age\":32,\"date_joined\":\"2016-06-01 06:25:53\"}"
        ],
        [
         "{\"ind\":2530,\"first_name\":\"Ariel\",\"last_name\":\"Brown\",\"age\":26,\"date_joined\":\"2015-11-24 23:04:52\"}"
        ],
        [
         "{\"ind\":4775,\"first_name\":\"Kyle\",\"last_name\":\"Perry\",\"age\":29,\"date_joined\":\"2016-08-09 19:40:48\"}"
        ],
        [
         "{\"ind\":6770,\"first_name\":\"David\",\"last_name\":\"Buckley\",\"age\":30,\"date_joined\":\"2016-05-29 17:08:36\"}"
        ],
        [
         "{\"ind\":5184,\"first_name\":\"Jacob\",\"last_name\":\"Chapman\",\"age\":42,\"date_joined\":\"2016-05-09 01:25:48\"}"
        ],
        [
         "{\"ind\":1537,\"first_name\":\"Nichole\",\"last_name\":\"Chapman\",\"age\":27,\"date_joined\":\"2017-06-05 09:25:41\"}"
        ],
        [
         "{\"ind\":2090,\"first_name\":\"Edward\",\"last_name\":\"Oliver\",\"age\":21,\"date_joined\":\"2016-04-05 00:40:22\"}"
        ],
        [
         "{\"ind\":1379,\"first_name\":\"Aaron\",\"last_name\":\"Abbott\",\"age\":20,\"date_joined\":\"2015-10-31 18:51:07\"}"
        ],
        [
         "{\"ind\":1301,\"first_name\":\"Lisa\",\"last_name\":\"Washington\",\"age\":46,\"date_joined\":\"2016-08-18 08:22:56\"}"
        ],
        [
         "{\"ind\":660,\"first_name\":\"Amy\",\"last_name\":\"Atkins\",\"age\":21,\"date_joined\":\"2015-10-31 07:37:40\"}"
        ],
        [
         "{\"ind\":3285,\"first_name\":\"Aaron\",\"last_name\":\"Greene\",\"age\":25,\"date_joined\":\"2016-01-14 00:10:04\"}"
        ],
        [
         "{\"ind\":9969,\"first_name\":\"Angela\",\"last_name\":\"Bailey\",\"age\":21,\"date_joined\":\"2015-12-13 04:59:44\"}"
        ],
        [
         "{\"ind\":857,\"first_name\":\"Andrew\",\"last_name\":\"Burke\",\"age\":20,\"date_joined\":\"2015-11-14 17:38:31\"}"
        ]
       ],
       "datasetInfos": [],
       "dbfsResultPath": null,
       "isJsonSchema": true,
       "metadata": {
        "isDbfsCommandResult": false
       },
       "overflow": false,
       "plotOptions": {
        "customPlotOptions": {},
        "displayType": "table",
        "pivotAggregation": null,
        "pivotColumns": null,
        "xColumns": null,
        "yColumns": null
       },
       "removedWidgets": [],
       "schema": [
        {
         "metadata": "{}",
         "name": "data",
         "type": "\"string\""
        }
       ],
       "type": "table"
      }
     },
     "output_type": "display_data"
    }
   ],
   "source": [
    "df_user = df_user.selectExpr(\"CAST(data as STRING)\")\n",
    "display(df_user)"
   ]
  },
  {
   "cell_type": "code",
   "execution_count": null,
   "metadata": {
    "application/vnd.databricks.v1+cell": {
     "cellMetadata": {
      "byteLimit": 2048000,
      "rowLimit": 10000
     },
     "inputWidgets": {},
     "nuid": "f7f13c86-39c9-441c-b817-ebef434664d3",
     "showTitle": false,
     "title": ""
    }
   },
   "outputs": [
    {
     "data": {
      "text/html": [
       "<style scoped>\n",
       "  .ansiout {\n",
       "    display: block;\n",
       "    unicode-bidi: embed;\n",
       "    white-space: pre-wrap;\n",
       "    word-wrap: break-word;\n",
       "    word-break: break-all;\n",
       "    font-family: \"Menlo\", \"Monaco\", \"Consolas\", \"Ubuntu Mono\", \"Source Code Pro\", monospace;\n",
       "    font-size: 13px;\n",
       "    color: #555;\n",
       "    margin-left: 4px;\n",
       "    line-height: 19px;\n",
       "  }\n",
       "</style>\n",
       "<div class=\"ansiout\"></div>"
      ]
     },
     "metadata": {
      "application/vnd.databricks.v1+output": {
       "addedWidgets": {},
       "arguments": {},
       "data": "<div class=\"ansiout\"></div>",
       "datasetInfos": [],
       "metadata": {},
       "removedWidgets": [],
       "type": "html"
      }
     },
     "output_type": "display_data"
    }
   ],
   "source": [
    "\n",
    "from pyspark.sql.types import StructType, StructField, StringType, IntegerType, TimestampType, DoubleType\n",
    "import pyspark.sql.functions as sql\n",
    "\n",
    "pin_schema = StructType(\n",
    "    {\n",
    "        StructField(\"category\", StringType(), True),\n",
    "        StructField(\"description\", StringType(), True),\n",
    "        StructField(\"downloaded\", IntegerType(), True),\n",
    "        StructField(\"follower_count\", StringType(), True),\n",
    "        StructField(\"image_src\", StringType(), True),\n",
    "        StructField(\"index\", IntegerType(), True),\n",
    "        StructField(\"is_image_or_video\", StringType(), True),\n",
    "        StructField(\"poster_name\", StringType(), True),\n",
    "        StructField(\"save_location\", StringType(), True),\n",
    "        StructField(\"tag_list\", StringType(), True),\n",
    "        StructField(\"title\", StringType(), True),\n",
    "        StructField(\"unique_id\", StringType(), True),\n",
    "    }\n",
    ")\n",
    "\n",
    "geo_schema = StructType(\n",
    "    {\n",
    "        StructField(\"ind\", IntegerType(), True),\n",
    "        StructField(\"timestamp\", StringType(), True),\n",
    "        StructField(\"latitude\", DoubleType(), True),\n",
    "        StructField(\"longitude\", DoubleType(), True),\n",
    "        StructField(\"country\", StringType(), True)\n",
    "    }\n",
    ")\n",
    "\n",
    "user_schema = StructType(\n",
    "    {\n",
    "        StructField(\"ind\", IntegerType(), True),\n",
    "        StructField(\"first_name\", StringType(), True),\n",
    "        StructField(\"last_name\", StringType(), True),        \n",
    "        StructField(\"age\", IntegerType(), True),        \n",
    "        StructField(\"date_joined\", StringType(), True),                        \n",
    "    }\n",
    ")\n"
   ]
  },
  {
   "cell_type": "code",
   "execution_count": null,
   "metadata": {
    "application/vnd.databricks.v1+cell": {
     "cellMetadata": {
      "byteLimit": 2048000,
      "rowLimit": 10000
     },
     "inputWidgets": {},
     "nuid": "cf165807-8e7d-4580-99ca-8d330f90e00b",
     "showTitle": false,
     "title": ""
    }
   },
   "outputs": [
    {
     "data": {
      "text/html": [
       "<style scoped>\n",
       "  .table-result-container {\n",
       "    max-height: 300px;\n",
       "    overflow: auto;\n",
       "  }\n",
       "  table, th, td {\n",
       "    border: 1px solid black;\n",
       "    border-collapse: collapse;\n",
       "  }\n",
       "  th, td {\n",
       "    padding: 5px;\n",
       "  }\n",
       "  th {\n",
       "    text-align: left;\n",
       "  }\n",
       "</style><div class='table-result-container'><table class='table-result'><thead style='background-color: white'><tr><th>is_image_or_video</th><th>follower_count</th><th>save_location</th><th>unique_id</th><th>index</th><th>poster_name</th><th>category</th><th>tag_list</th><th>downloaded</th><th>title</th><th>image_src</th><th>description</th></tr></thead><tbody><tr><td>image</td><td>384k</td><td>Local save in /data/beauty</td><td>d6ab80c8-3819-42ee-8a17-3e5cb564d38f</td><td>1626</td><td>Budget Savvy Diva</td><td>beauty</td><td>Skin Tips,Skin Care Tips,Beauty Secrets,Beauty Hacks,Beauty Ideas,Beauty Products,Beauty Care,Hair Beauty,Do It Yourself Fashion</td><td>1</td><td>DIY No More Oily Skin - Budget Savvy Diva</td><td>https://i.pinimg.com/originals/98/eb/79/98eb797d7ea6de9e48471841fff6a0a8.jpg</td><td>Other Great Tips! How to Remove Grease and Oil From Clothing How to Make Fabric Softener Sheets How to Clean a Toilet with Coke Use Mayonnaise to Remove Water Marks on Wood DIY… </td></tr><tr><td>image</td><td>243k</td><td>Local save in /data/diy-and-crafts</td><td>d603a766-5e05-4493-82b5-7155c95528a0</td><td>3164</td><td>Kimberly West (a girl and a glue gun)</td><td>diy-and-crafts</td><td>Handprint Christmas Tree,Cool Christmas Trees,Preschool Christmas,Toddler Christmas,Christmas Activities,Tree Handprint,Xmas Tree,Christmas Christmas,Classroom Christmas Decor</td><td>1</td><td>over 30 fun Christmas tree crafts for kids! - A girl and a glue gun</td><td>https://i.pinimg.com/originals/3f/78/5a/3f785af07e9bfbaacad4331a1e57a971.jpg</td><td>Fun Christmas tree crafts for kids to do! Window Tree Fingerprint Trees handprint Christmas trees Button trees Glitter hands paper mache</td></tr><tr><td>image</td><td>226k</td><td>Local save in /data/diy-and-crafts</td><td>59decdeb-6a42-4ddb-afcf-712719d85367</td><td>2952</td><td>Glued To My Crafts</td><td>diy-and-crafts</td><td>Christmas Art Projects,Christmas Arts And Crafts,Christmas Crafts For Toddlers,Winter Crafts For Kids,Toddler Christmas,Christmas Crafts For Kindergarteners,Christmas Tree,Christmas Decor,Christmas Handprint Crafts</td><td>1</td><td>Handprint Joy Keepsake Craft For The Holidays</td><td>https://i.pinimg.com/originals/5e/90/22/5e9022c20b4a0422bd989be5da9e97c1.jpg</td><td>We hoping to spread so much crafty JOY with our latest tutorial! Today's Handprint Joy Keepsake Printable post, is perfect to make in honor of the</td></tr><tr><td>multi-video(story page format)</td><td>User Info Error</td><td>Local save in /data/mens-fashion</td><td>632ac3ec-c018-4266-ade7-95d232d6c935</td><td>6813</td><td>User Info Error</td><td>mens-fashion</td><td>N,o, ,T,a,g,s, ,A,v,a,i,l,a,b,l,e</td><td>0</td><td>No Title Data Available</td><td>Image src error.</td><td>No description available Story format</td></tr><tr><td>image</td><td>34k</td><td>Local save in /data/art</td><td>a56691d1-f302-4b54-9bb7-93afa29331f1</td><td>867</td><td>Mary Bentz Gilkerson: Artist+Teacher</td><td>art</td><td>Acrylic Painting Lessons,Acrylic Painting Techniques,Painting Videos,Art Techniques,Painting & Drawing,Drawing Tips,Oil Painting Tips,Acrylic Art,Learn Art</td><td>1</td><td>How to Use the Rule of Thirds</td><td>https://i.pinimg.com/originals/c3/34/d2/c334d23c28c23ecdeeafdb0a6a3c3835.jpg</td><td>How to improve a paintings using just four lines? I’m sharing one of my favorite strategies to make strong compositions - The Rule of Thirds.</td></tr><tr><td>image</td><td>110k</td><td>Local save in /data/event-planning</td><td>197405a0-21ba-4f01-8e35-f98395c489cc</td><td>4500</td><td>The Work at Home Woman</td><td>event-planning</td><td>Event Planning Quotes,Event Planning Checklist,Planning Budget,Event Planning Business,Wedding Planning Tips,Party Planning,Business Ideas,Event Ideas,Wedding Advice</td><td>1</td><td>How to Work From Home as an Event Planner</td><td>https://i.pinimg.com/originals/33/79/43/33794391313d094103b20eb01f5aa49f.jpg</td><td>Do you love planning parties? Do you want to work-at-home? This post covers everything you need to know about becoming a home-based event planner!</td></tr><tr><td>image</td><td>2k</td><td>Local save in /data/mens-fashion</td><td>0621d967-86d0-49b4-9374-68ee59059154</td><td>7073</td><td>Ecole du Net</td><td>mens-fashion</td><td>Cool Outfits For Men,Stylish Mens Outfits,Sporty Outfits,Urban Outfits,Mode Outfits,Stylish Clothes For Men,Girl Outfits,Grunge Outfits,Outfit Ideas For Guys</td><td>1</td><td>TENDÊNCIAS NA MODA MASCULINA VERÃO 2020</td><td>https://i.pinimg.com/originals/c5/24/6f/c5246f79a1f1febc2b2ab2541cd92d49.png</td><td>Tu veux utiliser cette image en mode transparent pour le deposer sur n'importe quel plan?Découvre comment rendre cette images transparente avec des contours. Clique sur l'image… </td></tr><tr><td>image</td><td>55k</td><td>Local save in /data/home-decor</td><td>991cfb8f-d972-4cc9-b2aa-1cb66e94b355</td><td>6374</td><td>The Painted Hinge</td><td>home-decor</td><td>Country Farmhouse Decor,French Country Decorating,Farmhouse Design,Modern Farmhouse,Vintage Farmhouse Decor,Farmhouse Style,Farmhouse Ideas,Cottage Farmhouse,Antique Farmhouse</td><td>1</td><td>Farmhouse Easter Vignettes Home Tour</td><td>https://i.pinimg.com/originals/85/71/de/8571decd7793d8c4f23f2970e2708b73.jpg</td><td>Farmhouse Easter Vignettes Home Tour</td></tr><tr><td>image</td><td>301</td><td>Local save in /data/vehicles</td><td>0ef85377-31a7-42e9-a275-69f78f2ffc63</td><td>10904</td><td>Kay𖨆</td><td>vehicles</td><td>Miata Car,Mazda Miata,Dream Cars,My Dream Car,Pretty Cars,Cute Cars,Pink Car Accessories,Girly Car,Rims For Cars</td><td>1</td><td>Search: 10 results found for \"heart steering wheel \"</td><td>https://i.pinimg.com/originals/18/3d/9c/183d9ce9fbd5082fbad72f4119a23482.jpg</td><td>Tokyo Tom's Automotive Parts and Accessories for Sports, Drift and JDM Enthusiasts. Over 20,000 auto parts and accessories direct to you at the best possible prices. Follow us f… </td></tr><tr><td>image</td><td>2M</td><td>Local save in /data/education</td><td>186482b4-00e0-4229-bc2c-fadb1921ea2e</td><td>3717</td><td>Walmart</td><td>education</td><td>Term Life,Use Of Technology,Emotional Development,Learning Environments,Early Childhood Education,Effort,Insight,Scale,Science</td><td>1</td><td>The Leading Edge of Early Childhood Education : Linking Science to Policy for a New Generation (Paperback)</td><td>https://i.pinimg.com/originals/81/b8/3e/81b83e687c82c45984a5e4282e960b19.jpg</td><td>The Leading Edge of Early Childhood Education aims to support the effort to simultaneously scale up and improve the quality of early childhood education by bringing together rel… </td></tr><tr><td>image</td><td>1M</td><td>Local save in /data/travel</td><td>cab8a53e-40e1-4324-9e25-9b339ade9fd2</td><td>10253</td><td>SOCIETY19</td><td>travel</td><td>Places To Travel,Travel Destinations,Places To Visit,Romantic Destinations,Africa Destinations,Romantic Vacations,Travel Pictures,Travel Photos,Honeymoon Pictures</td><td>1</td><td>Romantic Travel Destinations For Adventurous Couples - Society19</td><td>https://i.pinimg.com/originals/37/82/eb/3782eb7bc424afa46e5325642f7e3a5c.jpg</td><td>Romantic travel destinations shouldn't be limited to Florida beaches and relaxing resorts. Celebrate your next anniversary or just get away with the person you love by having a… </td></tr><tr><td>image</td><td>92k</td><td>Local save in /data/event-planning</td><td>15bf1a80-b2ff-47bf-9137-5ba26f1a17dd</td><td>4983</td><td>SAShE.sk</td><td>event-planning</td><td>Fountain Wedding Cakes,Care Bears Vintage,Betta Fish Types,Best Sugar Cookies,Event Planning Business,Color Psychology,Crewel Embroidery,Blessed Mother,Wedding Bouquets</td><td>1</td><td>kytica saténová - výsledky vyhľadávania</td><td>https://i.pinimg.com/originals/aa/1e/4d/aa1e4d9f57fe2cfaf2cd529276c7526a.jpg</td><td>kytica saténová - výsledky vyhľadávania od slovenských tvorcov, remeselníkov, umelcov a návrhárov. Lokálne výrobky od domácich autorov.</td></tr><tr><td>image</td><td>406</td><td>Local save in /data/finance</td><td>2ebe1964-767d-40e7-a274-71294045b048</td><td>5566</td><td>Elizabeth Leigh</td><td>finance</td><td>Illustration Simple,Pay Off Mortgage Early,Paying Off Credit Cards,Mortgage Tips,Refinance Mortgage,Mortgage Calculator,Mortgage Estimator,Mortgage Humor,Mortgage Payment</td><td>1</td><td>11 simple steps to help you pay off any kind of debt</td><td>https://i.pinimg.com/originals/e9/6d/4d/e96d4dc5f4175a1633294a0d016387df.jpg</td><td>Take it from people who have been there.</td></tr><tr><td>image</td><td>884</td><td>Local save in /data/event-planning</td><td>8489479d-b91b-46b8-8088-b29958cd2503</td><td>4482</td><td>Jody-Ann Rowe | Marketing Coach for Wedding Professionals</td><td>event-planning</td><td>Event Planning Template,Event Planning Quotes,Event Planning Checklist,Event Planning Business,Event Planning Design,Party Planning,Wedding Planning,Wedding Ideas,Business Ideas</td><td>1</td><td>4 Tips for Booking your First Client without a Portfolio (2021) - EVENT PLANNING CERTIFICATE</td><td>https://i.pinimg.com/originals/6d/ec/c5/6decc533f545a95eed6536640f419c1c.png</td><td>Today I'm sharing four simple strategies event planners can use right now to book your first paying client without a portfolio.</td></tr><tr><td>image</td><td>19</td><td>Local save in /data/event-planning</td><td>98e74286-2d52-4c2f-87e8-0e5ac249a308</td><td>4651</td><td>Rachelle DeBoue</td><td>event-planning</td><td>Quince Invitations,Butterfly Invitations,Princess Invitations,Baptism Invitations,Pink Invitations,Invitation Cards,Wedding Invitations,Invitations Quinceanera,Quinceanera Planning</td><td>1</td><td>Beautiful Princess | Etsy</td><td>https://i.pinimg.com/originals/8c/2e/85/8c2e85387255f86569cdc73c33e89ee1.jpg</td><td>This is a really beautiful princess invitation ideal to your next important day The invitation come with withe envelopes or a cellophane bag We don't sell just one invitation we… </td></tr><tr><td>image</td><td>123k</td><td>Local save in /data/travel</td><td>75b3e4a0-31e6-40e9-83e1-1bcc87c7ae7f</td><td>9567</td><td>The Blonde Abroad</td><td>travel</td><td>Guide To Iceland,Iceland Travel Tips,Solo Travel Tips,Travel Packing,Europe Packing,Traveling Europe,Backpacking Europe,Packing Lists,Air Travel</td><td>1</td><td>The Solo Female Traveler's Guide to Iceland • The Blonde Abroad</td><td>https://i.pinimg.com/originals/05/09/34/050934de78f82252c7dfc89af21c4321.jpg</td><td>I could rave all day about Iceland—in addition to being safe, it’s natural wonders are truly amazing. Here is my solo female traveler's guide to Iceland!</td></tr><tr><td>image</td><td>394</td><td>Local save in /data/home-decor</td><td>d136f6bc-840d-44f8-bbad-115eb7e6c51e</td><td>6633</td><td>Sarah Martin</td><td>home-decor</td><td>Diy Kitchen Cabinets,Kitchen Redo,Home Decor Kitchen,New Kitchen,Home Kitchens,Kitchen Remodeling,Aqua Kitchen,Kitchen Counters,Kitchen Islands</td><td>1</td><td>The Cottage Journal on Instagram: “Can you say color?! 😍😍😍 We are loving the cheery vibes that these aqua blue cabinets are giving. If you could paint your cabinets any…”</td><td>https://i.pinimg.com/originals/8c/17/a2/8c17a257b70780480bb89c3699363144.jpg</td><td>6,636 Likes, 141 Comments - The Cottage Journal (@thecottagejournal) on Instagram: “Can you say color?! 😍😍😍 We are loving the cheery vibes that these aqua blue cabinets are g… </td></tr><tr><td>image</td><td>22k</td><td>Local save in /data/vehicles</td><td>13d7053a-0dfb-4249-98e7-774cad35c564</td><td>10912</td><td>ManTripping</td><td>vehicles</td><td>Ford Mustang Shelby Gt500,Mustang Cobra,Ford Gt500,Ford Shelby,Auto Poster,Shelby Gt 500,Ford Mustang Wallpaper,Street Racing Cars,Ford Classic Cars</td><td>1</td><td>Shelby GT500 Mustang</td><td>https://i.pinimg.com/originals/d0/e8/ef/d0e8ef5fdb3eee67dcf260cd5f648580.jpg</td><td>Shelby GT500 First Drive - Most Powerful Street-Legal Ford Ever</td></tr><tr><td>multi-video(story page format)</td><td>2k</td><td>Local save in /data/vehicles</td><td>d559762f-ead9-4914-97d0-c226ad016826</td><td>10500</td><td>ForYou</td><td>vehicles</td><td>Fast Sports Cars,Exotic Sports Cars,Luxury Sports Cars,Weird Cars,Cool Cars,Strange Cars,Crazy Cars,E36 Coupe,Best Jdm Cars</td><td>1</td><td>CREDITS: jbalwaysfresh</td><td>https://i.pinimg.com/videos/thumbnails/originals/37/22/fa/3722fa11e34a785bd7546103da3a291c.0000001.jpg</td><td>No description available Story format</td></tr><tr><td>image</td><td>88k</td><td>Local save in /data/home-decor</td><td>f0e84d26-ee34-44bd-bd93-783c56616e60</td><td>6309</td><td>Lady Decluttered | Decluttering, Organizing, & Simple Living Tips</td><td>home-decor</td><td>Country Decor,Farmhouse Decor,Farmhouse Ideas,Home Living Room,Living Room Decor,Fall Room Decor,Fall Entryway Decor,Deco Design,Autumn Home</td><td>1</td><td>70 Fall Farmhouse Decor Ideas » Lady Decluttered</td><td>https://i.pinimg.com/originals/0d/c0/16/0dc016230f5c6a7712d16283e199b9b3.jpg</td><td>Need some neutral fall farmhouse decor ideas? We found the best decorating ideas from the front porch, livings room, and even the bedroom!</td></tr><tr><td>image</td><td>459k</td><td>Local save in /data/travel</td><td>14fba170-01a3-4584-a2d8-48884101cea6</td><td>10097</td><td>Hand Luggage Only</td><td>travel</td><td>Travel Photography Tumblr,Photography Beach,Food Photography,Canon Photography,Amsterdam Photography,Photography Equipment,Tumblr Travel,Scenery Photography,Adventure Photography</td><td>1</td><td>11 Best Places In The Netherlands To Visit</td><td>https://i.pinimg.com/originals/5c/a7/05/5ca70597aef1f45bb4b8dab4b81bb830.jpg</td><td>11 Best Places In The Netherlands To Visit - Hand Luggage Only - Travel, Food & Photography Blog #travel</td></tr><tr><td>image</td><td>262</td><td>Local save in /data/home-decor</td><td>4cd9f203-5a1d-43d0-9f2f-5ae29fe8b461</td><td>6671</td><td>Witching Hour Baby</td><td>home-decor</td><td>Dark Home Decor,Goth Home Decor,Goth Bedroom,Gothic Bedroom Decor,Gothic Room,Beetlejuice Halloween,Gothic House,Coffin,Room Inspiration</td><td>1</td><td>Striped Coffin Shelf</td><td>https://i.pinimg.com/originals/e4/a6/c0/e4a6c0dd07e418e6a3be9c79cb6a17a7.png</td><td>This Striped Coffin Shelf is perfect for showcasing your most prized possessions. Thanks to the black and white striped backing, you can now better showcase darker objects and a… </td></tr><tr><td>image</td><td>3k</td><td>Local save in /data/mens-fashion</td><td>cc37c836-b2f3-4f1e-b8fd-da1a83bbc200</td><td>6849</td><td>CHRISTIAN CHÊNE</td><td>mens-fashion</td><td>Stylish Mens Fashion,Stylish Mens Outfits,Men Fashion,Fashion Ideas,Fashion Clothes,Fashion Shirts,Man Winter Fashion,Man Clothes Style,Fashion Spring</td><td>1</td><td>Chêne Du Paris</td><td>https://i.pinimg.com/originals/8c/4f/aa/8c4faa790f7e8ad924ab464b708acf11.jpg</td><td>Chêne du Paris creates exquisitely handcrafted leather shoes for men that let their individualism shine through their modern, exclusive, and timeless style. We inspire to help y… </td></tr><tr><td>image</td><td>48k</td><td>Local save in /data/diy-and-crafts</td><td>4899e069-d6f4-42aa-ba5c-576e9680c44b</td><td>3359</td><td>Jasmine | Feeling Nifty | Acrylic Painting Tutorials, Ideas &More</td><td>diy-and-crafts</td><td>Valentine Day Crafts,Xmas Crafts,Fun Crafts,Simple Crafts,Simple Craft Ideas,Kids Valentines,Tape Crafts,Diy Arts And Crafts,Decor Crafts</td><td>1</td><td>The Complete Guide to Sharpie Mugs - with Simple Designs and Ideas</td><td>https://i.pinimg.com/originals/cb/4b/b4/cb4bb4d11dd6e158155a975d48191516.png</td><td>Find out how to make Sharpie mugs that won't wash away! Also, get some fun design ideas that are so simple a kid can do it. Includes baking temperature,</td></tr><tr><td>image</td><td>52k</td><td>Local save in /data/diy-and-crafts</td><td>6458726f-1a86-4cb1-b29f-224d3d767ffb</td><td>3175</td><td>The Printable Princess</td><td>diy-and-crafts</td><td>Preschool Christmas Crafts,Christmas Arts And Crafts,Kindergarten Crafts,Daycare Crafts,Winter Crafts For Kids,Christmas Activities For Kids,Preschool Crafts,Kids Christmas,Holiday Crafts</td><td>1</td><td>Gingerbread House Craft for Kids</td><td>https://i.pinimg.com/originals/30/06/87/300687a63b3654b74eae1ad31981c620.jpg</td><td>This gingerbread house craft is perfect for the month of December. It works well as an at-home craft, or as part of your gingerbread activities for Kindergarten or first grade.… </td></tr><tr><td>image</td><td>115k</td><td>Local save in /data/art</td><td>8bf6d8fb-6f21-4d8c-86ff-3e3572875dee</td><td>250</td><td>Hello Lovely</td><td>art</td><td>Art Sketches,Art Drawings,Animal Drawings,Art Amour,Fine Art,Fine Fine,Beautiful Soul,Hello Beautiful,Pebble Art</td><td>1</td><td>Beautiful Souls Healing With Art: Holly Irwin - Hello Lovely</td><td>https://i.pinimg.com/originals/60/25/2b/60252bca459d301010f903d0e77fd6d6.jpg</td><td>Come tour paintings and art work of celebrated Atlanta artist, Holly Irwin in Beautiful Souls Healing With Art: Holly Irwin.</td></tr><tr><td>image</td><td>406</td><td>Local save in /data/finance</td><td>2ebe1964-767d-40e7-a274-71294045b048</td><td>5566</td><td>Elizabeth Leigh</td><td>finance</td><td>Illustration Simple,Pay Off Mortgage Early,Paying Off Credit Cards,Mortgage Tips,Refinance Mortgage,Mortgage Calculator,Mortgage Estimator,Mortgage Humor,Mortgage Payment</td><td>1</td><td>11 simple steps to help you pay off any kind of debt</td><td>https://i.pinimg.com/originals/e9/6d/4d/e96d4dc5f4175a1633294a0d016387df.jpg</td><td>Take it from people who have been there.</td></tr><tr><td>image</td><td>229k</td><td>Local save in /data/diy-and-crafts</td><td>e26c5ef8-97cf-47ff-9aef-dfe41ea54ecc</td><td>2715</td><td>ArtsyCraftsyMom | Art, Craft & DIY ideas</td><td>diy-and-crafts</td><td>Popsicle Stick Christmas Crafts,Christmas Crafts For Toddlers,Christmas Crafts To Make,Winter Crafts For Kids,Preschool Christmas,Christmas Ornament Crafts,Snowman Crafts,Craft Stick Crafts,Toddler Crafts</td><td>1</td><td>Make a Popsicle Stick Snowman Craft this Christmas</td><td>https://i.pinimg.com/originals/84/fd/5e/84fd5e0e9e25b7310aab4c5fd8149fa0.jpg</td><td>This Popsicle Stick Snowman is one of the easiest crafts you can make this Christmas! Perfect Stocking Stuffer, Christmas Craft & Ornament!</td></tr><tr><td>image</td><td>103k</td><td>Local save in /data/quotes</td><td>961ead2e-3c58-42cf-9b56-85d190c0f8dd</td><td>7648</td><td>Mix and Match Mama</td><td>quotes</td><td>Motivacional Quotes,Words Quotes,Wise Words,Best Quotes,Motivational Sayings,Reminder Quotes,Popular Quotes,Inspirational Sayings About Life,Hang On Quotes</td><td>1</td><td>House stuff. | Mix & Match Mama</td><td>https://i.pinimg.com/originals/a0/f2/ef/a0f2eff818509c88015c4e216c663ad4.jpg</td><td>…honestly, the whole staircase seems very overwhelming right now, so I just keep taking it one step at a time.</td></tr><tr><td>multi-video(story page format)</td><td>319</td><td>Local save in /data/event-planning</td><td>ea1a895d-eb93-4e46-bad3-aa2ed586d28a</td><td>4931</td><td>The Boss Depot</td><td>event-planning</td><td>Small Business Help,Best Small Business Ideas,Successful Business Tips,Business Advice,Small Business Marketing,Business Branding,Business Planner,Marketing Ideas,Small Business Organization</td><td>1</td><td>Small Business Packaging Ideas for Small Business Owners - Business Branding Ideas - Package Orders</td><td>https://i.pinimg.com/videos/thumbnails/originals/90/29/16/90291635d804620c99729e4a7eeaa1e1.0000001.jpg</td><td>No description available Story format</td></tr><tr><td>image</td><td>662</td><td>Local save in /data/mens-fashion</td><td>2f11aedc-b67b-4f61-82ab-457ca66c72a8</td><td>7446</td><td>Fkjie</td><td>mens-fashion</td><td>Ramses,Black Coat Outfit,Man's Overcoat,Black Overcoat,Fashion Casual,Fashion Men,Men Winter Fashion,Herren Winter,Outfits Hombre</td><td>1</td><td>Korean Men Wool Blends Coats Overcoat Male Winter Warm Clothes Wool Outwear Long Black White Plaid Blends Male Coat Plus Size - Dark Grey / XXL / China</td><td>https://i.pinimg.com/originals/dd/c5/4f/ddc54f1ae810704dd7d1dbd0c3cbd361.jpg</td><td>Brand Name: NoEnName_NullMaterial: PolyesterOrigin: CN(Origin)Applicable Season: Autumn And WinterApplicable Scene: BANQUETStyle: CasualSleeve Length(cm): FullSleeve Style: Regu… </td></tr><tr><td>image</td><td>134k</td><td>Local save in /data/vehicles</td><td>df3510fe-4c3d-4035-982c-2b5e53e21c59</td><td>10524</td><td>Cars Zone</td><td>vehicles</td><td>Dream Cars,My Dream Car,Lambo Truck,Top Luxury Cars,Lux Cars,Pretty Cars,Car Goals,Photo Couple,Future Car</td><td>1</td><td>Lamborghini Urus</td><td>https://i.pinimg.com/originals/bf/56/bc/bf56bcb24dcd3b8a720622a15222390c.jpg</td><td>Lamborghini Urus</td></tr><tr><td>image</td><td>44k</td><td>Local save in /data/christmas</td><td>41162d03-a159-43dd-a10d-cb393d6c2007</td><td>2530</td><td>Hairs Out of Place</td><td>christmas</td><td>Couple Christmas,Christmas Style,Christmas Fun,Chicago Christmas,Christmas Scenes,Christmas Fashion,Outdoor Christmas,Diy Ugly Christmas Sweater,Ugly Sweater Party</td><td>1</td><td>20 Best DIY Ugly Christmas Sweater Ideas (Dresses/Outfits too)</td><td>https://i.pinimg.com/originals/a7/3a/ed/a73aed97b55b51881f59d864eaf6ac0c.jpg</td><td>20 DIY ugly christmas sweater and outfit ideas for an ugly sweater party! Ideas include homemade sweater ideas, dresses, outfits with friends, and more!</td></tr><tr><td>image</td><td>18k</td><td>Local save in /data/event-planning</td><td>e1ade703-c9e8-4ed8-b960-f598a665f5ab</td><td>4775</td><td>Satsuma Designs | Make + Sew + Teach</td><td>event-planning</td><td>Moana Birthday Party,Girl Birthday,Birthday Parties,Summer Parties,Holiday Parties,Tea Parties,Nautical Wedding,Nautical Theme,Sea Side</td><td>1</td><td>Seashell Napkin Rings - Satsuma Designs</td><td>https://i.pinimg.com/originals/cc/6c/10/cc6c104f0090def179e45bd99b021435.jpg</td><td>Seashell Napkin Rings Seashells evoke summer to me and they're a great way to bring the summertime to any season when entertaining....</td></tr><tr><td>image</td><td>20k</td><td>Local save in /data/mens-fashion</td><td>8cfba8b2-229b-4255-a7f2-82f1a37d6445</td><td>6770</td><td>Outfit Ideas HQ</td><td>mens-fashion</td><td>Smart Business Casual,Business Casual Attire For Men,Professional Attire,Preppy Mens Fashion,Mens Fashion Suits,Men's Fashion,Men's Casual Fashion,Fashion Ideas,Fashion Socks</td><td>1</td><td>Fashion clothing for men | Suits | Street Style |... - It was night that night.</td><td>https://i.pinimg.com/originals/af/de/b2/afdeb28ab1d9bcc07fd757d10c2446a9.jpg</td><td>mens work outfits #men'sbusinessoutfit #men's #business #outfit #mens #fashion</td></tr><tr><td>image</td><td>88k</td><td>Local save in /data/finance</td><td>e49cdde3-f98e-41bc-a840-d94863de358a</td><td>5184</td><td>He and She Eat Clean</td><td>finance</td><td>Savings Challenge,Money Saving Challenge,Savings Plan,Money Saving Tips,Saving Ideas,Retirement Savings,Money Tips,Money Chart,Money Plan</td><td>1</td><td>12 Month Money Challenge</td><td>https://i.pinimg.com/originals/02/c9/7e/02c97eff00aa1c1f518c5b2772565548.jpg</td><td>12 Month Money Challenge | He and She Eat Clean</td></tr><tr><td>image</td><td>28k</td><td>Local save in /data/beauty</td><td>beae025b-7a9b-4796-87cd-3b1c98c68c06</td><td>1537</td><td>Creative Home Keeper</td><td>beauty</td><td>Beauty Care,Diy Beauty,Beauty Hacks,Face Beauty,Beauty Ideas,Beauty Tutorials,Luscious Hair,Home Remedies For Hair,Face Masks</td><td>1</td><td>DIY Coffee Grounds Facial Scrub {Natural Beauty} - Creative Home Keeper</td><td>https://i.pinimg.com/originals/62/4f/cb/624fcbe8dfec755ac2da7bb8a1468b6c.jpg</td><td>DIY Coffee Grounds Facial Scrub: Only 2 ingredients you probably already have in your pantry makes this not only simple and natural, but also quite frugal too! Your skin will th… </td></tr><tr><td>image</td><td>31k</td><td>Local save in /data/christmas</td><td>db317dcf-d3b0-4ace-a95d-9a5208e45cd0</td><td>2090</td><td>Home with Holliday</td><td>christmas</td><td>White Flocked Christmas Tree,Elegant Christmas Trees,Beautiful Christmas Decorations,Black Christmas,Christmas Tree Themes,Noel Christmas,Christmas Night,Christmas Tree With Feathers,Rustic Christmas</td><td>1</td><td>My favorite Christmas Trees of 2019!</td><td>https://i.pinimg.com/originals/35/81/92/358192958420057003411c93a95a4041.jpg</td><td>For some beautiful Christmas Tree inspirations, stop by and see My Favorite Christmas Trees of 2019 for so many great ideas!</td></tr><tr><td>image</td><td>5M</td><td>Local save in /data/beauty</td><td>bdb0b6b9-e4cc-4dcd-8a49-47775501f12b</td><td>1379</td><td>BuzzFeed</td><td>beauty</td><td>Beauty Blender Sponge,Makeup Blender,Beauty Sponge,Makeup Tools,Makeup Brushes,Makeup Sponges,Best Makeup Sponge,Aesthetica Cosmetics,Cream Contour</td><td>1</td><td>Here’s What Beauty Products People Are Buying On Amazon Right Now</td><td>https://i.pinimg.com/originals/4a/a4/a1/4aa4a1879bdff0ebdf280cad3af2a45d.jpg</td><td>Movers and Shakers is a list of products on Amazon that are currently rising up in the ranking. This week in beauty products: coconut lime scrubs and ~Wunderbrow~.</td></tr><tr><td>image</td><td>8k</td><td>Local save in /data/beauty</td><td>c072a9aa-e65e-4932-a5fe-60d8a341c669</td><td>1301</td><td>Function of Beauty</td><td>beauty</td><td>Skincare Packaging,Beauty Packaging,Face Skin Care,Diy Skin Care,Skin Care Tools,Beauty Care,Beauty Skin,Women's Beauty,Luxury Beauty</td><td>1</td><td>Custom Beauty | Individually Filled | Function of Beauty</td><td>https://i.pinimg.com/originals/e9/64/b8/e964b82da8add27a9172946a0de64b30.jpg</td><td>Customized Skin Care, built just for you.</td></tr><tr><td>image</td><td>985k</td><td>Local save in /data/art</td><td>7e2fdc90-4501-4da7-86fa-263c7311b49a</td><td>660</td><td>DIY Joy - Crafts, Home Improvement, Decor & Recipes</td><td>art</td><td>Simple Wall Art,Diy Wall Art,Diy Art,Abstract Ocean Painting,Creative Arts And Crafts,Ocean Scenes,Adult Crafts,Ocean Crafts For Teens,Arts And Crafts For Adults</td><td>1</td><td>36 DIY Canvas Painting Ideas</td><td>https://i.pinimg.com/originals/9c/4c/7e/9c4c7ecbc1bdc3bf0be8e3c7db5ad8ab.jpg</td><td>Easy painting ideas for those blank walls of yours? Try our 36 DIY canvas painting ideas for homemade wall art for the bedroom, living room, kitchen, home.</td></tr><tr><td>image</td><td>50k</td><td>Local save in /data/diy-and-crafts</td><td>45aa124d-a7e6-4a3f-a434-fd59284abed9</td><td>3285</td><td>Early Learning Ideas</td><td>diy-and-crafts</td><td>Winter Activities For Kids,Holiday Crafts For Kids,Craft Activities,Winter Toddler Crafts,Winter Preschool Crafts,Winter Crafts For Preschoolers,Frozen Activities,Hand Crafts For Kids,Holiday Fine Motor Activities</td><td>1</td><td>A Beaded Snowflake Craft for Kids: Math & Fine Motor Activity</td><td>https://i.pinimg.com/originals/f4/28/f5/f428f54127770cfb2c347feefad5b5ea.png</td><td>This beaded snowflake ornament craft for kids is a great winter project that provides opportunities to work on fine motor skills and number sense. I want to show you a cute wint… </td></tr></tbody></table></div>"
      ]
     },
     "metadata": {
      "application/vnd.databricks.v1+output": {
       "addedWidgets": {},
       "aggData": [],
       "aggError": "",
       "aggOverflow": false,
       "aggSchema": [],
       "aggSeriesLimitReached": false,
       "aggType": "",
       "arguments": {},
       "columnCustomDisplayInfos": {},
       "data": [
        [
         "image",
         "384k",
         "Local save in /data/beauty",
         "d6ab80c8-3819-42ee-8a17-3e5cb564d38f",
         1626,
         "Budget Savvy Diva",
         "beauty",
         "Skin Tips,Skin Care Tips,Beauty Secrets,Beauty Hacks,Beauty Ideas,Beauty Products,Beauty Care,Hair Beauty,Do It Yourself Fashion",
         1,
         "DIY No More Oily Skin - Budget Savvy Diva",
         "https://i.pinimg.com/originals/98/eb/79/98eb797d7ea6de9e48471841fff6a0a8.jpg",
         "Other Great Tips! How to Remove Grease and Oil From Clothing How to Make Fabric Softener Sheets How to Clean a Toilet with Coke Use Mayonnaise to Remove Water Marks on Wood DIY… "
        ],
        [
         "image",
         "243k",
         "Local save in /data/diy-and-crafts",
         "d603a766-5e05-4493-82b5-7155c95528a0",
         3164,
         "Kimberly West (a girl and a glue gun)",
         "diy-and-crafts",
         "Handprint Christmas Tree,Cool Christmas Trees,Preschool Christmas,Toddler Christmas,Christmas Activities,Tree Handprint,Xmas Tree,Christmas Christmas,Classroom Christmas Decor",
         1,
         "over 30 fun Christmas tree crafts for kids! - A girl and a glue gun",
         "https://i.pinimg.com/originals/3f/78/5a/3f785af07e9bfbaacad4331a1e57a971.jpg",
         "Fun Christmas tree crafts for kids to do! Window Tree Fingerprint Trees handprint Christmas trees Button trees Glitter hands paper mache"
        ],
        [
         "image",
         "226k",
         "Local save in /data/diy-and-crafts",
         "59decdeb-6a42-4ddb-afcf-712719d85367",
         2952,
         "Glued To My Crafts",
         "diy-and-crafts",
         "Christmas Art Projects,Christmas Arts And Crafts,Christmas Crafts For Toddlers,Winter Crafts For Kids,Toddler Christmas,Christmas Crafts For Kindergarteners,Christmas Tree,Christmas Decor,Christmas Handprint Crafts",
         1,
         "Handprint Joy Keepsake Craft For The Holidays",
         "https://i.pinimg.com/originals/5e/90/22/5e9022c20b4a0422bd989be5da9e97c1.jpg",
         "We hoping to spread so much crafty JOY with our latest tutorial! Today's Handprint Joy Keepsake Printable post, is perfect to make in honor of the"
        ],
        [
         "multi-video(story page format)",
         "User Info Error",
         "Local save in /data/mens-fashion",
         "632ac3ec-c018-4266-ade7-95d232d6c935",
         6813,
         "User Info Error",
         "mens-fashion",
         "N,o, ,T,a,g,s, ,A,v,a,i,l,a,b,l,e",
         0,
         "No Title Data Available",
         "Image src error.",
         "No description available Story format"
        ],
        [
         "image",
         "34k",
         "Local save in /data/art",
         "a56691d1-f302-4b54-9bb7-93afa29331f1",
         867,
         "Mary Bentz Gilkerson: Artist+Teacher",
         "art",
         "Acrylic Painting Lessons,Acrylic Painting Techniques,Painting Videos,Art Techniques,Painting & Drawing,Drawing Tips,Oil Painting Tips,Acrylic Art,Learn Art",
         1,
         "How to Use the Rule of Thirds",
         "https://i.pinimg.com/originals/c3/34/d2/c334d23c28c23ecdeeafdb0a6a3c3835.jpg",
         "How to improve a paintings using just four lines? I’m sharing one of my favorite strategies to make strong compositions - The Rule of Thirds."
        ],
        [
         "image",
         "110k",
         "Local save in /data/event-planning",
         "197405a0-21ba-4f01-8e35-f98395c489cc",
         4500,
         "The Work at Home Woman",
         "event-planning",
         "Event Planning Quotes,Event Planning Checklist,Planning Budget,Event Planning Business,Wedding Planning Tips,Party Planning,Business Ideas,Event Ideas,Wedding Advice",
         1,
         "How to Work From Home as an Event Planner",
         "https://i.pinimg.com/originals/33/79/43/33794391313d094103b20eb01f5aa49f.jpg",
         "Do you love planning parties? Do you want to work-at-home? This post covers everything you need to know about becoming a home-based event planner!"
        ],
        [
         "image",
         "2k",
         "Local save in /data/mens-fashion",
         "0621d967-86d0-49b4-9374-68ee59059154",
         7073,
         "Ecole du Net",
         "mens-fashion",
         "Cool Outfits For Men,Stylish Mens Outfits,Sporty Outfits,Urban Outfits,Mode Outfits,Stylish Clothes For Men,Girl Outfits,Grunge Outfits,Outfit Ideas For Guys",
         1,
         "TENDÊNCIAS NA MODA MASCULINA VERÃO 2020",
         "https://i.pinimg.com/originals/c5/24/6f/c5246f79a1f1febc2b2ab2541cd92d49.png",
         "Tu veux utiliser cette image en mode transparent pour le deposer sur n'importe quel plan?Découvre comment rendre cette images transparente avec des contours. Clique sur l'image… "
        ],
        [
         "image",
         "55k",
         "Local save in /data/home-decor",
         "991cfb8f-d972-4cc9-b2aa-1cb66e94b355",
         6374,
         "The Painted Hinge",
         "home-decor",
         "Country Farmhouse Decor,French Country Decorating,Farmhouse Design,Modern Farmhouse,Vintage Farmhouse Decor,Farmhouse Style,Farmhouse Ideas,Cottage Farmhouse,Antique Farmhouse",
         1,
         "Farmhouse Easter Vignettes Home Tour",
         "https://i.pinimg.com/originals/85/71/de/8571decd7793d8c4f23f2970e2708b73.jpg",
         "Farmhouse Easter Vignettes Home Tour"
        ],
        [
         "image",
         "301",
         "Local save in /data/vehicles",
         "0ef85377-31a7-42e9-a275-69f78f2ffc63",
         10904,
         "Kay𖨆",
         "vehicles",
         "Miata Car,Mazda Miata,Dream Cars,My Dream Car,Pretty Cars,Cute Cars,Pink Car Accessories,Girly Car,Rims For Cars",
         1,
         "Search: 10 results found for \"heart steering wheel \"",
         "https://i.pinimg.com/originals/18/3d/9c/183d9ce9fbd5082fbad72f4119a23482.jpg",
         "Tokyo Tom's Automotive Parts and Accessories for Sports, Drift and JDM Enthusiasts. Over 20,000 auto parts and accessories direct to you at the best possible prices. Follow us f… "
        ],
        [
         "image",
         "2M",
         "Local save in /data/education",
         "186482b4-00e0-4229-bc2c-fadb1921ea2e",
         3717,
         "Walmart",
         "education",
         "Term Life,Use Of Technology,Emotional Development,Learning Environments,Early Childhood Education,Effort,Insight,Scale,Science",
         1,
         "The Leading Edge of Early Childhood Education : Linking Science to Policy for a New Generation (Paperback)",
         "https://i.pinimg.com/originals/81/b8/3e/81b83e687c82c45984a5e4282e960b19.jpg",
         "The Leading Edge of Early Childhood Education aims to support the effort to simultaneously scale up and improve the quality of early childhood education by bringing together rel… "
        ],
        [
         "image",
         "1M",
         "Local save in /data/travel",
         "cab8a53e-40e1-4324-9e25-9b339ade9fd2",
         10253,
         "SOCIETY19",
         "travel",
         "Places To Travel,Travel Destinations,Places To Visit,Romantic Destinations,Africa Destinations,Romantic Vacations,Travel Pictures,Travel Photos,Honeymoon Pictures",
         1,
         "Romantic Travel Destinations For Adventurous Couples - Society19",
         "https://i.pinimg.com/originals/37/82/eb/3782eb7bc424afa46e5325642f7e3a5c.jpg",
         "Romantic travel destinations shouldn't be limited to Florida beaches and relaxing resorts. Celebrate your next anniversary or just get away with the person you love by having a… "
        ],
        [
         "image",
         "92k",
         "Local save in /data/event-planning",
         "15bf1a80-b2ff-47bf-9137-5ba26f1a17dd",
         4983,
         "SAShE.sk",
         "event-planning",
         "Fountain Wedding Cakes,Care Bears Vintage,Betta Fish Types,Best Sugar Cookies,Event Planning Business,Color Psychology,Crewel Embroidery,Blessed Mother,Wedding Bouquets",
         1,
         "kytica saténová - výsledky vyhľadávania",
         "https://i.pinimg.com/originals/aa/1e/4d/aa1e4d9f57fe2cfaf2cd529276c7526a.jpg",
         "kytica saténová - výsledky vyhľadávania od slovenských tvorcov, remeselníkov, umelcov a návrhárov. Lokálne výrobky od domácich autorov."
        ],
        [
         "image",
         "406",
         "Local save in /data/finance",
         "2ebe1964-767d-40e7-a274-71294045b048",
         5566,
         "Elizabeth Leigh",
         "finance",
         "Illustration Simple,Pay Off Mortgage Early,Paying Off Credit Cards,Mortgage Tips,Refinance Mortgage,Mortgage Calculator,Mortgage Estimator,Mortgage Humor,Mortgage Payment",
         1,
         "11 simple steps to help you pay off any kind of debt",
         "https://i.pinimg.com/originals/e9/6d/4d/e96d4dc5f4175a1633294a0d016387df.jpg",
         "Take it from people who have been there."
        ],
        [
         "image",
         "884",
         "Local save in /data/event-planning",
         "8489479d-b91b-46b8-8088-b29958cd2503",
         4482,
         "Jody-Ann Rowe | Marketing Coach for Wedding Professionals",
         "event-planning",
         "Event Planning Template,Event Planning Quotes,Event Planning Checklist,Event Planning Business,Event Planning Design,Party Planning,Wedding Planning,Wedding Ideas,Business Ideas",
         1,
         "4 Tips for Booking your First Client without a Portfolio (2021) - EVENT PLANNING CERTIFICATE",
         "https://i.pinimg.com/originals/6d/ec/c5/6decc533f545a95eed6536640f419c1c.png",
         "Today I'm sharing four simple strategies event planners can use right now to book your first paying client without a portfolio."
        ],
        [
         "image",
         "19",
         "Local save in /data/event-planning",
         "98e74286-2d52-4c2f-87e8-0e5ac249a308",
         4651,
         "Rachelle DeBoue",
         "event-planning",
         "Quince Invitations,Butterfly Invitations,Princess Invitations,Baptism Invitations,Pink Invitations,Invitation Cards,Wedding Invitations,Invitations Quinceanera,Quinceanera Planning",
         1,
         "Beautiful Princess | Etsy",
         "https://i.pinimg.com/originals/8c/2e/85/8c2e85387255f86569cdc73c33e89ee1.jpg",
         "This is a really beautiful princess invitation ideal to your next important day The invitation come with withe envelopes or a cellophane bag We don't sell just one invitation we… "
        ],
        [
         "image",
         "123k",
         "Local save in /data/travel",
         "75b3e4a0-31e6-40e9-83e1-1bcc87c7ae7f",
         9567,
         "The Blonde Abroad",
         "travel",
         "Guide To Iceland,Iceland Travel Tips,Solo Travel Tips,Travel Packing,Europe Packing,Traveling Europe,Backpacking Europe,Packing Lists,Air Travel",
         1,
         "The Solo Female Traveler's Guide to Iceland • The Blonde Abroad",
         "https://i.pinimg.com/originals/05/09/34/050934de78f82252c7dfc89af21c4321.jpg",
         "I could rave all day about Iceland—in addition to being safe, it’s natural wonders are truly amazing. Here is my solo female traveler's guide to Iceland!"
        ],
        [
         "image",
         "394",
         "Local save in /data/home-decor",
         "d136f6bc-840d-44f8-bbad-115eb7e6c51e",
         6633,
         "Sarah Martin",
         "home-decor",
         "Diy Kitchen Cabinets,Kitchen Redo,Home Decor Kitchen,New Kitchen,Home Kitchens,Kitchen Remodeling,Aqua Kitchen,Kitchen Counters,Kitchen Islands",
         1,
         "The Cottage Journal on Instagram: “Can you say color?! 😍😍😍 We are loving the cheery vibes that these aqua blue cabinets are giving. If you could paint your cabinets any…”",
         "https://i.pinimg.com/originals/8c/17/a2/8c17a257b70780480bb89c3699363144.jpg",
         "6,636 Likes, 141 Comments - The Cottage Journal (@thecottagejournal) on Instagram: “Can you say color?! 😍😍😍 We are loving the cheery vibes that these aqua blue cabinets are g… "
        ],
        [
         "image",
         "22k",
         "Local save in /data/vehicles",
         "13d7053a-0dfb-4249-98e7-774cad35c564",
         10912,
         "ManTripping",
         "vehicles",
         "Ford Mustang Shelby Gt500,Mustang Cobra,Ford Gt500,Ford Shelby,Auto Poster,Shelby Gt 500,Ford Mustang Wallpaper,Street Racing Cars,Ford Classic Cars",
         1,
         "Shelby GT500 Mustang",
         "https://i.pinimg.com/originals/d0/e8/ef/d0e8ef5fdb3eee67dcf260cd5f648580.jpg",
         "Shelby GT500 First Drive - Most Powerful Street-Legal Ford Ever"
        ],
        [
         "multi-video(story page format)",
         "2k",
         "Local save in /data/vehicles",
         "d559762f-ead9-4914-97d0-c226ad016826",
         10500,
         "ForYou",
         "vehicles",
         "Fast Sports Cars,Exotic Sports Cars,Luxury Sports Cars,Weird Cars,Cool Cars,Strange Cars,Crazy Cars,E36 Coupe,Best Jdm Cars",
         1,
         "CREDITS: jbalwaysfresh",
         "https://i.pinimg.com/videos/thumbnails/originals/37/22/fa/3722fa11e34a785bd7546103da3a291c.0000001.jpg",
         "No description available Story format"
        ],
        [
         "image",
         "88k",
         "Local save in /data/home-decor",
         "f0e84d26-ee34-44bd-bd93-783c56616e60",
         6309,
         "Lady Decluttered | Decluttering, Organizing, & Simple Living Tips",
         "home-decor",
         "Country Decor,Farmhouse Decor,Farmhouse Ideas,Home Living Room,Living Room Decor,Fall Room Decor,Fall Entryway Decor,Deco Design,Autumn Home",
         1,
         "70 Fall Farmhouse Decor Ideas » Lady Decluttered",
         "https://i.pinimg.com/originals/0d/c0/16/0dc016230f5c6a7712d16283e199b9b3.jpg",
         "Need some neutral fall farmhouse decor ideas? We found the best decorating ideas from the front porch, livings room, and even the bedroom!"
        ],
        [
         "image",
         "459k",
         "Local save in /data/travel",
         "14fba170-01a3-4584-a2d8-48884101cea6",
         10097,
         "Hand Luggage Only",
         "travel",
         "Travel Photography Tumblr,Photography Beach,Food Photography,Canon Photography,Amsterdam Photography,Photography Equipment,Tumblr Travel,Scenery Photography,Adventure Photography",
         1,
         "11 Best Places In The Netherlands To Visit",
         "https://i.pinimg.com/originals/5c/a7/05/5ca70597aef1f45bb4b8dab4b81bb830.jpg",
         "11 Best Places In The Netherlands To Visit - Hand Luggage Only - Travel, Food & Photography Blog #travel"
        ],
        [
         "image",
         "262",
         "Local save in /data/home-decor",
         "4cd9f203-5a1d-43d0-9f2f-5ae29fe8b461",
         6671,
         "Witching Hour Baby",
         "home-decor",
         "Dark Home Decor,Goth Home Decor,Goth Bedroom,Gothic Bedroom Decor,Gothic Room,Beetlejuice Halloween,Gothic House,Coffin,Room Inspiration",
         1,
         "Striped Coffin Shelf",
         "https://i.pinimg.com/originals/e4/a6/c0/e4a6c0dd07e418e6a3be9c79cb6a17a7.png",
         "This Striped Coffin Shelf is perfect for showcasing your most prized possessions. Thanks to the black and white striped backing, you can now better showcase darker objects and a… "
        ],
        [
         "image",
         "3k",
         "Local save in /data/mens-fashion",
         "cc37c836-b2f3-4f1e-b8fd-da1a83bbc200",
         6849,
         "CHRISTIAN CHÊNE",
         "mens-fashion",
         "Stylish Mens Fashion,Stylish Mens Outfits,Men Fashion,Fashion Ideas,Fashion Clothes,Fashion Shirts,Man Winter Fashion,Man Clothes Style,Fashion Spring",
         1,
         "Chêne Du Paris",
         "https://i.pinimg.com/originals/8c/4f/aa/8c4faa790f7e8ad924ab464b708acf11.jpg",
         "Chêne du Paris creates exquisitely handcrafted leather shoes for men that let their individualism shine through their modern, exclusive, and timeless style. We inspire to help y… "
        ],
        [
         "image",
         "48k",
         "Local save in /data/diy-and-crafts",
         "4899e069-d6f4-42aa-ba5c-576e9680c44b",
         3359,
         "Jasmine | Feeling Nifty | Acrylic Painting Tutorials, Ideas &More",
         "diy-and-crafts",
         "Valentine Day Crafts,Xmas Crafts,Fun Crafts,Simple Crafts,Simple Craft Ideas,Kids Valentines,Tape Crafts,Diy Arts And Crafts,Decor Crafts",
         1,
         "The Complete Guide to Sharpie Mugs - with Simple Designs and Ideas",
         "https://i.pinimg.com/originals/cb/4b/b4/cb4bb4d11dd6e158155a975d48191516.png",
         "Find out how to make Sharpie mugs that won't wash away! Also, get some fun design ideas that are so simple a kid can do it. Includes baking temperature,"
        ],
        [
         "image",
         "52k",
         "Local save in /data/diy-and-crafts",
         "6458726f-1a86-4cb1-b29f-224d3d767ffb",
         3175,
         "The Printable Princess",
         "diy-and-crafts",
         "Preschool Christmas Crafts,Christmas Arts And Crafts,Kindergarten Crafts,Daycare Crafts,Winter Crafts For Kids,Christmas Activities For Kids,Preschool Crafts,Kids Christmas,Holiday Crafts",
         1,
         "Gingerbread House Craft for Kids",
         "https://i.pinimg.com/originals/30/06/87/300687a63b3654b74eae1ad31981c620.jpg",
         "This gingerbread house craft is perfect for the month of December. It works well as an at-home craft, or as part of your gingerbread activities for Kindergarten or first grade.… "
        ],
        [
         "image",
         "115k",
         "Local save in /data/art",
         "8bf6d8fb-6f21-4d8c-86ff-3e3572875dee",
         250,
         "Hello Lovely",
         "art",
         "Art Sketches,Art Drawings,Animal Drawings,Art Amour,Fine Art,Fine Fine,Beautiful Soul,Hello Beautiful,Pebble Art",
         1,
         "Beautiful Souls Healing With Art: Holly Irwin - Hello Lovely",
         "https://i.pinimg.com/originals/60/25/2b/60252bca459d301010f903d0e77fd6d6.jpg",
         "Come tour paintings and art work of celebrated Atlanta artist, Holly Irwin in Beautiful Souls Healing With Art: Holly Irwin."
        ],
        [
         "image",
         "406",
         "Local save in /data/finance",
         "2ebe1964-767d-40e7-a274-71294045b048",
         5566,
         "Elizabeth Leigh",
         "finance",
         "Illustration Simple,Pay Off Mortgage Early,Paying Off Credit Cards,Mortgage Tips,Refinance Mortgage,Mortgage Calculator,Mortgage Estimator,Mortgage Humor,Mortgage Payment",
         1,
         "11 simple steps to help you pay off any kind of debt",
         "https://i.pinimg.com/originals/e9/6d/4d/e96d4dc5f4175a1633294a0d016387df.jpg",
         "Take it from people who have been there."
        ],
        [
         "image",
         "229k",
         "Local save in /data/diy-and-crafts",
         "e26c5ef8-97cf-47ff-9aef-dfe41ea54ecc",
         2715,
         "ArtsyCraftsyMom | Art, Craft & DIY ideas",
         "diy-and-crafts",
         "Popsicle Stick Christmas Crafts,Christmas Crafts For Toddlers,Christmas Crafts To Make,Winter Crafts For Kids,Preschool Christmas,Christmas Ornament Crafts,Snowman Crafts,Craft Stick Crafts,Toddler Crafts",
         1,
         "Make a Popsicle Stick Snowman Craft this Christmas",
         "https://i.pinimg.com/originals/84/fd/5e/84fd5e0e9e25b7310aab4c5fd8149fa0.jpg",
         "This Popsicle Stick Snowman is one of the easiest crafts you can make this Christmas! Perfect Stocking Stuffer, Christmas Craft & Ornament!"
        ],
        [
         "image",
         "103k",
         "Local save in /data/quotes",
         "961ead2e-3c58-42cf-9b56-85d190c0f8dd",
         7648,
         "Mix and Match Mama",
         "quotes",
         "Motivacional Quotes,Words Quotes,Wise Words,Best Quotes,Motivational Sayings,Reminder Quotes,Popular Quotes,Inspirational Sayings About Life,Hang On Quotes",
         1,
         "House stuff. | Mix & Match Mama",
         "https://i.pinimg.com/originals/a0/f2/ef/a0f2eff818509c88015c4e216c663ad4.jpg",
         "…honestly, the whole staircase seems very overwhelming right now, so I just keep taking it one step at a time."
        ],
        [
         "multi-video(story page format)",
         "319",
         "Local save in /data/event-planning",
         "ea1a895d-eb93-4e46-bad3-aa2ed586d28a",
         4931,
         "The Boss Depot",
         "event-planning",
         "Small Business Help,Best Small Business Ideas,Successful Business Tips,Business Advice,Small Business Marketing,Business Branding,Business Planner,Marketing Ideas,Small Business Organization",
         1,
         "Small Business Packaging Ideas for Small Business Owners - Business Branding Ideas - Package Orders",
         "https://i.pinimg.com/videos/thumbnails/originals/90/29/16/90291635d804620c99729e4a7eeaa1e1.0000001.jpg",
         "No description available Story format"
        ],
        [
         "image",
         "662",
         "Local save in /data/mens-fashion",
         "2f11aedc-b67b-4f61-82ab-457ca66c72a8",
         7446,
         "Fkjie",
         "mens-fashion",
         "Ramses,Black Coat Outfit,Man's Overcoat,Black Overcoat,Fashion Casual,Fashion Men,Men Winter Fashion,Herren Winter,Outfits Hombre",
         1,
         "Korean Men Wool Blends Coats Overcoat Male Winter Warm Clothes Wool Outwear Long Black White Plaid Blends Male Coat Plus Size - Dark Grey / XXL / China",
         "https://i.pinimg.com/originals/dd/c5/4f/ddc54f1ae810704dd7d1dbd0c3cbd361.jpg",
         "Brand Name: NoEnName_NullMaterial: PolyesterOrigin: CN(Origin)Applicable Season: Autumn And WinterApplicable Scene: BANQUETStyle: CasualSleeve Length(cm): FullSleeve Style: Regu… "
        ],
        [
         "image",
         "134k",
         "Local save in /data/vehicles",
         "df3510fe-4c3d-4035-982c-2b5e53e21c59",
         10524,
         "Cars Zone",
         "vehicles",
         "Dream Cars,My Dream Car,Lambo Truck,Top Luxury Cars,Lux Cars,Pretty Cars,Car Goals,Photo Couple,Future Car",
         1,
         "Lamborghini Urus",
         "https://i.pinimg.com/originals/bf/56/bc/bf56bcb24dcd3b8a720622a15222390c.jpg",
         "Lamborghini Urus"
        ],
        [
         "image",
         "44k",
         "Local save in /data/christmas",
         "41162d03-a159-43dd-a10d-cb393d6c2007",
         2530,
         "Hairs Out of Place",
         "christmas",
         "Couple Christmas,Christmas Style,Christmas Fun,Chicago Christmas,Christmas Scenes,Christmas Fashion,Outdoor Christmas,Diy Ugly Christmas Sweater,Ugly Sweater Party",
         1,
         "20 Best DIY Ugly Christmas Sweater Ideas (Dresses/Outfits too)",
         "https://i.pinimg.com/originals/a7/3a/ed/a73aed97b55b51881f59d864eaf6ac0c.jpg",
         "20 DIY ugly christmas sweater and outfit ideas for an ugly sweater party! Ideas include homemade sweater ideas, dresses, outfits with friends, and more!"
        ],
        [
         "image",
         "18k",
         "Local save in /data/event-planning",
         "e1ade703-c9e8-4ed8-b960-f598a665f5ab",
         4775,
         "Satsuma Designs | Make + Sew + Teach",
         "event-planning",
         "Moana Birthday Party,Girl Birthday,Birthday Parties,Summer Parties,Holiday Parties,Tea Parties,Nautical Wedding,Nautical Theme,Sea Side",
         1,
         "Seashell Napkin Rings - Satsuma Designs",
         "https://i.pinimg.com/originals/cc/6c/10/cc6c104f0090def179e45bd99b021435.jpg",
         "Seashell Napkin Rings Seashells evoke summer to me and they're a great way to bring the summertime to any season when entertaining...."
        ],
        [
         "image",
         "20k",
         "Local save in /data/mens-fashion",
         "8cfba8b2-229b-4255-a7f2-82f1a37d6445",
         6770,
         "Outfit Ideas HQ",
         "mens-fashion",
         "Smart Business Casual,Business Casual Attire For Men,Professional Attire,Preppy Mens Fashion,Mens Fashion Suits,Men's Fashion,Men's Casual Fashion,Fashion Ideas,Fashion Socks",
         1,
         "Fashion clothing for men | Suits | Street Style |... - It was night that night.",
         "https://i.pinimg.com/originals/af/de/b2/afdeb28ab1d9bcc07fd757d10c2446a9.jpg",
         "mens work outfits #men'sbusinessoutfit #men's #business #outfit #mens #fashion"
        ],
        [
         "image",
         "88k",
         "Local save in /data/finance",
         "e49cdde3-f98e-41bc-a840-d94863de358a",
         5184,
         "He and She Eat Clean",
         "finance",
         "Savings Challenge,Money Saving Challenge,Savings Plan,Money Saving Tips,Saving Ideas,Retirement Savings,Money Tips,Money Chart,Money Plan",
         1,
         "12 Month Money Challenge",
         "https://i.pinimg.com/originals/02/c9/7e/02c97eff00aa1c1f518c5b2772565548.jpg",
         "12 Month Money Challenge | He and She Eat Clean"
        ],
        [
         "image",
         "28k",
         "Local save in /data/beauty",
         "beae025b-7a9b-4796-87cd-3b1c98c68c06",
         1537,
         "Creative Home Keeper",
         "beauty",
         "Beauty Care,Diy Beauty,Beauty Hacks,Face Beauty,Beauty Ideas,Beauty Tutorials,Luscious Hair,Home Remedies For Hair,Face Masks",
         1,
         "DIY Coffee Grounds Facial Scrub {Natural Beauty} - Creative Home Keeper",
         "https://i.pinimg.com/originals/62/4f/cb/624fcbe8dfec755ac2da7bb8a1468b6c.jpg",
         "DIY Coffee Grounds Facial Scrub: Only 2 ingredients you probably already have in your pantry makes this not only simple and natural, but also quite frugal too! Your skin will th… "
        ],
        [
         "image",
         "31k",
         "Local save in /data/christmas",
         "db317dcf-d3b0-4ace-a95d-9a5208e45cd0",
         2090,
         "Home with Holliday",
         "christmas",
         "White Flocked Christmas Tree,Elegant Christmas Trees,Beautiful Christmas Decorations,Black Christmas,Christmas Tree Themes,Noel Christmas,Christmas Night,Christmas Tree With Feathers,Rustic Christmas",
         1,
         "My favorite Christmas Trees of 2019!",
         "https://i.pinimg.com/originals/35/81/92/358192958420057003411c93a95a4041.jpg",
         "For some beautiful Christmas Tree inspirations, stop by and see My Favorite Christmas Trees of 2019 for so many great ideas!"
        ],
        [
         "image",
         "5M",
         "Local save in /data/beauty",
         "bdb0b6b9-e4cc-4dcd-8a49-47775501f12b",
         1379,
         "BuzzFeed",
         "beauty",
         "Beauty Blender Sponge,Makeup Blender,Beauty Sponge,Makeup Tools,Makeup Brushes,Makeup Sponges,Best Makeup Sponge,Aesthetica Cosmetics,Cream Contour",
         1,
         "Here’s What Beauty Products People Are Buying On Amazon Right Now",
         "https://i.pinimg.com/originals/4a/a4/a1/4aa4a1879bdff0ebdf280cad3af2a45d.jpg",
         "Movers and Shakers is a list of products on Amazon that are currently rising up in the ranking. This week in beauty products: coconut lime scrubs and ~Wunderbrow~."
        ],
        [
         "image",
         "8k",
         "Local save in /data/beauty",
         "c072a9aa-e65e-4932-a5fe-60d8a341c669",
         1301,
         "Function of Beauty",
         "beauty",
         "Skincare Packaging,Beauty Packaging,Face Skin Care,Diy Skin Care,Skin Care Tools,Beauty Care,Beauty Skin,Women's Beauty,Luxury Beauty",
         1,
         "Custom Beauty | Individually Filled | Function of Beauty",
         "https://i.pinimg.com/originals/e9/64/b8/e964b82da8add27a9172946a0de64b30.jpg",
         "Customized Skin Care, built just for you."
        ],
        [
         "image",
         "985k",
         "Local save in /data/art",
         "7e2fdc90-4501-4da7-86fa-263c7311b49a",
         660,
         "DIY Joy - Crafts, Home Improvement, Decor & Recipes",
         "art",
         "Simple Wall Art,Diy Wall Art,Diy Art,Abstract Ocean Painting,Creative Arts And Crafts,Ocean Scenes,Adult Crafts,Ocean Crafts For Teens,Arts And Crafts For Adults",
         1,
         "36 DIY Canvas Painting Ideas",
         "https://i.pinimg.com/originals/9c/4c/7e/9c4c7ecbc1bdc3bf0be8e3c7db5ad8ab.jpg",
         "Easy painting ideas for those blank walls of yours? Try our 36 DIY canvas painting ideas for homemade wall art for the bedroom, living room, kitchen, home."
        ],
        [
         "image",
         "50k",
         "Local save in /data/diy-and-crafts",
         "45aa124d-a7e6-4a3f-a434-fd59284abed9",
         3285,
         "Early Learning Ideas",
         "diy-and-crafts",
         "Winter Activities For Kids,Holiday Crafts For Kids,Craft Activities,Winter Toddler Crafts,Winter Preschool Crafts,Winter Crafts For Preschoolers,Frozen Activities,Hand Crafts For Kids,Holiday Fine Motor Activities",
         1,
         "A Beaded Snowflake Craft for Kids: Math & Fine Motor Activity",
         "https://i.pinimg.com/originals/f4/28/f5/f428f54127770cfb2c347feefad5b5ea.png",
         "This beaded snowflake ornament craft for kids is a great winter project that provides opportunities to work on fine motor skills and number sense. I want to show you a cute wint… "
        ]
       ],
       "datasetInfos": [],
       "dbfsResultPath": null,
       "isJsonSchema": true,
       "metadata": {},
       "overflow": false,
       "plotOptions": {
        "customPlotOptions": {},
        "displayType": "table",
        "pivotAggregation": null,
        "pivotColumns": null,
        "xColumns": null,
        "yColumns": null
       },
       "removedWidgets": [],
       "schema": [
        {
         "metadata": "{}",
         "name": "is_image_or_video",
         "type": "\"string\""
        },
        {
         "metadata": "{}",
         "name": "follower_count",
         "type": "\"string\""
        },
        {
         "metadata": "{}",
         "name": "save_location",
         "type": "\"string\""
        },
        {
         "metadata": "{}",
         "name": "unique_id",
         "type": "\"string\""
        },
        {
         "metadata": "{}",
         "name": "index",
         "type": "\"integer\""
        },
        {
         "metadata": "{}",
         "name": "poster_name",
         "type": "\"string\""
        },
        {
         "metadata": "{}",
         "name": "category",
         "type": "\"string\""
        },
        {
         "metadata": "{}",
         "name": "tag_list",
         "type": "\"string\""
        },
        {
         "metadata": "{}",
         "name": "downloaded",
         "type": "\"integer\""
        },
        {
         "metadata": "{}",
         "name": "title",
         "type": "\"string\""
        },
        {
         "metadata": "{}",
         "name": "image_src",
         "type": "\"string\""
        },
        {
         "metadata": "{}",
         "name": "description",
         "type": "\"string\""
        }
       ],
       "type": "table"
      }
     },
     "output_type": "display_data"
    }
   ],
   "source": [
    "df_pin_raw = (\n",
    "    df_pin\n",
    "    .select(sql.from_json(\"data\",pin_schema).alias(\"pin\"))\n",
    "    .select(\"pin.*\")\n",
    "    )\n",
    "\n",
    "display(df_pin_raw)"
   ]
  },
  {
   "cell_type": "code",
   "execution_count": null,
   "metadata": {
    "application/vnd.databricks.v1+cell": {
     "cellMetadata": {
      "byteLimit": 2048000,
      "rowLimit": 10000
     },
     "inputWidgets": {},
     "nuid": "7df4151b-6985-4247-9f3d-c7883a8ba93e",
     "showTitle": false,
     "title": ""
    }
   },
   "outputs": [
    {
     "data": {
      "text/html": [
       "<style scoped>\n",
       "  .table-result-container {\n",
       "    max-height: 300px;\n",
       "    overflow: auto;\n",
       "  }\n",
       "  table, th, td {\n",
       "    border: 1px solid black;\n",
       "    border-collapse: collapse;\n",
       "  }\n",
       "  th, td {\n",
       "    padding: 5px;\n",
       "  }\n",
       "  th {\n",
       "    text-align: left;\n",
       "  }\n",
       "</style><div class='table-result-container'><table class='table-result'><thead style='background-color: white'><tr><th>ind</th><th>timestamp</th><th>latitude</th><th>country</th><th>longitude</th></tr></thead><tbody><tr><td>1626</td><td>2020-09-23 10:43:02</td><td>-58.448</td><td>Tokelau</td><td>-104.059</td></tr><tr><td>3164</td><td>2018-04-25 18:32:49</td><td>-44.6381</td><td>Bolivia</td><td>82.124</td></tr><tr><td>2952</td><td>2019-04-03 08:24:44</td><td>-79.2535</td><td>Chad</td><td>-170.409</td></tr><tr><td>6813</td><td>2019-03-28 09:34:06</td><td>-89.9787</td><td>Albania</td><td>-173.293</td></tr><tr><td>867</td><td>2020-10-06 15:34:55</td><td>43.8747</td><td>Lesotho</td><td>-54.895</td></tr><tr><td>4500</td><td>2020-09-12 03:16:36</td><td>-84.3768</td><td>Aruba</td><td>-157.544</td></tr><tr><td>7073</td><td>2021-12-23 13:56:14</td><td>-33.9813</td><td>Madagascar</td><td>-128.525</td></tr><tr><td>6374</td><td>2020-05-14 22:42:45</td><td>-76.5909</td><td>Congo</td><td>-153.068</td></tr><tr><td>10904</td><td>2017-11-17 03:50:33</td><td>64.0854</td><td>Romania</td><td>35.3199</td></tr><tr><td>3717</td><td>2019-05-20 06:15:42</td><td>-88.5478</td><td>Afghanistan</td><td>-174.971</td></tr><tr><td>10253</td><td>2018-03-07 12:37:25</td><td>-89.3669</td><td>Azerbaijan</td><td>-170.886</td></tr><tr><td>4983</td><td>2022-10-16 23:45:36</td><td>-8.61001</td><td>India</td><td>57.615</td></tr><tr><td>5566</td><td>2021-02-17 18:10:11</td><td>-72.7358</td><td>Egypt</td><td>67.9857</td></tr><tr><td>4482</td><td>2020-04-14 23:57:05</td><td>-79.0427</td><td>Bermuda</td><td>-174.242</td></tr><tr><td>4651</td><td>2020-05-06 16:03:39</td><td>42.3157</td><td>Cocos (Keeling) Islands</td><td>-56.7178</td></tr><tr><td>9567</td><td>2021-09-02 20:30:15</td><td>-60.4206</td><td>Cameroon</td><td>-116.385</td></tr><tr><td>6633</td><td>2018-09-02 10:13:09</td><td>86.8189</td><td>Guyana</td><td>-91.7252</td></tr><tr><td>10912</td><td>2019-12-11 00:03:39</td><td>-89.3302</td><td>Armenia</td><td>-60.6105</td></tr><tr><td>10500</td><td>2019-06-16 10:28:02</td><td>-84.9984</td><td>Philippines</td><td>155.706</td></tr><tr><td>6309</td><td>2022-10-14 19:53:00</td><td>-28.9498</td><td>Anguilla</td><td>-165.807</td></tr><tr><td>10097</td><td>2021-09-24 16:28:48</td><td>-74.7055</td><td>Algeria</td><td>-177.87</td></tr><tr><td>6671</td><td>2019-06-19 07:38:50</td><td>-38.5336</td><td>Armenia</td><td>63.0323</td></tr><tr><td>6849</td><td>2019-11-13 13:26:28</td><td>15.771</td><td>Singapore</td><td>161.106</td></tr><tr><td>3359</td><td>2018-12-31 08:50:21</td><td>-64.984</td><td>Aruba</td><td>-117.531</td></tr><tr><td>3175</td><td>2021-12-08 02:58:18</td><td>-84.8365</td><td>French Polynesia</td><td>-122.171</td></tr><tr><td>250</td><td>2018-11-08 12:14:12</td><td>-84.4203</td><td>France</td><td>-142.539</td></tr><tr><td>5566</td><td>2021-02-17 18:10:11</td><td>-72.7358</td><td>Egypt</td><td>67.9857</td></tr><tr><td>2715</td><td>2021-12-29 12:18:25</td><td>-58.4025</td><td>Albania</td><td>-168.097</td></tr><tr><td>7648</td><td>2018-02-14 12:26:14</td><td>83.3604</td><td>Madagascar</td><td>7.88083</td></tr><tr><td>4931</td><td>2020-03-27 07:42:02</td><td>42.2143</td><td>Honduras</td><td>-45.0378</td></tr><tr><td>7446</td><td>2021-10-08 07:48:05</td><td>-79.3098</td><td>Korea</td><td>-179.101</td></tr><tr><td>10524</td><td>2022-02-09 07:36:35</td><td>-39.0782</td><td>Guinea</td><td>-177.418</td></tr><tr><td>2530</td><td>2018-08-21 22:40:24</td><td>-89.3675</td><td>Albania</td><td>-157.004</td></tr><tr><td>4775</td><td>2018-03-21 03:50:29</td><td>19.1474</td><td>Maldives</td><td>100.721</td></tr><tr><td>6770</td><td>2021-11-21 22:59:39</td><td>-58.8668</td><td>Kenya</td><td>44.9303</td></tr><tr><td>5184</td><td>2018-06-27 00:16:41</td><td>-14.7152</td><td>Congo</td><td>-170.399</td></tr><tr><td>1537</td><td>2017-12-15 13:53:57</td><td>43.6096</td><td>Lebanon</td><td>-176.551</td></tr><tr><td>2090</td><td>2020-01-10 22:22:33</td><td>78.1523</td><td>Mayotte</td><td>0.381029</td></tr><tr><td>1379</td><td>2018-05-26 03:05:20</td><td>-88.5252</td><td>American Samoa</td><td>-172.436</td></tr><tr><td>1301</td><td>2020-12-16 16:24:43</td><td>-20.2845</td><td>Lesotho</td><td>-1.62035</td></tr><tr><td>660</td><td>2021-06-01 23:24:07</td><td>-75.7662</td><td>Afghanistan</td><td>-171.892</td></tr><tr><td>3285</td><td>2022-07-26 17:05:09</td><td>-42.3946</td><td>Azerbaijan</td><td>-149.855</td></tr><tr><td>9969</td><td>2019-11-02 09:49:59</td><td>-85.0855</td><td>Christmas Island</td><td>-156.903</td></tr><tr><td>857</td><td>2021-12-28 23:31:43</td><td>-87.0574</td><td>Bahamas</td><td>-164.826</td></tr><tr><td>10659</td><td>2018-06-12 12:29:05</td><td>-87.6895</td><td>Bulgaria</td><td>-176.801</td></tr><tr><td>8309</td><td>2019-05-14 19:32:10</td><td>75.447</td><td>United States of America</td><td>62.1468</td></tr><tr><td>9267</td><td>2019-05-08 18:13:23</td><td>-83.104</td><td>Aruba</td><td>-171.302</td></tr><tr><td>10204</td><td>2020-04-06 02:56:29</td><td>-14.3257</td><td>Svalbard & Jan Mayen Islands</td><td>26.9087</td></tr></tbody></table></div>"
      ]
     },
     "metadata": {
      "application/vnd.databricks.v1+output": {
       "addedWidgets": {},
       "aggData": [],
       "aggError": "",
       "aggOverflow": false,
       "aggSchema": [],
       "aggSeriesLimitReached": false,
       "aggType": "",
       "arguments": {},
       "columnCustomDisplayInfos": {},
       "data": [
        [
         1626,
         "2020-09-23 10:43:02",
         -58.448,
         "Tokelau",
         -104.059
        ],
        [
         3164,
         "2018-04-25 18:32:49",
         -44.6381,
         "Bolivia",
         82.124
        ],
        [
         2952,
         "2019-04-03 08:24:44",
         -79.2535,
         "Chad",
         -170.409
        ],
        [
         6813,
         "2019-03-28 09:34:06",
         -89.9787,
         "Albania",
         -173.293
        ],
        [
         867,
         "2020-10-06 15:34:55",
         43.8747,
         "Lesotho",
         -54.895
        ],
        [
         4500,
         "2020-09-12 03:16:36",
         -84.3768,
         "Aruba",
         -157.544
        ],
        [
         7073,
         "2021-12-23 13:56:14",
         -33.9813,
         "Madagascar",
         -128.525
        ],
        [
         6374,
         "2020-05-14 22:42:45",
         -76.5909,
         "Congo",
         -153.068
        ],
        [
         10904,
         "2017-11-17 03:50:33",
         64.0854,
         "Romania",
         35.3199
        ],
        [
         3717,
         "2019-05-20 06:15:42",
         -88.5478,
         "Afghanistan",
         -174.971
        ],
        [
         10253,
         "2018-03-07 12:37:25",
         -89.3669,
         "Azerbaijan",
         -170.886
        ],
        [
         4983,
         "2022-10-16 23:45:36",
         -8.61001,
         "India",
         57.615
        ],
        [
         5566,
         "2021-02-17 18:10:11",
         -72.7358,
         "Egypt",
         67.9857
        ],
        [
         4482,
         "2020-04-14 23:57:05",
         -79.0427,
         "Bermuda",
         -174.242
        ],
        [
         4651,
         "2020-05-06 16:03:39",
         42.3157,
         "Cocos (Keeling) Islands",
         -56.7178
        ],
        [
         9567,
         "2021-09-02 20:30:15",
         -60.4206,
         "Cameroon",
         -116.385
        ],
        [
         6633,
         "2018-09-02 10:13:09",
         86.8189,
         "Guyana",
         -91.7252
        ],
        [
         10912,
         "2019-12-11 00:03:39",
         -89.3302,
         "Armenia",
         -60.6105
        ],
        [
         10500,
         "2019-06-16 10:28:02",
         -84.9984,
         "Philippines",
         155.706
        ],
        [
         6309,
         "2022-10-14 19:53:00",
         -28.9498,
         "Anguilla",
         -165.807
        ],
        [
         10097,
         "2021-09-24 16:28:48",
         -74.7055,
         "Algeria",
         -177.87
        ],
        [
         6671,
         "2019-06-19 07:38:50",
         -38.5336,
         "Armenia",
         63.0323
        ],
        [
         6849,
         "2019-11-13 13:26:28",
         15.771,
         "Singapore",
         161.106
        ],
        [
         3359,
         "2018-12-31 08:50:21",
         -64.984,
         "Aruba",
         -117.531
        ],
        [
         3175,
         "2021-12-08 02:58:18",
         -84.8365,
         "French Polynesia",
         -122.171
        ],
        [
         250,
         "2018-11-08 12:14:12",
         -84.4203,
         "France",
         -142.539
        ],
        [
         5566,
         "2021-02-17 18:10:11",
         -72.7358,
         "Egypt",
         67.9857
        ],
        [
         2715,
         "2021-12-29 12:18:25",
         -58.4025,
         "Albania",
         -168.097
        ],
        [
         7648,
         "2018-02-14 12:26:14",
         83.3604,
         "Madagascar",
         7.88083
        ],
        [
         4931,
         "2020-03-27 07:42:02",
         42.2143,
         "Honduras",
         -45.0378
        ],
        [
         7446,
         "2021-10-08 07:48:05",
         -79.3098,
         "Korea",
         -179.101
        ],
        [
         10524,
         "2022-02-09 07:36:35",
         -39.0782,
         "Guinea",
         -177.418
        ],
        [
         2530,
         "2018-08-21 22:40:24",
         -89.3675,
         "Albania",
         -157.004
        ],
        [
         4775,
         "2018-03-21 03:50:29",
         19.1474,
         "Maldives",
         100.721
        ],
        [
         6770,
         "2021-11-21 22:59:39",
         -58.8668,
         "Kenya",
         44.9303
        ],
        [
         5184,
         "2018-06-27 00:16:41",
         -14.7152,
         "Congo",
         -170.399
        ],
        [
         1537,
         "2017-12-15 13:53:57",
         43.6096,
         "Lebanon",
         -176.551
        ],
        [
         2090,
         "2020-01-10 22:22:33",
         78.1523,
         "Mayotte",
         0.381029
        ],
        [
         1379,
         "2018-05-26 03:05:20",
         -88.5252,
         "American Samoa",
         -172.436
        ],
        [
         1301,
         "2020-12-16 16:24:43",
         -20.2845,
         "Lesotho",
         -1.62035
        ],
        [
         660,
         "2021-06-01 23:24:07",
         -75.7662,
         "Afghanistan",
         -171.892
        ],
        [
         3285,
         "2022-07-26 17:05:09",
         -42.3946,
         "Azerbaijan",
         -149.855
        ],
        [
         9969,
         "2019-11-02 09:49:59",
         -85.0855,
         "Christmas Island",
         -156.903
        ],
        [
         857,
         "2021-12-28 23:31:43",
         -87.0574,
         "Bahamas",
         -164.826
        ],
        [
         10659,
         "2018-06-12 12:29:05",
         -87.6895,
         "Bulgaria",
         -176.801
        ],
        [
         8309,
         "2019-05-14 19:32:10",
         75.447,
         "United States of America",
         62.1468
        ],
        [
         9267,
         "2019-05-08 18:13:23",
         -83.104,
         "Aruba",
         -171.302
        ],
        [
         10204,
         "2020-04-06 02:56:29",
         -14.3257,
         "Svalbard & Jan Mayen Islands",
         26.9087
        ]
       ],
       "datasetInfos": [],
       "dbfsResultPath": null,
       "isJsonSchema": true,
       "metadata": {
        "isDbfsCommandResult": false
       },
       "overflow": false,
       "plotOptions": {
        "customPlotOptions": {},
        "displayType": "table",
        "pivotAggregation": null,
        "pivotColumns": null,
        "xColumns": null,
        "yColumns": null
       },
       "removedWidgets": [],
       "schema": [
        {
         "metadata": "{}",
         "name": "ind",
         "type": "\"integer\""
        },
        {
         "metadata": "{}",
         "name": "timestamp",
         "type": "\"string\""
        },
        {
         "metadata": "{}",
         "name": "latitude",
         "type": "\"double\""
        },
        {
         "metadata": "{}",
         "name": "country",
         "type": "\"string\""
        },
        {
         "metadata": "{}",
         "name": "longitude",
         "type": "\"double\""
        }
       ],
       "type": "table"
      }
     },
     "output_type": "display_data"
    }
   ],
   "source": [
    "df_geo_raw = (\n",
    "    df_geo\n",
    "    .select(sql.from_json(\"data\",geo_schema).alias(\"geo\"))\n",
    "    .select(\"geo.*\")\n",
    "    )\n",
    "\n",
    "display(df_geo_raw)"
   ]
  },
  {
   "cell_type": "code",
   "execution_count": null,
   "metadata": {
    "application/vnd.databricks.v1+cell": {
     "cellMetadata": {
      "byteLimit": 2048000,
      "rowLimit": 10000
     },
     "inputWidgets": {},
     "nuid": "5f3b7f1e-5efd-4fbd-b12f-b6c1feb31f6a",
     "showTitle": false,
     "title": ""
    }
   },
   "outputs": [
    {
     "data": {
      "text/html": [
       "<style scoped>\n",
       "  .table-result-container {\n",
       "    max-height: 300px;\n",
       "    overflow: auto;\n",
       "  }\n",
       "  table, th, td {\n",
       "    border: 1px solid black;\n",
       "    border-collapse: collapse;\n",
       "  }\n",
       "  th, td {\n",
       "    padding: 5px;\n",
       "  }\n",
       "  th {\n",
       "    text-align: left;\n",
       "  }\n",
       "</style><div class='table-result-container'><table class='table-result'><thead style='background-color: white'><tr><th>ind</th><th>age</th><th>date_joined</th><th>first_name</th><th>last_name</th></tr></thead><tbody><tr><td>3164</td><td>43</td><td>2016-01-23 05:44:11</td><td>Cynthia</td><td>Harper</td></tr><tr><td>2952</td><td>22</td><td>2015-12-18 20:54:14</td><td>Billy</td><td>Armstrong</td></tr><tr><td>6813</td><td>20</td><td>2015-10-24 11:23:51</td><td>Abigail</td><td>Ali</td></tr><tr><td>867</td><td>45</td><td>2016-07-27 15:08:03</td><td>Herbert</td><td>Sawyer</td></tr><tr><td>4500</td><td>24</td><td>2015-11-20 05:37:11</td><td>Angela</td><td>Brooks</td></tr><tr><td>7073</td><td>55</td><td>2017-07-13 23:48:07</td><td>Manuel</td><td>Ashley</td></tr><tr><td>6374</td><td>21</td><td>2016-02-15 23:12:43</td><td>Brandon</td><td>Bender</td></tr><tr><td>10904</td><td>29</td><td>2016-04-04 18:49:31</td><td>Deanna</td><td>Alexander</td></tr><tr><td>3717</td><td>20</td><td>2015-10-23 04:13:23</td><td>Alexandria</td><td>Alvarado</td></tr><tr><td>10253</td><td>21</td><td>2015-10-23 03:43:54</td><td>Aaron</td><td>Anderson</td></tr><tr><td>4983</td><td>33</td><td>2017-04-28 12:34:25</td><td>John</td><td>Mueller</td></tr><tr><td>5566</td><td>32</td><td>2017-07-14 17:59:46</td><td>Ashley</td><td>Anderson</td></tr><tr><td>4482</td><td>20</td><td>2015-12-13 16:33:13</td><td>Amber</td><td>Blevins</td></tr><tr><td>4651</td><td>20</td><td>2016-12-20 21:37:01</td><td>Charles</td><td>York</td></tr><tr><td>9567</td><td>26</td><td>2016-05-30 04:59:21</td><td>Daniel</td><td>Dorsey</td></tr><tr><td>6633</td><td>47</td><td>2017-10-04 16:16:34</td><td>James</td><td>Turner</td></tr><tr><td>10912</td><td>42</td><td>2016-08-01 22:44:34</td><td>Valerie</td><td>Bryant</td></tr><tr><td>10500</td><td>33</td><td>2016-12-09 20:16:49</td><td>Brooke</td><td>Vang</td></tr><tr><td>6309</td><td>23</td><td>2016-02-23 11:59:45</td><td>Angela</td><td>Everett</td></tr><tr><td>10097</td><td>22</td><td>2015-11-06 05:05:43</td><td>Alexandra</td><td>Austin</td></tr><tr><td>6671</td><td>47</td><td>2017-10-06 04:10:16</td><td>Jessica</td><td>Long</td></tr><tr><td>6849</td><td>54</td><td>2016-08-12 04:15:37</td><td>Jeffrey</td><td>Jones</td></tr><tr><td>3359</td><td>21</td><td>2015-12-10 01:13:45</td><td>Abigail</td><td>Carter</td></tr><tr><td>3175</td><td>20</td><td>2016-04-15 17:11:11</td><td>David</td><td>Bell</td></tr><tr><td>250</td><td>22</td><td>2015-10-26 03:29:49</td><td>Cody</td><td>Adams</td></tr><tr><td>5566</td><td>32</td><td>2017-07-14 17:59:46</td><td>Ashley</td><td>Anderson</td></tr><tr><td>2715</td><td>21</td><td>2015-11-17 14:56:48</td><td>Adrienne</td><td>Acosta</td></tr><tr><td>7648</td><td>23</td><td>2016-05-13 10:51:36</td><td>Louis</td><td>Patterson</td></tr><tr><td>4931</td><td>44</td><td>2016-04-25 23:51:06</td><td>Steven</td><td>Duncan</td></tr><tr><td>7446</td><td>32</td><td>2017-09-19 15:10:12</td><td>Melissa</td><td>Weiss</td></tr><tr><td>10524</td><td>32</td><td>2016-06-01 06:25:53</td><td>Brian</td><td>Conley</td></tr><tr><td>2530</td><td>26</td><td>2015-11-24 23:04:52</td><td>Ariel</td><td>Brown</td></tr><tr><td>4775</td><td>29</td><td>2016-08-09 19:40:48</td><td>Kyle</td><td>Perry</td></tr><tr><td>6770</td><td>30</td><td>2016-05-29 17:08:36</td><td>David</td><td>Buckley</td></tr><tr><td>5184</td><td>42</td><td>2016-05-09 01:25:48</td><td>Jacob</td><td>Chapman</td></tr><tr><td>1537</td><td>27</td><td>2017-06-05 09:25:41</td><td>Nichole</td><td>Chapman</td></tr><tr><td>2090</td><td>21</td><td>2016-04-05 00:40:22</td><td>Edward</td><td>Oliver</td></tr><tr><td>1379</td><td>20</td><td>2015-10-31 18:51:07</td><td>Aaron</td><td>Abbott</td></tr><tr><td>1301</td><td>46</td><td>2016-08-18 08:22:56</td><td>Lisa</td><td>Washington</td></tr><tr><td>660</td><td>21</td><td>2015-10-31 07:37:40</td><td>Amy</td><td>Atkins</td></tr><tr><td>3285</td><td>25</td><td>2016-01-14 00:10:04</td><td>Aaron</td><td>Greene</td></tr><tr><td>9969</td><td>21</td><td>2015-12-13 04:59:44</td><td>Angela</td><td>Bailey</td></tr><tr><td>857</td><td>20</td><td>2015-11-14 17:38:31</td><td>Andrew</td><td>Burke</td></tr><tr><td>10659</td><td>21</td><td>2016-03-28 10:54:55</td><td>David</td><td>Evans</td></tr><tr><td>8309</td><td>43</td><td>2017-04-09 08:19:09</td><td>Vickie</td><td>Acevedo</td></tr><tr><td>9267</td><td>21</td><td>2015-11-10 09:27:42</td><td>Andrea</td><td>Alexander</td></tr></tbody></table></div>"
      ]
     },
     "metadata": {
      "application/vnd.databricks.v1+output": {
       "addedWidgets": {},
       "aggData": [],
       "aggError": "",
       "aggOverflow": false,
       "aggSchema": [],
       "aggSeriesLimitReached": false,
       "aggType": "",
       "arguments": {},
       "columnCustomDisplayInfos": {},
       "data": [
        [
         3164,
         43,
         "2016-01-23 05:44:11",
         "Cynthia",
         "Harper"
        ],
        [
         2952,
         22,
         "2015-12-18 20:54:14",
         "Billy",
         "Armstrong"
        ],
        [
         6813,
         20,
         "2015-10-24 11:23:51",
         "Abigail",
         "Ali"
        ],
        [
         867,
         45,
         "2016-07-27 15:08:03",
         "Herbert",
         "Sawyer"
        ],
        [
         4500,
         24,
         "2015-11-20 05:37:11",
         "Angela",
         "Brooks"
        ],
        [
         7073,
         55,
         "2017-07-13 23:48:07",
         "Manuel",
         "Ashley"
        ],
        [
         6374,
         21,
         "2016-02-15 23:12:43",
         "Brandon",
         "Bender"
        ],
        [
         10904,
         29,
         "2016-04-04 18:49:31",
         "Deanna",
         "Alexander"
        ],
        [
         3717,
         20,
         "2015-10-23 04:13:23",
         "Alexandria",
         "Alvarado"
        ],
        [
         10253,
         21,
         "2015-10-23 03:43:54",
         "Aaron",
         "Anderson"
        ],
        [
         4983,
         33,
         "2017-04-28 12:34:25",
         "John",
         "Mueller"
        ],
        [
         5566,
         32,
         "2017-07-14 17:59:46",
         "Ashley",
         "Anderson"
        ],
        [
         4482,
         20,
         "2015-12-13 16:33:13",
         "Amber",
         "Blevins"
        ],
        [
         4651,
         20,
         "2016-12-20 21:37:01",
         "Charles",
         "York"
        ],
        [
         9567,
         26,
         "2016-05-30 04:59:21",
         "Daniel",
         "Dorsey"
        ],
        [
         6633,
         47,
         "2017-10-04 16:16:34",
         "James",
         "Turner"
        ],
        [
         10912,
         42,
         "2016-08-01 22:44:34",
         "Valerie",
         "Bryant"
        ],
        [
         10500,
         33,
         "2016-12-09 20:16:49",
         "Brooke",
         "Vang"
        ],
        [
         6309,
         23,
         "2016-02-23 11:59:45",
         "Angela",
         "Everett"
        ],
        [
         10097,
         22,
         "2015-11-06 05:05:43",
         "Alexandra",
         "Austin"
        ],
        [
         6671,
         47,
         "2017-10-06 04:10:16",
         "Jessica",
         "Long"
        ],
        [
         6849,
         54,
         "2016-08-12 04:15:37",
         "Jeffrey",
         "Jones"
        ],
        [
         3359,
         21,
         "2015-12-10 01:13:45",
         "Abigail",
         "Carter"
        ],
        [
         3175,
         20,
         "2016-04-15 17:11:11",
         "David",
         "Bell"
        ],
        [
         250,
         22,
         "2015-10-26 03:29:49",
         "Cody",
         "Adams"
        ],
        [
         5566,
         32,
         "2017-07-14 17:59:46",
         "Ashley",
         "Anderson"
        ],
        [
         2715,
         21,
         "2015-11-17 14:56:48",
         "Adrienne",
         "Acosta"
        ],
        [
         7648,
         23,
         "2016-05-13 10:51:36",
         "Louis",
         "Patterson"
        ],
        [
         4931,
         44,
         "2016-04-25 23:51:06",
         "Steven",
         "Duncan"
        ],
        [
         7446,
         32,
         "2017-09-19 15:10:12",
         "Melissa",
         "Weiss"
        ],
        [
         10524,
         32,
         "2016-06-01 06:25:53",
         "Brian",
         "Conley"
        ],
        [
         2530,
         26,
         "2015-11-24 23:04:52",
         "Ariel",
         "Brown"
        ],
        [
         4775,
         29,
         "2016-08-09 19:40:48",
         "Kyle",
         "Perry"
        ],
        [
         6770,
         30,
         "2016-05-29 17:08:36",
         "David",
         "Buckley"
        ],
        [
         5184,
         42,
         "2016-05-09 01:25:48",
         "Jacob",
         "Chapman"
        ],
        [
         1537,
         27,
         "2017-06-05 09:25:41",
         "Nichole",
         "Chapman"
        ],
        [
         2090,
         21,
         "2016-04-05 00:40:22",
         "Edward",
         "Oliver"
        ],
        [
         1379,
         20,
         "2015-10-31 18:51:07",
         "Aaron",
         "Abbott"
        ],
        [
         1301,
         46,
         "2016-08-18 08:22:56",
         "Lisa",
         "Washington"
        ],
        [
         660,
         21,
         "2015-10-31 07:37:40",
         "Amy",
         "Atkins"
        ],
        [
         3285,
         25,
         "2016-01-14 00:10:04",
         "Aaron",
         "Greene"
        ],
        [
         9969,
         21,
         "2015-12-13 04:59:44",
         "Angela",
         "Bailey"
        ],
        [
         857,
         20,
         "2015-11-14 17:38:31",
         "Andrew",
         "Burke"
        ],
        [
         10659,
         21,
         "2016-03-28 10:54:55",
         "David",
         "Evans"
        ],
        [
         8309,
         43,
         "2017-04-09 08:19:09",
         "Vickie",
         "Acevedo"
        ],
        [
         9267,
         21,
         "2015-11-10 09:27:42",
         "Andrea",
         "Alexander"
        ]
       ],
       "datasetInfos": [],
       "dbfsResultPath": null,
       "isJsonSchema": true,
       "metadata": {
        "isDbfsCommandResult": false
       },
       "overflow": false,
       "plotOptions": {
        "customPlotOptions": {},
        "displayType": "table",
        "pivotAggregation": null,
        "pivotColumns": null,
        "xColumns": null,
        "yColumns": null
       },
       "removedWidgets": [],
       "schema": [
        {
         "metadata": "{}",
         "name": "ind",
         "type": "\"integer\""
        },
        {
         "metadata": "{}",
         "name": "age",
         "type": "\"integer\""
        },
        {
         "metadata": "{}",
         "name": "date_joined",
         "type": "\"string\""
        },
        {
         "metadata": "{}",
         "name": "first_name",
         "type": "\"string\""
        },
        {
         "metadata": "{}",
         "name": "last_name",
         "type": "\"string\""
        }
       ],
       "type": "table"
      }
     },
     "output_type": "display_data"
    }
   ],
   "source": [
    "df_user_raw = (\n",
    "    df_user\n",
    "    .select(sql.from_json(\"data\",user_schema).alias(\"user\"))\n",
    "    .select(\"user.*\")\n",
    "    )\n",
    "\n",
    "display(df_user_raw)\n"
   ]
  },
  {
   "cell_type": "code",
   "execution_count": null,
   "metadata": {
    "application/vnd.databricks.v1+cell": {
     "cellMetadata": {
      "byteLimit": 2048000,
      "rowLimit": 10000
     },
     "inputWidgets": {},
     "nuid": "485b6a6a-87f8-4fd5-94a0-302ebf808055",
     "showTitle": false,
     "title": ""
    }
   },
   "outputs": [
    {
     "data": {
      "text/html": [
       "<style scoped>\n",
       "  .table-result-container {\n",
       "    max-height: 300px;\n",
       "    overflow: auto;\n",
       "  }\n",
       "  table, th, td {\n",
       "    border: 1px solid black;\n",
       "    border-collapse: collapse;\n",
       "  }\n",
       "  th, td {\n",
       "    padding: 5px;\n",
       "  }\n",
       "  th {\n",
       "    text-align: left;\n",
       "  }\n",
       "</style><div class='table-result-container'><table class='table-result'><thead style='background-color: white'><tr><th>ind</th><th>unique_id</th><th>title</th><th>description</th><th>follower_count</th><th>poster_name</th><th>tag_list</th><th>is_image_or_video</th><th>image_src</th><th>save_location</th><th>category</th></tr></thead><tbody><tr><td>2952</td><td>59decdeb-6a42-4ddb-afcf-712719d85367</td><td>Handprint Joy Keepsake Craft For The Holidays</td><td>We hoping to spread so much crafty JOY with our latest tutorial! Today's Handprint Joy Keepsake Printable post, is perfect to make in honor of the</td><td>226000</td><td>Glued To My Crafts</td><td>Christmas Art Projects,Christmas Arts And Crafts,Christmas Crafts For Toddlers,Winter Crafts For Kids,Toddler Christmas,Christmas Crafts For Kindergarteners,Christmas Tree,Christmas Decor,Christmas Handprint Crafts</td><td>image</td><td>https://i.pinimg.com/originals/5e/90/22/5e9022c20b4a0422bd989be5da9e97c1.jpg</td><td>/data/diy-and-crafts</td><td>diy-and-crafts</td></tr><tr><td>6813</td><td>632ac3ec-c018-4266-ade7-95d232d6c935</td><td>No Title Data Available</td><td>No description available Story format</td><td>null</td><td>User Info Error</td><td>N,o, ,T,a,g,s, ,A,v,a,i,l,a,b,l,e</td><td>multi-video(story page format)</td><td>Image src error.</td><td>/data/mens-fashion</td><td>mens-fashion</td></tr><tr><td>867</td><td>a56691d1-f302-4b54-9bb7-93afa29331f1</td><td>How to Use the Rule of Thirds</td><td>How to improve a paintings using just four lines? I’m sharing one of my favorite strategies to make strong compositions - The Rule of Thirds.</td><td>34000</td><td>Mary Bentz Gilkerson: Artist+Teacher</td><td>Acrylic Painting Lessons,Acrylic Painting Techniques,Painting Videos,Art Techniques,Painting & Drawing,Drawing Tips,Oil Painting Tips,Acrylic Art,Learn Art</td><td>image</td><td>https://i.pinimg.com/originals/c3/34/d2/c334d23c28c23ecdeeafdb0a6a3c3835.jpg</td><td>/data/art</td><td>art</td></tr><tr><td>4500</td><td>197405a0-21ba-4f01-8e35-f98395c489cc</td><td>How to Work From Home as an Event Planner</td><td>Do you love planning parties? Do you want to work-at-home? This post covers everything you need to know about becoming a home-based event planner!</td><td>110000</td><td>The Work at Home Woman</td><td>Event Planning Quotes,Event Planning Checklist,Planning Budget,Event Planning Business,Wedding Planning Tips,Party Planning,Business Ideas,Event Ideas,Wedding Advice</td><td>image</td><td>https://i.pinimg.com/originals/33/79/43/33794391313d094103b20eb01f5aa49f.jpg</td><td>/data/event-planning</td><td>event-planning</td></tr><tr><td>7073</td><td>0621d967-86d0-49b4-9374-68ee59059154</td><td>TENDÊNCIAS NA MODA MASCULINA VERÃO 2020</td><td>Tu veux utiliser cette image en mode transparent pour le deposer sur n'importe quel plan?Découvre comment rendre cette images transparente avec des contours. Clique sur l'image… </td><td>2000</td><td>Ecole du Net</td><td>Cool Outfits For Men,Stylish Mens Outfits,Sporty Outfits,Urban Outfits,Mode Outfits,Stylish Clothes For Men,Girl Outfits,Grunge Outfits,Outfit Ideas For Guys</td><td>image</td><td>https://i.pinimg.com/originals/c5/24/6f/c5246f79a1f1febc2b2ab2541cd92d49.png</td><td>/data/mens-fashion</td><td>mens-fashion</td></tr><tr><td>6374</td><td>991cfb8f-d972-4cc9-b2aa-1cb66e94b355</td><td>Farmhouse Easter Vignettes Home Tour</td><td>Farmhouse Easter Vignettes Home Tour</td><td>55000</td><td>The Painted Hinge</td><td>Country Farmhouse Decor,French Country Decorating,Farmhouse Design,Modern Farmhouse,Vintage Farmhouse Decor,Farmhouse Style,Farmhouse Ideas,Cottage Farmhouse,Antique Farmhouse</td><td>image</td><td>https://i.pinimg.com/originals/85/71/de/8571decd7793d8c4f23f2970e2708b73.jpg</td><td>/data/home-decor</td><td>home-decor</td></tr><tr><td>10904</td><td>0ef85377-31a7-42e9-a275-69f78f2ffc63</td><td>Search: 10 results found for \"heart steering wheel \"</td><td>Tokyo Tom's Automotive Parts and Accessories for Sports, Drift and JDM Enthusiasts. Over 20,000 auto parts and accessories direct to you at the best possible prices. Follow us f… </td><td>301</td><td>Kay𖨆</td><td>Miata Car,Mazda Miata,Dream Cars,My Dream Car,Pretty Cars,Cute Cars,Pink Car Accessories,Girly Car,Rims For Cars</td><td>image</td><td>https://i.pinimg.com/originals/18/3d/9c/183d9ce9fbd5082fbad72f4119a23482.jpg</td><td>/data/vehicles</td><td>vehicles</td></tr><tr><td>3717</td><td>186482b4-00e0-4229-bc2c-fadb1921ea2e</td><td>The Leading Edge of Early Childhood Education : Linking Science to Policy for a New Generation (Paperback)</td><td>The Leading Edge of Early Childhood Education aims to support the effort to simultaneously scale up and improve the quality of early childhood education by bringing together rel… </td><td>null</td><td>Walmart</td><td>Term Life,Use Of Technology,Emotional Development,Learning Environments,Early Childhood Education,Effort,Insight,Scale,Science</td><td>image</td><td>https://i.pinimg.com/originals/81/b8/3e/81b83e687c82c45984a5e4282e960b19.jpg</td><td>/data/education</td><td>education</td></tr><tr><td>10253</td><td>cab8a53e-40e1-4324-9e25-9b339ade9fd2</td><td>Romantic Travel Destinations For Adventurous Couples - Society19</td><td>Romantic travel destinations shouldn't be limited to Florida beaches and relaxing resorts. Celebrate your next anniversary or just get away with the person you love by having a… </td><td>null</td><td>SOCIETY19</td><td>Places To Travel,Travel Destinations,Places To Visit,Romantic Destinations,Africa Destinations,Romantic Vacations,Travel Pictures,Travel Photos,Honeymoon Pictures</td><td>image</td><td>https://i.pinimg.com/originals/37/82/eb/3782eb7bc424afa46e5325642f7e3a5c.jpg</td><td>/data/travel</td><td>travel</td></tr><tr><td>4983</td><td>15bf1a80-b2ff-47bf-9137-5ba26f1a17dd</td><td>kytica saténová - výsledky vyhľadávania</td><td>kytica saténová - výsledky vyhľadávania od slovenských tvorcov, remeselníkov, umelcov a návrhárov. Lokálne výrobky od domácich autorov.</td><td>92000</td><td>SAShE.sk</td><td>Fountain Wedding Cakes,Care Bears Vintage,Betta Fish Types,Best Sugar Cookies,Event Planning Business,Color Psychology,Crewel Embroidery,Blessed Mother,Wedding Bouquets</td><td>image</td><td>https://i.pinimg.com/originals/aa/1e/4d/aa1e4d9f57fe2cfaf2cd529276c7526a.jpg</td><td>/data/event-planning</td><td>event-planning</td></tr><tr><td>5566</td><td>2ebe1964-767d-40e7-a274-71294045b048</td><td>11 simple steps to help you pay off any kind of debt</td><td>Take it from people who have been there.</td><td>406</td><td>Elizabeth Leigh</td><td>Illustration Simple,Pay Off Mortgage Early,Paying Off Credit Cards,Mortgage Tips,Refinance Mortgage,Mortgage Calculator,Mortgage Estimator,Mortgage Humor,Mortgage Payment</td><td>image</td><td>https://i.pinimg.com/originals/e9/6d/4d/e96d4dc5f4175a1633294a0d016387df.jpg</td><td>/data/finance</td><td>finance</td></tr><tr><td>4482</td><td>8489479d-b91b-46b8-8088-b29958cd2503</td><td>4 Tips for Booking your First Client without a Portfolio (2021) - EVENT PLANNING CERTIFICATE</td><td>Today I'm sharing four simple strategies event planners can use right now to book your first paying client without a portfolio.</td><td>884</td><td>Jody-Ann Rowe | Marketing Coach for Wedding Professionals</td><td>Event Planning Template,Event Planning Quotes,Event Planning Checklist,Event Planning Business,Event Planning Design,Party Planning,Wedding Planning,Wedding Ideas,Business Ideas</td><td>image</td><td>https://i.pinimg.com/originals/6d/ec/c5/6decc533f545a95eed6536640f419c1c.png</td><td>/data/event-planning</td><td>event-planning</td></tr><tr><td>4651</td><td>98e74286-2d52-4c2f-87e8-0e5ac249a308</td><td>Beautiful Princess | Etsy</td><td>This is a really beautiful princess invitation ideal to your next important day The invitation come with withe envelopes or a cellophane bag We don't sell just one invitation we… </td><td>19</td><td>Rachelle DeBoue</td><td>Quince Invitations,Butterfly Invitations,Princess Invitations,Baptism Invitations,Pink Invitations,Invitation Cards,Wedding Invitations,Invitations Quinceanera,Quinceanera Planning</td><td>image</td><td>https://i.pinimg.com/originals/8c/2e/85/8c2e85387255f86569cdc73c33e89ee1.jpg</td><td>/data/event-planning</td><td>event-planning</td></tr><tr><td>9567</td><td>75b3e4a0-31e6-40e9-83e1-1bcc87c7ae7f</td><td>The Solo Female Traveler's Guide to Iceland • The Blonde Abroad</td><td>I could rave all day about Iceland—in addition to being safe, it’s natural wonders are truly amazing. Here is my solo female traveler's guide to Iceland!</td><td>123000</td><td>The Blonde Abroad</td><td>Guide To Iceland,Iceland Travel Tips,Solo Travel Tips,Travel Packing,Europe Packing,Traveling Europe,Backpacking Europe,Packing Lists,Air Travel</td><td>image</td><td>https://i.pinimg.com/originals/05/09/34/050934de78f82252c7dfc89af21c4321.jpg</td><td>/data/travel</td><td>travel</td></tr><tr><td>6633</td><td>d136f6bc-840d-44f8-bbad-115eb7e6c51e</td><td>The Cottage Journal on Instagram: “Can you say color?! 😍😍😍 We are loving the cheery vibes that these aqua blue cabinets are giving. If you could paint your cabinets any…”</td><td>6,636 Likes, 141 Comments - The Cottage Journal (@thecottagejournal) on Instagram: “Can you say color?! 😍😍😍 We are loving the cheery vibes that these aqua blue cabinets are g… </td><td>394</td><td>Sarah Martin</td><td>Diy Kitchen Cabinets,Kitchen Redo,Home Decor Kitchen,New Kitchen,Home Kitchens,Kitchen Remodeling,Aqua Kitchen,Kitchen Counters,Kitchen Islands</td><td>image</td><td>https://i.pinimg.com/originals/8c/17/a2/8c17a257b70780480bb89c3699363144.jpg</td><td>/data/home-decor</td><td>home-decor</td></tr><tr><td>10912</td><td>13d7053a-0dfb-4249-98e7-774cad35c564</td><td>Shelby GT500 Mustang</td><td>Shelby GT500 First Drive - Most Powerful Street-Legal Ford Ever</td><td>22000</td><td>ManTripping</td><td>Ford Mustang Shelby Gt500,Mustang Cobra,Ford Gt500,Ford Shelby,Auto Poster,Shelby Gt 500,Ford Mustang Wallpaper,Street Racing Cars,Ford Classic Cars</td><td>image</td><td>https://i.pinimg.com/originals/d0/e8/ef/d0e8ef5fdb3eee67dcf260cd5f648580.jpg</td><td>/data/vehicles</td><td>vehicles</td></tr><tr><td>10500</td><td>d559762f-ead9-4914-97d0-c226ad016826</td><td>CREDITS: jbalwaysfresh</td><td>No description available Story format</td><td>2000</td><td>ForYou</td><td>Fast Sports Cars,Exotic Sports Cars,Luxury Sports Cars,Weird Cars,Cool Cars,Strange Cars,Crazy Cars,E36 Coupe,Best Jdm Cars</td><td>multi-video(story page format)</td><td>https://i.pinimg.com/videos/thumbnails/originals/37/22/fa/3722fa11e34a785bd7546103da3a291c.0000001.jpg</td><td>/data/vehicles</td><td>vehicles</td></tr><tr><td>6309</td><td>f0e84d26-ee34-44bd-bd93-783c56616e60</td><td>70 Fall Farmhouse Decor Ideas » Lady Decluttered</td><td>Need some neutral fall farmhouse decor ideas? We found the best decorating ideas from the front porch, livings room, and even the bedroom!</td><td>88000</td><td>Lady Decluttered | Decluttering, Organizing, & Simple Living Tips</td><td>Country Decor,Farmhouse Decor,Farmhouse Ideas,Home Living Room,Living Room Decor,Fall Room Decor,Fall Entryway Decor,Deco Design,Autumn Home</td><td>image</td><td>https://i.pinimg.com/originals/0d/c0/16/0dc016230f5c6a7712d16283e199b9b3.jpg</td><td>/data/home-decor</td><td>home-decor</td></tr><tr><td>10097</td><td>14fba170-01a3-4584-a2d8-48884101cea6</td><td>11 Best Places In The Netherlands To Visit</td><td>11 Best Places In The Netherlands To Visit - Hand Luggage Only - Travel, Food & Photography Blog #travel</td><td>459000</td><td>Hand Luggage Only</td><td>Travel Photography Tumblr,Photography Beach,Food Photography,Canon Photography,Amsterdam Photography,Photography Equipment,Tumblr Travel,Scenery Photography,Adventure Photography</td><td>image</td><td>https://i.pinimg.com/originals/5c/a7/05/5ca70597aef1f45bb4b8dab4b81bb830.jpg</td><td>/data/travel</td><td>travel</td></tr><tr><td>6671</td><td>4cd9f203-5a1d-43d0-9f2f-5ae29fe8b461</td><td>Striped Coffin Shelf</td><td>This Striped Coffin Shelf is perfect for showcasing your most prized possessions. Thanks to the black and white striped backing, you can now better showcase darker objects and a… </td><td>262</td><td>Witching Hour Baby</td><td>Dark Home Decor,Goth Home Decor,Goth Bedroom,Gothic Bedroom Decor,Gothic Room,Beetlejuice Halloween,Gothic House,Coffin,Room Inspiration</td><td>image</td><td>https://i.pinimg.com/originals/e4/a6/c0/e4a6c0dd07e418e6a3be9c79cb6a17a7.png</td><td>/data/home-decor</td><td>home-decor</td></tr><tr><td>6849</td><td>cc37c836-b2f3-4f1e-b8fd-da1a83bbc200</td><td>Chêne Du Paris</td><td>Chêne du Paris creates exquisitely handcrafted leather shoes for men that let their individualism shine through their modern, exclusive, and timeless style. We inspire to help y… </td><td>3000</td><td>CHRISTIAN CHÊNE</td><td>Stylish Mens Fashion,Stylish Mens Outfits,Men Fashion,Fashion Ideas,Fashion Clothes,Fashion Shirts,Man Winter Fashion,Man Clothes Style,Fashion Spring</td><td>image</td><td>https://i.pinimg.com/originals/8c/4f/aa/8c4faa790f7e8ad924ab464b708acf11.jpg</td><td>/data/mens-fashion</td><td>mens-fashion</td></tr><tr><td>3359</td><td>4899e069-d6f4-42aa-ba5c-576e9680c44b</td><td>The Complete Guide to Sharpie Mugs - with Simple Designs and Ideas</td><td>Find out how to make Sharpie mugs that won't wash away! Also, get some fun design ideas that are so simple a kid can do it. Includes baking temperature,</td><td>48000</td><td>Jasmine | Feeling Nifty | Acrylic Painting Tutorials, Ideas &More</td><td>Valentine Day Crafts,Xmas Crafts,Fun Crafts,Simple Crafts,Simple Craft Ideas,Kids Valentines,Tape Crafts,Diy Arts And Crafts,Decor Crafts</td><td>image</td><td>https://i.pinimg.com/originals/cb/4b/b4/cb4bb4d11dd6e158155a975d48191516.png</td><td>/data/diy-and-crafts</td><td>diy-and-crafts</td></tr><tr><td>3175</td><td>6458726f-1a86-4cb1-b29f-224d3d767ffb</td><td>Gingerbread House Craft for Kids</td><td>This gingerbread house craft is perfect for the month of December. It works well as an at-home craft, or as part of your gingerbread activities for Kindergarten or first grade.… </td><td>52000</td><td>The Printable Princess</td><td>Preschool Christmas Crafts,Christmas Arts And Crafts,Kindergarten Crafts,Daycare Crafts,Winter Crafts For Kids,Christmas Activities For Kids,Preschool Crafts,Kids Christmas,Holiday Crafts</td><td>image</td><td>https://i.pinimg.com/originals/30/06/87/300687a63b3654b74eae1ad31981c620.jpg</td><td>/data/diy-and-crafts</td><td>diy-and-crafts</td></tr><tr><td>250</td><td>8bf6d8fb-6f21-4d8c-86ff-3e3572875dee</td><td>Beautiful Souls Healing With Art: Holly Irwin - Hello Lovely</td><td>Come tour paintings and art work of celebrated Atlanta artist, Holly Irwin in Beautiful Souls Healing With Art: Holly Irwin.</td><td>115000</td><td>Hello Lovely</td><td>Art Sketches,Art Drawings,Animal Drawings,Art Amour,Fine Art,Fine Fine,Beautiful Soul,Hello Beautiful,Pebble Art</td><td>image</td><td>https://i.pinimg.com/originals/60/25/2b/60252bca459d301010f903d0e77fd6d6.jpg</td><td>/data/art</td><td>art</td></tr><tr><td>5566</td><td>2ebe1964-767d-40e7-a274-71294045b048</td><td>11 simple steps to help you pay off any kind of debt</td><td>Take it from people who have been there.</td><td>406</td><td>Elizabeth Leigh</td><td>Illustration Simple,Pay Off Mortgage Early,Paying Off Credit Cards,Mortgage Tips,Refinance Mortgage,Mortgage Calculator,Mortgage Estimator,Mortgage Humor,Mortgage Payment</td><td>image</td><td>https://i.pinimg.com/originals/e9/6d/4d/e96d4dc5f4175a1633294a0d016387df.jpg</td><td>/data/finance</td><td>finance</td></tr><tr><td>2715</td><td>e26c5ef8-97cf-47ff-9aef-dfe41ea54ecc</td><td>Make a Popsicle Stick Snowman Craft this Christmas</td><td>This Popsicle Stick Snowman is one of the easiest crafts you can make this Christmas! Perfect Stocking Stuffer, Christmas Craft & Ornament!</td><td>229000</td><td>ArtsyCraftsyMom | Art, Craft & DIY ideas</td><td>Popsicle Stick Christmas Crafts,Christmas Crafts For Toddlers,Christmas Crafts To Make,Winter Crafts For Kids,Preschool Christmas,Christmas Ornament Crafts,Snowman Crafts,Craft Stick Crafts,Toddler Crafts</td><td>image</td><td>https://i.pinimg.com/originals/84/fd/5e/84fd5e0e9e25b7310aab4c5fd8149fa0.jpg</td><td>/data/diy-and-crafts</td><td>diy-and-crafts</td></tr><tr><td>7648</td><td>961ead2e-3c58-42cf-9b56-85d190c0f8dd</td><td>House stuff. | Mix & Match Mama</td><td>…honestly, the whole staircase seems very overwhelming right now, so I just keep taking it one step at a time.</td><td>103000</td><td>Mix and Match Mama</td><td>Motivacional Quotes,Words Quotes,Wise Words,Best Quotes,Motivational Sayings,Reminder Quotes,Popular Quotes,Inspirational Sayings About Life,Hang On Quotes</td><td>image</td><td>https://i.pinimg.com/originals/a0/f2/ef/a0f2eff818509c88015c4e216c663ad4.jpg</td><td>/data/quotes</td><td>quotes</td></tr><tr><td>4931</td><td>ea1a895d-eb93-4e46-bad3-aa2ed586d28a</td><td>Small Business Packaging Ideas for Small Business Owners - Business Branding Ideas - Package Orders</td><td>No description available Story format</td><td>319</td><td>The Boss Depot</td><td>Small Business Help,Best Small Business Ideas,Successful Business Tips,Business Advice,Small Business Marketing,Business Branding,Business Planner,Marketing Ideas,Small Business Organization</td><td>multi-video(story page format)</td><td>https://i.pinimg.com/videos/thumbnails/originals/90/29/16/90291635d804620c99729e4a7eeaa1e1.0000001.jpg</td><td>/data/event-planning</td><td>event-planning</td></tr><tr><td>7446</td><td>2f11aedc-b67b-4f61-82ab-457ca66c72a8</td><td>Korean Men Wool Blends Coats Overcoat Male Winter Warm Clothes Wool Outwear Long Black White Plaid Blends Male Coat Plus Size - Dark Grey / XXL / China</td><td>Brand Name: NoEnName_NullMaterial: PolyesterOrigin: CN(Origin)Applicable Season: Autumn And WinterApplicable Scene: BANQUETStyle: CasualSleeve Length(cm): FullSleeve Style: Regu… </td><td>662</td><td>Fkjie</td><td>Ramses,Black Coat Outfit,Man's Overcoat,Black Overcoat,Fashion Casual,Fashion Men,Men Winter Fashion,Herren Winter,Outfits Hombre</td><td>image</td><td>https://i.pinimg.com/originals/dd/c5/4f/ddc54f1ae810704dd7d1dbd0c3cbd361.jpg</td><td>/data/mens-fashion</td><td>mens-fashion</td></tr><tr><td>10524</td><td>df3510fe-4c3d-4035-982c-2b5e53e21c59</td><td>Lamborghini Urus</td><td>Lamborghini Urus</td><td>134000</td><td>Cars Zone</td><td>Dream Cars,My Dream Car,Lambo Truck,Top Luxury Cars,Lux Cars,Pretty Cars,Car Goals,Photo Couple,Future Car</td><td>image</td><td>https://i.pinimg.com/originals/bf/56/bc/bf56bcb24dcd3b8a720622a15222390c.jpg</td><td>/data/vehicles</td><td>vehicles</td></tr><tr><td>2530</td><td>41162d03-a159-43dd-a10d-cb393d6c2007</td><td>20 Best DIY Ugly Christmas Sweater Ideas (Dresses/Outfits too)</td><td>20 DIY ugly christmas sweater and outfit ideas for an ugly sweater party! Ideas include homemade sweater ideas, dresses, outfits with friends, and more!</td><td>44000</td><td>Hairs Out of Place</td><td>Couple Christmas,Christmas Style,Christmas Fun,Chicago Christmas,Christmas Scenes,Christmas Fashion,Outdoor Christmas,Diy Ugly Christmas Sweater,Ugly Sweater Party</td><td>image</td><td>https://i.pinimg.com/originals/a7/3a/ed/a73aed97b55b51881f59d864eaf6ac0c.jpg</td><td>/data/christmas</td><td>christmas</td></tr><tr><td>4775</td><td>e1ade703-c9e8-4ed8-b960-f598a665f5ab</td><td>Seashell Napkin Rings - Satsuma Designs</td><td>Seashell Napkin Rings Seashells evoke summer to me and they're a great way to bring the summertime to any season when entertaining....</td><td>18000</td><td>Satsuma Designs | Make + Sew + Teach</td><td>Moana Birthday Party,Girl Birthday,Birthday Parties,Summer Parties,Holiday Parties,Tea Parties,Nautical Wedding,Nautical Theme,Sea Side</td><td>image</td><td>https://i.pinimg.com/originals/cc/6c/10/cc6c104f0090def179e45bd99b021435.jpg</td><td>/data/event-planning</td><td>event-planning</td></tr><tr><td>6770</td><td>8cfba8b2-229b-4255-a7f2-82f1a37d6445</td><td>Fashion clothing for men | Suits | Street Style |... - It was night that night.</td><td>mens work outfits #men'sbusinessoutfit #men's #business #outfit #mens #fashion</td><td>20000</td><td>Outfit Ideas HQ</td><td>Smart Business Casual,Business Casual Attire For Men,Professional Attire,Preppy Mens Fashion,Mens Fashion Suits,Men's Fashion,Men's Casual Fashion,Fashion Ideas,Fashion Socks</td><td>image</td><td>https://i.pinimg.com/originals/af/de/b2/afdeb28ab1d9bcc07fd757d10c2446a9.jpg</td><td>/data/mens-fashion</td><td>mens-fashion</td></tr><tr><td>5184</td><td>e49cdde3-f98e-41bc-a840-d94863de358a</td><td>12 Month Money Challenge</td><td>12 Month Money Challenge | He and She Eat Clean</td><td>88000</td><td>He and She Eat Clean</td><td>Savings Challenge,Money Saving Challenge,Savings Plan,Money Saving Tips,Saving Ideas,Retirement Savings,Money Tips,Money Chart,Money Plan</td><td>image</td><td>https://i.pinimg.com/originals/02/c9/7e/02c97eff00aa1c1f518c5b2772565548.jpg</td><td>/data/finance</td><td>finance</td></tr><tr><td>1537</td><td>beae025b-7a9b-4796-87cd-3b1c98c68c06</td><td>DIY Coffee Grounds Facial Scrub {Natural Beauty} - Creative Home Keeper</td><td>DIY Coffee Grounds Facial Scrub: Only 2 ingredients you probably already have in your pantry makes this not only simple and natural, but also quite frugal too! Your skin will th… </td><td>28000</td><td>Creative Home Keeper</td><td>Beauty Care,Diy Beauty,Beauty Hacks,Face Beauty,Beauty Ideas,Beauty Tutorials,Luscious Hair,Home Remedies For Hair,Face Masks</td><td>image</td><td>https://i.pinimg.com/originals/62/4f/cb/624fcbe8dfec755ac2da7bb8a1468b6c.jpg</td><td>/data/beauty</td><td>beauty</td></tr><tr><td>2090</td><td>db317dcf-d3b0-4ace-a95d-9a5208e45cd0</td><td>My favorite Christmas Trees of 2019!</td><td>For some beautiful Christmas Tree inspirations, stop by and see My Favorite Christmas Trees of 2019 for so many great ideas!</td><td>31000</td><td>Home with Holliday</td><td>White Flocked Christmas Tree,Elegant Christmas Trees,Beautiful Christmas Decorations,Black Christmas,Christmas Tree Themes,Noel Christmas,Christmas Night,Christmas Tree With Feathers,Rustic Christmas</td><td>image</td><td>https://i.pinimg.com/originals/35/81/92/358192958420057003411c93a95a4041.jpg</td><td>/data/christmas</td><td>christmas</td></tr><tr><td>1379</td><td>bdb0b6b9-e4cc-4dcd-8a49-47775501f12b</td><td>Here’s What Beauty Products People Are Buying On Amazon Right Now</td><td>Movers and Shakers is a list of products on Amazon that are currently rising up in the ranking. This week in beauty products: coconut lime scrubs and ~Wunderbrow~.</td><td>null</td><td>BuzzFeed</td><td>Beauty Blender Sponge,Makeup Blender,Beauty Sponge,Makeup Tools,Makeup Brushes,Makeup Sponges,Best Makeup Sponge,Aesthetica Cosmetics,Cream Contour</td><td>image</td><td>https://i.pinimg.com/originals/4a/a4/a1/4aa4a1879bdff0ebdf280cad3af2a45d.jpg</td><td>/data/beauty</td><td>beauty</td></tr><tr><td>1301</td><td>c072a9aa-e65e-4932-a5fe-60d8a341c669</td><td>Custom Beauty | Individually Filled | Function of Beauty</td><td>Customized Skin Care, built just for you.</td><td>8000</td><td>Function of Beauty</td><td>Skincare Packaging,Beauty Packaging,Face Skin Care,Diy Skin Care,Skin Care Tools,Beauty Care,Beauty Skin,Women's Beauty,Luxury Beauty</td><td>image</td><td>https://i.pinimg.com/originals/e9/64/b8/e964b82da8add27a9172946a0de64b30.jpg</td><td>/data/beauty</td><td>beauty</td></tr><tr><td>660</td><td>7e2fdc90-4501-4da7-86fa-263c7311b49a</td><td>36 DIY Canvas Painting Ideas</td><td>Easy painting ideas for those blank walls of yours? Try our 36 DIY canvas painting ideas for homemade wall art for the bedroom, living room, kitchen, home.</td><td>985000</td><td>DIY Joy - Crafts, Home Improvement, Decor & Recipes</td><td>Simple Wall Art,Diy Wall Art,Diy Art,Abstract Ocean Painting,Creative Arts And Crafts,Ocean Scenes,Adult Crafts,Ocean Crafts For Teens,Arts And Crafts For Adults</td><td>image</td><td>https://i.pinimg.com/originals/9c/4c/7e/9c4c7ecbc1bdc3bf0be8e3c7db5ad8ab.jpg</td><td>/data/art</td><td>art</td></tr><tr><td>3285</td><td>45aa124d-a7e6-4a3f-a434-fd59284abed9</td><td>A Beaded Snowflake Craft for Kids: Math & Fine Motor Activity</td><td>This beaded snowflake ornament craft for kids is a great winter project that provides opportunities to work on fine motor skills and number sense. I want to show you a cute wint… </td><td>50000</td><td>Early Learning Ideas</td><td>Winter Activities For Kids,Holiday Crafts For Kids,Craft Activities,Winter Toddler Crafts,Winter Preschool Crafts,Winter Crafts For Preschoolers,Frozen Activities,Hand Crafts For Kids,Holiday Fine Motor Activities</td><td>image</td><td>https://i.pinimg.com/originals/f4/28/f5/f428f54127770cfb2c347feefad5b5ea.png</td><td>/data/diy-and-crafts</td><td>diy-and-crafts</td></tr><tr><td>9969</td><td>c48eaf84-76ae-4c93-88b4-cd20aeca11e2</td><td>15 Fairytale Travel Destinations You HAVE To See</td><td>These places look like they have been taken right out of a fairy tale! Check out the best fairy tale travel destinations in the world!</td><td>91000</td><td>Avenly Lane Travel blog | Travel Inspiration | Beautiful Places</td><td>Ville France,Reisen In Europa,Voyage Europe,Destination Voyage,Destination Wedding,Travel Goals,Travel Tips,Travel Hacks,Travel Bag</td><td>image</td><td>https://i.pinimg.com/originals/4d/16/72/4d1672aa76345e0d7e6120c394b650d0.jpg</td><td>/data/travel</td><td>travel</td></tr></tbody></table></div>"
      ]
     },
     "metadata": {
      "application/vnd.databricks.v1+output": {
       "addedWidgets": {},
       "aggData": [],
       "aggError": "",
       "aggOverflow": false,
       "aggSchema": [],
       "aggSeriesLimitReached": false,
       "aggType": "",
       "arguments": {},
       "columnCustomDisplayInfos": {},
       "data": [
        [
         2952,
         "59decdeb-6a42-4ddb-afcf-712719d85367",
         "Handprint Joy Keepsake Craft For The Holidays",
         "We hoping to spread so much crafty JOY with our latest tutorial! Today's Handprint Joy Keepsake Printable post, is perfect to make in honor of the",
         226000,
         "Glued To My Crafts",
         "Christmas Art Projects,Christmas Arts And Crafts,Christmas Crafts For Toddlers,Winter Crafts For Kids,Toddler Christmas,Christmas Crafts For Kindergarteners,Christmas Tree,Christmas Decor,Christmas Handprint Crafts",
         "image",
         "https://i.pinimg.com/originals/5e/90/22/5e9022c20b4a0422bd989be5da9e97c1.jpg",
         "/data/diy-and-crafts",
         "diy-and-crafts"
        ],
        [
         6813,
         "632ac3ec-c018-4266-ade7-95d232d6c935",
         "No Title Data Available",
         "No description available Story format",
         null,
         "User Info Error",
         "N,o, ,T,a,g,s, ,A,v,a,i,l,a,b,l,e",
         "multi-video(story page format)",
         "Image src error.",
         "/data/mens-fashion",
         "mens-fashion"
        ],
        [
         867,
         "a56691d1-f302-4b54-9bb7-93afa29331f1",
         "How to Use the Rule of Thirds",
         "How to improve a paintings using just four lines? I’m sharing one of my favorite strategies to make strong compositions - The Rule of Thirds.",
         34000,
         "Mary Bentz Gilkerson: Artist+Teacher",
         "Acrylic Painting Lessons,Acrylic Painting Techniques,Painting Videos,Art Techniques,Painting & Drawing,Drawing Tips,Oil Painting Tips,Acrylic Art,Learn Art",
         "image",
         "https://i.pinimg.com/originals/c3/34/d2/c334d23c28c23ecdeeafdb0a6a3c3835.jpg",
         "/data/art",
         "art"
        ],
        [
         4500,
         "197405a0-21ba-4f01-8e35-f98395c489cc",
         "How to Work From Home as an Event Planner",
         "Do you love planning parties? Do you want to work-at-home? This post covers everything you need to know about becoming a home-based event planner!",
         110000,
         "The Work at Home Woman",
         "Event Planning Quotes,Event Planning Checklist,Planning Budget,Event Planning Business,Wedding Planning Tips,Party Planning,Business Ideas,Event Ideas,Wedding Advice",
         "image",
         "https://i.pinimg.com/originals/33/79/43/33794391313d094103b20eb01f5aa49f.jpg",
         "/data/event-planning",
         "event-planning"
        ],
        [
         7073,
         "0621d967-86d0-49b4-9374-68ee59059154",
         "TENDÊNCIAS NA MODA MASCULINA VERÃO 2020",
         "Tu veux utiliser cette image en mode transparent pour le deposer sur n'importe quel plan?Découvre comment rendre cette images transparente avec des contours. Clique sur l'image… ",
         2000,
         "Ecole du Net",
         "Cool Outfits For Men,Stylish Mens Outfits,Sporty Outfits,Urban Outfits,Mode Outfits,Stylish Clothes For Men,Girl Outfits,Grunge Outfits,Outfit Ideas For Guys",
         "image",
         "https://i.pinimg.com/originals/c5/24/6f/c5246f79a1f1febc2b2ab2541cd92d49.png",
         "/data/mens-fashion",
         "mens-fashion"
        ],
        [
         6374,
         "991cfb8f-d972-4cc9-b2aa-1cb66e94b355",
         "Farmhouse Easter Vignettes Home Tour",
         "Farmhouse Easter Vignettes Home Tour",
         55000,
         "The Painted Hinge",
         "Country Farmhouse Decor,French Country Decorating,Farmhouse Design,Modern Farmhouse,Vintage Farmhouse Decor,Farmhouse Style,Farmhouse Ideas,Cottage Farmhouse,Antique Farmhouse",
         "image",
         "https://i.pinimg.com/originals/85/71/de/8571decd7793d8c4f23f2970e2708b73.jpg",
         "/data/home-decor",
         "home-decor"
        ],
        [
         10904,
         "0ef85377-31a7-42e9-a275-69f78f2ffc63",
         "Search: 10 results found for \"heart steering wheel \"",
         "Tokyo Tom's Automotive Parts and Accessories for Sports, Drift and JDM Enthusiasts. Over 20,000 auto parts and accessories direct to you at the best possible prices. Follow us f… ",
         301,
         "Kay𖨆",
         "Miata Car,Mazda Miata,Dream Cars,My Dream Car,Pretty Cars,Cute Cars,Pink Car Accessories,Girly Car,Rims For Cars",
         "image",
         "https://i.pinimg.com/originals/18/3d/9c/183d9ce9fbd5082fbad72f4119a23482.jpg",
         "/data/vehicles",
         "vehicles"
        ],
        [
         3717,
         "186482b4-00e0-4229-bc2c-fadb1921ea2e",
         "The Leading Edge of Early Childhood Education : Linking Science to Policy for a New Generation (Paperback)",
         "The Leading Edge of Early Childhood Education aims to support the effort to simultaneously scale up and improve the quality of early childhood education by bringing together rel… ",
         null,
         "Walmart",
         "Term Life,Use Of Technology,Emotional Development,Learning Environments,Early Childhood Education,Effort,Insight,Scale,Science",
         "image",
         "https://i.pinimg.com/originals/81/b8/3e/81b83e687c82c45984a5e4282e960b19.jpg",
         "/data/education",
         "education"
        ],
        [
         10253,
         "cab8a53e-40e1-4324-9e25-9b339ade9fd2",
         "Romantic Travel Destinations For Adventurous Couples - Society19",
         "Romantic travel destinations shouldn't be limited to Florida beaches and relaxing resorts. Celebrate your next anniversary or just get away with the person you love by having a… ",
         null,
         "SOCIETY19",
         "Places To Travel,Travel Destinations,Places To Visit,Romantic Destinations,Africa Destinations,Romantic Vacations,Travel Pictures,Travel Photos,Honeymoon Pictures",
         "image",
         "https://i.pinimg.com/originals/37/82/eb/3782eb7bc424afa46e5325642f7e3a5c.jpg",
         "/data/travel",
         "travel"
        ],
        [
         4983,
         "15bf1a80-b2ff-47bf-9137-5ba26f1a17dd",
         "kytica saténová - výsledky vyhľadávania",
         "kytica saténová - výsledky vyhľadávania od slovenských tvorcov, remeselníkov, umelcov a návrhárov. Lokálne výrobky od domácich autorov.",
         92000,
         "SAShE.sk",
         "Fountain Wedding Cakes,Care Bears Vintage,Betta Fish Types,Best Sugar Cookies,Event Planning Business,Color Psychology,Crewel Embroidery,Blessed Mother,Wedding Bouquets",
         "image",
         "https://i.pinimg.com/originals/aa/1e/4d/aa1e4d9f57fe2cfaf2cd529276c7526a.jpg",
         "/data/event-planning",
         "event-planning"
        ],
        [
         5566,
         "2ebe1964-767d-40e7-a274-71294045b048",
         "11 simple steps to help you pay off any kind of debt",
         "Take it from people who have been there.",
         406,
         "Elizabeth Leigh",
         "Illustration Simple,Pay Off Mortgage Early,Paying Off Credit Cards,Mortgage Tips,Refinance Mortgage,Mortgage Calculator,Mortgage Estimator,Mortgage Humor,Mortgage Payment",
         "image",
         "https://i.pinimg.com/originals/e9/6d/4d/e96d4dc5f4175a1633294a0d016387df.jpg",
         "/data/finance",
         "finance"
        ],
        [
         4482,
         "8489479d-b91b-46b8-8088-b29958cd2503",
         "4 Tips for Booking your First Client without a Portfolio (2021) - EVENT PLANNING CERTIFICATE",
         "Today I'm sharing four simple strategies event planners can use right now to book your first paying client without a portfolio.",
         884,
         "Jody-Ann Rowe | Marketing Coach for Wedding Professionals",
         "Event Planning Template,Event Planning Quotes,Event Planning Checklist,Event Planning Business,Event Planning Design,Party Planning,Wedding Planning,Wedding Ideas,Business Ideas",
         "image",
         "https://i.pinimg.com/originals/6d/ec/c5/6decc533f545a95eed6536640f419c1c.png",
         "/data/event-planning",
         "event-planning"
        ],
        [
         4651,
         "98e74286-2d52-4c2f-87e8-0e5ac249a308",
         "Beautiful Princess | Etsy",
         "This is a really beautiful princess invitation ideal to your next important day The invitation come with withe envelopes or a cellophane bag We don't sell just one invitation we… ",
         19,
         "Rachelle DeBoue",
         "Quince Invitations,Butterfly Invitations,Princess Invitations,Baptism Invitations,Pink Invitations,Invitation Cards,Wedding Invitations,Invitations Quinceanera,Quinceanera Planning",
         "image",
         "https://i.pinimg.com/originals/8c/2e/85/8c2e85387255f86569cdc73c33e89ee1.jpg",
         "/data/event-planning",
         "event-planning"
        ],
        [
         9567,
         "75b3e4a0-31e6-40e9-83e1-1bcc87c7ae7f",
         "The Solo Female Traveler's Guide to Iceland • The Blonde Abroad",
         "I could rave all day about Iceland—in addition to being safe, it’s natural wonders are truly amazing. Here is my solo female traveler's guide to Iceland!",
         123000,
         "The Blonde Abroad",
         "Guide To Iceland,Iceland Travel Tips,Solo Travel Tips,Travel Packing,Europe Packing,Traveling Europe,Backpacking Europe,Packing Lists,Air Travel",
         "image",
         "https://i.pinimg.com/originals/05/09/34/050934de78f82252c7dfc89af21c4321.jpg",
         "/data/travel",
         "travel"
        ],
        [
         6633,
         "d136f6bc-840d-44f8-bbad-115eb7e6c51e",
         "The Cottage Journal on Instagram: “Can you say color?! 😍😍😍 We are loving the cheery vibes that these aqua blue cabinets are giving. If you could paint your cabinets any…”",
         "6,636 Likes, 141 Comments - The Cottage Journal (@thecottagejournal) on Instagram: “Can you say color?! 😍😍😍 We are loving the cheery vibes that these aqua blue cabinets are g… ",
         394,
         "Sarah Martin",
         "Diy Kitchen Cabinets,Kitchen Redo,Home Decor Kitchen,New Kitchen,Home Kitchens,Kitchen Remodeling,Aqua Kitchen,Kitchen Counters,Kitchen Islands",
         "image",
         "https://i.pinimg.com/originals/8c/17/a2/8c17a257b70780480bb89c3699363144.jpg",
         "/data/home-decor",
         "home-decor"
        ],
        [
         10912,
         "13d7053a-0dfb-4249-98e7-774cad35c564",
         "Shelby GT500 Mustang",
         "Shelby GT500 First Drive - Most Powerful Street-Legal Ford Ever",
         22000,
         "ManTripping",
         "Ford Mustang Shelby Gt500,Mustang Cobra,Ford Gt500,Ford Shelby,Auto Poster,Shelby Gt 500,Ford Mustang Wallpaper,Street Racing Cars,Ford Classic Cars",
         "image",
         "https://i.pinimg.com/originals/d0/e8/ef/d0e8ef5fdb3eee67dcf260cd5f648580.jpg",
         "/data/vehicles",
         "vehicles"
        ],
        [
         10500,
         "d559762f-ead9-4914-97d0-c226ad016826",
         "CREDITS: jbalwaysfresh",
         "No description available Story format",
         2000,
         "ForYou",
         "Fast Sports Cars,Exotic Sports Cars,Luxury Sports Cars,Weird Cars,Cool Cars,Strange Cars,Crazy Cars,E36 Coupe,Best Jdm Cars",
         "multi-video(story page format)",
         "https://i.pinimg.com/videos/thumbnails/originals/37/22/fa/3722fa11e34a785bd7546103da3a291c.0000001.jpg",
         "/data/vehicles",
         "vehicles"
        ],
        [
         6309,
         "f0e84d26-ee34-44bd-bd93-783c56616e60",
         "70 Fall Farmhouse Decor Ideas » Lady Decluttered",
         "Need some neutral fall farmhouse decor ideas? We found the best decorating ideas from the front porch, livings room, and even the bedroom!",
         88000,
         "Lady Decluttered | Decluttering, Organizing, & Simple Living Tips",
         "Country Decor,Farmhouse Decor,Farmhouse Ideas,Home Living Room,Living Room Decor,Fall Room Decor,Fall Entryway Decor,Deco Design,Autumn Home",
         "image",
         "https://i.pinimg.com/originals/0d/c0/16/0dc016230f5c6a7712d16283e199b9b3.jpg",
         "/data/home-decor",
         "home-decor"
        ],
        [
         10097,
         "14fba170-01a3-4584-a2d8-48884101cea6",
         "11 Best Places In The Netherlands To Visit",
         "11 Best Places In The Netherlands To Visit - Hand Luggage Only - Travel, Food & Photography Blog #travel",
         459000,
         "Hand Luggage Only",
         "Travel Photography Tumblr,Photography Beach,Food Photography,Canon Photography,Amsterdam Photography,Photography Equipment,Tumblr Travel,Scenery Photography,Adventure Photography",
         "image",
         "https://i.pinimg.com/originals/5c/a7/05/5ca70597aef1f45bb4b8dab4b81bb830.jpg",
         "/data/travel",
         "travel"
        ],
        [
         6671,
         "4cd9f203-5a1d-43d0-9f2f-5ae29fe8b461",
         "Striped Coffin Shelf",
         "This Striped Coffin Shelf is perfect for showcasing your most prized possessions. Thanks to the black and white striped backing, you can now better showcase darker objects and a… ",
         262,
         "Witching Hour Baby",
         "Dark Home Decor,Goth Home Decor,Goth Bedroom,Gothic Bedroom Decor,Gothic Room,Beetlejuice Halloween,Gothic House,Coffin,Room Inspiration",
         "image",
         "https://i.pinimg.com/originals/e4/a6/c0/e4a6c0dd07e418e6a3be9c79cb6a17a7.png",
         "/data/home-decor",
         "home-decor"
        ],
        [
         6849,
         "cc37c836-b2f3-4f1e-b8fd-da1a83bbc200",
         "Chêne Du Paris",
         "Chêne du Paris creates exquisitely handcrafted leather shoes for men that let their individualism shine through their modern, exclusive, and timeless style. We inspire to help y… ",
         3000,
         "CHRISTIAN CHÊNE",
         "Stylish Mens Fashion,Stylish Mens Outfits,Men Fashion,Fashion Ideas,Fashion Clothes,Fashion Shirts,Man Winter Fashion,Man Clothes Style,Fashion Spring",
         "image",
         "https://i.pinimg.com/originals/8c/4f/aa/8c4faa790f7e8ad924ab464b708acf11.jpg",
         "/data/mens-fashion",
         "mens-fashion"
        ],
        [
         3359,
         "4899e069-d6f4-42aa-ba5c-576e9680c44b",
         "The Complete Guide to Sharpie Mugs - with Simple Designs and Ideas",
         "Find out how to make Sharpie mugs that won't wash away! Also, get some fun design ideas that are so simple a kid can do it. Includes baking temperature,",
         48000,
         "Jasmine | Feeling Nifty | Acrylic Painting Tutorials, Ideas &More",
         "Valentine Day Crafts,Xmas Crafts,Fun Crafts,Simple Crafts,Simple Craft Ideas,Kids Valentines,Tape Crafts,Diy Arts And Crafts,Decor Crafts",
         "image",
         "https://i.pinimg.com/originals/cb/4b/b4/cb4bb4d11dd6e158155a975d48191516.png",
         "/data/diy-and-crafts",
         "diy-and-crafts"
        ],
        [
         3175,
         "6458726f-1a86-4cb1-b29f-224d3d767ffb",
         "Gingerbread House Craft for Kids",
         "This gingerbread house craft is perfect for the month of December. It works well as an at-home craft, or as part of your gingerbread activities for Kindergarten or first grade.… ",
         52000,
         "The Printable Princess",
         "Preschool Christmas Crafts,Christmas Arts And Crafts,Kindergarten Crafts,Daycare Crafts,Winter Crafts For Kids,Christmas Activities For Kids,Preschool Crafts,Kids Christmas,Holiday Crafts",
         "image",
         "https://i.pinimg.com/originals/30/06/87/300687a63b3654b74eae1ad31981c620.jpg",
         "/data/diy-and-crafts",
         "diy-and-crafts"
        ],
        [
         250,
         "8bf6d8fb-6f21-4d8c-86ff-3e3572875dee",
         "Beautiful Souls Healing With Art: Holly Irwin - Hello Lovely",
         "Come tour paintings and art work of celebrated Atlanta artist, Holly Irwin in Beautiful Souls Healing With Art: Holly Irwin.",
         115000,
         "Hello Lovely",
         "Art Sketches,Art Drawings,Animal Drawings,Art Amour,Fine Art,Fine Fine,Beautiful Soul,Hello Beautiful,Pebble Art",
         "image",
         "https://i.pinimg.com/originals/60/25/2b/60252bca459d301010f903d0e77fd6d6.jpg",
         "/data/art",
         "art"
        ],
        [
         5566,
         "2ebe1964-767d-40e7-a274-71294045b048",
         "11 simple steps to help you pay off any kind of debt",
         "Take it from people who have been there.",
         406,
         "Elizabeth Leigh",
         "Illustration Simple,Pay Off Mortgage Early,Paying Off Credit Cards,Mortgage Tips,Refinance Mortgage,Mortgage Calculator,Mortgage Estimator,Mortgage Humor,Mortgage Payment",
         "image",
         "https://i.pinimg.com/originals/e9/6d/4d/e96d4dc5f4175a1633294a0d016387df.jpg",
         "/data/finance",
         "finance"
        ],
        [
         2715,
         "e26c5ef8-97cf-47ff-9aef-dfe41ea54ecc",
         "Make a Popsicle Stick Snowman Craft this Christmas",
         "This Popsicle Stick Snowman is one of the easiest crafts you can make this Christmas! Perfect Stocking Stuffer, Christmas Craft & Ornament!",
         229000,
         "ArtsyCraftsyMom | Art, Craft & DIY ideas",
         "Popsicle Stick Christmas Crafts,Christmas Crafts For Toddlers,Christmas Crafts To Make,Winter Crafts For Kids,Preschool Christmas,Christmas Ornament Crafts,Snowman Crafts,Craft Stick Crafts,Toddler Crafts",
         "image",
         "https://i.pinimg.com/originals/84/fd/5e/84fd5e0e9e25b7310aab4c5fd8149fa0.jpg",
         "/data/diy-and-crafts",
         "diy-and-crafts"
        ],
        [
         7648,
         "961ead2e-3c58-42cf-9b56-85d190c0f8dd",
         "House stuff. | Mix & Match Mama",
         "…honestly, the whole staircase seems very overwhelming right now, so I just keep taking it one step at a time.",
         103000,
         "Mix and Match Mama",
         "Motivacional Quotes,Words Quotes,Wise Words,Best Quotes,Motivational Sayings,Reminder Quotes,Popular Quotes,Inspirational Sayings About Life,Hang On Quotes",
         "image",
         "https://i.pinimg.com/originals/a0/f2/ef/a0f2eff818509c88015c4e216c663ad4.jpg",
         "/data/quotes",
         "quotes"
        ],
        [
         4931,
         "ea1a895d-eb93-4e46-bad3-aa2ed586d28a",
         "Small Business Packaging Ideas for Small Business Owners - Business Branding Ideas - Package Orders",
         "No description available Story format",
         319,
         "The Boss Depot",
         "Small Business Help,Best Small Business Ideas,Successful Business Tips,Business Advice,Small Business Marketing,Business Branding,Business Planner,Marketing Ideas,Small Business Organization",
         "multi-video(story page format)",
         "https://i.pinimg.com/videos/thumbnails/originals/90/29/16/90291635d804620c99729e4a7eeaa1e1.0000001.jpg",
         "/data/event-planning",
         "event-planning"
        ],
        [
         7446,
         "2f11aedc-b67b-4f61-82ab-457ca66c72a8",
         "Korean Men Wool Blends Coats Overcoat Male Winter Warm Clothes Wool Outwear Long Black White Plaid Blends Male Coat Plus Size - Dark Grey / XXL / China",
         "Brand Name: NoEnName_NullMaterial: PolyesterOrigin: CN(Origin)Applicable Season: Autumn And WinterApplicable Scene: BANQUETStyle: CasualSleeve Length(cm): FullSleeve Style: Regu… ",
         662,
         "Fkjie",
         "Ramses,Black Coat Outfit,Man's Overcoat,Black Overcoat,Fashion Casual,Fashion Men,Men Winter Fashion,Herren Winter,Outfits Hombre",
         "image",
         "https://i.pinimg.com/originals/dd/c5/4f/ddc54f1ae810704dd7d1dbd0c3cbd361.jpg",
         "/data/mens-fashion",
         "mens-fashion"
        ],
        [
         10524,
         "df3510fe-4c3d-4035-982c-2b5e53e21c59",
         "Lamborghini Urus",
         "Lamborghini Urus",
         134000,
         "Cars Zone",
         "Dream Cars,My Dream Car,Lambo Truck,Top Luxury Cars,Lux Cars,Pretty Cars,Car Goals,Photo Couple,Future Car",
         "image",
         "https://i.pinimg.com/originals/bf/56/bc/bf56bcb24dcd3b8a720622a15222390c.jpg",
         "/data/vehicles",
         "vehicles"
        ],
        [
         2530,
         "41162d03-a159-43dd-a10d-cb393d6c2007",
         "20 Best DIY Ugly Christmas Sweater Ideas (Dresses/Outfits too)",
         "20 DIY ugly christmas sweater and outfit ideas for an ugly sweater party! Ideas include homemade sweater ideas, dresses, outfits with friends, and more!",
         44000,
         "Hairs Out of Place",
         "Couple Christmas,Christmas Style,Christmas Fun,Chicago Christmas,Christmas Scenes,Christmas Fashion,Outdoor Christmas,Diy Ugly Christmas Sweater,Ugly Sweater Party",
         "image",
         "https://i.pinimg.com/originals/a7/3a/ed/a73aed97b55b51881f59d864eaf6ac0c.jpg",
         "/data/christmas",
         "christmas"
        ],
        [
         4775,
         "e1ade703-c9e8-4ed8-b960-f598a665f5ab",
         "Seashell Napkin Rings - Satsuma Designs",
         "Seashell Napkin Rings Seashells evoke summer to me and they're a great way to bring the summertime to any season when entertaining....",
         18000,
         "Satsuma Designs | Make + Sew + Teach",
         "Moana Birthday Party,Girl Birthday,Birthday Parties,Summer Parties,Holiday Parties,Tea Parties,Nautical Wedding,Nautical Theme,Sea Side",
         "image",
         "https://i.pinimg.com/originals/cc/6c/10/cc6c104f0090def179e45bd99b021435.jpg",
         "/data/event-planning",
         "event-planning"
        ],
        [
         6770,
         "8cfba8b2-229b-4255-a7f2-82f1a37d6445",
         "Fashion clothing for men | Suits | Street Style |... - It was night that night.",
         "mens work outfits #men'sbusinessoutfit #men's #business #outfit #mens #fashion",
         20000,
         "Outfit Ideas HQ",
         "Smart Business Casual,Business Casual Attire For Men,Professional Attire,Preppy Mens Fashion,Mens Fashion Suits,Men's Fashion,Men's Casual Fashion,Fashion Ideas,Fashion Socks",
         "image",
         "https://i.pinimg.com/originals/af/de/b2/afdeb28ab1d9bcc07fd757d10c2446a9.jpg",
         "/data/mens-fashion",
         "mens-fashion"
        ],
        [
         5184,
         "e49cdde3-f98e-41bc-a840-d94863de358a",
         "12 Month Money Challenge",
         "12 Month Money Challenge | He and She Eat Clean",
         88000,
         "He and She Eat Clean",
         "Savings Challenge,Money Saving Challenge,Savings Plan,Money Saving Tips,Saving Ideas,Retirement Savings,Money Tips,Money Chart,Money Plan",
         "image",
         "https://i.pinimg.com/originals/02/c9/7e/02c97eff00aa1c1f518c5b2772565548.jpg",
         "/data/finance",
         "finance"
        ],
        [
         1537,
         "beae025b-7a9b-4796-87cd-3b1c98c68c06",
         "DIY Coffee Grounds Facial Scrub {Natural Beauty} - Creative Home Keeper",
         "DIY Coffee Grounds Facial Scrub: Only 2 ingredients you probably already have in your pantry makes this not only simple and natural, but also quite frugal too! Your skin will th… ",
         28000,
         "Creative Home Keeper",
         "Beauty Care,Diy Beauty,Beauty Hacks,Face Beauty,Beauty Ideas,Beauty Tutorials,Luscious Hair,Home Remedies For Hair,Face Masks",
         "image",
         "https://i.pinimg.com/originals/62/4f/cb/624fcbe8dfec755ac2da7bb8a1468b6c.jpg",
         "/data/beauty",
         "beauty"
        ],
        [
         2090,
         "db317dcf-d3b0-4ace-a95d-9a5208e45cd0",
         "My favorite Christmas Trees of 2019!",
         "For some beautiful Christmas Tree inspirations, stop by and see My Favorite Christmas Trees of 2019 for so many great ideas!",
         31000,
         "Home with Holliday",
         "White Flocked Christmas Tree,Elegant Christmas Trees,Beautiful Christmas Decorations,Black Christmas,Christmas Tree Themes,Noel Christmas,Christmas Night,Christmas Tree With Feathers,Rustic Christmas",
         "image",
         "https://i.pinimg.com/originals/35/81/92/358192958420057003411c93a95a4041.jpg",
         "/data/christmas",
         "christmas"
        ],
        [
         1379,
         "bdb0b6b9-e4cc-4dcd-8a49-47775501f12b",
         "Here’s What Beauty Products People Are Buying On Amazon Right Now",
         "Movers and Shakers is a list of products on Amazon that are currently rising up in the ranking. This week in beauty products: coconut lime scrubs and ~Wunderbrow~.",
         null,
         "BuzzFeed",
         "Beauty Blender Sponge,Makeup Blender,Beauty Sponge,Makeup Tools,Makeup Brushes,Makeup Sponges,Best Makeup Sponge,Aesthetica Cosmetics,Cream Contour",
         "image",
         "https://i.pinimg.com/originals/4a/a4/a1/4aa4a1879bdff0ebdf280cad3af2a45d.jpg",
         "/data/beauty",
         "beauty"
        ],
        [
         1301,
         "c072a9aa-e65e-4932-a5fe-60d8a341c669",
         "Custom Beauty | Individually Filled | Function of Beauty",
         "Customized Skin Care, built just for you.",
         8000,
         "Function of Beauty",
         "Skincare Packaging,Beauty Packaging,Face Skin Care,Diy Skin Care,Skin Care Tools,Beauty Care,Beauty Skin,Women's Beauty,Luxury Beauty",
         "image",
         "https://i.pinimg.com/originals/e9/64/b8/e964b82da8add27a9172946a0de64b30.jpg",
         "/data/beauty",
         "beauty"
        ],
        [
         660,
         "7e2fdc90-4501-4da7-86fa-263c7311b49a",
         "36 DIY Canvas Painting Ideas",
         "Easy painting ideas for those blank walls of yours? Try our 36 DIY canvas painting ideas for homemade wall art for the bedroom, living room, kitchen, home.",
         985000,
         "DIY Joy - Crafts, Home Improvement, Decor & Recipes",
         "Simple Wall Art,Diy Wall Art,Diy Art,Abstract Ocean Painting,Creative Arts And Crafts,Ocean Scenes,Adult Crafts,Ocean Crafts For Teens,Arts And Crafts For Adults",
         "image",
         "https://i.pinimg.com/originals/9c/4c/7e/9c4c7ecbc1bdc3bf0be8e3c7db5ad8ab.jpg",
         "/data/art",
         "art"
        ],
        [
         3285,
         "45aa124d-a7e6-4a3f-a434-fd59284abed9",
         "A Beaded Snowflake Craft for Kids: Math & Fine Motor Activity",
         "This beaded snowflake ornament craft for kids is a great winter project that provides opportunities to work on fine motor skills and number sense. I want to show you a cute wint… ",
         50000,
         "Early Learning Ideas",
         "Winter Activities For Kids,Holiday Crafts For Kids,Craft Activities,Winter Toddler Crafts,Winter Preschool Crafts,Winter Crafts For Preschoolers,Frozen Activities,Hand Crafts For Kids,Holiday Fine Motor Activities",
         "image",
         "https://i.pinimg.com/originals/f4/28/f5/f428f54127770cfb2c347feefad5b5ea.png",
         "/data/diy-and-crafts",
         "diy-and-crafts"
        ],
        [
         9969,
         "c48eaf84-76ae-4c93-88b4-cd20aeca11e2",
         "15 Fairytale Travel Destinations You HAVE To See",
         "These places look like they have been taken right out of a fairy tale! Check out the best fairy tale travel destinations in the world!",
         91000,
         "Avenly Lane Travel blog | Travel Inspiration | Beautiful Places",
         "Ville France,Reisen In Europa,Voyage Europe,Destination Voyage,Destination Wedding,Travel Goals,Travel Tips,Travel Hacks,Travel Bag",
         "image",
         "https://i.pinimg.com/originals/4d/16/72/4d1672aa76345e0d7e6120c394b650d0.jpg",
         "/data/travel",
         "travel"
        ]
       ],
       "datasetInfos": [],
       "dbfsResultPath": null,
       "isJsonSchema": true,
       "metadata": {},
       "overflow": false,
       "plotOptions": {
        "customPlotOptions": {},
        "displayType": "table",
        "pivotAggregation": null,
        "pivotColumns": null,
        "xColumns": null,
        "yColumns": null
       },
       "removedWidgets": [],
       "schema": [
        {
         "metadata": "{}",
         "name": "ind",
         "type": "\"integer\""
        },
        {
         "metadata": "{}",
         "name": "unique_id",
         "type": "\"string\""
        },
        {
         "metadata": "{}",
         "name": "title",
         "type": "\"string\""
        },
        {
         "metadata": "{}",
         "name": "description",
         "type": "\"string\""
        },
        {
         "metadata": "{}",
         "name": "follower_count",
         "type": "\"integer\""
        },
        {
         "metadata": "{}",
         "name": "poster_name",
         "type": "\"string\""
        },
        {
         "metadata": "{}",
         "name": "tag_list",
         "type": "\"string\""
        },
        {
         "metadata": "{}",
         "name": "is_image_or_video",
         "type": "\"string\""
        },
        {
         "metadata": "{}",
         "name": "image_src",
         "type": "\"string\""
        },
        {
         "metadata": "{}",
         "name": "save_location",
         "type": "\"string\""
        },
        {
         "metadata": "{}",
         "name": "category",
         "type": "\"string\""
        }
       ],
       "type": "table"
      }
     },
     "output_type": "display_data"
    }
   ],
   "source": [
    "from pyspark.sql.functions import col, expr, regexp_extract, when\n",
    "from pyspark.sql.types import IntegerType\n",
    "\n",
    "df_pin_cleaned = df_pin_raw.replace('', None).na.drop()\n",
    "\n",
    "df_pin_cleaned = df_pin_cleaned.withColumn(\n",
    "    'follower_count',\n",
    "    when(col('follower_count').like('%k'), (expr(\"CAST(SUBSTRING(follower_count, 1, LENGTH(follower_count) - 1) AS INT)\") * 1000))\n",
    "    .when(col('follower_count').like('%m'), (expr(\"CAST(SUBSTRING(follower_count, 1, LENGTH(follower_count) - 1) AS INT)\") * 1000000))\n",
    "    .otherwise(col('follower_count').cast(IntegerType()))\n",
    ")\n",
    "\n",
    "numeric_columns = ['follower_count']\n",
    "for column in numeric_columns:\n",
    "    df_pin_cleaned = df_pin_cleaned.withColumn(column, col(column).cast(IntegerType()))\n",
    "\n",
    "df_pin_cleaned = df_pin_cleaned.withColumn(\n",
    "    'save_location',\n",
    "    regexp_extract(col('save_location'), r'Local save in (.+)', 1)\n",
    ")\n",
    "\n",
    "df_pin_cleaned = df_pin_cleaned.withColumnRenamed('index', 'ind')\n",
    "\n",
    "column_order = ['ind', 'unique_id', 'title', 'description', 'follower_count', 'poster_name', 'tag_list', 'is_image_or_video', 'image_src', 'save_location', 'category']\n",
    "df_pin = df_pin_cleaned.select(column_order)\n",
    "\n",
    "\n",
    "display(df_pin)\n"
   ]
  },
  {
   "cell_type": "code",
   "execution_count": null,
   "metadata": {
    "application/vnd.databricks.v1+cell": {
     "cellMetadata": {
      "byteLimit": 2048000,
      "rowLimit": 10000
     },
     "inputWidgets": {},
     "nuid": "70b5c1c8-cda7-4437-9958-91ede5c8c938",
     "showTitle": false,
     "title": ""
    }
   },
   "outputs": [
    {
     "data": {
      "text/html": [
       "<style scoped>\n",
       "  .table-result-container {\n",
       "    max-height: 300px;\n",
       "    overflow: auto;\n",
       "  }\n",
       "  table, th, td {\n",
       "    border: 1px solid black;\n",
       "    border-collapse: collapse;\n",
       "  }\n",
       "  th, td {\n",
       "    padding: 5px;\n",
       "  }\n",
       "  th {\n",
       "    text-align: left;\n",
       "  }\n",
       "</style><div class='table-result-container'><table class='table-result'><thead style='background-color: white'><tr><th>ind</th><th>country</th><th>coordinates</th><th>timestamp</th></tr></thead><tbody><tr><td>2952</td><td>Chad</td><td>List(-79.2535, -170.409)</td><td>2019-04-03T08:24:44.000+0000</td></tr><tr><td>6813</td><td>Albania</td><td>List(-89.9787, -173.293)</td><td>2019-03-28T09:34:06.000+0000</td></tr><tr><td>867</td><td>Lesotho</td><td>List(43.8747, -54.895)</td><td>2020-10-06T15:34:55.000+0000</td></tr><tr><td>4500</td><td>Aruba</td><td>List(-84.3768, -157.544)</td><td>2020-09-12T03:16:36.000+0000</td></tr><tr><td>7073</td><td>Madagascar</td><td>List(-33.9813, -128.525)</td><td>2021-12-23T13:56:14.000+0000</td></tr><tr><td>6374</td><td>Congo</td><td>List(-76.5909, -153.068)</td><td>2020-05-14T22:42:45.000+0000</td></tr><tr><td>10904</td><td>Romania</td><td>List(64.0854, 35.3199)</td><td>2017-11-17T03:50:33.000+0000</td></tr><tr><td>3717</td><td>Afghanistan</td><td>List(-88.5478, -174.971)</td><td>2019-05-20T06:15:42.000+0000</td></tr><tr><td>10253</td><td>Azerbaijan</td><td>List(-89.3669, -170.886)</td><td>2018-03-07T12:37:25.000+0000</td></tr><tr><td>4983</td><td>India</td><td>List(-8.61001, 57.615)</td><td>2022-10-16T23:45:36.000+0000</td></tr><tr><td>5566</td><td>Egypt</td><td>List(-72.7358, 67.9857)</td><td>2021-02-17T18:10:11.000+0000</td></tr><tr><td>4482</td><td>Bermuda</td><td>List(-79.0427, -174.242)</td><td>2020-04-14T23:57:05.000+0000</td></tr><tr><td>4651</td><td>Cocos (Keeling) Islands</td><td>List(42.3157, -56.7178)</td><td>2020-05-06T16:03:39.000+0000</td></tr><tr><td>9567</td><td>Cameroon</td><td>List(-60.4206, -116.385)</td><td>2021-09-02T20:30:15.000+0000</td></tr><tr><td>6633</td><td>Guyana</td><td>List(86.8189, -91.7252)</td><td>2018-09-02T10:13:09.000+0000</td></tr><tr><td>10912</td><td>Armenia</td><td>List(-89.3302, -60.6105)</td><td>2019-12-11T00:03:39.000+0000</td></tr><tr><td>10500</td><td>Philippines</td><td>List(-84.9984, 155.706)</td><td>2019-06-16T10:28:02.000+0000</td></tr><tr><td>6309</td><td>Anguilla</td><td>List(-28.9498, -165.807)</td><td>2022-10-14T19:53:00.000+0000</td></tr><tr><td>10097</td><td>Algeria</td><td>List(-74.7055, -177.87)</td><td>2021-09-24T16:28:48.000+0000</td></tr><tr><td>6671</td><td>Armenia</td><td>List(-38.5336, 63.0323)</td><td>2019-06-19T07:38:50.000+0000</td></tr><tr><td>6849</td><td>Singapore</td><td>List(15.771, 161.106)</td><td>2019-11-13T13:26:28.000+0000</td></tr><tr><td>3359</td><td>Aruba</td><td>List(-64.984, -117.531)</td><td>2018-12-31T08:50:21.000+0000</td></tr><tr><td>3175</td><td>French Polynesia</td><td>List(-84.8365, -122.171)</td><td>2021-12-08T02:58:18.000+0000</td></tr><tr><td>250</td><td>France</td><td>List(-84.4203, -142.539)</td><td>2018-11-08T12:14:12.000+0000</td></tr><tr><td>5566</td><td>Egypt</td><td>List(-72.7358, 67.9857)</td><td>2021-02-17T18:10:11.000+0000</td></tr><tr><td>2715</td><td>Albania</td><td>List(-58.4025, -168.097)</td><td>2021-12-29T12:18:25.000+0000</td></tr><tr><td>7648</td><td>Madagascar</td><td>List(83.3604, 7.88083)</td><td>2018-02-14T12:26:14.000+0000</td></tr><tr><td>4931</td><td>Honduras</td><td>List(42.2143, -45.0378)</td><td>2020-03-27T07:42:02.000+0000</td></tr><tr><td>7446</td><td>Korea</td><td>List(-79.3098, -179.101)</td><td>2021-10-08T07:48:05.000+0000</td></tr><tr><td>10524</td><td>Guinea</td><td>List(-39.0782, -177.418)</td><td>2022-02-09T07:36:35.000+0000</td></tr><tr><td>2530</td><td>Albania</td><td>List(-89.3675, -157.004)</td><td>2018-08-21T22:40:24.000+0000</td></tr><tr><td>4775</td><td>Maldives</td><td>List(19.1474, 100.721)</td><td>2018-03-21T03:50:29.000+0000</td></tr><tr><td>6770</td><td>Kenya</td><td>List(-58.8668, 44.9303)</td><td>2021-11-21T22:59:39.000+0000</td></tr><tr><td>5184</td><td>Congo</td><td>List(-14.7152, -170.399)</td><td>2018-06-27T00:16:41.000+0000</td></tr><tr><td>1537</td><td>Lebanon</td><td>List(43.6096, -176.551)</td><td>2017-12-15T13:53:57.000+0000</td></tr><tr><td>2090</td><td>Mayotte</td><td>List(78.1523, 0.381029)</td><td>2020-01-10T22:22:33.000+0000</td></tr><tr><td>1379</td><td>American Samoa</td><td>List(-88.5252, -172.436)</td><td>2018-05-26T03:05:20.000+0000</td></tr><tr><td>1301</td><td>Lesotho</td><td>List(-20.2845, -1.62035)</td><td>2020-12-16T16:24:43.000+0000</td></tr><tr><td>660</td><td>Afghanistan</td><td>List(-75.7662, -171.892)</td><td>2021-06-01T23:24:07.000+0000</td></tr><tr><td>3285</td><td>Azerbaijan</td><td>List(-42.3946, -149.855)</td><td>2022-07-26T17:05:09.000+0000</td></tr><tr><td>9969</td><td>Christmas Island</td><td>List(-85.0855, -156.903)</td><td>2019-11-02T09:49:59.000+0000</td></tr><tr><td>857</td><td>Bahamas</td><td>List(-87.0574, -164.826)</td><td>2021-12-28T23:31:43.000+0000</td></tr><tr><td>10659</td><td>Bulgaria</td><td>List(-87.6895, -176.801)</td><td>2018-06-12T12:29:05.000+0000</td></tr><tr><td>8309</td><td>United States of America</td><td>List(75.447, 62.1468)</td><td>2019-05-14T19:32:10.000+0000</td></tr><tr><td>9267</td><td>Aruba</td><td>List(-83.104, -171.302)</td><td>2019-05-08T18:13:23.000+0000</td></tr><tr><td>10204</td><td>Svalbard & Jan Mayen Islands</td><td>List(-14.3257, 26.9087)</td><td>2020-04-06T02:56:29.000+0000</td></tr></tbody></table></div>"
      ]
     },
     "metadata": {
      "application/vnd.databricks.v1+output": {
       "addedWidgets": {},
       "aggData": [],
       "aggError": "",
       "aggOverflow": false,
       "aggSchema": [],
       "aggSeriesLimitReached": false,
       "aggType": "",
       "arguments": {},
       "columnCustomDisplayInfos": {},
       "data": [
        [
         2952,
         "Chad",
         [
          -79.2535,
          -170.409
         ],
         "2019-04-03T08:24:44.000+0000"
        ],
        [
         6813,
         "Albania",
         [
          -89.9787,
          -173.293
         ],
         "2019-03-28T09:34:06.000+0000"
        ],
        [
         867,
         "Lesotho",
         [
          43.8747,
          -54.895
         ],
         "2020-10-06T15:34:55.000+0000"
        ],
        [
         4500,
         "Aruba",
         [
          -84.3768,
          -157.544
         ],
         "2020-09-12T03:16:36.000+0000"
        ],
        [
         7073,
         "Madagascar",
         [
          -33.9813,
          -128.525
         ],
         "2021-12-23T13:56:14.000+0000"
        ],
        [
         6374,
         "Congo",
         [
          -76.5909,
          -153.068
         ],
         "2020-05-14T22:42:45.000+0000"
        ],
        [
         10904,
         "Romania",
         [
          64.0854,
          35.3199
         ],
         "2017-11-17T03:50:33.000+0000"
        ],
        [
         3717,
         "Afghanistan",
         [
          -88.5478,
          -174.971
         ],
         "2019-05-20T06:15:42.000+0000"
        ],
        [
         10253,
         "Azerbaijan",
         [
          -89.3669,
          -170.886
         ],
         "2018-03-07T12:37:25.000+0000"
        ],
        [
         4983,
         "India",
         [
          -8.61001,
          57.615
         ],
         "2022-10-16T23:45:36.000+0000"
        ],
        [
         5566,
         "Egypt",
         [
          -72.7358,
          67.9857
         ],
         "2021-02-17T18:10:11.000+0000"
        ],
        [
         4482,
         "Bermuda",
         [
          -79.0427,
          -174.242
         ],
         "2020-04-14T23:57:05.000+0000"
        ],
        [
         4651,
         "Cocos (Keeling) Islands",
         [
          42.3157,
          -56.7178
         ],
         "2020-05-06T16:03:39.000+0000"
        ],
        [
         9567,
         "Cameroon",
         [
          -60.4206,
          -116.385
         ],
         "2021-09-02T20:30:15.000+0000"
        ],
        [
         6633,
         "Guyana",
         [
          86.8189,
          -91.7252
         ],
         "2018-09-02T10:13:09.000+0000"
        ],
        [
         10912,
         "Armenia",
         [
          -89.3302,
          -60.6105
         ],
         "2019-12-11T00:03:39.000+0000"
        ],
        [
         10500,
         "Philippines",
         [
          -84.9984,
          155.706
         ],
         "2019-06-16T10:28:02.000+0000"
        ],
        [
         6309,
         "Anguilla",
         [
          -28.9498,
          -165.807
         ],
         "2022-10-14T19:53:00.000+0000"
        ],
        [
         10097,
         "Algeria",
         [
          -74.7055,
          -177.87
         ],
         "2021-09-24T16:28:48.000+0000"
        ],
        [
         6671,
         "Armenia",
         [
          -38.5336,
          63.0323
         ],
         "2019-06-19T07:38:50.000+0000"
        ],
        [
         6849,
         "Singapore",
         [
          15.771,
          161.106
         ],
         "2019-11-13T13:26:28.000+0000"
        ],
        [
         3359,
         "Aruba",
         [
          -64.984,
          -117.531
         ],
         "2018-12-31T08:50:21.000+0000"
        ],
        [
         3175,
         "French Polynesia",
         [
          -84.8365,
          -122.171
         ],
         "2021-12-08T02:58:18.000+0000"
        ],
        [
         250,
         "France",
         [
          -84.4203,
          -142.539
         ],
         "2018-11-08T12:14:12.000+0000"
        ],
        [
         5566,
         "Egypt",
         [
          -72.7358,
          67.9857
         ],
         "2021-02-17T18:10:11.000+0000"
        ],
        [
         2715,
         "Albania",
         [
          -58.4025,
          -168.097
         ],
         "2021-12-29T12:18:25.000+0000"
        ],
        [
         7648,
         "Madagascar",
         [
          83.3604,
          7.88083
         ],
         "2018-02-14T12:26:14.000+0000"
        ],
        [
         4931,
         "Honduras",
         [
          42.2143,
          -45.0378
         ],
         "2020-03-27T07:42:02.000+0000"
        ],
        [
         7446,
         "Korea",
         [
          -79.3098,
          -179.101
         ],
         "2021-10-08T07:48:05.000+0000"
        ],
        [
         10524,
         "Guinea",
         [
          -39.0782,
          -177.418
         ],
         "2022-02-09T07:36:35.000+0000"
        ],
        [
         2530,
         "Albania",
         [
          -89.3675,
          -157.004
         ],
         "2018-08-21T22:40:24.000+0000"
        ],
        [
         4775,
         "Maldives",
         [
          19.1474,
          100.721
         ],
         "2018-03-21T03:50:29.000+0000"
        ],
        [
         6770,
         "Kenya",
         [
          -58.8668,
          44.9303
         ],
         "2021-11-21T22:59:39.000+0000"
        ],
        [
         5184,
         "Congo",
         [
          -14.7152,
          -170.399
         ],
         "2018-06-27T00:16:41.000+0000"
        ],
        [
         1537,
         "Lebanon",
         [
          43.6096,
          -176.551
         ],
         "2017-12-15T13:53:57.000+0000"
        ],
        [
         2090,
         "Mayotte",
         [
          78.1523,
          0.381029
         ],
         "2020-01-10T22:22:33.000+0000"
        ],
        [
         1379,
         "American Samoa",
         [
          -88.5252,
          -172.436
         ],
         "2018-05-26T03:05:20.000+0000"
        ],
        [
         1301,
         "Lesotho",
         [
          -20.2845,
          -1.62035
         ],
         "2020-12-16T16:24:43.000+0000"
        ],
        [
         660,
         "Afghanistan",
         [
          -75.7662,
          -171.892
         ],
         "2021-06-01T23:24:07.000+0000"
        ],
        [
         3285,
         "Azerbaijan",
         [
          -42.3946,
          -149.855
         ],
         "2022-07-26T17:05:09.000+0000"
        ],
        [
         9969,
         "Christmas Island",
         [
          -85.0855,
          -156.903
         ],
         "2019-11-02T09:49:59.000+0000"
        ],
        [
         857,
         "Bahamas",
         [
          -87.0574,
          -164.826
         ],
         "2021-12-28T23:31:43.000+0000"
        ],
        [
         10659,
         "Bulgaria",
         [
          -87.6895,
          -176.801
         ],
         "2018-06-12T12:29:05.000+0000"
        ],
        [
         8309,
         "United States of America",
         [
          75.447,
          62.1468
         ],
         "2019-05-14T19:32:10.000+0000"
        ],
        [
         9267,
         "Aruba",
         [
          -83.104,
          -171.302
         ],
         "2019-05-08T18:13:23.000+0000"
        ],
        [
         10204,
         "Svalbard & Jan Mayen Islands",
         [
          -14.3257,
          26.9087
         ],
         "2020-04-06T02:56:29.000+0000"
        ]
       ],
       "datasetInfos": [],
       "dbfsResultPath": null,
       "isJsonSchema": true,
       "metadata": {
        "isDbfsCommandResult": false
       },
       "overflow": false,
       "plotOptions": {
        "customPlotOptions": {},
        "displayType": "table",
        "pivotAggregation": null,
        "pivotColumns": null,
        "xColumns": null,
        "yColumns": null
       },
       "removedWidgets": [],
       "schema": [
        {
         "metadata": "{}",
         "name": "ind",
         "type": "\"integer\""
        },
        {
         "metadata": "{}",
         "name": "country",
         "type": "\"string\""
        },
        {
         "metadata": "{}",
         "name": "coordinates",
         "type": "{\"type\":\"array\",\"elementType\":\"double\",\"containsNull\":true}"
        },
        {
         "metadata": "{}",
         "name": "timestamp",
         "type": "\"timestamp\""
        }
       ],
       "type": "table"
      }
     },
     "output_type": "display_data"
    }
   ],
   "source": [
    "from pyspark.sql.functions import col, array, to_timestamp\n",
    "from pyspark.sql.types import StructType, StructField, DoubleType\n",
    "\n",
    "df_geo = df_geo_raw.withColumn('coordinates', array(col('latitude'), col('longitude')))\n",
    "\n",
    "df_geo = df_geo.drop('latitude', 'longitude')\n",
    "\n",
    "df_geo = df_geo.withColumn('timestamp', to_timestamp(col('timestamp')))\n",
    "\n",
    "column_order = ['ind', 'country', 'coordinates', 'timestamp']\n",
    "df_geo = df_geo.select(column_order)\n",
    "\n",
    "display(df_geo)\n"
   ]
  },
  {
   "cell_type": "code",
   "execution_count": null,
   "metadata": {
    "application/vnd.databricks.v1+cell": {
     "cellMetadata": {
      "byteLimit": 2048000,
      "rowLimit": 10000
     },
     "inputWidgets": {},
     "nuid": "a6d0dd49-5fbd-40f0-8517-bc1bd88018ca",
     "showTitle": false,
     "title": ""
    }
   },
   "outputs": [
    {
     "data": {
      "text/html": [
       "<style scoped>\n",
       "  .table-result-container {\n",
       "    max-height: 300px;\n",
       "    overflow: auto;\n",
       "  }\n",
       "  table, th, td {\n",
       "    border: 1px solid black;\n",
       "    border-collapse: collapse;\n",
       "  }\n",
       "  th, td {\n",
       "    padding: 5px;\n",
       "  }\n",
       "  th {\n",
       "    text-align: left;\n",
       "  }\n",
       "</style><div class='table-result-container'><table class='table-result'><thead style='background-color: white'><tr><th>ind</th><th>user_name</th><th>age</th><th>date_joined</th></tr></thead><tbody><tr><td>2952</td><td>Billy Armstrong</td><td>22</td><td>2015-12-18T20:54:14.000+0000</td></tr><tr><td>6813</td><td>Abigail Ali</td><td>20</td><td>2015-10-24T11:23:51.000+0000</td></tr><tr><td>867</td><td>Herbert Sawyer</td><td>45</td><td>2016-07-27T15:08:03.000+0000</td></tr><tr><td>4500</td><td>Angela Brooks</td><td>24</td><td>2015-11-20T05:37:11.000+0000</td></tr><tr><td>7073</td><td>Manuel Ashley</td><td>55</td><td>2017-07-13T23:48:07.000+0000</td></tr><tr><td>6374</td><td>Brandon Bender</td><td>21</td><td>2016-02-15T23:12:43.000+0000</td></tr><tr><td>10904</td><td>Deanna Alexander</td><td>29</td><td>2016-04-04T18:49:31.000+0000</td></tr><tr><td>3717</td><td>Alexandria Alvarado</td><td>20</td><td>2015-10-23T04:13:23.000+0000</td></tr><tr><td>10253</td><td>Aaron Anderson</td><td>21</td><td>2015-10-23T03:43:54.000+0000</td></tr><tr><td>4983</td><td>John Mueller</td><td>33</td><td>2017-04-28T12:34:25.000+0000</td></tr><tr><td>5566</td><td>Ashley Anderson</td><td>32</td><td>2017-07-14T17:59:46.000+0000</td></tr><tr><td>4482</td><td>Amber Blevins</td><td>20</td><td>2015-12-13T16:33:13.000+0000</td></tr><tr><td>4651</td><td>Charles York</td><td>20</td><td>2016-12-20T21:37:01.000+0000</td></tr><tr><td>9567</td><td>Daniel Dorsey</td><td>26</td><td>2016-05-30T04:59:21.000+0000</td></tr><tr><td>6633</td><td>James Turner</td><td>47</td><td>2017-10-04T16:16:34.000+0000</td></tr><tr><td>10912</td><td>Valerie Bryant</td><td>42</td><td>2016-08-01T22:44:34.000+0000</td></tr><tr><td>10500</td><td>Brooke Vang</td><td>33</td><td>2016-12-09T20:16:49.000+0000</td></tr><tr><td>6309</td><td>Angela Everett</td><td>23</td><td>2016-02-23T11:59:45.000+0000</td></tr><tr><td>10097</td><td>Alexandra Austin</td><td>22</td><td>2015-11-06T05:05:43.000+0000</td></tr><tr><td>6671</td><td>Jessica Long</td><td>47</td><td>2017-10-06T04:10:16.000+0000</td></tr><tr><td>6849</td><td>Jeffrey Jones</td><td>54</td><td>2016-08-12T04:15:37.000+0000</td></tr><tr><td>3359</td><td>Abigail Carter</td><td>21</td><td>2015-12-10T01:13:45.000+0000</td></tr><tr><td>3175</td><td>David Bell</td><td>20</td><td>2016-04-15T17:11:11.000+0000</td></tr><tr><td>250</td><td>Cody Adams</td><td>22</td><td>2015-10-26T03:29:49.000+0000</td></tr><tr><td>5566</td><td>Ashley Anderson</td><td>32</td><td>2017-07-14T17:59:46.000+0000</td></tr><tr><td>2715</td><td>Adrienne Acosta</td><td>21</td><td>2015-11-17T14:56:48.000+0000</td></tr><tr><td>7648</td><td>Louis Patterson</td><td>23</td><td>2016-05-13T10:51:36.000+0000</td></tr><tr><td>4931</td><td>Steven Duncan</td><td>44</td><td>2016-04-25T23:51:06.000+0000</td></tr><tr><td>7446</td><td>Melissa Weiss</td><td>32</td><td>2017-09-19T15:10:12.000+0000</td></tr><tr><td>10524</td><td>Brian Conley</td><td>32</td><td>2016-06-01T06:25:53.000+0000</td></tr><tr><td>2530</td><td>Ariel Brown</td><td>26</td><td>2015-11-24T23:04:52.000+0000</td></tr><tr><td>4775</td><td>Kyle Perry</td><td>29</td><td>2016-08-09T19:40:48.000+0000</td></tr><tr><td>6770</td><td>David Buckley</td><td>30</td><td>2016-05-29T17:08:36.000+0000</td></tr><tr><td>5184</td><td>Jacob Chapman</td><td>42</td><td>2016-05-09T01:25:48.000+0000</td></tr><tr><td>1537</td><td>Nichole Chapman</td><td>27</td><td>2017-06-05T09:25:41.000+0000</td></tr><tr><td>2090</td><td>Edward Oliver</td><td>21</td><td>2016-04-05T00:40:22.000+0000</td></tr><tr><td>1379</td><td>Aaron Abbott</td><td>20</td><td>2015-10-31T18:51:07.000+0000</td></tr><tr><td>1301</td><td>Lisa Washington</td><td>46</td><td>2016-08-18T08:22:56.000+0000</td></tr><tr><td>660</td><td>Amy Atkins</td><td>21</td><td>2015-10-31T07:37:40.000+0000</td></tr><tr><td>3285</td><td>Aaron Greene</td><td>25</td><td>2016-01-14T00:10:04.000+0000</td></tr><tr><td>9969</td><td>Angela Bailey</td><td>21</td><td>2015-12-13T04:59:44.000+0000</td></tr><tr><td>857</td><td>Andrew Burke</td><td>20</td><td>2015-11-14T17:38:31.000+0000</td></tr><tr><td>10659</td><td>David Evans</td><td>21</td><td>2016-03-28T10:54:55.000+0000</td></tr></tbody></table></div>"
      ]
     },
     "metadata": {
      "application/vnd.databricks.v1+output": {
       "addedWidgets": {},
       "aggData": [],
       "aggError": "",
       "aggOverflow": false,
       "aggSchema": [],
       "aggSeriesLimitReached": false,
       "aggType": "",
       "arguments": {},
       "columnCustomDisplayInfos": {},
       "data": [
        [
         2952,
         "Billy Armstrong",
         22,
         "2015-12-18T20:54:14.000+0000"
        ],
        [
         6813,
         "Abigail Ali",
         20,
         "2015-10-24T11:23:51.000+0000"
        ],
        [
         867,
         "Herbert Sawyer",
         45,
         "2016-07-27T15:08:03.000+0000"
        ],
        [
         4500,
         "Angela Brooks",
         24,
         "2015-11-20T05:37:11.000+0000"
        ],
        [
         7073,
         "Manuel Ashley",
         55,
         "2017-07-13T23:48:07.000+0000"
        ],
        [
         6374,
         "Brandon Bender",
         21,
         "2016-02-15T23:12:43.000+0000"
        ],
        [
         10904,
         "Deanna Alexander",
         29,
         "2016-04-04T18:49:31.000+0000"
        ],
        [
         3717,
         "Alexandria Alvarado",
         20,
         "2015-10-23T04:13:23.000+0000"
        ],
        [
         10253,
         "Aaron Anderson",
         21,
         "2015-10-23T03:43:54.000+0000"
        ],
        [
         4983,
         "John Mueller",
         33,
         "2017-04-28T12:34:25.000+0000"
        ],
        [
         5566,
         "Ashley Anderson",
         32,
         "2017-07-14T17:59:46.000+0000"
        ],
        [
         4482,
         "Amber Blevins",
         20,
         "2015-12-13T16:33:13.000+0000"
        ],
        [
         4651,
         "Charles York",
         20,
         "2016-12-20T21:37:01.000+0000"
        ],
        [
         9567,
         "Daniel Dorsey",
         26,
         "2016-05-30T04:59:21.000+0000"
        ],
        [
         6633,
         "James Turner",
         47,
         "2017-10-04T16:16:34.000+0000"
        ],
        [
         10912,
         "Valerie Bryant",
         42,
         "2016-08-01T22:44:34.000+0000"
        ],
        [
         10500,
         "Brooke Vang",
         33,
         "2016-12-09T20:16:49.000+0000"
        ],
        [
         6309,
         "Angela Everett",
         23,
         "2016-02-23T11:59:45.000+0000"
        ],
        [
         10097,
         "Alexandra Austin",
         22,
         "2015-11-06T05:05:43.000+0000"
        ],
        [
         6671,
         "Jessica Long",
         47,
         "2017-10-06T04:10:16.000+0000"
        ],
        [
         6849,
         "Jeffrey Jones",
         54,
         "2016-08-12T04:15:37.000+0000"
        ],
        [
         3359,
         "Abigail Carter",
         21,
         "2015-12-10T01:13:45.000+0000"
        ],
        [
         3175,
         "David Bell",
         20,
         "2016-04-15T17:11:11.000+0000"
        ],
        [
         250,
         "Cody Adams",
         22,
         "2015-10-26T03:29:49.000+0000"
        ],
        [
         5566,
         "Ashley Anderson",
         32,
         "2017-07-14T17:59:46.000+0000"
        ],
        [
         2715,
         "Adrienne Acosta",
         21,
         "2015-11-17T14:56:48.000+0000"
        ],
        [
         7648,
         "Louis Patterson",
         23,
         "2016-05-13T10:51:36.000+0000"
        ],
        [
         4931,
         "Steven Duncan",
         44,
         "2016-04-25T23:51:06.000+0000"
        ],
        [
         7446,
         "Melissa Weiss",
         32,
         "2017-09-19T15:10:12.000+0000"
        ],
        [
         10524,
         "Brian Conley",
         32,
         "2016-06-01T06:25:53.000+0000"
        ],
        [
         2530,
         "Ariel Brown",
         26,
         "2015-11-24T23:04:52.000+0000"
        ],
        [
         4775,
         "Kyle Perry",
         29,
         "2016-08-09T19:40:48.000+0000"
        ],
        [
         6770,
         "David Buckley",
         30,
         "2016-05-29T17:08:36.000+0000"
        ],
        [
         5184,
         "Jacob Chapman",
         42,
         "2016-05-09T01:25:48.000+0000"
        ],
        [
         1537,
         "Nichole Chapman",
         27,
         "2017-06-05T09:25:41.000+0000"
        ],
        [
         2090,
         "Edward Oliver",
         21,
         "2016-04-05T00:40:22.000+0000"
        ],
        [
         1379,
         "Aaron Abbott",
         20,
         "2015-10-31T18:51:07.000+0000"
        ],
        [
         1301,
         "Lisa Washington",
         46,
         "2016-08-18T08:22:56.000+0000"
        ],
        [
         660,
         "Amy Atkins",
         21,
         "2015-10-31T07:37:40.000+0000"
        ],
        [
         3285,
         "Aaron Greene",
         25,
         "2016-01-14T00:10:04.000+0000"
        ],
        [
         9969,
         "Angela Bailey",
         21,
         "2015-12-13T04:59:44.000+0000"
        ],
        [
         857,
         "Andrew Burke",
         20,
         "2015-11-14T17:38:31.000+0000"
        ],
        [
         10659,
         "David Evans",
         21,
         "2016-03-28T10:54:55.000+0000"
        ]
       ],
       "datasetInfos": [],
       "dbfsResultPath": null,
       "isJsonSchema": true,
       "metadata": {
        "isDbfsCommandResult": false
       },
       "overflow": false,
       "plotOptions": {
        "customPlotOptions": {},
        "displayType": "table",
        "pivotAggregation": null,
        "pivotColumns": null,
        "xColumns": null,
        "yColumns": null
       },
       "removedWidgets": [],
       "schema": [
        {
         "metadata": "{}",
         "name": "ind",
         "type": "\"integer\""
        },
        {
         "metadata": "{}",
         "name": "user_name",
         "type": "\"string\""
        },
        {
         "metadata": "{}",
         "name": "age",
         "type": "\"integer\""
        },
        {
         "metadata": "{}",
         "name": "date_joined",
         "type": "\"timestamp\""
        }
       ],
       "type": "table"
      }
     },
     "output_type": "display_data"
    }
   ],
   "source": [
    "from pyspark.sql.functions import col, concat, lit, to_timestamp\n",
    "from pyspark.sql.types import StructType, StructField, IntegerType\n",
    "\n",
    "df_user = df_user_raw.withColumn('user_name', concat(col('first_name'), lit(' '), col('last_name')))\n",
    "\n",
    "df_user = df_user.drop('first_name', 'last_name')\n",
    "\n",
    "df_user = df_user.withColumn('date_joined', to_timestamp(col('date_joined')))\n",
    "\n",
    "column_order = ['ind', 'user_name', 'age', 'date_joined']\n",
    "df_user = df_user.select(column_order)\n",
    "\n",
    "display(df_user)"
   ]
  },
  {
   "cell_type": "code",
   "execution_count": null,
   "metadata": {
    "application/vnd.databricks.v1+cell": {
     "cellMetadata": {
      "byteLimit": 2048000,
      "rowLimit": 10000
     },
     "inputWidgets": {},
     "nuid": "d3640352-efbd-43ae-9138-475735bbb3bb",
     "showTitle": false,
     "title": ""
    }
   },
   "outputs": [
    {
     "data": {
      "text/html": [
       "<style scoped>\n",
       "  .ansiout {\n",
       "    display: block;\n",
       "    unicode-bidi: embed;\n",
       "    white-space: pre-wrap;\n",
       "    word-wrap: break-word;\n",
       "    word-break: break-all;\n",
       "    font-family: \"Menlo\", \"Monaco\", \"Consolas\", \"Ubuntu Mono\", \"Source Code Pro\", monospace;\n",
       "    font-size: 13px;\n",
       "    color: #555;\n",
       "    margin-left: 4px;\n",
       "    line-height: 19px;\n",
       "  }\n",
       "</style>\n",
       "<div class=\"ansiout\">Out[166]: &lt;pyspark.sql.streaming.StreamingQuery at 0x7f1f95f84b50&gt;</div>"
      ]
     },
     "metadata": {
      "application/vnd.databricks.v1+output": {
       "addedWidgets": {},
       "arguments": {},
       "data": "<div class=\"ansiout\">Out[166]: &lt;pyspark.sql.streaming.StreamingQuery at 0x7f1f95f84b50&gt;</div>",
       "datasetInfos": [],
       "metadata": {},
       "removedWidgets": [],
       "type": "html"
      }
     },
     "output_type": "display_data"
    }
   ],
   "source": [
    "dbutils.fs.rm(\"/tmp/kinesis/_checkpoints/\", True)\n",
    "\n",
    "df_pin.writeStream \\\n",
    "  .format(\"delta\") \\\n",
    "  .outputMode(\"append\") \\\n",
    "  .option(\"checkpointLocation\", \"/tmp/kinesis/_checkpoints/\") \\\n",
    "  .table(\"0e06e68acedb_pin_table\")"
   ]
  },
  {
   "cell_type": "code",
   "execution_count": null,
   "metadata": {
    "application/vnd.databricks.v1+cell": {
     "cellMetadata": {
      "byteLimit": 2048000,
      "rowLimit": 10000
     },
     "inputWidgets": {},
     "nuid": "3367f4cb-0d60-44d9-a14e-21c690f54056",
     "showTitle": false,
     "title": ""
    }
   },
   "outputs": [
    {
     "data": {
      "text/html": [
       "<style scoped>\n",
       "  .ansiout {\n",
       "    display: block;\n",
       "    unicode-bidi: embed;\n",
       "    white-space: pre-wrap;\n",
       "    word-wrap: break-word;\n",
       "    word-break: break-all;\n",
       "    font-family: \"Menlo\", \"Monaco\", \"Consolas\", \"Ubuntu Mono\", \"Source Code Pro\", monospace;\n",
       "    font-size: 13px;\n",
       "    color: #555;\n",
       "    margin-left: 4px;\n",
       "    line-height: 19px;\n",
       "  }\n",
       "</style>\n",
       "<div class=\"ansiout\">Out[168]: &lt;pyspark.sql.streaming.StreamingQuery at 0x7f1f961144c0&gt;</div>"
      ]
     },
     "metadata": {
      "application/vnd.databricks.v1+output": {
       "addedWidgets": {},
       "arguments": {},
       "data": "<div class=\"ansiout\">Out[168]: &lt;pyspark.sql.streaming.StreamingQuery at 0x7f1f961144c0&gt;</div>",
       "datasetInfos": [],
       "metadata": {},
       "removedWidgets": [],
       "type": "html"
      }
     },
     "output_type": "display_data"
    }
   ],
   "source": [
    "\n",
    "dbutils.fs.rm(\"/tmp/kinesis/_checkpoints/\", True)\n",
    "df_geo.writeStream \\\n",
    "  .format(\"delta\") \\\n",
    "  .outputMode(\"append\") \\\n",
    "  .option(\"checkpointLocation\", \"/tmp/kinesis/_checkpoints/\") \\\n",
    "  .table(\"0e06e68acedb_geo_table\")"
   ]
  },
  {
   "cell_type": "code",
   "execution_count": null,
   "metadata": {
    "application/vnd.databricks.v1+cell": {
     "cellMetadata": {
      "byteLimit": 2048000,
      "rowLimit": 10000
     },
     "inputWidgets": {},
     "nuid": "ab4c3126-26ae-400e-9d52-69ffb48ea61f",
     "showTitle": false,
     "title": ""
    }
   },
   "outputs": [
    {
     "data": {
      "text/html": [
       "<style scoped>\n",
       "  .ansiout {\n",
       "    display: block;\n",
       "    unicode-bidi: embed;\n",
       "    white-space: pre-wrap;\n",
       "    word-wrap: break-word;\n",
       "    word-break: break-all;\n",
       "    font-family: \"Menlo\", \"Monaco\", \"Consolas\", \"Ubuntu Mono\", \"Source Code Pro\", monospace;\n",
       "    font-size: 13px;\n",
       "    color: #555;\n",
       "    margin-left: 4px;\n",
       "    line-height: 19px;\n",
       "  }\n",
       "</style>\n",
       "<div class=\"ansiout\">Out[169]: &lt;pyspark.sql.streaming.StreamingQuery at 0x7f1f960bfc70&gt;</div>"
      ]
     },
     "metadata": {
      "application/vnd.databricks.v1+output": {
       "addedWidgets": {},
       "arguments": {},
       "data": "<div class=\"ansiout\">Out[169]: &lt;pyspark.sql.streaming.StreamingQuery at 0x7f1f960bfc70&gt;</div>",
       "datasetInfos": [],
       "metadata": {},
       "removedWidgets": [],
       "type": "html"
      }
     },
     "output_type": "display_data"
    }
   ],
   "source": [
    "dbutils.fs.rm(\"/tmp/kinesis/_checkpoints/\", True)\n",
    "df_user.writeStream \\\n",
    "  .format(\"delta\") \\\n",
    "  .outputMode(\"append\") \\\n",
    "  .option(\"checkpointLocation\", \"/tmp/kinesis/_checkpoints/\") \\\n",
    "  .table(\"0e06e68acedb_user_table\")"
   ]
  }
 ],
 "metadata": {
  "application/vnd.databricks.v1+notebook": {
   "dashboards": [],
   "language": "python",
   "notebookMetadata": {
    "pythonIndentUnit": 4
   },
   "notebookName": "Stream_Processing_Kinesis",
   "widgets": {}
  },
  "language_info": {
   "name": "python"
  }
 },
 "nbformat": 4,
 "nbformat_minor": 0
}
