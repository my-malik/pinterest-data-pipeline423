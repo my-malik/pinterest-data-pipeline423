{
 "cells": [
  {
   "cell_type": "code",
   "execution_count": null,
   "metadata": {
    "application/vnd.databricks.v1+cell": {
     "cellMetadata": {
      "byteLimit": 2048000,
      "rowLimit": 10000
     },
     "inputWidgets": {},
     "nuid": "6d8bf558-fc55-4d96-a4b6-077286482377",
     "showTitle": false,
     "title": ""
    }
   },
   "outputs": [
    {
     "data": {
      "text/html": [
       "<style scoped>\n",
       "  .ansiout {\n",
       "    display: block;\n",
       "    unicode-bidi: embed;\n",
       "    white-space: pre-wrap;\n",
       "    word-wrap: break-word;\n",
       "    word-break: break-all;\n",
       "    font-family: \"Menlo\", \"Monaco\", \"Consolas\", \"Ubuntu Mono\", \"Source Code Pro\", monospace;\n",
       "    font-size: 13px;\n",
       "    color: #555;\n",
       "    margin-left: 4px;\n",
       "    line-height: 19px;\n",
       "  }\n",
       "</style>\n",
       "<div class=\"ansiout\"></div>"
      ]
     },
     "metadata": {
      "application/vnd.databricks.v1+output": {
       "addedWidgets": {},
       "arguments": {},
       "data": "<div class=\"ansiout\"></div>",
       "datasetInfos": [],
       "metadata": {},
       "removedWidgets": [],
       "type": "html"
      }
     },
     "output_type": "display_data"
    }
   ],
   "source": [
    "# pyspark functions\n",
    "from pyspark.sql.functions import *\n",
    "# URL processing\n",
    "import urllib"
   ]
  },
  {
   "cell_type": "code",
   "execution_count": null,
   "metadata": {
    "application/vnd.databricks.v1+cell": {
     "cellMetadata": {
      "byteLimit": 2048000,
      "rowLimit": 10000
     },
     "inputWidgets": {},
     "nuid": "4befbe00-6c63-41c1-bb4e-17c30c7c1618",
     "showTitle": false,
     "title": ""
    }
   },
   "outputs": [
    {
     "data": {
      "text/html": [
       "<style scoped>\n",
       "  .ansiout {\n",
       "    display: block;\n",
       "    unicode-bidi: embed;\n",
       "    white-space: pre-wrap;\n",
       "    word-wrap: break-word;\n",
       "    word-break: break-all;\n",
       "    font-family: \"Menlo\", \"Monaco\", \"Consolas\", \"Ubuntu Mono\", \"Source Code Pro\", monospace;\n",
       "    font-size: 13px;\n",
       "    color: #555;\n",
       "    margin-left: 4px;\n",
       "    line-height: 19px;\n",
       "  }\n",
       "</style>\n",
       "<div class=\"ansiout\"></div>"
      ]
     },
     "metadata": {
      "application/vnd.databricks.v1+output": {
       "addedWidgets": {},
       "arguments": {},
       "data": "<div class=\"ansiout\"></div>",
       "datasetInfos": [],
       "metadata": {},
       "removedWidgets": [],
       "type": "html"
      }
     },
     "output_type": "display_data"
    }
   ],
   "source": [
    "# Define the path to the Delta table\n",
    "delta_table_path = \"dbfs:/user/hive/warehouse/authentication_credentials\"\n",
    "\n",
    "# Read the Delta table to a Spark DataFrame\n",
    "aws_keys_df = spark.read.format(\"delta\").load(delta_table_path)"
   ]
  },
  {
   "cell_type": "code",
   "execution_count": null,
   "metadata": {
    "application/vnd.databricks.v1+cell": {
     "cellMetadata": {
      "byteLimit": 2048000,
      "rowLimit": 10000
     },
     "inputWidgets": {},
     "nuid": "52a851b0-0304-4092-bce5-300d04e57434",
     "showTitle": false,
     "title": ""
    }
   },
   "outputs": [
    {
     "data": {
      "text/html": [
       "<style scoped>\n",
       "  .ansiout {\n",
       "    display: block;\n",
       "    unicode-bidi: embed;\n",
       "    white-space: pre-wrap;\n",
       "    word-wrap: break-word;\n",
       "    word-break: break-all;\n",
       "    font-family: \"Menlo\", \"Monaco\", \"Consolas\", \"Ubuntu Mono\", \"Source Code Pro\", monospace;\n",
       "    font-size: 13px;\n",
       "    color: #555;\n",
       "    margin-left: 4px;\n",
       "    line-height: 19px;\n",
       "  }\n",
       "</style>\n",
       "<div class=\"ansiout\"></div>"
      ]
     },
     "metadata": {
      "application/vnd.databricks.v1+output": {
       "addedWidgets": {},
       "arguments": {},
       "data": "<div class=\"ansiout\"></div>",
       "datasetInfos": [],
       "metadata": {},
       "removedWidgets": [],
       "type": "html"
      }
     },
     "output_type": "display_data"
    }
   ],
   "source": [
    "# Get the AWS access key and secret key from the spark dataframe\n",
    "ACCESS_KEY = aws_keys_df.select('Access key ID').collect()[0]['Access key ID']\n",
    "SECRET_KEY = aws_keys_df.select('Secret access key').collect()[0]['Secret access key']\n",
    "# Encode the secrete key\n",
    "ENCODED_SECRET_KEY = urllib.parse.quote(string=SECRET_KEY, safe=\"\")"
   ]
  },
  {
   "cell_type": "code",
   "execution_count": null,
   "metadata": {
    "application/vnd.databricks.v1+cell": {
     "cellMetadata": {
      "byteLimit": 2048000,
      "rowLimit": 10000
     },
     "inputWidgets": {},
     "nuid": "47b13ea0-f497-4caa-93fe-a88447715436",
     "showTitle": false,
     "title": ""
    }
   },
   "outputs": [
    {
     "data": {
      "text/html": [
       "<style scoped>\n",
       "  .ansiout {\n",
       "    display: block;\n",
       "    unicode-bidi: embed;\n",
       "    white-space: pre-wrap;\n",
       "    word-wrap: break-word;\n",
       "    word-break: break-all;\n",
       "    font-family: \"Menlo\", \"Monaco\", \"Consolas\", \"Ubuntu Mono\", \"Source Code Pro\", monospace;\n",
       "    font-size: 13px;\n",
       "    color: #555;\n",
       "    margin-left: 4px;\n",
       "    line-height: 19px;\n",
       "  }\n",
       "</style>\n",
       "<div class=\"ansiout\">Out[4]: True</div>"
      ]
     },
     "metadata": {
      "application/vnd.databricks.v1+output": {
       "addedWidgets": {},
       "arguments": {},
       "data": "<div class=\"ansiout\">Out[4]: True</div>",
       "datasetInfos": [],
       "metadata": {},
       "removedWidgets": [],
       "type": "html"
      }
     },
     "output_type": "display_data"
    }
   ],
   "source": [
    "# AWS S3 bucket name\n",
    "AWS_S3_BUCKET = \"user-0e06e68acedb-bucket\"\n",
    "# Mount name for the bucket\n",
    "MOUNT_NAME = \"/mnt/0e06e68acedb_s3_bucket\"\n",
    "# Source url\n",
    "SOURCE_URL = \"s3n://{0}:{1}@{2}\".format(ACCESS_KEY, ENCODED_SECRET_KEY, AWS_S3_BUCKET)\n",
    "# Mount the drive\n",
    "# dbutils.fs.mount(SOURCE_URL, MOUNT_NAME)"
   ]
  },
  {
   "cell_type": "code",
   "execution_count": null,
   "metadata": {
    "application/vnd.databricks.v1+cell": {
     "cellMetadata": {
      "byteLimit": 2048000,
      "rowLimit": 10000
     },
     "inputWidgets": {},
     "nuid": "e551eaed-5d1a-46b4-889c-a5bf7c9be40a",
     "showTitle": false,
     "title": ""
    }
   },
   "outputs": [
    {
     "data": {
      "text/html": [
       "<style scoped>\n",
       "  .table-result-container {\n",
       "    max-height: 300px;\n",
       "    overflow: auto;\n",
       "  }\n",
       "  table, th, td {\n",
       "    border: 1px solid black;\n",
       "    border-collapse: collapse;\n",
       "  }\n",
       "  th, td {\n",
       "    padding: 5px;\n",
       "  }\n",
       "  th {\n",
       "    text-align: left;\n",
       "  }\n",
       "</style><div class='table-result-container'><table class='table-result'><thead style='background-color: white'><tr><th>path</th><th>name</th><th>size</th><th>modificationTime</th></tr></thead><tbody><tr><td>dbfs:/FileStore/</td><td>FileStore/</td><td>0</td><td>1709879985792</td></tr><tr><td>dbfs:/Users/</td><td>Users/</td><td>0</td><td>1709879985792</td></tr><tr><td>dbfs:/Volume/</td><td>Volume/</td><td>0</td><td>0</td></tr><tr><td>dbfs:/Volumes/</td><td>Volumes/</td><td>0</td><td>0</td></tr><tr><td>dbfs:/_delta_log/</td><td>_delta_log/</td><td>0</td><td>1709879985792</td></tr><tr><td>dbfs:/checkpoint/</td><td>checkpoint/</td><td>0</td><td>1709879985792</td></tr><tr><td>dbfs:/custom/</td><td>custom/</td><td>0</td><td>1709879985792</td></tr><tr><td>dbfs:/databricks-datasets/</td><td>databricks-datasets/</td><td>0</td><td>0</td></tr><tr><td>dbfs:/databricks-results/</td><td>databricks-results/</td><td>0</td><td>0</td></tr><tr><td>dbfs:/dbfs/</td><td>dbfs/</td><td>0</td><td>1709879985792</td></tr><tr><td>dbfs:/delta/</td><td>delta/</td><td>0</td><td>1709879985792</td></tr><tr><td>dbfs:/df_pin.csv/</td><td>df_pin.csv/</td><td>0</td><td>1709879985792</td></tr><tr><td>dbfs:/df_pin.parquet/</td><td>df_pin.parquet/</td><td>0</td><td>1709879985792</td></tr><tr><td>dbfs:/geo_dirty.csv/</td><td>geo_dirty.csv/</td><td>0</td><td>1709879985792</td></tr><tr><td>dbfs:/local_disk0/</td><td>local_disk0/</td><td>0</td><td>1709879985792</td></tr><tr><td>dbfs:/mnt/</td><td>mnt/</td><td>0</td><td>1709879985792</td></tr><tr><td>dbfs:/mount/</td><td>mount/</td><td>0</td><td>1709879985792</td></tr><tr><td>dbfs:/output/</td><td>output/</td><td>0</td><td>1709879985792</td></tr><tr><td>dbfs:/part-00000-ba1b6f69-9949-415d-bb6a-5a1508e01a03-c000.snappy.parquet</td><td>part-00000-ba1b6f69-9949-415d-bb6a-5a1508e01a03-c000.snappy.parquet</td><td>56926</td><td>1704218332000</td></tr><tr><td>dbfs:/part-00001-f866f5d9-a692-4a3f-bf3a-a72ca8bfcb3e-c000.snappy.parquet</td><td>part-00001-f866f5d9-a692-4a3f-bf3a-a72ca8bfcb3e-c000.snappy.parquet</td><td>55704</td><td>1704218326000</td></tr><tr><td>dbfs:/part-00002-e5265761-3c6b-475c-9e6a-5ba024c22cf6-c000.snappy.parquet</td><td>part-00002-e5265761-3c6b-475c-9e6a-5ba024c22cf6-c000.snappy.parquet</td><td>51782</td><td>1704218333000</td></tr><tr><td>dbfs:/part-00003-4e844537-6130-4248-9013-08d6578956ae-c000.snappy.parquet</td><td>part-00003-4e844537-6130-4248-9013-08d6578956ae-c000.snappy.parquet</td><td>50751</td><td>1704218327000</td></tr><tr><td>dbfs:/part-00004-c771fa60-0080-4195-8cb3-1de28d24fa67-c000.snappy.parquet</td><td>part-00004-c771fa60-0080-4195-8cb3-1de28d24fa67-c000.snappy.parquet</td><td>48696</td><td>1704218328000</td></tr><tr><td>dbfs:/part-00005-0b818998-0f95-45cf-acd2-ef1ad0d827fc-c000.snappy.parquet</td><td>part-00005-0b818998-0f95-45cf-acd2-ef1ad0d827fc-c000.snappy.parquet</td><td>46856</td><td>1704218337000</td></tr><tr><td>dbfs:/part-00006-a2f8839b-3081-4672-8f08-e79733f6307d-c000.snappy.parquet</td><td>part-00006-a2f8839b-3081-4672-8f08-e79733f6307d-c000.snappy.parquet</td><td>44037</td><td>1704218330000</td></tr><tr><td>dbfs:/part-00007-4a946295-63c9-40ac-b687-7af02b94a99c-c000.snappy.parquet</td><td>part-00007-4a946295-63c9-40ac-b687-7af02b94a99c-c000.snappy.parquet</td><td>39491</td><td>1704218332000</td></tr><tr><td>dbfs:/part-00008-2c16e39c-cd9d-44eb-b002-db6eb4f5bb0f-c000.snappy.parquet</td><td>part-00008-2c16e39c-cd9d-44eb-b002-db6eb4f5bb0f-c000.snappy.parquet</td><td>14239</td><td>1704218332000</td></tr><tr><td>dbfs:/pin_dirty.csv/</td><td>pin_dirty.csv/</td><td>0</td><td>1709879985792</td></tr><tr><td>dbfs:/pin_kinesis_events/</td><td>pin_kinesis_events/</td><td>0</td><td>1709879985792</td></tr><tr><td>dbfs:/tmp/</td><td>tmp/</td><td>0</td><td>1709879985792</td></tr><tr><td>dbfs:/topics/</td><td>topics/</td><td>0</td><td>1709879985792</td></tr><tr><td>dbfs:/user/</td><td>user/</td><td>0</td><td>1709879985792</td></tr><tr><td>dbfs:/user_dirty.csv/</td><td>user_dirty.csv/</td><td>0</td><td>1709879985792</td></tr><tr><td>dbfs:/volume/</td><td>volume/</td><td>0</td><td>0</td></tr><tr><td>dbfs:/volumes/</td><td>volumes/</td><td>0</td><td>0</td></tr><tr><td>dbfs:/your_delta_table_path/</td><td>your_delta_table_path/</td><td>0</td><td>1709879985792</td></tr></tbody></table></div>"
      ]
     },
     "metadata": {
      "application/vnd.databricks.v1+output": {
       "addedWidgets": {},
       "aggData": [],
       "aggError": "",
       "aggOverflow": false,
       "aggSchema": [],
       "aggSeriesLimitReached": false,
       "aggType": "",
       "arguments": {},
       "columnCustomDisplayInfos": {},
       "data": [
        [
         "dbfs:/FileStore/",
         "FileStore/",
         0,
         1709879985792
        ],
        [
         "dbfs:/Users/",
         "Users/",
         0,
         1709879985792
        ],
        [
         "dbfs:/Volume/",
         "Volume/",
         0,
         0
        ],
        [
         "dbfs:/Volumes/",
         "Volumes/",
         0,
         0
        ],
        [
         "dbfs:/_delta_log/",
         "_delta_log/",
         0,
         1709879985792
        ],
        [
         "dbfs:/checkpoint/",
         "checkpoint/",
         0,
         1709879985792
        ],
        [
         "dbfs:/custom/",
         "custom/",
         0,
         1709879985792
        ],
        [
         "dbfs:/databricks-datasets/",
         "databricks-datasets/",
         0,
         0
        ],
        [
         "dbfs:/databricks-results/",
         "databricks-results/",
         0,
         0
        ],
        [
         "dbfs:/dbfs/",
         "dbfs/",
         0,
         1709879985792
        ],
        [
         "dbfs:/delta/",
         "delta/",
         0,
         1709879985792
        ],
        [
         "dbfs:/df_pin.csv/",
         "df_pin.csv/",
         0,
         1709879985792
        ],
        [
         "dbfs:/df_pin.parquet/",
         "df_pin.parquet/",
         0,
         1709879985792
        ],
        [
         "dbfs:/geo_dirty.csv/",
         "geo_dirty.csv/",
         0,
         1709879985792
        ],
        [
         "dbfs:/local_disk0/",
         "local_disk0/",
         0,
         1709879985792
        ],
        [
         "dbfs:/mnt/",
         "mnt/",
         0,
         1709879985792
        ],
        [
         "dbfs:/mount/",
         "mount/",
         0,
         1709879985792
        ],
        [
         "dbfs:/output/",
         "output/",
         0,
         1709879985792
        ],
        [
         "dbfs:/part-00000-ba1b6f69-9949-415d-bb6a-5a1508e01a03-c000.snappy.parquet",
         "part-00000-ba1b6f69-9949-415d-bb6a-5a1508e01a03-c000.snappy.parquet",
         56926,
         1704218332000
        ],
        [
         "dbfs:/part-00001-f866f5d9-a692-4a3f-bf3a-a72ca8bfcb3e-c000.snappy.parquet",
         "part-00001-f866f5d9-a692-4a3f-bf3a-a72ca8bfcb3e-c000.snappy.parquet",
         55704,
         1704218326000
        ],
        [
         "dbfs:/part-00002-e5265761-3c6b-475c-9e6a-5ba024c22cf6-c000.snappy.parquet",
         "part-00002-e5265761-3c6b-475c-9e6a-5ba024c22cf6-c000.snappy.parquet",
         51782,
         1704218333000
        ],
        [
         "dbfs:/part-00003-4e844537-6130-4248-9013-08d6578956ae-c000.snappy.parquet",
         "part-00003-4e844537-6130-4248-9013-08d6578956ae-c000.snappy.parquet",
         50751,
         1704218327000
        ],
        [
         "dbfs:/part-00004-c771fa60-0080-4195-8cb3-1de28d24fa67-c000.snappy.parquet",
         "part-00004-c771fa60-0080-4195-8cb3-1de28d24fa67-c000.snappy.parquet",
         48696,
         1704218328000
        ],
        [
         "dbfs:/part-00005-0b818998-0f95-45cf-acd2-ef1ad0d827fc-c000.snappy.parquet",
         "part-00005-0b818998-0f95-45cf-acd2-ef1ad0d827fc-c000.snappy.parquet",
         46856,
         1704218337000
        ],
        [
         "dbfs:/part-00006-a2f8839b-3081-4672-8f08-e79733f6307d-c000.snappy.parquet",
         "part-00006-a2f8839b-3081-4672-8f08-e79733f6307d-c000.snappy.parquet",
         44037,
         1704218330000
        ],
        [
         "dbfs:/part-00007-4a946295-63c9-40ac-b687-7af02b94a99c-c000.snappy.parquet",
         "part-00007-4a946295-63c9-40ac-b687-7af02b94a99c-c000.snappy.parquet",
         39491,
         1704218332000
        ],
        [
         "dbfs:/part-00008-2c16e39c-cd9d-44eb-b002-db6eb4f5bb0f-c000.snappy.parquet",
         "part-00008-2c16e39c-cd9d-44eb-b002-db6eb4f5bb0f-c000.snappy.parquet",
         14239,
         1704218332000
        ],
        [
         "dbfs:/pin_dirty.csv/",
         "pin_dirty.csv/",
         0,
         1709879985792
        ],
        [
         "dbfs:/pin_kinesis_events/",
         "pin_kinesis_events/",
         0,
         1709879985792
        ],
        [
         "dbfs:/tmp/",
         "tmp/",
         0,
         1709879985792
        ],
        [
         "dbfs:/topics/",
         "topics/",
         0,
         1709879985792
        ],
        [
         "dbfs:/user/",
         "user/",
         0,
         1709879985792
        ],
        [
         "dbfs:/user_dirty.csv/",
         "user_dirty.csv/",
         0,
         1709879985792
        ],
        [
         "dbfs:/volume/",
         "volume/",
         0,
         0
        ],
        [
         "dbfs:/volumes/",
         "volumes/",
         0,
         0
        ],
        [
         "dbfs:/your_delta_table_path/",
         "your_delta_table_path/",
         0,
         1709879985792
        ]
       ],
       "datasetInfos": [],
       "dbfsResultPath": null,
       "isJsonSchema": true,
       "metadata": {},
       "overflow": false,
       "plotOptions": {
        "customPlotOptions": {},
        "displayType": "table",
        "pivotAggregation": null,
        "pivotColumns": null,
        "xColumns": null,
        "yColumns": null
       },
       "removedWidgets": [],
       "schema": [
        {
         "metadata": "{}",
         "name": "path",
         "type": "\"string\""
        },
        {
         "metadata": "{}",
         "name": "name",
         "type": "\"string\""
        },
        {
         "metadata": "{}",
         "name": "size",
         "type": "\"long\""
        },
        {
         "metadata": "{}",
         "name": "modificationTime",
         "type": "\"long\""
        }
       ],
       "type": "table"
      }
     },
     "output_type": "display_data"
    }
   ],
   "source": [
    "display(dbutils.fs.ls(\"/mnt/mount_name/../..\"))"
   ]
  },
  {
   "cell_type": "code",
   "execution_count": null,
   "metadata": {
    "application/vnd.databricks.v1+cell": {
     "cellMetadata": {
      "byteLimit": 2048000,
      "implicitDf": true,
      "rowLimit": 10000
     },
     "inputWidgets": {},
     "nuid": "0cd3a28d-362d-4fed-b0ff-39e03345d74a",
     "showTitle": false,
     "title": ""
    }
   },
   "outputs": [
    {
     "data": {
      "text/html": [
       "<style scoped>\n",
       "  .table-result-container {\n",
       "    max-height: 300px;\n",
       "    overflow: auto;\n",
       "  }\n",
       "  table, th, td {\n",
       "    border: 1px solid black;\n",
       "    border-collapse: collapse;\n",
       "  }\n",
       "  th, td {\n",
       "    padding: 5px;\n",
       "  }\n",
       "  th {\n",
       "    text-align: left;\n",
       "  }\n",
       "</style><div class='table-result-container'><table class='table-result'><thead style='background-color: white'><tr><th>key</th><th>value</th></tr></thead><tbody><tr><td>spark.databricks.delta.formatCheck.enabled</td><td>false</td></tr></tbody></table></div>"
      ]
     },
     "metadata": {
      "application/vnd.databricks.v1+output": {
       "addedWidgets": {},
       "aggData": [],
       "aggError": "",
       "aggOverflow": false,
       "aggSchema": [],
       "aggSeriesLimitReached": false,
       "aggType": "",
       "arguments": {},
       "columnCustomDisplayInfos": {},
       "data": [
        [
         "spark.databricks.delta.formatCheck.enabled",
         "false"
        ]
       ],
       "datasetInfos": [],
       "dbfsResultPath": null,
       "isJsonSchema": true,
       "metadata": {},
       "overflow": false,
       "plotOptions": {
        "customPlotOptions": {},
        "displayType": "table",
        "pivotAggregation": null,
        "pivotColumns": null,
        "xColumns": null,
        "yColumns": null
       },
       "removedWidgets": [],
       "schema": [
        {
         "metadata": "{}",
         "name": "key",
         "type": "\"string\""
        },
        {
         "metadata": "{}",
         "name": "value",
         "type": "\"string\""
        }
       ],
       "type": "table"
      }
     },
     "output_type": "display_data"
    }
   ],
   "source": [
    "%sql\n",
    "\n",
    "SET spark.databricks.delta.formatCheck.enabled=false"
   ]
  },
  {
   "cell_type": "code",
   "execution_count": null,
   "metadata": {
    "application/vnd.databricks.v1+cell": {
     "cellMetadata": {
      "byteLimit": 2048000,
      "rowLimit": 10000
     },
     "inputWidgets": {},
     "nuid": "b01bbcd7-f654-473d-bcd8-ccf0c1bfbe2e",
     "showTitle": false,
     "title": ""
    }
   },
   "outputs": [
    {
     "data": {
      "text/html": [
       "<style scoped>\n",
       "  .table-result-container {\n",
       "    max-height: 300px;\n",
       "    overflow: auto;\n",
       "  }\n",
       "  table, th, td {\n",
       "    border: 1px solid black;\n",
       "    border-collapse: collapse;\n",
       "  }\n",
       "  th, td {\n",
       "    padding: 5px;\n",
       "  }\n",
       "  th {\n",
       "    text-align: left;\n",
       "  }\n",
       "</style><div class='table-result-container'><table class='table-result'><thead style='background-color: white'><tr><th>category</th><th>description</th><th>downloaded</th><th>follower_count</th><th>image_src</th><th>index</th><th>is_image_or_video</th><th>poster_name</th><th>save_location</th><th>tag_list</th><th>title</th><th>unique_id</th></tr></thead><tbody><tr><td>christmas</td><td>Christmas decorating ideas for porches. Beautiful holiday decor ideas for front porches both small and large. Outdoor decorations like sleds, lanterns, Christmas trees, wreaths,… </td><td>1</td><td>46k</td><td>https://i.pinimg.com/videos/thumbnails/originals/40/83/f5/4083f5b4971bf235f89a4784ab87271e.0000001.jpg</td><td>2482</td><td>video</td><td>Life on Summerhill | Home, Holiday Decor & DIY Website</td><td>Local save in /data/christmas</td><td>Diy Christmas Decorations For Home,Farmhouse Christmas Decor,Christmas Home,Christmas Holidays,Christmas Front Porches,How To Decorate For Christmas,Christmas Porch Ideas,Christmas Decorating Ideas,Large Outdoor Christmas Decorations</td><td>FORNT PORCH CHRISTMAS DECORATING IDEAS</td><td>08604f20-fa17-4b9a-9949-781717eca6cd</td></tr><tr><td>travel</td><td>This Costa Rica itinerary is the ultimate guide to spending two weeks in Costa Rica. Find out about visiting La Fortuna, Arenal, Monteverde, Naranjo, Corcovado National Park, Or… </td><td>1</td><td>10k</td><td>https://i.pinimg.com/originals/30/93/cb/3093cb01d9de2d125fda8ba5e3e41946.jpg</td><td>10138</td><td>image</td><td>Wanderlust Chloe ✈️ Travel guides, inspo and adventure travel ✈️</td><td>Local save in /data/travel</td><td>Costa Rica Travel,Rio Celeste Costa Rica,Dream Vacations,Vacation Spots,Vacation Travel,Travel Pictures,Travel Photos,Fortuna Costa Rica,Costa Rica Pictures</td><td>14 Amazing Things To Do In Costa Rica | Volcanoes, Waterfalls, Wildlife And More</td><td>927c4658-cc3f-4b92-9b5c-70743d0c238d</td></tr><tr><td>travel</td><td>This Costa Rica itinerary is the ultimate guide to spending two weeks in Costa Rica. Find out about visiting La Fortuna, Arenal, Monteverde, Naranjo, Corcovado National Park, Or… </td><td>1</td><td>10k</td><td>https://i.pinimg.com/originals/30/93/cb/3093cb01d9de2d125fda8ba5e3e41946.jpg</td><td>10138</td><td>image</td><td>Wanderlust Chloe ✈️ Travel guides, inspo and adventure travel ✈️</td><td>Local save in /data/travel</td><td>Costa Rica Travel,Rio Celeste Costa Rica,Dream Vacations,Vacation Spots,Vacation Travel,Travel Pictures,Travel Photos,Fortuna Costa Rica,Costa Rica Pictures</td><td>14 Amazing Things To Do In Costa Rica | Volcanoes, Waterfalls, Wildlife And More</td><td>927c4658-cc3f-4b92-9b5c-70743d0c238d</td></tr><tr><td>diy-and-crafts</td><td>This post may contain affiliate links, read our Disclosure Policy for more information. As an Amazon Associate I earn from qualifying purchases, thank you! Make some cute handpr… </td><td>1</td><td>892k</td><td>https://i.pinimg.com/originals/ff/fe/38/fffe384f3ec18a0d87cb2d80cc8c1499.jpg</td><td>3156</td><td>image</td><td>Michelle {CraftyMorning.com}</td><td>Local save in /data/diy-and-crafts</td><td>Christmas Gifts For Parents,Christmas Decorations For Kids,Christmas Crafts For Toddlers,Preschool Christmas,Christmas Crafts For Gifts,Christmas Activities,Toddler Crafts,Kids Christmas,Christmas Feeling</td><td>Handprint Reindeer Ornaments - Crafty Morning</td><td>fa6e31a4-18c2-4eca-a6d8-e903eee2c2a4</td></tr><tr><td>diy-and-crafts</td><td>This post may contain affiliate links, read our Disclosure Policy for more information. As an Amazon Associate I earn from qualifying purchases, thank you! Make some cute handpr… </td><td>1</td><td>892k</td><td>https://i.pinimg.com/originals/ff/fe/38/fffe384f3ec18a0d87cb2d80cc8c1499.jpg</td><td>3156</td><td>image</td><td>Michelle {CraftyMorning.com}</td><td>Local save in /data/diy-and-crafts</td><td>Christmas Gifts For Parents,Christmas Decorations For Kids,Christmas Crafts For Toddlers,Preschool Christmas,Christmas Crafts For Gifts,Christmas Activities,Toddler Crafts,Kids Christmas,Christmas Feeling</td><td>Handprint Reindeer Ornaments - Crafty Morning</td><td>fa6e31a4-18c2-4eca-a6d8-e903eee2c2a4</td></tr><tr><td>diy-and-crafts</td><td>This post may contain affiliate links, read our Disclosure Policy for more information. As an Amazon Associate I earn from qualifying purchases, thank you! Make some cute handpr… </td><td>1</td><td>892k</td><td>https://i.pinimg.com/originals/ff/fe/38/fffe384f3ec18a0d87cb2d80cc8c1499.jpg</td><td>3156</td><td>image</td><td>Michelle {CraftyMorning.com}</td><td>Local save in /data/diy-and-crafts</td><td>Christmas Gifts For Parents,Christmas Decorations For Kids,Christmas Crafts For Toddlers,Preschool Christmas,Christmas Crafts For Gifts,Christmas Activities,Toddler Crafts,Kids Christmas,Christmas Feeling</td><td>Handprint Reindeer Ornaments - Crafty Morning</td><td>fa6e31a4-18c2-4eca-a6d8-e903eee2c2a4</td></tr><tr><td>finance</td><td>If you love budgeting, make sure to give Dave Ramsey's 7 Baby Steps a try. Follow these steps to begin your debt snowball, build an emergency fund, invest and reach riches. I ca… </td><td>1</td><td>26k</td><td>https://i.pinimg.com/originals/1e/9d/90/1e9d906e4e150e3b95187f3b76ea7c71.png</td><td>5494</td><td>image</td><td>Living Low Key | Save Money, Make Money, & Frugal Living</td><td>Local save in /data/finance</td><td>Financial Peace,Financial Tips,Saving Money Quotes,Total Money Makeover,Budgeting Finances,Money Management,Wealth Management,Personal Finance,Making Ideas</td><td>Dave Ramsey's 7 Baby Steps: What Are They And Will They Work For You</td><td>8fb2af68-543b-4639-8119-de33d28706ed</td></tr><tr><td>finance</td><td>If you love budgeting, make sure to give Dave Ramsey's 7 Baby Steps a try. Follow these steps to begin your debt snowball, build an emergency fund, invest and reach riches. I ca… </td><td>1</td><td>26k</td><td>https://i.pinimg.com/originals/1e/9d/90/1e9d906e4e150e3b95187f3b76ea7c71.png</td><td>5494</td><td>image</td><td>Living Low Key | Save Money, Make Money, & Frugal Living</td><td>Local save in /data/finance</td><td>Financial Peace,Financial Tips,Saving Money Quotes,Total Money Makeover,Budgeting Finances,Money Management,Wealth Management,Personal Finance,Making Ideas</td><td>Dave Ramsey's 7 Baby Steps: What Are They And Will They Work For You</td><td>8fb2af68-543b-4639-8119-de33d28706ed</td></tr><tr><td>finance</td><td>If you love budgeting, make sure to give Dave Ramsey's 7 Baby Steps a try. Follow these steps to begin your debt snowball, build an emergency fund, invest and reach riches. I ca… </td><td>1</td><td>26k</td><td>https://i.pinimg.com/originals/1e/9d/90/1e9d906e4e150e3b95187f3b76ea7c71.png</td><td>5494</td><td>image</td><td>Living Low Key | Save Money, Make Money, & Frugal Living</td><td>Local save in /data/finance</td><td>Financial Peace,Financial Tips,Saving Money Quotes,Total Money Makeover,Budgeting Finances,Money Management,Wealth Management,Personal Finance,Making Ideas</td><td>Dave Ramsey's 7 Baby Steps: What Are They And Will They Work For You</td><td>8fb2af68-543b-4639-8119-de33d28706ed</td></tr><tr><td>christmas</td><td>Here are the best DIY Christmas Centerpieces ideas perfect for your Christmas & holiday season home decor. From Christmas Vignettes to Table Centerpieces.</td><td>1</td><td>500k</td><td>https://i.pinimg.com/originals/aa/6d/0f/aa6d0f44d7c1c96b998cb9aa6c4446b8.png</td><td>2418</td><td>image</td><td>HikenDip</td><td>Local save in /data/christmas</td><td>Farmhouse Christmas Decor,Rustic Christmas,Christmas Time,Vintage Christmas,Xmas,Primitive Christmas Crafts,Christmas Vignette,Indoor Christmas Decorations,Diy Christmas Ornaments</td><td>100 DIY Christmas Centerpieces You'll Love To Decorate Your Home With For The Christmas Season - Hike n Dip</td><td>da8745a6-5160-46c4-877d-181d50a729fd</td></tr><tr><td>christmas</td><td>Here are the best DIY Christmas Centerpieces ideas perfect for your Christmas & holiday season home decor. From Christmas Vignettes to Table Centerpieces.</td><td>1</td><td>500k</td><td>https://i.pinimg.com/originals/aa/6d/0f/aa6d0f44d7c1c96b998cb9aa6c4446b8.png</td><td>2418</td><td>image</td><td>HikenDip</td><td>Local save in /data/christmas</td><td>Farmhouse Christmas Decor,Rustic Christmas,Christmas Time,Vintage Christmas,Xmas,Primitive Christmas Crafts,Christmas Vignette,Indoor Christmas Decorations,Diy Christmas Ornaments</td><td>100 DIY Christmas Centerpieces You'll Love To Decorate Your Home With For The Christmas Season - Hike n Dip</td><td>da8745a6-5160-46c4-877d-181d50a729fd</td></tr><tr><td>christmas</td><td>Here are the best DIY Christmas Centerpieces ideas perfect for your Christmas & holiday season home decor. From Christmas Vignettes to Table Centerpieces.</td><td>1</td><td>500k</td><td>https://i.pinimg.com/originals/aa/6d/0f/aa6d0f44d7c1c96b998cb9aa6c4446b8.png</td><td>2418</td><td>image</td><td>HikenDip</td><td>Local save in /data/christmas</td><td>Farmhouse Christmas Decor,Rustic Christmas,Christmas Time,Vintage Christmas,Xmas,Primitive Christmas Crafts,Christmas Vignette,Indoor Christmas Decorations,Diy Christmas Ornaments</td><td>100 DIY Christmas Centerpieces You'll Love To Decorate Your Home With For The Christmas Season - Hike n Dip</td><td>da8745a6-5160-46c4-877d-181d50a729fd</td></tr><tr><td>quotes</td><td>summcoco gives you inspiration for the women fashion trends you want. Thinking about a new look or lifestyle? This is your ultimate resource to get the hottest trends. 45 Top Li… </td><td>1</td><td>306k</td><td>https://i.pinimg.com/originals/bb/c0/e6/bbc0e6a797079505f11ac12bcb0b8c66.jpg</td><td>7922</td><td>image</td><td>Sumcoco | Decor Ideas, Hairstyles, Nails Fashion Advice</td><td>Local save in /data/quotes</td><td>Life Quotes Love,Inspirational Quotes About Love,Mood Quotes,Motivational Quotes,Tears Quotes,Quotes About Sadness,Deep Quotes About Life,Quotes Quotes,Quote Life</td><td>45 Top Life Quotes School Did Not Teach You</td><td>a584581c-1b38-4731-a1cc-f36115ecf229</td></tr><tr><td>event-planning</td><td>Personalize your event or shop with a customized neon sign. Make a statement with your own custom vibes! This light is 32 -40 inches (80cm-100cm) if you need something bigger, p… </td><td>1</td><td>111</td><td>https://i.pinimg.com/originals/e9/c0/7c/e9c07cf0cf16cab23764a36718ab76c1.jpg</td><td>4508</td><td>image</td><td>Life of Neon | Custom Neon Light Signs | Home Decor Wall Art</td><td>Local save in /data/event-planning</td><td>Our Wedding,Wedding Venues,Dream Wedding,Wedding Cakes,Church Wedding,Wedding Flowers,Lace Wedding,Wedding Rings,Wedding Dresses</td><td>Custom Event and Shop Neon Sign Lights - Event & Shop</td><td>9064f4a2-2753-476c-815e-db360f45a93e</td></tr><tr><td>travel</td><td>Are you traveling to Paris during the summer? Find out what to do in Paris, France during the summer. Fun summertime activities in Paris. Enjoy the incredible outdoors when trav… </td><td>1</td><td>3k</td><td>https://i.pinimg.com/originals/6c/4c/90/6c4c90bba27ebf8c8bfe4c1acfb9f07a.jpg</td><td>9979</td><td>image</td><td>Petite in Paris</td><td>Local save in /data/travel</td><td>Torre Eiffel Paris,Tour Eiffel,Picnic In Paris,Hello France,Voyage Europe,Destination Voyage,Beautiful Places To Travel,Travel Aesthetic,Paris Travel</td><td>Paris in the Summer. 10 fun things to do in Paris in the Summertime • Petite in Paris</td><td>2b2abc85-fc51-481f-8ae6-17681993da28</td></tr><tr><td>travel</td><td>Are you traveling to Paris during the summer? Find out what to do in Paris, France during the summer. Fun summertime activities in Paris. Enjoy the incredible outdoors when trav… </td><td>1</td><td>3k</td><td>https://i.pinimg.com/originals/6c/4c/90/6c4c90bba27ebf8c8bfe4c1acfb9f07a.jpg</td><td>9979</td><td>image</td><td>Petite in Paris</td><td>Local save in /data/travel</td><td>Torre Eiffel Paris,Tour Eiffel,Picnic In Paris,Hello France,Voyage Europe,Destination Voyage,Beautiful Places To Travel,Travel Aesthetic,Paris Travel</td><td>Paris in the Summer. 10 fun things to do in Paris in the Summertime • Petite in Paris</td><td>2b2abc85-fc51-481f-8ae6-17681993da28</td></tr><tr><td>travel</td><td>Although you'd think Greek islands are fairly similar, you'd be completely wrong! Each island has it's own personality and appeal. Here are the 8 Best Greek Islands to visit, es… </td><td>1</td><td>42k</td><td>https://i.pinimg.com/originals/06/1d/ce/061dce38929dec8e74844442116bea4a.jpg</td><td>9759</td><td>image</td><td>TheFab20s | Travel+Food+DIY+Listicles</td><td>Local save in /data/travel</td><td>Greek Islands To Visit,Best Greek Islands,Greece Islands,Cool Places To Visit,Places To Go,Best Places In Portugal,Copenhagen Travel,Paros Island,Santorini Island</td><td>8 Best Greek Islands You Have To Visit - TheFab20s</td><td>d105eb6e-0f9f-46e7-8d02-d24b62f6ae90</td></tr><tr><td>diy-and-crafts</td><td>DIY Dollar Store Valentine’s Day Heart Wreath Decoration. There are so many great Valentine crafts at the Dollar Tree right now! During our last trip, we picked up a few supplie… </td><td>1</td><td>9k</td><td>https://i.pinimg.com/originals/dc/f6/8a/dcf68adcc63c339c24fa5664f1115994.png</td><td>2698</td><td>image</td><td>South Lumina Style</td><td>Local save in /data/diy-and-crafts</td><td>Valentine Day Wreaths,Valentines Day Hearts,Valentines Day Decorations,Valentine Day Crafts,Holiday Crafts,Diy Christmas,Christmas Wreaths,Valentine Tree,Printable Valentine</td><td>DIY Dollar Tree Valentine's Day Wreath</td><td>73f16302-4871-486a-8836-947530526337</td></tr><tr><td>home-decor</td><td>Holiday mantle decor, Christmas decor, metallic mercury glass style Christmas trees, eucalyptus vine, evergreen pine branches, white neutral holiday decor, cozy mantle for the h… </td><td>1</td><td>83k</td><td>https://i.pinimg.com/originals/9d/82/1a/9d821a80acd8f90c16454e978bd9b115.jpg</td><td>6145</td><td>image</td><td>Stylin by Aylin</td><td>Local save in /data/home-decor</td><td>Winter Home Decor,Christmas Living Room Decor,Living Room Decor Cozy,Christmas Decor,Cozy Fireplace,Rustic Fireplace Decor,Fireplace Decorations,Rustic Room,House Decorations</td><td>HOLIDAY MANTLE DECOR - @AMAZON & @TARGET FINDS</td><td>82e13a07-db99-43a3-b1c0-89a4b75821da</td></tr><tr><td>home-decor</td><td>Holiday mantle decor, Christmas decor, metallic mercury glass style Christmas trees, eucalyptus vine, evergreen pine branches, white neutral holiday decor, cozy mantle for the h… </td><td>1</td><td>83k</td><td>https://i.pinimg.com/originals/9d/82/1a/9d821a80acd8f90c16454e978bd9b115.jpg</td><td>6145</td><td>image</td><td>Stylin by Aylin</td><td>Local save in /data/home-decor</td><td>Winter Home Decor,Christmas Living Room Decor,Living Room Decor Cozy,Christmas Decor,Cozy Fireplace,Rustic Fireplace Decor,Fireplace Decorations,Rustic Room,House Decorations</td><td>HOLIDAY MANTLE DECOR - @AMAZON & @TARGET FINDS</td><td>82e13a07-db99-43a3-b1c0-89a4b75821da</td></tr><tr><td>home-decor</td><td>Holiday mantle decor, Christmas decor, metallic mercury glass style Christmas trees, eucalyptus vine, evergreen pine branches, white neutral holiday decor, cozy mantle for the h… </td><td>1</td><td>83k</td><td>https://i.pinimg.com/originals/9d/82/1a/9d821a80acd8f90c16454e978bd9b115.jpg</td><td>6145</td><td>image</td><td>Stylin by Aylin</td><td>Local save in /data/home-decor</td><td>Winter Home Decor,Christmas Living Room Decor,Living Room Decor Cozy,Christmas Decor,Cozy Fireplace,Rustic Fireplace Decor,Fireplace Decorations,Rustic Room,House Decorations</td><td>HOLIDAY MANTLE DECOR - @AMAZON & @TARGET FINDS</td><td>82e13a07-db99-43a3-b1c0-89a4b75821da</td></tr><tr><td>christmas</td><td>Christmas Trees From Pallet Wood | Holiday DIY: Deck the yard with some fun outdoor Christmas Trees! We made these merry and bright decorations from two old pallets we had lying… </td><td>1</td><td>3M</td><td>https://i.pinimg.com/originals/64/7b/ca/647bca35169b7c144604116c64bcba8a.png</td><td>1704</td><td>image</td><td>Instructables</td><td>Local save in /data/christmas</td><td>Pallet Wood Christmas Tree,Wooden Christmas Crafts,Diy Christmas Tree,Christmas Projects,Holiday Crafts,Wooden Xmas Trees,Different Christmas Trees,Pallet Tree,Christmas Kitchen</td><td>Christmas Trees From Pallet Wood | Holiday DIY</td><td>5fbf9863-fb79-477c-a5b6-540c3020a55f</td></tr><tr><td>education</td><td>Podcasts for Teachers or Parents of Teenagers: Teaching teens middle school and high school can feel joyful and rewarding most days, but can also frustrate you with one challeng… </td><td>1</td><td>25k</td><td>https://i.pinimg.com/originals/50/19/31/501931a27ee4d076658980851b995b2c.jpg</td><td>4315</td><td>image</td><td>Math Giraffe</td><td>Local save in /data/education</td><td>Middle School Classroom,High School Students,High School Teachers,Middle School Tips,High School Counseling,Ela Classroom,High School Science,Future Classroom,Google Classroom</td><td>Podcasts for Teachers or Parents of Teenagers</td><td>21b59ba9-829d-4c33-8c27-4cd4c56d26b8</td></tr><tr><td>education</td><td>Podcasts for Teachers or Parents of Teenagers: Teaching teens middle school and high school can feel joyful and rewarding most days, but can also frustrate you with one challeng… </td><td>1</td><td>25k</td><td>https://i.pinimg.com/originals/50/19/31/501931a27ee4d076658980851b995b2c.jpg</td><td>4315</td><td>image</td><td>Math Giraffe</td><td>Local save in /data/education</td><td>Middle School Classroom,High School Students,High School Teachers,Middle School Tips,High School Counseling,Ela Classroom,High School Science,Future Classroom,Google Classroom</td><td>Podcasts for Teachers or Parents of Teenagers</td><td>21b59ba9-829d-4c33-8c27-4cd4c56d26b8</td></tr><tr><td>event-planning</td><td>Sacramento California Wedding 2 Chic Events & Design Jodi Yorston Photography Wilson Vineyards Barn Miosa Couture Yellow Barn Vineyard Outdoor Candles DIY</td><td>1</td><td>6M</td><td>https://i.pinimg.com/originals/7e/45/90/7e45905fefa36347e83333fd6d091140.jpg</td><td>5069</td><td>image</td><td>Style Me Pretty</td><td>Local save in /data/event-planning</td><td>60th Anniversary Parties,Anniversary Decorations,Golden Anniversary,25th Wedding Anniversary,Anniversary Pictures,Anniversary Ideas,Birthday Decorations,Event Planning Design,Event Design</td><td>The Vault: Curated & Refined Wedding Inspiration</td><td>b75b6f87-deb3-444f-b29e-ce9161b2df49</td></tr><tr><td>event-planning</td><td>Sacramento California Wedding 2 Chic Events & Design Jodi Yorston Photography Wilson Vineyards Barn Miosa Couture Yellow Barn Vineyard Outdoor Candles DIY</td><td>1</td><td>6M</td><td>https://i.pinimg.com/originals/7e/45/90/7e45905fefa36347e83333fd6d091140.jpg</td><td>5069</td><td>image</td><td>Style Me Pretty</td><td>Local save in /data/event-planning</td><td>60th Anniversary Parties,Anniversary Decorations,Golden Anniversary,25th Wedding Anniversary,Anniversary Pictures,Anniversary Ideas,Birthday Decorations,Event Planning Design,Event Design</td><td>The Vault: Curated & Refined Wedding Inspiration</td><td>b75b6f87-deb3-444f-b29e-ce9161b2df49</td></tr><tr><td>mens-fashion</td><td>Black And Brown Outfits You Need To Try This Fall Season. The trick with black and brown outfits is to know how to combine colors, fabrics, and shapes to get a cohesive look. So… </td><td>1</td><td>1M</td><td>https://i.pinimg.com/originals/3e/49/09/3e4909c0ccc4dbba3cad83d97eab4a61.png</td><td>7343</td><td>image</td><td>Cultura Colectiva</td><td>Local save in /data/mens-fashion</td><td>Winter Outfits Men,Stylish Mens Outfits,Casual Outfits,Men Casual,Smart Casual,Outfits For Men,Fall Outfits,Mens Winter Boots,Business Casual Men</td><td>This Fashion Rule Is Nonsense, And We Should All Forget About It</td><td>b8c63a95-6fe8-4d7f-9455-1eef3462fee0</td></tr><tr><td>event-planning</td><td>Sacramento California Wedding 2 Chic Events & Design Jodi Yorston Photography Wilson Vineyards Barn Miosa Couture Yellow Barn Vineyard Outdoor Candles DIY</td><td>1</td><td>6M</td><td>https://i.pinimg.com/originals/7e/45/90/7e45905fefa36347e83333fd6d091140.jpg</td><td>5069</td><td>image</td><td>Style Me Pretty</td><td>Local save in /data/event-planning</td><td>60th Anniversary Parties,Anniversary Decorations,Golden Anniversary,25th Wedding Anniversary,Anniversary Pictures,Anniversary Ideas,Birthday Decorations,Event Planning Design,Event Design</td><td>The Vault: Curated & Refined Wedding Inspiration</td><td>b75b6f87-deb3-444f-b29e-ce9161b2df49</td></tr><tr><td>mens-fashion</td><td>Black And Brown Outfits You Need To Try This Fall Season. The trick with black and brown outfits is to know how to combine colors, fabrics, and shapes to get a cohesive look. So… </td><td>1</td><td>1M</td><td>https://i.pinimg.com/originals/3e/49/09/3e4909c0ccc4dbba3cad83d97eab4a61.png</td><td>7343</td><td>image</td><td>Cultura Colectiva</td><td>Local save in /data/mens-fashion</td><td>Winter Outfits Men,Stylish Mens Outfits,Casual Outfits,Men Casual,Smart Casual,Outfits For Men,Fall Outfits,Mens Winter Boots,Business Casual Men</td><td>This Fashion Rule Is Nonsense, And We Should All Forget About It</td><td>b8c63a95-6fe8-4d7f-9455-1eef3462fee0</td></tr><tr><td>tattoos</td><td>summcoco gives you inspiration for the women fashion trends you want. Thinking about a new look or lifestyle? This is your ultimate resource to get the hottest trends. 30+ Eagle… </td><td>1</td><td>306k</td><td>https://i.pinimg.com/originals/8d/c6/ed/8dc6ed0b212393187a14c7d07a88060f.png</td><td>8606</td><td>image</td><td>Sumcoco | Decor Ideas, Hairstyles, Nails Fashion Advice</td><td>Local save in /data/tattoos</td><td>White Bird Tattoos,Rose Tattoos,Flower Tattoos,Tattoo Black,Bird And Flower Tattoo,Tattoo Floral,Mini Tattoos,Flower Art,Girls With Sleeve Tattoos</td><td>30+ Eagle Tattoos Ideas for Women</td><td>71757040-bfc8-4631-9cac-22801e61d9e3</td></tr><tr><td>home-decor</td><td>Beautiful and easy ways to update every room in your home with fall decor. Plus, my favorite finds in fall decor for 2020!</td><td>1</td><td>92k</td><td>https://i.pinimg.com/originals/e5/ae/dc/e5aedc14ce557e3a69f672e0f8c88f6e.png</td><td>6063</td><td>image</td><td>Kristen | Lifestyle, Mom Tips & Teacher Stuff Blog</td><td>Local save in /data/home-decor</td><td>Fall Home Decor,Autumn Home,Fall Decor Outdoor,Front Porch Fall Decor,Home Decor Ideas,Porch Ideas For Fall,Fall Outdoor Decorating,Decorating Ideas For Fall,Fall Front Doors</td><td>41 Gorgeous Fall Decor Ideas For Your Home - Chaylor & Mads</td><td>60693727-4927-4bd6-a8c5-096a392d63e6</td></tr><tr><td>home-decor</td><td>Beautiful and easy ways to update every room in your home with fall decor. Plus, my favorite finds in fall decor for 2020!</td><td>1</td><td>92k</td><td>https://i.pinimg.com/originals/e5/ae/dc/e5aedc14ce557e3a69f672e0f8c88f6e.png</td><td>6063</td><td>image</td><td>Kristen | Lifestyle, Mom Tips & Teacher Stuff Blog</td><td>Local save in /data/home-decor</td><td>Fall Home Decor,Autumn Home,Fall Decor Outdoor,Front Porch Fall Decor,Home Decor Ideas,Porch Ideas For Fall,Fall Outdoor Decorating,Decorating Ideas For Fall,Fall Front Doors</td><td>41 Gorgeous Fall Decor Ideas For Your Home - Chaylor & Mads</td><td>60693727-4927-4bd6-a8c5-096a392d63e6</td></tr><tr><td>home-decor</td><td>Beautiful and easy ways to update every room in your home with fall decor. Plus, my favorite finds in fall decor for 2020!</td><td>1</td><td>92k</td><td>https://i.pinimg.com/originals/e5/ae/dc/e5aedc14ce557e3a69f672e0f8c88f6e.png</td><td>6063</td><td>image</td><td>Kristen | Lifestyle, Mom Tips & Teacher Stuff Blog</td><td>Local save in /data/home-decor</td><td>Fall Home Decor,Autumn Home,Fall Decor Outdoor,Front Porch Fall Decor,Home Decor Ideas,Porch Ideas For Fall,Fall Outdoor Decorating,Decorating Ideas For Fall,Fall Front Doors</td><td>41 Gorgeous Fall Decor Ideas For Your Home - Chaylor & Mads</td><td>60693727-4927-4bd6-a8c5-096a392d63e6</td></tr><tr><td>event-planning</td><td>So you're thinking of getting your event planner certification, but how much do you REALLY know about event planning? Event planners need to be knowledgeable and able to answer… </td><td>1</td><td>5k</td><td>https://i.pinimg.com/originals/6f/19/bc/6f19bce24921bf843540fc04da9eb6bf.jpg</td><td>5076</td><td>image</td><td>QC Career School</td><td>Local save in /data/event-planning</td><td>Diy Wedding Food,Best Wedding Makeup,Wedding Events,Wedding Tips,Wedding Stuff,Weddings,Event Planning Business,Business Events,Wedding Makeup Tutorial</td><td>Quiz: Test Your Event IQ! - Pointers For Planners</td><td>fa3af29c-dc78-4eed-a4c5-52a407ea04c0</td></tr><tr><td>education</td><td>15 Essential Classroom Items For First Year Teachers / First Year Teacher Must Haves</td><td>1</td><td>5k</td><td>https://i.pinimg.com/originals/4b/b9/a8/4bb9a85f609a8384ed9c9ab14e7bcea0.jpg</td><td>4137</td><td>image</td><td>Write Your Story | Budgeting, Healthy Lifestyle, Faith</td><td>Local save in /data/education</td><td>1st Year Teachers,First Year Teaching,First Grade Teachers,Elementary Teacher,Montessori Elementary,Teaching Reading,History Teachers,High School Classroom,First Grade Classroom</td><td>15 Essential Classroom Items For First Year Teachers / First Year Teacher Must Haves</td><td>bf275054-4464-448b-9143-1bf101aa366d</td></tr><tr><td>christmas</td><td>Transform mini terra cotta pots into the sweetest gingerbread house ornaments! Kids will love making this adorable Christmas craft to hang on the tree.</td><td>1</td><td>20k</td><td>https://i.pinimg.com/originals/13/28/09/1328097d7c290d1bf8642b01a6ba1c6c.jpg</td><td>2411</td><td>image</td><td>Projects with Kids</td><td>Local save in /data/christmas</td><td>Noel Christmas,Diy Christmas Ornaments,Homemade Christmas,Simple Christmas,Gingerbread Ornaments,Christmas Gingerbread,Gingerbread Houses,Preschool Christmas,Ornaments Ideas</td><td>The Sweetest Gingerbread House Ornaments Kids Can Make</td><td>4e11801e-7a64-4f1e-90dd-e900677595c5</td></tr><tr><td>mens-fashion</td><td>Women's T-shirt. Design inspired by the rock band The Killers' hit \"Mr. Brightside\". One of the greatest song from the album Hot Fuss released in 2004. Soft and light, 100% cott… </td><td>1</td><td>27</td><td>https://i.pinimg.com/originals/8c/42/39/8c42391d35fcad51a4a79f7cd81bf26d.jpg</td><td>7166</td><td>image</td><td>Mala Rock | Rock T-shirts</td><td>Local save in /data/mens-fashion</td><td>Mr Brightside,Rock T Shirts,Greatest Songs,Timeless Classic,Rock Bands,Album,T Shirts For Women,Inspired,Hot</td><td>The Killers - Mr. Brightside - Women's T-Shirt - Heather Dark Grey / S</td><td>4a844b03-e161-47a1-904b-591eb5dc4fb1</td></tr><tr><td>tattoos</td><td>We have put together the Ultimative Sunflower Tattoo Collection in 2020. Check out our highest rated handpicked Sunflower designs here!</td><td>1</td><td>800k</td><td>https://i.pinimg.com/originals/18/de/6c/18de6c81a8637e224c7d63dce1414ceb.jpg</td><td>8930</td><td>image</td><td>Next Luxury</td><td>Local save in /data/tattoos</td><td>Sunflower Tattoo Sleeve,Sunflower Tattoo Shoulder,Sunflower Tattoo Small,Sunflower Tattoos,Sunflower Tattoo Design,Shoulder Tattoo,Sunflower Mandala Tattoo,Sunflower Tattoo Meaning,Form Tattoo</td><td>135 Sunflower Tattoo Ideas - [Best Rated Designs in 2021]</td><td>a2999c28-f7b2-4577-af87-49d21d6d8a18</td></tr><tr><td>travel</td><td>On our Calgary to Vancouver road trip we got to spend time in Banff, Canada. We visited the stunning Lake Moraine as well as Lake Louise and plenty of other of Canada's natural… </td><td>1</td><td>7k</td><td>https://i.pinimg.com/videos/thumbnails/originals/57/9d/52/579d52242ae5609978c754d393e44e81.0000001.jpg</td><td>9672</td><td>video</td><td>Travel Mad Mum</td><td>Local save in /data/travel</td><td>Beautiful Places To Travel,Cool Places To Visit,Beautiful Roads,Beautiful Scenery,Wonderful Places,Lac Moraine,Moraine Lake,Lac Louise,Natur Wallpaper</td><td>Lake Moraine, Banff, Canada</td><td>1a5050a4-ac82-472c-aeff-3457de8bbee9</td></tr><tr><td>travel</td><td>On our Calgary to Vancouver road trip we got to spend time in Banff, Canada. We visited the stunning Lake Moraine as well as Lake Louise and plenty of other of Canada's natural… </td><td>1</td><td>7k</td><td>https://i.pinimg.com/videos/thumbnails/originals/57/9d/52/579d52242ae5609978c754d393e44e81.0000001.jpg</td><td>9672</td><td>video</td><td>Travel Mad Mum</td><td>Local save in /data/travel</td><td>Beautiful Places To Travel,Cool Places To Visit,Beautiful Roads,Beautiful Scenery,Wonderful Places,Lac Moraine,Moraine Lake,Lac Louise,Natur Wallpaper</td><td>Lake Moraine, Banff, Canada</td><td>1a5050a4-ac82-472c-aeff-3457de8bbee9</td></tr><tr><td>mens-fashion</td><td>Looking for the coolest fall fashion for men this season? Click to read this article on fall fashion for men to look sharp on LLEGANCE.</td><td>1</td><td>28k</td><td>https://i.pinimg.com/originals/4c/bf/2d/4cbf2d6e04d2502612169220553f4cef.jpg</td><td>7294</td><td>image</td><td>LLEGANCE | Workwear Fashion Woman Advice For Driven Professionals</td><td>Local save in /data/mens-fashion</td><td>Fashion 90s,Autumn Fashion,Fashion Ideas,Trendy Fashion,Fashion Photo,Fashion Outfits,Fashion Trends,Urban Fashion Men,Men's Casual Fashion</td><td>Foolproof Fall Fashion For Men You'll Love</td><td>9d8409ef-bea7-4133-a021-c58b9c042210</td></tr><tr><td>event-planning</td><td>Do you love planning parties? Do you want to work-at-home? This post covers everything you need to know about becoming a home-based event planner!</td><td>1</td><td>110k</td><td>https://i.pinimg.com/originals/4d/a3/a4/4da3a4730418239f1b43ce81fb032c15.jpg</td><td>4913</td><td>image</td><td>The Work at Home Woman</td><td>Local save in /data/event-planning</td><td>Event Planning Tips,Event Planning Business,Party Planning,Business Ideas,Craft Business,Business Chic,Business Inspiration,Business Goals,Business Opportunities</td><td>How to Work From Home as an Event Planner</td><td>4d2d79c6-9ca8-46c9-a38e-931c5d967804</td></tr><tr><td>diy-and-crafts</td><td>One thing I love about Crafts is how the evolve! These toilet paper rolls are adorable and modern. I love that something as simple as a recycled toilet paper roll can be taken t… </td><td>1</td><td>502k</td><td>https://i.pinimg.com/originals/c6/cd/0d/c6cd0d04da9cfc11566cfd34eeb1f918.jpg</td><td>2959</td><td>image</td><td>CraftGossip.com</td><td>Local save in /data/diy-and-crafts</td><td>Toilet Paper Roll Crafts,Cardboard Crafts,Diy Paper,Paper Crafting,Toilet Paper Rolls,Cardboard Playhouse,Paper Art,Kids Crafts,Toddler Crafts</td><td>The Cutest Toilet Paper Crafts</td><td>439cac4b-18e8-4aaa-88c5-edb26a701111</td></tr><tr><td>diy-and-crafts</td><td>One thing I love about Crafts is how the evolve! These toilet paper rolls are adorable and modern. I love that something as simple as a recycled toilet paper roll can be taken t… </td><td>1</td><td>502k</td><td>https://i.pinimg.com/originals/c6/cd/0d/c6cd0d04da9cfc11566cfd34eeb1f918.jpg</td><td>2959</td><td>image</td><td>CraftGossip.com</td><td>Local save in /data/diy-and-crafts</td><td>Toilet Paper Roll Crafts,Cardboard Crafts,Diy Paper,Paper Crafting,Toilet Paper Rolls,Cardboard Playhouse,Paper Art,Kids Crafts,Toddler Crafts</td><td>The Cutest Toilet Paper Crafts</td><td>439cac4b-18e8-4aaa-88c5-edb26a701111</td></tr><tr><td>diy-and-crafts</td><td>One thing I love about Crafts is how the evolve! These toilet paper rolls are adorable and modern. I love that something as simple as a recycled toilet paper roll can be taken t… </td><td>1</td><td>502k</td><td>https://i.pinimg.com/originals/c6/cd/0d/c6cd0d04da9cfc11566cfd34eeb1f918.jpg</td><td>2959</td><td>image</td><td>CraftGossip.com</td><td>Local save in /data/diy-and-crafts</td><td>Toilet Paper Roll Crafts,Cardboard Crafts,Diy Paper,Paper Crafting,Toilet Paper Rolls,Cardboard Playhouse,Paper Art,Kids Crafts,Toddler Crafts</td><td>The Cutest Toilet Paper Crafts</td><td>439cac4b-18e8-4aaa-88c5-edb26a701111</td></tr><tr><td>travel</td><td>35 European bucket list destinations for any traveler heading to Europe. From Cinque Terre, Italy to Iceland - there are so many amazing sites to see in Europe.</td><td>1</td><td>28k</td><td>https://i.pinimg.com/originals/71/04/1a/71041ad83ede43d9665741e719c58a86.jpg</td><td>9875</td><td>image</td><td>Nicki </td><td>Local save in /data/travel</td><td>Backpacking Europe,Europe Travel Guide,Travel Guides,Travel Packing,Traveling Europe,Travelling,Travel Backpack,Budget Travel,2 Week Europe Itinerary</td><td>European Bucket List: 35 Things NOT To Miss When Traveling Europe</td><td>782dcbad-ff91-40a6-ba60-216efe29adb7</td></tr><tr><td>art</td><td>Fashion designer Issac Mizrahi’s Greenwich Village home is an amalgamation of three apartments that was 20 years in the making</td><td>1</td><td>3M</td><td>https://i.pinimg.com/originals/f4/6c/54/f46c546a2e480022a42d842b7dca157e.jpg</td><td>428</td><td>image</td><td>Architectural Digest</td><td>Local save in /data/art</td><td>Modern Art,Contemporary Art,Contemporary Kitchens,Contemporary Bedroom,New York City Apartment,Manhattan Apartment,Art Moderne,Architectural Digest,Painting Inspiration</td><td>Fashion Designer Isaac Mizrahi’s Updated 1930s New York City Apartment</td><td>610b3f83-9fe0-469d-946c-d16b577fca71</td></tr><tr><td>travel</td><td>35 European bucket list destinations for any traveler heading to Europe. From Cinque Terre, Italy to Iceland - there are so many amazing sites to see in Europe.</td><td>1</td><td>28k</td><td>https://i.pinimg.com/originals/71/04/1a/71041ad83ede43d9665741e719c58a86.jpg</td><td>9875</td><td>image</td><td>Nicki </td><td>Local save in /data/travel</td><td>Backpacking Europe,Europe Travel Guide,Travel Guides,Travel Packing,Traveling Europe,Travelling,Travel Backpack,Budget Travel,2 Week Europe Itinerary</td><td>European Bucket List: 35 Things NOT To Miss When Traveling Europe</td><td>782dcbad-ff91-40a6-ba60-216efe29adb7</td></tr><tr><td>art</td><td>Fashion designer Issac Mizrahi’s Greenwich Village home is an amalgamation of three apartments that was 20 years in the making</td><td>1</td><td>3M</td><td>https://i.pinimg.com/originals/f4/6c/54/f46c546a2e480022a42d842b7dca157e.jpg</td><td>428</td><td>image</td><td>Architectural Digest</td><td>Local save in /data/art</td><td>Modern Art,Contemporary Art,Contemporary Kitchens,Contemporary Bedroom,New York City Apartment,Manhattan Apartment,Art Moderne,Architectural Digest,Painting Inspiration</td><td>Fashion Designer Isaac Mizrahi’s Updated 1930s New York City Apartment</td><td>610b3f83-9fe0-469d-946c-d16b577fca71</td></tr><tr><td>travel</td><td>35 European bucket list destinations for any traveler heading to Europe. From Cinque Terre, Italy to Iceland - there are so many amazing sites to see in Europe.</td><td>1</td><td>28k</td><td>https://i.pinimg.com/originals/71/04/1a/71041ad83ede43d9665741e719c58a86.jpg</td><td>9875</td><td>image</td><td>Nicki </td><td>Local save in /data/travel</td><td>Backpacking Europe,Europe Travel Guide,Travel Guides,Travel Packing,Traveling Europe,Travelling,Travel Backpack,Budget Travel,2 Week Europe Itinerary</td><td>European Bucket List: 35 Things NOT To Miss When Traveling Europe</td><td>782dcbad-ff91-40a6-ba60-216efe29adb7</td></tr><tr><td>art</td><td>Fashion designer Issac Mizrahi’s Greenwich Village home is an amalgamation of three apartments that was 20 years in the making</td><td>1</td><td>3M</td><td>https://i.pinimg.com/originals/f4/6c/54/f46c546a2e480022a42d842b7dca157e.jpg</td><td>428</td><td>image</td><td>Architectural Digest</td><td>Local save in /data/art</td><td>Modern Art,Contemporary Art,Contemporary Kitchens,Contemporary Bedroom,New York City Apartment,Manhattan Apartment,Art Moderne,Architectural Digest,Painting Inspiration</td><td>Fashion Designer Isaac Mizrahi’s Updated 1930s New York City Apartment</td><td>610b3f83-9fe0-469d-946c-d16b577fca71</td></tr><tr><td>diy-and-crafts</td><td>HELPFUL RESOURCES – Check out my resin colorants resources page here with links to all the products mentioned in this article (and more). Let me know if you have any that you lo… </td><td>1</td><td>6k</td><td>https://i.pinimg.com/originals/d4/12/78/d4127833023ca32600571ddca16f1556.jpg</td><td>3454</td><td>image</td><td>Mixed Media Crafts</td><td>Local save in /data/diy-and-crafts</td><td>Epoxy Resin Art,Diy Resin Art,Diy Resin Crafts,Resin Molds,Ice Resin,Resin Pour,Diy Epoxy,Diy Resin Painting,Diy Resin Dice</td><td>What can you use to color resin?</td><td>46bd3f86-b09d-4e29-9033-7ff2df595e51</td></tr><tr><td>diy-and-crafts</td><td>HELPFUL RESOURCES – Check out my resin colorants resources page here with links to all the products mentioned in this article (and more). Let me know if you have any that you lo… </td><td>1</td><td>6k</td><td>https://i.pinimg.com/originals/d4/12/78/d4127833023ca32600571ddca16f1556.jpg</td><td>3454</td><td>image</td><td>Mixed Media Crafts</td><td>Local save in /data/diy-and-crafts</td><td>Epoxy Resin Art,Diy Resin Art,Diy Resin Crafts,Resin Molds,Ice Resin,Resin Pour,Diy Epoxy,Diy Resin Painting,Diy Resin Dice</td><td>What can you use to color resin?</td><td>46bd3f86-b09d-4e29-9033-7ff2df595e51</td></tr><tr><td>diy-and-crafts</td><td>HELPFUL RESOURCES – Check out my resin colorants resources page here with links to all the products mentioned in this article (and more). Let me know if you have any that you lo… </td><td>1</td><td>6k</td><td>https://i.pinimg.com/originals/d4/12/78/d4127833023ca32600571ddca16f1556.jpg</td><td>3454</td><td>image</td><td>Mixed Media Crafts</td><td>Local save in /data/diy-and-crafts</td><td>Epoxy Resin Art,Diy Resin Art,Diy Resin Crafts,Resin Molds,Ice Resin,Resin Pour,Diy Epoxy,Diy Resin Painting,Diy Resin Dice</td><td>What can you use to color resin?</td><td>46bd3f86-b09d-4e29-9033-7ff2df595e51</td></tr><tr><td>finance</td><td>Description Coupon Organizer in a fun colorful fabric -island oasis, Great Size for the \"basic\" couponer - holds up to 500 coupons with ease, and is made long enough so that you… </td><td>1</td><td>0</td><td>https://i.pinimg.com/originals/65/bb/ea/65bbeaf458907bb079317d8303c4fa0e.jpg</td><td>5730</td><td>image</td><td>Consuelo Aguirre</td><td>Local save in /data/finance</td><td>Grocery Items,Grocery Coupons,Care Organization,Coupon Organization,Extreme Couponing,Couponing 101,Life Binder,Save My Money,Love Coupons</td><td>Island Oasis Coupon Organizer</td><td>1e1f0c8b-9fcf-460b-9154-c775827206eb</td></tr><tr><td>finance</td><td>Description Coupon Organizer in a fun colorful fabric -island oasis, Great Size for the \"basic\" couponer - holds up to 500 coupons with ease, and is made long enough so that you… </td><td>1</td><td>0</td><td>https://i.pinimg.com/originals/65/bb/ea/65bbeaf458907bb079317d8303c4fa0e.jpg</td><td>5730</td><td>image</td><td>Consuelo Aguirre</td><td>Local save in /data/finance</td><td>Grocery Items,Grocery Coupons,Care Organization,Coupon Organization,Extreme Couponing,Couponing 101,Life Binder,Save My Money,Love Coupons</td><td>Island Oasis Coupon Organizer</td><td>1e1f0c8b-9fcf-460b-9154-c775827206eb</td></tr><tr><td>art</td><td>10 art sub lessons that only need a pencil. Cover lessons for art teachers. Make the perfect art sub lessson folder with this amazing resources.</td><td>1</td><td>25k</td><td>https://i.pinimg.com/originals/ee/a8/78/eea878911033897d981a69d9f6b2fb7c.png</td><td>719</td><td>image</td><td>The Arty Teacher</td><td>Local save in /data/art</td><td>Art Lessons For Kids,Art Lessons Elementary,Art For Kids,Art Sub Plans,Art Lesson Plans,Art Substitute Plans,High School Art,Middle School Art,Primary School Art</td><td>10 Art Sub Lessons that only need a Pencil</td><td>d7c53e34-9540-4f48-a31b-89b6ed1852bb</td></tr><tr><td>christmas</td><td>20 Christmas Decorating Ideas We Bet You Haven't Thought Of via @PureWow</td><td>1</td><td>868k</td><td>https://i.pinimg.com/originals/e9/b9/f0/e9b9f01cc3b2cf41948b45854335396c.jpg</td><td>2074</td><td>image</td><td>PureWow</td><td>Local save in /data/christmas</td><td>Holiday Centerpieces,Xmas Decorations,Centerpiece Ideas,Table Centerpieces,Valentine Decorations,Wedding Centerpieces,Outdoor Decorations,Christmas Centerpieces With Candles,Christmas Dining Table Decorations</td><td>35 Christmas Decorating Ideas We Bet You Haven't Thought Of</td><td>86ed09a7-842d-496d-9501-010c654eb340</td></tr><tr><td>christmas</td><td>20 Christmas Decorating Ideas We Bet You Haven't Thought Of via @PureWow</td><td>1</td><td>868k</td><td>https://i.pinimg.com/originals/e9/b9/f0/e9b9f01cc3b2cf41948b45854335396c.jpg</td><td>2074</td><td>image</td><td>PureWow</td><td>Local save in /data/christmas</td><td>Holiday Centerpieces,Xmas Decorations,Centerpiece Ideas,Table Centerpieces,Valentine Decorations,Wedding Centerpieces,Outdoor Decorations,Christmas Centerpieces With Candles,Christmas Dining Table Decorations</td><td>35 Christmas Decorating Ideas We Bet You Haven't Thought Of</td><td>86ed09a7-842d-496d-9501-010c654eb340</td></tr><tr><td>art</td><td>Free quick inspirational video on creating a mixed media face with acrylic, collage, stenciling and simple techniques. Come on over to watch</td><td>1</td><td>27k</td><td>https://i.pinimg.com/videos/thumbnails/originals/05/86/a4/0586a4116e1fc34efc25e064ccd123e8.0000001.jpg</td><td>831</td><td>video</td><td>Shawn Petite</td><td>Local save in /data/art</td><td>Collage Kunst,Paper Collage Art,Collage Art Mixed Media,Mixed Media Painting,Mixed Media Canvas,Canvas Collage,Art Collages,Wall Canvas,Canvas Art</td><td>creating mixed-media faces tutorial</td><td>5e65914d-9f58-4ff1-9676-658e426e8ce5</td></tr><tr><td>art</td><td>Use our easy step by step tutorial to create a DIY abstract heart painting on any canvas size. Lots of inspiration to help you choose colors.</td><td>1</td><td>410k</td><td>https://i.pinimg.com/originals/33/85/f8/3385f82ee5e8ecdcccdf798bdcbee3d2.jpg</td><td>205</td><td>image</td><td>The Creativity Exchange</td><td>Local save in /data/art</td><td>Painting & Drawing,Watercolor Paintings,Original Paintings,Owl Watercolor,Acrylic Paintings,Owl Art,Bird Art,Beginner Painting,Animal Paintings</td><td>DIY Abstract Heart Painting and a Fun Paint Party</td><td>f4afd543-b9fe-44c3-8064-f2198faa1372</td></tr><tr><td>finance</td><td>Don't fight about budgets and money with your spouse! Here are a few tips that we've found that make it work in our marriage!</td><td>1</td><td>313</td><td>https://i.pinimg.com/originals/37/d5/82/37d58296bcef3471a633c76b89d8625e.jpg</td><td>5468</td><td>image</td><td>Annamarie Hilton</td><td>Local save in /data/finance</td><td>Ways To Save Money,Money Tips,Money Saving Tips,How To Make Money,Managing Money,Saving Time,College Fund,Scholarships For College,Education College</td><td>Budgets, Spouses & Making It Work! - Tshanina Peterson</td><td>91ee49f6-0070-4270-ba19-fde88ba51c91</td></tr><tr><td>quotes</td><td>Are you looking for some heart touching sad quotes and sayings; Here we have collected for you 50 best heart touching sad quotes..</td><td>1</td><td>112</td><td>https://i.pinimg.com/originals/0c/0f/40/0c0f408d96458080e0c82adb50be8e8f.jpg</td><td>7790</td><td>image</td><td>AnnaLee Kick</td><td>Local save in /data/quotes</td><td>Crush Quotes For Girls,Sad Crush Quotes,Hurt Quotes,Love Me Quotes,Mood Quotes,Quotes To Live By,Life Quotes,Quotes Quotes,Sad Quotes That Make You Cry</td><td>50 Heart Touching Sad Quotes That Will Make You Cry</td><td>9cd89fb9-d1af-4e66-85ca-c9d656c918b4</td></tr><tr><td>vehicles</td><td>There are a lot of options of places to stay so you probably only have to book the initial one so you know the best place to land from the airport</td><td>1</td><td>171k</td><td>https://i.pinimg.com/originals/e9/01/4d/e9014d537dd2b81c606e8466cef3904c.jpg</td><td>10663</td><td>image</td><td>vintagetopia</td><td>Local save in /data/vehicles</td><td>Old Classic Cars,Classic Trucks,Old Vintage Cars,Antique Cars,Vintage Trucks,Antique Trucks,Cadillac,Convertible,Mustang</td><td>21+ Classic Car Picture of the 1950s - Vintagetopia</td><td>d5208c16-82ae-4fd1-87f0-36e5ef789412</td></tr><tr><td>diy-and-crafts</td><td>Keep the kids busy this summer with these easy diy crafts and projects. Creative and…</td><td>1</td><td>124k</td><td>https://i.pinimg.com/originals/b3/bc/e2/b3bce2964e8c8975387b39660eed5f16.jpg</td><td>2863</td><td>image</td><td>Of Life & Lisa | Lifestyle Blog</td><td>Local save in /data/diy-and-crafts</td><td>Summer Crafts For Kids,Fun Crafts For Kids,Summer Kids,Toddler Crafts,Crafts To Do,Diy For Kids,Summer Snow,Diys For Summer,Craft Ideas For Girls</td><td>25 Super Fun Summer Crafts for Kids - Of Life and Lisa</td><td>9bf39437-42a6-4f02-99a0-9a0383d8cd70</td></tr><tr><td>diy-and-crafts</td><td>Keep the kids busy this summer with these easy diy crafts and projects. Creative and…</td><td>1</td><td>124k</td><td>https://i.pinimg.com/originals/b3/bc/e2/b3bce2964e8c8975387b39660eed5f16.jpg</td><td>2863</td><td>image</td><td>Of Life & Lisa | Lifestyle Blog</td><td>Local save in /data/diy-and-crafts</td><td>Summer Crafts For Kids,Fun Crafts For Kids,Summer Kids,Toddler Crafts,Crafts To Do,Diy For Kids,Summer Snow,Diys For Summer,Craft Ideas For Girls</td><td>25 Super Fun Summer Crafts for Kids - Of Life and Lisa</td><td>9bf39437-42a6-4f02-99a0-9a0383d8cd70</td></tr><tr><td>tattoos</td><td>We welcome you to our latest collection of Beautiful Tattoo Ideas For Women. Check out and get inspired by the most beautiful design for yourself.</td><td>1</td><td>21k</td><td>https://i.pinimg.com/originals/fa/cf/7c/facf7cd752a4bc7c09faaa8925ab80b1.jpg</td><td>8653</td><td>image</td><td>ALL FOR WOMAN</td><td>Local save in /data/tattoos</td><td>Small Back Tattoos,Small Girl Tattoos,Little Tattoos,Tattoo Girls,Mini Tattoos,Tattoo Small,Back Tattoo Women,Tattoo On Back,Girl Back Tattoos</td><td>Unique Women Tattoos Ideas 2020</td><td>24b1343c-4d86-4705-8ec9-7f1f2df2d77e</td></tr><tr><td>diy-and-crafts</td><td>Keep the kids busy this summer with these easy diy crafts and projects. Creative and…</td><td>1</td><td>124k</td><td>https://i.pinimg.com/originals/b3/bc/e2/b3bce2964e8c8975387b39660eed5f16.jpg</td><td>2863</td><td>image</td><td>Of Life & Lisa | Lifestyle Blog</td><td>Local save in /data/diy-and-crafts</td><td>Summer Crafts For Kids,Fun Crafts For Kids,Summer Kids,Toddler Crafts,Crafts To Do,Diy For Kids,Summer Snow,Diys For Summer,Craft Ideas For Girls</td><td>25 Super Fun Summer Crafts for Kids - Of Life and Lisa</td><td>9bf39437-42a6-4f02-99a0-9a0383d8cd70</td></tr><tr><td>tattoos</td><td>We welcome you to our latest collection of Beautiful Tattoo Ideas For Women. Check out and get inspired by the most beautiful design for yourself.</td><td>1</td><td>21k</td><td>https://i.pinimg.com/originals/fa/cf/7c/facf7cd752a4bc7c09faaa8925ab80b1.jpg</td><td>8653</td><td>image</td><td>ALL FOR WOMAN</td><td>Local save in /data/tattoos</td><td>Small Back Tattoos,Small Girl Tattoos,Little Tattoos,Tattoo Girls,Mini Tattoos,Tattoo Small,Back Tattoo Women,Tattoo On Back,Girl Back Tattoos</td><td>Unique Women Tattoos Ideas 2020</td><td>24b1343c-4d86-4705-8ec9-7f1f2df2d77e</td></tr><tr><td>diy-and-crafts</td><td>A fun space activity for kids. Preshoolers and kindergartners will love making their own alien spacecraft!</td><td>1</td><td>192k</td><td>https://i.pinimg.com/originals/6f/e8/aa/6fe8aa405513c6d2f77b5f47d17cdce8.jpg</td><td>2923</td><td>image</td><td>The Crafting Chicks</td><td>Local save in /data/diy-and-crafts</td><td>Paper Plate Crafts For Kids,Fun Crafts For Kids,Summer Crafts,Toddler Crafts,Art For Kids,Outer Space Crafts For Kids,Kid Crafts,Space Kids,Back To School Crafts For Kids</td><td>UFO Paper Plate Craft</td><td>52fa3af5-24a4-4ccb-8f17-9c3eb12327ee</td></tr><tr><td>diy-and-crafts</td><td>A fun space activity for kids. Preshoolers and kindergartners will love making their own alien spacecraft!</td><td>1</td><td>192k</td><td>https://i.pinimg.com/originals/6f/e8/aa/6fe8aa405513c6d2f77b5f47d17cdce8.jpg</td><td>2923</td><td>image</td><td>The Crafting Chicks</td><td>Local save in /data/diy-and-crafts</td><td>Paper Plate Crafts For Kids,Fun Crafts For Kids,Summer Crafts,Toddler Crafts,Art For Kids,Outer Space Crafts For Kids,Kid Crafts,Space Kids,Back To School Crafts For Kids</td><td>UFO Paper Plate Craft</td><td>52fa3af5-24a4-4ccb-8f17-9c3eb12327ee</td></tr><tr><td>diy-and-crafts</td><td>A fun space activity for kids. Preshoolers and kindergartners will love making their own alien spacecraft!</td><td>1</td><td>192k</td><td>https://i.pinimg.com/originals/6f/e8/aa/6fe8aa405513c6d2f77b5f47d17cdce8.jpg</td><td>2923</td><td>image</td><td>The Crafting Chicks</td><td>Local save in /data/diy-and-crafts</td><td>Paper Plate Crafts For Kids,Fun Crafts For Kids,Summer Crafts,Toddler Crafts,Art For Kids,Outer Space Crafts For Kids,Kid Crafts,Space Kids,Back To School Crafts For Kids</td><td>UFO Paper Plate Craft</td><td>52fa3af5-24a4-4ccb-8f17-9c3eb12327ee</td></tr><tr><td>travel</td><td>The best trips to take when you are young!</td><td>1</td><td>89k</td><td>https://i.pinimg.com/videos/thumbnails/originals/81/97/c1/8197c1beef8bcb19bea5d8b422211f34.0000001.jpg</td><td>9546</td><td>video</td><td>The World Pursuit Travel Website</td><td>Local save in /data/travel</td><td>Fun Places To Go,Beautiful Places To Travel,Best Places To Travel,Travel Jobs,Holiday Places,Future Travel,Travel Around The World,Adventure Travel,Travel Photos</td><td>20 Amazing Trips to Take in Your Twenties!</td><td>efd5b2d6-2f69-40cd-bb59-41f18c089e52</td></tr><tr><td>tattoos</td><td>Koi fish tattoos are a popular choice for men who want to make a statement, thanks to their rich symbolism and bold design.</td><td>1</td><td>211k</td><td>https://i.pinimg.com/originals/8a/0c/0a/8a0c0a7b6236565c519acd41ad1a52c0.jpg</td><td>8731</td><td>image</td><td>TheTrendSpotter</td><td>Local save in /data/tattoos</td><td>Dr Tattoo,Wörter Tattoos,Pisces Tattoos,Tatoo Art,Dream Tattoos,Dope Tattoos,Mini Tattoos,Finger Tattoos,Body Art Tattoos</td><td>20 Koi Fish Tattoos For Lucky Men</td><td>ea760f71-febf-4023-b592-d17396659039</td></tr><tr><td>tattoos</td><td>Koi fish tattoos are a popular choice for men who want to make a statement, thanks to their rich symbolism and bold design.</td><td>1</td><td>211k</td><td>https://i.pinimg.com/originals/8a/0c/0a/8a0c0a7b6236565c519acd41ad1a52c0.jpg</td><td>8731</td><td>image</td><td>TheTrendSpotter</td><td>Local save in /data/tattoos</td><td>Dr Tattoo,Wörter Tattoos,Pisces Tattoos,Tatoo Art,Dream Tattoos,Dope Tattoos,Mini Tattoos,Finger Tattoos,Body Art Tattoos</td><td>20 Koi Fish Tattoos For Lucky Men</td><td>ea760f71-febf-4023-b592-d17396659039</td></tr><tr><td>quotes</td><td>#lovequotes #matchmaker #matchmadeinheaven #loveyourself #respectyourself</td><td>1</td><td>51k</td><td>https://i.pinimg.com/originals/c6/64/ee/c664ee71524fb5a6e7b7b49233f93b43.png</td><td>8304</td><td>image</td><td>Commitment Connection</td><td>Local save in /data/quotes</td><td>Wise Quotes,Quotable Quotes,Words Quotes,Wise Words,Quotes To Live By,Great Quotes,Motivational Quotes,Inspirational Quotes,Funny Quotes</td><td>The #1 Reason You’re Not His Priority Anymore - Matthew Coast</td><td>5b6d0913-25e4-43ab-839d-85d5516f78a4</td></tr><tr><td>quotes</td><td>#lovequotes #matchmaker #matchmadeinheaven #loveyourself #respectyourself</td><td>1</td><td>51k</td><td>https://i.pinimg.com/originals/c6/64/ee/c664ee71524fb5a6e7b7b49233f93b43.png</td><td>8304</td><td>image</td><td>Commitment Connection</td><td>Local save in /data/quotes</td><td>Wise Quotes,Quotable Quotes,Words Quotes,Wise Words,Quotes To Live By,Great Quotes,Motivational Quotes,Inspirational Quotes,Funny Quotes</td><td>The #1 Reason You’re Not His Priority Anymore - Matthew Coast</td><td>5b6d0913-25e4-43ab-839d-85d5516f78a4</td></tr><tr><td>mens-fashion</td><td>imgentleboss: “ - More about men’s fashion at @Gentleboss - GB’s Facebook - ”</td><td>1</td><td>940</td><td>https://i.pinimg.com/originals/e7/6e/8e/e76e8ed6cc838b84a934c6948a5caff7.jpg</td><td>7554</td><td>image</td><td>iElylike ..✿◕‿◕✿ஐ✿◕‿◕✿</td><td>Local save in /data/mens-fashion</td><td>Mens Fashion Blog,Look Fashion,Autumn Fashion,Fashion News,Fashion Sale,80s Fashion,Paris Fashion,Runway Fashion,Fashion Trends</td><td>Craig Style</td><td>c6fa12f4-0d4a-4b07-a335-5bf9f37f8281</td></tr><tr><td>mens-fashion</td><td>imgentleboss: “ - More about men’s fashion at @Gentleboss - GB’s Facebook - ”</td><td>1</td><td>940</td><td>https://i.pinimg.com/originals/e7/6e/8e/e76e8ed6cc838b84a934c6948a5caff7.jpg</td><td>7554</td><td>image</td><td>iElylike ..✿◕‿◕✿ஐ✿◕‿◕✿</td><td>Local save in /data/mens-fashion</td><td>Mens Fashion Blog,Look Fashion,Autumn Fashion,Fashion News,Fashion Sale,80s Fashion,Paris Fashion,Runway Fashion,Fashion Trends</td><td>Craig Style</td><td>c6fa12f4-0d4a-4b07-a335-5bf9f37f8281</td></tr><tr><td>mens-fashion</td><td>imgentleboss: “ - More about men’s fashion at @Gentleboss - GB’s Facebook - ”</td><td>1</td><td>940</td><td>https://i.pinimg.com/originals/e7/6e/8e/e76e8ed6cc838b84a934c6948a5caff7.jpg</td><td>7554</td><td>image</td><td>iElylike ..✿◕‿◕✿ஐ✿◕‿◕✿</td><td>Local save in /data/mens-fashion</td><td>Mens Fashion Blog,Look Fashion,Autumn Fashion,Fashion News,Fashion Sale,80s Fashion,Paris Fashion,Runway Fashion,Fashion Trends</td><td>Craig Style</td><td>c6fa12f4-0d4a-4b07-a335-5bf9f37f8281</td></tr><tr><td>tattoos</td><td>Tattoos are one of the most efficient ways through which one decides to express themselves…</td><td>1</td><td>4k</td><td>https://i.pinimg.com/originals/ab/8e/50/ab8e505b04d4abc8f23e273c15f8a65d.jpg</td><td>8887</td><td>image</td><td>RapidLeaks</td><td>Local save in /data/tattoos</td><td>Dream Tattoos,Body Art Tattoos,New Tattoos,Small Tattoos,Cross Tattoos,Random Tattoos,Fashion Tattoos,Bird Tattoos,Fitness Tattoos</td><td>25 Ultra Sexy Back Tattoo Ideas For Girls</td><td>5df9f6e5-07f5-4ce8-a82e-96586bbc05d8</td></tr><tr><td>tattoos</td><td>Tattoos are one of the most efficient ways through which one decides to express themselves…</td><td>1</td><td>4k</td><td>https://i.pinimg.com/originals/ab/8e/50/ab8e505b04d4abc8f23e273c15f8a65d.jpg</td><td>8887</td><td>image</td><td>RapidLeaks</td><td>Local save in /data/tattoos</td><td>Dream Tattoos,Body Art Tattoos,New Tattoos,Small Tattoos,Cross Tattoos,Random Tattoos,Fashion Tattoos,Bird Tattoos,Fitness Tattoos</td><td>25 Ultra Sexy Back Tattoo Ideas For Girls</td><td>5df9f6e5-07f5-4ce8-a82e-96586bbc05d8</td></tr><tr><td>beauty</td><td>Instantly create the look of lash extensions with this award-winning, best-selling mascara that won't clump, flake or smudge. Available in 3 shades!</td><td>1</td><td>43k</td><td>https://i.pinimg.com/videos/thumbnails/originals/69/84/e2/6984e20f3e262098fa9c0614c3453254.0000001.jpg</td><td>1313</td><td>video</td><td>Thrive Causemetics</td><td>Local save in /data/beauty</td><td>N,o, ,T,a,g,s, ,A,v,a,i,l,a,b,l,e</td><td>Liquid Lash Extensions Mascara</td><td>44662045-e891-4821-8a19-ebe7eedd371a</td></tr><tr><td>beauty</td><td>Instantly create the look of lash extensions with this award-winning, best-selling mascara that won't clump, flake or smudge. Available in 3 shades!</td><td>1</td><td>43k</td><td>https://i.pinimg.com/videos/thumbnails/originals/69/84/e2/6984e20f3e262098fa9c0614c3453254.0000001.jpg</td><td>1313</td><td>video</td><td>Thrive Causemetics</td><td>Local save in /data/beauty</td><td>N,o, ,T,a,g,s, ,A,v,a,i,l,a,b,l,e</td><td>Liquid Lash Extensions Mascara</td><td>44662045-e891-4821-8a19-ebe7eedd371a</td></tr><tr><td>vehicles</td><td>1937 Jaguar SS100 - 2 1/2 Litre Roadster, one of the most sought after pre-war sports cars</td><td>1</td><td>8k</td><td>https://i.pinimg.com/originals/26/81/a7/2681a71bd0c8f7fd0ab79c455338a49a.jpg</td><td>10625</td><td>image</td><td>hobbyDB</td><td>Local save in /data/vehicles</td><td>Jaguar Type E,Jaguar Xk,Jaguar Cars,Jaguar Roadster,Jaguar Sport,Retro Cars,Vintage Cars,Antique Cars,British Sports Cars</td><td>Jaguar Type E</td><td>d31885b7-742a-4e2a-bbb7-ac5f9d334340</td></tr><tr><td>vehicles</td><td>1937 Jaguar SS100 - 2 1/2 Litre Roadster, one of the most sought after pre-war sports cars</td><td>1</td><td>8k</td><td>https://i.pinimg.com/originals/26/81/a7/2681a71bd0c8f7fd0ab79c455338a49a.jpg</td><td>10625</td><td>image</td><td>hobbyDB</td><td>Local save in /data/vehicles</td><td>Jaguar Type E,Jaguar Xk,Jaguar Cars,Jaguar Roadster,Jaguar Sport,Retro Cars,Vintage Cars,Antique Cars,British Sports Cars</td><td>Jaguar Type E</td><td>d31885b7-742a-4e2a-bbb7-ac5f9d334340</td></tr><tr><td>vehicles</td><td>1937 Jaguar SS100 - 2 1/2 Litre Roadster, one of the most sought after pre-war sports cars</td><td>1</td><td>8k</td><td>https://i.pinimg.com/originals/26/81/a7/2681a71bd0c8f7fd0ab79c455338a49a.jpg</td><td>10625</td><td>image</td><td>hobbyDB</td><td>Local save in /data/vehicles</td><td>Jaguar Type E,Jaguar Xk,Jaguar Cars,Jaguar Roadster,Jaguar Sport,Retro Cars,Vintage Cars,Antique Cars,British Sports Cars</td><td>Jaguar Type E</td><td>d31885b7-742a-4e2a-bbb7-ac5f9d334340</td></tr><tr><td>travel</td><td>Best spots to see for travel through Ireland!</td><td>1</td><td>130k</td><td>https://i.pinimg.com/originals/c7/50/d3/c750d36524856873d64406652d69b4fb.png</td><td>9590</td><td>image</td><td>Fun Life Crisis</td><td>Local save in /data/travel</td><td>Vacation Ideas,Vacation Spots,Emerald Isle,London England,Travel Guides,Travel Tips,Travel Hacks,Travel Packing,Places To Travel</td><td>Top 20 Things To See And Do In Ireland</td><td>b849e976-52f6-45d7-8b25-51559318f167</td></tr><tr><td>beauty</td><td>Untitled</td><td>1</td><td>0</td><td>https://i.pinimg.com/originals/af/c4/59/afc459bd6e1fd8f9aef212504afebf3a.jpg</td><td>1014</td><td>image</td><td>Grecia Perales</td><td>Local save in /data/beauty</td><td>Hair Inspo,Hair Inspiration,Motivation Inspiration,Cl Rapper,Foto Glamour,Kreative Portraits,Classy Aesthetic,Pretty Hairstyles,Hair Looks</td><td>Hairstyles & Beauty</td><td>9ac94307-bb27-410e-b554-0a0ab6c19847</td></tr><tr><td>vehicles</td><td>Nissan GT-R. Sick.</td><td>1</td><td>437</td><td>https://i.pinimg.com/originals/0d/29/9f/0d299f3df020395aa7ce8387f40fbeed.jpg</td><td>10794</td><td>image</td><td>Ray Uyemura</td><td>Local save in /data/vehicles</td><td>Lowrider,Old Vintage Cars,Antique Cars,Austin Martin,Nissan Gtr Black,Jaguar,1959 Cadillac,Cadillac Ct6,Old School Cars</td><td>TireBuyer</td><td>c4bd2577-a7bb-4409-bb7a-17d5ed7e1cf1</td></tr><tr><td>vehicles</td><td>Nissan GT-R. Sick.</td><td>1</td><td>437</td><td>https://i.pinimg.com/originals/0d/29/9f/0d299f3df020395aa7ce8387f40fbeed.jpg</td><td>10794</td><td>image</td><td>Ray Uyemura</td><td>Local save in /data/vehicles</td><td>Lowrider,Old Vintage Cars,Antique Cars,Austin Martin,Nissan Gtr Black,Jaguar,1959 Cadillac,Cadillac Ct6,Old School Cars</td><td>TireBuyer</td><td>c4bd2577-a7bb-4409-bb7a-17d5ed7e1cf1</td></tr><tr><td>vehicles</td><td>Nissan GT-R. Sick.</td><td>1</td><td>437</td><td>https://i.pinimg.com/originals/0d/29/9f/0d299f3df020395aa7ce8387f40fbeed.jpg</td><td>10794</td><td>image</td><td>Ray Uyemura</td><td>Local save in /data/vehicles</td><td>Lowrider,Old Vintage Cars,Antique Cars,Austin Martin,Nissan Gtr Black,Jaguar,1959 Cadillac,Cadillac Ct6,Old School Cars</td><td>TireBuyer</td><td>c4bd2577-a7bb-4409-bb7a-17d5ed7e1cf1</td></tr><tr><td>diy-and-crafts</td><td>No description available Story format</td><td>0</td><td>User Info Error</td><td>Image src error.</td><td>3089</td><td>multi-video(story page format)</td><td>User Info Error</td><td>Local save in /data/diy-and-crafts</td><td>N,o, ,T,a,g,s, ,A,v,a,i,l,a,b,l,e</td><td>No Title Data Available</td><td>88f9227e-88d0-4b1c-b0be-bcfc3028b8e2</td></tr><tr><td>diy-and-crafts</td><td>No description available Story format</td><td>0</td><td>User Info Error</td><td>Image src error.</td><td>3089</td><td>multi-video(story page format)</td><td>User Info Error</td><td>Local save in /data/diy-and-crafts</td><td>N,o, ,T,a,g,s, ,A,v,a,i,l,a,b,l,e</td><td>No Title Data Available</td><td>88f9227e-88d0-4b1c-b0be-bcfc3028b8e2</td></tr><tr><td>diy-and-crafts</td><td>No description available Story format</td><td>0</td><td>User Info Error</td><td>Image src error.</td><td>3089</td><td>multi-video(story page format)</td><td>User Info Error</td><td>Local save in /data/diy-and-crafts</td><td>N,o, ,T,a,g,s, ,A,v,a,i,l,a,b,l,e</td><td>No Title Data Available</td><td>88f9227e-88d0-4b1c-b0be-bcfc3028b8e2</td></tr><tr><td>mens-fashion</td><td>No description available Story format</td><td>0</td><td>User Info Error</td><td>Image src error.</td><td>7528</td><td>multi-video(story page format)</td><td>User Info Error</td><td>Local save in /data/mens-fashion</td><td>N,o, ,T,a,g,s, ,A,v,a,i,l,a,b,l,e</td><td>No Title Data Available</td><td>fbe53c66-3442-4773-b19e-d3ec6f54dddf</td></tr><tr><td>mens-fashion</td><td>No description available Story format</td><td>0</td><td>User Info Error</td><td>Image src error.</td><td>7528</td><td>multi-video(story page format)</td><td>User Info Error</td><td>Local save in /data/mens-fashion</td><td>N,o, ,T,a,g,s, ,A,v,a,i,l,a,b,l,e</td><td>No Title Data Available</td><td>fbe53c66-3442-4773-b19e-d3ec6f54dddf</td></tr><tr><td>mens-fashion</td><td>No description available Story format</td><td>0</td><td>User Info Error</td><td>Image src error.</td><td>7528</td><td>multi-video(story page format)</td><td>User Info Error</td><td>Local save in /data/mens-fashion</td><td>N,o, ,T,a,g,s, ,A,v,a,i,l,a,b,l,e</td><td>No Title Data Available</td><td>fbe53c66-3442-4773-b19e-d3ec6f54dddf</td></tr><tr><td>mens-fashion</td><td>No description available Story format</td><td>0</td><td>User Info Error</td><td>Image src error.</td><td>7528</td><td>multi-video(story page format)</td><td>User Info Error</td><td>Local save in /data/mens-fashion</td><td>N,o, ,T,a,g,s, ,A,v,a,i,l,a,b,l,e</td><td>No Title Data Available</td><td>fbe53c66-3442-4773-b19e-d3ec6f54dddf</td></tr></tbody></table></div>"
      ]
     },
     "metadata": {
      "application/vnd.databricks.v1+output": {
       "addedWidgets": {},
       "aggData": [],
       "aggError": "",
       "aggOverflow": false,
       "aggSchema": [],
       "aggSeriesLimitReached": false,
       "aggType": "",
       "arguments": {},
       "columnCustomDisplayInfos": {},
       "data": [
        [
         "christmas",
         "Christmas decorating ideas for porches. Beautiful holiday decor ideas for front porches both small and large. Outdoor decorations like sleds, lanterns, Christmas trees, wreaths,… ",
         1,
         "46k",
         "https://i.pinimg.com/videos/thumbnails/originals/40/83/f5/4083f5b4971bf235f89a4784ab87271e.0000001.jpg",
         2482,
         "video",
         "Life on Summerhill | Home, Holiday Decor & DIY Website",
         "Local save in /data/christmas",
         "Diy Christmas Decorations For Home,Farmhouse Christmas Decor,Christmas Home,Christmas Holidays,Christmas Front Porches,How To Decorate For Christmas,Christmas Porch Ideas,Christmas Decorating Ideas,Large Outdoor Christmas Decorations",
         "FORNT PORCH CHRISTMAS DECORATING IDEAS",
         "08604f20-fa17-4b9a-9949-781717eca6cd"
        ],
        [
         "travel",
         "This Costa Rica itinerary is the ultimate guide to spending two weeks in Costa Rica. Find out about visiting La Fortuna, Arenal, Monteverde, Naranjo, Corcovado National Park, Or… ",
         1,
         "10k",
         "https://i.pinimg.com/originals/30/93/cb/3093cb01d9de2d125fda8ba5e3e41946.jpg",
         10138,
         "image",
         "Wanderlust Chloe ✈️ Travel guides, inspo and adventure travel ✈️",
         "Local save in /data/travel",
         "Costa Rica Travel,Rio Celeste Costa Rica,Dream Vacations,Vacation Spots,Vacation Travel,Travel Pictures,Travel Photos,Fortuna Costa Rica,Costa Rica Pictures",
         "14 Amazing Things To Do In Costa Rica | Volcanoes, Waterfalls, Wildlife And More",
         "927c4658-cc3f-4b92-9b5c-70743d0c238d"
        ],
        [
         "travel",
         "This Costa Rica itinerary is the ultimate guide to spending two weeks in Costa Rica. Find out about visiting La Fortuna, Arenal, Monteverde, Naranjo, Corcovado National Park, Or… ",
         1,
         "10k",
         "https://i.pinimg.com/originals/30/93/cb/3093cb01d9de2d125fda8ba5e3e41946.jpg",
         10138,
         "image",
         "Wanderlust Chloe ✈️ Travel guides, inspo and adventure travel ✈️",
         "Local save in /data/travel",
         "Costa Rica Travel,Rio Celeste Costa Rica,Dream Vacations,Vacation Spots,Vacation Travel,Travel Pictures,Travel Photos,Fortuna Costa Rica,Costa Rica Pictures",
         "14 Amazing Things To Do In Costa Rica | Volcanoes, Waterfalls, Wildlife And More",
         "927c4658-cc3f-4b92-9b5c-70743d0c238d"
        ],
        [
         "diy-and-crafts",
         "This post may contain affiliate links, read our Disclosure Policy for more information. As an Amazon Associate I earn from qualifying purchases, thank you! Make some cute handpr… ",
         1,
         "892k",
         "https://i.pinimg.com/originals/ff/fe/38/fffe384f3ec18a0d87cb2d80cc8c1499.jpg",
         3156,
         "image",
         "Michelle {CraftyMorning.com}",
         "Local save in /data/diy-and-crafts",
         "Christmas Gifts For Parents,Christmas Decorations For Kids,Christmas Crafts For Toddlers,Preschool Christmas,Christmas Crafts For Gifts,Christmas Activities,Toddler Crafts,Kids Christmas,Christmas Feeling",
         "Handprint Reindeer Ornaments - Crafty Morning",
         "fa6e31a4-18c2-4eca-a6d8-e903eee2c2a4"
        ],
        [
         "diy-and-crafts",
         "This post may contain affiliate links, read our Disclosure Policy for more information. As an Amazon Associate I earn from qualifying purchases, thank you! Make some cute handpr… ",
         1,
         "892k",
         "https://i.pinimg.com/originals/ff/fe/38/fffe384f3ec18a0d87cb2d80cc8c1499.jpg",
         3156,
         "image",
         "Michelle {CraftyMorning.com}",
         "Local save in /data/diy-and-crafts",
         "Christmas Gifts For Parents,Christmas Decorations For Kids,Christmas Crafts For Toddlers,Preschool Christmas,Christmas Crafts For Gifts,Christmas Activities,Toddler Crafts,Kids Christmas,Christmas Feeling",
         "Handprint Reindeer Ornaments - Crafty Morning",
         "fa6e31a4-18c2-4eca-a6d8-e903eee2c2a4"
        ],
        [
         "diy-and-crafts",
         "This post may contain affiliate links, read our Disclosure Policy for more information. As an Amazon Associate I earn from qualifying purchases, thank you! Make some cute handpr… ",
         1,
         "892k",
         "https://i.pinimg.com/originals/ff/fe/38/fffe384f3ec18a0d87cb2d80cc8c1499.jpg",
         3156,
         "image",
         "Michelle {CraftyMorning.com}",
         "Local save in /data/diy-and-crafts",
         "Christmas Gifts For Parents,Christmas Decorations For Kids,Christmas Crafts For Toddlers,Preschool Christmas,Christmas Crafts For Gifts,Christmas Activities,Toddler Crafts,Kids Christmas,Christmas Feeling",
         "Handprint Reindeer Ornaments - Crafty Morning",
         "fa6e31a4-18c2-4eca-a6d8-e903eee2c2a4"
        ],
        [
         "finance",
         "If you love budgeting, make sure to give Dave Ramsey's 7 Baby Steps a try. Follow these steps to begin your debt snowball, build an emergency fund, invest and reach riches. I ca… ",
         1,
         "26k",
         "https://i.pinimg.com/originals/1e/9d/90/1e9d906e4e150e3b95187f3b76ea7c71.png",
         5494,
         "image",
         "Living Low Key | Save Money, Make Money, & Frugal Living",
         "Local save in /data/finance",
         "Financial Peace,Financial Tips,Saving Money Quotes,Total Money Makeover,Budgeting Finances,Money Management,Wealth Management,Personal Finance,Making Ideas",
         "Dave Ramsey's 7 Baby Steps: What Are They And Will They Work For You",
         "8fb2af68-543b-4639-8119-de33d28706ed"
        ],
        [
         "finance",
         "If you love budgeting, make sure to give Dave Ramsey's 7 Baby Steps a try. Follow these steps to begin your debt snowball, build an emergency fund, invest and reach riches. I ca… ",
         1,
         "26k",
         "https://i.pinimg.com/originals/1e/9d/90/1e9d906e4e150e3b95187f3b76ea7c71.png",
         5494,
         "image",
         "Living Low Key | Save Money, Make Money, & Frugal Living",
         "Local save in /data/finance",
         "Financial Peace,Financial Tips,Saving Money Quotes,Total Money Makeover,Budgeting Finances,Money Management,Wealth Management,Personal Finance,Making Ideas",
         "Dave Ramsey's 7 Baby Steps: What Are They And Will They Work For You",
         "8fb2af68-543b-4639-8119-de33d28706ed"
        ],
        [
         "finance",
         "If you love budgeting, make sure to give Dave Ramsey's 7 Baby Steps a try. Follow these steps to begin your debt snowball, build an emergency fund, invest and reach riches. I ca… ",
         1,
         "26k",
         "https://i.pinimg.com/originals/1e/9d/90/1e9d906e4e150e3b95187f3b76ea7c71.png",
         5494,
         "image",
         "Living Low Key | Save Money, Make Money, & Frugal Living",
         "Local save in /data/finance",
         "Financial Peace,Financial Tips,Saving Money Quotes,Total Money Makeover,Budgeting Finances,Money Management,Wealth Management,Personal Finance,Making Ideas",
         "Dave Ramsey's 7 Baby Steps: What Are They And Will They Work For You",
         "8fb2af68-543b-4639-8119-de33d28706ed"
        ],
        [
         "christmas",
         "Here are the best DIY Christmas Centerpieces ideas perfect for your Christmas & holiday season home decor. From Christmas Vignettes to Table Centerpieces.",
         1,
         "500k",
         "https://i.pinimg.com/originals/aa/6d/0f/aa6d0f44d7c1c96b998cb9aa6c4446b8.png",
         2418,
         "image",
         "HikenDip",
         "Local save in /data/christmas",
         "Farmhouse Christmas Decor,Rustic Christmas,Christmas Time,Vintage Christmas,Xmas,Primitive Christmas Crafts,Christmas Vignette,Indoor Christmas Decorations,Diy Christmas Ornaments",
         "100 DIY Christmas Centerpieces You'll Love To Decorate Your Home With For The Christmas Season - Hike n Dip",
         "da8745a6-5160-46c4-877d-181d50a729fd"
        ],
        [
         "christmas",
         "Here are the best DIY Christmas Centerpieces ideas perfect for your Christmas & holiday season home decor. From Christmas Vignettes to Table Centerpieces.",
         1,
         "500k",
         "https://i.pinimg.com/originals/aa/6d/0f/aa6d0f44d7c1c96b998cb9aa6c4446b8.png",
         2418,
         "image",
         "HikenDip",
         "Local save in /data/christmas",
         "Farmhouse Christmas Decor,Rustic Christmas,Christmas Time,Vintage Christmas,Xmas,Primitive Christmas Crafts,Christmas Vignette,Indoor Christmas Decorations,Diy Christmas Ornaments",
         "100 DIY Christmas Centerpieces You'll Love To Decorate Your Home With For The Christmas Season - Hike n Dip",
         "da8745a6-5160-46c4-877d-181d50a729fd"
        ],
        [
         "christmas",
         "Here are the best DIY Christmas Centerpieces ideas perfect for your Christmas & holiday season home decor. From Christmas Vignettes to Table Centerpieces.",
         1,
         "500k",
         "https://i.pinimg.com/originals/aa/6d/0f/aa6d0f44d7c1c96b998cb9aa6c4446b8.png",
         2418,
         "image",
         "HikenDip",
         "Local save in /data/christmas",
         "Farmhouse Christmas Decor,Rustic Christmas,Christmas Time,Vintage Christmas,Xmas,Primitive Christmas Crafts,Christmas Vignette,Indoor Christmas Decorations,Diy Christmas Ornaments",
         "100 DIY Christmas Centerpieces You'll Love To Decorate Your Home With For The Christmas Season - Hike n Dip",
         "da8745a6-5160-46c4-877d-181d50a729fd"
        ],
        [
         "quotes",
         "summcoco gives you inspiration for the women fashion trends you want. Thinking about a new look or lifestyle? This is your ultimate resource to get the hottest trends. 45 Top Li… ",
         1,
         "306k",
         "https://i.pinimg.com/originals/bb/c0/e6/bbc0e6a797079505f11ac12bcb0b8c66.jpg",
         7922,
         "image",
         "Sumcoco | Decor Ideas, Hairstyles, Nails Fashion Advice",
         "Local save in /data/quotes",
         "Life Quotes Love,Inspirational Quotes About Love,Mood Quotes,Motivational Quotes,Tears Quotes,Quotes About Sadness,Deep Quotes About Life,Quotes Quotes,Quote Life",
         "45 Top Life Quotes School Did Not Teach You",
         "a584581c-1b38-4731-a1cc-f36115ecf229"
        ],
        [
         "event-planning",
         "Personalize your event or shop with a customized neon sign. Make a statement with your own custom vibes! This light is 32 -40 inches (80cm-100cm) if you need something bigger, p… ",
         1,
         "111",
         "https://i.pinimg.com/originals/e9/c0/7c/e9c07cf0cf16cab23764a36718ab76c1.jpg",
         4508,
         "image",
         "Life of Neon | Custom Neon Light Signs | Home Decor Wall Art",
         "Local save in /data/event-planning",
         "Our Wedding,Wedding Venues,Dream Wedding,Wedding Cakes,Church Wedding,Wedding Flowers,Lace Wedding,Wedding Rings,Wedding Dresses",
         "Custom Event and Shop Neon Sign Lights - Event & Shop",
         "9064f4a2-2753-476c-815e-db360f45a93e"
        ],
        [
         "travel",
         "Are you traveling to Paris during the summer? Find out what to do in Paris, France during the summer. Fun summertime activities in Paris. Enjoy the incredible outdoors when trav… ",
         1,
         "3k",
         "https://i.pinimg.com/originals/6c/4c/90/6c4c90bba27ebf8c8bfe4c1acfb9f07a.jpg",
         9979,
         "image",
         "Petite in Paris",
         "Local save in /data/travel",
         "Torre Eiffel Paris,Tour Eiffel,Picnic In Paris,Hello France,Voyage Europe,Destination Voyage,Beautiful Places To Travel,Travel Aesthetic,Paris Travel",
         "Paris in the Summer. 10 fun things to do in Paris in the Summertime • Petite in Paris",
         "2b2abc85-fc51-481f-8ae6-17681993da28"
        ],
        [
         "travel",
         "Are you traveling to Paris during the summer? Find out what to do in Paris, France during the summer. Fun summertime activities in Paris. Enjoy the incredible outdoors when trav… ",
         1,
         "3k",
         "https://i.pinimg.com/originals/6c/4c/90/6c4c90bba27ebf8c8bfe4c1acfb9f07a.jpg",
         9979,
         "image",
         "Petite in Paris",
         "Local save in /data/travel",
         "Torre Eiffel Paris,Tour Eiffel,Picnic In Paris,Hello France,Voyage Europe,Destination Voyage,Beautiful Places To Travel,Travel Aesthetic,Paris Travel",
         "Paris in the Summer. 10 fun things to do in Paris in the Summertime • Petite in Paris",
         "2b2abc85-fc51-481f-8ae6-17681993da28"
        ],
        [
         "travel",
         "Although you'd think Greek islands are fairly similar, you'd be completely wrong! Each island has it's own personality and appeal. Here are the 8 Best Greek Islands to visit, es… ",
         1,
         "42k",
         "https://i.pinimg.com/originals/06/1d/ce/061dce38929dec8e74844442116bea4a.jpg",
         9759,
         "image",
         "TheFab20s | Travel+Food+DIY+Listicles",
         "Local save in /data/travel",
         "Greek Islands To Visit,Best Greek Islands,Greece Islands,Cool Places To Visit,Places To Go,Best Places In Portugal,Copenhagen Travel,Paros Island,Santorini Island",
         "8 Best Greek Islands You Have To Visit - TheFab20s",
         "d105eb6e-0f9f-46e7-8d02-d24b62f6ae90"
        ],
        [
         "diy-and-crafts",
         "DIY Dollar Store Valentine’s Day Heart Wreath Decoration. There are so many great Valentine crafts at the Dollar Tree right now! During our last trip, we picked up a few supplie… ",
         1,
         "9k",
         "https://i.pinimg.com/originals/dc/f6/8a/dcf68adcc63c339c24fa5664f1115994.png",
         2698,
         "image",
         "South Lumina Style",
         "Local save in /data/diy-and-crafts",
         "Valentine Day Wreaths,Valentines Day Hearts,Valentines Day Decorations,Valentine Day Crafts,Holiday Crafts,Diy Christmas,Christmas Wreaths,Valentine Tree,Printable Valentine",
         "DIY Dollar Tree Valentine's Day Wreath",
         "73f16302-4871-486a-8836-947530526337"
        ],
        [
         "home-decor",
         "Holiday mantle decor, Christmas decor, metallic mercury glass style Christmas trees, eucalyptus vine, evergreen pine branches, white neutral holiday decor, cozy mantle for the h… ",
         1,
         "83k",
         "https://i.pinimg.com/originals/9d/82/1a/9d821a80acd8f90c16454e978bd9b115.jpg",
         6145,
         "image",
         "Stylin by Aylin",
         "Local save in /data/home-decor",
         "Winter Home Decor,Christmas Living Room Decor,Living Room Decor Cozy,Christmas Decor,Cozy Fireplace,Rustic Fireplace Decor,Fireplace Decorations,Rustic Room,House Decorations",
         "HOLIDAY MANTLE DECOR - @AMAZON & @TARGET FINDS",
         "82e13a07-db99-43a3-b1c0-89a4b75821da"
        ],
        [
         "home-decor",
         "Holiday mantle decor, Christmas decor, metallic mercury glass style Christmas trees, eucalyptus vine, evergreen pine branches, white neutral holiday decor, cozy mantle for the h… ",
         1,
         "83k",
         "https://i.pinimg.com/originals/9d/82/1a/9d821a80acd8f90c16454e978bd9b115.jpg",
         6145,
         "image",
         "Stylin by Aylin",
         "Local save in /data/home-decor",
         "Winter Home Decor,Christmas Living Room Decor,Living Room Decor Cozy,Christmas Decor,Cozy Fireplace,Rustic Fireplace Decor,Fireplace Decorations,Rustic Room,House Decorations",
         "HOLIDAY MANTLE DECOR - @AMAZON & @TARGET FINDS",
         "82e13a07-db99-43a3-b1c0-89a4b75821da"
        ],
        [
         "home-decor",
         "Holiday mantle decor, Christmas decor, metallic mercury glass style Christmas trees, eucalyptus vine, evergreen pine branches, white neutral holiday decor, cozy mantle for the h… ",
         1,
         "83k",
         "https://i.pinimg.com/originals/9d/82/1a/9d821a80acd8f90c16454e978bd9b115.jpg",
         6145,
         "image",
         "Stylin by Aylin",
         "Local save in /data/home-decor",
         "Winter Home Decor,Christmas Living Room Decor,Living Room Decor Cozy,Christmas Decor,Cozy Fireplace,Rustic Fireplace Decor,Fireplace Decorations,Rustic Room,House Decorations",
         "HOLIDAY MANTLE DECOR - @AMAZON & @TARGET FINDS",
         "82e13a07-db99-43a3-b1c0-89a4b75821da"
        ],
        [
         "christmas",
         "Christmas Trees From Pallet Wood | Holiday DIY: Deck the yard with some fun outdoor Christmas Trees! We made these merry and bright decorations from two old pallets we had lying… ",
         1,
         "3M",
         "https://i.pinimg.com/originals/64/7b/ca/647bca35169b7c144604116c64bcba8a.png",
         1704,
         "image",
         "Instructables",
         "Local save in /data/christmas",
         "Pallet Wood Christmas Tree,Wooden Christmas Crafts,Diy Christmas Tree,Christmas Projects,Holiday Crafts,Wooden Xmas Trees,Different Christmas Trees,Pallet Tree,Christmas Kitchen",
         "Christmas Trees From Pallet Wood | Holiday DIY",
         "5fbf9863-fb79-477c-a5b6-540c3020a55f"
        ],
        [
         "education",
         "Podcasts for Teachers or Parents of Teenagers: Teaching teens middle school and high school can feel joyful and rewarding most days, but can also frustrate you with one challeng… ",
         1,
         "25k",
         "https://i.pinimg.com/originals/50/19/31/501931a27ee4d076658980851b995b2c.jpg",
         4315,
         "image",
         "Math Giraffe",
         "Local save in /data/education",
         "Middle School Classroom,High School Students,High School Teachers,Middle School Tips,High School Counseling,Ela Classroom,High School Science,Future Classroom,Google Classroom",
         "Podcasts for Teachers or Parents of Teenagers",
         "21b59ba9-829d-4c33-8c27-4cd4c56d26b8"
        ],
        [
         "education",
         "Podcasts for Teachers or Parents of Teenagers: Teaching teens middle school and high school can feel joyful and rewarding most days, but can also frustrate you with one challeng… ",
         1,
         "25k",
         "https://i.pinimg.com/originals/50/19/31/501931a27ee4d076658980851b995b2c.jpg",
         4315,
         "image",
         "Math Giraffe",
         "Local save in /data/education",
         "Middle School Classroom,High School Students,High School Teachers,Middle School Tips,High School Counseling,Ela Classroom,High School Science,Future Classroom,Google Classroom",
         "Podcasts for Teachers or Parents of Teenagers",
         "21b59ba9-829d-4c33-8c27-4cd4c56d26b8"
        ],
        [
         "event-planning",
         "Sacramento California Wedding 2 Chic Events & Design Jodi Yorston Photography Wilson Vineyards Barn Miosa Couture Yellow Barn Vineyard Outdoor Candles DIY",
         1,
         "6M",
         "https://i.pinimg.com/originals/7e/45/90/7e45905fefa36347e83333fd6d091140.jpg",
         5069,
         "image",
         "Style Me Pretty",
         "Local save in /data/event-planning",
         "60th Anniversary Parties,Anniversary Decorations,Golden Anniversary,25th Wedding Anniversary,Anniversary Pictures,Anniversary Ideas,Birthday Decorations,Event Planning Design,Event Design",
         "The Vault: Curated & Refined Wedding Inspiration",
         "b75b6f87-deb3-444f-b29e-ce9161b2df49"
        ],
        [
         "event-planning",
         "Sacramento California Wedding 2 Chic Events & Design Jodi Yorston Photography Wilson Vineyards Barn Miosa Couture Yellow Barn Vineyard Outdoor Candles DIY",
         1,
         "6M",
         "https://i.pinimg.com/originals/7e/45/90/7e45905fefa36347e83333fd6d091140.jpg",
         5069,
         "image",
         "Style Me Pretty",
         "Local save in /data/event-planning",
         "60th Anniversary Parties,Anniversary Decorations,Golden Anniversary,25th Wedding Anniversary,Anniversary Pictures,Anniversary Ideas,Birthday Decorations,Event Planning Design,Event Design",
         "The Vault: Curated & Refined Wedding Inspiration",
         "b75b6f87-deb3-444f-b29e-ce9161b2df49"
        ],
        [
         "mens-fashion",
         "Black And Brown Outfits You Need To Try This Fall Season. The trick with black and brown outfits is to know how to combine colors, fabrics, and shapes to get a cohesive look. So… ",
         1,
         "1M",
         "https://i.pinimg.com/originals/3e/49/09/3e4909c0ccc4dbba3cad83d97eab4a61.png",
         7343,
         "image",
         "Cultura Colectiva",
         "Local save in /data/mens-fashion",
         "Winter Outfits Men,Stylish Mens Outfits,Casual Outfits,Men Casual,Smart Casual,Outfits For Men,Fall Outfits,Mens Winter Boots,Business Casual Men",
         "This Fashion Rule Is Nonsense, And We Should All Forget About It",
         "b8c63a95-6fe8-4d7f-9455-1eef3462fee0"
        ],
        [
         "event-planning",
         "Sacramento California Wedding 2 Chic Events & Design Jodi Yorston Photography Wilson Vineyards Barn Miosa Couture Yellow Barn Vineyard Outdoor Candles DIY",
         1,
         "6M",
         "https://i.pinimg.com/originals/7e/45/90/7e45905fefa36347e83333fd6d091140.jpg",
         5069,
         "image",
         "Style Me Pretty",
         "Local save in /data/event-planning",
         "60th Anniversary Parties,Anniversary Decorations,Golden Anniversary,25th Wedding Anniversary,Anniversary Pictures,Anniversary Ideas,Birthday Decorations,Event Planning Design,Event Design",
         "The Vault: Curated & Refined Wedding Inspiration",
         "b75b6f87-deb3-444f-b29e-ce9161b2df49"
        ],
        [
         "mens-fashion",
         "Black And Brown Outfits You Need To Try This Fall Season. The trick with black and brown outfits is to know how to combine colors, fabrics, and shapes to get a cohesive look. So… ",
         1,
         "1M",
         "https://i.pinimg.com/originals/3e/49/09/3e4909c0ccc4dbba3cad83d97eab4a61.png",
         7343,
         "image",
         "Cultura Colectiva",
         "Local save in /data/mens-fashion",
         "Winter Outfits Men,Stylish Mens Outfits,Casual Outfits,Men Casual,Smart Casual,Outfits For Men,Fall Outfits,Mens Winter Boots,Business Casual Men",
         "This Fashion Rule Is Nonsense, And We Should All Forget About It",
         "b8c63a95-6fe8-4d7f-9455-1eef3462fee0"
        ],
        [
         "tattoos",
         "summcoco gives you inspiration for the women fashion trends you want. Thinking about a new look or lifestyle? This is your ultimate resource to get the hottest trends. 30+ Eagle… ",
         1,
         "306k",
         "https://i.pinimg.com/originals/8d/c6/ed/8dc6ed0b212393187a14c7d07a88060f.png",
         8606,
         "image",
         "Sumcoco | Decor Ideas, Hairstyles, Nails Fashion Advice",
         "Local save in /data/tattoos",
         "White Bird Tattoos,Rose Tattoos,Flower Tattoos,Tattoo Black,Bird And Flower Tattoo,Tattoo Floral,Mini Tattoos,Flower Art,Girls With Sleeve Tattoos",
         "30+ Eagle Tattoos Ideas for Women",
         "71757040-bfc8-4631-9cac-22801e61d9e3"
        ],
        [
         "home-decor",
         "Beautiful and easy ways to update every room in your home with fall decor. Plus, my favorite finds in fall decor for 2020!",
         1,
         "92k",
         "https://i.pinimg.com/originals/e5/ae/dc/e5aedc14ce557e3a69f672e0f8c88f6e.png",
         6063,
         "image",
         "Kristen | Lifestyle, Mom Tips & Teacher Stuff Blog",
         "Local save in /data/home-decor",
         "Fall Home Decor,Autumn Home,Fall Decor Outdoor,Front Porch Fall Decor,Home Decor Ideas,Porch Ideas For Fall,Fall Outdoor Decorating,Decorating Ideas For Fall,Fall Front Doors",
         "41 Gorgeous Fall Decor Ideas For Your Home - Chaylor & Mads",
         "60693727-4927-4bd6-a8c5-096a392d63e6"
        ],
        [
         "home-decor",
         "Beautiful and easy ways to update every room in your home with fall decor. Plus, my favorite finds in fall decor for 2020!",
         1,
         "92k",
         "https://i.pinimg.com/originals/e5/ae/dc/e5aedc14ce557e3a69f672e0f8c88f6e.png",
         6063,
         "image",
         "Kristen | Lifestyle, Mom Tips & Teacher Stuff Blog",
         "Local save in /data/home-decor",
         "Fall Home Decor,Autumn Home,Fall Decor Outdoor,Front Porch Fall Decor,Home Decor Ideas,Porch Ideas For Fall,Fall Outdoor Decorating,Decorating Ideas For Fall,Fall Front Doors",
         "41 Gorgeous Fall Decor Ideas For Your Home - Chaylor & Mads",
         "60693727-4927-4bd6-a8c5-096a392d63e6"
        ],
        [
         "home-decor",
         "Beautiful and easy ways to update every room in your home with fall decor. Plus, my favorite finds in fall decor for 2020!",
         1,
         "92k",
         "https://i.pinimg.com/originals/e5/ae/dc/e5aedc14ce557e3a69f672e0f8c88f6e.png",
         6063,
         "image",
         "Kristen | Lifestyle, Mom Tips & Teacher Stuff Blog",
         "Local save in /data/home-decor",
         "Fall Home Decor,Autumn Home,Fall Decor Outdoor,Front Porch Fall Decor,Home Decor Ideas,Porch Ideas For Fall,Fall Outdoor Decorating,Decorating Ideas For Fall,Fall Front Doors",
         "41 Gorgeous Fall Decor Ideas For Your Home - Chaylor & Mads",
         "60693727-4927-4bd6-a8c5-096a392d63e6"
        ],
        [
         "event-planning",
         "So you're thinking of getting your event planner certification, but how much do you REALLY know about event planning? Event planners need to be knowledgeable and able to answer… ",
         1,
         "5k",
         "https://i.pinimg.com/originals/6f/19/bc/6f19bce24921bf843540fc04da9eb6bf.jpg",
         5076,
         "image",
         "QC Career School",
         "Local save in /data/event-planning",
         "Diy Wedding Food,Best Wedding Makeup,Wedding Events,Wedding Tips,Wedding Stuff,Weddings,Event Planning Business,Business Events,Wedding Makeup Tutorial",
         "Quiz: Test Your Event IQ! - Pointers For Planners",
         "fa3af29c-dc78-4eed-a4c5-52a407ea04c0"
        ],
        [
         "education",
         "15 Essential Classroom Items For First Year Teachers / First Year Teacher Must Haves",
         1,
         "5k",
         "https://i.pinimg.com/originals/4b/b9/a8/4bb9a85f609a8384ed9c9ab14e7bcea0.jpg",
         4137,
         "image",
         "Write Your Story | Budgeting, Healthy Lifestyle, Faith",
         "Local save in /data/education",
         "1st Year Teachers,First Year Teaching,First Grade Teachers,Elementary Teacher,Montessori Elementary,Teaching Reading,History Teachers,High School Classroom,First Grade Classroom",
         "15 Essential Classroom Items For First Year Teachers / First Year Teacher Must Haves",
         "bf275054-4464-448b-9143-1bf101aa366d"
        ],
        [
         "christmas",
         "Transform mini terra cotta pots into the sweetest gingerbread house ornaments! Kids will love making this adorable Christmas craft to hang on the tree.",
         1,
         "20k",
         "https://i.pinimg.com/originals/13/28/09/1328097d7c290d1bf8642b01a6ba1c6c.jpg",
         2411,
         "image",
         "Projects with Kids",
         "Local save in /data/christmas",
         "Noel Christmas,Diy Christmas Ornaments,Homemade Christmas,Simple Christmas,Gingerbread Ornaments,Christmas Gingerbread,Gingerbread Houses,Preschool Christmas,Ornaments Ideas",
         "The Sweetest Gingerbread House Ornaments Kids Can Make",
         "4e11801e-7a64-4f1e-90dd-e900677595c5"
        ],
        [
         "mens-fashion",
         "Women's T-shirt. Design inspired by the rock band The Killers' hit \"Mr. Brightside\". One of the greatest song from the album Hot Fuss released in 2004. Soft and light, 100% cott… ",
         1,
         "27",
         "https://i.pinimg.com/originals/8c/42/39/8c42391d35fcad51a4a79f7cd81bf26d.jpg",
         7166,
         "image",
         "Mala Rock | Rock T-shirts",
         "Local save in /data/mens-fashion",
         "Mr Brightside,Rock T Shirts,Greatest Songs,Timeless Classic,Rock Bands,Album,T Shirts For Women,Inspired,Hot",
         "The Killers - Mr. Brightside - Women's T-Shirt - Heather Dark Grey / S",
         "4a844b03-e161-47a1-904b-591eb5dc4fb1"
        ],
        [
         "tattoos",
         "We have put together the Ultimative Sunflower Tattoo Collection in 2020. Check out our highest rated handpicked Sunflower designs here!",
         1,
         "800k",
         "https://i.pinimg.com/originals/18/de/6c/18de6c81a8637e224c7d63dce1414ceb.jpg",
         8930,
         "image",
         "Next Luxury",
         "Local save in /data/tattoos",
         "Sunflower Tattoo Sleeve,Sunflower Tattoo Shoulder,Sunflower Tattoo Small,Sunflower Tattoos,Sunflower Tattoo Design,Shoulder Tattoo,Sunflower Mandala Tattoo,Sunflower Tattoo Meaning,Form Tattoo",
         "135 Sunflower Tattoo Ideas - [Best Rated Designs in 2021]",
         "a2999c28-f7b2-4577-af87-49d21d6d8a18"
        ],
        [
         "travel",
         "On our Calgary to Vancouver road trip we got to spend time in Banff, Canada. We visited the stunning Lake Moraine as well as Lake Louise and plenty of other of Canada's natural… ",
         1,
         "7k",
         "https://i.pinimg.com/videos/thumbnails/originals/57/9d/52/579d52242ae5609978c754d393e44e81.0000001.jpg",
         9672,
         "video",
         "Travel Mad Mum",
         "Local save in /data/travel",
         "Beautiful Places To Travel,Cool Places To Visit,Beautiful Roads,Beautiful Scenery,Wonderful Places,Lac Moraine,Moraine Lake,Lac Louise,Natur Wallpaper",
         "Lake Moraine, Banff, Canada",
         "1a5050a4-ac82-472c-aeff-3457de8bbee9"
        ],
        [
         "travel",
         "On our Calgary to Vancouver road trip we got to spend time in Banff, Canada. We visited the stunning Lake Moraine as well as Lake Louise and plenty of other of Canada's natural… ",
         1,
         "7k",
         "https://i.pinimg.com/videos/thumbnails/originals/57/9d/52/579d52242ae5609978c754d393e44e81.0000001.jpg",
         9672,
         "video",
         "Travel Mad Mum",
         "Local save in /data/travel",
         "Beautiful Places To Travel,Cool Places To Visit,Beautiful Roads,Beautiful Scenery,Wonderful Places,Lac Moraine,Moraine Lake,Lac Louise,Natur Wallpaper",
         "Lake Moraine, Banff, Canada",
         "1a5050a4-ac82-472c-aeff-3457de8bbee9"
        ],
        [
         "mens-fashion",
         "Looking for the coolest fall fashion for men this season? Click to read this article on fall fashion for men to look sharp on LLEGANCE.",
         1,
         "28k",
         "https://i.pinimg.com/originals/4c/bf/2d/4cbf2d6e04d2502612169220553f4cef.jpg",
         7294,
         "image",
         "LLEGANCE | Workwear Fashion Woman Advice For Driven Professionals",
         "Local save in /data/mens-fashion",
         "Fashion 90s,Autumn Fashion,Fashion Ideas,Trendy Fashion,Fashion Photo,Fashion Outfits,Fashion Trends,Urban Fashion Men,Men's Casual Fashion",
         "Foolproof Fall Fashion For Men You'll Love",
         "9d8409ef-bea7-4133-a021-c58b9c042210"
        ],
        [
         "event-planning",
         "Do you love planning parties? Do you want to work-at-home? This post covers everything you need to know about becoming a home-based event planner!",
         1,
         "110k",
         "https://i.pinimg.com/originals/4d/a3/a4/4da3a4730418239f1b43ce81fb032c15.jpg",
         4913,
         "image",
         "The Work at Home Woman",
         "Local save in /data/event-planning",
         "Event Planning Tips,Event Planning Business,Party Planning,Business Ideas,Craft Business,Business Chic,Business Inspiration,Business Goals,Business Opportunities",
         "How to Work From Home as an Event Planner",
         "4d2d79c6-9ca8-46c9-a38e-931c5d967804"
        ],
        [
         "diy-and-crafts",
         "One thing I love about Crafts is how the evolve! These toilet paper rolls are adorable and modern. I love that something as simple as a recycled toilet paper roll can be taken t… ",
         1,
         "502k",
         "https://i.pinimg.com/originals/c6/cd/0d/c6cd0d04da9cfc11566cfd34eeb1f918.jpg",
         2959,
         "image",
         "CraftGossip.com",
         "Local save in /data/diy-and-crafts",
         "Toilet Paper Roll Crafts,Cardboard Crafts,Diy Paper,Paper Crafting,Toilet Paper Rolls,Cardboard Playhouse,Paper Art,Kids Crafts,Toddler Crafts",
         "The Cutest Toilet Paper Crafts",
         "439cac4b-18e8-4aaa-88c5-edb26a701111"
        ],
        [
         "diy-and-crafts",
         "One thing I love about Crafts is how the evolve! These toilet paper rolls are adorable and modern. I love that something as simple as a recycled toilet paper roll can be taken t… ",
         1,
         "502k",
         "https://i.pinimg.com/originals/c6/cd/0d/c6cd0d04da9cfc11566cfd34eeb1f918.jpg",
         2959,
         "image",
         "CraftGossip.com",
         "Local save in /data/diy-and-crafts",
         "Toilet Paper Roll Crafts,Cardboard Crafts,Diy Paper,Paper Crafting,Toilet Paper Rolls,Cardboard Playhouse,Paper Art,Kids Crafts,Toddler Crafts",
         "The Cutest Toilet Paper Crafts",
         "439cac4b-18e8-4aaa-88c5-edb26a701111"
        ],
        [
         "diy-and-crafts",
         "One thing I love about Crafts is how the evolve! These toilet paper rolls are adorable and modern. I love that something as simple as a recycled toilet paper roll can be taken t… ",
         1,
         "502k",
         "https://i.pinimg.com/originals/c6/cd/0d/c6cd0d04da9cfc11566cfd34eeb1f918.jpg",
         2959,
         "image",
         "CraftGossip.com",
         "Local save in /data/diy-and-crafts",
         "Toilet Paper Roll Crafts,Cardboard Crafts,Diy Paper,Paper Crafting,Toilet Paper Rolls,Cardboard Playhouse,Paper Art,Kids Crafts,Toddler Crafts",
         "The Cutest Toilet Paper Crafts",
         "439cac4b-18e8-4aaa-88c5-edb26a701111"
        ],
        [
         "travel",
         "35 European bucket list destinations for any traveler heading to Europe. From Cinque Terre, Italy to Iceland - there are so many amazing sites to see in Europe.",
         1,
         "28k",
         "https://i.pinimg.com/originals/71/04/1a/71041ad83ede43d9665741e719c58a86.jpg",
         9875,
         "image",
         "Nicki ",
         "Local save in /data/travel",
         "Backpacking Europe,Europe Travel Guide,Travel Guides,Travel Packing,Traveling Europe,Travelling,Travel Backpack,Budget Travel,2 Week Europe Itinerary",
         "European Bucket List: 35 Things NOT To Miss When Traveling Europe",
         "782dcbad-ff91-40a6-ba60-216efe29adb7"
        ],
        [
         "art",
         "Fashion designer Issac Mizrahi’s Greenwich Village home is an amalgamation of three apartments that was 20 years in the making",
         1,
         "3M",
         "https://i.pinimg.com/originals/f4/6c/54/f46c546a2e480022a42d842b7dca157e.jpg",
         428,
         "image",
         "Architectural Digest",
         "Local save in /data/art",
         "Modern Art,Contemporary Art,Contemporary Kitchens,Contemporary Bedroom,New York City Apartment,Manhattan Apartment,Art Moderne,Architectural Digest,Painting Inspiration",
         "Fashion Designer Isaac Mizrahi’s Updated 1930s New York City Apartment",
         "610b3f83-9fe0-469d-946c-d16b577fca71"
        ],
        [
         "travel",
         "35 European bucket list destinations for any traveler heading to Europe. From Cinque Terre, Italy to Iceland - there are so many amazing sites to see in Europe.",
         1,
         "28k",
         "https://i.pinimg.com/originals/71/04/1a/71041ad83ede43d9665741e719c58a86.jpg",
         9875,
         "image",
         "Nicki ",
         "Local save in /data/travel",
         "Backpacking Europe,Europe Travel Guide,Travel Guides,Travel Packing,Traveling Europe,Travelling,Travel Backpack,Budget Travel,2 Week Europe Itinerary",
         "European Bucket List: 35 Things NOT To Miss When Traveling Europe",
         "782dcbad-ff91-40a6-ba60-216efe29adb7"
        ],
        [
         "art",
         "Fashion designer Issac Mizrahi’s Greenwich Village home is an amalgamation of three apartments that was 20 years in the making",
         1,
         "3M",
         "https://i.pinimg.com/originals/f4/6c/54/f46c546a2e480022a42d842b7dca157e.jpg",
         428,
         "image",
         "Architectural Digest",
         "Local save in /data/art",
         "Modern Art,Contemporary Art,Contemporary Kitchens,Contemporary Bedroom,New York City Apartment,Manhattan Apartment,Art Moderne,Architectural Digest,Painting Inspiration",
         "Fashion Designer Isaac Mizrahi’s Updated 1930s New York City Apartment",
         "610b3f83-9fe0-469d-946c-d16b577fca71"
        ],
        [
         "travel",
         "35 European bucket list destinations for any traveler heading to Europe. From Cinque Terre, Italy to Iceland - there are so many amazing sites to see in Europe.",
         1,
         "28k",
         "https://i.pinimg.com/originals/71/04/1a/71041ad83ede43d9665741e719c58a86.jpg",
         9875,
         "image",
         "Nicki ",
         "Local save in /data/travel",
         "Backpacking Europe,Europe Travel Guide,Travel Guides,Travel Packing,Traveling Europe,Travelling,Travel Backpack,Budget Travel,2 Week Europe Itinerary",
         "European Bucket List: 35 Things NOT To Miss When Traveling Europe",
         "782dcbad-ff91-40a6-ba60-216efe29adb7"
        ],
        [
         "art",
         "Fashion designer Issac Mizrahi’s Greenwich Village home is an amalgamation of three apartments that was 20 years in the making",
         1,
         "3M",
         "https://i.pinimg.com/originals/f4/6c/54/f46c546a2e480022a42d842b7dca157e.jpg",
         428,
         "image",
         "Architectural Digest",
         "Local save in /data/art",
         "Modern Art,Contemporary Art,Contemporary Kitchens,Contemporary Bedroom,New York City Apartment,Manhattan Apartment,Art Moderne,Architectural Digest,Painting Inspiration",
         "Fashion Designer Isaac Mizrahi’s Updated 1930s New York City Apartment",
         "610b3f83-9fe0-469d-946c-d16b577fca71"
        ],
        [
         "diy-and-crafts",
         "HELPFUL RESOURCES – Check out my resin colorants resources page here with links to all the products mentioned in this article (and more). Let me know if you have any that you lo… ",
         1,
         "6k",
         "https://i.pinimg.com/originals/d4/12/78/d4127833023ca32600571ddca16f1556.jpg",
         3454,
         "image",
         "Mixed Media Crafts",
         "Local save in /data/diy-and-crafts",
         "Epoxy Resin Art,Diy Resin Art,Diy Resin Crafts,Resin Molds,Ice Resin,Resin Pour,Diy Epoxy,Diy Resin Painting,Diy Resin Dice",
         "What can you use to color resin?",
         "46bd3f86-b09d-4e29-9033-7ff2df595e51"
        ],
        [
         "diy-and-crafts",
         "HELPFUL RESOURCES – Check out my resin colorants resources page here with links to all the products mentioned in this article (and more). Let me know if you have any that you lo… ",
         1,
         "6k",
         "https://i.pinimg.com/originals/d4/12/78/d4127833023ca32600571ddca16f1556.jpg",
         3454,
         "image",
         "Mixed Media Crafts",
         "Local save in /data/diy-and-crafts",
         "Epoxy Resin Art,Diy Resin Art,Diy Resin Crafts,Resin Molds,Ice Resin,Resin Pour,Diy Epoxy,Diy Resin Painting,Diy Resin Dice",
         "What can you use to color resin?",
         "46bd3f86-b09d-4e29-9033-7ff2df595e51"
        ],
        [
         "diy-and-crafts",
         "HELPFUL RESOURCES – Check out my resin colorants resources page here with links to all the products mentioned in this article (and more). Let me know if you have any that you lo… ",
         1,
         "6k",
         "https://i.pinimg.com/originals/d4/12/78/d4127833023ca32600571ddca16f1556.jpg",
         3454,
         "image",
         "Mixed Media Crafts",
         "Local save in /data/diy-and-crafts",
         "Epoxy Resin Art,Diy Resin Art,Diy Resin Crafts,Resin Molds,Ice Resin,Resin Pour,Diy Epoxy,Diy Resin Painting,Diy Resin Dice",
         "What can you use to color resin?",
         "46bd3f86-b09d-4e29-9033-7ff2df595e51"
        ],
        [
         "finance",
         "Description Coupon Organizer in a fun colorful fabric -island oasis, Great Size for the \"basic\" couponer - holds up to 500 coupons with ease, and is made long enough so that you… ",
         1,
         "0",
         "https://i.pinimg.com/originals/65/bb/ea/65bbeaf458907bb079317d8303c4fa0e.jpg",
         5730,
         "image",
         "Consuelo Aguirre",
         "Local save in /data/finance",
         "Grocery Items,Grocery Coupons,Care Organization,Coupon Organization,Extreme Couponing,Couponing 101,Life Binder,Save My Money,Love Coupons",
         "Island Oasis Coupon Organizer",
         "1e1f0c8b-9fcf-460b-9154-c775827206eb"
        ],
        [
         "finance",
         "Description Coupon Organizer in a fun colorful fabric -island oasis, Great Size for the \"basic\" couponer - holds up to 500 coupons with ease, and is made long enough so that you… ",
         1,
         "0",
         "https://i.pinimg.com/originals/65/bb/ea/65bbeaf458907bb079317d8303c4fa0e.jpg",
         5730,
         "image",
         "Consuelo Aguirre",
         "Local save in /data/finance",
         "Grocery Items,Grocery Coupons,Care Organization,Coupon Organization,Extreme Couponing,Couponing 101,Life Binder,Save My Money,Love Coupons",
         "Island Oasis Coupon Organizer",
         "1e1f0c8b-9fcf-460b-9154-c775827206eb"
        ],
        [
         "art",
         "10 art sub lessons that only need a pencil. Cover lessons for art teachers. Make the perfect art sub lessson folder with this amazing resources.",
         1,
         "25k",
         "https://i.pinimg.com/originals/ee/a8/78/eea878911033897d981a69d9f6b2fb7c.png",
         719,
         "image",
         "The Arty Teacher",
         "Local save in /data/art",
         "Art Lessons For Kids,Art Lessons Elementary,Art For Kids,Art Sub Plans,Art Lesson Plans,Art Substitute Plans,High School Art,Middle School Art,Primary School Art",
         "10 Art Sub Lessons that only need a Pencil",
         "d7c53e34-9540-4f48-a31b-89b6ed1852bb"
        ],
        [
         "christmas",
         "20 Christmas Decorating Ideas We Bet You Haven't Thought Of via @PureWow",
         1,
         "868k",
         "https://i.pinimg.com/originals/e9/b9/f0/e9b9f01cc3b2cf41948b45854335396c.jpg",
         2074,
         "image",
         "PureWow",
         "Local save in /data/christmas",
         "Holiday Centerpieces,Xmas Decorations,Centerpiece Ideas,Table Centerpieces,Valentine Decorations,Wedding Centerpieces,Outdoor Decorations,Christmas Centerpieces With Candles,Christmas Dining Table Decorations",
         "35 Christmas Decorating Ideas We Bet You Haven't Thought Of",
         "86ed09a7-842d-496d-9501-010c654eb340"
        ],
        [
         "christmas",
         "20 Christmas Decorating Ideas We Bet You Haven't Thought Of via @PureWow",
         1,
         "868k",
         "https://i.pinimg.com/originals/e9/b9/f0/e9b9f01cc3b2cf41948b45854335396c.jpg",
         2074,
         "image",
         "PureWow",
         "Local save in /data/christmas",
         "Holiday Centerpieces,Xmas Decorations,Centerpiece Ideas,Table Centerpieces,Valentine Decorations,Wedding Centerpieces,Outdoor Decorations,Christmas Centerpieces With Candles,Christmas Dining Table Decorations",
         "35 Christmas Decorating Ideas We Bet You Haven't Thought Of",
         "86ed09a7-842d-496d-9501-010c654eb340"
        ],
        [
         "art",
         "Free quick inspirational video on creating a mixed media face with acrylic, collage, stenciling and simple techniques. Come on over to watch",
         1,
         "27k",
         "https://i.pinimg.com/videos/thumbnails/originals/05/86/a4/0586a4116e1fc34efc25e064ccd123e8.0000001.jpg",
         831,
         "video",
         "Shawn Petite",
         "Local save in /data/art",
         "Collage Kunst,Paper Collage Art,Collage Art Mixed Media,Mixed Media Painting,Mixed Media Canvas,Canvas Collage,Art Collages,Wall Canvas,Canvas Art",
         "creating mixed-media faces tutorial",
         "5e65914d-9f58-4ff1-9676-658e426e8ce5"
        ],
        [
         "art",
         "Use our easy step by step tutorial to create a DIY abstract heart painting on any canvas size. Lots of inspiration to help you choose colors.",
         1,
         "410k",
         "https://i.pinimg.com/originals/33/85/f8/3385f82ee5e8ecdcccdf798bdcbee3d2.jpg",
         205,
         "image",
         "The Creativity Exchange",
         "Local save in /data/art",
         "Painting & Drawing,Watercolor Paintings,Original Paintings,Owl Watercolor,Acrylic Paintings,Owl Art,Bird Art,Beginner Painting,Animal Paintings",
         "DIY Abstract Heart Painting and a Fun Paint Party",
         "f4afd543-b9fe-44c3-8064-f2198faa1372"
        ],
        [
         "finance",
         "Don't fight about budgets and money with your spouse! Here are a few tips that we've found that make it work in our marriage!",
         1,
         "313",
         "https://i.pinimg.com/originals/37/d5/82/37d58296bcef3471a633c76b89d8625e.jpg",
         5468,
         "image",
         "Annamarie Hilton",
         "Local save in /data/finance",
         "Ways To Save Money,Money Tips,Money Saving Tips,How To Make Money,Managing Money,Saving Time,College Fund,Scholarships For College,Education College",
         "Budgets, Spouses & Making It Work! - Tshanina Peterson",
         "91ee49f6-0070-4270-ba19-fde88ba51c91"
        ],
        [
         "quotes",
         "Are you looking for some heart touching sad quotes and sayings; Here we have collected for you 50 best heart touching sad quotes..",
         1,
         "112",
         "https://i.pinimg.com/originals/0c/0f/40/0c0f408d96458080e0c82adb50be8e8f.jpg",
         7790,
         "image",
         "AnnaLee Kick",
         "Local save in /data/quotes",
         "Crush Quotes For Girls,Sad Crush Quotes,Hurt Quotes,Love Me Quotes,Mood Quotes,Quotes To Live By,Life Quotes,Quotes Quotes,Sad Quotes That Make You Cry",
         "50 Heart Touching Sad Quotes That Will Make You Cry",
         "9cd89fb9-d1af-4e66-85ca-c9d656c918b4"
        ],
        [
         "vehicles",
         "There are a lot of options of places to stay so you probably only have to book the initial one so you know the best place to land from the airport",
         1,
         "171k",
         "https://i.pinimg.com/originals/e9/01/4d/e9014d537dd2b81c606e8466cef3904c.jpg",
         10663,
         "image",
         "vintagetopia",
         "Local save in /data/vehicles",
         "Old Classic Cars,Classic Trucks,Old Vintage Cars,Antique Cars,Vintage Trucks,Antique Trucks,Cadillac,Convertible,Mustang",
         "21+ Classic Car Picture of the 1950s - Vintagetopia",
         "d5208c16-82ae-4fd1-87f0-36e5ef789412"
        ],
        [
         "diy-and-crafts",
         "Keep the kids busy this summer with these easy diy crafts and projects. Creative and…",
         1,
         "124k",
         "https://i.pinimg.com/originals/b3/bc/e2/b3bce2964e8c8975387b39660eed5f16.jpg",
         2863,
         "image",
         "Of Life & Lisa | Lifestyle Blog",
         "Local save in /data/diy-and-crafts",
         "Summer Crafts For Kids,Fun Crafts For Kids,Summer Kids,Toddler Crafts,Crafts To Do,Diy For Kids,Summer Snow,Diys For Summer,Craft Ideas For Girls",
         "25 Super Fun Summer Crafts for Kids - Of Life and Lisa",
         "9bf39437-42a6-4f02-99a0-9a0383d8cd70"
        ],
        [
         "diy-and-crafts",
         "Keep the kids busy this summer with these easy diy crafts and projects. Creative and…",
         1,
         "124k",
         "https://i.pinimg.com/originals/b3/bc/e2/b3bce2964e8c8975387b39660eed5f16.jpg",
         2863,
         "image",
         "Of Life & Lisa | Lifestyle Blog",
         "Local save in /data/diy-and-crafts",
         "Summer Crafts For Kids,Fun Crafts For Kids,Summer Kids,Toddler Crafts,Crafts To Do,Diy For Kids,Summer Snow,Diys For Summer,Craft Ideas For Girls",
         "25 Super Fun Summer Crafts for Kids - Of Life and Lisa",
         "9bf39437-42a6-4f02-99a0-9a0383d8cd70"
        ],
        [
         "tattoos",
         "We welcome you to our latest collection of Beautiful Tattoo Ideas For Women. Check out and get inspired by the most beautiful design for yourself.",
         1,
         "21k",
         "https://i.pinimg.com/originals/fa/cf/7c/facf7cd752a4bc7c09faaa8925ab80b1.jpg",
         8653,
         "image",
         "ALL FOR WOMAN",
         "Local save in /data/tattoos",
         "Small Back Tattoos,Small Girl Tattoos,Little Tattoos,Tattoo Girls,Mini Tattoos,Tattoo Small,Back Tattoo Women,Tattoo On Back,Girl Back Tattoos",
         "Unique Women Tattoos Ideas 2020",
         "24b1343c-4d86-4705-8ec9-7f1f2df2d77e"
        ],
        [
         "diy-and-crafts",
         "Keep the kids busy this summer with these easy diy crafts and projects. Creative and…",
         1,
         "124k",
         "https://i.pinimg.com/originals/b3/bc/e2/b3bce2964e8c8975387b39660eed5f16.jpg",
         2863,
         "image",
         "Of Life & Lisa | Lifestyle Blog",
         "Local save in /data/diy-and-crafts",
         "Summer Crafts For Kids,Fun Crafts For Kids,Summer Kids,Toddler Crafts,Crafts To Do,Diy For Kids,Summer Snow,Diys For Summer,Craft Ideas For Girls",
         "25 Super Fun Summer Crafts for Kids - Of Life and Lisa",
         "9bf39437-42a6-4f02-99a0-9a0383d8cd70"
        ],
        [
         "tattoos",
         "We welcome you to our latest collection of Beautiful Tattoo Ideas For Women. Check out and get inspired by the most beautiful design for yourself.",
         1,
         "21k",
         "https://i.pinimg.com/originals/fa/cf/7c/facf7cd752a4bc7c09faaa8925ab80b1.jpg",
         8653,
         "image",
         "ALL FOR WOMAN",
         "Local save in /data/tattoos",
         "Small Back Tattoos,Small Girl Tattoos,Little Tattoos,Tattoo Girls,Mini Tattoos,Tattoo Small,Back Tattoo Women,Tattoo On Back,Girl Back Tattoos",
         "Unique Women Tattoos Ideas 2020",
         "24b1343c-4d86-4705-8ec9-7f1f2df2d77e"
        ],
        [
         "diy-and-crafts",
         "A fun space activity for kids. Preshoolers and kindergartners will love making their own alien spacecraft!",
         1,
         "192k",
         "https://i.pinimg.com/originals/6f/e8/aa/6fe8aa405513c6d2f77b5f47d17cdce8.jpg",
         2923,
         "image",
         "The Crafting Chicks",
         "Local save in /data/diy-and-crafts",
         "Paper Plate Crafts For Kids,Fun Crafts For Kids,Summer Crafts,Toddler Crafts,Art For Kids,Outer Space Crafts For Kids,Kid Crafts,Space Kids,Back To School Crafts For Kids",
         "UFO Paper Plate Craft",
         "52fa3af5-24a4-4ccb-8f17-9c3eb12327ee"
        ],
        [
         "diy-and-crafts",
         "A fun space activity for kids. Preshoolers and kindergartners will love making their own alien spacecraft!",
         1,
         "192k",
         "https://i.pinimg.com/originals/6f/e8/aa/6fe8aa405513c6d2f77b5f47d17cdce8.jpg",
         2923,
         "image",
         "The Crafting Chicks",
         "Local save in /data/diy-and-crafts",
         "Paper Plate Crafts For Kids,Fun Crafts For Kids,Summer Crafts,Toddler Crafts,Art For Kids,Outer Space Crafts For Kids,Kid Crafts,Space Kids,Back To School Crafts For Kids",
         "UFO Paper Plate Craft",
         "52fa3af5-24a4-4ccb-8f17-9c3eb12327ee"
        ],
        [
         "diy-and-crafts",
         "A fun space activity for kids. Preshoolers and kindergartners will love making their own alien spacecraft!",
         1,
         "192k",
         "https://i.pinimg.com/originals/6f/e8/aa/6fe8aa405513c6d2f77b5f47d17cdce8.jpg",
         2923,
         "image",
         "The Crafting Chicks",
         "Local save in /data/diy-and-crafts",
         "Paper Plate Crafts For Kids,Fun Crafts For Kids,Summer Crafts,Toddler Crafts,Art For Kids,Outer Space Crafts For Kids,Kid Crafts,Space Kids,Back To School Crafts For Kids",
         "UFO Paper Plate Craft",
         "52fa3af5-24a4-4ccb-8f17-9c3eb12327ee"
        ],
        [
         "travel",
         "The best trips to take when you are young!",
         1,
         "89k",
         "https://i.pinimg.com/videos/thumbnails/originals/81/97/c1/8197c1beef8bcb19bea5d8b422211f34.0000001.jpg",
         9546,
         "video",
         "The World Pursuit Travel Website",
         "Local save in /data/travel",
         "Fun Places To Go,Beautiful Places To Travel,Best Places To Travel,Travel Jobs,Holiday Places,Future Travel,Travel Around The World,Adventure Travel,Travel Photos",
         "20 Amazing Trips to Take in Your Twenties!",
         "efd5b2d6-2f69-40cd-bb59-41f18c089e52"
        ],
        [
         "tattoos",
         "Koi fish tattoos are a popular choice for men who want to make a statement, thanks to their rich symbolism and bold design.",
         1,
         "211k",
         "https://i.pinimg.com/originals/8a/0c/0a/8a0c0a7b6236565c519acd41ad1a52c0.jpg",
         8731,
         "image",
         "TheTrendSpotter",
         "Local save in /data/tattoos",
         "Dr Tattoo,Wörter Tattoos,Pisces Tattoos,Tatoo Art,Dream Tattoos,Dope Tattoos,Mini Tattoos,Finger Tattoos,Body Art Tattoos",
         "20 Koi Fish Tattoos For Lucky Men",
         "ea760f71-febf-4023-b592-d17396659039"
        ],
        [
         "tattoos",
         "Koi fish tattoos are a popular choice for men who want to make a statement, thanks to their rich symbolism and bold design.",
         1,
         "211k",
         "https://i.pinimg.com/originals/8a/0c/0a/8a0c0a7b6236565c519acd41ad1a52c0.jpg",
         8731,
         "image",
         "TheTrendSpotter",
         "Local save in /data/tattoos",
         "Dr Tattoo,Wörter Tattoos,Pisces Tattoos,Tatoo Art,Dream Tattoos,Dope Tattoos,Mini Tattoos,Finger Tattoos,Body Art Tattoos",
         "20 Koi Fish Tattoos For Lucky Men",
         "ea760f71-febf-4023-b592-d17396659039"
        ],
        [
         "quotes",
         "#lovequotes #matchmaker #matchmadeinheaven #loveyourself #respectyourself",
         1,
         "51k",
         "https://i.pinimg.com/originals/c6/64/ee/c664ee71524fb5a6e7b7b49233f93b43.png",
         8304,
         "image",
         "Commitment Connection",
         "Local save in /data/quotes",
         "Wise Quotes,Quotable Quotes,Words Quotes,Wise Words,Quotes To Live By,Great Quotes,Motivational Quotes,Inspirational Quotes,Funny Quotes",
         "The #1 Reason You’re Not His Priority Anymore - Matthew Coast",
         "5b6d0913-25e4-43ab-839d-85d5516f78a4"
        ],
        [
         "quotes",
         "#lovequotes #matchmaker #matchmadeinheaven #loveyourself #respectyourself",
         1,
         "51k",
         "https://i.pinimg.com/originals/c6/64/ee/c664ee71524fb5a6e7b7b49233f93b43.png",
         8304,
         "image",
         "Commitment Connection",
         "Local save in /data/quotes",
         "Wise Quotes,Quotable Quotes,Words Quotes,Wise Words,Quotes To Live By,Great Quotes,Motivational Quotes,Inspirational Quotes,Funny Quotes",
         "The #1 Reason You’re Not His Priority Anymore - Matthew Coast",
         "5b6d0913-25e4-43ab-839d-85d5516f78a4"
        ],
        [
         "mens-fashion",
         "imgentleboss: “ - More about men’s fashion at @Gentleboss - GB’s Facebook - ”",
         1,
         "940",
         "https://i.pinimg.com/originals/e7/6e/8e/e76e8ed6cc838b84a934c6948a5caff7.jpg",
         7554,
         "image",
         "iElylike ..✿◕‿◕✿ஐ✿◕‿◕✿",
         "Local save in /data/mens-fashion",
         "Mens Fashion Blog,Look Fashion,Autumn Fashion,Fashion News,Fashion Sale,80s Fashion,Paris Fashion,Runway Fashion,Fashion Trends",
         "Craig Style",
         "c6fa12f4-0d4a-4b07-a335-5bf9f37f8281"
        ],
        [
         "mens-fashion",
         "imgentleboss: “ - More about men’s fashion at @Gentleboss - GB’s Facebook - ”",
         1,
         "940",
         "https://i.pinimg.com/originals/e7/6e/8e/e76e8ed6cc838b84a934c6948a5caff7.jpg",
         7554,
         "image",
         "iElylike ..✿◕‿◕✿ஐ✿◕‿◕✿",
         "Local save in /data/mens-fashion",
         "Mens Fashion Blog,Look Fashion,Autumn Fashion,Fashion News,Fashion Sale,80s Fashion,Paris Fashion,Runway Fashion,Fashion Trends",
         "Craig Style",
         "c6fa12f4-0d4a-4b07-a335-5bf9f37f8281"
        ],
        [
         "mens-fashion",
         "imgentleboss: “ - More about men’s fashion at @Gentleboss - GB’s Facebook - ”",
         1,
         "940",
         "https://i.pinimg.com/originals/e7/6e/8e/e76e8ed6cc838b84a934c6948a5caff7.jpg",
         7554,
         "image",
         "iElylike ..✿◕‿◕✿ஐ✿◕‿◕✿",
         "Local save in /data/mens-fashion",
         "Mens Fashion Blog,Look Fashion,Autumn Fashion,Fashion News,Fashion Sale,80s Fashion,Paris Fashion,Runway Fashion,Fashion Trends",
         "Craig Style",
         "c6fa12f4-0d4a-4b07-a335-5bf9f37f8281"
        ],
        [
         "tattoos",
         "Tattoos are one of the most efficient ways through which one decides to express themselves…",
         1,
         "4k",
         "https://i.pinimg.com/originals/ab/8e/50/ab8e505b04d4abc8f23e273c15f8a65d.jpg",
         8887,
         "image",
         "RapidLeaks",
         "Local save in /data/tattoos",
         "Dream Tattoos,Body Art Tattoos,New Tattoos,Small Tattoos,Cross Tattoos,Random Tattoos,Fashion Tattoos,Bird Tattoos,Fitness Tattoos",
         "25 Ultra Sexy Back Tattoo Ideas For Girls",
         "5df9f6e5-07f5-4ce8-a82e-96586bbc05d8"
        ],
        [
         "tattoos",
         "Tattoos are one of the most efficient ways through which one decides to express themselves…",
         1,
         "4k",
         "https://i.pinimg.com/originals/ab/8e/50/ab8e505b04d4abc8f23e273c15f8a65d.jpg",
         8887,
         "image",
         "RapidLeaks",
         "Local save in /data/tattoos",
         "Dream Tattoos,Body Art Tattoos,New Tattoos,Small Tattoos,Cross Tattoos,Random Tattoos,Fashion Tattoos,Bird Tattoos,Fitness Tattoos",
         "25 Ultra Sexy Back Tattoo Ideas For Girls",
         "5df9f6e5-07f5-4ce8-a82e-96586bbc05d8"
        ],
        [
         "beauty",
         "Instantly create the look of lash extensions with this award-winning, best-selling mascara that won't clump, flake or smudge. Available in 3 shades!",
         1,
         "43k",
         "https://i.pinimg.com/videos/thumbnails/originals/69/84/e2/6984e20f3e262098fa9c0614c3453254.0000001.jpg",
         1313,
         "video",
         "Thrive Causemetics",
         "Local save in /data/beauty",
         "N,o, ,T,a,g,s, ,A,v,a,i,l,a,b,l,e",
         "Liquid Lash Extensions Mascara",
         "44662045-e891-4821-8a19-ebe7eedd371a"
        ],
        [
         "beauty",
         "Instantly create the look of lash extensions with this award-winning, best-selling mascara that won't clump, flake or smudge. Available in 3 shades!",
         1,
         "43k",
         "https://i.pinimg.com/videos/thumbnails/originals/69/84/e2/6984e20f3e262098fa9c0614c3453254.0000001.jpg",
         1313,
         "video",
         "Thrive Causemetics",
         "Local save in /data/beauty",
         "N,o, ,T,a,g,s, ,A,v,a,i,l,a,b,l,e",
         "Liquid Lash Extensions Mascara",
         "44662045-e891-4821-8a19-ebe7eedd371a"
        ],
        [
         "vehicles",
         "1937 Jaguar SS100 - 2 1/2 Litre Roadster, one of the most sought after pre-war sports cars",
         1,
         "8k",
         "https://i.pinimg.com/originals/26/81/a7/2681a71bd0c8f7fd0ab79c455338a49a.jpg",
         10625,
         "image",
         "hobbyDB",
         "Local save in /data/vehicles",
         "Jaguar Type E,Jaguar Xk,Jaguar Cars,Jaguar Roadster,Jaguar Sport,Retro Cars,Vintage Cars,Antique Cars,British Sports Cars",
         "Jaguar Type E",
         "d31885b7-742a-4e2a-bbb7-ac5f9d334340"
        ],
        [
         "vehicles",
         "1937 Jaguar SS100 - 2 1/2 Litre Roadster, one of the most sought after pre-war sports cars",
         1,
         "8k",
         "https://i.pinimg.com/originals/26/81/a7/2681a71bd0c8f7fd0ab79c455338a49a.jpg",
         10625,
         "image",
         "hobbyDB",
         "Local save in /data/vehicles",
         "Jaguar Type E,Jaguar Xk,Jaguar Cars,Jaguar Roadster,Jaguar Sport,Retro Cars,Vintage Cars,Antique Cars,British Sports Cars",
         "Jaguar Type E",
         "d31885b7-742a-4e2a-bbb7-ac5f9d334340"
        ],
        [
         "vehicles",
         "1937 Jaguar SS100 - 2 1/2 Litre Roadster, one of the most sought after pre-war sports cars",
         1,
         "8k",
         "https://i.pinimg.com/originals/26/81/a7/2681a71bd0c8f7fd0ab79c455338a49a.jpg",
         10625,
         "image",
         "hobbyDB",
         "Local save in /data/vehicles",
         "Jaguar Type E,Jaguar Xk,Jaguar Cars,Jaguar Roadster,Jaguar Sport,Retro Cars,Vintage Cars,Antique Cars,British Sports Cars",
         "Jaguar Type E",
         "d31885b7-742a-4e2a-bbb7-ac5f9d334340"
        ],
        [
         "travel",
         "Best spots to see for travel through Ireland!",
         1,
         "130k",
         "https://i.pinimg.com/originals/c7/50/d3/c750d36524856873d64406652d69b4fb.png",
         9590,
         "image",
         "Fun Life Crisis",
         "Local save in /data/travel",
         "Vacation Ideas,Vacation Spots,Emerald Isle,London England,Travel Guides,Travel Tips,Travel Hacks,Travel Packing,Places To Travel",
         "Top 20 Things To See And Do In Ireland",
         "b849e976-52f6-45d7-8b25-51559318f167"
        ],
        [
         "beauty",
         "Untitled",
         1,
         "0",
         "https://i.pinimg.com/originals/af/c4/59/afc459bd6e1fd8f9aef212504afebf3a.jpg",
         1014,
         "image",
         "Grecia Perales",
         "Local save in /data/beauty",
         "Hair Inspo,Hair Inspiration,Motivation Inspiration,Cl Rapper,Foto Glamour,Kreative Portraits,Classy Aesthetic,Pretty Hairstyles,Hair Looks",
         "Hairstyles & Beauty",
         "9ac94307-bb27-410e-b554-0a0ab6c19847"
        ],
        [
         "vehicles",
         "Nissan GT-R. Sick.",
         1,
         "437",
         "https://i.pinimg.com/originals/0d/29/9f/0d299f3df020395aa7ce8387f40fbeed.jpg",
         10794,
         "image",
         "Ray Uyemura",
         "Local save in /data/vehicles",
         "Lowrider,Old Vintage Cars,Antique Cars,Austin Martin,Nissan Gtr Black,Jaguar,1959 Cadillac,Cadillac Ct6,Old School Cars",
         "TireBuyer",
         "c4bd2577-a7bb-4409-bb7a-17d5ed7e1cf1"
        ],
        [
         "vehicles",
         "Nissan GT-R. Sick.",
         1,
         "437",
         "https://i.pinimg.com/originals/0d/29/9f/0d299f3df020395aa7ce8387f40fbeed.jpg",
         10794,
         "image",
         "Ray Uyemura",
         "Local save in /data/vehicles",
         "Lowrider,Old Vintage Cars,Antique Cars,Austin Martin,Nissan Gtr Black,Jaguar,1959 Cadillac,Cadillac Ct6,Old School Cars",
         "TireBuyer",
         "c4bd2577-a7bb-4409-bb7a-17d5ed7e1cf1"
        ],
        [
         "vehicles",
         "Nissan GT-R. Sick.",
         1,
         "437",
         "https://i.pinimg.com/originals/0d/29/9f/0d299f3df020395aa7ce8387f40fbeed.jpg",
         10794,
         "image",
         "Ray Uyemura",
         "Local save in /data/vehicles",
         "Lowrider,Old Vintage Cars,Antique Cars,Austin Martin,Nissan Gtr Black,Jaguar,1959 Cadillac,Cadillac Ct6,Old School Cars",
         "TireBuyer",
         "c4bd2577-a7bb-4409-bb7a-17d5ed7e1cf1"
        ],
        [
         "diy-and-crafts",
         "No description available Story format",
         0,
         "User Info Error",
         "Image src error.",
         3089,
         "multi-video(story page format)",
         "User Info Error",
         "Local save in /data/diy-and-crafts",
         "N,o, ,T,a,g,s, ,A,v,a,i,l,a,b,l,e",
         "No Title Data Available",
         "88f9227e-88d0-4b1c-b0be-bcfc3028b8e2"
        ],
        [
         "diy-and-crafts",
         "No description available Story format",
         0,
         "User Info Error",
         "Image src error.",
         3089,
         "multi-video(story page format)",
         "User Info Error",
         "Local save in /data/diy-and-crafts",
         "N,o, ,T,a,g,s, ,A,v,a,i,l,a,b,l,e",
         "No Title Data Available",
         "88f9227e-88d0-4b1c-b0be-bcfc3028b8e2"
        ],
        [
         "diy-and-crafts",
         "No description available Story format",
         0,
         "User Info Error",
         "Image src error.",
         3089,
         "multi-video(story page format)",
         "User Info Error",
         "Local save in /data/diy-and-crafts",
         "N,o, ,T,a,g,s, ,A,v,a,i,l,a,b,l,e",
         "No Title Data Available",
         "88f9227e-88d0-4b1c-b0be-bcfc3028b8e2"
        ],
        [
         "mens-fashion",
         "No description available Story format",
         0,
         "User Info Error",
         "Image src error.",
         7528,
         "multi-video(story page format)",
         "User Info Error",
         "Local save in /data/mens-fashion",
         "N,o, ,T,a,g,s, ,A,v,a,i,l,a,b,l,e",
         "No Title Data Available",
         "fbe53c66-3442-4773-b19e-d3ec6f54dddf"
        ],
        [
         "mens-fashion",
         "No description available Story format",
         0,
         "User Info Error",
         "Image src error.",
         7528,
         "multi-video(story page format)",
         "User Info Error",
         "Local save in /data/mens-fashion",
         "N,o, ,T,a,g,s, ,A,v,a,i,l,a,b,l,e",
         "No Title Data Available",
         "fbe53c66-3442-4773-b19e-d3ec6f54dddf"
        ],
        [
         "mens-fashion",
         "No description available Story format",
         0,
         "User Info Error",
         "Image src error.",
         7528,
         "multi-video(story page format)",
         "User Info Error",
         "Local save in /data/mens-fashion",
         "N,o, ,T,a,g,s, ,A,v,a,i,l,a,b,l,e",
         "No Title Data Available",
         "fbe53c66-3442-4773-b19e-d3ec6f54dddf"
        ],
        [
         "mens-fashion",
         "No description available Story format",
         0,
         "User Info Error",
         "Image src error.",
         7528,
         "multi-video(story page format)",
         "User Info Error",
         "Local save in /data/mens-fashion",
         "N,o, ,T,a,g,s, ,A,v,a,i,l,a,b,l,e",
         "No Title Data Available",
         "fbe53c66-3442-4773-b19e-d3ec6f54dddf"
        ]
       ],
       "datasetInfos": [],
       "dbfsResultPath": null,
       "isJsonSchema": true,
       "metadata": {},
       "overflow": false,
       "plotOptions": {
        "customPlotOptions": {},
        "displayType": "table",
        "pivotAggregation": null,
        "pivotColumns": null,
        "xColumns": null,
        "yColumns": null
       },
       "removedWidgets": [],
       "schema": [
        {
         "metadata": "{}",
         "name": "category",
         "type": "\"string\""
        },
        {
         "metadata": "{}",
         "name": "description",
         "type": "\"string\""
        },
        {
         "metadata": "{}",
         "name": "downloaded",
         "type": "\"long\""
        },
        {
         "metadata": "{}",
         "name": "follower_count",
         "type": "\"string\""
        },
        {
         "metadata": "{}",
         "name": "image_src",
         "type": "\"string\""
        },
        {
         "metadata": "{}",
         "name": "index",
         "type": "\"long\""
        },
        {
         "metadata": "{}",
         "name": "is_image_or_video",
         "type": "\"string\""
        },
        {
         "metadata": "{}",
         "name": "poster_name",
         "type": "\"string\""
        },
        {
         "metadata": "{}",
         "name": "save_location",
         "type": "\"string\""
        },
        {
         "metadata": "{}",
         "name": "tag_list",
         "type": "\"string\""
        },
        {
         "metadata": "{}",
         "name": "title",
         "type": "\"string\""
        },
        {
         "metadata": "{}",
         "name": "unique_id",
         "type": "\"string\""
        }
       ],
       "type": "table"
      }
     },
     "output_type": "display_data"
    }
   ],
   "source": [
    "# File location and type\n",
    "# Asterisk(*) indicates reading all the content of the specified file that have .json extension\n",
    "file_location = \"/mnt/0e06e68acedb_s3_bucket/topics/0e06e68acedb.pin/partition=0/*.json\" \n",
    "file_type = \"json\"\n",
    "# Ask Spark to infer the schema\n",
    "infer_schema = \"true\"\n",
    "# Read in JSONs from mounted S3 bucket\n",
    "df_pin = spark.read.format(file_type) \\\n",
    ".option(\"inferSchema\", infer_schema) \\\n",
    ".load(file_location)\n",
    "# Display Spark dataframe to check its content\n",
    "display(df_pin)"
   ]
  },
  {
   "cell_type": "code",
   "execution_count": null,
   "metadata": {
    "application/vnd.databricks.v1+cell": {
     "cellMetadata": {
      "byteLimit": 2048000,
      "rowLimit": 10000
     },
     "inputWidgets": {},
     "nuid": "b75afa4f-c43b-4426-9f6f-c68076c051e1",
     "showTitle": false,
     "title": ""
    }
   },
   "outputs": [
    {
     "data": {
      "text/html": [
       "<style scoped>\n",
       "  .table-result-container {\n",
       "    max-height: 300px;\n",
       "    overflow: auto;\n",
       "  }\n",
       "  table, th, td {\n",
       "    border: 1px solid black;\n",
       "    border-collapse: collapse;\n",
       "  }\n",
       "  th, td {\n",
       "    padding: 5px;\n",
       "  }\n",
       "  th {\n",
       "    text-align: left;\n",
       "  }\n",
       "</style><div class='table-result-container'><table class='table-result'><thead style='background-color: white'><tr><th>country</th><th>ind</th><th>latitude</th><th>longitude</th><th>timestamp</th></tr></thead><tbody><tr><td>Antarctica (the territory South of 60 deg S)</td><td>2418</td><td>-88.4642</td><td>-171.061</td><td>2022-05-27 11:30:59</td></tr><tr><td>Antarctica (the territory South of 60 deg S)</td><td>2418</td><td>-88.4642</td><td>-171.061</td><td>2022-05-27 11:30:59</td></tr><tr><td>Antarctica (the territory South of 60 deg S)</td><td>2418</td><td>-88.4642</td><td>-171.061</td><td>2022-05-27 11:30:59</td></tr><tr><td>Cocos (Keeling) Islands</td><td>10794</td><td>-89.5236</td><td>-154.567</td><td>2022-01-01 02:26:50</td></tr><tr><td>Cocos (Keeling) Islands</td><td>10794</td><td>-89.5236</td><td>-154.567</td><td>2022-01-01 02:26:50</td></tr><tr><td>Cocos (Keeling) Islands</td><td>10794</td><td>-89.5236</td><td>-154.567</td><td>2022-01-01 02:26:50</td></tr><tr><td>Central African Republic</td><td>2074</td><td>-52.3213</td><td>-50.11</td><td>2019-11-03 05:41:59</td></tr><tr><td>Central African Republic</td><td>2074</td><td>-52.3213</td><td>-50.11</td><td>2019-11-03 05:41:59</td></tr><tr><td>Saint Kitts and Nevis</td><td>10663</td><td>-27.3474</td><td>-162.83</td><td>2019-07-25 18:53:51</td></tr><tr><td>Antigua and Barbuda</td><td>7922</td><td>-88.0974</td><td>-172.052</td><td>2021-01-27 09:14:19</td></tr><tr><td>Antigua and Barbuda</td><td>8606</td><td>-88.0974</td><td>-172.052</td><td>2021-03-28 14:54:07</td></tr><tr><td>Dominican Republic</td><td>9979</td><td>14.9967</td><td>-120.682</td><td>2018-07-18 19:01:46</td></tr><tr><td>Dominican Republic</td><td>9979</td><td>14.9967</td><td>-120.682</td><td>2018-07-18 19:01:46</td></tr><tr><td>Christmas Island</td><td>1704</td><td>-56.8702</td><td>-93.6232</td><td>2018-11-29 04:46:39</td></tr><tr><td>Papua New Guinea</td><td>7790</td><td>-43.692</td><td>64.9839</td><td>2018-07-31 08:19:15</td></tr><tr><td>American Samoa</td><td>9759</td><td>-77.9744</td><td>-106.258</td><td>2017-12-30 13:05:49</td></tr><tr><td>Cote d'Ivoire</td><td>2923</td><td>-84.6302</td><td>-164.507</td><td>2019-09-08 22:53:09</td></tr><tr><td>Cote d'Ivoire</td><td>2923</td><td>-84.6302</td><td>-164.507</td><td>2019-09-08 22:53:09</td></tr><tr><td>Cote d'Ivoire</td><td>2923</td><td>-84.6302</td><td>-164.507</td><td>2019-09-08 22:53:09</td></tr><tr><td>French Guiana</td><td>8304</td><td>-28.8852</td><td>-164.87</td><td>2019-09-13 04:50:29</td></tr><tr><td>Cote d'Ivoire</td><td>4315</td><td>-45.8508</td><td>66.1003</td><td>2019-12-15 03:51:28</td></tr><tr><td>French Guiana</td><td>8304</td><td>-28.8852</td><td>-164.87</td><td>2019-09-13 04:50:29</td></tr><tr><td>Cote d'Ivoire</td><td>4315</td><td>-45.8508</td><td>66.1003</td><td>2019-12-15 03:51:28</td></tr><tr><td>Azerbaijan</td><td>5069</td><td>-63.0063</td><td>-157.474</td><td>2021-03-20 09:32:44</td></tr><tr><td>Mozambique</td><td>6145</td><td>-65.9079</td><td>-143.845</td><td>2019-12-05 02:09:44</td></tr><tr><td>Azerbaijan</td><td>5069</td><td>-63.0063</td><td>-157.474</td><td>2021-03-20 09:32:44</td></tr><tr><td>Mozambique</td><td>6145</td><td>-65.9079</td><td>-143.845</td><td>2019-12-05 02:09:44</td></tr><tr><td>Azerbaijan</td><td>5069</td><td>-63.0063</td><td>-157.474</td><td>2021-03-20 09:32:44</td></tr><tr><td>Mozambique</td><td>6145</td><td>-65.9079</td><td>-143.845</td><td>2019-12-05 02:09:44</td></tr><tr><td>Philippines</td><td>4508</td><td>69.1858</td><td>-76.0761</td><td>2019-01-04 11:15:27</td></tr><tr><td>Bangladesh</td><td>428</td><td>-83.4105</td><td>-150.788</td><td>2020-09-27 18:46:41</td></tr><tr><td>Australia</td><td>7343</td><td>-65.4428</td><td>-161.684</td><td>2018-08-06 12:17:07</td></tr><tr><td>Seychelles</td><td>8653</td><td>48.4569</td><td>-139.658</td><td>2022-04-11 18:30:19</td></tr><tr><td>Bangladesh</td><td>428</td><td>-83.4105</td><td>-150.788</td><td>2020-09-27 18:46:41</td></tr><tr><td>Australia</td><td>7343</td><td>-65.4428</td><td>-161.684</td><td>2018-08-06 12:17:07</td></tr><tr><td>Seychelles</td><td>8653</td><td>48.4569</td><td>-139.658</td><td>2022-04-11 18:30:19</td></tr><tr><td>Isle of Man</td><td>5468</td><td>-83.544</td><td>33.9473</td><td>2020-05-16 23:17:50</td></tr><tr><td>Argentina</td><td>8930</td><td>-89.4739</td><td>-176.154</td><td>2021-09-29 13:25:49</td></tr><tr><td>Australia</td><td>7294</td><td>-76.2967</td><td>-136.501</td><td>2018-02-12 08:06:28</td></tr><tr><td>Bulgaria</td><td>5494</td><td>-82.6768</td><td>-129.202</td><td>2021-07-21 02:02:35</td></tr><tr><td>Anguilla</td><td>6063</td><td>-89.1797</td><td>-174.015</td><td>2021-07-20 09:02:47</td></tr><tr><td>Cambodia</td><td>3454</td><td>-0.375174</td><td>49.8106</td><td>2021-07-25 02:20:29</td></tr><tr><td>Jamaica</td><td>10625</td><td>-84.4944</td><td>-81.0613</td><td>2018-07-13 11:51:15</td></tr><tr><td>Barbados</td><td>9875</td><td>-74.3382</td><td>-110.484</td><td>2020-03-20 13:03:18</td></tr><tr><td>Bulgaria</td><td>5494</td><td>-82.6768</td><td>-129.202</td><td>2021-07-21 02:02:35</td></tr><tr><td>Anguilla</td><td>6063</td><td>-89.1797</td><td>-174.015</td><td>2021-07-20 09:02:47</td></tr><tr><td>Cambodia</td><td>3454</td><td>-0.375174</td><td>49.8106</td><td>2021-07-25 02:20:29</td></tr><tr><td>Jamaica</td><td>10625</td><td>-84.4944</td><td>-81.0613</td><td>2018-07-13 11:51:15</td></tr><tr><td>Barbados</td><td>9875</td><td>-74.3382</td><td>-110.484</td><td>2020-03-20 13:03:18</td></tr><tr><td>Botswana</td><td>8887</td><td>-28.0137</td><td>-160.708</td><td>2021-09-19 05:27:43</td></tr><tr><td>Bulgaria</td><td>5494</td><td>-82.6768</td><td>-129.202</td><td>2021-07-21 02:02:35</td></tr><tr><td>Anguilla</td><td>6063</td><td>-89.1797</td><td>-174.015</td><td>2021-07-20 09:02:47</td></tr><tr><td>Cambodia</td><td>3454</td><td>-0.375174</td><td>49.8106</td><td>2021-07-25 02:20:29</td></tr><tr><td>Jamaica</td><td>10625</td><td>-84.4944</td><td>-81.0613</td><td>2018-07-13 11:51:15</td></tr><tr><td>Barbados</td><td>9875</td><td>-74.3382</td><td>-110.484</td><td>2020-03-20 13:03:18</td></tr><tr><td>Botswana</td><td>8887</td><td>-28.0137</td><td>-160.708</td><td>2021-09-19 05:27:43</td></tr><tr><td>Australia</td><td>4137</td><td>-55.3079</td><td>108.918</td><td>2019-06-23 22:16:34</td></tr><tr><td>Albania</td><td>7528</td><td>-89.9787</td><td>-173.293</td><td>2020-08-28T03:52:47</td></tr><tr><td>Armenia</td><td>2863</td><td>-5.34445</td><td>-177.924</td><td>2020-04-27T13:34:16</td></tr><tr><td>Albania</td><td>7528</td><td>-89.9787</td><td>-173.293</td><td>2020-08-28 03:52:47</td></tr><tr><td>Albania</td><td>3089</td><td>-89.9787</td><td>-173.293</td><td>2018-02-28 05:31:29</td></tr><tr><td>Albania</td><td>7528</td><td>-89.9787</td><td>-173.293</td><td>2020-08-28 03:52:47</td></tr><tr><td>Armenia</td><td>2863</td><td>-5.34445</td><td>-177.924</td><td>2020-04-27 13:34:16</td></tr><tr><td>Colombia</td><td>5730</td><td>-77.015</td><td>-101.437</td><td>2021-04-19 17:37:03</td></tr><tr><td>Albania</td><td>3089</td><td>-89.9787</td><td>-173.293</td><td>2018-02-28 05:31:29</td></tr><tr><td>Austria</td><td>10138</td><td>-72.142</td><td>-74.3545</td><td>2019-08-03 00:59:29</td></tr><tr><td>Albania</td><td>7528</td><td>-89.9787</td><td>-173.293</td><td>2020-08-28 03:52:47</td></tr><tr><td>Armenia</td><td>2863</td><td>-5.34445</td><td>-177.924</td><td>2020-04-27 13:34:16</td></tr><tr><td>Colombia</td><td>5730</td><td>-77.015</td><td>-101.437</td><td>2021-04-19 17:37:03</td></tr><tr><td>Albania</td><td>3089</td><td>-89.9787</td><td>-173.293</td><td>2018-02-28 05:31:29</td></tr><tr><td>Austria</td><td>10138</td><td>-72.142</td><td>-74.3545</td><td>2019-08-03 00:59:29</td></tr><tr><td>Austria</td><td>9546</td><td>-70.0295</td><td>-155.428</td><td>2018-02-10 06:16:40</td></tr><tr><td>Albania</td><td>2411</td><td>-71.6856</td><td>-179.126</td><td>2020-11-15 17:10:07</td></tr><tr><td>Algeria</td><td>9590</td><td>-64.3876</td><td>-174.281</td><td>2019-05-20 19:48:48</td></tr><tr><td>Germany</td><td>5076</td><td>-70.7195</td><td>-91.1935</td><td>2019-05-05 16:22:23</td></tr><tr><td>Barbados</td><td>205</td><td>-75.8378</td><td>-163.945</td><td>2020-07-08 14:10:38</td></tr><tr><td>Angola</td><td>2959</td><td>-68.0095</td><td>-157.227</td><td>2019-08-19 08:22:02</td></tr><tr><td>Armenia</td><td>3156</td><td>-84.738</td><td>-160.795</td><td>2018-01-13 19:33:49</td></tr><tr><td>Maldives</td><td>1313</td><td>77.0447</td><td>61.9119</td><td>2018-06-26 02:39:25</td></tr><tr><td>Angola</td><td>2959</td><td>-68.0095</td><td>-157.227</td><td>2019-08-19 08:22:02</td></tr><tr><td>Armenia</td><td>3156</td><td>-84.738</td><td>-160.795</td><td>2018-01-13 19:33:49</td></tr><tr><td>Maldives</td><td>1313</td><td>77.0447</td><td>61.9119</td><td>2018-06-26 02:39:25</td></tr><tr><td>Angola</td><td>2959</td><td>-68.0095</td><td>-157.227</td><td>2019-08-19 08:22:02</td></tr><tr><td>Armenia</td><td>3156</td><td>-84.738</td><td>-160.795</td><td>2018-01-13 19:33:49</td></tr><tr><td>Armenia</td><td>719</td><td>-38.4062</td><td>-154.323</td><td>2018-10-29 04:05:12</td></tr><tr><td>Bermuda</td><td>2482</td><td>63.4563</td><td>-164.709</td><td>2019-09-13 08:20:13</td></tr><tr><td>Sudan</td><td>7554</td><td>-51.2172</td><td>-77.9768</td><td>2019-03-20 03:15:07</td></tr><tr><td>Sudan</td><td>7554</td><td>-51.2172</td><td>-77.9768</td><td>2019-03-20 03:15:07</td></tr><tr><td>Sudan</td><td>7554</td><td>-51.2172</td><td>-77.9768</td><td>2019-03-20 03:15:07</td></tr><tr><td>Aruba</td><td>4913</td><td>-84.3768</td><td>-157.544</td><td>2019-03-08 06:45:39</td></tr><tr><td>Aruba</td><td>7166</td><td>-86.4063</td><td>-136.657</td><td>2022-07-25 03:07:37</td></tr><tr><td>Aruba</td><td>8731</td><td>-83.104</td><td>-171.302</td><td>2020-07-17 04:39:09</td></tr><tr><td>India</td><td>9672</td><td>79.4658</td><td>-69.4133</td><td>2019-11-03 13:15:52</td></tr><tr><td>Aruba</td><td>8731</td><td>-83.104</td><td>-171.302</td><td>2020-07-17 04:39:09</td></tr><tr><td>India</td><td>9672</td><td>79.4658</td><td>-69.4133</td><td>2019-11-03 13:15:52</td></tr><tr><td>Congo</td><td>831</td><td>-43.7816</td><td>-66.1592</td><td>2021-06-23 23:16:10</td></tr><tr><td>Tonga</td><td>1014</td><td>81.1477</td><td>69.3538</td><td>2022-02-03 22:05:34</td></tr><tr><td>Egypt</td><td>2698</td><td>-72.7174</td><td>24.169</td><td>2021-11-24 08:33:51</td></tr></tbody></table></div>"
      ]
     },
     "metadata": {
      "application/vnd.databricks.v1+output": {
       "addedWidgets": {},
       "aggData": [],
       "aggError": "",
       "aggOverflow": false,
       "aggSchema": [],
       "aggSeriesLimitReached": false,
       "aggType": "",
       "arguments": {},
       "columnCustomDisplayInfos": {},
       "data": [
        [
         "Antarctica (the territory South of 60 deg S)",
         2418,
         -88.4642,
         -171.061,
         "2022-05-27 11:30:59"
        ],
        [
         "Antarctica (the territory South of 60 deg S)",
         2418,
         -88.4642,
         -171.061,
         "2022-05-27 11:30:59"
        ],
        [
         "Antarctica (the territory South of 60 deg S)",
         2418,
         -88.4642,
         -171.061,
         "2022-05-27 11:30:59"
        ],
        [
         "Cocos (Keeling) Islands",
         10794,
         -89.5236,
         -154.567,
         "2022-01-01 02:26:50"
        ],
        [
         "Cocos (Keeling) Islands",
         10794,
         -89.5236,
         -154.567,
         "2022-01-01 02:26:50"
        ],
        [
         "Cocos (Keeling) Islands",
         10794,
         -89.5236,
         -154.567,
         "2022-01-01 02:26:50"
        ],
        [
         "Central African Republic",
         2074,
         -52.3213,
         -50.11,
         "2019-11-03 05:41:59"
        ],
        [
         "Central African Republic",
         2074,
         -52.3213,
         -50.11,
         "2019-11-03 05:41:59"
        ],
        [
         "Saint Kitts and Nevis",
         10663,
         -27.3474,
         -162.83,
         "2019-07-25 18:53:51"
        ],
        [
         "Antigua and Barbuda",
         7922,
         -88.0974,
         -172.052,
         "2021-01-27 09:14:19"
        ],
        [
         "Antigua and Barbuda",
         8606,
         -88.0974,
         -172.052,
         "2021-03-28 14:54:07"
        ],
        [
         "Dominican Republic",
         9979,
         14.9967,
         -120.682,
         "2018-07-18 19:01:46"
        ],
        [
         "Dominican Republic",
         9979,
         14.9967,
         -120.682,
         "2018-07-18 19:01:46"
        ],
        [
         "Christmas Island",
         1704,
         -56.8702,
         -93.6232,
         "2018-11-29 04:46:39"
        ],
        [
         "Papua New Guinea",
         7790,
         -43.692,
         64.9839,
         "2018-07-31 08:19:15"
        ],
        [
         "American Samoa",
         9759,
         -77.9744,
         -106.258,
         "2017-12-30 13:05:49"
        ],
        [
         "Cote d'Ivoire",
         2923,
         -84.6302,
         -164.507,
         "2019-09-08 22:53:09"
        ],
        [
         "Cote d'Ivoire",
         2923,
         -84.6302,
         -164.507,
         "2019-09-08 22:53:09"
        ],
        [
         "Cote d'Ivoire",
         2923,
         -84.6302,
         -164.507,
         "2019-09-08 22:53:09"
        ],
        [
         "French Guiana",
         8304,
         -28.8852,
         -164.87,
         "2019-09-13 04:50:29"
        ],
        [
         "Cote d'Ivoire",
         4315,
         -45.8508,
         66.1003,
         "2019-12-15 03:51:28"
        ],
        [
         "French Guiana",
         8304,
         -28.8852,
         -164.87,
         "2019-09-13 04:50:29"
        ],
        [
         "Cote d'Ivoire",
         4315,
         -45.8508,
         66.1003,
         "2019-12-15 03:51:28"
        ],
        [
         "Azerbaijan",
         5069,
         -63.0063,
         -157.474,
         "2021-03-20 09:32:44"
        ],
        [
         "Mozambique",
         6145,
         -65.9079,
         -143.845,
         "2019-12-05 02:09:44"
        ],
        [
         "Azerbaijan",
         5069,
         -63.0063,
         -157.474,
         "2021-03-20 09:32:44"
        ],
        [
         "Mozambique",
         6145,
         -65.9079,
         -143.845,
         "2019-12-05 02:09:44"
        ],
        [
         "Azerbaijan",
         5069,
         -63.0063,
         -157.474,
         "2021-03-20 09:32:44"
        ],
        [
         "Mozambique",
         6145,
         -65.9079,
         -143.845,
         "2019-12-05 02:09:44"
        ],
        [
         "Philippines",
         4508,
         69.1858,
         -76.0761,
         "2019-01-04 11:15:27"
        ],
        [
         "Bangladesh",
         428,
         -83.4105,
         -150.788,
         "2020-09-27 18:46:41"
        ],
        [
         "Australia",
         7343,
         -65.4428,
         -161.684,
         "2018-08-06 12:17:07"
        ],
        [
         "Seychelles",
         8653,
         48.4569,
         -139.658,
         "2022-04-11 18:30:19"
        ],
        [
         "Bangladesh",
         428,
         -83.4105,
         -150.788,
         "2020-09-27 18:46:41"
        ],
        [
         "Australia",
         7343,
         -65.4428,
         -161.684,
         "2018-08-06 12:17:07"
        ],
        [
         "Seychelles",
         8653,
         48.4569,
         -139.658,
         "2022-04-11 18:30:19"
        ],
        [
         "Isle of Man",
         5468,
         -83.544,
         33.9473,
         "2020-05-16 23:17:50"
        ],
        [
         "Argentina",
         8930,
         -89.4739,
         -176.154,
         "2021-09-29 13:25:49"
        ],
        [
         "Australia",
         7294,
         -76.2967,
         -136.501,
         "2018-02-12 08:06:28"
        ],
        [
         "Bulgaria",
         5494,
         -82.6768,
         -129.202,
         "2021-07-21 02:02:35"
        ],
        [
         "Anguilla",
         6063,
         -89.1797,
         -174.015,
         "2021-07-20 09:02:47"
        ],
        [
         "Cambodia",
         3454,
         -0.375174,
         49.8106,
         "2021-07-25 02:20:29"
        ],
        [
         "Jamaica",
         10625,
         -84.4944,
         -81.0613,
         "2018-07-13 11:51:15"
        ],
        [
         "Barbados",
         9875,
         -74.3382,
         -110.484,
         "2020-03-20 13:03:18"
        ],
        [
         "Bulgaria",
         5494,
         -82.6768,
         -129.202,
         "2021-07-21 02:02:35"
        ],
        [
         "Anguilla",
         6063,
         -89.1797,
         -174.015,
         "2021-07-20 09:02:47"
        ],
        [
         "Cambodia",
         3454,
         -0.375174,
         49.8106,
         "2021-07-25 02:20:29"
        ],
        [
         "Jamaica",
         10625,
         -84.4944,
         -81.0613,
         "2018-07-13 11:51:15"
        ],
        [
         "Barbados",
         9875,
         -74.3382,
         -110.484,
         "2020-03-20 13:03:18"
        ],
        [
         "Botswana",
         8887,
         -28.0137,
         -160.708,
         "2021-09-19 05:27:43"
        ],
        [
         "Bulgaria",
         5494,
         -82.6768,
         -129.202,
         "2021-07-21 02:02:35"
        ],
        [
         "Anguilla",
         6063,
         -89.1797,
         -174.015,
         "2021-07-20 09:02:47"
        ],
        [
         "Cambodia",
         3454,
         -0.375174,
         49.8106,
         "2021-07-25 02:20:29"
        ],
        [
         "Jamaica",
         10625,
         -84.4944,
         -81.0613,
         "2018-07-13 11:51:15"
        ],
        [
         "Barbados",
         9875,
         -74.3382,
         -110.484,
         "2020-03-20 13:03:18"
        ],
        [
         "Botswana",
         8887,
         -28.0137,
         -160.708,
         "2021-09-19 05:27:43"
        ],
        [
         "Australia",
         4137,
         -55.3079,
         108.918,
         "2019-06-23 22:16:34"
        ],
        [
         "Albania",
         7528,
         -89.9787,
         -173.293,
         "2020-08-28T03:52:47"
        ],
        [
         "Armenia",
         2863,
         -5.34445,
         -177.924,
         "2020-04-27T13:34:16"
        ],
        [
         "Albania",
         7528,
         -89.9787,
         -173.293,
         "2020-08-28 03:52:47"
        ],
        [
         "Albania",
         3089,
         -89.9787,
         -173.293,
         "2018-02-28 05:31:29"
        ],
        [
         "Albania",
         7528,
         -89.9787,
         -173.293,
         "2020-08-28 03:52:47"
        ],
        [
         "Armenia",
         2863,
         -5.34445,
         -177.924,
         "2020-04-27 13:34:16"
        ],
        [
         "Colombia",
         5730,
         -77.015,
         -101.437,
         "2021-04-19 17:37:03"
        ],
        [
         "Albania",
         3089,
         -89.9787,
         -173.293,
         "2018-02-28 05:31:29"
        ],
        [
         "Austria",
         10138,
         -72.142,
         -74.3545,
         "2019-08-03 00:59:29"
        ],
        [
         "Albania",
         7528,
         -89.9787,
         -173.293,
         "2020-08-28 03:52:47"
        ],
        [
         "Armenia",
         2863,
         -5.34445,
         -177.924,
         "2020-04-27 13:34:16"
        ],
        [
         "Colombia",
         5730,
         -77.015,
         -101.437,
         "2021-04-19 17:37:03"
        ],
        [
         "Albania",
         3089,
         -89.9787,
         -173.293,
         "2018-02-28 05:31:29"
        ],
        [
         "Austria",
         10138,
         -72.142,
         -74.3545,
         "2019-08-03 00:59:29"
        ],
        [
         "Austria",
         9546,
         -70.0295,
         -155.428,
         "2018-02-10 06:16:40"
        ],
        [
         "Albania",
         2411,
         -71.6856,
         -179.126,
         "2020-11-15 17:10:07"
        ],
        [
         "Algeria",
         9590,
         -64.3876,
         -174.281,
         "2019-05-20 19:48:48"
        ],
        [
         "Germany",
         5076,
         -70.7195,
         -91.1935,
         "2019-05-05 16:22:23"
        ],
        [
         "Barbados",
         205,
         -75.8378,
         -163.945,
         "2020-07-08 14:10:38"
        ],
        [
         "Angola",
         2959,
         -68.0095,
         -157.227,
         "2019-08-19 08:22:02"
        ],
        [
         "Armenia",
         3156,
         -84.738,
         -160.795,
         "2018-01-13 19:33:49"
        ],
        [
         "Maldives",
         1313,
         77.0447,
         61.9119,
         "2018-06-26 02:39:25"
        ],
        [
         "Angola",
         2959,
         -68.0095,
         -157.227,
         "2019-08-19 08:22:02"
        ],
        [
         "Armenia",
         3156,
         -84.738,
         -160.795,
         "2018-01-13 19:33:49"
        ],
        [
         "Maldives",
         1313,
         77.0447,
         61.9119,
         "2018-06-26 02:39:25"
        ],
        [
         "Angola",
         2959,
         -68.0095,
         -157.227,
         "2019-08-19 08:22:02"
        ],
        [
         "Armenia",
         3156,
         -84.738,
         -160.795,
         "2018-01-13 19:33:49"
        ],
        [
         "Armenia",
         719,
         -38.4062,
         -154.323,
         "2018-10-29 04:05:12"
        ],
        [
         "Bermuda",
         2482,
         63.4563,
         -164.709,
         "2019-09-13 08:20:13"
        ],
        [
         "Sudan",
         7554,
         -51.2172,
         -77.9768,
         "2019-03-20 03:15:07"
        ],
        [
         "Sudan",
         7554,
         -51.2172,
         -77.9768,
         "2019-03-20 03:15:07"
        ],
        [
         "Sudan",
         7554,
         -51.2172,
         -77.9768,
         "2019-03-20 03:15:07"
        ],
        [
         "Aruba",
         4913,
         -84.3768,
         -157.544,
         "2019-03-08 06:45:39"
        ],
        [
         "Aruba",
         7166,
         -86.4063,
         -136.657,
         "2022-07-25 03:07:37"
        ],
        [
         "Aruba",
         8731,
         -83.104,
         -171.302,
         "2020-07-17 04:39:09"
        ],
        [
         "India",
         9672,
         79.4658,
         -69.4133,
         "2019-11-03 13:15:52"
        ],
        [
         "Aruba",
         8731,
         -83.104,
         -171.302,
         "2020-07-17 04:39:09"
        ],
        [
         "India",
         9672,
         79.4658,
         -69.4133,
         "2019-11-03 13:15:52"
        ],
        [
         "Congo",
         831,
         -43.7816,
         -66.1592,
         "2021-06-23 23:16:10"
        ],
        [
         "Tonga",
         1014,
         81.1477,
         69.3538,
         "2022-02-03 22:05:34"
        ],
        [
         "Egypt",
         2698,
         -72.7174,
         24.169,
         "2021-11-24 08:33:51"
        ]
       ],
       "datasetInfos": [],
       "dbfsResultPath": null,
       "isJsonSchema": true,
       "metadata": {},
       "overflow": false,
       "plotOptions": {
        "customPlotOptions": {},
        "displayType": "table",
        "pivotAggregation": null,
        "pivotColumns": null,
        "xColumns": null,
        "yColumns": null
       },
       "removedWidgets": [],
       "schema": [
        {
         "metadata": "{}",
         "name": "country",
         "type": "\"string\""
        },
        {
         "metadata": "{}",
         "name": "ind",
         "type": "\"long\""
        },
        {
         "metadata": "{}",
         "name": "latitude",
         "type": "\"double\""
        },
        {
         "metadata": "{}",
         "name": "longitude",
         "type": "\"double\""
        },
        {
         "metadata": "{}",
         "name": "timestamp",
         "type": "\"string\""
        }
       ],
       "type": "table"
      }
     },
     "output_type": "display_data"
    }
   ],
   "source": [
    "file_location = \"/mnt/0e06e68acedb_s3_bucket/topics/0e06e68acedb.geo/partition=0/*.json\" \n",
    "file_type = \"json\"\n",
    "\n",
    "infer_schema = \"true\"\n",
    "\n",
    "df_geo = spark.read.format(file_type) \\\n",
    ".option(\"inferSchema\", infer_schema) \\\n",
    ".load(file_location)\n",
    "\n",
    "display(df_geo)"
   ]
  },
  {
   "cell_type": "code",
   "execution_count": null,
   "metadata": {
    "application/vnd.databricks.v1+cell": {
     "cellMetadata": {
      "byteLimit": 2048000,
      "rowLimit": 10000
     },
     "inputWidgets": {},
     "nuid": "ad26d0df-831f-4130-b741-82cf274c107d",
     "showTitle": false,
     "title": ""
    }
   },
   "outputs": [
    {
     "data": {
      "text/html": [
       "<style scoped>\n",
       "  .table-result-container {\n",
       "    max-height: 300px;\n",
       "    overflow: auto;\n",
       "  }\n",
       "  table, th, td {\n",
       "    border: 1px solid black;\n",
       "    border-collapse: collapse;\n",
       "  }\n",
       "  th, td {\n",
       "    padding: 5px;\n",
       "  }\n",
       "  th {\n",
       "    text-align: left;\n",
       "  }\n",
       "</style><div class='table-result-container'><table class='table-result'><thead style='background-color: white'><tr><th>age</th><th>date_joined</th><th>first_name</th><th>ind</th><th>last_name</th></tr></thead><tbody><tr><td>20</td><td>2015-12-01 15:08:31</td><td>Christopher</td><td>5076</td><td>Butler</td></tr><tr><td>39</td><td>2017-07-19 07:12:04</td><td>Michelle</td><td>7790</td><td>Gutierrez</td></tr><tr><td>21</td><td>2015-11-10 09:27:42</td><td>Andrea</td><td>8731</td><td>Alexander</td></tr><tr><td>24</td><td>2016-03-31 20:56:39</td><td>Austin</td><td>8887</td><td>Rodriguez</td></tr><tr><td>21</td><td>2015-11-10 09:27:42</td><td>Andrea</td><td>8731</td><td>Alexander</td></tr><tr><td>24</td><td>2016-03-31 20:56:39</td><td>Austin</td><td>8887</td><td>Rodriguez</td></tr><tr><td>36</td><td>2015-12-20 16:38:13</td><td>Michelle</td><td>4315</td><td>Prince</td></tr><tr><td>32</td><td>2017-10-10 20:09:33</td><td>Christian</td><td>10625</td><td>Lang</td></tr><tr><td>36</td><td>2015-12-20 16:38:13</td><td>Michelle</td><td>4315</td><td>Prince</td></tr><tr><td>32</td><td>2017-10-10 20:09:33</td><td>Christian</td><td>10625</td><td>Lang</td></tr><tr><td>22</td><td>2016-02-11 20:46:04</td><td>Jennifer</td><td>9672</td><td>Hudson</td></tr><tr><td>36</td><td>2015-12-20 16:38:13</td><td>Michelle</td><td>4315</td><td>Prince</td></tr><tr><td>32</td><td>2017-10-10 20:09:33</td><td>Christian</td><td>10625</td><td>Lang</td></tr><tr><td>22</td><td>2016-02-11 20:46:04</td><td>Jennifer</td><td>9672</td><td>Hudson</td></tr><tr><td>23</td><td>2015-11-28 11:52:37</td><td>Andrew</td><td>8930</td><td>Anderson</td></tr><tr><td>34</td><td>2016-12-22 00:02:02</td><td>Thomas</td><td>10794</td><td>Turner</td></tr><tr><td>20</td><td>2016-01-07 19:49:22</td><td>David</td><td>2959</td><td>Griffith</td></tr><tr><td>26</td><td>2015-12-20 10:28:00</td><td>Brendan</td><td>9875</td><td>Joseph</td></tr><tr><td>32</td><td>2016-04-02 03:51:23</td><td>Brittany</td><td>1313</td><td>Jones</td></tr><tr><td>34</td><td>2016-12-22 00:02:02</td><td>Thomas</td><td>10794</td><td>Turner</td></tr><tr><td>20</td><td>2016-01-07 19:49:22</td><td>David</td><td>2959</td><td>Griffith</td></tr><tr><td>26</td><td>2015-12-20 10:28:00</td><td>Brendan</td><td>9875</td><td>Joseph</td></tr><tr><td>21</td><td>2016-01-03 15:42:12</td><td>Annette</td><td>2074</td><td>Forbes</td></tr><tr><td>32</td><td>2016-04-02 03:51:23</td><td>Brittany</td><td>1313</td><td>Jones</td></tr><tr><td>34</td><td>2016-12-22 00:02:02</td><td>Thomas</td><td>10794</td><td>Turner</td></tr><tr><td>20</td><td>2016-01-07 19:49:22</td><td>David</td><td>2959</td><td>Griffith</td></tr><tr><td>26</td><td>2015-12-20 10:28:00</td><td>Brendan</td><td>9875</td><td>Joseph</td></tr><tr><td>21</td><td>2016-01-03 15:42:12</td><td>Annette</td><td>2074</td><td>Forbes</td></tr><tr><td>56</td><td>2016-10-15 17:21:39</td><td>Gregory</td><td>1014</td><td>Ramsey</td></tr><tr><td>59</td><td>2017-06-29 22:35:17</td><td>Michael</td><td>4137</td><td>Decker</td></tr><tr><td>21</td><td>2015-11-24 02:15:36</td><td>Aaron</td><td>2411</td><td>Bartlett</td></tr><tr><td>58</td><td>2016-06-03 23:35:30</td><td>Michael</td><td>4508</td><td>Carter</td></tr><tr><td>23</td><td>2015-11-25 13:36:22</td><td>Corey</td><td>6063</td><td>Andrews</td></tr><tr><td>48</td><td>2017-09-26 16:31:56</td><td>Robert</td><td>3454</td><td>Murphy</td></tr><tr><td>20</td><td>2017-04-11 16:35:33</td><td>Cheryl</td><td>7554</td><td>Huerta</td></tr><tr><td>30</td><td>2015-12-25 20:24:37</td><td>Emily</td><td>6145</td><td>Hawkins</td></tr><tr><td>25</td><td>2015-12-28 04:21:39</td><td>Charles</td><td>8304</td><td>Berry</td></tr><tr><td>23</td><td>2015-11-25 13:36:22</td><td>Corey</td><td>6063</td><td>Andrews</td></tr><tr><td>48</td><td>2017-09-26 16:31:56</td><td>Robert</td><td>3454</td><td>Murphy</td></tr><tr><td>20</td><td>2017-04-11 16:35:33</td><td>Cheryl</td><td>7554</td><td>Huerta</td></tr><tr><td>30</td><td>2015-12-25 20:24:37</td><td>Emily</td><td>6145</td><td>Hawkins</td></tr><tr><td>31</td><td>2016-11-09 19:50:51</td><td>Kaylee</td><td>9979</td><td>Miller</td></tr><tr><td>25</td><td>2015-12-28 04:21:39</td><td>Charles</td><td>8304</td><td>Berry</td></tr><tr><td>23</td><td>2015-11-25 13:36:22</td><td>Corey</td><td>6063</td><td>Andrews</td></tr><tr><td>48</td><td>2017-09-26 16:31:56</td><td>Robert</td><td>3454</td><td>Murphy</td></tr><tr><td>20</td><td>2017-04-11 16:35:33</td><td>Cheryl</td><td>7554</td><td>Huerta</td></tr><tr><td>30</td><td>2015-12-25 20:24:37</td><td>Emily</td><td>6145</td><td>Hawkins</td></tr><tr><td>31</td><td>2016-11-09 19:50:51</td><td>Kaylee</td><td>9979</td><td>Miller</td></tr><tr><td>24</td><td>2015-11-20 05:37:11</td><td>Angela</td><td>4913</td><td>Brooks</td></tr><tr><td>25</td><td>2015-11-19 21:24:33</td><td>Daniel</td><td>9759</td><td>Brooks</td></tr><tr><td>32</td><td>2016-10-23T14:06:51</td><td>Dylan</td><td>2863</td><td>Holmes</td></tr><tr><td>26</td><td>2015-11-11 03:20:57</td><td>Brian</td><td>2923</td><td>Nelson</td></tr><tr><td>20</td><td>2015-10-21 08:27:36</td><td>Amanda</td><td>2418</td><td>Adams</td></tr><tr><td>22</td><td>2015-12-21 08:06:54</td><td>Andrew</td><td>3156</td><td>Baker</td></tr><tr><td>32</td><td>2016-10-23 14:06:51</td><td>Dylan</td><td>2863</td><td>Holmes</td></tr><tr><td>36</td><td>2015-12-08 20:02:43</td><td>Rachel</td><td>5730</td><td>Davis</td></tr><tr><td>26</td><td>2015-11-11 03:20:57</td><td>Brian</td><td>2923</td><td>Nelson</td></tr><tr><td>20</td><td>2015-10-21 08:27:36</td><td>Amanda</td><td>2418</td><td>Adams</td></tr><tr><td>22</td><td>2015-12-21 08:06:54</td><td>Andrew</td><td>3156</td><td>Baker</td></tr><tr><td>20</td><td>2015-11-28 02:20:29</td><td>Claudia</td><td>428</td><td>Adams</td></tr><tr><td>24</td><td>2016-01-11 12:03:48</td><td>Anne</td><td>7343</td><td>Clayton</td></tr><tr><td>22</td><td>2015-12-31 14:57:02</td><td>Carol</td><td>10138</td><td>Silva</td></tr><tr><td>32</td><td>2016-10-23 14:06:51</td><td>Dylan</td><td>2863</td><td>Holmes</td></tr><tr><td>36</td><td>2015-12-08 20:02:43</td><td>Rachel</td><td>5730</td><td>Davis</td></tr><tr><td>26</td><td>2015-11-11 03:20:57</td><td>Brian</td><td>2923</td><td>Nelson</td></tr><tr><td>20</td><td>2015-10-21 08:27:36</td><td>Amanda</td><td>2418</td><td>Adams</td></tr><tr><td>22</td><td>2015-12-21 08:06:54</td><td>Andrew</td><td>3156</td><td>Baker</td></tr><tr><td>20</td><td>2015-11-28 02:20:29</td><td>Claudia</td><td>428</td><td>Adams</td></tr><tr><td>24</td><td>2016-01-11 12:03:48</td><td>Anne</td><td>7343</td><td>Clayton</td></tr><tr><td>22</td><td>2015-12-31 14:57:02</td><td>Carol</td><td>10138</td><td>Silva</td></tr><tr><td>21</td><td>2015-11-12 06:21:36</td><td>Denise</td><td>7922</td><td>Adams</td></tr><tr><td>22</td><td>2015-10-24 18:56:30</td><td>Amanda</td><td>9590</td><td>Allen</td></tr><tr><td>44</td><td>2017-06-21 19:53:27</td><td>Kayla</td><td>2698</td><td>Burton</td></tr><tr><td>28</td><td>2016-06-16 02:06:38</td><td>Aimee</td><td>831</td><td>Collins</td></tr><tr><td>21</td><td>2015-11-12 06:21:36</td><td>Denise</td><td>8606</td><td>Adams</td></tr><tr><td>20</td><td>2015-10-24T11:23:51</td><td>Abigail</td><td>7528</td><td>Ali</td></tr><tr><td>25</td><td>2016-01-13 17:36:30</td><td>Amanda</td><td>5069</td><td>Ball</td></tr><tr><td>20</td><td>2015-10-24 11:23:51</td><td>Abigail</td><td>3089</td><td>Ali</td></tr><tr><td>20</td><td>2015-10-24 11:23:51</td><td>Abigail</td><td>7528</td><td>Ali</td></tr><tr><td>25</td><td>2016-01-13 17:36:30</td><td>Amanda</td><td>5069</td><td>Ball</td></tr><tr><td>20</td><td>2015-10-24 11:23:51</td><td>Abigail</td><td>3089</td><td>Ali</td></tr><tr><td>24</td><td>2016-03-09 10:48:14</td><td>Tammy</td><td>8653</td><td>Davis</td></tr><tr><td>20</td><td>2015-10-24 11:23:51</td><td>Abigail</td><td>7528</td><td>Ali</td></tr><tr><td>25</td><td>2016-01-13 17:36:30</td><td>Amanda</td><td>5069</td><td>Ball</td></tr><tr><td>20</td><td>2015-10-24 11:23:51</td><td>Abigail</td><td>3089</td><td>Ali</td></tr><tr><td>24</td><td>2016-03-09 10:48:14</td><td>Tammy</td><td>8653</td><td>Davis</td></tr><tr><td>20</td><td>2016-01-01 13:50:40</td><td>Alvin</td><td>7166</td><td>Adams</td></tr><tr><td>20</td><td>2016-02-27 21:13:44</td><td>Alex</td><td>9546</td><td>Barnes</td></tr><tr><td>20</td><td>2016-07-23 20:51:06</td><td>Lisa</td><td>5468</td><td>Gamble</td></tr><tr><td>20</td><td>2015-10-23 12:40:19</td><td>Brett</td><td>205</td><td>Bryant</td></tr><tr><td>20</td><td>2016-01-26 01:49:23</td><td>Alicia</td><td>719</td><td>Avila</td></tr><tr><td>27</td><td>2015-12-16 15:20:05</td><td>Anne</td><td>5494</td><td>Allen</td></tr><tr><td>27</td><td>2015-12-16 15:20:05</td><td>Anne</td><td>5494</td><td>Allen</td></tr><tr><td>27</td><td>2015-12-16 15:20:05</td><td>Anne</td><td>5494</td><td>Allen</td></tr><tr><td>23</td><td>2016-06-23 14:38:00</td><td>Julie</td><td>10663</td><td>Cox</td></tr><tr><td>20</td><td>2015-10-28 05:00:33</td><td>Barry</td><td>1704</td><td>Lynn</td></tr><tr><td>22</td><td>2016-03-01 07:11:48</td><td>David</td><td>2482</td><td>Moss</td></tr></tbody></table></div>"
      ]
     },
     "metadata": {
      "application/vnd.databricks.v1+output": {
       "addedWidgets": {},
       "aggData": [],
       "aggError": "",
       "aggOverflow": false,
       "aggSchema": [],
       "aggSeriesLimitReached": false,
       "aggType": "",
       "arguments": {},
       "columnCustomDisplayInfos": {},
       "data": [
        [
         20,
         "2015-12-01 15:08:31",
         "Christopher",
         5076,
         "Butler"
        ],
        [
         39,
         "2017-07-19 07:12:04",
         "Michelle",
         7790,
         "Gutierrez"
        ],
        [
         21,
         "2015-11-10 09:27:42",
         "Andrea",
         8731,
         "Alexander"
        ],
        [
         24,
         "2016-03-31 20:56:39",
         "Austin",
         8887,
         "Rodriguez"
        ],
        [
         21,
         "2015-11-10 09:27:42",
         "Andrea",
         8731,
         "Alexander"
        ],
        [
         24,
         "2016-03-31 20:56:39",
         "Austin",
         8887,
         "Rodriguez"
        ],
        [
         36,
         "2015-12-20 16:38:13",
         "Michelle",
         4315,
         "Prince"
        ],
        [
         32,
         "2017-10-10 20:09:33",
         "Christian",
         10625,
         "Lang"
        ],
        [
         36,
         "2015-12-20 16:38:13",
         "Michelle",
         4315,
         "Prince"
        ],
        [
         32,
         "2017-10-10 20:09:33",
         "Christian",
         10625,
         "Lang"
        ],
        [
         22,
         "2016-02-11 20:46:04",
         "Jennifer",
         9672,
         "Hudson"
        ],
        [
         36,
         "2015-12-20 16:38:13",
         "Michelle",
         4315,
         "Prince"
        ],
        [
         32,
         "2017-10-10 20:09:33",
         "Christian",
         10625,
         "Lang"
        ],
        [
         22,
         "2016-02-11 20:46:04",
         "Jennifer",
         9672,
         "Hudson"
        ],
        [
         23,
         "2015-11-28 11:52:37",
         "Andrew",
         8930,
         "Anderson"
        ],
        [
         34,
         "2016-12-22 00:02:02",
         "Thomas",
         10794,
         "Turner"
        ],
        [
         20,
         "2016-01-07 19:49:22",
         "David",
         2959,
         "Griffith"
        ],
        [
         26,
         "2015-12-20 10:28:00",
         "Brendan",
         9875,
         "Joseph"
        ],
        [
         32,
         "2016-04-02 03:51:23",
         "Brittany",
         1313,
         "Jones"
        ],
        [
         34,
         "2016-12-22 00:02:02",
         "Thomas",
         10794,
         "Turner"
        ],
        [
         20,
         "2016-01-07 19:49:22",
         "David",
         2959,
         "Griffith"
        ],
        [
         26,
         "2015-12-20 10:28:00",
         "Brendan",
         9875,
         "Joseph"
        ],
        [
         21,
         "2016-01-03 15:42:12",
         "Annette",
         2074,
         "Forbes"
        ],
        [
         32,
         "2016-04-02 03:51:23",
         "Brittany",
         1313,
         "Jones"
        ],
        [
         34,
         "2016-12-22 00:02:02",
         "Thomas",
         10794,
         "Turner"
        ],
        [
         20,
         "2016-01-07 19:49:22",
         "David",
         2959,
         "Griffith"
        ],
        [
         26,
         "2015-12-20 10:28:00",
         "Brendan",
         9875,
         "Joseph"
        ],
        [
         21,
         "2016-01-03 15:42:12",
         "Annette",
         2074,
         "Forbes"
        ],
        [
         56,
         "2016-10-15 17:21:39",
         "Gregory",
         1014,
         "Ramsey"
        ],
        [
         59,
         "2017-06-29 22:35:17",
         "Michael",
         4137,
         "Decker"
        ],
        [
         21,
         "2015-11-24 02:15:36",
         "Aaron",
         2411,
         "Bartlett"
        ],
        [
         58,
         "2016-06-03 23:35:30",
         "Michael",
         4508,
         "Carter"
        ],
        [
         23,
         "2015-11-25 13:36:22",
         "Corey",
         6063,
         "Andrews"
        ],
        [
         48,
         "2017-09-26 16:31:56",
         "Robert",
         3454,
         "Murphy"
        ],
        [
         20,
         "2017-04-11 16:35:33",
         "Cheryl",
         7554,
         "Huerta"
        ],
        [
         30,
         "2015-12-25 20:24:37",
         "Emily",
         6145,
         "Hawkins"
        ],
        [
         25,
         "2015-12-28 04:21:39",
         "Charles",
         8304,
         "Berry"
        ],
        [
         23,
         "2015-11-25 13:36:22",
         "Corey",
         6063,
         "Andrews"
        ],
        [
         48,
         "2017-09-26 16:31:56",
         "Robert",
         3454,
         "Murphy"
        ],
        [
         20,
         "2017-04-11 16:35:33",
         "Cheryl",
         7554,
         "Huerta"
        ],
        [
         30,
         "2015-12-25 20:24:37",
         "Emily",
         6145,
         "Hawkins"
        ],
        [
         31,
         "2016-11-09 19:50:51",
         "Kaylee",
         9979,
         "Miller"
        ],
        [
         25,
         "2015-12-28 04:21:39",
         "Charles",
         8304,
         "Berry"
        ],
        [
         23,
         "2015-11-25 13:36:22",
         "Corey",
         6063,
         "Andrews"
        ],
        [
         48,
         "2017-09-26 16:31:56",
         "Robert",
         3454,
         "Murphy"
        ],
        [
         20,
         "2017-04-11 16:35:33",
         "Cheryl",
         7554,
         "Huerta"
        ],
        [
         30,
         "2015-12-25 20:24:37",
         "Emily",
         6145,
         "Hawkins"
        ],
        [
         31,
         "2016-11-09 19:50:51",
         "Kaylee",
         9979,
         "Miller"
        ],
        [
         24,
         "2015-11-20 05:37:11",
         "Angela",
         4913,
         "Brooks"
        ],
        [
         25,
         "2015-11-19 21:24:33",
         "Daniel",
         9759,
         "Brooks"
        ],
        [
         32,
         "2016-10-23T14:06:51",
         "Dylan",
         2863,
         "Holmes"
        ],
        [
         26,
         "2015-11-11 03:20:57",
         "Brian",
         2923,
         "Nelson"
        ],
        [
         20,
         "2015-10-21 08:27:36",
         "Amanda",
         2418,
         "Adams"
        ],
        [
         22,
         "2015-12-21 08:06:54",
         "Andrew",
         3156,
         "Baker"
        ],
        [
         32,
         "2016-10-23 14:06:51",
         "Dylan",
         2863,
         "Holmes"
        ],
        [
         36,
         "2015-12-08 20:02:43",
         "Rachel",
         5730,
         "Davis"
        ],
        [
         26,
         "2015-11-11 03:20:57",
         "Brian",
         2923,
         "Nelson"
        ],
        [
         20,
         "2015-10-21 08:27:36",
         "Amanda",
         2418,
         "Adams"
        ],
        [
         22,
         "2015-12-21 08:06:54",
         "Andrew",
         3156,
         "Baker"
        ],
        [
         20,
         "2015-11-28 02:20:29",
         "Claudia",
         428,
         "Adams"
        ],
        [
         24,
         "2016-01-11 12:03:48",
         "Anne",
         7343,
         "Clayton"
        ],
        [
         22,
         "2015-12-31 14:57:02",
         "Carol",
         10138,
         "Silva"
        ],
        [
         32,
         "2016-10-23 14:06:51",
         "Dylan",
         2863,
         "Holmes"
        ],
        [
         36,
         "2015-12-08 20:02:43",
         "Rachel",
         5730,
         "Davis"
        ],
        [
         26,
         "2015-11-11 03:20:57",
         "Brian",
         2923,
         "Nelson"
        ],
        [
         20,
         "2015-10-21 08:27:36",
         "Amanda",
         2418,
         "Adams"
        ],
        [
         22,
         "2015-12-21 08:06:54",
         "Andrew",
         3156,
         "Baker"
        ],
        [
         20,
         "2015-11-28 02:20:29",
         "Claudia",
         428,
         "Adams"
        ],
        [
         24,
         "2016-01-11 12:03:48",
         "Anne",
         7343,
         "Clayton"
        ],
        [
         22,
         "2015-12-31 14:57:02",
         "Carol",
         10138,
         "Silva"
        ],
        [
         21,
         "2015-11-12 06:21:36",
         "Denise",
         7922,
         "Adams"
        ],
        [
         22,
         "2015-10-24 18:56:30",
         "Amanda",
         9590,
         "Allen"
        ],
        [
         44,
         "2017-06-21 19:53:27",
         "Kayla",
         2698,
         "Burton"
        ],
        [
         28,
         "2016-06-16 02:06:38",
         "Aimee",
         831,
         "Collins"
        ],
        [
         21,
         "2015-11-12 06:21:36",
         "Denise",
         8606,
         "Adams"
        ],
        [
         20,
         "2015-10-24T11:23:51",
         "Abigail",
         7528,
         "Ali"
        ],
        [
         25,
         "2016-01-13 17:36:30",
         "Amanda",
         5069,
         "Ball"
        ],
        [
         20,
         "2015-10-24 11:23:51",
         "Abigail",
         3089,
         "Ali"
        ],
        [
         20,
         "2015-10-24 11:23:51",
         "Abigail",
         7528,
         "Ali"
        ],
        [
         25,
         "2016-01-13 17:36:30",
         "Amanda",
         5069,
         "Ball"
        ],
        [
         20,
         "2015-10-24 11:23:51",
         "Abigail",
         3089,
         "Ali"
        ],
        [
         24,
         "2016-03-09 10:48:14",
         "Tammy",
         8653,
         "Davis"
        ],
        [
         20,
         "2015-10-24 11:23:51",
         "Abigail",
         7528,
         "Ali"
        ],
        [
         25,
         "2016-01-13 17:36:30",
         "Amanda",
         5069,
         "Ball"
        ],
        [
         20,
         "2015-10-24 11:23:51",
         "Abigail",
         3089,
         "Ali"
        ],
        [
         24,
         "2016-03-09 10:48:14",
         "Tammy",
         8653,
         "Davis"
        ],
        [
         20,
         "2016-01-01 13:50:40",
         "Alvin",
         7166,
         "Adams"
        ],
        [
         20,
         "2016-02-27 21:13:44",
         "Alex",
         9546,
         "Barnes"
        ],
        [
         20,
         "2016-07-23 20:51:06",
         "Lisa",
         5468,
         "Gamble"
        ],
        [
         20,
         "2015-10-23 12:40:19",
         "Brett",
         205,
         "Bryant"
        ],
        [
         20,
         "2016-01-26 01:49:23",
         "Alicia",
         719,
         "Avila"
        ],
        [
         27,
         "2015-12-16 15:20:05",
         "Anne",
         5494,
         "Allen"
        ],
        [
         27,
         "2015-12-16 15:20:05",
         "Anne",
         5494,
         "Allen"
        ],
        [
         27,
         "2015-12-16 15:20:05",
         "Anne",
         5494,
         "Allen"
        ],
        [
         23,
         "2016-06-23 14:38:00",
         "Julie",
         10663,
         "Cox"
        ],
        [
         20,
         "2015-10-28 05:00:33",
         "Barry",
         1704,
         "Lynn"
        ],
        [
         22,
         "2016-03-01 07:11:48",
         "David",
         2482,
         "Moss"
        ]
       ],
       "datasetInfos": [],
       "dbfsResultPath": null,
       "isJsonSchema": true,
       "metadata": {},
       "overflow": false,
       "plotOptions": {
        "customPlotOptions": {},
        "displayType": "table",
        "pivotAggregation": null,
        "pivotColumns": null,
        "xColumns": null,
        "yColumns": null
       },
       "removedWidgets": [],
       "schema": [
        {
         "metadata": "{}",
         "name": "age",
         "type": "\"long\""
        },
        {
         "metadata": "{}",
         "name": "date_joined",
         "type": "\"string\""
        },
        {
         "metadata": "{}",
         "name": "first_name",
         "type": "\"string\""
        },
        {
         "metadata": "{}",
         "name": "ind",
         "type": "\"long\""
        },
        {
         "metadata": "{}",
         "name": "last_name",
         "type": "\"string\""
        }
       ],
       "type": "table"
      }
     },
     "output_type": "display_data"
    }
   ],
   "source": [
    "file_location = \"/mnt/0e06e68acedb_s3_bucket/topics/0e06e68acedb.user/partition=0/*.json\" \n",
    "file_type = \"json\"\n",
    "\n",
    "infer_schema = \"true\"\n",
    "\n",
    "df_user = spark.read.format(file_type) \\\n",
    ".option(\"inferSchema\", infer_schema) \\\n",
    ".load(file_location)\n",
    "\n",
    "display(df_user)"
   ]
  },
  {
   "cell_type": "code",
   "execution_count": null,
   "metadata": {
    "application/vnd.databricks.v1+cell": {
     "cellMetadata": {
      "byteLimit": 2048000,
      "rowLimit": 10000
     },
     "inputWidgets": {},
     "nuid": "f42cb21e-dd45-4bef-8854-25e53be5e6d4",
     "showTitle": false,
     "title": ""
    }
   },
   "outputs": [
    {
     "data": {
      "text/html": [
       "<style scoped>\n",
       "  .table-result-container {\n",
       "    max-height: 300px;\n",
       "    overflow: auto;\n",
       "  }\n",
       "  table, th, td {\n",
       "    border: 1px solid black;\n",
       "    border-collapse: collapse;\n",
       "  }\n",
       "  th, td {\n",
       "    padding: 5px;\n",
       "  }\n",
       "  th {\n",
       "    text-align: left;\n",
       "  }\n",
       "</style><div class='table-result-container'><table class='table-result'><thead style='background-color: white'><tr><th>ind</th><th>unique_id</th><th>title</th><th>description</th><th>follower_count</th><th>poster_name</th><th>tag_list</th><th>is_image_or_video</th><th>image_src</th><th>save_location</th><th>category</th></tr></thead><tbody><tr><td>2482</td><td>08604f20-fa17-4b9a-9949-781717eca6cd</td><td>FORNT PORCH CHRISTMAS DECORATING IDEAS</td><td>Christmas decorating ideas for porches. Beautiful holiday decor ideas for front porches both small and large. Outdoor decorations like sleds, lanterns, Christmas trees, wreaths,… </td><td>46000</td><td>Life on Summerhill | Home, Holiday Decor & DIY Website</td><td>Diy Christmas Decorations For Home,Farmhouse Christmas Decor,Christmas Home,Christmas Holidays,Christmas Front Porches,How To Decorate For Christmas,Christmas Porch Ideas,Christmas Decorating Ideas,Large Outdoor Christmas Decorations</td><td>video</td><td>https://i.pinimg.com/videos/thumbnails/originals/40/83/f5/4083f5b4971bf235f89a4784ab87271e.0000001.jpg</td><td>/data/christmas</td><td>christmas</td></tr><tr><td>10138</td><td>927c4658-cc3f-4b92-9b5c-70743d0c238d</td><td>14 Amazing Things To Do In Costa Rica | Volcanoes, Waterfalls, Wildlife And More</td><td>This Costa Rica itinerary is the ultimate guide to spending two weeks in Costa Rica. Find out about visiting La Fortuna, Arenal, Monteverde, Naranjo, Corcovado National Park, Or… </td><td>10000</td><td>Wanderlust Chloe ✈️ Travel guides, inspo and adventure travel ✈️</td><td>Costa Rica Travel,Rio Celeste Costa Rica,Dream Vacations,Vacation Spots,Vacation Travel,Travel Pictures,Travel Photos,Fortuna Costa Rica,Costa Rica Pictures</td><td>image</td><td>https://i.pinimg.com/originals/30/93/cb/3093cb01d9de2d125fda8ba5e3e41946.jpg</td><td>/data/travel</td><td>travel</td></tr><tr><td>10138</td><td>927c4658-cc3f-4b92-9b5c-70743d0c238d</td><td>14 Amazing Things To Do In Costa Rica | Volcanoes, Waterfalls, Wildlife And More</td><td>This Costa Rica itinerary is the ultimate guide to spending two weeks in Costa Rica. Find out about visiting La Fortuna, Arenal, Monteverde, Naranjo, Corcovado National Park, Or… </td><td>10000</td><td>Wanderlust Chloe ✈️ Travel guides, inspo and adventure travel ✈️</td><td>Costa Rica Travel,Rio Celeste Costa Rica,Dream Vacations,Vacation Spots,Vacation Travel,Travel Pictures,Travel Photos,Fortuna Costa Rica,Costa Rica Pictures</td><td>image</td><td>https://i.pinimg.com/originals/30/93/cb/3093cb01d9de2d125fda8ba5e3e41946.jpg</td><td>/data/travel</td><td>travel</td></tr><tr><td>3156</td><td>fa6e31a4-18c2-4eca-a6d8-e903eee2c2a4</td><td>Handprint Reindeer Ornaments - Crafty Morning</td><td>This post may contain affiliate links, read our Disclosure Policy for more information. As an Amazon Associate I earn from qualifying purchases, thank you! Make some cute handpr… </td><td>892000</td><td>Michelle {CraftyMorning.com}</td><td>Christmas Gifts For Parents,Christmas Decorations For Kids,Christmas Crafts For Toddlers,Preschool Christmas,Christmas Crafts For Gifts,Christmas Activities,Toddler Crafts,Kids Christmas,Christmas Feeling</td><td>image</td><td>https://i.pinimg.com/originals/ff/fe/38/fffe384f3ec18a0d87cb2d80cc8c1499.jpg</td><td>/data/diy-and-crafts</td><td>diy-and-crafts</td></tr><tr><td>3156</td><td>fa6e31a4-18c2-4eca-a6d8-e903eee2c2a4</td><td>Handprint Reindeer Ornaments - Crafty Morning</td><td>This post may contain affiliate links, read our Disclosure Policy for more information. As an Amazon Associate I earn from qualifying purchases, thank you! Make some cute handpr… </td><td>892000</td><td>Michelle {CraftyMorning.com}</td><td>Christmas Gifts For Parents,Christmas Decorations For Kids,Christmas Crafts For Toddlers,Preschool Christmas,Christmas Crafts For Gifts,Christmas Activities,Toddler Crafts,Kids Christmas,Christmas Feeling</td><td>image</td><td>https://i.pinimg.com/originals/ff/fe/38/fffe384f3ec18a0d87cb2d80cc8c1499.jpg</td><td>/data/diy-and-crafts</td><td>diy-and-crafts</td></tr><tr><td>3156</td><td>fa6e31a4-18c2-4eca-a6d8-e903eee2c2a4</td><td>Handprint Reindeer Ornaments - Crafty Morning</td><td>This post may contain affiliate links, read our Disclosure Policy for more information. As an Amazon Associate I earn from qualifying purchases, thank you! Make some cute handpr… </td><td>892000</td><td>Michelle {CraftyMorning.com}</td><td>Christmas Gifts For Parents,Christmas Decorations For Kids,Christmas Crafts For Toddlers,Preschool Christmas,Christmas Crafts For Gifts,Christmas Activities,Toddler Crafts,Kids Christmas,Christmas Feeling</td><td>image</td><td>https://i.pinimg.com/originals/ff/fe/38/fffe384f3ec18a0d87cb2d80cc8c1499.jpg</td><td>/data/diy-and-crafts</td><td>diy-and-crafts</td></tr><tr><td>5494</td><td>8fb2af68-543b-4639-8119-de33d28706ed</td><td>Dave Ramsey's 7 Baby Steps: What Are They And Will They Work For You</td><td>If you love budgeting, make sure to give Dave Ramsey's 7 Baby Steps a try. Follow these steps to begin your debt snowball, build an emergency fund, invest and reach riches. I ca… </td><td>26000</td><td>Living Low Key | Save Money, Make Money, & Frugal Living</td><td>Financial Peace,Financial Tips,Saving Money Quotes,Total Money Makeover,Budgeting Finances,Money Management,Wealth Management,Personal Finance,Making Ideas</td><td>image</td><td>https://i.pinimg.com/originals/1e/9d/90/1e9d906e4e150e3b95187f3b76ea7c71.png</td><td>/data/finance</td><td>finance</td></tr><tr><td>5494</td><td>8fb2af68-543b-4639-8119-de33d28706ed</td><td>Dave Ramsey's 7 Baby Steps: What Are They And Will They Work For You</td><td>If you love budgeting, make sure to give Dave Ramsey's 7 Baby Steps a try. Follow these steps to begin your debt snowball, build an emergency fund, invest and reach riches. I ca… </td><td>26000</td><td>Living Low Key | Save Money, Make Money, & Frugal Living</td><td>Financial Peace,Financial Tips,Saving Money Quotes,Total Money Makeover,Budgeting Finances,Money Management,Wealth Management,Personal Finance,Making Ideas</td><td>image</td><td>https://i.pinimg.com/originals/1e/9d/90/1e9d906e4e150e3b95187f3b76ea7c71.png</td><td>/data/finance</td><td>finance</td></tr><tr><td>5494</td><td>8fb2af68-543b-4639-8119-de33d28706ed</td><td>Dave Ramsey's 7 Baby Steps: What Are They And Will They Work For You</td><td>If you love budgeting, make sure to give Dave Ramsey's 7 Baby Steps a try. Follow these steps to begin your debt snowball, build an emergency fund, invest and reach riches. I ca… </td><td>26000</td><td>Living Low Key | Save Money, Make Money, & Frugal Living</td><td>Financial Peace,Financial Tips,Saving Money Quotes,Total Money Makeover,Budgeting Finances,Money Management,Wealth Management,Personal Finance,Making Ideas</td><td>image</td><td>https://i.pinimg.com/originals/1e/9d/90/1e9d906e4e150e3b95187f3b76ea7c71.png</td><td>/data/finance</td><td>finance</td></tr><tr><td>2418</td><td>da8745a6-5160-46c4-877d-181d50a729fd</td><td>100 DIY Christmas Centerpieces You'll Love To Decorate Your Home With For The Christmas Season - Hike n Dip</td><td>Here are the best DIY Christmas Centerpieces ideas perfect for your Christmas & holiday season home decor. From Christmas Vignettes to Table Centerpieces.</td><td>500000</td><td>HikenDip</td><td>Farmhouse Christmas Decor,Rustic Christmas,Christmas Time,Vintage Christmas,Xmas,Primitive Christmas Crafts,Christmas Vignette,Indoor Christmas Decorations,Diy Christmas Ornaments</td><td>image</td><td>https://i.pinimg.com/originals/aa/6d/0f/aa6d0f44d7c1c96b998cb9aa6c4446b8.png</td><td>/data/christmas</td><td>christmas</td></tr><tr><td>2418</td><td>da8745a6-5160-46c4-877d-181d50a729fd</td><td>100 DIY Christmas Centerpieces You'll Love To Decorate Your Home With For The Christmas Season - Hike n Dip</td><td>Here are the best DIY Christmas Centerpieces ideas perfect for your Christmas & holiday season home decor. From Christmas Vignettes to Table Centerpieces.</td><td>500000</td><td>HikenDip</td><td>Farmhouse Christmas Decor,Rustic Christmas,Christmas Time,Vintage Christmas,Xmas,Primitive Christmas Crafts,Christmas Vignette,Indoor Christmas Decorations,Diy Christmas Ornaments</td><td>image</td><td>https://i.pinimg.com/originals/aa/6d/0f/aa6d0f44d7c1c96b998cb9aa6c4446b8.png</td><td>/data/christmas</td><td>christmas</td></tr><tr><td>2418</td><td>da8745a6-5160-46c4-877d-181d50a729fd</td><td>100 DIY Christmas Centerpieces You'll Love To Decorate Your Home With For The Christmas Season - Hike n Dip</td><td>Here are the best DIY Christmas Centerpieces ideas perfect for your Christmas & holiday season home decor. From Christmas Vignettes to Table Centerpieces.</td><td>500000</td><td>HikenDip</td><td>Farmhouse Christmas Decor,Rustic Christmas,Christmas Time,Vintage Christmas,Xmas,Primitive Christmas Crafts,Christmas Vignette,Indoor Christmas Decorations,Diy Christmas Ornaments</td><td>image</td><td>https://i.pinimg.com/originals/aa/6d/0f/aa6d0f44d7c1c96b998cb9aa6c4446b8.png</td><td>/data/christmas</td><td>christmas</td></tr><tr><td>7922</td><td>a584581c-1b38-4731-a1cc-f36115ecf229</td><td>45 Top Life Quotes School Did Not Teach You</td><td>summcoco gives you inspiration for the women fashion trends you want. Thinking about a new look or lifestyle? This is your ultimate resource to get the hottest trends. 45 Top Li… </td><td>306000</td><td>Sumcoco | Decor Ideas, Hairstyles, Nails Fashion Advice</td><td>Life Quotes Love,Inspirational Quotes About Love,Mood Quotes,Motivational Quotes,Tears Quotes,Quotes About Sadness,Deep Quotes About Life,Quotes Quotes,Quote Life</td><td>image</td><td>https://i.pinimg.com/originals/bb/c0/e6/bbc0e6a797079505f11ac12bcb0b8c66.jpg</td><td>/data/quotes</td><td>quotes</td></tr><tr><td>4508</td><td>9064f4a2-2753-476c-815e-db360f45a93e</td><td>Custom Event and Shop Neon Sign Lights - Event & Shop</td><td>Personalize your event or shop with a customized neon sign. Make a statement with your own custom vibes! This light is 32 -40 inches (80cm-100cm) if you need something bigger, p… </td><td>111</td><td>Life of Neon | Custom Neon Light Signs | Home Decor Wall Art</td><td>Our Wedding,Wedding Venues,Dream Wedding,Wedding Cakes,Church Wedding,Wedding Flowers,Lace Wedding,Wedding Rings,Wedding Dresses</td><td>image</td><td>https://i.pinimg.com/originals/e9/c0/7c/e9c07cf0cf16cab23764a36718ab76c1.jpg</td><td>/data/event-planning</td><td>event-planning</td></tr><tr><td>9979</td><td>2b2abc85-fc51-481f-8ae6-17681993da28</td><td>Paris in the Summer. 10 fun things to do in Paris in the Summertime • Petite in Paris</td><td>Are you traveling to Paris during the summer? Find out what to do in Paris, France during the summer. Fun summertime activities in Paris. Enjoy the incredible outdoors when trav… </td><td>3000</td><td>Petite in Paris</td><td>Torre Eiffel Paris,Tour Eiffel,Picnic In Paris,Hello France,Voyage Europe,Destination Voyage,Beautiful Places To Travel,Travel Aesthetic,Paris Travel</td><td>image</td><td>https://i.pinimg.com/originals/6c/4c/90/6c4c90bba27ebf8c8bfe4c1acfb9f07a.jpg</td><td>/data/travel</td><td>travel</td></tr><tr><td>9979</td><td>2b2abc85-fc51-481f-8ae6-17681993da28</td><td>Paris in the Summer. 10 fun things to do in Paris in the Summertime • Petite in Paris</td><td>Are you traveling to Paris during the summer? Find out what to do in Paris, France during the summer. Fun summertime activities in Paris. Enjoy the incredible outdoors when trav… </td><td>3000</td><td>Petite in Paris</td><td>Torre Eiffel Paris,Tour Eiffel,Picnic In Paris,Hello France,Voyage Europe,Destination Voyage,Beautiful Places To Travel,Travel Aesthetic,Paris Travel</td><td>image</td><td>https://i.pinimg.com/originals/6c/4c/90/6c4c90bba27ebf8c8bfe4c1acfb9f07a.jpg</td><td>/data/travel</td><td>travel</td></tr><tr><td>9759</td><td>d105eb6e-0f9f-46e7-8d02-d24b62f6ae90</td><td>8 Best Greek Islands You Have To Visit - TheFab20s</td><td>Although you'd think Greek islands are fairly similar, you'd be completely wrong! Each island has it's own personality and appeal. Here are the 8 Best Greek Islands to visit, es… </td><td>42000</td><td>TheFab20s | Travel+Food+DIY+Listicles</td><td>Greek Islands To Visit,Best Greek Islands,Greece Islands,Cool Places To Visit,Places To Go,Best Places In Portugal,Copenhagen Travel,Paros Island,Santorini Island</td><td>image</td><td>https://i.pinimg.com/originals/06/1d/ce/061dce38929dec8e74844442116bea4a.jpg</td><td>/data/travel</td><td>travel</td></tr><tr><td>2698</td><td>73f16302-4871-486a-8836-947530526337</td><td>DIY Dollar Tree Valentine's Day Wreath</td><td>DIY Dollar Store Valentine’s Day Heart Wreath Decoration. There are so many great Valentine crafts at the Dollar Tree right now! During our last trip, we picked up a few supplie… </td><td>9000</td><td>South Lumina Style</td><td>Valentine Day Wreaths,Valentines Day Hearts,Valentines Day Decorations,Valentine Day Crafts,Holiday Crafts,Diy Christmas,Christmas Wreaths,Valentine Tree,Printable Valentine</td><td>image</td><td>https://i.pinimg.com/originals/dc/f6/8a/dcf68adcc63c339c24fa5664f1115994.png</td><td>/data/diy-and-crafts</td><td>diy-and-crafts</td></tr><tr><td>6145</td><td>82e13a07-db99-43a3-b1c0-89a4b75821da</td><td>HOLIDAY MANTLE DECOR - @AMAZON & @TARGET FINDS</td><td>Holiday mantle decor, Christmas decor, metallic mercury glass style Christmas trees, eucalyptus vine, evergreen pine branches, white neutral holiday decor, cozy mantle for the h… </td><td>83000</td><td>Stylin by Aylin</td><td>Winter Home Decor,Christmas Living Room Decor,Living Room Decor Cozy,Christmas Decor,Cozy Fireplace,Rustic Fireplace Decor,Fireplace Decorations,Rustic Room,House Decorations</td><td>image</td><td>https://i.pinimg.com/originals/9d/82/1a/9d821a80acd8f90c16454e978bd9b115.jpg</td><td>/data/home-decor</td><td>home-decor</td></tr><tr><td>6145</td><td>82e13a07-db99-43a3-b1c0-89a4b75821da</td><td>HOLIDAY MANTLE DECOR - @AMAZON & @TARGET FINDS</td><td>Holiday mantle decor, Christmas decor, metallic mercury glass style Christmas trees, eucalyptus vine, evergreen pine branches, white neutral holiday decor, cozy mantle for the h… </td><td>83000</td><td>Stylin by Aylin</td><td>Winter Home Decor,Christmas Living Room Decor,Living Room Decor Cozy,Christmas Decor,Cozy Fireplace,Rustic Fireplace Decor,Fireplace Decorations,Rustic Room,House Decorations</td><td>image</td><td>https://i.pinimg.com/originals/9d/82/1a/9d821a80acd8f90c16454e978bd9b115.jpg</td><td>/data/home-decor</td><td>home-decor</td></tr><tr><td>6145</td><td>82e13a07-db99-43a3-b1c0-89a4b75821da</td><td>HOLIDAY MANTLE DECOR - @AMAZON & @TARGET FINDS</td><td>Holiday mantle decor, Christmas decor, metallic mercury glass style Christmas trees, eucalyptus vine, evergreen pine branches, white neutral holiday decor, cozy mantle for the h… </td><td>83000</td><td>Stylin by Aylin</td><td>Winter Home Decor,Christmas Living Room Decor,Living Room Decor Cozy,Christmas Decor,Cozy Fireplace,Rustic Fireplace Decor,Fireplace Decorations,Rustic Room,House Decorations</td><td>image</td><td>https://i.pinimg.com/originals/9d/82/1a/9d821a80acd8f90c16454e978bd9b115.jpg</td><td>/data/home-decor</td><td>home-decor</td></tr><tr><td>1704</td><td>5fbf9863-fb79-477c-a5b6-540c3020a55f</td><td>Christmas Trees From Pallet Wood | Holiday DIY</td><td>Christmas Trees From Pallet Wood | Holiday DIY: Deck the yard with some fun outdoor Christmas Trees! We made these merry and bright decorations from two old pallets we had lying… </td><td>null</td><td>Instructables</td><td>Pallet Wood Christmas Tree,Wooden Christmas Crafts,Diy Christmas Tree,Christmas Projects,Holiday Crafts,Wooden Xmas Trees,Different Christmas Trees,Pallet Tree,Christmas Kitchen</td><td>image</td><td>https://i.pinimg.com/originals/64/7b/ca/647bca35169b7c144604116c64bcba8a.png</td><td>/data/christmas</td><td>christmas</td></tr><tr><td>4315</td><td>21b59ba9-829d-4c33-8c27-4cd4c56d26b8</td><td>Podcasts for Teachers or Parents of Teenagers</td><td>Podcasts for Teachers or Parents of Teenagers: Teaching teens middle school and high school can feel joyful and rewarding most days, but can also frustrate you with one challeng… </td><td>25000</td><td>Math Giraffe</td><td>Middle School Classroom,High School Students,High School Teachers,Middle School Tips,High School Counseling,Ela Classroom,High School Science,Future Classroom,Google Classroom</td><td>image</td><td>https://i.pinimg.com/originals/50/19/31/501931a27ee4d076658980851b995b2c.jpg</td><td>/data/education</td><td>education</td></tr><tr><td>4315</td><td>21b59ba9-829d-4c33-8c27-4cd4c56d26b8</td><td>Podcasts for Teachers or Parents of Teenagers</td><td>Podcasts for Teachers or Parents of Teenagers: Teaching teens middle school and high school can feel joyful and rewarding most days, but can also frustrate you with one challeng… </td><td>25000</td><td>Math Giraffe</td><td>Middle School Classroom,High School Students,High School Teachers,Middle School Tips,High School Counseling,Ela Classroom,High School Science,Future Classroom,Google Classroom</td><td>image</td><td>https://i.pinimg.com/originals/50/19/31/501931a27ee4d076658980851b995b2c.jpg</td><td>/data/education</td><td>education</td></tr><tr><td>5069</td><td>b75b6f87-deb3-444f-b29e-ce9161b2df49</td><td>The Vault: Curated & Refined Wedding Inspiration</td><td>Sacramento California Wedding 2 Chic Events & Design Jodi Yorston Photography Wilson Vineyards Barn Miosa Couture Yellow Barn Vineyard Outdoor Candles DIY</td><td>null</td><td>Style Me Pretty</td><td>60th Anniversary Parties,Anniversary Decorations,Golden Anniversary,25th Wedding Anniversary,Anniversary Pictures,Anniversary Ideas,Birthday Decorations,Event Planning Design,Event Design</td><td>image</td><td>https://i.pinimg.com/originals/7e/45/90/7e45905fefa36347e83333fd6d091140.jpg</td><td>/data/event-planning</td><td>event-planning</td></tr><tr><td>5069</td><td>b75b6f87-deb3-444f-b29e-ce9161b2df49</td><td>The Vault: Curated & Refined Wedding Inspiration</td><td>Sacramento California Wedding 2 Chic Events & Design Jodi Yorston Photography Wilson Vineyards Barn Miosa Couture Yellow Barn Vineyard Outdoor Candles DIY</td><td>null</td><td>Style Me Pretty</td><td>60th Anniversary Parties,Anniversary Decorations,Golden Anniversary,25th Wedding Anniversary,Anniversary Pictures,Anniversary Ideas,Birthday Decorations,Event Planning Design,Event Design</td><td>image</td><td>https://i.pinimg.com/originals/7e/45/90/7e45905fefa36347e83333fd6d091140.jpg</td><td>/data/event-planning</td><td>event-planning</td></tr><tr><td>7343</td><td>b8c63a95-6fe8-4d7f-9455-1eef3462fee0</td><td>This Fashion Rule Is Nonsense, And We Should All Forget About It</td><td>Black And Brown Outfits You Need To Try This Fall Season. The trick with black and brown outfits is to know how to combine colors, fabrics, and shapes to get a cohesive look. So… </td><td>null</td><td>Cultura Colectiva</td><td>Winter Outfits Men,Stylish Mens Outfits,Casual Outfits,Men Casual,Smart Casual,Outfits For Men,Fall Outfits,Mens Winter Boots,Business Casual Men</td><td>image</td><td>https://i.pinimg.com/originals/3e/49/09/3e4909c0ccc4dbba3cad83d97eab4a61.png</td><td>/data/mens-fashion</td><td>mens-fashion</td></tr><tr><td>5069</td><td>b75b6f87-deb3-444f-b29e-ce9161b2df49</td><td>The Vault: Curated & Refined Wedding Inspiration</td><td>Sacramento California Wedding 2 Chic Events & Design Jodi Yorston Photography Wilson Vineyards Barn Miosa Couture Yellow Barn Vineyard Outdoor Candles DIY</td><td>null</td><td>Style Me Pretty</td><td>60th Anniversary Parties,Anniversary Decorations,Golden Anniversary,25th Wedding Anniversary,Anniversary Pictures,Anniversary Ideas,Birthday Decorations,Event Planning Design,Event Design</td><td>image</td><td>https://i.pinimg.com/originals/7e/45/90/7e45905fefa36347e83333fd6d091140.jpg</td><td>/data/event-planning</td><td>event-planning</td></tr><tr><td>7343</td><td>b8c63a95-6fe8-4d7f-9455-1eef3462fee0</td><td>This Fashion Rule Is Nonsense, And We Should All Forget About It</td><td>Black And Brown Outfits You Need To Try This Fall Season. The trick with black and brown outfits is to know how to combine colors, fabrics, and shapes to get a cohesive look. So… </td><td>null</td><td>Cultura Colectiva</td><td>Winter Outfits Men,Stylish Mens Outfits,Casual Outfits,Men Casual,Smart Casual,Outfits For Men,Fall Outfits,Mens Winter Boots,Business Casual Men</td><td>image</td><td>https://i.pinimg.com/originals/3e/49/09/3e4909c0ccc4dbba3cad83d97eab4a61.png</td><td>/data/mens-fashion</td><td>mens-fashion</td></tr><tr><td>8606</td><td>71757040-bfc8-4631-9cac-22801e61d9e3</td><td>30+ Eagle Tattoos Ideas for Women</td><td>summcoco gives you inspiration for the women fashion trends you want. Thinking about a new look or lifestyle? This is your ultimate resource to get the hottest trends. 30+ Eagle… </td><td>306000</td><td>Sumcoco | Decor Ideas, Hairstyles, Nails Fashion Advice</td><td>White Bird Tattoos,Rose Tattoos,Flower Tattoos,Tattoo Black,Bird And Flower Tattoo,Tattoo Floral,Mini Tattoos,Flower Art,Girls With Sleeve Tattoos</td><td>image</td><td>https://i.pinimg.com/originals/8d/c6/ed/8dc6ed0b212393187a14c7d07a88060f.png</td><td>/data/tattoos</td><td>tattoos</td></tr><tr><td>6063</td><td>60693727-4927-4bd6-a8c5-096a392d63e6</td><td>41 Gorgeous Fall Decor Ideas For Your Home - Chaylor & Mads</td><td>Beautiful and easy ways to update every room in your home with fall decor. Plus, my favorite finds in fall decor for 2020!</td><td>92000</td><td>Kristen | Lifestyle, Mom Tips & Teacher Stuff Blog</td><td>Fall Home Decor,Autumn Home,Fall Decor Outdoor,Front Porch Fall Decor,Home Decor Ideas,Porch Ideas For Fall,Fall Outdoor Decorating,Decorating Ideas For Fall,Fall Front Doors</td><td>image</td><td>https://i.pinimg.com/originals/e5/ae/dc/e5aedc14ce557e3a69f672e0f8c88f6e.png</td><td>/data/home-decor</td><td>home-decor</td></tr><tr><td>6063</td><td>60693727-4927-4bd6-a8c5-096a392d63e6</td><td>41 Gorgeous Fall Decor Ideas For Your Home - Chaylor & Mads</td><td>Beautiful and easy ways to update every room in your home with fall decor. Plus, my favorite finds in fall decor for 2020!</td><td>92000</td><td>Kristen | Lifestyle, Mom Tips & Teacher Stuff Blog</td><td>Fall Home Decor,Autumn Home,Fall Decor Outdoor,Front Porch Fall Decor,Home Decor Ideas,Porch Ideas For Fall,Fall Outdoor Decorating,Decorating Ideas For Fall,Fall Front Doors</td><td>image</td><td>https://i.pinimg.com/originals/e5/ae/dc/e5aedc14ce557e3a69f672e0f8c88f6e.png</td><td>/data/home-decor</td><td>home-decor</td></tr><tr><td>6063</td><td>60693727-4927-4bd6-a8c5-096a392d63e6</td><td>41 Gorgeous Fall Decor Ideas For Your Home - Chaylor & Mads</td><td>Beautiful and easy ways to update every room in your home with fall decor. Plus, my favorite finds in fall decor for 2020!</td><td>92000</td><td>Kristen | Lifestyle, Mom Tips & Teacher Stuff Blog</td><td>Fall Home Decor,Autumn Home,Fall Decor Outdoor,Front Porch Fall Decor,Home Decor Ideas,Porch Ideas For Fall,Fall Outdoor Decorating,Decorating Ideas For Fall,Fall Front Doors</td><td>image</td><td>https://i.pinimg.com/originals/e5/ae/dc/e5aedc14ce557e3a69f672e0f8c88f6e.png</td><td>/data/home-decor</td><td>home-decor</td></tr><tr><td>5076</td><td>fa3af29c-dc78-4eed-a4c5-52a407ea04c0</td><td>Quiz: Test Your Event IQ! - Pointers For Planners</td><td>So you're thinking of getting your event planner certification, but how much do you REALLY know about event planning? Event planners need to be knowledgeable and able to answer… </td><td>5000</td><td>QC Career School</td><td>Diy Wedding Food,Best Wedding Makeup,Wedding Events,Wedding Tips,Wedding Stuff,Weddings,Event Planning Business,Business Events,Wedding Makeup Tutorial</td><td>image</td><td>https://i.pinimg.com/originals/6f/19/bc/6f19bce24921bf843540fc04da9eb6bf.jpg</td><td>/data/event-planning</td><td>event-planning</td></tr><tr><td>4137</td><td>bf275054-4464-448b-9143-1bf101aa366d</td><td>15 Essential Classroom Items For First Year Teachers / First Year Teacher Must Haves</td><td>15 Essential Classroom Items For First Year Teachers / First Year Teacher Must Haves</td><td>5000</td><td>Write Your Story | Budgeting, Healthy Lifestyle, Faith</td><td>1st Year Teachers,First Year Teaching,First Grade Teachers,Elementary Teacher,Montessori Elementary,Teaching Reading,History Teachers,High School Classroom,First Grade Classroom</td><td>image</td><td>https://i.pinimg.com/originals/4b/b9/a8/4bb9a85f609a8384ed9c9ab14e7bcea0.jpg</td><td>/data/education</td><td>education</td></tr><tr><td>2411</td><td>4e11801e-7a64-4f1e-90dd-e900677595c5</td><td>The Sweetest Gingerbread House Ornaments Kids Can Make</td><td>Transform mini terra cotta pots into the sweetest gingerbread house ornaments! Kids will love making this adorable Christmas craft to hang on the tree.</td><td>20000</td><td>Projects with Kids</td><td>Noel Christmas,Diy Christmas Ornaments,Homemade Christmas,Simple Christmas,Gingerbread Ornaments,Christmas Gingerbread,Gingerbread Houses,Preschool Christmas,Ornaments Ideas</td><td>image</td><td>https://i.pinimg.com/originals/13/28/09/1328097d7c290d1bf8642b01a6ba1c6c.jpg</td><td>/data/christmas</td><td>christmas</td></tr><tr><td>7166</td><td>4a844b03-e161-47a1-904b-591eb5dc4fb1</td><td>The Killers - Mr. Brightside - Women's T-Shirt - Heather Dark Grey / S</td><td>Women's T-shirt. Design inspired by the rock band The Killers' hit \"Mr. Brightside\". One of the greatest song from the album Hot Fuss released in 2004. Soft and light, 100% cott… </td><td>27</td><td>Mala Rock | Rock T-shirts</td><td>Mr Brightside,Rock T Shirts,Greatest Songs,Timeless Classic,Rock Bands,Album,T Shirts For Women,Inspired,Hot</td><td>image</td><td>https://i.pinimg.com/originals/8c/42/39/8c42391d35fcad51a4a79f7cd81bf26d.jpg</td><td>/data/mens-fashion</td><td>mens-fashion</td></tr><tr><td>8930</td><td>a2999c28-f7b2-4577-af87-49d21d6d8a18</td><td>135 Sunflower Tattoo Ideas - [Best Rated Designs in 2021]</td><td>We have put together the Ultimative Sunflower Tattoo Collection in 2020. Check out our highest rated handpicked Sunflower designs here!</td><td>800000</td><td>Next Luxury</td><td>Sunflower Tattoo Sleeve,Sunflower Tattoo Shoulder,Sunflower Tattoo Small,Sunflower Tattoos,Sunflower Tattoo Design,Shoulder Tattoo,Sunflower Mandala Tattoo,Sunflower Tattoo Meaning,Form Tattoo</td><td>image</td><td>https://i.pinimg.com/originals/18/de/6c/18de6c81a8637e224c7d63dce1414ceb.jpg</td><td>/data/tattoos</td><td>tattoos</td></tr><tr><td>9672</td><td>1a5050a4-ac82-472c-aeff-3457de8bbee9</td><td>Lake Moraine, Banff, Canada</td><td>On our Calgary to Vancouver road trip we got to spend time in Banff, Canada. We visited the stunning Lake Moraine as well as Lake Louise and plenty of other of Canada's natural… </td><td>7000</td><td>Travel Mad Mum</td><td>Beautiful Places To Travel,Cool Places To Visit,Beautiful Roads,Beautiful Scenery,Wonderful Places,Lac Moraine,Moraine Lake,Lac Louise,Natur Wallpaper</td><td>video</td><td>https://i.pinimg.com/videos/thumbnails/originals/57/9d/52/579d52242ae5609978c754d393e44e81.0000001.jpg</td><td>/data/travel</td><td>travel</td></tr><tr><td>9672</td><td>1a5050a4-ac82-472c-aeff-3457de8bbee9</td><td>Lake Moraine, Banff, Canada</td><td>On our Calgary to Vancouver road trip we got to spend time in Banff, Canada. We visited the stunning Lake Moraine as well as Lake Louise and plenty of other of Canada's natural… </td><td>7000</td><td>Travel Mad Mum</td><td>Beautiful Places To Travel,Cool Places To Visit,Beautiful Roads,Beautiful Scenery,Wonderful Places,Lac Moraine,Moraine Lake,Lac Louise,Natur Wallpaper</td><td>video</td><td>https://i.pinimg.com/videos/thumbnails/originals/57/9d/52/579d52242ae5609978c754d393e44e81.0000001.jpg</td><td>/data/travel</td><td>travel</td></tr><tr><td>7294</td><td>9d8409ef-bea7-4133-a021-c58b9c042210</td><td>Foolproof Fall Fashion For Men You'll Love</td><td>Looking for the coolest fall fashion for men this season? Click to read this article on fall fashion for men to look sharp on LLEGANCE.</td><td>28000</td><td>LLEGANCE | Workwear Fashion Woman Advice For Driven Professionals</td><td>Fashion 90s,Autumn Fashion,Fashion Ideas,Trendy Fashion,Fashion Photo,Fashion Outfits,Fashion Trends,Urban Fashion Men,Men's Casual Fashion</td><td>image</td><td>https://i.pinimg.com/originals/4c/bf/2d/4cbf2d6e04d2502612169220553f4cef.jpg</td><td>/data/mens-fashion</td><td>mens-fashion</td></tr><tr><td>4913</td><td>4d2d79c6-9ca8-46c9-a38e-931c5d967804</td><td>How to Work From Home as an Event Planner</td><td>Do you love planning parties? Do you want to work-at-home? This post covers everything you need to know about becoming a home-based event planner!</td><td>110000</td><td>The Work at Home Woman</td><td>Event Planning Tips,Event Planning Business,Party Planning,Business Ideas,Craft Business,Business Chic,Business Inspiration,Business Goals,Business Opportunities</td><td>image</td><td>https://i.pinimg.com/originals/4d/a3/a4/4da3a4730418239f1b43ce81fb032c15.jpg</td><td>/data/event-planning</td><td>event-planning</td></tr><tr><td>2959</td><td>439cac4b-18e8-4aaa-88c5-edb26a701111</td><td>The Cutest Toilet Paper Crafts</td><td>One thing I love about Crafts is how the evolve! These toilet paper rolls are adorable and modern. I love that something as simple as a recycled toilet paper roll can be taken t… </td><td>502000</td><td>CraftGossip.com</td><td>Toilet Paper Roll Crafts,Cardboard Crafts,Diy Paper,Paper Crafting,Toilet Paper Rolls,Cardboard Playhouse,Paper Art,Kids Crafts,Toddler Crafts</td><td>image</td><td>https://i.pinimg.com/originals/c6/cd/0d/c6cd0d04da9cfc11566cfd34eeb1f918.jpg</td><td>/data/diy-and-crafts</td><td>diy-and-crafts</td></tr><tr><td>2959</td><td>439cac4b-18e8-4aaa-88c5-edb26a701111</td><td>The Cutest Toilet Paper Crafts</td><td>One thing I love about Crafts is how the evolve! These toilet paper rolls are adorable and modern. I love that something as simple as a recycled toilet paper roll can be taken t… </td><td>502000</td><td>CraftGossip.com</td><td>Toilet Paper Roll Crafts,Cardboard Crafts,Diy Paper,Paper Crafting,Toilet Paper Rolls,Cardboard Playhouse,Paper Art,Kids Crafts,Toddler Crafts</td><td>image</td><td>https://i.pinimg.com/originals/c6/cd/0d/c6cd0d04da9cfc11566cfd34eeb1f918.jpg</td><td>/data/diy-and-crafts</td><td>diy-and-crafts</td></tr><tr><td>2959</td><td>439cac4b-18e8-4aaa-88c5-edb26a701111</td><td>The Cutest Toilet Paper Crafts</td><td>One thing I love about Crafts is how the evolve! These toilet paper rolls are adorable and modern. I love that something as simple as a recycled toilet paper roll can be taken t… </td><td>502000</td><td>CraftGossip.com</td><td>Toilet Paper Roll Crafts,Cardboard Crafts,Diy Paper,Paper Crafting,Toilet Paper Rolls,Cardboard Playhouse,Paper Art,Kids Crafts,Toddler Crafts</td><td>image</td><td>https://i.pinimg.com/originals/c6/cd/0d/c6cd0d04da9cfc11566cfd34eeb1f918.jpg</td><td>/data/diy-and-crafts</td><td>diy-and-crafts</td></tr><tr><td>9875</td><td>782dcbad-ff91-40a6-ba60-216efe29adb7</td><td>European Bucket List: 35 Things NOT To Miss When Traveling Europe</td><td>35 European bucket list destinations for any traveler heading to Europe. From Cinque Terre, Italy to Iceland - there are so many amazing sites to see in Europe.</td><td>28000</td><td>Nicki </td><td>Backpacking Europe,Europe Travel Guide,Travel Guides,Travel Packing,Traveling Europe,Travelling,Travel Backpack,Budget Travel,2 Week Europe Itinerary</td><td>image</td><td>https://i.pinimg.com/originals/71/04/1a/71041ad83ede43d9665741e719c58a86.jpg</td><td>/data/travel</td><td>travel</td></tr><tr><td>428</td><td>610b3f83-9fe0-469d-946c-d16b577fca71</td><td>Fashion Designer Isaac Mizrahi’s Updated 1930s New York City Apartment</td><td>Fashion designer Issac Mizrahi’s Greenwich Village home is an amalgamation of three apartments that was 20 years in the making</td><td>null</td><td>Architectural Digest</td><td>Modern Art,Contemporary Art,Contemporary Kitchens,Contemporary Bedroom,New York City Apartment,Manhattan Apartment,Art Moderne,Architectural Digest,Painting Inspiration</td><td>image</td><td>https://i.pinimg.com/originals/f4/6c/54/f46c546a2e480022a42d842b7dca157e.jpg</td><td>/data/art</td><td>art</td></tr><tr><td>9875</td><td>782dcbad-ff91-40a6-ba60-216efe29adb7</td><td>European Bucket List: 35 Things NOT To Miss When Traveling Europe</td><td>35 European bucket list destinations for any traveler heading to Europe. From Cinque Terre, Italy to Iceland - there are so many amazing sites to see in Europe.</td><td>28000</td><td>Nicki </td><td>Backpacking Europe,Europe Travel Guide,Travel Guides,Travel Packing,Traveling Europe,Travelling,Travel Backpack,Budget Travel,2 Week Europe Itinerary</td><td>image</td><td>https://i.pinimg.com/originals/71/04/1a/71041ad83ede43d9665741e719c58a86.jpg</td><td>/data/travel</td><td>travel</td></tr><tr><td>428</td><td>610b3f83-9fe0-469d-946c-d16b577fca71</td><td>Fashion Designer Isaac Mizrahi’s Updated 1930s New York City Apartment</td><td>Fashion designer Issac Mizrahi’s Greenwich Village home is an amalgamation of three apartments that was 20 years in the making</td><td>null</td><td>Architectural Digest</td><td>Modern Art,Contemporary Art,Contemporary Kitchens,Contemporary Bedroom,New York City Apartment,Manhattan Apartment,Art Moderne,Architectural Digest,Painting Inspiration</td><td>image</td><td>https://i.pinimg.com/originals/f4/6c/54/f46c546a2e480022a42d842b7dca157e.jpg</td><td>/data/art</td><td>art</td></tr><tr><td>9875</td><td>782dcbad-ff91-40a6-ba60-216efe29adb7</td><td>European Bucket List: 35 Things NOT To Miss When Traveling Europe</td><td>35 European bucket list destinations for any traveler heading to Europe. From Cinque Terre, Italy to Iceland - there are so many amazing sites to see in Europe.</td><td>28000</td><td>Nicki </td><td>Backpacking Europe,Europe Travel Guide,Travel Guides,Travel Packing,Traveling Europe,Travelling,Travel Backpack,Budget Travel,2 Week Europe Itinerary</td><td>image</td><td>https://i.pinimg.com/originals/71/04/1a/71041ad83ede43d9665741e719c58a86.jpg</td><td>/data/travel</td><td>travel</td></tr><tr><td>428</td><td>610b3f83-9fe0-469d-946c-d16b577fca71</td><td>Fashion Designer Isaac Mizrahi’s Updated 1930s New York City Apartment</td><td>Fashion designer Issac Mizrahi’s Greenwich Village home is an amalgamation of three apartments that was 20 years in the making</td><td>null</td><td>Architectural Digest</td><td>Modern Art,Contemporary Art,Contemporary Kitchens,Contemporary Bedroom,New York City Apartment,Manhattan Apartment,Art Moderne,Architectural Digest,Painting Inspiration</td><td>image</td><td>https://i.pinimg.com/originals/f4/6c/54/f46c546a2e480022a42d842b7dca157e.jpg</td><td>/data/art</td><td>art</td></tr><tr><td>3454</td><td>46bd3f86-b09d-4e29-9033-7ff2df595e51</td><td>What can you use to color resin?</td><td>HELPFUL RESOURCES – Check out my resin colorants resources page here with links to all the products mentioned in this article (and more). Let me know if you have any that you lo… </td><td>6000</td><td>Mixed Media Crafts</td><td>Epoxy Resin Art,Diy Resin Art,Diy Resin Crafts,Resin Molds,Ice Resin,Resin Pour,Diy Epoxy,Diy Resin Painting,Diy Resin Dice</td><td>image</td><td>https://i.pinimg.com/originals/d4/12/78/d4127833023ca32600571ddca16f1556.jpg</td><td>/data/diy-and-crafts</td><td>diy-and-crafts</td></tr><tr><td>3454</td><td>46bd3f86-b09d-4e29-9033-7ff2df595e51</td><td>What can you use to color resin?</td><td>HELPFUL RESOURCES – Check out my resin colorants resources page here with links to all the products mentioned in this article (and more). Let me know if you have any that you lo… </td><td>6000</td><td>Mixed Media Crafts</td><td>Epoxy Resin Art,Diy Resin Art,Diy Resin Crafts,Resin Molds,Ice Resin,Resin Pour,Diy Epoxy,Diy Resin Painting,Diy Resin Dice</td><td>image</td><td>https://i.pinimg.com/originals/d4/12/78/d4127833023ca32600571ddca16f1556.jpg</td><td>/data/diy-and-crafts</td><td>diy-and-crafts</td></tr><tr><td>3454</td><td>46bd3f86-b09d-4e29-9033-7ff2df595e51</td><td>What can you use to color resin?</td><td>HELPFUL RESOURCES – Check out my resin colorants resources page here with links to all the products mentioned in this article (and more). Let me know if you have any that you lo… </td><td>6000</td><td>Mixed Media Crafts</td><td>Epoxy Resin Art,Diy Resin Art,Diy Resin Crafts,Resin Molds,Ice Resin,Resin Pour,Diy Epoxy,Diy Resin Painting,Diy Resin Dice</td><td>image</td><td>https://i.pinimg.com/originals/d4/12/78/d4127833023ca32600571ddca16f1556.jpg</td><td>/data/diy-and-crafts</td><td>diy-and-crafts</td></tr><tr><td>5730</td><td>1e1f0c8b-9fcf-460b-9154-c775827206eb</td><td>Island Oasis Coupon Organizer</td><td>Description Coupon Organizer in a fun colorful fabric -island oasis, Great Size for the \"basic\" couponer - holds up to 500 coupons with ease, and is made long enough so that you… </td><td>0</td><td>Consuelo Aguirre</td><td>Grocery Items,Grocery Coupons,Care Organization,Coupon Organization,Extreme Couponing,Couponing 101,Life Binder,Save My Money,Love Coupons</td><td>image</td><td>https://i.pinimg.com/originals/65/bb/ea/65bbeaf458907bb079317d8303c4fa0e.jpg</td><td>/data/finance</td><td>finance</td></tr><tr><td>5730</td><td>1e1f0c8b-9fcf-460b-9154-c775827206eb</td><td>Island Oasis Coupon Organizer</td><td>Description Coupon Organizer in a fun colorful fabric -island oasis, Great Size for the \"basic\" couponer - holds up to 500 coupons with ease, and is made long enough so that you… </td><td>0</td><td>Consuelo Aguirre</td><td>Grocery Items,Grocery Coupons,Care Organization,Coupon Organization,Extreme Couponing,Couponing 101,Life Binder,Save My Money,Love Coupons</td><td>image</td><td>https://i.pinimg.com/originals/65/bb/ea/65bbeaf458907bb079317d8303c4fa0e.jpg</td><td>/data/finance</td><td>finance</td></tr><tr><td>719</td><td>d7c53e34-9540-4f48-a31b-89b6ed1852bb</td><td>10 Art Sub Lessons that only need a Pencil</td><td>10 art sub lessons that only need a pencil. Cover lessons for art teachers. Make the perfect art sub lessson folder with this amazing resources.</td><td>25000</td><td>The Arty Teacher</td><td>Art Lessons For Kids,Art Lessons Elementary,Art For Kids,Art Sub Plans,Art Lesson Plans,Art Substitute Plans,High School Art,Middle School Art,Primary School Art</td><td>image</td><td>https://i.pinimg.com/originals/ee/a8/78/eea878911033897d981a69d9f6b2fb7c.png</td><td>/data/art</td><td>art</td></tr><tr><td>2074</td><td>86ed09a7-842d-496d-9501-010c654eb340</td><td>35 Christmas Decorating Ideas We Bet You Haven't Thought Of</td><td>20 Christmas Decorating Ideas We Bet You Haven't Thought Of via @PureWow</td><td>868000</td><td>PureWow</td><td>Holiday Centerpieces,Xmas Decorations,Centerpiece Ideas,Table Centerpieces,Valentine Decorations,Wedding Centerpieces,Outdoor Decorations,Christmas Centerpieces With Candles,Christmas Dining Table Decorations</td><td>image</td><td>https://i.pinimg.com/originals/e9/b9/f0/e9b9f01cc3b2cf41948b45854335396c.jpg</td><td>/data/christmas</td><td>christmas</td></tr><tr><td>2074</td><td>86ed09a7-842d-496d-9501-010c654eb340</td><td>35 Christmas Decorating Ideas We Bet You Haven't Thought Of</td><td>20 Christmas Decorating Ideas We Bet You Haven't Thought Of via @PureWow</td><td>868000</td><td>PureWow</td><td>Holiday Centerpieces,Xmas Decorations,Centerpiece Ideas,Table Centerpieces,Valentine Decorations,Wedding Centerpieces,Outdoor Decorations,Christmas Centerpieces With Candles,Christmas Dining Table Decorations</td><td>image</td><td>https://i.pinimg.com/originals/e9/b9/f0/e9b9f01cc3b2cf41948b45854335396c.jpg</td><td>/data/christmas</td><td>christmas</td></tr><tr><td>831</td><td>5e65914d-9f58-4ff1-9676-658e426e8ce5</td><td>creating mixed-media faces tutorial</td><td>Free quick inspirational video on creating a mixed media face with acrylic, collage, stenciling and simple techniques. Come on over to watch</td><td>27000</td><td>Shawn Petite</td><td>Collage Kunst,Paper Collage Art,Collage Art Mixed Media,Mixed Media Painting,Mixed Media Canvas,Canvas Collage,Art Collages,Wall Canvas,Canvas Art</td><td>video</td><td>https://i.pinimg.com/videos/thumbnails/originals/05/86/a4/0586a4116e1fc34efc25e064ccd123e8.0000001.jpg</td><td>/data/art</td><td>art</td></tr><tr><td>205</td><td>f4afd543-b9fe-44c3-8064-f2198faa1372</td><td>DIY Abstract Heart Painting and a Fun Paint Party</td><td>Use our easy step by step tutorial to create a DIY abstract heart painting on any canvas size. Lots of inspiration to help you choose colors.</td><td>410000</td><td>The Creativity Exchange</td><td>Painting & Drawing,Watercolor Paintings,Original Paintings,Owl Watercolor,Acrylic Paintings,Owl Art,Bird Art,Beginner Painting,Animal Paintings</td><td>image</td><td>https://i.pinimg.com/originals/33/85/f8/3385f82ee5e8ecdcccdf798bdcbee3d2.jpg</td><td>/data/art</td><td>art</td></tr><tr><td>5468</td><td>91ee49f6-0070-4270-ba19-fde88ba51c91</td><td>Budgets, Spouses & Making It Work! - Tshanina Peterson</td><td>Don't fight about budgets and money with your spouse! Here are a few tips that we've found that make it work in our marriage!</td><td>313</td><td>Annamarie Hilton</td><td>Ways To Save Money,Money Tips,Money Saving Tips,How To Make Money,Managing Money,Saving Time,College Fund,Scholarships For College,Education College</td><td>image</td><td>https://i.pinimg.com/originals/37/d5/82/37d58296bcef3471a633c76b89d8625e.jpg</td><td>/data/finance</td><td>finance</td></tr><tr><td>7790</td><td>9cd89fb9-d1af-4e66-85ca-c9d656c918b4</td><td>50 Heart Touching Sad Quotes That Will Make You Cry</td><td>Are you looking for some heart touching sad quotes and sayings; Here we have collected for you 50 best heart touching sad quotes..</td><td>112</td><td>AnnaLee Kick</td><td>Crush Quotes For Girls,Sad Crush Quotes,Hurt Quotes,Love Me Quotes,Mood Quotes,Quotes To Live By,Life Quotes,Quotes Quotes,Sad Quotes That Make You Cry</td><td>image</td><td>https://i.pinimg.com/originals/0c/0f/40/0c0f408d96458080e0c82adb50be8e8f.jpg</td><td>/data/quotes</td><td>quotes</td></tr><tr><td>10663</td><td>d5208c16-82ae-4fd1-87f0-36e5ef789412</td><td>21+ Classic Car Picture of the 1950s - Vintagetopia</td><td>There are a lot of options of places to stay so you probably only have to book the initial one so you know the best place to land from the airport</td><td>171000</td><td>vintagetopia</td><td>Old Classic Cars,Classic Trucks,Old Vintage Cars,Antique Cars,Vintage Trucks,Antique Trucks,Cadillac,Convertible,Mustang</td><td>image</td><td>https://i.pinimg.com/originals/e9/01/4d/e9014d537dd2b81c606e8466cef3904c.jpg</td><td>/data/vehicles</td><td>vehicles</td></tr><tr><td>2863</td><td>9bf39437-42a6-4f02-99a0-9a0383d8cd70</td><td>25 Super Fun Summer Crafts for Kids - Of Life and Lisa</td><td>Keep the kids busy this summer with these easy diy crafts and projects. Creative and…</td><td>124000</td><td>Of Life & Lisa | Lifestyle Blog</td><td>Summer Crafts For Kids,Fun Crafts For Kids,Summer Kids,Toddler Crafts,Crafts To Do,Diy For Kids,Summer Snow,Diys For Summer,Craft Ideas For Girls</td><td>image</td><td>https://i.pinimg.com/originals/b3/bc/e2/b3bce2964e8c8975387b39660eed5f16.jpg</td><td>/data/diy-and-crafts</td><td>diy-and-crafts</td></tr><tr><td>2863</td><td>9bf39437-42a6-4f02-99a0-9a0383d8cd70</td><td>25 Super Fun Summer Crafts for Kids - Of Life and Lisa</td><td>Keep the kids busy this summer with these easy diy crafts and projects. Creative and…</td><td>124000</td><td>Of Life & Lisa | Lifestyle Blog</td><td>Summer Crafts For Kids,Fun Crafts For Kids,Summer Kids,Toddler Crafts,Crafts To Do,Diy For Kids,Summer Snow,Diys For Summer,Craft Ideas For Girls</td><td>image</td><td>https://i.pinimg.com/originals/b3/bc/e2/b3bce2964e8c8975387b39660eed5f16.jpg</td><td>/data/diy-and-crafts</td><td>diy-and-crafts</td></tr><tr><td>8653</td><td>24b1343c-4d86-4705-8ec9-7f1f2df2d77e</td><td>Unique Women Tattoos Ideas 2020</td><td>We welcome you to our latest collection of Beautiful Tattoo Ideas For Women. Check out and get inspired by the most beautiful design for yourself.</td><td>21000</td><td>ALL FOR WOMAN</td><td>Small Back Tattoos,Small Girl Tattoos,Little Tattoos,Tattoo Girls,Mini Tattoos,Tattoo Small,Back Tattoo Women,Tattoo On Back,Girl Back Tattoos</td><td>image</td><td>https://i.pinimg.com/originals/fa/cf/7c/facf7cd752a4bc7c09faaa8925ab80b1.jpg</td><td>/data/tattoos</td><td>tattoos</td></tr><tr><td>2863</td><td>9bf39437-42a6-4f02-99a0-9a0383d8cd70</td><td>25 Super Fun Summer Crafts for Kids - Of Life and Lisa</td><td>Keep the kids busy this summer with these easy diy crafts and projects. Creative and…</td><td>124000</td><td>Of Life & Lisa | Lifestyle Blog</td><td>Summer Crafts For Kids,Fun Crafts For Kids,Summer Kids,Toddler Crafts,Crafts To Do,Diy For Kids,Summer Snow,Diys For Summer,Craft Ideas For Girls</td><td>image</td><td>https://i.pinimg.com/originals/b3/bc/e2/b3bce2964e8c8975387b39660eed5f16.jpg</td><td>/data/diy-and-crafts</td><td>diy-and-crafts</td></tr><tr><td>8653</td><td>24b1343c-4d86-4705-8ec9-7f1f2df2d77e</td><td>Unique Women Tattoos Ideas 2020</td><td>We welcome you to our latest collection of Beautiful Tattoo Ideas For Women. Check out and get inspired by the most beautiful design for yourself.</td><td>21000</td><td>ALL FOR WOMAN</td><td>Small Back Tattoos,Small Girl Tattoos,Little Tattoos,Tattoo Girls,Mini Tattoos,Tattoo Small,Back Tattoo Women,Tattoo On Back,Girl Back Tattoos</td><td>image</td><td>https://i.pinimg.com/originals/fa/cf/7c/facf7cd752a4bc7c09faaa8925ab80b1.jpg</td><td>/data/tattoos</td><td>tattoos</td></tr><tr><td>2923</td><td>52fa3af5-24a4-4ccb-8f17-9c3eb12327ee</td><td>UFO Paper Plate Craft</td><td>A fun space activity for kids. Preshoolers and kindergartners will love making their own alien spacecraft!</td><td>192000</td><td>The Crafting Chicks</td><td>Paper Plate Crafts For Kids,Fun Crafts For Kids,Summer Crafts,Toddler Crafts,Art For Kids,Outer Space Crafts For Kids,Kid Crafts,Space Kids,Back To School Crafts For Kids</td><td>image</td><td>https://i.pinimg.com/originals/6f/e8/aa/6fe8aa405513c6d2f77b5f47d17cdce8.jpg</td><td>/data/diy-and-crafts</td><td>diy-and-crafts</td></tr><tr><td>2923</td><td>52fa3af5-24a4-4ccb-8f17-9c3eb12327ee</td><td>UFO Paper Plate Craft</td><td>A fun space activity for kids. Preshoolers and kindergartners will love making their own alien spacecraft!</td><td>192000</td><td>The Crafting Chicks</td><td>Paper Plate Crafts For Kids,Fun Crafts For Kids,Summer Crafts,Toddler Crafts,Art For Kids,Outer Space Crafts For Kids,Kid Crafts,Space Kids,Back To School Crafts For Kids</td><td>image</td><td>https://i.pinimg.com/originals/6f/e8/aa/6fe8aa405513c6d2f77b5f47d17cdce8.jpg</td><td>/data/diy-and-crafts</td><td>diy-and-crafts</td></tr><tr><td>2923</td><td>52fa3af5-24a4-4ccb-8f17-9c3eb12327ee</td><td>UFO Paper Plate Craft</td><td>A fun space activity for kids. Preshoolers and kindergartners will love making their own alien spacecraft!</td><td>192000</td><td>The Crafting Chicks</td><td>Paper Plate Crafts For Kids,Fun Crafts For Kids,Summer Crafts,Toddler Crafts,Art For Kids,Outer Space Crafts For Kids,Kid Crafts,Space Kids,Back To School Crafts For Kids</td><td>image</td><td>https://i.pinimg.com/originals/6f/e8/aa/6fe8aa405513c6d2f77b5f47d17cdce8.jpg</td><td>/data/diy-and-crafts</td><td>diy-and-crafts</td></tr><tr><td>9546</td><td>efd5b2d6-2f69-40cd-bb59-41f18c089e52</td><td>20 Amazing Trips to Take in Your Twenties!</td><td>The best trips to take when you are young!</td><td>89000</td><td>The World Pursuit Travel Website</td><td>Fun Places To Go,Beautiful Places To Travel,Best Places To Travel,Travel Jobs,Holiday Places,Future Travel,Travel Around The World,Adventure Travel,Travel Photos</td><td>video</td><td>https://i.pinimg.com/videos/thumbnails/originals/81/97/c1/8197c1beef8bcb19bea5d8b422211f34.0000001.jpg</td><td>/data/travel</td><td>travel</td></tr><tr><td>8731</td><td>ea760f71-febf-4023-b592-d17396659039</td><td>20 Koi Fish Tattoos For Lucky Men</td><td>Koi fish tattoos are a popular choice for men who want to make a statement, thanks to their rich symbolism and bold design.</td><td>211000</td><td>TheTrendSpotter</td><td>Dr Tattoo,Wörter Tattoos,Pisces Tattoos,Tatoo Art,Dream Tattoos,Dope Tattoos,Mini Tattoos,Finger Tattoos,Body Art Tattoos</td><td>image</td><td>https://i.pinimg.com/originals/8a/0c/0a/8a0c0a7b6236565c519acd41ad1a52c0.jpg</td><td>/data/tattoos</td><td>tattoos</td></tr><tr><td>8731</td><td>ea760f71-febf-4023-b592-d17396659039</td><td>20 Koi Fish Tattoos For Lucky Men</td><td>Koi fish tattoos are a popular choice for men who want to make a statement, thanks to their rich symbolism and bold design.</td><td>211000</td><td>TheTrendSpotter</td><td>Dr Tattoo,Wörter Tattoos,Pisces Tattoos,Tatoo Art,Dream Tattoos,Dope Tattoos,Mini Tattoos,Finger Tattoos,Body Art Tattoos</td><td>image</td><td>https://i.pinimg.com/originals/8a/0c/0a/8a0c0a7b6236565c519acd41ad1a52c0.jpg</td><td>/data/tattoos</td><td>tattoos</td></tr><tr><td>8304</td><td>5b6d0913-25e4-43ab-839d-85d5516f78a4</td><td>The #1 Reason You’re Not His Priority Anymore - Matthew Coast</td><td>#lovequotes #matchmaker #matchmadeinheaven #loveyourself #respectyourself</td><td>51000</td><td>Commitment Connection</td><td>Wise Quotes,Quotable Quotes,Words Quotes,Wise Words,Quotes To Live By,Great Quotes,Motivational Quotes,Inspirational Quotes,Funny Quotes</td><td>image</td><td>https://i.pinimg.com/originals/c6/64/ee/c664ee71524fb5a6e7b7b49233f93b43.png</td><td>/data/quotes</td><td>quotes</td></tr><tr><td>8304</td><td>5b6d0913-25e4-43ab-839d-85d5516f78a4</td><td>The #1 Reason You’re Not His Priority Anymore - Matthew Coast</td><td>#lovequotes #matchmaker #matchmadeinheaven #loveyourself #respectyourself</td><td>51000</td><td>Commitment Connection</td><td>Wise Quotes,Quotable Quotes,Words Quotes,Wise Words,Quotes To Live By,Great Quotes,Motivational Quotes,Inspirational Quotes,Funny Quotes</td><td>image</td><td>https://i.pinimg.com/originals/c6/64/ee/c664ee71524fb5a6e7b7b49233f93b43.png</td><td>/data/quotes</td><td>quotes</td></tr><tr><td>7554</td><td>c6fa12f4-0d4a-4b07-a335-5bf9f37f8281</td><td>Craig Style</td><td>imgentleboss: “ - More about men’s fashion at @Gentleboss - GB’s Facebook - ”</td><td>940</td><td>iElylike ..✿◕‿◕✿ஐ✿◕‿◕✿</td><td>Mens Fashion Blog,Look Fashion,Autumn Fashion,Fashion News,Fashion Sale,80s Fashion,Paris Fashion,Runway Fashion,Fashion Trends</td><td>image</td><td>https://i.pinimg.com/originals/e7/6e/8e/e76e8ed6cc838b84a934c6948a5caff7.jpg</td><td>/data/mens-fashion</td><td>mens-fashion</td></tr><tr><td>7554</td><td>c6fa12f4-0d4a-4b07-a335-5bf9f37f8281</td><td>Craig Style</td><td>imgentleboss: “ - More about men’s fashion at @Gentleboss - GB’s Facebook - ”</td><td>940</td><td>iElylike ..✿◕‿◕✿ஐ✿◕‿◕✿</td><td>Mens Fashion Blog,Look Fashion,Autumn Fashion,Fashion News,Fashion Sale,80s Fashion,Paris Fashion,Runway Fashion,Fashion Trends</td><td>image</td><td>https://i.pinimg.com/originals/e7/6e/8e/e76e8ed6cc838b84a934c6948a5caff7.jpg</td><td>/data/mens-fashion</td><td>mens-fashion</td></tr><tr><td>7554</td><td>c6fa12f4-0d4a-4b07-a335-5bf9f37f8281</td><td>Craig Style</td><td>imgentleboss: “ - More about men’s fashion at @Gentleboss - GB’s Facebook - ”</td><td>940</td><td>iElylike ..✿◕‿◕✿ஐ✿◕‿◕✿</td><td>Mens Fashion Blog,Look Fashion,Autumn Fashion,Fashion News,Fashion Sale,80s Fashion,Paris Fashion,Runway Fashion,Fashion Trends</td><td>image</td><td>https://i.pinimg.com/originals/e7/6e/8e/e76e8ed6cc838b84a934c6948a5caff7.jpg</td><td>/data/mens-fashion</td><td>mens-fashion</td></tr><tr><td>8887</td><td>5df9f6e5-07f5-4ce8-a82e-96586bbc05d8</td><td>25 Ultra Sexy Back Tattoo Ideas For Girls</td><td>Tattoos are one of the most efficient ways through which one decides to express themselves…</td><td>4000</td><td>RapidLeaks</td><td>Dream Tattoos,Body Art Tattoos,New Tattoos,Small Tattoos,Cross Tattoos,Random Tattoos,Fashion Tattoos,Bird Tattoos,Fitness Tattoos</td><td>image</td><td>https://i.pinimg.com/originals/ab/8e/50/ab8e505b04d4abc8f23e273c15f8a65d.jpg</td><td>/data/tattoos</td><td>tattoos</td></tr><tr><td>8887</td><td>5df9f6e5-07f5-4ce8-a82e-96586bbc05d8</td><td>25 Ultra Sexy Back Tattoo Ideas For Girls</td><td>Tattoos are one of the most efficient ways through which one decides to express themselves…</td><td>4000</td><td>RapidLeaks</td><td>Dream Tattoos,Body Art Tattoos,New Tattoos,Small Tattoos,Cross Tattoos,Random Tattoos,Fashion Tattoos,Bird Tattoos,Fitness Tattoos</td><td>image</td><td>https://i.pinimg.com/originals/ab/8e/50/ab8e505b04d4abc8f23e273c15f8a65d.jpg</td><td>/data/tattoos</td><td>tattoos</td></tr><tr><td>1313</td><td>44662045-e891-4821-8a19-ebe7eedd371a</td><td>Liquid Lash Extensions Mascara</td><td>Instantly create the look of lash extensions with this award-winning, best-selling mascara that won't clump, flake or smudge. Available in 3 shades!</td><td>43000</td><td>Thrive Causemetics</td><td>N,o, ,T,a,g,s, ,A,v,a,i,l,a,b,l,e</td><td>video</td><td>https://i.pinimg.com/videos/thumbnails/originals/69/84/e2/6984e20f3e262098fa9c0614c3453254.0000001.jpg</td><td>/data/beauty</td><td>beauty</td></tr><tr><td>1313</td><td>44662045-e891-4821-8a19-ebe7eedd371a</td><td>Liquid Lash Extensions Mascara</td><td>Instantly create the look of lash extensions with this award-winning, best-selling mascara that won't clump, flake or smudge. Available in 3 shades!</td><td>43000</td><td>Thrive Causemetics</td><td>N,o, ,T,a,g,s, ,A,v,a,i,l,a,b,l,e</td><td>video</td><td>https://i.pinimg.com/videos/thumbnails/originals/69/84/e2/6984e20f3e262098fa9c0614c3453254.0000001.jpg</td><td>/data/beauty</td><td>beauty</td></tr><tr><td>10625</td><td>d31885b7-742a-4e2a-bbb7-ac5f9d334340</td><td>Jaguar Type E</td><td>1937 Jaguar SS100 - 2 1/2 Litre Roadster, one of the most sought after pre-war sports cars</td><td>8000</td><td>hobbyDB</td><td>Jaguar Type E,Jaguar Xk,Jaguar Cars,Jaguar Roadster,Jaguar Sport,Retro Cars,Vintage Cars,Antique Cars,British Sports Cars</td><td>image</td><td>https://i.pinimg.com/originals/26/81/a7/2681a71bd0c8f7fd0ab79c455338a49a.jpg</td><td>/data/vehicles</td><td>vehicles</td></tr><tr><td>10625</td><td>d31885b7-742a-4e2a-bbb7-ac5f9d334340</td><td>Jaguar Type E</td><td>1937 Jaguar SS100 - 2 1/2 Litre Roadster, one of the most sought after pre-war sports cars</td><td>8000</td><td>hobbyDB</td><td>Jaguar Type E,Jaguar Xk,Jaguar Cars,Jaguar Roadster,Jaguar Sport,Retro Cars,Vintage Cars,Antique Cars,British Sports Cars</td><td>image</td><td>https://i.pinimg.com/originals/26/81/a7/2681a71bd0c8f7fd0ab79c455338a49a.jpg</td><td>/data/vehicles</td><td>vehicles</td></tr><tr><td>10625</td><td>d31885b7-742a-4e2a-bbb7-ac5f9d334340</td><td>Jaguar Type E</td><td>1937 Jaguar SS100 - 2 1/2 Litre Roadster, one of the most sought after pre-war sports cars</td><td>8000</td><td>hobbyDB</td><td>Jaguar Type E,Jaguar Xk,Jaguar Cars,Jaguar Roadster,Jaguar Sport,Retro Cars,Vintage Cars,Antique Cars,British Sports Cars</td><td>image</td><td>https://i.pinimg.com/originals/26/81/a7/2681a71bd0c8f7fd0ab79c455338a49a.jpg</td><td>/data/vehicles</td><td>vehicles</td></tr><tr><td>9590</td><td>b849e976-52f6-45d7-8b25-51559318f167</td><td>Top 20 Things To See And Do In Ireland</td><td>Best spots to see for travel through Ireland!</td><td>130000</td><td>Fun Life Crisis</td><td>Vacation Ideas,Vacation Spots,Emerald Isle,London England,Travel Guides,Travel Tips,Travel Hacks,Travel Packing,Places To Travel</td><td>image</td><td>https://i.pinimg.com/originals/c7/50/d3/c750d36524856873d64406652d69b4fb.png</td><td>/data/travel</td><td>travel</td></tr><tr><td>1014</td><td>9ac94307-bb27-410e-b554-0a0ab6c19847</td><td>Hairstyles & Beauty</td><td>Untitled</td><td>0</td><td>Grecia Perales</td><td>Hair Inspo,Hair Inspiration,Motivation Inspiration,Cl Rapper,Foto Glamour,Kreative Portraits,Classy Aesthetic,Pretty Hairstyles,Hair Looks</td><td>image</td><td>https://i.pinimg.com/originals/af/c4/59/afc459bd6e1fd8f9aef212504afebf3a.jpg</td><td>/data/beauty</td><td>beauty</td></tr><tr><td>10794</td><td>c4bd2577-a7bb-4409-bb7a-17d5ed7e1cf1</td><td>TireBuyer</td><td>Nissan GT-R. Sick.</td><td>437</td><td>Ray Uyemura</td><td>Lowrider,Old Vintage Cars,Antique Cars,Austin Martin,Nissan Gtr Black,Jaguar,1959 Cadillac,Cadillac Ct6,Old School Cars</td><td>image</td><td>https://i.pinimg.com/originals/0d/29/9f/0d299f3df020395aa7ce8387f40fbeed.jpg</td><td>/data/vehicles</td><td>vehicles</td></tr><tr><td>10794</td><td>c4bd2577-a7bb-4409-bb7a-17d5ed7e1cf1</td><td>TireBuyer</td><td>Nissan GT-R. Sick.</td><td>437</td><td>Ray Uyemura</td><td>Lowrider,Old Vintage Cars,Antique Cars,Austin Martin,Nissan Gtr Black,Jaguar,1959 Cadillac,Cadillac Ct6,Old School Cars</td><td>image</td><td>https://i.pinimg.com/originals/0d/29/9f/0d299f3df020395aa7ce8387f40fbeed.jpg</td><td>/data/vehicles</td><td>vehicles</td></tr><tr><td>10794</td><td>c4bd2577-a7bb-4409-bb7a-17d5ed7e1cf1</td><td>TireBuyer</td><td>Nissan GT-R. Sick.</td><td>437</td><td>Ray Uyemura</td><td>Lowrider,Old Vintage Cars,Antique Cars,Austin Martin,Nissan Gtr Black,Jaguar,1959 Cadillac,Cadillac Ct6,Old School Cars</td><td>image</td><td>https://i.pinimg.com/originals/0d/29/9f/0d299f3df020395aa7ce8387f40fbeed.jpg</td><td>/data/vehicles</td><td>vehicles</td></tr><tr><td>3089</td><td>88f9227e-88d0-4b1c-b0be-bcfc3028b8e2</td><td>No Title Data Available</td><td>No description available Story format</td><td>null</td><td>User Info Error</td><td>N,o, ,T,a,g,s, ,A,v,a,i,l,a,b,l,e</td><td>multi-video(story page format)</td><td>Image src error.</td><td>/data/diy-and-crafts</td><td>diy-and-crafts</td></tr><tr><td>3089</td><td>88f9227e-88d0-4b1c-b0be-bcfc3028b8e2</td><td>No Title Data Available</td><td>No description available Story format</td><td>null</td><td>User Info Error</td><td>N,o, ,T,a,g,s, ,A,v,a,i,l,a,b,l,e</td><td>multi-video(story page format)</td><td>Image src error.</td><td>/data/diy-and-crafts</td><td>diy-and-crafts</td></tr><tr><td>3089</td><td>88f9227e-88d0-4b1c-b0be-bcfc3028b8e2</td><td>No Title Data Available</td><td>No description available Story format</td><td>null</td><td>User Info Error</td><td>N,o, ,T,a,g,s, ,A,v,a,i,l,a,b,l,e</td><td>multi-video(story page format)</td><td>Image src error.</td><td>/data/diy-and-crafts</td><td>diy-and-crafts</td></tr><tr><td>7528</td><td>fbe53c66-3442-4773-b19e-d3ec6f54dddf</td><td>No Title Data Available</td><td>No description available Story format</td><td>null</td><td>User Info Error</td><td>N,o, ,T,a,g,s, ,A,v,a,i,l,a,b,l,e</td><td>multi-video(story page format)</td><td>Image src error.</td><td>/data/mens-fashion</td><td>mens-fashion</td></tr><tr><td>7528</td><td>fbe53c66-3442-4773-b19e-d3ec6f54dddf</td><td>No Title Data Available</td><td>No description available Story format</td><td>null</td><td>User Info Error</td><td>N,o, ,T,a,g,s, ,A,v,a,i,l,a,b,l,e</td><td>multi-video(story page format)</td><td>Image src error.</td><td>/data/mens-fashion</td><td>mens-fashion</td></tr><tr><td>7528</td><td>fbe53c66-3442-4773-b19e-d3ec6f54dddf</td><td>No Title Data Available</td><td>No description available Story format</td><td>null</td><td>User Info Error</td><td>N,o, ,T,a,g,s, ,A,v,a,i,l,a,b,l,e</td><td>multi-video(story page format)</td><td>Image src error.</td><td>/data/mens-fashion</td><td>mens-fashion</td></tr><tr><td>7528</td><td>fbe53c66-3442-4773-b19e-d3ec6f54dddf</td><td>No Title Data Available</td><td>No description available Story format</td><td>null</td><td>User Info Error</td><td>N,o, ,T,a,g,s, ,A,v,a,i,l,a,b,l,e</td><td>multi-video(story page format)</td><td>Image src error.</td><td>/data/mens-fashion</td><td>mens-fashion</td></tr></tbody></table></div>"
      ]
     },
     "metadata": {
      "application/vnd.databricks.v1+output": {
       "addedWidgets": {},
       "aggData": [],
       "aggError": "",
       "aggOverflow": false,
       "aggSchema": [],
       "aggSeriesLimitReached": false,
       "aggType": "",
       "arguments": {},
       "columnCustomDisplayInfos": {},
       "data": [
        [
         2482,
         "08604f20-fa17-4b9a-9949-781717eca6cd",
         "FORNT PORCH CHRISTMAS DECORATING IDEAS",
         "Christmas decorating ideas for porches. Beautiful holiday decor ideas for front porches both small and large. Outdoor decorations like sleds, lanterns, Christmas trees, wreaths,… ",
         46000,
         "Life on Summerhill | Home, Holiday Decor & DIY Website",
         "Diy Christmas Decorations For Home,Farmhouse Christmas Decor,Christmas Home,Christmas Holidays,Christmas Front Porches,How To Decorate For Christmas,Christmas Porch Ideas,Christmas Decorating Ideas,Large Outdoor Christmas Decorations",
         "video",
         "https://i.pinimg.com/videos/thumbnails/originals/40/83/f5/4083f5b4971bf235f89a4784ab87271e.0000001.jpg",
         "/data/christmas",
         "christmas"
        ],
        [
         10138,
         "927c4658-cc3f-4b92-9b5c-70743d0c238d",
         "14 Amazing Things To Do In Costa Rica | Volcanoes, Waterfalls, Wildlife And More",
         "This Costa Rica itinerary is the ultimate guide to spending two weeks in Costa Rica. Find out about visiting La Fortuna, Arenal, Monteverde, Naranjo, Corcovado National Park, Or… ",
         10000,
         "Wanderlust Chloe ✈️ Travel guides, inspo and adventure travel ✈️",
         "Costa Rica Travel,Rio Celeste Costa Rica,Dream Vacations,Vacation Spots,Vacation Travel,Travel Pictures,Travel Photos,Fortuna Costa Rica,Costa Rica Pictures",
         "image",
         "https://i.pinimg.com/originals/30/93/cb/3093cb01d9de2d125fda8ba5e3e41946.jpg",
         "/data/travel",
         "travel"
        ],
        [
         10138,
         "927c4658-cc3f-4b92-9b5c-70743d0c238d",
         "14 Amazing Things To Do In Costa Rica | Volcanoes, Waterfalls, Wildlife And More",
         "This Costa Rica itinerary is the ultimate guide to spending two weeks in Costa Rica. Find out about visiting La Fortuna, Arenal, Monteverde, Naranjo, Corcovado National Park, Or… ",
         10000,
         "Wanderlust Chloe ✈️ Travel guides, inspo and adventure travel ✈️",
         "Costa Rica Travel,Rio Celeste Costa Rica,Dream Vacations,Vacation Spots,Vacation Travel,Travel Pictures,Travel Photos,Fortuna Costa Rica,Costa Rica Pictures",
         "image",
         "https://i.pinimg.com/originals/30/93/cb/3093cb01d9de2d125fda8ba5e3e41946.jpg",
         "/data/travel",
         "travel"
        ],
        [
         3156,
         "fa6e31a4-18c2-4eca-a6d8-e903eee2c2a4",
         "Handprint Reindeer Ornaments - Crafty Morning",
         "This post may contain affiliate links, read our Disclosure Policy for more information. As an Amazon Associate I earn from qualifying purchases, thank you! Make some cute handpr… ",
         892000,
         "Michelle {CraftyMorning.com}",
         "Christmas Gifts For Parents,Christmas Decorations For Kids,Christmas Crafts For Toddlers,Preschool Christmas,Christmas Crafts For Gifts,Christmas Activities,Toddler Crafts,Kids Christmas,Christmas Feeling",
         "image",
         "https://i.pinimg.com/originals/ff/fe/38/fffe384f3ec18a0d87cb2d80cc8c1499.jpg",
         "/data/diy-and-crafts",
         "diy-and-crafts"
        ],
        [
         3156,
         "fa6e31a4-18c2-4eca-a6d8-e903eee2c2a4",
         "Handprint Reindeer Ornaments - Crafty Morning",
         "This post may contain affiliate links, read our Disclosure Policy for more information. As an Amazon Associate I earn from qualifying purchases, thank you! Make some cute handpr… ",
         892000,
         "Michelle {CraftyMorning.com}",
         "Christmas Gifts For Parents,Christmas Decorations For Kids,Christmas Crafts For Toddlers,Preschool Christmas,Christmas Crafts For Gifts,Christmas Activities,Toddler Crafts,Kids Christmas,Christmas Feeling",
         "image",
         "https://i.pinimg.com/originals/ff/fe/38/fffe384f3ec18a0d87cb2d80cc8c1499.jpg",
         "/data/diy-and-crafts",
         "diy-and-crafts"
        ],
        [
         3156,
         "fa6e31a4-18c2-4eca-a6d8-e903eee2c2a4",
         "Handprint Reindeer Ornaments - Crafty Morning",
         "This post may contain affiliate links, read our Disclosure Policy for more information. As an Amazon Associate I earn from qualifying purchases, thank you! Make some cute handpr… ",
         892000,
         "Michelle {CraftyMorning.com}",
         "Christmas Gifts For Parents,Christmas Decorations For Kids,Christmas Crafts For Toddlers,Preschool Christmas,Christmas Crafts For Gifts,Christmas Activities,Toddler Crafts,Kids Christmas,Christmas Feeling",
         "image",
         "https://i.pinimg.com/originals/ff/fe/38/fffe384f3ec18a0d87cb2d80cc8c1499.jpg",
         "/data/diy-and-crafts",
         "diy-and-crafts"
        ],
        [
         5494,
         "8fb2af68-543b-4639-8119-de33d28706ed",
         "Dave Ramsey's 7 Baby Steps: What Are They And Will They Work For You",
         "If you love budgeting, make sure to give Dave Ramsey's 7 Baby Steps a try. Follow these steps to begin your debt snowball, build an emergency fund, invest and reach riches. I ca… ",
         26000,
         "Living Low Key | Save Money, Make Money, & Frugal Living",
         "Financial Peace,Financial Tips,Saving Money Quotes,Total Money Makeover,Budgeting Finances,Money Management,Wealth Management,Personal Finance,Making Ideas",
         "image",
         "https://i.pinimg.com/originals/1e/9d/90/1e9d906e4e150e3b95187f3b76ea7c71.png",
         "/data/finance",
         "finance"
        ],
        [
         5494,
         "8fb2af68-543b-4639-8119-de33d28706ed",
         "Dave Ramsey's 7 Baby Steps: What Are They And Will They Work For You",
         "If you love budgeting, make sure to give Dave Ramsey's 7 Baby Steps a try. Follow these steps to begin your debt snowball, build an emergency fund, invest and reach riches. I ca… ",
         26000,
         "Living Low Key | Save Money, Make Money, & Frugal Living",
         "Financial Peace,Financial Tips,Saving Money Quotes,Total Money Makeover,Budgeting Finances,Money Management,Wealth Management,Personal Finance,Making Ideas",
         "image",
         "https://i.pinimg.com/originals/1e/9d/90/1e9d906e4e150e3b95187f3b76ea7c71.png",
         "/data/finance",
         "finance"
        ],
        [
         5494,
         "8fb2af68-543b-4639-8119-de33d28706ed",
         "Dave Ramsey's 7 Baby Steps: What Are They And Will They Work For You",
         "If you love budgeting, make sure to give Dave Ramsey's 7 Baby Steps a try. Follow these steps to begin your debt snowball, build an emergency fund, invest and reach riches. I ca… ",
         26000,
         "Living Low Key | Save Money, Make Money, & Frugal Living",
         "Financial Peace,Financial Tips,Saving Money Quotes,Total Money Makeover,Budgeting Finances,Money Management,Wealth Management,Personal Finance,Making Ideas",
         "image",
         "https://i.pinimg.com/originals/1e/9d/90/1e9d906e4e150e3b95187f3b76ea7c71.png",
         "/data/finance",
         "finance"
        ],
        [
         2418,
         "da8745a6-5160-46c4-877d-181d50a729fd",
         "100 DIY Christmas Centerpieces You'll Love To Decorate Your Home With For The Christmas Season - Hike n Dip",
         "Here are the best DIY Christmas Centerpieces ideas perfect for your Christmas & holiday season home decor. From Christmas Vignettes to Table Centerpieces.",
         500000,
         "HikenDip",
         "Farmhouse Christmas Decor,Rustic Christmas,Christmas Time,Vintage Christmas,Xmas,Primitive Christmas Crafts,Christmas Vignette,Indoor Christmas Decorations,Diy Christmas Ornaments",
         "image",
         "https://i.pinimg.com/originals/aa/6d/0f/aa6d0f44d7c1c96b998cb9aa6c4446b8.png",
         "/data/christmas",
         "christmas"
        ],
        [
         2418,
         "da8745a6-5160-46c4-877d-181d50a729fd",
         "100 DIY Christmas Centerpieces You'll Love To Decorate Your Home With For The Christmas Season - Hike n Dip",
         "Here are the best DIY Christmas Centerpieces ideas perfect for your Christmas & holiday season home decor. From Christmas Vignettes to Table Centerpieces.",
         500000,
         "HikenDip",
         "Farmhouse Christmas Decor,Rustic Christmas,Christmas Time,Vintage Christmas,Xmas,Primitive Christmas Crafts,Christmas Vignette,Indoor Christmas Decorations,Diy Christmas Ornaments",
         "image",
         "https://i.pinimg.com/originals/aa/6d/0f/aa6d0f44d7c1c96b998cb9aa6c4446b8.png",
         "/data/christmas",
         "christmas"
        ],
        [
         2418,
         "da8745a6-5160-46c4-877d-181d50a729fd",
         "100 DIY Christmas Centerpieces You'll Love To Decorate Your Home With For The Christmas Season - Hike n Dip",
         "Here are the best DIY Christmas Centerpieces ideas perfect for your Christmas & holiday season home decor. From Christmas Vignettes to Table Centerpieces.",
         500000,
         "HikenDip",
         "Farmhouse Christmas Decor,Rustic Christmas,Christmas Time,Vintage Christmas,Xmas,Primitive Christmas Crafts,Christmas Vignette,Indoor Christmas Decorations,Diy Christmas Ornaments",
         "image",
         "https://i.pinimg.com/originals/aa/6d/0f/aa6d0f44d7c1c96b998cb9aa6c4446b8.png",
         "/data/christmas",
         "christmas"
        ],
        [
         7922,
         "a584581c-1b38-4731-a1cc-f36115ecf229",
         "45 Top Life Quotes School Did Not Teach You",
         "summcoco gives you inspiration for the women fashion trends you want. Thinking about a new look or lifestyle? This is your ultimate resource to get the hottest trends. 45 Top Li… ",
         306000,
         "Sumcoco | Decor Ideas, Hairstyles, Nails Fashion Advice",
         "Life Quotes Love,Inspirational Quotes About Love,Mood Quotes,Motivational Quotes,Tears Quotes,Quotes About Sadness,Deep Quotes About Life,Quotes Quotes,Quote Life",
         "image",
         "https://i.pinimg.com/originals/bb/c0/e6/bbc0e6a797079505f11ac12bcb0b8c66.jpg",
         "/data/quotes",
         "quotes"
        ],
        [
         4508,
         "9064f4a2-2753-476c-815e-db360f45a93e",
         "Custom Event and Shop Neon Sign Lights - Event & Shop",
         "Personalize your event or shop with a customized neon sign. Make a statement with your own custom vibes! This light is 32 -40 inches (80cm-100cm) if you need something bigger, p… ",
         111,
         "Life of Neon | Custom Neon Light Signs | Home Decor Wall Art",
         "Our Wedding,Wedding Venues,Dream Wedding,Wedding Cakes,Church Wedding,Wedding Flowers,Lace Wedding,Wedding Rings,Wedding Dresses",
         "image",
         "https://i.pinimg.com/originals/e9/c0/7c/e9c07cf0cf16cab23764a36718ab76c1.jpg",
         "/data/event-planning",
         "event-planning"
        ],
        [
         9979,
         "2b2abc85-fc51-481f-8ae6-17681993da28",
         "Paris in the Summer. 10 fun things to do in Paris in the Summertime • Petite in Paris",
         "Are you traveling to Paris during the summer? Find out what to do in Paris, France during the summer. Fun summertime activities in Paris. Enjoy the incredible outdoors when trav… ",
         3000,
         "Petite in Paris",
         "Torre Eiffel Paris,Tour Eiffel,Picnic In Paris,Hello France,Voyage Europe,Destination Voyage,Beautiful Places To Travel,Travel Aesthetic,Paris Travel",
         "image",
         "https://i.pinimg.com/originals/6c/4c/90/6c4c90bba27ebf8c8bfe4c1acfb9f07a.jpg",
         "/data/travel",
         "travel"
        ],
        [
         9979,
         "2b2abc85-fc51-481f-8ae6-17681993da28",
         "Paris in the Summer. 10 fun things to do in Paris in the Summertime • Petite in Paris",
         "Are you traveling to Paris during the summer? Find out what to do in Paris, France during the summer. Fun summertime activities in Paris. Enjoy the incredible outdoors when trav… ",
         3000,
         "Petite in Paris",
         "Torre Eiffel Paris,Tour Eiffel,Picnic In Paris,Hello France,Voyage Europe,Destination Voyage,Beautiful Places To Travel,Travel Aesthetic,Paris Travel",
         "image",
         "https://i.pinimg.com/originals/6c/4c/90/6c4c90bba27ebf8c8bfe4c1acfb9f07a.jpg",
         "/data/travel",
         "travel"
        ],
        [
         9759,
         "d105eb6e-0f9f-46e7-8d02-d24b62f6ae90",
         "8 Best Greek Islands You Have To Visit - TheFab20s",
         "Although you'd think Greek islands are fairly similar, you'd be completely wrong! Each island has it's own personality and appeal. Here are the 8 Best Greek Islands to visit, es… ",
         42000,
         "TheFab20s | Travel+Food+DIY+Listicles",
         "Greek Islands To Visit,Best Greek Islands,Greece Islands,Cool Places To Visit,Places To Go,Best Places In Portugal,Copenhagen Travel,Paros Island,Santorini Island",
         "image",
         "https://i.pinimg.com/originals/06/1d/ce/061dce38929dec8e74844442116bea4a.jpg",
         "/data/travel",
         "travel"
        ],
        [
         2698,
         "73f16302-4871-486a-8836-947530526337",
         "DIY Dollar Tree Valentine's Day Wreath",
         "DIY Dollar Store Valentine’s Day Heart Wreath Decoration. There are so many great Valentine crafts at the Dollar Tree right now! During our last trip, we picked up a few supplie… ",
         9000,
         "South Lumina Style",
         "Valentine Day Wreaths,Valentines Day Hearts,Valentines Day Decorations,Valentine Day Crafts,Holiday Crafts,Diy Christmas,Christmas Wreaths,Valentine Tree,Printable Valentine",
         "image",
         "https://i.pinimg.com/originals/dc/f6/8a/dcf68adcc63c339c24fa5664f1115994.png",
         "/data/diy-and-crafts",
         "diy-and-crafts"
        ],
        [
         6145,
         "82e13a07-db99-43a3-b1c0-89a4b75821da",
         "HOLIDAY MANTLE DECOR - @AMAZON & @TARGET FINDS",
         "Holiday mantle decor, Christmas decor, metallic mercury glass style Christmas trees, eucalyptus vine, evergreen pine branches, white neutral holiday decor, cozy mantle for the h… ",
         83000,
         "Stylin by Aylin",
         "Winter Home Decor,Christmas Living Room Decor,Living Room Decor Cozy,Christmas Decor,Cozy Fireplace,Rustic Fireplace Decor,Fireplace Decorations,Rustic Room,House Decorations",
         "image",
         "https://i.pinimg.com/originals/9d/82/1a/9d821a80acd8f90c16454e978bd9b115.jpg",
         "/data/home-decor",
         "home-decor"
        ],
        [
         6145,
         "82e13a07-db99-43a3-b1c0-89a4b75821da",
         "HOLIDAY MANTLE DECOR - @AMAZON & @TARGET FINDS",
         "Holiday mantle decor, Christmas decor, metallic mercury glass style Christmas trees, eucalyptus vine, evergreen pine branches, white neutral holiday decor, cozy mantle for the h… ",
         83000,
         "Stylin by Aylin",
         "Winter Home Decor,Christmas Living Room Decor,Living Room Decor Cozy,Christmas Decor,Cozy Fireplace,Rustic Fireplace Decor,Fireplace Decorations,Rustic Room,House Decorations",
         "image",
         "https://i.pinimg.com/originals/9d/82/1a/9d821a80acd8f90c16454e978bd9b115.jpg",
         "/data/home-decor",
         "home-decor"
        ],
        [
         6145,
         "82e13a07-db99-43a3-b1c0-89a4b75821da",
         "HOLIDAY MANTLE DECOR - @AMAZON & @TARGET FINDS",
         "Holiday mantle decor, Christmas decor, metallic mercury glass style Christmas trees, eucalyptus vine, evergreen pine branches, white neutral holiday decor, cozy mantle for the h… ",
         83000,
         "Stylin by Aylin",
         "Winter Home Decor,Christmas Living Room Decor,Living Room Decor Cozy,Christmas Decor,Cozy Fireplace,Rustic Fireplace Decor,Fireplace Decorations,Rustic Room,House Decorations",
         "image",
         "https://i.pinimg.com/originals/9d/82/1a/9d821a80acd8f90c16454e978bd9b115.jpg",
         "/data/home-decor",
         "home-decor"
        ],
        [
         1704,
         "5fbf9863-fb79-477c-a5b6-540c3020a55f",
         "Christmas Trees From Pallet Wood | Holiday DIY",
         "Christmas Trees From Pallet Wood | Holiday DIY: Deck the yard with some fun outdoor Christmas Trees! We made these merry and bright decorations from two old pallets we had lying… ",
         null,
         "Instructables",
         "Pallet Wood Christmas Tree,Wooden Christmas Crafts,Diy Christmas Tree,Christmas Projects,Holiday Crafts,Wooden Xmas Trees,Different Christmas Trees,Pallet Tree,Christmas Kitchen",
         "image",
         "https://i.pinimg.com/originals/64/7b/ca/647bca35169b7c144604116c64bcba8a.png",
         "/data/christmas",
         "christmas"
        ],
        [
         4315,
         "21b59ba9-829d-4c33-8c27-4cd4c56d26b8",
         "Podcasts for Teachers or Parents of Teenagers",
         "Podcasts for Teachers or Parents of Teenagers: Teaching teens middle school and high school can feel joyful and rewarding most days, but can also frustrate you with one challeng… ",
         25000,
         "Math Giraffe",
         "Middle School Classroom,High School Students,High School Teachers,Middle School Tips,High School Counseling,Ela Classroom,High School Science,Future Classroom,Google Classroom",
         "image",
         "https://i.pinimg.com/originals/50/19/31/501931a27ee4d076658980851b995b2c.jpg",
         "/data/education",
         "education"
        ],
        [
         4315,
         "21b59ba9-829d-4c33-8c27-4cd4c56d26b8",
         "Podcasts for Teachers or Parents of Teenagers",
         "Podcasts for Teachers or Parents of Teenagers: Teaching teens middle school and high school can feel joyful and rewarding most days, but can also frustrate you with one challeng… ",
         25000,
         "Math Giraffe",
         "Middle School Classroom,High School Students,High School Teachers,Middle School Tips,High School Counseling,Ela Classroom,High School Science,Future Classroom,Google Classroom",
         "image",
         "https://i.pinimg.com/originals/50/19/31/501931a27ee4d076658980851b995b2c.jpg",
         "/data/education",
         "education"
        ],
        [
         5069,
         "b75b6f87-deb3-444f-b29e-ce9161b2df49",
         "The Vault: Curated & Refined Wedding Inspiration",
         "Sacramento California Wedding 2 Chic Events & Design Jodi Yorston Photography Wilson Vineyards Barn Miosa Couture Yellow Barn Vineyard Outdoor Candles DIY",
         null,
         "Style Me Pretty",
         "60th Anniversary Parties,Anniversary Decorations,Golden Anniversary,25th Wedding Anniversary,Anniversary Pictures,Anniversary Ideas,Birthday Decorations,Event Planning Design,Event Design",
         "image",
         "https://i.pinimg.com/originals/7e/45/90/7e45905fefa36347e83333fd6d091140.jpg",
         "/data/event-planning",
         "event-planning"
        ],
        [
         5069,
         "b75b6f87-deb3-444f-b29e-ce9161b2df49",
         "The Vault: Curated & Refined Wedding Inspiration",
         "Sacramento California Wedding 2 Chic Events & Design Jodi Yorston Photography Wilson Vineyards Barn Miosa Couture Yellow Barn Vineyard Outdoor Candles DIY",
         null,
         "Style Me Pretty",
         "60th Anniversary Parties,Anniversary Decorations,Golden Anniversary,25th Wedding Anniversary,Anniversary Pictures,Anniversary Ideas,Birthday Decorations,Event Planning Design,Event Design",
         "image",
         "https://i.pinimg.com/originals/7e/45/90/7e45905fefa36347e83333fd6d091140.jpg",
         "/data/event-planning",
         "event-planning"
        ],
        [
         7343,
         "b8c63a95-6fe8-4d7f-9455-1eef3462fee0",
         "This Fashion Rule Is Nonsense, And We Should All Forget About It",
         "Black And Brown Outfits You Need To Try This Fall Season. The trick with black and brown outfits is to know how to combine colors, fabrics, and shapes to get a cohesive look. So… ",
         null,
         "Cultura Colectiva",
         "Winter Outfits Men,Stylish Mens Outfits,Casual Outfits,Men Casual,Smart Casual,Outfits For Men,Fall Outfits,Mens Winter Boots,Business Casual Men",
         "image",
         "https://i.pinimg.com/originals/3e/49/09/3e4909c0ccc4dbba3cad83d97eab4a61.png",
         "/data/mens-fashion",
         "mens-fashion"
        ],
        [
         5069,
         "b75b6f87-deb3-444f-b29e-ce9161b2df49",
         "The Vault: Curated & Refined Wedding Inspiration",
         "Sacramento California Wedding 2 Chic Events & Design Jodi Yorston Photography Wilson Vineyards Barn Miosa Couture Yellow Barn Vineyard Outdoor Candles DIY",
         null,
         "Style Me Pretty",
         "60th Anniversary Parties,Anniversary Decorations,Golden Anniversary,25th Wedding Anniversary,Anniversary Pictures,Anniversary Ideas,Birthday Decorations,Event Planning Design,Event Design",
         "image",
         "https://i.pinimg.com/originals/7e/45/90/7e45905fefa36347e83333fd6d091140.jpg",
         "/data/event-planning",
         "event-planning"
        ],
        [
         7343,
         "b8c63a95-6fe8-4d7f-9455-1eef3462fee0",
         "This Fashion Rule Is Nonsense, And We Should All Forget About It",
         "Black And Brown Outfits You Need To Try This Fall Season. The trick with black and brown outfits is to know how to combine colors, fabrics, and shapes to get a cohesive look. So… ",
         null,
         "Cultura Colectiva",
         "Winter Outfits Men,Stylish Mens Outfits,Casual Outfits,Men Casual,Smart Casual,Outfits For Men,Fall Outfits,Mens Winter Boots,Business Casual Men",
         "image",
         "https://i.pinimg.com/originals/3e/49/09/3e4909c0ccc4dbba3cad83d97eab4a61.png",
         "/data/mens-fashion",
         "mens-fashion"
        ],
        [
         8606,
         "71757040-bfc8-4631-9cac-22801e61d9e3",
         "30+ Eagle Tattoos Ideas for Women",
         "summcoco gives you inspiration for the women fashion trends you want. Thinking about a new look or lifestyle? This is your ultimate resource to get the hottest trends. 30+ Eagle… ",
         306000,
         "Sumcoco | Decor Ideas, Hairstyles, Nails Fashion Advice",
         "White Bird Tattoos,Rose Tattoos,Flower Tattoos,Tattoo Black,Bird And Flower Tattoo,Tattoo Floral,Mini Tattoos,Flower Art,Girls With Sleeve Tattoos",
         "image",
         "https://i.pinimg.com/originals/8d/c6/ed/8dc6ed0b212393187a14c7d07a88060f.png",
         "/data/tattoos",
         "tattoos"
        ],
        [
         6063,
         "60693727-4927-4bd6-a8c5-096a392d63e6",
         "41 Gorgeous Fall Decor Ideas For Your Home - Chaylor & Mads",
         "Beautiful and easy ways to update every room in your home with fall decor. Plus, my favorite finds in fall decor for 2020!",
         92000,
         "Kristen | Lifestyle, Mom Tips & Teacher Stuff Blog",
         "Fall Home Decor,Autumn Home,Fall Decor Outdoor,Front Porch Fall Decor,Home Decor Ideas,Porch Ideas For Fall,Fall Outdoor Decorating,Decorating Ideas For Fall,Fall Front Doors",
         "image",
         "https://i.pinimg.com/originals/e5/ae/dc/e5aedc14ce557e3a69f672e0f8c88f6e.png",
         "/data/home-decor",
         "home-decor"
        ],
        [
         6063,
         "60693727-4927-4bd6-a8c5-096a392d63e6",
         "41 Gorgeous Fall Decor Ideas For Your Home - Chaylor & Mads",
         "Beautiful and easy ways to update every room in your home with fall decor. Plus, my favorite finds in fall decor for 2020!",
         92000,
         "Kristen | Lifestyle, Mom Tips & Teacher Stuff Blog",
         "Fall Home Decor,Autumn Home,Fall Decor Outdoor,Front Porch Fall Decor,Home Decor Ideas,Porch Ideas For Fall,Fall Outdoor Decorating,Decorating Ideas For Fall,Fall Front Doors",
         "image",
         "https://i.pinimg.com/originals/e5/ae/dc/e5aedc14ce557e3a69f672e0f8c88f6e.png",
         "/data/home-decor",
         "home-decor"
        ],
        [
         6063,
         "60693727-4927-4bd6-a8c5-096a392d63e6",
         "41 Gorgeous Fall Decor Ideas For Your Home - Chaylor & Mads",
         "Beautiful and easy ways to update every room in your home with fall decor. Plus, my favorite finds in fall decor for 2020!",
         92000,
         "Kristen | Lifestyle, Mom Tips & Teacher Stuff Blog",
         "Fall Home Decor,Autumn Home,Fall Decor Outdoor,Front Porch Fall Decor,Home Decor Ideas,Porch Ideas For Fall,Fall Outdoor Decorating,Decorating Ideas For Fall,Fall Front Doors",
         "image",
         "https://i.pinimg.com/originals/e5/ae/dc/e5aedc14ce557e3a69f672e0f8c88f6e.png",
         "/data/home-decor",
         "home-decor"
        ],
        [
         5076,
         "fa3af29c-dc78-4eed-a4c5-52a407ea04c0",
         "Quiz: Test Your Event IQ! - Pointers For Planners",
         "So you're thinking of getting your event planner certification, but how much do you REALLY know about event planning? Event planners need to be knowledgeable and able to answer… ",
         5000,
         "QC Career School",
         "Diy Wedding Food,Best Wedding Makeup,Wedding Events,Wedding Tips,Wedding Stuff,Weddings,Event Planning Business,Business Events,Wedding Makeup Tutorial",
         "image",
         "https://i.pinimg.com/originals/6f/19/bc/6f19bce24921bf843540fc04da9eb6bf.jpg",
         "/data/event-planning",
         "event-planning"
        ],
        [
         4137,
         "bf275054-4464-448b-9143-1bf101aa366d",
         "15 Essential Classroom Items For First Year Teachers / First Year Teacher Must Haves",
         "15 Essential Classroom Items For First Year Teachers / First Year Teacher Must Haves",
         5000,
         "Write Your Story | Budgeting, Healthy Lifestyle, Faith",
         "1st Year Teachers,First Year Teaching,First Grade Teachers,Elementary Teacher,Montessori Elementary,Teaching Reading,History Teachers,High School Classroom,First Grade Classroom",
         "image",
         "https://i.pinimg.com/originals/4b/b9/a8/4bb9a85f609a8384ed9c9ab14e7bcea0.jpg",
         "/data/education",
         "education"
        ],
        [
         2411,
         "4e11801e-7a64-4f1e-90dd-e900677595c5",
         "The Sweetest Gingerbread House Ornaments Kids Can Make",
         "Transform mini terra cotta pots into the sweetest gingerbread house ornaments! Kids will love making this adorable Christmas craft to hang on the tree.",
         20000,
         "Projects with Kids",
         "Noel Christmas,Diy Christmas Ornaments,Homemade Christmas,Simple Christmas,Gingerbread Ornaments,Christmas Gingerbread,Gingerbread Houses,Preschool Christmas,Ornaments Ideas",
         "image",
         "https://i.pinimg.com/originals/13/28/09/1328097d7c290d1bf8642b01a6ba1c6c.jpg",
         "/data/christmas",
         "christmas"
        ],
        [
         7166,
         "4a844b03-e161-47a1-904b-591eb5dc4fb1",
         "The Killers - Mr. Brightside - Women's T-Shirt - Heather Dark Grey / S",
         "Women's T-shirt. Design inspired by the rock band The Killers' hit \"Mr. Brightside\". One of the greatest song from the album Hot Fuss released in 2004. Soft and light, 100% cott… ",
         27,
         "Mala Rock | Rock T-shirts",
         "Mr Brightside,Rock T Shirts,Greatest Songs,Timeless Classic,Rock Bands,Album,T Shirts For Women,Inspired,Hot",
         "image",
         "https://i.pinimg.com/originals/8c/42/39/8c42391d35fcad51a4a79f7cd81bf26d.jpg",
         "/data/mens-fashion",
         "mens-fashion"
        ],
        [
         8930,
         "a2999c28-f7b2-4577-af87-49d21d6d8a18",
         "135 Sunflower Tattoo Ideas - [Best Rated Designs in 2021]",
         "We have put together the Ultimative Sunflower Tattoo Collection in 2020. Check out our highest rated handpicked Sunflower designs here!",
         800000,
         "Next Luxury",
         "Sunflower Tattoo Sleeve,Sunflower Tattoo Shoulder,Sunflower Tattoo Small,Sunflower Tattoos,Sunflower Tattoo Design,Shoulder Tattoo,Sunflower Mandala Tattoo,Sunflower Tattoo Meaning,Form Tattoo",
         "image",
         "https://i.pinimg.com/originals/18/de/6c/18de6c81a8637e224c7d63dce1414ceb.jpg",
         "/data/tattoos",
         "tattoos"
        ],
        [
         9672,
         "1a5050a4-ac82-472c-aeff-3457de8bbee9",
         "Lake Moraine, Banff, Canada",
         "On our Calgary to Vancouver road trip we got to spend time in Banff, Canada. We visited the stunning Lake Moraine as well as Lake Louise and plenty of other of Canada's natural… ",
         7000,
         "Travel Mad Mum",
         "Beautiful Places To Travel,Cool Places To Visit,Beautiful Roads,Beautiful Scenery,Wonderful Places,Lac Moraine,Moraine Lake,Lac Louise,Natur Wallpaper",
         "video",
         "https://i.pinimg.com/videos/thumbnails/originals/57/9d/52/579d52242ae5609978c754d393e44e81.0000001.jpg",
         "/data/travel",
         "travel"
        ],
        [
         9672,
         "1a5050a4-ac82-472c-aeff-3457de8bbee9",
         "Lake Moraine, Banff, Canada",
         "On our Calgary to Vancouver road trip we got to spend time in Banff, Canada. We visited the stunning Lake Moraine as well as Lake Louise and plenty of other of Canada's natural… ",
         7000,
         "Travel Mad Mum",
         "Beautiful Places To Travel,Cool Places To Visit,Beautiful Roads,Beautiful Scenery,Wonderful Places,Lac Moraine,Moraine Lake,Lac Louise,Natur Wallpaper",
         "video",
         "https://i.pinimg.com/videos/thumbnails/originals/57/9d/52/579d52242ae5609978c754d393e44e81.0000001.jpg",
         "/data/travel",
         "travel"
        ],
        [
         7294,
         "9d8409ef-bea7-4133-a021-c58b9c042210",
         "Foolproof Fall Fashion For Men You'll Love",
         "Looking for the coolest fall fashion for men this season? Click to read this article on fall fashion for men to look sharp on LLEGANCE.",
         28000,
         "LLEGANCE | Workwear Fashion Woman Advice For Driven Professionals",
         "Fashion 90s,Autumn Fashion,Fashion Ideas,Trendy Fashion,Fashion Photo,Fashion Outfits,Fashion Trends,Urban Fashion Men,Men's Casual Fashion",
         "image",
         "https://i.pinimg.com/originals/4c/bf/2d/4cbf2d6e04d2502612169220553f4cef.jpg",
         "/data/mens-fashion",
         "mens-fashion"
        ],
        [
         4913,
         "4d2d79c6-9ca8-46c9-a38e-931c5d967804",
         "How to Work From Home as an Event Planner",
         "Do you love planning parties? Do you want to work-at-home? This post covers everything you need to know about becoming a home-based event planner!",
         110000,
         "The Work at Home Woman",
         "Event Planning Tips,Event Planning Business,Party Planning,Business Ideas,Craft Business,Business Chic,Business Inspiration,Business Goals,Business Opportunities",
         "image",
         "https://i.pinimg.com/originals/4d/a3/a4/4da3a4730418239f1b43ce81fb032c15.jpg",
         "/data/event-planning",
         "event-planning"
        ],
        [
         2959,
         "439cac4b-18e8-4aaa-88c5-edb26a701111",
         "The Cutest Toilet Paper Crafts",
         "One thing I love about Crafts is how the evolve! These toilet paper rolls are adorable and modern. I love that something as simple as a recycled toilet paper roll can be taken t… ",
         502000,
         "CraftGossip.com",
         "Toilet Paper Roll Crafts,Cardboard Crafts,Diy Paper,Paper Crafting,Toilet Paper Rolls,Cardboard Playhouse,Paper Art,Kids Crafts,Toddler Crafts",
         "image",
         "https://i.pinimg.com/originals/c6/cd/0d/c6cd0d04da9cfc11566cfd34eeb1f918.jpg",
         "/data/diy-and-crafts",
         "diy-and-crafts"
        ],
        [
         2959,
         "439cac4b-18e8-4aaa-88c5-edb26a701111",
         "The Cutest Toilet Paper Crafts",
         "One thing I love about Crafts is how the evolve! These toilet paper rolls are adorable and modern. I love that something as simple as a recycled toilet paper roll can be taken t… ",
         502000,
         "CraftGossip.com",
         "Toilet Paper Roll Crafts,Cardboard Crafts,Diy Paper,Paper Crafting,Toilet Paper Rolls,Cardboard Playhouse,Paper Art,Kids Crafts,Toddler Crafts",
         "image",
         "https://i.pinimg.com/originals/c6/cd/0d/c6cd0d04da9cfc11566cfd34eeb1f918.jpg",
         "/data/diy-and-crafts",
         "diy-and-crafts"
        ],
        [
         2959,
         "439cac4b-18e8-4aaa-88c5-edb26a701111",
         "The Cutest Toilet Paper Crafts",
         "One thing I love about Crafts is how the evolve! These toilet paper rolls are adorable and modern. I love that something as simple as a recycled toilet paper roll can be taken t… ",
         502000,
         "CraftGossip.com",
         "Toilet Paper Roll Crafts,Cardboard Crafts,Diy Paper,Paper Crafting,Toilet Paper Rolls,Cardboard Playhouse,Paper Art,Kids Crafts,Toddler Crafts",
         "image",
         "https://i.pinimg.com/originals/c6/cd/0d/c6cd0d04da9cfc11566cfd34eeb1f918.jpg",
         "/data/diy-and-crafts",
         "diy-and-crafts"
        ],
        [
         9875,
         "782dcbad-ff91-40a6-ba60-216efe29adb7",
         "European Bucket List: 35 Things NOT To Miss When Traveling Europe",
         "35 European bucket list destinations for any traveler heading to Europe. From Cinque Terre, Italy to Iceland - there are so many amazing sites to see in Europe.",
         28000,
         "Nicki ",
         "Backpacking Europe,Europe Travel Guide,Travel Guides,Travel Packing,Traveling Europe,Travelling,Travel Backpack,Budget Travel,2 Week Europe Itinerary",
         "image",
         "https://i.pinimg.com/originals/71/04/1a/71041ad83ede43d9665741e719c58a86.jpg",
         "/data/travel",
         "travel"
        ],
        [
         428,
         "610b3f83-9fe0-469d-946c-d16b577fca71",
         "Fashion Designer Isaac Mizrahi’s Updated 1930s New York City Apartment",
         "Fashion designer Issac Mizrahi’s Greenwich Village home is an amalgamation of three apartments that was 20 years in the making",
         null,
         "Architectural Digest",
         "Modern Art,Contemporary Art,Contemporary Kitchens,Contemporary Bedroom,New York City Apartment,Manhattan Apartment,Art Moderne,Architectural Digest,Painting Inspiration",
         "image",
         "https://i.pinimg.com/originals/f4/6c/54/f46c546a2e480022a42d842b7dca157e.jpg",
         "/data/art",
         "art"
        ],
        [
         9875,
         "782dcbad-ff91-40a6-ba60-216efe29adb7",
         "European Bucket List: 35 Things NOT To Miss When Traveling Europe",
         "35 European bucket list destinations for any traveler heading to Europe. From Cinque Terre, Italy to Iceland - there are so many amazing sites to see in Europe.",
         28000,
         "Nicki ",
         "Backpacking Europe,Europe Travel Guide,Travel Guides,Travel Packing,Traveling Europe,Travelling,Travel Backpack,Budget Travel,2 Week Europe Itinerary",
         "image",
         "https://i.pinimg.com/originals/71/04/1a/71041ad83ede43d9665741e719c58a86.jpg",
         "/data/travel",
         "travel"
        ],
        [
         428,
         "610b3f83-9fe0-469d-946c-d16b577fca71",
         "Fashion Designer Isaac Mizrahi’s Updated 1930s New York City Apartment",
         "Fashion designer Issac Mizrahi’s Greenwich Village home is an amalgamation of three apartments that was 20 years in the making",
         null,
         "Architectural Digest",
         "Modern Art,Contemporary Art,Contemporary Kitchens,Contemporary Bedroom,New York City Apartment,Manhattan Apartment,Art Moderne,Architectural Digest,Painting Inspiration",
         "image",
         "https://i.pinimg.com/originals/f4/6c/54/f46c546a2e480022a42d842b7dca157e.jpg",
         "/data/art",
         "art"
        ],
        [
         9875,
         "782dcbad-ff91-40a6-ba60-216efe29adb7",
         "European Bucket List: 35 Things NOT To Miss When Traveling Europe",
         "35 European bucket list destinations for any traveler heading to Europe. From Cinque Terre, Italy to Iceland - there are so many amazing sites to see in Europe.",
         28000,
         "Nicki ",
         "Backpacking Europe,Europe Travel Guide,Travel Guides,Travel Packing,Traveling Europe,Travelling,Travel Backpack,Budget Travel,2 Week Europe Itinerary",
         "image",
         "https://i.pinimg.com/originals/71/04/1a/71041ad83ede43d9665741e719c58a86.jpg",
         "/data/travel",
         "travel"
        ],
        [
         428,
         "610b3f83-9fe0-469d-946c-d16b577fca71",
         "Fashion Designer Isaac Mizrahi’s Updated 1930s New York City Apartment",
         "Fashion designer Issac Mizrahi’s Greenwich Village home is an amalgamation of three apartments that was 20 years in the making",
         null,
         "Architectural Digest",
         "Modern Art,Contemporary Art,Contemporary Kitchens,Contemporary Bedroom,New York City Apartment,Manhattan Apartment,Art Moderne,Architectural Digest,Painting Inspiration",
         "image",
         "https://i.pinimg.com/originals/f4/6c/54/f46c546a2e480022a42d842b7dca157e.jpg",
         "/data/art",
         "art"
        ],
        [
         3454,
         "46bd3f86-b09d-4e29-9033-7ff2df595e51",
         "What can you use to color resin?",
         "HELPFUL RESOURCES – Check out my resin colorants resources page here with links to all the products mentioned in this article (and more). Let me know if you have any that you lo… ",
         6000,
         "Mixed Media Crafts",
         "Epoxy Resin Art,Diy Resin Art,Diy Resin Crafts,Resin Molds,Ice Resin,Resin Pour,Diy Epoxy,Diy Resin Painting,Diy Resin Dice",
         "image",
         "https://i.pinimg.com/originals/d4/12/78/d4127833023ca32600571ddca16f1556.jpg",
         "/data/diy-and-crafts",
         "diy-and-crafts"
        ],
        [
         3454,
         "46bd3f86-b09d-4e29-9033-7ff2df595e51",
         "What can you use to color resin?",
         "HELPFUL RESOURCES – Check out my resin colorants resources page here with links to all the products mentioned in this article (and more). Let me know if you have any that you lo… ",
         6000,
         "Mixed Media Crafts",
         "Epoxy Resin Art,Diy Resin Art,Diy Resin Crafts,Resin Molds,Ice Resin,Resin Pour,Diy Epoxy,Diy Resin Painting,Diy Resin Dice",
         "image",
         "https://i.pinimg.com/originals/d4/12/78/d4127833023ca32600571ddca16f1556.jpg",
         "/data/diy-and-crafts",
         "diy-and-crafts"
        ],
        [
         3454,
         "46bd3f86-b09d-4e29-9033-7ff2df595e51",
         "What can you use to color resin?",
         "HELPFUL RESOURCES – Check out my resin colorants resources page here with links to all the products mentioned in this article (and more). Let me know if you have any that you lo… ",
         6000,
         "Mixed Media Crafts",
         "Epoxy Resin Art,Diy Resin Art,Diy Resin Crafts,Resin Molds,Ice Resin,Resin Pour,Diy Epoxy,Diy Resin Painting,Diy Resin Dice",
         "image",
         "https://i.pinimg.com/originals/d4/12/78/d4127833023ca32600571ddca16f1556.jpg",
         "/data/diy-and-crafts",
         "diy-and-crafts"
        ],
        [
         5730,
         "1e1f0c8b-9fcf-460b-9154-c775827206eb",
         "Island Oasis Coupon Organizer",
         "Description Coupon Organizer in a fun colorful fabric -island oasis, Great Size for the \"basic\" couponer - holds up to 500 coupons with ease, and is made long enough so that you… ",
         0,
         "Consuelo Aguirre",
         "Grocery Items,Grocery Coupons,Care Organization,Coupon Organization,Extreme Couponing,Couponing 101,Life Binder,Save My Money,Love Coupons",
         "image",
         "https://i.pinimg.com/originals/65/bb/ea/65bbeaf458907bb079317d8303c4fa0e.jpg",
         "/data/finance",
         "finance"
        ],
        [
         5730,
         "1e1f0c8b-9fcf-460b-9154-c775827206eb",
         "Island Oasis Coupon Organizer",
         "Description Coupon Organizer in a fun colorful fabric -island oasis, Great Size for the \"basic\" couponer - holds up to 500 coupons with ease, and is made long enough so that you… ",
         0,
         "Consuelo Aguirre",
         "Grocery Items,Grocery Coupons,Care Organization,Coupon Organization,Extreme Couponing,Couponing 101,Life Binder,Save My Money,Love Coupons",
         "image",
         "https://i.pinimg.com/originals/65/bb/ea/65bbeaf458907bb079317d8303c4fa0e.jpg",
         "/data/finance",
         "finance"
        ],
        [
         719,
         "d7c53e34-9540-4f48-a31b-89b6ed1852bb",
         "10 Art Sub Lessons that only need a Pencil",
         "10 art sub lessons that only need a pencil. Cover lessons for art teachers. Make the perfect art sub lessson folder with this amazing resources.",
         25000,
         "The Arty Teacher",
         "Art Lessons For Kids,Art Lessons Elementary,Art For Kids,Art Sub Plans,Art Lesson Plans,Art Substitute Plans,High School Art,Middle School Art,Primary School Art",
         "image",
         "https://i.pinimg.com/originals/ee/a8/78/eea878911033897d981a69d9f6b2fb7c.png",
         "/data/art",
         "art"
        ],
        [
         2074,
         "86ed09a7-842d-496d-9501-010c654eb340",
         "35 Christmas Decorating Ideas We Bet You Haven't Thought Of",
         "20 Christmas Decorating Ideas We Bet You Haven't Thought Of via @PureWow",
         868000,
         "PureWow",
         "Holiday Centerpieces,Xmas Decorations,Centerpiece Ideas,Table Centerpieces,Valentine Decorations,Wedding Centerpieces,Outdoor Decorations,Christmas Centerpieces With Candles,Christmas Dining Table Decorations",
         "image",
         "https://i.pinimg.com/originals/e9/b9/f0/e9b9f01cc3b2cf41948b45854335396c.jpg",
         "/data/christmas",
         "christmas"
        ],
        [
         2074,
         "86ed09a7-842d-496d-9501-010c654eb340",
         "35 Christmas Decorating Ideas We Bet You Haven't Thought Of",
         "20 Christmas Decorating Ideas We Bet You Haven't Thought Of via @PureWow",
         868000,
         "PureWow",
         "Holiday Centerpieces,Xmas Decorations,Centerpiece Ideas,Table Centerpieces,Valentine Decorations,Wedding Centerpieces,Outdoor Decorations,Christmas Centerpieces With Candles,Christmas Dining Table Decorations",
         "image",
         "https://i.pinimg.com/originals/e9/b9/f0/e9b9f01cc3b2cf41948b45854335396c.jpg",
         "/data/christmas",
         "christmas"
        ],
        [
         831,
         "5e65914d-9f58-4ff1-9676-658e426e8ce5",
         "creating mixed-media faces tutorial",
         "Free quick inspirational video on creating a mixed media face with acrylic, collage, stenciling and simple techniques. Come on over to watch",
         27000,
         "Shawn Petite",
         "Collage Kunst,Paper Collage Art,Collage Art Mixed Media,Mixed Media Painting,Mixed Media Canvas,Canvas Collage,Art Collages,Wall Canvas,Canvas Art",
         "video",
         "https://i.pinimg.com/videos/thumbnails/originals/05/86/a4/0586a4116e1fc34efc25e064ccd123e8.0000001.jpg",
         "/data/art",
         "art"
        ],
        [
         205,
         "f4afd543-b9fe-44c3-8064-f2198faa1372",
         "DIY Abstract Heart Painting and a Fun Paint Party",
         "Use our easy step by step tutorial to create a DIY abstract heart painting on any canvas size. Lots of inspiration to help you choose colors.",
         410000,
         "The Creativity Exchange",
         "Painting & Drawing,Watercolor Paintings,Original Paintings,Owl Watercolor,Acrylic Paintings,Owl Art,Bird Art,Beginner Painting,Animal Paintings",
         "image",
         "https://i.pinimg.com/originals/33/85/f8/3385f82ee5e8ecdcccdf798bdcbee3d2.jpg",
         "/data/art",
         "art"
        ],
        [
         5468,
         "91ee49f6-0070-4270-ba19-fde88ba51c91",
         "Budgets, Spouses & Making It Work! - Tshanina Peterson",
         "Don't fight about budgets and money with your spouse! Here are a few tips that we've found that make it work in our marriage!",
         313,
         "Annamarie Hilton",
         "Ways To Save Money,Money Tips,Money Saving Tips,How To Make Money,Managing Money,Saving Time,College Fund,Scholarships For College,Education College",
         "image",
         "https://i.pinimg.com/originals/37/d5/82/37d58296bcef3471a633c76b89d8625e.jpg",
         "/data/finance",
         "finance"
        ],
        [
         7790,
         "9cd89fb9-d1af-4e66-85ca-c9d656c918b4",
         "50 Heart Touching Sad Quotes That Will Make You Cry",
         "Are you looking for some heart touching sad quotes and sayings; Here we have collected for you 50 best heart touching sad quotes..",
         112,
         "AnnaLee Kick",
         "Crush Quotes For Girls,Sad Crush Quotes,Hurt Quotes,Love Me Quotes,Mood Quotes,Quotes To Live By,Life Quotes,Quotes Quotes,Sad Quotes That Make You Cry",
         "image",
         "https://i.pinimg.com/originals/0c/0f/40/0c0f408d96458080e0c82adb50be8e8f.jpg",
         "/data/quotes",
         "quotes"
        ],
        [
         10663,
         "d5208c16-82ae-4fd1-87f0-36e5ef789412",
         "21+ Classic Car Picture of the 1950s - Vintagetopia",
         "There are a lot of options of places to stay so you probably only have to book the initial one so you know the best place to land from the airport",
         171000,
         "vintagetopia",
         "Old Classic Cars,Classic Trucks,Old Vintage Cars,Antique Cars,Vintage Trucks,Antique Trucks,Cadillac,Convertible,Mustang",
         "image",
         "https://i.pinimg.com/originals/e9/01/4d/e9014d537dd2b81c606e8466cef3904c.jpg",
         "/data/vehicles",
         "vehicles"
        ],
        [
         2863,
         "9bf39437-42a6-4f02-99a0-9a0383d8cd70",
         "25 Super Fun Summer Crafts for Kids - Of Life and Lisa",
         "Keep the kids busy this summer with these easy diy crafts and projects. Creative and…",
         124000,
         "Of Life & Lisa | Lifestyle Blog",
         "Summer Crafts For Kids,Fun Crafts For Kids,Summer Kids,Toddler Crafts,Crafts To Do,Diy For Kids,Summer Snow,Diys For Summer,Craft Ideas For Girls",
         "image",
         "https://i.pinimg.com/originals/b3/bc/e2/b3bce2964e8c8975387b39660eed5f16.jpg",
         "/data/diy-and-crafts",
         "diy-and-crafts"
        ],
        [
         2863,
         "9bf39437-42a6-4f02-99a0-9a0383d8cd70",
         "25 Super Fun Summer Crafts for Kids - Of Life and Lisa",
         "Keep the kids busy this summer with these easy diy crafts and projects. Creative and…",
         124000,
         "Of Life & Lisa | Lifestyle Blog",
         "Summer Crafts For Kids,Fun Crafts For Kids,Summer Kids,Toddler Crafts,Crafts To Do,Diy For Kids,Summer Snow,Diys For Summer,Craft Ideas For Girls",
         "image",
         "https://i.pinimg.com/originals/b3/bc/e2/b3bce2964e8c8975387b39660eed5f16.jpg",
         "/data/diy-and-crafts",
         "diy-and-crafts"
        ],
        [
         8653,
         "24b1343c-4d86-4705-8ec9-7f1f2df2d77e",
         "Unique Women Tattoos Ideas 2020",
         "We welcome you to our latest collection of Beautiful Tattoo Ideas For Women. Check out and get inspired by the most beautiful design for yourself.",
         21000,
         "ALL FOR WOMAN",
         "Small Back Tattoos,Small Girl Tattoos,Little Tattoos,Tattoo Girls,Mini Tattoos,Tattoo Small,Back Tattoo Women,Tattoo On Back,Girl Back Tattoos",
         "image",
         "https://i.pinimg.com/originals/fa/cf/7c/facf7cd752a4bc7c09faaa8925ab80b1.jpg",
         "/data/tattoos",
         "tattoos"
        ],
        [
         2863,
         "9bf39437-42a6-4f02-99a0-9a0383d8cd70",
         "25 Super Fun Summer Crafts for Kids - Of Life and Lisa",
         "Keep the kids busy this summer with these easy diy crafts and projects. Creative and…",
         124000,
         "Of Life & Lisa | Lifestyle Blog",
         "Summer Crafts For Kids,Fun Crafts For Kids,Summer Kids,Toddler Crafts,Crafts To Do,Diy For Kids,Summer Snow,Diys For Summer,Craft Ideas For Girls",
         "image",
         "https://i.pinimg.com/originals/b3/bc/e2/b3bce2964e8c8975387b39660eed5f16.jpg",
         "/data/diy-and-crafts",
         "diy-and-crafts"
        ],
        [
         8653,
         "24b1343c-4d86-4705-8ec9-7f1f2df2d77e",
         "Unique Women Tattoos Ideas 2020",
         "We welcome you to our latest collection of Beautiful Tattoo Ideas For Women. Check out and get inspired by the most beautiful design for yourself.",
         21000,
         "ALL FOR WOMAN",
         "Small Back Tattoos,Small Girl Tattoos,Little Tattoos,Tattoo Girls,Mini Tattoos,Tattoo Small,Back Tattoo Women,Tattoo On Back,Girl Back Tattoos",
         "image",
         "https://i.pinimg.com/originals/fa/cf/7c/facf7cd752a4bc7c09faaa8925ab80b1.jpg",
         "/data/tattoos",
         "tattoos"
        ],
        [
         2923,
         "52fa3af5-24a4-4ccb-8f17-9c3eb12327ee",
         "UFO Paper Plate Craft",
         "A fun space activity for kids. Preshoolers and kindergartners will love making their own alien spacecraft!",
         192000,
         "The Crafting Chicks",
         "Paper Plate Crafts For Kids,Fun Crafts For Kids,Summer Crafts,Toddler Crafts,Art For Kids,Outer Space Crafts For Kids,Kid Crafts,Space Kids,Back To School Crafts For Kids",
         "image",
         "https://i.pinimg.com/originals/6f/e8/aa/6fe8aa405513c6d2f77b5f47d17cdce8.jpg",
         "/data/diy-and-crafts",
         "diy-and-crafts"
        ],
        [
         2923,
         "52fa3af5-24a4-4ccb-8f17-9c3eb12327ee",
         "UFO Paper Plate Craft",
         "A fun space activity for kids. Preshoolers and kindergartners will love making their own alien spacecraft!",
         192000,
         "The Crafting Chicks",
         "Paper Plate Crafts For Kids,Fun Crafts For Kids,Summer Crafts,Toddler Crafts,Art For Kids,Outer Space Crafts For Kids,Kid Crafts,Space Kids,Back To School Crafts For Kids",
         "image",
         "https://i.pinimg.com/originals/6f/e8/aa/6fe8aa405513c6d2f77b5f47d17cdce8.jpg",
         "/data/diy-and-crafts",
         "diy-and-crafts"
        ],
        [
         2923,
         "52fa3af5-24a4-4ccb-8f17-9c3eb12327ee",
         "UFO Paper Plate Craft",
         "A fun space activity for kids. Preshoolers and kindergartners will love making their own alien spacecraft!",
         192000,
         "The Crafting Chicks",
         "Paper Plate Crafts For Kids,Fun Crafts For Kids,Summer Crafts,Toddler Crafts,Art For Kids,Outer Space Crafts For Kids,Kid Crafts,Space Kids,Back To School Crafts For Kids",
         "image",
         "https://i.pinimg.com/originals/6f/e8/aa/6fe8aa405513c6d2f77b5f47d17cdce8.jpg",
         "/data/diy-and-crafts",
         "diy-and-crafts"
        ],
        [
         9546,
         "efd5b2d6-2f69-40cd-bb59-41f18c089e52",
         "20 Amazing Trips to Take in Your Twenties!",
         "The best trips to take when you are young!",
         89000,
         "The World Pursuit Travel Website",
         "Fun Places To Go,Beautiful Places To Travel,Best Places To Travel,Travel Jobs,Holiday Places,Future Travel,Travel Around The World,Adventure Travel,Travel Photos",
         "video",
         "https://i.pinimg.com/videos/thumbnails/originals/81/97/c1/8197c1beef8bcb19bea5d8b422211f34.0000001.jpg",
         "/data/travel",
         "travel"
        ],
        [
         8731,
         "ea760f71-febf-4023-b592-d17396659039",
         "20 Koi Fish Tattoos For Lucky Men",
         "Koi fish tattoos are a popular choice for men who want to make a statement, thanks to their rich symbolism and bold design.",
         211000,
         "TheTrendSpotter",
         "Dr Tattoo,Wörter Tattoos,Pisces Tattoos,Tatoo Art,Dream Tattoos,Dope Tattoos,Mini Tattoos,Finger Tattoos,Body Art Tattoos",
         "image",
         "https://i.pinimg.com/originals/8a/0c/0a/8a0c0a7b6236565c519acd41ad1a52c0.jpg",
         "/data/tattoos",
         "tattoos"
        ],
        [
         8731,
         "ea760f71-febf-4023-b592-d17396659039",
         "20 Koi Fish Tattoos For Lucky Men",
         "Koi fish tattoos are a popular choice for men who want to make a statement, thanks to their rich symbolism and bold design.",
         211000,
         "TheTrendSpotter",
         "Dr Tattoo,Wörter Tattoos,Pisces Tattoos,Tatoo Art,Dream Tattoos,Dope Tattoos,Mini Tattoos,Finger Tattoos,Body Art Tattoos",
         "image",
         "https://i.pinimg.com/originals/8a/0c/0a/8a0c0a7b6236565c519acd41ad1a52c0.jpg",
         "/data/tattoos",
         "tattoos"
        ],
        [
         8304,
         "5b6d0913-25e4-43ab-839d-85d5516f78a4",
         "The #1 Reason You’re Not His Priority Anymore - Matthew Coast",
         "#lovequotes #matchmaker #matchmadeinheaven #loveyourself #respectyourself",
         51000,
         "Commitment Connection",
         "Wise Quotes,Quotable Quotes,Words Quotes,Wise Words,Quotes To Live By,Great Quotes,Motivational Quotes,Inspirational Quotes,Funny Quotes",
         "image",
         "https://i.pinimg.com/originals/c6/64/ee/c664ee71524fb5a6e7b7b49233f93b43.png",
         "/data/quotes",
         "quotes"
        ],
        [
         8304,
         "5b6d0913-25e4-43ab-839d-85d5516f78a4",
         "The #1 Reason You’re Not His Priority Anymore - Matthew Coast",
         "#lovequotes #matchmaker #matchmadeinheaven #loveyourself #respectyourself",
         51000,
         "Commitment Connection",
         "Wise Quotes,Quotable Quotes,Words Quotes,Wise Words,Quotes To Live By,Great Quotes,Motivational Quotes,Inspirational Quotes,Funny Quotes",
         "image",
         "https://i.pinimg.com/originals/c6/64/ee/c664ee71524fb5a6e7b7b49233f93b43.png",
         "/data/quotes",
         "quotes"
        ],
        [
         7554,
         "c6fa12f4-0d4a-4b07-a335-5bf9f37f8281",
         "Craig Style",
         "imgentleboss: “ - More about men’s fashion at @Gentleboss - GB’s Facebook - ”",
         940,
         "iElylike ..✿◕‿◕✿ஐ✿◕‿◕✿",
         "Mens Fashion Blog,Look Fashion,Autumn Fashion,Fashion News,Fashion Sale,80s Fashion,Paris Fashion,Runway Fashion,Fashion Trends",
         "image",
         "https://i.pinimg.com/originals/e7/6e/8e/e76e8ed6cc838b84a934c6948a5caff7.jpg",
         "/data/mens-fashion",
         "mens-fashion"
        ],
        [
         7554,
         "c6fa12f4-0d4a-4b07-a335-5bf9f37f8281",
         "Craig Style",
         "imgentleboss: “ - More about men’s fashion at @Gentleboss - GB’s Facebook - ”",
         940,
         "iElylike ..✿◕‿◕✿ஐ✿◕‿◕✿",
         "Mens Fashion Blog,Look Fashion,Autumn Fashion,Fashion News,Fashion Sale,80s Fashion,Paris Fashion,Runway Fashion,Fashion Trends",
         "image",
         "https://i.pinimg.com/originals/e7/6e/8e/e76e8ed6cc838b84a934c6948a5caff7.jpg",
         "/data/mens-fashion",
         "mens-fashion"
        ],
        [
         7554,
         "c6fa12f4-0d4a-4b07-a335-5bf9f37f8281",
         "Craig Style",
         "imgentleboss: “ - More about men’s fashion at @Gentleboss - GB’s Facebook - ”",
         940,
         "iElylike ..✿◕‿◕✿ஐ✿◕‿◕✿",
         "Mens Fashion Blog,Look Fashion,Autumn Fashion,Fashion News,Fashion Sale,80s Fashion,Paris Fashion,Runway Fashion,Fashion Trends",
         "image",
         "https://i.pinimg.com/originals/e7/6e/8e/e76e8ed6cc838b84a934c6948a5caff7.jpg",
         "/data/mens-fashion",
         "mens-fashion"
        ],
        [
         8887,
         "5df9f6e5-07f5-4ce8-a82e-96586bbc05d8",
         "25 Ultra Sexy Back Tattoo Ideas For Girls",
         "Tattoos are one of the most efficient ways through which one decides to express themselves…",
         4000,
         "RapidLeaks",
         "Dream Tattoos,Body Art Tattoos,New Tattoos,Small Tattoos,Cross Tattoos,Random Tattoos,Fashion Tattoos,Bird Tattoos,Fitness Tattoos",
         "image",
         "https://i.pinimg.com/originals/ab/8e/50/ab8e505b04d4abc8f23e273c15f8a65d.jpg",
         "/data/tattoos",
         "tattoos"
        ],
        [
         8887,
         "5df9f6e5-07f5-4ce8-a82e-96586bbc05d8",
         "25 Ultra Sexy Back Tattoo Ideas For Girls",
         "Tattoos are one of the most efficient ways through which one decides to express themselves…",
         4000,
         "RapidLeaks",
         "Dream Tattoos,Body Art Tattoos,New Tattoos,Small Tattoos,Cross Tattoos,Random Tattoos,Fashion Tattoos,Bird Tattoos,Fitness Tattoos",
         "image",
         "https://i.pinimg.com/originals/ab/8e/50/ab8e505b04d4abc8f23e273c15f8a65d.jpg",
         "/data/tattoos",
         "tattoos"
        ],
        [
         1313,
         "44662045-e891-4821-8a19-ebe7eedd371a",
         "Liquid Lash Extensions Mascara",
         "Instantly create the look of lash extensions with this award-winning, best-selling mascara that won't clump, flake or smudge. Available in 3 shades!",
         43000,
         "Thrive Causemetics",
         "N,o, ,T,a,g,s, ,A,v,a,i,l,a,b,l,e",
         "video",
         "https://i.pinimg.com/videos/thumbnails/originals/69/84/e2/6984e20f3e262098fa9c0614c3453254.0000001.jpg",
         "/data/beauty",
         "beauty"
        ],
        [
         1313,
         "44662045-e891-4821-8a19-ebe7eedd371a",
         "Liquid Lash Extensions Mascara",
         "Instantly create the look of lash extensions with this award-winning, best-selling mascara that won't clump, flake or smudge. Available in 3 shades!",
         43000,
         "Thrive Causemetics",
         "N,o, ,T,a,g,s, ,A,v,a,i,l,a,b,l,e",
         "video",
         "https://i.pinimg.com/videos/thumbnails/originals/69/84/e2/6984e20f3e262098fa9c0614c3453254.0000001.jpg",
         "/data/beauty",
         "beauty"
        ],
        [
         10625,
         "d31885b7-742a-4e2a-bbb7-ac5f9d334340",
         "Jaguar Type E",
         "1937 Jaguar SS100 - 2 1/2 Litre Roadster, one of the most sought after pre-war sports cars",
         8000,
         "hobbyDB",
         "Jaguar Type E,Jaguar Xk,Jaguar Cars,Jaguar Roadster,Jaguar Sport,Retro Cars,Vintage Cars,Antique Cars,British Sports Cars",
         "image",
         "https://i.pinimg.com/originals/26/81/a7/2681a71bd0c8f7fd0ab79c455338a49a.jpg",
         "/data/vehicles",
         "vehicles"
        ],
        [
         10625,
         "d31885b7-742a-4e2a-bbb7-ac5f9d334340",
         "Jaguar Type E",
         "1937 Jaguar SS100 - 2 1/2 Litre Roadster, one of the most sought after pre-war sports cars",
         8000,
         "hobbyDB",
         "Jaguar Type E,Jaguar Xk,Jaguar Cars,Jaguar Roadster,Jaguar Sport,Retro Cars,Vintage Cars,Antique Cars,British Sports Cars",
         "image",
         "https://i.pinimg.com/originals/26/81/a7/2681a71bd0c8f7fd0ab79c455338a49a.jpg",
         "/data/vehicles",
         "vehicles"
        ],
        [
         10625,
         "d31885b7-742a-4e2a-bbb7-ac5f9d334340",
         "Jaguar Type E",
         "1937 Jaguar SS100 - 2 1/2 Litre Roadster, one of the most sought after pre-war sports cars",
         8000,
         "hobbyDB",
         "Jaguar Type E,Jaguar Xk,Jaguar Cars,Jaguar Roadster,Jaguar Sport,Retro Cars,Vintage Cars,Antique Cars,British Sports Cars",
         "image",
         "https://i.pinimg.com/originals/26/81/a7/2681a71bd0c8f7fd0ab79c455338a49a.jpg",
         "/data/vehicles",
         "vehicles"
        ],
        [
         9590,
         "b849e976-52f6-45d7-8b25-51559318f167",
         "Top 20 Things To See And Do In Ireland",
         "Best spots to see for travel through Ireland!",
         130000,
         "Fun Life Crisis",
         "Vacation Ideas,Vacation Spots,Emerald Isle,London England,Travel Guides,Travel Tips,Travel Hacks,Travel Packing,Places To Travel",
         "image",
         "https://i.pinimg.com/originals/c7/50/d3/c750d36524856873d64406652d69b4fb.png",
         "/data/travel",
         "travel"
        ],
        [
         1014,
         "9ac94307-bb27-410e-b554-0a0ab6c19847",
         "Hairstyles & Beauty",
         "Untitled",
         0,
         "Grecia Perales",
         "Hair Inspo,Hair Inspiration,Motivation Inspiration,Cl Rapper,Foto Glamour,Kreative Portraits,Classy Aesthetic,Pretty Hairstyles,Hair Looks",
         "image",
         "https://i.pinimg.com/originals/af/c4/59/afc459bd6e1fd8f9aef212504afebf3a.jpg",
         "/data/beauty",
         "beauty"
        ],
        [
         10794,
         "c4bd2577-a7bb-4409-bb7a-17d5ed7e1cf1",
         "TireBuyer",
         "Nissan GT-R. Sick.",
         437,
         "Ray Uyemura",
         "Lowrider,Old Vintage Cars,Antique Cars,Austin Martin,Nissan Gtr Black,Jaguar,1959 Cadillac,Cadillac Ct6,Old School Cars",
         "image",
         "https://i.pinimg.com/originals/0d/29/9f/0d299f3df020395aa7ce8387f40fbeed.jpg",
         "/data/vehicles",
         "vehicles"
        ],
        [
         10794,
         "c4bd2577-a7bb-4409-bb7a-17d5ed7e1cf1",
         "TireBuyer",
         "Nissan GT-R. Sick.",
         437,
         "Ray Uyemura",
         "Lowrider,Old Vintage Cars,Antique Cars,Austin Martin,Nissan Gtr Black,Jaguar,1959 Cadillac,Cadillac Ct6,Old School Cars",
         "image",
         "https://i.pinimg.com/originals/0d/29/9f/0d299f3df020395aa7ce8387f40fbeed.jpg",
         "/data/vehicles",
         "vehicles"
        ],
        [
         10794,
         "c4bd2577-a7bb-4409-bb7a-17d5ed7e1cf1",
         "TireBuyer",
         "Nissan GT-R. Sick.",
         437,
         "Ray Uyemura",
         "Lowrider,Old Vintage Cars,Antique Cars,Austin Martin,Nissan Gtr Black,Jaguar,1959 Cadillac,Cadillac Ct6,Old School Cars",
         "image",
         "https://i.pinimg.com/originals/0d/29/9f/0d299f3df020395aa7ce8387f40fbeed.jpg",
         "/data/vehicles",
         "vehicles"
        ],
        [
         3089,
         "88f9227e-88d0-4b1c-b0be-bcfc3028b8e2",
         "No Title Data Available",
         "No description available Story format",
         null,
         "User Info Error",
         "N,o, ,T,a,g,s, ,A,v,a,i,l,a,b,l,e",
         "multi-video(story page format)",
         "Image src error.",
         "/data/diy-and-crafts",
         "diy-and-crafts"
        ],
        [
         3089,
         "88f9227e-88d0-4b1c-b0be-bcfc3028b8e2",
         "No Title Data Available",
         "No description available Story format",
         null,
         "User Info Error",
         "N,o, ,T,a,g,s, ,A,v,a,i,l,a,b,l,e",
         "multi-video(story page format)",
         "Image src error.",
         "/data/diy-and-crafts",
         "diy-and-crafts"
        ],
        [
         3089,
         "88f9227e-88d0-4b1c-b0be-bcfc3028b8e2",
         "No Title Data Available",
         "No description available Story format",
         null,
         "User Info Error",
         "N,o, ,T,a,g,s, ,A,v,a,i,l,a,b,l,e",
         "multi-video(story page format)",
         "Image src error.",
         "/data/diy-and-crafts",
         "diy-and-crafts"
        ],
        [
         7528,
         "fbe53c66-3442-4773-b19e-d3ec6f54dddf",
         "No Title Data Available",
         "No description available Story format",
         null,
         "User Info Error",
         "N,o, ,T,a,g,s, ,A,v,a,i,l,a,b,l,e",
         "multi-video(story page format)",
         "Image src error.",
         "/data/mens-fashion",
         "mens-fashion"
        ],
        [
         7528,
         "fbe53c66-3442-4773-b19e-d3ec6f54dddf",
         "No Title Data Available",
         "No description available Story format",
         null,
         "User Info Error",
         "N,o, ,T,a,g,s, ,A,v,a,i,l,a,b,l,e",
         "multi-video(story page format)",
         "Image src error.",
         "/data/mens-fashion",
         "mens-fashion"
        ],
        [
         7528,
         "fbe53c66-3442-4773-b19e-d3ec6f54dddf",
         "No Title Data Available",
         "No description available Story format",
         null,
         "User Info Error",
         "N,o, ,T,a,g,s, ,A,v,a,i,l,a,b,l,e",
         "multi-video(story page format)",
         "Image src error.",
         "/data/mens-fashion",
         "mens-fashion"
        ],
        [
         7528,
         "fbe53c66-3442-4773-b19e-d3ec6f54dddf",
         "No Title Data Available",
         "No description available Story format",
         null,
         "User Info Error",
         "N,o, ,T,a,g,s, ,A,v,a,i,l,a,b,l,e",
         "multi-video(story page format)",
         "Image src error.",
         "/data/mens-fashion",
         "mens-fashion"
        ]
       ],
       "datasetInfos": [],
       "dbfsResultPath": null,
       "isJsonSchema": true,
       "metadata": {},
       "overflow": false,
       "plotOptions": {
        "customPlotOptions": {},
        "displayType": "table",
        "pivotAggregation": null,
        "pivotColumns": null,
        "xColumns": null,
        "yColumns": null
       },
       "removedWidgets": [],
       "schema": [
        {
         "metadata": "{}",
         "name": "ind",
         "type": "\"long\""
        },
        {
         "metadata": "{}",
         "name": "unique_id",
         "type": "\"string\""
        },
        {
         "metadata": "{}",
         "name": "title",
         "type": "\"string\""
        },
        {
         "metadata": "{}",
         "name": "description",
         "type": "\"string\""
        },
        {
         "metadata": "{}",
         "name": "follower_count",
         "type": "\"integer\""
        },
        {
         "metadata": "{}",
         "name": "poster_name",
         "type": "\"string\""
        },
        {
         "metadata": "{}",
         "name": "tag_list",
         "type": "\"string\""
        },
        {
         "metadata": "{}",
         "name": "is_image_or_video",
         "type": "\"string\""
        },
        {
         "metadata": "{}",
         "name": "image_src",
         "type": "\"string\""
        },
        {
         "metadata": "{}",
         "name": "save_location",
         "type": "\"string\""
        },
        {
         "metadata": "{}",
         "name": "category",
         "type": "\"string\""
        }
       ],
       "type": "table"
      }
     },
     "output_type": "display_data"
    }
   ],
   "source": [
    "from pyspark.sql.functions import col, expr, regexp_extract, when\n",
    "from pyspark.sql.types import IntegerType\n",
    "\n",
    "df_pin_cleaned = df_pin.replace('', None).na.drop()\n",
    "\n",
    "df_pin_cleaned = df_pin_cleaned.withColumn(\n",
    "    'follower_count',\n",
    "    when(col('follower_count').like('%k'), (expr(\"CAST(SUBSTRING(follower_count, 1, LENGTH(follower_count) - 1) AS INT)\") * 1000))\n",
    "    .when(col('follower_count').like('%m'), (expr(\"CAST(SUBSTRING(follower_count, 1, LENGTH(follower_count) - 1) AS INT)\") * 1000000))\n",
    "    .otherwise(col('follower_count').cast(IntegerType()))\n",
    ")\n",
    "\n",
    "numeric_columns = ['follower_count']\n",
    "for column in numeric_columns:\n",
    "    df_pin_cleaned = df_pin_cleaned.withColumn(column, col(column).cast(IntegerType()))\n",
    "\n",
    "df_pin_cleaned = df_pin_cleaned.withColumn(\n",
    "    'save_location',\n",
    "    regexp_extract(col('save_location'), r'Local save in (.+)', 1)\n",
    ")\n",
    "\n",
    "df_pin_cleaned = df_pin_cleaned.withColumnRenamed('index', 'ind')\n",
    "\n",
    "column_order = ['ind', 'unique_id', 'title', 'description', 'follower_count', 'poster_name', 'tag_list', 'is_image_or_video', 'image_src', 'save_location', 'category']\n",
    "df_pin = df_pin_cleaned.select(column_order)\n",
    "\n",
    "display(df_pin)\n"
   ]
  },
  {
   "cell_type": "code",
   "execution_count": null,
   "metadata": {
    "application/vnd.databricks.v1+cell": {
     "cellMetadata": {
      "byteLimit": 2048000,
      "rowLimit": 10000
     },
     "inputWidgets": {},
     "nuid": "d845b9fe-5f3d-4b3a-8556-712d961eff30",
     "showTitle": false,
     "title": ""
    }
   },
   "outputs": [
    {
     "data": {
      "text/html": [
       "<style scoped>\n",
       "  .table-result-container {\n",
       "    max-height: 300px;\n",
       "    overflow: auto;\n",
       "  }\n",
       "  table, th, td {\n",
       "    border: 1px solid black;\n",
       "    border-collapse: collapse;\n",
       "  }\n",
       "  th, td {\n",
       "    padding: 5px;\n",
       "  }\n",
       "  th {\n",
       "    text-align: left;\n",
       "  }\n",
       "</style><div class='table-result-container'><table class='table-result'><thead style='background-color: white'><tr><th>ind</th><th>country</th><th>coordinates</th><th>timestamp</th></tr></thead><tbody><tr><td>2418</td><td>Antarctica (the territory South of 60 deg S)</td><td>List(-88.4642, -171.061)</td><td>2022-05-27T11:30:59.000+0000</td></tr><tr><td>2418</td><td>Antarctica (the territory South of 60 deg S)</td><td>List(-88.4642, -171.061)</td><td>2022-05-27T11:30:59.000+0000</td></tr><tr><td>2418</td><td>Antarctica (the territory South of 60 deg S)</td><td>List(-88.4642, -171.061)</td><td>2022-05-27T11:30:59.000+0000</td></tr><tr><td>10794</td><td>Cocos (Keeling) Islands</td><td>List(-89.5236, -154.567)</td><td>2022-01-01T02:26:50.000+0000</td></tr><tr><td>10794</td><td>Cocos (Keeling) Islands</td><td>List(-89.5236, -154.567)</td><td>2022-01-01T02:26:50.000+0000</td></tr><tr><td>10794</td><td>Cocos (Keeling) Islands</td><td>List(-89.5236, -154.567)</td><td>2022-01-01T02:26:50.000+0000</td></tr><tr><td>2074</td><td>Central African Republic</td><td>List(-52.3213, -50.11)</td><td>2019-11-03T05:41:59.000+0000</td></tr><tr><td>2074</td><td>Central African Republic</td><td>List(-52.3213, -50.11)</td><td>2019-11-03T05:41:59.000+0000</td></tr><tr><td>10663</td><td>Saint Kitts and Nevis</td><td>List(-27.3474, -162.83)</td><td>2019-07-25T18:53:51.000+0000</td></tr><tr><td>7922</td><td>Antigua and Barbuda</td><td>List(-88.0974, -172.052)</td><td>2021-01-27T09:14:19.000+0000</td></tr><tr><td>8606</td><td>Antigua and Barbuda</td><td>List(-88.0974, -172.052)</td><td>2021-03-28T14:54:07.000+0000</td></tr><tr><td>9979</td><td>Dominican Republic</td><td>List(14.9967, -120.682)</td><td>2018-07-18T19:01:46.000+0000</td></tr><tr><td>9979</td><td>Dominican Republic</td><td>List(14.9967, -120.682)</td><td>2018-07-18T19:01:46.000+0000</td></tr><tr><td>1704</td><td>Christmas Island</td><td>List(-56.8702, -93.6232)</td><td>2018-11-29T04:46:39.000+0000</td></tr><tr><td>7790</td><td>Papua New Guinea</td><td>List(-43.692, 64.9839)</td><td>2018-07-31T08:19:15.000+0000</td></tr><tr><td>9759</td><td>American Samoa</td><td>List(-77.9744, -106.258)</td><td>2017-12-30T13:05:49.000+0000</td></tr><tr><td>2923</td><td>Cote d'Ivoire</td><td>List(-84.6302, -164.507)</td><td>2019-09-08T22:53:09.000+0000</td></tr><tr><td>2923</td><td>Cote d'Ivoire</td><td>List(-84.6302, -164.507)</td><td>2019-09-08T22:53:09.000+0000</td></tr><tr><td>2923</td><td>Cote d'Ivoire</td><td>List(-84.6302, -164.507)</td><td>2019-09-08T22:53:09.000+0000</td></tr><tr><td>8304</td><td>French Guiana</td><td>List(-28.8852, -164.87)</td><td>2019-09-13T04:50:29.000+0000</td></tr><tr><td>4315</td><td>Cote d'Ivoire</td><td>List(-45.8508, 66.1003)</td><td>2019-12-15T03:51:28.000+0000</td></tr><tr><td>8304</td><td>French Guiana</td><td>List(-28.8852, -164.87)</td><td>2019-09-13T04:50:29.000+0000</td></tr><tr><td>4315</td><td>Cote d'Ivoire</td><td>List(-45.8508, 66.1003)</td><td>2019-12-15T03:51:28.000+0000</td></tr><tr><td>5069</td><td>Azerbaijan</td><td>List(-63.0063, -157.474)</td><td>2021-03-20T09:32:44.000+0000</td></tr><tr><td>6145</td><td>Mozambique</td><td>List(-65.9079, -143.845)</td><td>2019-12-05T02:09:44.000+0000</td></tr><tr><td>5069</td><td>Azerbaijan</td><td>List(-63.0063, -157.474)</td><td>2021-03-20T09:32:44.000+0000</td></tr><tr><td>6145</td><td>Mozambique</td><td>List(-65.9079, -143.845)</td><td>2019-12-05T02:09:44.000+0000</td></tr><tr><td>5069</td><td>Azerbaijan</td><td>List(-63.0063, -157.474)</td><td>2021-03-20T09:32:44.000+0000</td></tr><tr><td>6145</td><td>Mozambique</td><td>List(-65.9079, -143.845)</td><td>2019-12-05T02:09:44.000+0000</td></tr><tr><td>4508</td><td>Philippines</td><td>List(69.1858, -76.0761)</td><td>2019-01-04T11:15:27.000+0000</td></tr><tr><td>428</td><td>Bangladesh</td><td>List(-83.4105, -150.788)</td><td>2020-09-27T18:46:41.000+0000</td></tr><tr><td>7343</td><td>Australia</td><td>List(-65.4428, -161.684)</td><td>2018-08-06T12:17:07.000+0000</td></tr><tr><td>8653</td><td>Seychelles</td><td>List(48.4569, -139.658)</td><td>2022-04-11T18:30:19.000+0000</td></tr><tr><td>428</td><td>Bangladesh</td><td>List(-83.4105, -150.788)</td><td>2020-09-27T18:46:41.000+0000</td></tr><tr><td>7343</td><td>Australia</td><td>List(-65.4428, -161.684)</td><td>2018-08-06T12:17:07.000+0000</td></tr><tr><td>8653</td><td>Seychelles</td><td>List(48.4569, -139.658)</td><td>2022-04-11T18:30:19.000+0000</td></tr><tr><td>5468</td><td>Isle of Man</td><td>List(-83.544, 33.9473)</td><td>2020-05-16T23:17:50.000+0000</td></tr><tr><td>8930</td><td>Argentina</td><td>List(-89.4739, -176.154)</td><td>2021-09-29T13:25:49.000+0000</td></tr><tr><td>7294</td><td>Australia</td><td>List(-76.2967, -136.501)</td><td>2018-02-12T08:06:28.000+0000</td></tr><tr><td>5494</td><td>Bulgaria</td><td>List(-82.6768, -129.202)</td><td>2021-07-21T02:02:35.000+0000</td></tr><tr><td>6063</td><td>Anguilla</td><td>List(-89.1797, -174.015)</td><td>2021-07-20T09:02:47.000+0000</td></tr><tr><td>3454</td><td>Cambodia</td><td>List(-0.375174, 49.8106)</td><td>2021-07-25T02:20:29.000+0000</td></tr><tr><td>10625</td><td>Jamaica</td><td>List(-84.4944, -81.0613)</td><td>2018-07-13T11:51:15.000+0000</td></tr><tr><td>9875</td><td>Barbados</td><td>List(-74.3382, -110.484)</td><td>2020-03-20T13:03:18.000+0000</td></tr><tr><td>5494</td><td>Bulgaria</td><td>List(-82.6768, -129.202)</td><td>2021-07-21T02:02:35.000+0000</td></tr><tr><td>6063</td><td>Anguilla</td><td>List(-89.1797, -174.015)</td><td>2021-07-20T09:02:47.000+0000</td></tr><tr><td>3454</td><td>Cambodia</td><td>List(-0.375174, 49.8106)</td><td>2021-07-25T02:20:29.000+0000</td></tr><tr><td>10625</td><td>Jamaica</td><td>List(-84.4944, -81.0613)</td><td>2018-07-13T11:51:15.000+0000</td></tr><tr><td>9875</td><td>Barbados</td><td>List(-74.3382, -110.484)</td><td>2020-03-20T13:03:18.000+0000</td></tr><tr><td>8887</td><td>Botswana</td><td>List(-28.0137, -160.708)</td><td>2021-09-19T05:27:43.000+0000</td></tr><tr><td>5494</td><td>Bulgaria</td><td>List(-82.6768, -129.202)</td><td>2021-07-21T02:02:35.000+0000</td></tr><tr><td>6063</td><td>Anguilla</td><td>List(-89.1797, -174.015)</td><td>2021-07-20T09:02:47.000+0000</td></tr><tr><td>3454</td><td>Cambodia</td><td>List(-0.375174, 49.8106)</td><td>2021-07-25T02:20:29.000+0000</td></tr><tr><td>10625</td><td>Jamaica</td><td>List(-84.4944, -81.0613)</td><td>2018-07-13T11:51:15.000+0000</td></tr><tr><td>9875</td><td>Barbados</td><td>List(-74.3382, -110.484)</td><td>2020-03-20T13:03:18.000+0000</td></tr><tr><td>8887</td><td>Botswana</td><td>List(-28.0137, -160.708)</td><td>2021-09-19T05:27:43.000+0000</td></tr><tr><td>4137</td><td>Australia</td><td>List(-55.3079, 108.918)</td><td>2019-06-23T22:16:34.000+0000</td></tr><tr><td>7528</td><td>Albania</td><td>List(-89.9787, -173.293)</td><td>2020-08-28T03:52:47.000+0000</td></tr><tr><td>2863</td><td>Armenia</td><td>List(-5.34445, -177.924)</td><td>2020-04-27T13:34:16.000+0000</td></tr><tr><td>7528</td><td>Albania</td><td>List(-89.9787, -173.293)</td><td>2020-08-28T03:52:47.000+0000</td></tr><tr><td>3089</td><td>Albania</td><td>List(-89.9787, -173.293)</td><td>2018-02-28T05:31:29.000+0000</td></tr><tr><td>7528</td><td>Albania</td><td>List(-89.9787, -173.293)</td><td>2020-08-28T03:52:47.000+0000</td></tr><tr><td>2863</td><td>Armenia</td><td>List(-5.34445, -177.924)</td><td>2020-04-27T13:34:16.000+0000</td></tr><tr><td>5730</td><td>Colombia</td><td>List(-77.015, -101.437)</td><td>2021-04-19T17:37:03.000+0000</td></tr><tr><td>3089</td><td>Albania</td><td>List(-89.9787, -173.293)</td><td>2018-02-28T05:31:29.000+0000</td></tr><tr><td>10138</td><td>Austria</td><td>List(-72.142, -74.3545)</td><td>2019-08-03T00:59:29.000+0000</td></tr><tr><td>7528</td><td>Albania</td><td>List(-89.9787, -173.293)</td><td>2020-08-28T03:52:47.000+0000</td></tr><tr><td>2863</td><td>Armenia</td><td>List(-5.34445, -177.924)</td><td>2020-04-27T13:34:16.000+0000</td></tr><tr><td>5730</td><td>Colombia</td><td>List(-77.015, -101.437)</td><td>2021-04-19T17:37:03.000+0000</td></tr><tr><td>3089</td><td>Albania</td><td>List(-89.9787, -173.293)</td><td>2018-02-28T05:31:29.000+0000</td></tr><tr><td>10138</td><td>Austria</td><td>List(-72.142, -74.3545)</td><td>2019-08-03T00:59:29.000+0000</td></tr><tr><td>9546</td><td>Austria</td><td>List(-70.0295, -155.428)</td><td>2018-02-10T06:16:40.000+0000</td></tr><tr><td>2411</td><td>Albania</td><td>List(-71.6856, -179.126)</td><td>2020-11-15T17:10:07.000+0000</td></tr><tr><td>9590</td><td>Algeria</td><td>List(-64.3876, -174.281)</td><td>2019-05-20T19:48:48.000+0000</td></tr><tr><td>5076</td><td>Germany</td><td>List(-70.7195, -91.1935)</td><td>2019-05-05T16:22:23.000+0000</td></tr><tr><td>205</td><td>Barbados</td><td>List(-75.8378, -163.945)</td><td>2020-07-08T14:10:38.000+0000</td></tr><tr><td>2959</td><td>Angola</td><td>List(-68.0095, -157.227)</td><td>2019-08-19T08:22:02.000+0000</td></tr><tr><td>3156</td><td>Armenia</td><td>List(-84.738, -160.795)</td><td>2018-01-13T19:33:49.000+0000</td></tr><tr><td>1313</td><td>Maldives</td><td>List(77.0447, 61.9119)</td><td>2018-06-26T02:39:25.000+0000</td></tr><tr><td>2959</td><td>Angola</td><td>List(-68.0095, -157.227)</td><td>2019-08-19T08:22:02.000+0000</td></tr><tr><td>3156</td><td>Armenia</td><td>List(-84.738, -160.795)</td><td>2018-01-13T19:33:49.000+0000</td></tr><tr><td>1313</td><td>Maldives</td><td>List(77.0447, 61.9119)</td><td>2018-06-26T02:39:25.000+0000</td></tr><tr><td>2959</td><td>Angola</td><td>List(-68.0095, -157.227)</td><td>2019-08-19T08:22:02.000+0000</td></tr><tr><td>3156</td><td>Armenia</td><td>List(-84.738, -160.795)</td><td>2018-01-13T19:33:49.000+0000</td></tr><tr><td>719</td><td>Armenia</td><td>List(-38.4062, -154.323)</td><td>2018-10-29T04:05:12.000+0000</td></tr><tr><td>2482</td><td>Bermuda</td><td>List(63.4563, -164.709)</td><td>2019-09-13T08:20:13.000+0000</td></tr><tr><td>7554</td><td>Sudan</td><td>List(-51.2172, -77.9768)</td><td>2019-03-20T03:15:07.000+0000</td></tr><tr><td>7554</td><td>Sudan</td><td>List(-51.2172, -77.9768)</td><td>2019-03-20T03:15:07.000+0000</td></tr><tr><td>7554</td><td>Sudan</td><td>List(-51.2172, -77.9768)</td><td>2019-03-20T03:15:07.000+0000</td></tr><tr><td>4913</td><td>Aruba</td><td>List(-84.3768, -157.544)</td><td>2019-03-08T06:45:39.000+0000</td></tr><tr><td>7166</td><td>Aruba</td><td>List(-86.4063, -136.657)</td><td>2022-07-25T03:07:37.000+0000</td></tr><tr><td>8731</td><td>Aruba</td><td>List(-83.104, -171.302)</td><td>2020-07-17T04:39:09.000+0000</td></tr><tr><td>9672</td><td>India</td><td>List(79.4658, -69.4133)</td><td>2019-11-03T13:15:52.000+0000</td></tr><tr><td>8731</td><td>Aruba</td><td>List(-83.104, -171.302)</td><td>2020-07-17T04:39:09.000+0000</td></tr><tr><td>9672</td><td>India</td><td>List(79.4658, -69.4133)</td><td>2019-11-03T13:15:52.000+0000</td></tr><tr><td>831</td><td>Congo</td><td>List(-43.7816, -66.1592)</td><td>2021-06-23T23:16:10.000+0000</td></tr><tr><td>1014</td><td>Tonga</td><td>List(81.1477, 69.3538)</td><td>2022-02-03T22:05:34.000+0000</td></tr><tr><td>2698</td><td>Egypt</td><td>List(-72.7174, 24.169)</td><td>2021-11-24T08:33:51.000+0000</td></tr></tbody></table></div>"
      ]
     },
     "metadata": {
      "application/vnd.databricks.v1+output": {
       "addedWidgets": {},
       "aggData": [],
       "aggError": "",
       "aggOverflow": false,
       "aggSchema": [],
       "aggSeriesLimitReached": false,
       "aggType": "",
       "arguments": {},
       "columnCustomDisplayInfos": {},
       "data": [
        [
         2418,
         "Antarctica (the territory South of 60 deg S)",
         [
          -88.4642,
          -171.061
         ],
         "2022-05-27T11:30:59.000+0000"
        ],
        [
         2418,
         "Antarctica (the territory South of 60 deg S)",
         [
          -88.4642,
          -171.061
         ],
         "2022-05-27T11:30:59.000+0000"
        ],
        [
         2418,
         "Antarctica (the territory South of 60 deg S)",
         [
          -88.4642,
          -171.061
         ],
         "2022-05-27T11:30:59.000+0000"
        ],
        [
         10794,
         "Cocos (Keeling) Islands",
         [
          -89.5236,
          -154.567
         ],
         "2022-01-01T02:26:50.000+0000"
        ],
        [
         10794,
         "Cocos (Keeling) Islands",
         [
          -89.5236,
          -154.567
         ],
         "2022-01-01T02:26:50.000+0000"
        ],
        [
         10794,
         "Cocos (Keeling) Islands",
         [
          -89.5236,
          -154.567
         ],
         "2022-01-01T02:26:50.000+0000"
        ],
        [
         2074,
         "Central African Republic",
         [
          -52.3213,
          -50.11
         ],
         "2019-11-03T05:41:59.000+0000"
        ],
        [
         2074,
         "Central African Republic",
         [
          -52.3213,
          -50.11
         ],
         "2019-11-03T05:41:59.000+0000"
        ],
        [
         10663,
         "Saint Kitts and Nevis",
         [
          -27.3474,
          -162.83
         ],
         "2019-07-25T18:53:51.000+0000"
        ],
        [
         7922,
         "Antigua and Barbuda",
         [
          -88.0974,
          -172.052
         ],
         "2021-01-27T09:14:19.000+0000"
        ],
        [
         8606,
         "Antigua and Barbuda",
         [
          -88.0974,
          -172.052
         ],
         "2021-03-28T14:54:07.000+0000"
        ],
        [
         9979,
         "Dominican Republic",
         [
          14.9967,
          -120.682
         ],
         "2018-07-18T19:01:46.000+0000"
        ],
        [
         9979,
         "Dominican Republic",
         [
          14.9967,
          -120.682
         ],
         "2018-07-18T19:01:46.000+0000"
        ],
        [
         1704,
         "Christmas Island",
         [
          -56.8702,
          -93.6232
         ],
         "2018-11-29T04:46:39.000+0000"
        ],
        [
         7790,
         "Papua New Guinea",
         [
          -43.692,
          64.9839
         ],
         "2018-07-31T08:19:15.000+0000"
        ],
        [
         9759,
         "American Samoa",
         [
          -77.9744,
          -106.258
         ],
         "2017-12-30T13:05:49.000+0000"
        ],
        [
         2923,
         "Cote d'Ivoire",
         [
          -84.6302,
          -164.507
         ],
         "2019-09-08T22:53:09.000+0000"
        ],
        [
         2923,
         "Cote d'Ivoire",
         [
          -84.6302,
          -164.507
         ],
         "2019-09-08T22:53:09.000+0000"
        ],
        [
         2923,
         "Cote d'Ivoire",
         [
          -84.6302,
          -164.507
         ],
         "2019-09-08T22:53:09.000+0000"
        ],
        [
         8304,
         "French Guiana",
         [
          -28.8852,
          -164.87
         ],
         "2019-09-13T04:50:29.000+0000"
        ],
        [
         4315,
         "Cote d'Ivoire",
         [
          -45.8508,
          66.1003
         ],
         "2019-12-15T03:51:28.000+0000"
        ],
        [
         8304,
         "French Guiana",
         [
          -28.8852,
          -164.87
         ],
         "2019-09-13T04:50:29.000+0000"
        ],
        [
         4315,
         "Cote d'Ivoire",
         [
          -45.8508,
          66.1003
         ],
         "2019-12-15T03:51:28.000+0000"
        ],
        [
         5069,
         "Azerbaijan",
         [
          -63.0063,
          -157.474
         ],
         "2021-03-20T09:32:44.000+0000"
        ],
        [
         6145,
         "Mozambique",
         [
          -65.9079,
          -143.845
         ],
         "2019-12-05T02:09:44.000+0000"
        ],
        [
         5069,
         "Azerbaijan",
         [
          -63.0063,
          -157.474
         ],
         "2021-03-20T09:32:44.000+0000"
        ],
        [
         6145,
         "Mozambique",
         [
          -65.9079,
          -143.845
         ],
         "2019-12-05T02:09:44.000+0000"
        ],
        [
         5069,
         "Azerbaijan",
         [
          -63.0063,
          -157.474
         ],
         "2021-03-20T09:32:44.000+0000"
        ],
        [
         6145,
         "Mozambique",
         [
          -65.9079,
          -143.845
         ],
         "2019-12-05T02:09:44.000+0000"
        ],
        [
         4508,
         "Philippines",
         [
          69.1858,
          -76.0761
         ],
         "2019-01-04T11:15:27.000+0000"
        ],
        [
         428,
         "Bangladesh",
         [
          -83.4105,
          -150.788
         ],
         "2020-09-27T18:46:41.000+0000"
        ],
        [
         7343,
         "Australia",
         [
          -65.4428,
          -161.684
         ],
         "2018-08-06T12:17:07.000+0000"
        ],
        [
         8653,
         "Seychelles",
         [
          48.4569,
          -139.658
         ],
         "2022-04-11T18:30:19.000+0000"
        ],
        [
         428,
         "Bangladesh",
         [
          -83.4105,
          -150.788
         ],
         "2020-09-27T18:46:41.000+0000"
        ],
        [
         7343,
         "Australia",
         [
          -65.4428,
          -161.684
         ],
         "2018-08-06T12:17:07.000+0000"
        ],
        [
         8653,
         "Seychelles",
         [
          48.4569,
          -139.658
         ],
         "2022-04-11T18:30:19.000+0000"
        ],
        [
         5468,
         "Isle of Man",
         [
          -83.544,
          33.9473
         ],
         "2020-05-16T23:17:50.000+0000"
        ],
        [
         8930,
         "Argentina",
         [
          -89.4739,
          -176.154
         ],
         "2021-09-29T13:25:49.000+0000"
        ],
        [
         7294,
         "Australia",
         [
          -76.2967,
          -136.501
         ],
         "2018-02-12T08:06:28.000+0000"
        ],
        [
         5494,
         "Bulgaria",
         [
          -82.6768,
          -129.202
         ],
         "2021-07-21T02:02:35.000+0000"
        ],
        [
         6063,
         "Anguilla",
         [
          -89.1797,
          -174.015
         ],
         "2021-07-20T09:02:47.000+0000"
        ],
        [
         3454,
         "Cambodia",
         [
          -0.375174,
          49.8106
         ],
         "2021-07-25T02:20:29.000+0000"
        ],
        [
         10625,
         "Jamaica",
         [
          -84.4944,
          -81.0613
         ],
         "2018-07-13T11:51:15.000+0000"
        ],
        [
         9875,
         "Barbados",
         [
          -74.3382,
          -110.484
         ],
         "2020-03-20T13:03:18.000+0000"
        ],
        [
         5494,
         "Bulgaria",
         [
          -82.6768,
          -129.202
         ],
         "2021-07-21T02:02:35.000+0000"
        ],
        [
         6063,
         "Anguilla",
         [
          -89.1797,
          -174.015
         ],
         "2021-07-20T09:02:47.000+0000"
        ],
        [
         3454,
         "Cambodia",
         [
          -0.375174,
          49.8106
         ],
         "2021-07-25T02:20:29.000+0000"
        ],
        [
         10625,
         "Jamaica",
         [
          -84.4944,
          -81.0613
         ],
         "2018-07-13T11:51:15.000+0000"
        ],
        [
         9875,
         "Barbados",
         [
          -74.3382,
          -110.484
         ],
         "2020-03-20T13:03:18.000+0000"
        ],
        [
         8887,
         "Botswana",
         [
          -28.0137,
          -160.708
         ],
         "2021-09-19T05:27:43.000+0000"
        ],
        [
         5494,
         "Bulgaria",
         [
          -82.6768,
          -129.202
         ],
         "2021-07-21T02:02:35.000+0000"
        ],
        [
         6063,
         "Anguilla",
         [
          -89.1797,
          -174.015
         ],
         "2021-07-20T09:02:47.000+0000"
        ],
        [
         3454,
         "Cambodia",
         [
          -0.375174,
          49.8106
         ],
         "2021-07-25T02:20:29.000+0000"
        ],
        [
         10625,
         "Jamaica",
         [
          -84.4944,
          -81.0613
         ],
         "2018-07-13T11:51:15.000+0000"
        ],
        [
         9875,
         "Barbados",
         [
          -74.3382,
          -110.484
         ],
         "2020-03-20T13:03:18.000+0000"
        ],
        [
         8887,
         "Botswana",
         [
          -28.0137,
          -160.708
         ],
         "2021-09-19T05:27:43.000+0000"
        ],
        [
         4137,
         "Australia",
         [
          -55.3079,
          108.918
         ],
         "2019-06-23T22:16:34.000+0000"
        ],
        [
         7528,
         "Albania",
         [
          -89.9787,
          -173.293
         ],
         "2020-08-28T03:52:47.000+0000"
        ],
        [
         2863,
         "Armenia",
         [
          -5.34445,
          -177.924
         ],
         "2020-04-27T13:34:16.000+0000"
        ],
        [
         7528,
         "Albania",
         [
          -89.9787,
          -173.293
         ],
         "2020-08-28T03:52:47.000+0000"
        ],
        [
         3089,
         "Albania",
         [
          -89.9787,
          -173.293
         ],
         "2018-02-28T05:31:29.000+0000"
        ],
        [
         7528,
         "Albania",
         [
          -89.9787,
          -173.293
         ],
         "2020-08-28T03:52:47.000+0000"
        ],
        [
         2863,
         "Armenia",
         [
          -5.34445,
          -177.924
         ],
         "2020-04-27T13:34:16.000+0000"
        ],
        [
         5730,
         "Colombia",
         [
          -77.015,
          -101.437
         ],
         "2021-04-19T17:37:03.000+0000"
        ],
        [
         3089,
         "Albania",
         [
          -89.9787,
          -173.293
         ],
         "2018-02-28T05:31:29.000+0000"
        ],
        [
         10138,
         "Austria",
         [
          -72.142,
          -74.3545
         ],
         "2019-08-03T00:59:29.000+0000"
        ],
        [
         7528,
         "Albania",
         [
          -89.9787,
          -173.293
         ],
         "2020-08-28T03:52:47.000+0000"
        ],
        [
         2863,
         "Armenia",
         [
          -5.34445,
          -177.924
         ],
         "2020-04-27T13:34:16.000+0000"
        ],
        [
         5730,
         "Colombia",
         [
          -77.015,
          -101.437
         ],
         "2021-04-19T17:37:03.000+0000"
        ],
        [
         3089,
         "Albania",
         [
          -89.9787,
          -173.293
         ],
         "2018-02-28T05:31:29.000+0000"
        ],
        [
         10138,
         "Austria",
         [
          -72.142,
          -74.3545
         ],
         "2019-08-03T00:59:29.000+0000"
        ],
        [
         9546,
         "Austria",
         [
          -70.0295,
          -155.428
         ],
         "2018-02-10T06:16:40.000+0000"
        ],
        [
         2411,
         "Albania",
         [
          -71.6856,
          -179.126
         ],
         "2020-11-15T17:10:07.000+0000"
        ],
        [
         9590,
         "Algeria",
         [
          -64.3876,
          -174.281
         ],
         "2019-05-20T19:48:48.000+0000"
        ],
        [
         5076,
         "Germany",
         [
          -70.7195,
          -91.1935
         ],
         "2019-05-05T16:22:23.000+0000"
        ],
        [
         205,
         "Barbados",
         [
          -75.8378,
          -163.945
         ],
         "2020-07-08T14:10:38.000+0000"
        ],
        [
         2959,
         "Angola",
         [
          -68.0095,
          -157.227
         ],
         "2019-08-19T08:22:02.000+0000"
        ],
        [
         3156,
         "Armenia",
         [
          -84.738,
          -160.795
         ],
         "2018-01-13T19:33:49.000+0000"
        ],
        [
         1313,
         "Maldives",
         [
          77.0447,
          61.9119
         ],
         "2018-06-26T02:39:25.000+0000"
        ],
        [
         2959,
         "Angola",
         [
          -68.0095,
          -157.227
         ],
         "2019-08-19T08:22:02.000+0000"
        ],
        [
         3156,
         "Armenia",
         [
          -84.738,
          -160.795
         ],
         "2018-01-13T19:33:49.000+0000"
        ],
        [
         1313,
         "Maldives",
         [
          77.0447,
          61.9119
         ],
         "2018-06-26T02:39:25.000+0000"
        ],
        [
         2959,
         "Angola",
         [
          -68.0095,
          -157.227
         ],
         "2019-08-19T08:22:02.000+0000"
        ],
        [
         3156,
         "Armenia",
         [
          -84.738,
          -160.795
         ],
         "2018-01-13T19:33:49.000+0000"
        ],
        [
         719,
         "Armenia",
         [
          -38.4062,
          -154.323
         ],
         "2018-10-29T04:05:12.000+0000"
        ],
        [
         2482,
         "Bermuda",
         [
          63.4563,
          -164.709
         ],
         "2019-09-13T08:20:13.000+0000"
        ],
        [
         7554,
         "Sudan",
         [
          -51.2172,
          -77.9768
         ],
         "2019-03-20T03:15:07.000+0000"
        ],
        [
         7554,
         "Sudan",
         [
          -51.2172,
          -77.9768
         ],
         "2019-03-20T03:15:07.000+0000"
        ],
        [
         7554,
         "Sudan",
         [
          -51.2172,
          -77.9768
         ],
         "2019-03-20T03:15:07.000+0000"
        ],
        [
         4913,
         "Aruba",
         [
          -84.3768,
          -157.544
         ],
         "2019-03-08T06:45:39.000+0000"
        ],
        [
         7166,
         "Aruba",
         [
          -86.4063,
          -136.657
         ],
         "2022-07-25T03:07:37.000+0000"
        ],
        [
         8731,
         "Aruba",
         [
          -83.104,
          -171.302
         ],
         "2020-07-17T04:39:09.000+0000"
        ],
        [
         9672,
         "India",
         [
          79.4658,
          -69.4133
         ],
         "2019-11-03T13:15:52.000+0000"
        ],
        [
         8731,
         "Aruba",
         [
          -83.104,
          -171.302
         ],
         "2020-07-17T04:39:09.000+0000"
        ],
        [
         9672,
         "India",
         [
          79.4658,
          -69.4133
         ],
         "2019-11-03T13:15:52.000+0000"
        ],
        [
         831,
         "Congo",
         [
          -43.7816,
          -66.1592
         ],
         "2021-06-23T23:16:10.000+0000"
        ],
        [
         1014,
         "Tonga",
         [
          81.1477,
          69.3538
         ],
         "2022-02-03T22:05:34.000+0000"
        ],
        [
         2698,
         "Egypt",
         [
          -72.7174,
          24.169
         ],
         "2021-11-24T08:33:51.000+0000"
        ]
       ],
       "datasetInfos": [],
       "dbfsResultPath": null,
       "isJsonSchema": true,
       "metadata": {},
       "overflow": false,
       "plotOptions": {
        "customPlotOptions": {},
        "displayType": "table",
        "pivotAggregation": null,
        "pivotColumns": null,
        "xColumns": null,
        "yColumns": null
       },
       "removedWidgets": [],
       "schema": [
        {
         "metadata": "{}",
         "name": "ind",
         "type": "\"long\""
        },
        {
         "metadata": "{}",
         "name": "country",
         "type": "\"string\""
        },
        {
         "metadata": "{}",
         "name": "coordinates",
         "type": "{\"type\":\"array\",\"elementType\":\"double\",\"containsNull\":true}"
        },
        {
         "metadata": "{}",
         "name": "timestamp",
         "type": "\"timestamp\""
        }
       ],
       "type": "table"
      }
     },
     "output_type": "display_data"
    }
   ],
   "source": [
    "from pyspark.sql.functions import col, array, to_timestamp\n",
    "from pyspark.sql.types import StructType, StructField, DoubleType\n",
    "\n",
    "# Step 1: Create a new column 'coordinates' as an array of latitude and longitude\n",
    "df_geo = df_geo.withColumn('coordinates', array(col('latitude'), col('longitude')))\n",
    "\n",
    "# Step 2: Drop the 'latitude' and 'longitude' columns from the DataFrame\n",
    "df_geo = df_geo.drop('latitude', 'longitude')\n",
    "\n",
    "# Step 3: Convert the 'timestamp' column from string to timestamp data type\n",
    "df_geo = df_geo.withColumn('timestamp', to_timestamp(col('timestamp')))\n",
    "\n",
    "# Step 4: Reorder DataFrame columns\n",
    "column_order = ['ind', 'country', 'coordinates', 'timestamp']\n",
    "df_geo = df_geo.select(column_order)\n",
    "\n",
    "# Show the cleaned DataFrame as a table\n",
    "display(df_geo)\n"
   ]
  },
  {
   "cell_type": "code",
   "execution_count": null,
   "metadata": {
    "application/vnd.databricks.v1+cell": {
     "cellMetadata": {
      "byteLimit": 2048000,
      "rowLimit": 10000
     },
     "inputWidgets": {},
     "nuid": "cf437e5f-5252-421e-9235-3c444f86ea27",
     "showTitle": false,
     "title": ""
    }
   },
   "outputs": [
    {
     "data": {
      "text/html": [
       "<style scoped>\n",
       "  .table-result-container {\n",
       "    max-height: 300px;\n",
       "    overflow: auto;\n",
       "  }\n",
       "  table, th, td {\n",
       "    border: 1px solid black;\n",
       "    border-collapse: collapse;\n",
       "  }\n",
       "  th, td {\n",
       "    padding: 5px;\n",
       "  }\n",
       "  th {\n",
       "    text-align: left;\n",
       "  }\n",
       "</style><div class='table-result-container'><table class='table-result'><thead style='background-color: white'><tr><th>ind</th><th>user_name</th><th>age</th><th>date_joined</th></tr></thead><tbody><tr><td>5076</td><td>Christopher Butler</td><td>20</td><td>2015-12-01T15:08:31.000+0000</td></tr><tr><td>7790</td><td>Michelle Gutierrez</td><td>39</td><td>2017-07-19T07:12:04.000+0000</td></tr><tr><td>8731</td><td>Andrea Alexander</td><td>21</td><td>2015-11-10T09:27:42.000+0000</td></tr><tr><td>8887</td><td>Austin Rodriguez</td><td>24</td><td>2016-03-31T20:56:39.000+0000</td></tr><tr><td>8731</td><td>Andrea Alexander</td><td>21</td><td>2015-11-10T09:27:42.000+0000</td></tr><tr><td>8887</td><td>Austin Rodriguez</td><td>24</td><td>2016-03-31T20:56:39.000+0000</td></tr><tr><td>4315</td><td>Michelle Prince</td><td>36</td><td>2015-12-20T16:38:13.000+0000</td></tr><tr><td>10625</td><td>Christian Lang</td><td>32</td><td>2017-10-10T20:09:33.000+0000</td></tr><tr><td>4315</td><td>Michelle Prince</td><td>36</td><td>2015-12-20T16:38:13.000+0000</td></tr><tr><td>10625</td><td>Christian Lang</td><td>32</td><td>2017-10-10T20:09:33.000+0000</td></tr><tr><td>9672</td><td>Jennifer Hudson</td><td>22</td><td>2016-02-11T20:46:04.000+0000</td></tr><tr><td>4315</td><td>Michelle Prince</td><td>36</td><td>2015-12-20T16:38:13.000+0000</td></tr><tr><td>10625</td><td>Christian Lang</td><td>32</td><td>2017-10-10T20:09:33.000+0000</td></tr><tr><td>9672</td><td>Jennifer Hudson</td><td>22</td><td>2016-02-11T20:46:04.000+0000</td></tr><tr><td>8930</td><td>Andrew Anderson</td><td>23</td><td>2015-11-28T11:52:37.000+0000</td></tr><tr><td>10794</td><td>Thomas Turner</td><td>34</td><td>2016-12-22T00:02:02.000+0000</td></tr><tr><td>2959</td><td>David Griffith</td><td>20</td><td>2016-01-07T19:49:22.000+0000</td></tr><tr><td>9875</td><td>Brendan Joseph</td><td>26</td><td>2015-12-20T10:28:00.000+0000</td></tr><tr><td>1313</td><td>Brittany Jones</td><td>32</td><td>2016-04-02T03:51:23.000+0000</td></tr><tr><td>10794</td><td>Thomas Turner</td><td>34</td><td>2016-12-22T00:02:02.000+0000</td></tr><tr><td>2959</td><td>David Griffith</td><td>20</td><td>2016-01-07T19:49:22.000+0000</td></tr><tr><td>9875</td><td>Brendan Joseph</td><td>26</td><td>2015-12-20T10:28:00.000+0000</td></tr><tr><td>2074</td><td>Annette Forbes</td><td>21</td><td>2016-01-03T15:42:12.000+0000</td></tr><tr><td>1313</td><td>Brittany Jones</td><td>32</td><td>2016-04-02T03:51:23.000+0000</td></tr><tr><td>10794</td><td>Thomas Turner</td><td>34</td><td>2016-12-22T00:02:02.000+0000</td></tr><tr><td>2959</td><td>David Griffith</td><td>20</td><td>2016-01-07T19:49:22.000+0000</td></tr><tr><td>9875</td><td>Brendan Joseph</td><td>26</td><td>2015-12-20T10:28:00.000+0000</td></tr><tr><td>2074</td><td>Annette Forbes</td><td>21</td><td>2016-01-03T15:42:12.000+0000</td></tr><tr><td>1014</td><td>Gregory Ramsey</td><td>56</td><td>2016-10-15T17:21:39.000+0000</td></tr><tr><td>4137</td><td>Michael Decker</td><td>59</td><td>2017-06-29T22:35:17.000+0000</td></tr><tr><td>2411</td><td>Aaron Bartlett</td><td>21</td><td>2015-11-24T02:15:36.000+0000</td></tr><tr><td>4508</td><td>Michael Carter</td><td>58</td><td>2016-06-03T23:35:30.000+0000</td></tr><tr><td>6063</td><td>Corey Andrews</td><td>23</td><td>2015-11-25T13:36:22.000+0000</td></tr><tr><td>3454</td><td>Robert Murphy</td><td>48</td><td>2017-09-26T16:31:56.000+0000</td></tr><tr><td>7554</td><td>Cheryl Huerta</td><td>20</td><td>2017-04-11T16:35:33.000+0000</td></tr><tr><td>6145</td><td>Emily Hawkins</td><td>30</td><td>2015-12-25T20:24:37.000+0000</td></tr><tr><td>8304</td><td>Charles Berry</td><td>25</td><td>2015-12-28T04:21:39.000+0000</td></tr><tr><td>6063</td><td>Corey Andrews</td><td>23</td><td>2015-11-25T13:36:22.000+0000</td></tr><tr><td>3454</td><td>Robert Murphy</td><td>48</td><td>2017-09-26T16:31:56.000+0000</td></tr><tr><td>7554</td><td>Cheryl Huerta</td><td>20</td><td>2017-04-11T16:35:33.000+0000</td></tr><tr><td>6145</td><td>Emily Hawkins</td><td>30</td><td>2015-12-25T20:24:37.000+0000</td></tr><tr><td>9979</td><td>Kaylee Miller</td><td>31</td><td>2016-11-09T19:50:51.000+0000</td></tr><tr><td>8304</td><td>Charles Berry</td><td>25</td><td>2015-12-28T04:21:39.000+0000</td></tr><tr><td>6063</td><td>Corey Andrews</td><td>23</td><td>2015-11-25T13:36:22.000+0000</td></tr><tr><td>3454</td><td>Robert Murphy</td><td>48</td><td>2017-09-26T16:31:56.000+0000</td></tr><tr><td>7554</td><td>Cheryl Huerta</td><td>20</td><td>2017-04-11T16:35:33.000+0000</td></tr><tr><td>6145</td><td>Emily Hawkins</td><td>30</td><td>2015-12-25T20:24:37.000+0000</td></tr><tr><td>9979</td><td>Kaylee Miller</td><td>31</td><td>2016-11-09T19:50:51.000+0000</td></tr><tr><td>4913</td><td>Angela Brooks</td><td>24</td><td>2015-11-20T05:37:11.000+0000</td></tr><tr><td>9759</td><td>Daniel Brooks</td><td>25</td><td>2015-11-19T21:24:33.000+0000</td></tr><tr><td>2863</td><td>Dylan Holmes</td><td>32</td><td>2016-10-23T14:06:51.000+0000</td></tr><tr><td>2923</td><td>Brian Nelson</td><td>26</td><td>2015-11-11T03:20:57.000+0000</td></tr><tr><td>2418</td><td>Amanda Adams</td><td>20</td><td>2015-10-21T08:27:36.000+0000</td></tr><tr><td>3156</td><td>Andrew Baker</td><td>22</td><td>2015-12-21T08:06:54.000+0000</td></tr><tr><td>2863</td><td>Dylan Holmes</td><td>32</td><td>2016-10-23T14:06:51.000+0000</td></tr><tr><td>5730</td><td>Rachel Davis</td><td>36</td><td>2015-12-08T20:02:43.000+0000</td></tr><tr><td>2923</td><td>Brian Nelson</td><td>26</td><td>2015-11-11T03:20:57.000+0000</td></tr><tr><td>2418</td><td>Amanda Adams</td><td>20</td><td>2015-10-21T08:27:36.000+0000</td></tr><tr><td>3156</td><td>Andrew Baker</td><td>22</td><td>2015-12-21T08:06:54.000+0000</td></tr><tr><td>428</td><td>Claudia Adams</td><td>20</td><td>2015-11-28T02:20:29.000+0000</td></tr><tr><td>7343</td><td>Anne Clayton</td><td>24</td><td>2016-01-11T12:03:48.000+0000</td></tr><tr><td>10138</td><td>Carol Silva</td><td>22</td><td>2015-12-31T14:57:02.000+0000</td></tr><tr><td>2863</td><td>Dylan Holmes</td><td>32</td><td>2016-10-23T14:06:51.000+0000</td></tr><tr><td>5730</td><td>Rachel Davis</td><td>36</td><td>2015-12-08T20:02:43.000+0000</td></tr><tr><td>2923</td><td>Brian Nelson</td><td>26</td><td>2015-11-11T03:20:57.000+0000</td></tr><tr><td>2418</td><td>Amanda Adams</td><td>20</td><td>2015-10-21T08:27:36.000+0000</td></tr><tr><td>3156</td><td>Andrew Baker</td><td>22</td><td>2015-12-21T08:06:54.000+0000</td></tr><tr><td>428</td><td>Claudia Adams</td><td>20</td><td>2015-11-28T02:20:29.000+0000</td></tr><tr><td>7343</td><td>Anne Clayton</td><td>24</td><td>2016-01-11T12:03:48.000+0000</td></tr><tr><td>10138</td><td>Carol Silva</td><td>22</td><td>2015-12-31T14:57:02.000+0000</td></tr><tr><td>7922</td><td>Denise Adams</td><td>21</td><td>2015-11-12T06:21:36.000+0000</td></tr><tr><td>9590</td><td>Amanda Allen</td><td>22</td><td>2015-10-24T18:56:30.000+0000</td></tr><tr><td>2698</td><td>Kayla Burton</td><td>44</td><td>2017-06-21T19:53:27.000+0000</td></tr><tr><td>831</td><td>Aimee Collins</td><td>28</td><td>2016-06-16T02:06:38.000+0000</td></tr><tr><td>8606</td><td>Denise Adams</td><td>21</td><td>2015-11-12T06:21:36.000+0000</td></tr><tr><td>7528</td><td>Abigail Ali</td><td>20</td><td>2015-10-24T11:23:51.000+0000</td></tr><tr><td>5069</td><td>Amanda Ball</td><td>25</td><td>2016-01-13T17:36:30.000+0000</td></tr><tr><td>3089</td><td>Abigail Ali</td><td>20</td><td>2015-10-24T11:23:51.000+0000</td></tr><tr><td>7528</td><td>Abigail Ali</td><td>20</td><td>2015-10-24T11:23:51.000+0000</td></tr><tr><td>5069</td><td>Amanda Ball</td><td>25</td><td>2016-01-13T17:36:30.000+0000</td></tr><tr><td>3089</td><td>Abigail Ali</td><td>20</td><td>2015-10-24T11:23:51.000+0000</td></tr><tr><td>8653</td><td>Tammy Davis</td><td>24</td><td>2016-03-09T10:48:14.000+0000</td></tr><tr><td>7528</td><td>Abigail Ali</td><td>20</td><td>2015-10-24T11:23:51.000+0000</td></tr><tr><td>5069</td><td>Amanda Ball</td><td>25</td><td>2016-01-13T17:36:30.000+0000</td></tr><tr><td>3089</td><td>Abigail Ali</td><td>20</td><td>2015-10-24T11:23:51.000+0000</td></tr><tr><td>8653</td><td>Tammy Davis</td><td>24</td><td>2016-03-09T10:48:14.000+0000</td></tr><tr><td>7166</td><td>Alvin Adams</td><td>20</td><td>2016-01-01T13:50:40.000+0000</td></tr><tr><td>9546</td><td>Alex Barnes</td><td>20</td><td>2016-02-27T21:13:44.000+0000</td></tr><tr><td>5468</td><td>Lisa Gamble</td><td>20</td><td>2016-07-23T20:51:06.000+0000</td></tr><tr><td>205</td><td>Brett Bryant</td><td>20</td><td>2015-10-23T12:40:19.000+0000</td></tr><tr><td>719</td><td>Alicia Avila</td><td>20</td><td>2016-01-26T01:49:23.000+0000</td></tr><tr><td>5494</td><td>Anne Allen</td><td>27</td><td>2015-12-16T15:20:05.000+0000</td></tr><tr><td>5494</td><td>Anne Allen</td><td>27</td><td>2015-12-16T15:20:05.000+0000</td></tr><tr><td>5494</td><td>Anne Allen</td><td>27</td><td>2015-12-16T15:20:05.000+0000</td></tr><tr><td>10663</td><td>Julie Cox</td><td>23</td><td>2016-06-23T14:38:00.000+0000</td></tr><tr><td>1704</td><td>Barry Lynn</td><td>20</td><td>2015-10-28T05:00:33.000+0000</td></tr><tr><td>2482</td><td>David Moss</td><td>22</td><td>2016-03-01T07:11:48.000+0000</td></tr></tbody></table></div>"
      ]
     },
     "metadata": {
      "application/vnd.databricks.v1+output": {
       "addedWidgets": {},
       "aggData": [],
       "aggError": "",
       "aggOverflow": false,
       "aggSchema": [],
       "aggSeriesLimitReached": false,
       "aggType": "",
       "arguments": {},
       "columnCustomDisplayInfos": {},
       "data": [
        [
         5076,
         "Christopher Butler",
         20,
         "2015-12-01T15:08:31.000+0000"
        ],
        [
         7790,
         "Michelle Gutierrez",
         39,
         "2017-07-19T07:12:04.000+0000"
        ],
        [
         8731,
         "Andrea Alexander",
         21,
         "2015-11-10T09:27:42.000+0000"
        ],
        [
         8887,
         "Austin Rodriguez",
         24,
         "2016-03-31T20:56:39.000+0000"
        ],
        [
         8731,
         "Andrea Alexander",
         21,
         "2015-11-10T09:27:42.000+0000"
        ],
        [
         8887,
         "Austin Rodriguez",
         24,
         "2016-03-31T20:56:39.000+0000"
        ],
        [
         4315,
         "Michelle Prince",
         36,
         "2015-12-20T16:38:13.000+0000"
        ],
        [
         10625,
         "Christian Lang",
         32,
         "2017-10-10T20:09:33.000+0000"
        ],
        [
         4315,
         "Michelle Prince",
         36,
         "2015-12-20T16:38:13.000+0000"
        ],
        [
         10625,
         "Christian Lang",
         32,
         "2017-10-10T20:09:33.000+0000"
        ],
        [
         9672,
         "Jennifer Hudson",
         22,
         "2016-02-11T20:46:04.000+0000"
        ],
        [
         4315,
         "Michelle Prince",
         36,
         "2015-12-20T16:38:13.000+0000"
        ],
        [
         10625,
         "Christian Lang",
         32,
         "2017-10-10T20:09:33.000+0000"
        ],
        [
         9672,
         "Jennifer Hudson",
         22,
         "2016-02-11T20:46:04.000+0000"
        ],
        [
         8930,
         "Andrew Anderson",
         23,
         "2015-11-28T11:52:37.000+0000"
        ],
        [
         10794,
         "Thomas Turner",
         34,
         "2016-12-22T00:02:02.000+0000"
        ],
        [
         2959,
         "David Griffith",
         20,
         "2016-01-07T19:49:22.000+0000"
        ],
        [
         9875,
         "Brendan Joseph",
         26,
         "2015-12-20T10:28:00.000+0000"
        ],
        [
         1313,
         "Brittany Jones",
         32,
         "2016-04-02T03:51:23.000+0000"
        ],
        [
         10794,
         "Thomas Turner",
         34,
         "2016-12-22T00:02:02.000+0000"
        ],
        [
         2959,
         "David Griffith",
         20,
         "2016-01-07T19:49:22.000+0000"
        ],
        [
         9875,
         "Brendan Joseph",
         26,
         "2015-12-20T10:28:00.000+0000"
        ],
        [
         2074,
         "Annette Forbes",
         21,
         "2016-01-03T15:42:12.000+0000"
        ],
        [
         1313,
         "Brittany Jones",
         32,
         "2016-04-02T03:51:23.000+0000"
        ],
        [
         10794,
         "Thomas Turner",
         34,
         "2016-12-22T00:02:02.000+0000"
        ],
        [
         2959,
         "David Griffith",
         20,
         "2016-01-07T19:49:22.000+0000"
        ],
        [
         9875,
         "Brendan Joseph",
         26,
         "2015-12-20T10:28:00.000+0000"
        ],
        [
         2074,
         "Annette Forbes",
         21,
         "2016-01-03T15:42:12.000+0000"
        ],
        [
         1014,
         "Gregory Ramsey",
         56,
         "2016-10-15T17:21:39.000+0000"
        ],
        [
         4137,
         "Michael Decker",
         59,
         "2017-06-29T22:35:17.000+0000"
        ],
        [
         2411,
         "Aaron Bartlett",
         21,
         "2015-11-24T02:15:36.000+0000"
        ],
        [
         4508,
         "Michael Carter",
         58,
         "2016-06-03T23:35:30.000+0000"
        ],
        [
         6063,
         "Corey Andrews",
         23,
         "2015-11-25T13:36:22.000+0000"
        ],
        [
         3454,
         "Robert Murphy",
         48,
         "2017-09-26T16:31:56.000+0000"
        ],
        [
         7554,
         "Cheryl Huerta",
         20,
         "2017-04-11T16:35:33.000+0000"
        ],
        [
         6145,
         "Emily Hawkins",
         30,
         "2015-12-25T20:24:37.000+0000"
        ],
        [
         8304,
         "Charles Berry",
         25,
         "2015-12-28T04:21:39.000+0000"
        ],
        [
         6063,
         "Corey Andrews",
         23,
         "2015-11-25T13:36:22.000+0000"
        ],
        [
         3454,
         "Robert Murphy",
         48,
         "2017-09-26T16:31:56.000+0000"
        ],
        [
         7554,
         "Cheryl Huerta",
         20,
         "2017-04-11T16:35:33.000+0000"
        ],
        [
         6145,
         "Emily Hawkins",
         30,
         "2015-12-25T20:24:37.000+0000"
        ],
        [
         9979,
         "Kaylee Miller",
         31,
         "2016-11-09T19:50:51.000+0000"
        ],
        [
         8304,
         "Charles Berry",
         25,
         "2015-12-28T04:21:39.000+0000"
        ],
        [
         6063,
         "Corey Andrews",
         23,
         "2015-11-25T13:36:22.000+0000"
        ],
        [
         3454,
         "Robert Murphy",
         48,
         "2017-09-26T16:31:56.000+0000"
        ],
        [
         7554,
         "Cheryl Huerta",
         20,
         "2017-04-11T16:35:33.000+0000"
        ],
        [
         6145,
         "Emily Hawkins",
         30,
         "2015-12-25T20:24:37.000+0000"
        ],
        [
         9979,
         "Kaylee Miller",
         31,
         "2016-11-09T19:50:51.000+0000"
        ],
        [
         4913,
         "Angela Brooks",
         24,
         "2015-11-20T05:37:11.000+0000"
        ],
        [
         9759,
         "Daniel Brooks",
         25,
         "2015-11-19T21:24:33.000+0000"
        ],
        [
         2863,
         "Dylan Holmes",
         32,
         "2016-10-23T14:06:51.000+0000"
        ],
        [
         2923,
         "Brian Nelson",
         26,
         "2015-11-11T03:20:57.000+0000"
        ],
        [
         2418,
         "Amanda Adams",
         20,
         "2015-10-21T08:27:36.000+0000"
        ],
        [
         3156,
         "Andrew Baker",
         22,
         "2015-12-21T08:06:54.000+0000"
        ],
        [
         2863,
         "Dylan Holmes",
         32,
         "2016-10-23T14:06:51.000+0000"
        ],
        [
         5730,
         "Rachel Davis",
         36,
         "2015-12-08T20:02:43.000+0000"
        ],
        [
         2923,
         "Brian Nelson",
         26,
         "2015-11-11T03:20:57.000+0000"
        ],
        [
         2418,
         "Amanda Adams",
         20,
         "2015-10-21T08:27:36.000+0000"
        ],
        [
         3156,
         "Andrew Baker",
         22,
         "2015-12-21T08:06:54.000+0000"
        ],
        [
         428,
         "Claudia Adams",
         20,
         "2015-11-28T02:20:29.000+0000"
        ],
        [
         7343,
         "Anne Clayton",
         24,
         "2016-01-11T12:03:48.000+0000"
        ],
        [
         10138,
         "Carol Silva",
         22,
         "2015-12-31T14:57:02.000+0000"
        ],
        [
         2863,
         "Dylan Holmes",
         32,
         "2016-10-23T14:06:51.000+0000"
        ],
        [
         5730,
         "Rachel Davis",
         36,
         "2015-12-08T20:02:43.000+0000"
        ],
        [
         2923,
         "Brian Nelson",
         26,
         "2015-11-11T03:20:57.000+0000"
        ],
        [
         2418,
         "Amanda Adams",
         20,
         "2015-10-21T08:27:36.000+0000"
        ],
        [
         3156,
         "Andrew Baker",
         22,
         "2015-12-21T08:06:54.000+0000"
        ],
        [
         428,
         "Claudia Adams",
         20,
         "2015-11-28T02:20:29.000+0000"
        ],
        [
         7343,
         "Anne Clayton",
         24,
         "2016-01-11T12:03:48.000+0000"
        ],
        [
         10138,
         "Carol Silva",
         22,
         "2015-12-31T14:57:02.000+0000"
        ],
        [
         7922,
         "Denise Adams",
         21,
         "2015-11-12T06:21:36.000+0000"
        ],
        [
         9590,
         "Amanda Allen",
         22,
         "2015-10-24T18:56:30.000+0000"
        ],
        [
         2698,
         "Kayla Burton",
         44,
         "2017-06-21T19:53:27.000+0000"
        ],
        [
         831,
         "Aimee Collins",
         28,
         "2016-06-16T02:06:38.000+0000"
        ],
        [
         8606,
         "Denise Adams",
         21,
         "2015-11-12T06:21:36.000+0000"
        ],
        [
         7528,
         "Abigail Ali",
         20,
         "2015-10-24T11:23:51.000+0000"
        ],
        [
         5069,
         "Amanda Ball",
         25,
         "2016-01-13T17:36:30.000+0000"
        ],
        [
         3089,
         "Abigail Ali",
         20,
         "2015-10-24T11:23:51.000+0000"
        ],
        [
         7528,
         "Abigail Ali",
         20,
         "2015-10-24T11:23:51.000+0000"
        ],
        [
         5069,
         "Amanda Ball",
         25,
         "2016-01-13T17:36:30.000+0000"
        ],
        [
         3089,
         "Abigail Ali",
         20,
         "2015-10-24T11:23:51.000+0000"
        ],
        [
         8653,
         "Tammy Davis",
         24,
         "2016-03-09T10:48:14.000+0000"
        ],
        [
         7528,
         "Abigail Ali",
         20,
         "2015-10-24T11:23:51.000+0000"
        ],
        [
         5069,
         "Amanda Ball",
         25,
         "2016-01-13T17:36:30.000+0000"
        ],
        [
         3089,
         "Abigail Ali",
         20,
         "2015-10-24T11:23:51.000+0000"
        ],
        [
         8653,
         "Tammy Davis",
         24,
         "2016-03-09T10:48:14.000+0000"
        ],
        [
         7166,
         "Alvin Adams",
         20,
         "2016-01-01T13:50:40.000+0000"
        ],
        [
         9546,
         "Alex Barnes",
         20,
         "2016-02-27T21:13:44.000+0000"
        ],
        [
         5468,
         "Lisa Gamble",
         20,
         "2016-07-23T20:51:06.000+0000"
        ],
        [
         205,
         "Brett Bryant",
         20,
         "2015-10-23T12:40:19.000+0000"
        ],
        [
         719,
         "Alicia Avila",
         20,
         "2016-01-26T01:49:23.000+0000"
        ],
        [
         5494,
         "Anne Allen",
         27,
         "2015-12-16T15:20:05.000+0000"
        ],
        [
         5494,
         "Anne Allen",
         27,
         "2015-12-16T15:20:05.000+0000"
        ],
        [
         5494,
         "Anne Allen",
         27,
         "2015-12-16T15:20:05.000+0000"
        ],
        [
         10663,
         "Julie Cox",
         23,
         "2016-06-23T14:38:00.000+0000"
        ],
        [
         1704,
         "Barry Lynn",
         20,
         "2015-10-28T05:00:33.000+0000"
        ],
        [
         2482,
         "David Moss",
         22,
         "2016-03-01T07:11:48.000+0000"
        ]
       ],
       "datasetInfos": [],
       "dbfsResultPath": null,
       "isJsonSchema": true,
       "metadata": {},
       "overflow": false,
       "plotOptions": {
        "customPlotOptions": {},
        "displayType": "table",
        "pivotAggregation": null,
        "pivotColumns": null,
        "xColumns": null,
        "yColumns": null
       },
       "removedWidgets": [],
       "schema": [
        {
         "metadata": "{}",
         "name": "ind",
         "type": "\"long\""
        },
        {
         "metadata": "{}",
         "name": "user_name",
         "type": "\"string\""
        },
        {
         "metadata": "{}",
         "name": "age",
         "type": "\"long\""
        },
        {
         "metadata": "{}",
         "name": "date_joined",
         "type": "\"timestamp\""
        }
       ],
       "type": "table"
      }
     },
     "output_type": "display_data"
    }
   ],
   "source": [
    "from pyspark.sql.functions import col, concat, lit, to_timestamp\n",
    "from pyspark.sql.types import StructType, StructField, IntegerType\n",
    "\n",
    "df_user = df_user.withColumn('user_name', concat(col('first_name'), lit(' '), col('last_name')))\n",
    "\n",
    "df_user = df_user.drop('first_name', 'last_name')\n",
    "\n",
    "df_user = df_user.withColumn('date_joined', to_timestamp(col('date_joined')))\n",
    "\n",
    "column_order = ['ind', 'user_name', 'age', 'date_joined']\n",
    "df_user = df_user.select(column_order)\n",
    "\n",
    "display(df_user)\n",
    "\n"
   ]
  },
  {
   "cell_type": "code",
   "execution_count": null,
   "metadata": {
    "application/vnd.databricks.v1+cell": {
     "cellMetadata": {
      "byteLimit": 2048000,
      "rowLimit": 10000
     },
     "inputWidgets": {},
     "nuid": "b9f87575-09c7-413d-a2ba-22a7d76c5a43",
     "showTitle": false,
     "title": ""
    }
   },
   "outputs": [
    {
     "data": {
      "text/html": [
       "<style scoped>\n",
       "  .table-result-container {\n",
       "    max-height: 300px;\n",
       "    overflow: auto;\n",
       "  }\n",
       "  table, th, td {\n",
       "    border: 1px solid black;\n",
       "    border-collapse: collapse;\n",
       "  }\n",
       "  th, td {\n",
       "    padding: 5px;\n",
       "  }\n",
       "  th {\n",
       "    text-align: left;\n",
       "  }\n",
       "</style><div class='table-result-container'><table class='table-result'><thead style='background-color: white'><tr><th>country</th><th>category</th><th>category_count</th></tr></thead><tbody><tr><td>Albania</td><td>mens-fashion</td><td>16</td></tr><tr><td>Algeria</td><td>travel</td><td>1</td></tr><tr><td>American Samoa</td><td>travel</td><td>1</td></tr><tr><td>Angola</td><td>diy-and-crafts</td><td>9</td></tr><tr><td>Anguilla</td><td>home-decor</td><td>9</td></tr><tr><td>Antarctica (the territory South of 60 deg S)</td><td>christmas</td><td>9</td></tr><tr><td>Antigua and Barbuda</td><td>quotes</td><td>1</td></tr><tr><td>Antigua and Barbuda</td><td>tattoos</td><td>1</td></tr><tr><td>Argentina</td><td>tattoos</td><td>1</td></tr><tr><td>Armenia</td><td>diy-and-crafts</td><td>18</td></tr><tr><td>Aruba</td><td>tattoos</td><td>4</td></tr><tr><td>Australia</td><td>mens-fashion</td><td>5</td></tr><tr><td>Austria</td><td>travel</td><td>5</td></tr><tr><td>Azerbaijan</td><td>event-planning</td><td>9</td></tr><tr><td>Bangladesh</td><td>art</td><td>6</td></tr><tr><td>Barbados</td><td>travel</td><td>9</td></tr><tr><td>Bermuda</td><td>christmas</td><td>1</td></tr><tr><td>Botswana</td><td>tattoos</td><td>4</td></tr><tr><td>Bulgaria</td><td>finance</td><td>9</td></tr><tr><td>Cambodia</td><td>diy-and-crafts</td><td>9</td></tr><tr><td>Central African Republic</td><td>christmas</td><td>4</td></tr><tr><td>Christmas Island</td><td>christmas</td><td>1</td></tr><tr><td>Cocos (Keeling) Islands</td><td>vehicles</td><td>9</td></tr><tr><td>Colombia</td><td>finance</td><td>4</td></tr><tr><td>Congo</td><td>art</td><td>1</td></tr><tr><td>Cote d'Ivoire</td><td>diy-and-crafts</td><td>9</td></tr><tr><td>Dominican Republic</td><td>travel</td><td>4</td></tr><tr><td>Egypt</td><td>diy-and-crafts</td><td>1</td></tr><tr><td>French Guiana</td><td>quotes</td><td>4</td></tr><tr><td>Germany</td><td>event-planning</td><td>1</td></tr><tr><td>India</td><td>travel</td><td>4</td></tr><tr><td>Isle of Man</td><td>finance</td><td>1</td></tr><tr><td>Jamaica</td><td>vehicles</td><td>9</td></tr><tr><td>Maldives</td><td>beauty</td><td>4</td></tr><tr><td>Mozambique</td><td>home-decor</td><td>9</td></tr><tr><td>Papua New Guinea</td><td>quotes</td><td>1</td></tr><tr><td>Philippines</td><td>event-planning</td><td>1</td></tr><tr><td>Saint Kitts and Nevis</td><td>vehicles</td><td>1</td></tr><tr><td>Seychelles</td><td>tattoos</td><td>4</td></tr><tr><td>Sudan</td><td>mens-fashion</td><td>9</td></tr><tr><td>Tonga</td><td>beauty</td><td>1</td></tr></tbody></table></div>"
      ]
     },
     "metadata": {
      "application/vnd.databricks.v1+output": {
       "addedWidgets": {},
       "aggData": [],
       "aggError": "",
       "aggOverflow": false,
       "aggSchema": [],
       "aggSeriesLimitReached": false,
       "aggType": "",
       "arguments": {},
       "columnCustomDisplayInfos": {},
       "data": [
        [
         "Albania",
         "mens-fashion",
         16
        ],
        [
         "Algeria",
         "travel",
         1
        ],
        [
         "American Samoa",
         "travel",
         1
        ],
        [
         "Angola",
         "diy-and-crafts",
         9
        ],
        [
         "Anguilla",
         "home-decor",
         9
        ],
        [
         "Antarctica (the territory South of 60 deg S)",
         "christmas",
         9
        ],
        [
         "Antigua and Barbuda",
         "quotes",
         1
        ],
        [
         "Antigua and Barbuda",
         "tattoos",
         1
        ],
        [
         "Argentina",
         "tattoos",
         1
        ],
        [
         "Armenia",
         "diy-and-crafts",
         18
        ],
        [
         "Aruba",
         "tattoos",
         4
        ],
        [
         "Australia",
         "mens-fashion",
         5
        ],
        [
         "Austria",
         "travel",
         5
        ],
        [
         "Azerbaijan",
         "event-planning",
         9
        ],
        [
         "Bangladesh",
         "art",
         6
        ],
        [
         "Barbados",
         "travel",
         9
        ],
        [
         "Bermuda",
         "christmas",
         1
        ],
        [
         "Botswana",
         "tattoos",
         4
        ],
        [
         "Bulgaria",
         "finance",
         9
        ],
        [
         "Cambodia",
         "diy-and-crafts",
         9
        ],
        [
         "Central African Republic",
         "christmas",
         4
        ],
        [
         "Christmas Island",
         "christmas",
         1
        ],
        [
         "Cocos (Keeling) Islands",
         "vehicles",
         9
        ],
        [
         "Colombia",
         "finance",
         4
        ],
        [
         "Congo",
         "art",
         1
        ],
        [
         "Cote d'Ivoire",
         "diy-and-crafts",
         9
        ],
        [
         "Dominican Republic",
         "travel",
         4
        ],
        [
         "Egypt",
         "diy-and-crafts",
         1
        ],
        [
         "French Guiana",
         "quotes",
         4
        ],
        [
         "Germany",
         "event-planning",
         1
        ],
        [
         "India",
         "travel",
         4
        ],
        [
         "Isle of Man",
         "finance",
         1
        ],
        [
         "Jamaica",
         "vehicles",
         9
        ],
        [
         "Maldives",
         "beauty",
         4
        ],
        [
         "Mozambique",
         "home-decor",
         9
        ],
        [
         "Papua New Guinea",
         "quotes",
         1
        ],
        [
         "Philippines",
         "event-planning",
         1
        ],
        [
         "Saint Kitts and Nevis",
         "vehicles",
         1
        ],
        [
         "Seychelles",
         "tattoos",
         4
        ],
        [
         "Sudan",
         "mens-fashion",
         9
        ],
        [
         "Tonga",
         "beauty",
         1
        ]
       ],
       "datasetInfos": [],
       "dbfsResultPath": null,
       "isJsonSchema": true,
       "metadata": {},
       "overflow": false,
       "plotOptions": {
        "customPlotOptions": {},
        "displayType": "table",
        "pivotAggregation": null,
        "pivotColumns": null,
        "xColumns": null,
        "yColumns": null
       },
       "removedWidgets": [],
       "schema": [
        {
         "metadata": "{}",
         "name": "country",
         "type": "\"string\""
        },
        {
         "metadata": "{}",
         "name": "category",
         "type": "\"string\""
        },
        {
         "metadata": "{}",
         "name": "category_count",
         "type": "\"long\""
        }
       ],
       "type": "table"
      }
     },
     "output_type": "display_data"
    }
   ],
   "source": [
    "## Milestone 7 Task 4 \n",
    "\n",
    "from pyspark.sql import SparkSession\n",
    "from pyspark.sql.functions import col, count, desc, dense_rank\n",
    "from pyspark.sql.window import Window\n",
    "\n",
    "df_combined = df_pin.join(df_geo, 'ind')\n",
    "\n",
    "\n",
    "df_combined.createOrReplaceTempView(\"combined_data\")\n",
    "\n",
    "query = \"\"\"\n",
    "SELECT\n",
    "    country,\n",
    "    category,\n",
    "    COUNT(*) AS category_count\n",
    "FROM\n",
    "    combined_data\n",
    "GROUP BY\n",
    "    country,\n",
    "    category\n",
    "ORDER BY\n",
    "    country,\n",
    "    category_count DESC\n",
    "\"\"\"\n",
    "\n",
    "result_df = spark.sql(query)\n",
    "result_df = result_df.withColumn(\"rank\", dense_rank().over(Window.partitionBy(\"country\").orderBy(desc(\"category_count\"))))\n",
    "result_df = result_df.filter(col(\"rank\") == 1).drop(\"rank\")\n",
    "\n",
    "display(result_df)\n"
   ]
  },
  {
   "cell_type": "code",
   "execution_count": null,
   "metadata": {
    "application/vnd.databricks.v1+cell": {
     "cellMetadata": {
      "byteLimit": 2048000,
      "rowLimit": 10000
     },
     "inputWidgets": {},
     "nuid": "853e0d46-2348-42e8-b25b-516ff72f18eb",
     "showTitle": false,
     "title": ""
    }
   },
   "outputs": [
    {
     "data": {
      "text/html": [
       "<style scoped>\n",
       "  .table-result-container {\n",
       "    max-height: 300px;\n",
       "    overflow: auto;\n",
       "  }\n",
       "  table, th, td {\n",
       "    border: 1px solid black;\n",
       "    border-collapse: collapse;\n",
       "  }\n",
       "  th, td {\n",
       "    padding: 5px;\n",
       "  }\n",
       "  th {\n",
       "    text-align: left;\n",
       "  }\n",
       "</style><div class='table-result-container'><table class='table-result'><thead style='background-color: white'><tr><th>post_year</th><th>category</th><th>category_count</th></tr></thead><tbody><tr><td>2018</td><td>diy-and-crafts</td><td>18</td></tr><tr><td>2018</td><td>vehicles</td><td>9</td></tr><tr><td>2018</td><td>mens-fashion</td><td>5</td></tr><tr><td>2018</td><td>travel</td><td>5</td></tr><tr><td>2018</td><td>beauty</td><td>4</td></tr><tr><td>2018</td><td>christmas</td><td>1</td></tr><tr><td>2018</td><td>art</td><td>1</td></tr><tr><td>2018</td><td>quotes</td><td>1</td></tr><tr><td>2019</td><td>diy-and-crafts</td><td>18</td></tr><tr><td>2019</td><td>mens-fashion</td><td>9</td></tr><tr><td>2019</td><td>travel</td><td>9</td></tr><tr><td>2019</td><td>home-decor</td><td>9</td></tr><tr><td>2019</td><td>christmas</td><td>5</td></tr><tr><td>2019</td><td>education</td><td>5</td></tr><tr><td>2019</td><td>quotes</td><td>4</td></tr><tr><td>2019</td><td>event-planning</td><td>3</td></tr><tr><td>2019</td><td>vehicles</td><td>1</td></tr><tr><td>2020</td><td>mens-fashion</td><td>16</td></tr><tr><td>2020</td><td>diy-and-crafts</td><td>9</td></tr><tr><td>2020</td><td>travel</td><td>9</td></tr><tr><td>2020</td><td>art</td><td>7</td></tr><tr><td>2020</td><td>tattoos</td><td>4</td></tr><tr><td>2020</td><td>christmas</td><td>1</td></tr><tr><td>2020</td><td>finance</td><td>1</td></tr><tr><td>2021</td><td>finance</td><td>13</td></tr><tr><td>2021</td><td>diy-and-crafts</td><td>10</td></tr><tr><td>2021</td><td>event-planning</td><td>9</td></tr><tr><td>2021</td><td>home-decor</td><td>9</td></tr><tr><td>2021</td><td>tattoos</td><td>6</td></tr><tr><td>2021</td><td>art</td><td>1</td></tr><tr><td>2021</td><td>quotes</td><td>1</td></tr><tr><td>2022</td><td>vehicles</td><td>9</td></tr><tr><td>2022</td><td>christmas</td><td>9</td></tr><tr><td>2022</td><td>tattoos</td><td>4</td></tr><tr><td>2022</td><td>beauty</td><td>1</td></tr><tr><td>2022</td><td>mens-fashion</td><td>1</td></tr></tbody></table></div>"
      ]
     },
     "metadata": {
      "application/vnd.databricks.v1+output": {
       "addedWidgets": {},
       "aggData": [],
       "aggError": "",
       "aggOverflow": false,
       "aggSchema": [],
       "aggSeriesLimitReached": false,
       "aggType": "",
       "arguments": {},
       "columnCustomDisplayInfos": {},
       "data": [
        [
         2018,
         "diy-and-crafts",
         18
        ],
        [
         2018,
         "vehicles",
         9
        ],
        [
         2018,
         "mens-fashion",
         5
        ],
        [
         2018,
         "travel",
         5
        ],
        [
         2018,
         "beauty",
         4
        ],
        [
         2018,
         "christmas",
         1
        ],
        [
         2018,
         "art",
         1
        ],
        [
         2018,
         "quotes",
         1
        ],
        [
         2019,
         "diy-and-crafts",
         18
        ],
        [
         2019,
         "mens-fashion",
         9
        ],
        [
         2019,
         "travel",
         9
        ],
        [
         2019,
         "home-decor",
         9
        ],
        [
         2019,
         "christmas",
         5
        ],
        [
         2019,
         "education",
         5
        ],
        [
         2019,
         "quotes",
         4
        ],
        [
         2019,
         "event-planning",
         3
        ],
        [
         2019,
         "vehicles",
         1
        ],
        [
         2020,
         "mens-fashion",
         16
        ],
        [
         2020,
         "diy-and-crafts",
         9
        ],
        [
         2020,
         "travel",
         9
        ],
        [
         2020,
         "art",
         7
        ],
        [
         2020,
         "tattoos",
         4
        ],
        [
         2020,
         "christmas",
         1
        ],
        [
         2020,
         "finance",
         1
        ],
        [
         2021,
         "finance",
         13
        ],
        [
         2021,
         "diy-and-crafts",
         10
        ],
        [
         2021,
         "event-planning",
         9
        ],
        [
         2021,
         "home-decor",
         9
        ],
        [
         2021,
         "tattoos",
         6
        ],
        [
         2021,
         "art",
         1
        ],
        [
         2021,
         "quotes",
         1
        ],
        [
         2022,
         "vehicles",
         9
        ],
        [
         2022,
         "christmas",
         9
        ],
        [
         2022,
         "tattoos",
         4
        ],
        [
         2022,
         "beauty",
         1
        ],
        [
         2022,
         "mens-fashion",
         1
        ]
       ],
       "datasetInfos": [],
       "dbfsResultPath": null,
       "isJsonSchema": true,
       "metadata": {},
       "overflow": false,
       "plotOptions": {
        "customPlotOptions": {},
        "displayType": "table",
        "pivotAggregation": null,
        "pivotColumns": null,
        "xColumns": null,
        "yColumns": null
       },
       "removedWidgets": [],
       "schema": [
        {
         "metadata": "{}",
         "name": "post_year",
         "type": "\"integer\""
        },
        {
         "metadata": "{}",
         "name": "category",
         "type": "\"string\""
        },
        {
         "metadata": "{}",
         "name": "category_count",
         "type": "\"long\""
        }
       ],
       "type": "table"
      }
     },
     "output_type": "display_data"
    }
   ],
   "source": [
    "## Milestone 7 Task 5\n",
    "\n",
    "from pyspark.sql import SparkSession\n",
    "from pyspark.sql.functions import col, year, count\n",
    "\n",
    "df_geo = df_geo.withColumn('timestamp', to_timestamp(col('timestamp'), 'yyyy-MM-dd HH:mm:ss'))\n",
    "df_geo = df_geo.withColumn('post_year', year(col('timestamp')))\n",
    "\n",
    "\n",
    "df_geo.createOrReplaceTempView(\"geo_data\")\n",
    "df_pin.createOrReplaceTempView(\"pin_data\")\n",
    "\n",
    "query = \"\"\"\n",
    "SELECT\n",
    "    g.post_year,\n",
    "    p.category,\n",
    "    COUNT(*) AS category_count\n",
    "FROM\n",
    "    pin_data p\n",
    "JOIN\n",
    "    geo_data g\n",
    "ON\n",
    "    p.ind = g.ind\n",
    "WHERE\n",
    "    g.post_year BETWEEN 2018 AND 2022\n",
    "GROUP BY\n",
    "    g.post_year,\n",
    "    p.category\n",
    "ORDER BY\n",
    "    g.post_year,\n",
    "    category_count DESC\n",
    "\"\"\"\n",
    "\n",
    "\n",
    "result_df = spark.sql(query)\n",
    "\n",
    "display(result_df)\n",
    "\n",
    "\n",
    "\n",
    "\n"
   ]
  },
  {
   "cell_type": "code",
   "execution_count": null,
   "metadata": {
    "application/vnd.databricks.v1+cell": {
     "cellMetadata": {
      "byteLimit": 2048000,
      "rowLimit": 10000
     },
     "inputWidgets": {},
     "nuid": "001f8e2f-16f2-4af1-ac3b-b267c2537b5d",
     "showTitle": false,
     "title": ""
    }
   },
   "outputs": [
    {
     "data": {
      "text/html": [
       "<style scoped>\n",
       "  .table-result-container {\n",
       "    max-height: 300px;\n",
       "    overflow: auto;\n",
       "  }\n",
       "  table, th, td {\n",
       "    border: 1px solid black;\n",
       "    border-collapse: collapse;\n",
       "  }\n",
       "  th, td {\n",
       "    padding: 5px;\n",
       "  }\n",
       "  th {\n",
       "    text-align: left;\n",
       "  }\n",
       "</style><div class='table-result-container'><table class='table-result'><thead style='background-color: white'><tr><th>country</th><th>poster_name</th><th>follower_count</th></tr></thead><tbody><tr><td>Armenia</td><td>Michelle {CraftyMorning.com}</td><td>892000</td></tr><tr><td>Armenia</td><td>Michelle {CraftyMorning.com}</td><td>892000</td></tr><tr><td>Armenia</td><td>Michelle {CraftyMorning.com}</td><td>892000</td></tr><tr><td>Armenia</td><td>Michelle {CraftyMorning.com}</td><td>892000</td></tr><tr><td>Armenia</td><td>Michelle {CraftyMorning.com}</td><td>892000</td></tr><tr><td>Armenia</td><td>Michelle {CraftyMorning.com}</td><td>892000</td></tr><tr><td>Armenia</td><td>Michelle {CraftyMorning.com}</td><td>892000</td></tr><tr><td>Armenia</td><td>Michelle {CraftyMorning.com}</td><td>892000</td></tr><tr><td>Armenia</td><td>Michelle {CraftyMorning.com}</td><td>892000</td></tr><tr><td>Central African Republic</td><td>PureWow</td><td>868000</td></tr><tr><td>Central African Republic</td><td>PureWow</td><td>868000</td></tr><tr><td>Central African Republic</td><td>PureWow</td><td>868000</td></tr><tr><td>Central African Republic</td><td>PureWow</td><td>868000</td></tr><tr><td>Argentina</td><td>Next Luxury</td><td>800000</td></tr><tr><td>Angola</td><td>CraftGossip.com</td><td>502000</td></tr><tr><td>Angola</td><td>CraftGossip.com</td><td>502000</td></tr><tr><td>Angola</td><td>CraftGossip.com</td><td>502000</td></tr><tr><td>Angola</td><td>CraftGossip.com</td><td>502000</td></tr><tr><td>Angola</td><td>CraftGossip.com</td><td>502000</td></tr><tr><td>Angola</td><td>CraftGossip.com</td><td>502000</td></tr><tr><td>Angola</td><td>CraftGossip.com</td><td>502000</td></tr><tr><td>Angola</td><td>CraftGossip.com</td><td>502000</td></tr><tr><td>Angola</td><td>CraftGossip.com</td><td>502000</td></tr><tr><td>Antarctica (the territory South of 60 deg S)</td><td>HikenDip</td><td>500000</td></tr><tr><td>Antarctica (the territory South of 60 deg S)</td><td>HikenDip</td><td>500000</td></tr><tr><td>Antarctica (the territory South of 60 deg S)</td><td>HikenDip</td><td>500000</td></tr><tr><td>Antarctica (the territory South of 60 deg S)</td><td>HikenDip</td><td>500000</td></tr><tr><td>Antarctica (the territory South of 60 deg S)</td><td>HikenDip</td><td>500000</td></tr><tr><td>Antarctica (the territory South of 60 deg S)</td><td>HikenDip</td><td>500000</td></tr><tr><td>Antarctica (the territory South of 60 deg S)</td><td>HikenDip</td><td>500000</td></tr><tr><td>Antarctica (the territory South of 60 deg S)</td><td>HikenDip</td><td>500000</td></tr><tr><td>Antarctica (the territory South of 60 deg S)</td><td>HikenDip</td><td>500000</td></tr><tr><td>Barbados</td><td>The Creativity Exchange</td><td>410000</td></tr><tr><td>Antigua and Barbuda</td><td>Sumcoco | Decor Ideas, Hairstyles, Nails Fashion Advice</td><td>306000</td></tr><tr><td>Antigua and Barbuda</td><td>Sumcoco | Decor Ideas, Hairstyles, Nails Fashion Advice</td><td>306000</td></tr><tr><td>Aruba</td><td>TheTrendSpotter</td><td>211000</td></tr><tr><td>Aruba</td><td>TheTrendSpotter</td><td>211000</td></tr><tr><td>Aruba</td><td>TheTrendSpotter</td><td>211000</td></tr><tr><td>Aruba</td><td>TheTrendSpotter</td><td>211000</td></tr><tr><td>Cote d'Ivoire</td><td>The Crafting Chicks</td><td>192000</td></tr><tr><td>Cote d'Ivoire</td><td>The Crafting Chicks</td><td>192000</td></tr><tr><td>Cote d'Ivoire</td><td>The Crafting Chicks</td><td>192000</td></tr><tr><td>Cote d'Ivoire</td><td>The Crafting Chicks</td><td>192000</td></tr><tr><td>Cote d'Ivoire</td><td>The Crafting Chicks</td><td>192000</td></tr><tr><td>Cote d'Ivoire</td><td>The Crafting Chicks</td><td>192000</td></tr><tr><td>Cote d'Ivoire</td><td>The Crafting Chicks</td><td>192000</td></tr><tr><td>Cote d'Ivoire</td><td>The Crafting Chicks</td><td>192000</td></tr><tr><td>Cote d'Ivoire</td><td>The Crafting Chicks</td><td>192000</td></tr><tr><td>Saint Kitts and Nevis</td><td>vintagetopia</td><td>171000</td></tr><tr><td>Algeria</td><td>Fun Life Crisis</td><td>130000</td></tr><tr><td>Armenia</td><td>Of Life & Lisa | Lifestyle Blog</td><td>124000</td></tr><tr><td>Armenia</td><td>Of Life & Lisa | Lifestyle Blog</td><td>124000</td></tr><tr><td>Armenia</td><td>Of Life & Lisa | Lifestyle Blog</td><td>124000</td></tr><tr><td>Armenia</td><td>Of Life & Lisa | Lifestyle Blog</td><td>124000</td></tr><tr><td>Armenia</td><td>Of Life & Lisa | Lifestyle Blog</td><td>124000</td></tr><tr><td>Armenia</td><td>Of Life & Lisa | Lifestyle Blog</td><td>124000</td></tr><tr><td>Armenia</td><td>Of Life & Lisa | Lifestyle Blog</td><td>124000</td></tr><tr><td>Armenia</td><td>Of Life & Lisa | Lifestyle Blog</td><td>124000</td></tr><tr><td>Armenia</td><td>Of Life & Lisa | Lifestyle Blog</td><td>124000</td></tr><tr><td>Aruba</td><td>The Work at Home Woman</td><td>110000</td></tr><tr><td>Anguilla</td><td>Kristen | Lifestyle, Mom Tips & Teacher Stuff Blog</td><td>92000</td></tr><tr><td>Anguilla</td><td>Kristen | Lifestyle, Mom Tips & Teacher Stuff Blog</td><td>92000</td></tr><tr><td>Anguilla</td><td>Kristen | Lifestyle, Mom Tips & Teacher Stuff Blog</td><td>92000</td></tr><tr><td>Anguilla</td><td>Kristen | Lifestyle, Mom Tips & Teacher Stuff Blog</td><td>92000</td></tr><tr><td>Anguilla</td><td>Kristen | Lifestyle, Mom Tips & Teacher Stuff Blog</td><td>92000</td></tr><tr><td>Anguilla</td><td>Kristen | Lifestyle, Mom Tips & Teacher Stuff Blog</td><td>92000</td></tr><tr><td>Anguilla</td><td>Kristen | Lifestyle, Mom Tips & Teacher Stuff Blog</td><td>92000</td></tr><tr><td>Anguilla</td><td>Kristen | Lifestyle, Mom Tips & Teacher Stuff Blog</td><td>92000</td></tr><tr><td>Anguilla</td><td>Kristen | Lifestyle, Mom Tips & Teacher Stuff Blog</td><td>92000</td></tr><tr><td>Austria</td><td>The World Pursuit Travel Website</td><td>89000</td></tr><tr><td>Mozambique</td><td>Stylin by Aylin</td><td>83000</td></tr><tr><td>Mozambique</td><td>Stylin by Aylin</td><td>83000</td></tr><tr><td>Mozambique</td><td>Stylin by Aylin</td><td>83000</td></tr><tr><td>Mozambique</td><td>Stylin by Aylin</td><td>83000</td></tr><tr><td>Mozambique</td><td>Stylin by Aylin</td><td>83000</td></tr><tr><td>Mozambique</td><td>Stylin by Aylin</td><td>83000</td></tr><tr><td>Mozambique</td><td>Stylin by Aylin</td><td>83000</td></tr><tr><td>Mozambique</td><td>Stylin by Aylin</td><td>83000</td></tr><tr><td>Mozambique</td><td>Stylin by Aylin</td><td>83000</td></tr><tr><td>French Guiana</td><td>Commitment Connection</td><td>51000</td></tr><tr><td>French Guiana</td><td>Commitment Connection</td><td>51000</td></tr><tr><td>French Guiana</td><td>Commitment Connection</td><td>51000</td></tr><tr><td>French Guiana</td><td>Commitment Connection</td><td>51000</td></tr><tr><td>Bermuda</td><td>Life on Summerhill | Home, Holiday Decor & DIY Website</td><td>46000</td></tr><tr><td>Maldives</td><td>Thrive Causemetics</td><td>43000</td></tr><tr><td>Maldives</td><td>Thrive Causemetics</td><td>43000</td></tr><tr><td>Maldives</td><td>Thrive Causemetics</td><td>43000</td></tr><tr><td>Maldives</td><td>Thrive Causemetics</td><td>43000</td></tr><tr><td>American Samoa</td><td>TheFab20s | Travel+Food+DIY+Listicles</td><td>42000</td></tr><tr><td>Barbados</td><td>Nicki </td><td>28000</td></tr><tr><td>Barbados</td><td>Nicki </td><td>28000</td></tr><tr><td>Barbados</td><td>Nicki </td><td>28000</td></tr><tr><td>Barbados</td><td>Nicki </td><td>28000</td></tr><tr><td>Barbados</td><td>Nicki </td><td>28000</td></tr><tr><td>Australia</td><td>LLEGANCE | Workwear Fashion Woman Advice For Driven Professionals</td><td>28000</td></tr><tr><td>Barbados</td><td>Nicki </td><td>28000</td></tr><tr><td>Barbados</td><td>Nicki </td><td>28000</td></tr><tr><td>Barbados</td><td>Nicki </td><td>28000</td></tr><tr><td>Barbados</td><td>Nicki </td><td>28000</td></tr><tr><td>Congo</td><td>Shawn Petite</td><td>27000</td></tr><tr><td>Bulgaria</td><td>Living Low Key | Save Money, Make Money, & Frugal Living</td><td>26000</td></tr><tr><td>Bulgaria</td><td>Living Low Key | Save Money, Make Money, & Frugal Living</td><td>26000</td></tr><tr><td>Bulgaria</td><td>Living Low Key | Save Money, Make Money, & Frugal Living</td><td>26000</td></tr><tr><td>Bulgaria</td><td>Living Low Key | Save Money, Make Money, & Frugal Living</td><td>26000</td></tr><tr><td>Bulgaria</td><td>Living Low Key | Save Money, Make Money, & Frugal Living</td><td>26000</td></tr><tr><td>Bulgaria</td><td>Living Low Key | Save Money, Make Money, & Frugal Living</td><td>26000</td></tr><tr><td>Bulgaria</td><td>Living Low Key | Save Money, Make Money, & Frugal Living</td><td>26000</td></tr><tr><td>Bulgaria</td><td>Living Low Key | Save Money, Make Money, & Frugal Living</td><td>26000</td></tr><tr><td>Bulgaria</td><td>Living Low Key | Save Money, Make Money, & Frugal Living</td><td>26000</td></tr><tr><td>Cote d'Ivoire</td><td>Math Giraffe</td><td>25000</td></tr><tr><td>Cote d'Ivoire</td><td>Math Giraffe</td><td>25000</td></tr><tr><td>Cote d'Ivoire</td><td>Math Giraffe</td><td>25000</td></tr><tr><td>Cote d'Ivoire</td><td>Math Giraffe</td><td>25000</td></tr><tr><td>Armenia</td><td>The Arty Teacher</td><td>25000</td></tr><tr><td>Seychelles</td><td>ALL FOR WOMAN</td><td>21000</td></tr><tr><td>Seychelles</td><td>ALL FOR WOMAN</td><td>21000</td></tr><tr><td>Seychelles</td><td>ALL FOR WOMAN</td><td>21000</td></tr><tr><td>Seychelles</td><td>ALL FOR WOMAN</td><td>21000</td></tr><tr><td>Albania</td><td>Projects with Kids</td><td>20000</td></tr><tr><td>Austria</td><td>Wanderlust Chloe ✈️ Travel guides, inspo and adventure travel ✈️</td><td>10000</td></tr><tr><td>Austria</td><td>Wanderlust Chloe ✈️ Travel guides, inspo and adventure travel ✈️</td><td>10000</td></tr><tr><td>Austria</td><td>Wanderlust Chloe ✈️ Travel guides, inspo and adventure travel ✈️</td><td>10000</td></tr><tr><td>Austria</td><td>Wanderlust Chloe ✈️ Travel guides, inspo and adventure travel ✈️</td><td>10000</td></tr><tr><td>Egypt</td><td>South Lumina Style</td><td>9000</td></tr><tr><td>Jamaica</td><td>hobbyDB</td><td>8000</td></tr><tr><td>Jamaica</td><td>hobbyDB</td><td>8000</td></tr><tr><td>Jamaica</td><td>hobbyDB</td><td>8000</td></tr><tr><td>Jamaica</td><td>hobbyDB</td><td>8000</td></tr><tr><td>Jamaica</td><td>hobbyDB</td><td>8000</td></tr><tr><td>Jamaica</td><td>hobbyDB</td><td>8000</td></tr><tr><td>Jamaica</td><td>hobbyDB</td><td>8000</td></tr><tr><td>Jamaica</td><td>hobbyDB</td><td>8000</td></tr><tr><td>Jamaica</td><td>hobbyDB</td><td>8000</td></tr><tr><td>India</td><td>Travel Mad Mum</td><td>7000</td></tr><tr><td>India</td><td>Travel Mad Mum</td><td>7000</td></tr><tr><td>India</td><td>Travel Mad Mum</td><td>7000</td></tr><tr><td>India</td><td>Travel Mad Mum</td><td>7000</td></tr><tr><td>Cambodia</td><td>Mixed Media Crafts</td><td>6000</td></tr><tr><td>Cambodia</td><td>Mixed Media Crafts</td><td>6000</td></tr><tr><td>Cambodia</td><td>Mixed Media Crafts</td><td>6000</td></tr><tr><td>Cambodia</td><td>Mixed Media Crafts</td><td>6000</td></tr><tr><td>Cambodia</td><td>Mixed Media Crafts</td><td>6000</td></tr><tr><td>Cambodia</td><td>Mixed Media Crafts</td><td>6000</td></tr><tr><td>Cambodia</td><td>Mixed Media Crafts</td><td>6000</td></tr><tr><td>Cambodia</td><td>Mixed Media Crafts</td><td>6000</td></tr><tr><td>Cambodia</td><td>Mixed Media Crafts</td><td>6000</td></tr><tr><td>Germany</td><td>QC Career School</td><td>5000</td></tr><tr><td>Australia</td><td>Write Your Story | Budgeting, Healthy Lifestyle, Faith</td><td>5000</td></tr><tr><td>Botswana</td><td>RapidLeaks</td><td>4000</td></tr><tr><td>Botswana</td><td>RapidLeaks</td><td>4000</td></tr><tr><td>Botswana</td><td>RapidLeaks</td><td>4000</td></tr><tr><td>Botswana</td><td>RapidLeaks</td><td>4000</td></tr><tr><td>Dominican Republic</td><td>Petite in Paris</td><td>3000</td></tr><tr><td>Dominican Republic</td><td>Petite in Paris</td><td>3000</td></tr><tr><td>Dominican Republic</td><td>Petite in Paris</td><td>3000</td></tr><tr><td>Dominican Republic</td><td>Petite in Paris</td><td>3000</td></tr><tr><td>Sudan</td><td>iElylike ..✿◕‿◕✿ஐ✿◕‿◕✿</td><td>940</td></tr><tr><td>Sudan</td><td>iElylike ..✿◕‿◕✿ஐ✿◕‿◕✿</td><td>940</td></tr><tr><td>Sudan</td><td>iElylike ..✿◕‿◕✿ஐ✿◕‿◕✿</td><td>940</td></tr><tr><td>Sudan</td><td>iElylike ..✿◕‿◕✿ஐ✿◕‿◕✿</td><td>940</td></tr><tr><td>Sudan</td><td>iElylike ..✿◕‿◕✿ஐ✿◕‿◕✿</td><td>940</td></tr><tr><td>Sudan</td><td>iElylike ..✿◕‿◕✿ஐ✿◕‿◕✿</td><td>940</td></tr><tr><td>Sudan</td><td>iElylike ..✿◕‿◕✿ஐ✿◕‿◕✿</td><td>940</td></tr><tr><td>Sudan</td><td>iElylike ..✿◕‿◕✿ஐ✿◕‿◕✿</td><td>940</td></tr><tr><td>Sudan</td><td>iElylike ..✿◕‿◕✿ஐ✿◕‿◕✿</td><td>940</td></tr><tr><td>Cocos (Keeling) Islands</td><td>Ray Uyemura</td><td>437</td></tr><tr><td>Cocos (Keeling) Islands</td><td>Ray Uyemura</td><td>437</td></tr><tr><td>Cocos (Keeling) Islands</td><td>Ray Uyemura</td><td>437</td></tr><tr><td>Cocos (Keeling) Islands</td><td>Ray Uyemura</td><td>437</td></tr><tr><td>Cocos (Keeling) Islands</td><td>Ray Uyemura</td><td>437</td></tr><tr><td>Cocos (Keeling) Islands</td><td>Ray Uyemura</td><td>437</td></tr><tr><td>Cocos (Keeling) Islands</td><td>Ray Uyemura</td><td>437</td></tr><tr><td>Cocos (Keeling) Islands</td><td>Ray Uyemura</td><td>437</td></tr><tr><td>Cocos (Keeling) Islands</td><td>Ray Uyemura</td><td>437</td></tr><tr><td>Isle of Man</td><td>Annamarie Hilton</td><td>313</td></tr><tr><td>Papua New Guinea</td><td>AnnaLee Kick</td><td>112</td></tr><tr><td>Philippines</td><td>Life of Neon | Custom Neon Light Signs | Home Decor Wall Art</td><td>111</td></tr><tr><td>Aruba</td><td>Mala Rock | Rock T-shirts</td><td>27</td></tr><tr><td>Colombia</td><td>Consuelo Aguirre</td><td>0</td></tr><tr><td>Colombia</td><td>Consuelo Aguirre</td><td>0</td></tr><tr><td>Tonga</td><td>Grecia Perales</td><td>0</td></tr><tr><td>Colombia</td><td>Consuelo Aguirre</td><td>0</td></tr><tr><td>Colombia</td><td>Consuelo Aguirre</td><td>0</td></tr><tr><td>Australia</td><td>Cultura Colectiva</td><td>null</td></tr><tr><td>Australia</td><td>Cultura Colectiva</td><td>null</td></tr><tr><td>Australia</td><td>Cultura Colectiva</td><td>null</td></tr><tr><td>Australia</td><td>Cultura Colectiva</td><td>null</td></tr><tr><td>Azerbaijan</td><td>Style Me Pretty</td><td>null</td></tr><tr><td>Bangladesh</td><td>Architectural Digest</td><td>null</td></tr><tr><td>Christmas Island</td><td>Instructables</td><td>null</td></tr><tr><td>Azerbaijan</td><td>Style Me Pretty</td><td>null</td></tr><tr><td>Azerbaijan</td><td>Style Me Pretty</td><td>null</td></tr><tr><td>Azerbaijan</td><td>Style Me Pretty</td><td>null</td></tr><tr><td>Azerbaijan</td><td>Style Me Pretty</td><td>null</td></tr><tr><td>Albania</td><td>User Info Error</td><td>null</td></tr><tr><td>Bangladesh</td><td>Architectural Digest</td><td>null</td></tr><tr><td>Azerbaijan</td><td>Style Me Pretty</td><td>null</td></tr><tr><td>Azerbaijan</td><td>Style Me Pretty</td><td>null</td></tr><tr><td>Bangladesh</td><td>Architectural Digest</td><td>null</td></tr><tr><td>Albania</td><td>User Info Error</td><td>null</td></tr><tr><td>Albania</td><td>User Info Error</td><td>null</td></tr><tr><td>Albania</td><td>User Info Error</td><td>null</td></tr><tr><td>Albania</td><td>User Info Error</td><td>null</td></tr><tr><td>Bangladesh</td><td>Architectural Digest</td><td>null</td></tr><tr><td>Bangladesh</td><td>Architectural Digest</td><td>null</td></tr><tr><td>Azerbaijan</td><td>Style Me Pretty</td><td>null</td></tr><tr><td>Albania</td><td>User Info Error</td><td>null</td></tr><tr><td>Albania</td><td>User Info Error</td><td>null</td></tr><tr><td>Albania</td><td>User Info Error</td><td>null</td></tr><tr><td>Albania</td><td>User Info Error</td><td>null</td></tr><tr><td>Albania</td><td>User Info Error</td><td>null</td></tr><tr><td>Albania</td><td>User Info Error</td><td>null</td></tr><tr><td>Albania</td><td>User Info Error</td><td>null</td></tr><tr><td>Albania</td><td>User Info Error</td><td>null</td></tr><tr><td>Bangladesh</td><td>Architectural Digest</td><td>null</td></tr><tr><td>Azerbaijan</td><td>Style Me Pretty</td><td>null</td></tr><tr><td>Albania</td><td>User Info Error</td><td>null</td></tr><tr><td>Albania</td><td>User Info Error</td><td>null</td></tr><tr><td>Albania</td><td>User Info Error</td><td>null</td></tr><tr><td>Albania</td><td>User Info Error</td><td>null</td></tr><tr><td>Albania</td><td>User Info Error</td><td>null</td></tr><tr><td>Albania</td><td>User Info Error</td><td>null</td></tr><tr><td>Albania</td><td>User Info Error</td><td>null</td></tr><tr><td>Albania</td><td>User Info Error</td><td>null</td></tr><tr><td>Albania</td><td>User Info Error</td><td>null</td></tr><tr><td>Albania</td><td>User Info Error</td><td>null</td></tr><tr><td>Albania</td><td>User Info Error</td><td>null</td></tr><tr><td>Albania</td><td>User Info Error</td><td>null</td></tr></tbody></table></div>"
      ]
     },
     "metadata": {
      "application/vnd.databricks.v1+output": {
       "addedWidgets": {},
       "aggData": [],
       "aggError": "",
       "aggOverflow": false,
       "aggSchema": [],
       "aggSeriesLimitReached": false,
       "aggType": "",
       "arguments": {},
       "columnCustomDisplayInfos": {},
       "data": [
        [
         "Armenia",
         "Michelle {CraftyMorning.com}",
         892000
        ],
        [
         "Armenia",
         "Michelle {CraftyMorning.com}",
         892000
        ],
        [
         "Armenia",
         "Michelle {CraftyMorning.com}",
         892000
        ],
        [
         "Armenia",
         "Michelle {CraftyMorning.com}",
         892000
        ],
        [
         "Armenia",
         "Michelle {CraftyMorning.com}",
         892000
        ],
        [
         "Armenia",
         "Michelle {CraftyMorning.com}",
         892000
        ],
        [
         "Armenia",
         "Michelle {CraftyMorning.com}",
         892000
        ],
        [
         "Armenia",
         "Michelle {CraftyMorning.com}",
         892000
        ],
        [
         "Armenia",
         "Michelle {CraftyMorning.com}",
         892000
        ],
        [
         "Central African Republic",
         "PureWow",
         868000
        ],
        [
         "Central African Republic",
         "PureWow",
         868000
        ],
        [
         "Central African Republic",
         "PureWow",
         868000
        ],
        [
         "Central African Republic",
         "PureWow",
         868000
        ],
        [
         "Argentina",
         "Next Luxury",
         800000
        ],
        [
         "Angola",
         "CraftGossip.com",
         502000
        ],
        [
         "Angola",
         "CraftGossip.com",
         502000
        ],
        [
         "Angola",
         "CraftGossip.com",
         502000
        ],
        [
         "Angola",
         "CraftGossip.com",
         502000
        ],
        [
         "Angola",
         "CraftGossip.com",
         502000
        ],
        [
         "Angola",
         "CraftGossip.com",
         502000
        ],
        [
         "Angola",
         "CraftGossip.com",
         502000
        ],
        [
         "Angola",
         "CraftGossip.com",
         502000
        ],
        [
         "Angola",
         "CraftGossip.com",
         502000
        ],
        [
         "Antarctica (the territory South of 60 deg S)",
         "HikenDip",
         500000
        ],
        [
         "Antarctica (the territory South of 60 deg S)",
         "HikenDip",
         500000
        ],
        [
         "Antarctica (the territory South of 60 deg S)",
         "HikenDip",
         500000
        ],
        [
         "Antarctica (the territory South of 60 deg S)",
         "HikenDip",
         500000
        ],
        [
         "Antarctica (the territory South of 60 deg S)",
         "HikenDip",
         500000
        ],
        [
         "Antarctica (the territory South of 60 deg S)",
         "HikenDip",
         500000
        ],
        [
         "Antarctica (the territory South of 60 deg S)",
         "HikenDip",
         500000
        ],
        [
         "Antarctica (the territory South of 60 deg S)",
         "HikenDip",
         500000
        ],
        [
         "Antarctica (the territory South of 60 deg S)",
         "HikenDip",
         500000
        ],
        [
         "Barbados",
         "The Creativity Exchange",
         410000
        ],
        [
         "Antigua and Barbuda",
         "Sumcoco | Decor Ideas, Hairstyles, Nails Fashion Advice",
         306000
        ],
        [
         "Antigua and Barbuda",
         "Sumcoco | Decor Ideas, Hairstyles, Nails Fashion Advice",
         306000
        ],
        [
         "Aruba",
         "TheTrendSpotter",
         211000
        ],
        [
         "Aruba",
         "TheTrendSpotter",
         211000
        ],
        [
         "Aruba",
         "TheTrendSpotter",
         211000
        ],
        [
         "Aruba",
         "TheTrendSpotter",
         211000
        ],
        [
         "Cote d'Ivoire",
         "The Crafting Chicks",
         192000
        ],
        [
         "Cote d'Ivoire",
         "The Crafting Chicks",
         192000
        ],
        [
         "Cote d'Ivoire",
         "The Crafting Chicks",
         192000
        ],
        [
         "Cote d'Ivoire",
         "The Crafting Chicks",
         192000
        ],
        [
         "Cote d'Ivoire",
         "The Crafting Chicks",
         192000
        ],
        [
         "Cote d'Ivoire",
         "The Crafting Chicks",
         192000
        ],
        [
         "Cote d'Ivoire",
         "The Crafting Chicks",
         192000
        ],
        [
         "Cote d'Ivoire",
         "The Crafting Chicks",
         192000
        ],
        [
         "Cote d'Ivoire",
         "The Crafting Chicks",
         192000
        ],
        [
         "Saint Kitts and Nevis",
         "vintagetopia",
         171000
        ],
        [
         "Algeria",
         "Fun Life Crisis",
         130000
        ],
        [
         "Armenia",
         "Of Life & Lisa | Lifestyle Blog",
         124000
        ],
        [
         "Armenia",
         "Of Life & Lisa | Lifestyle Blog",
         124000
        ],
        [
         "Armenia",
         "Of Life & Lisa | Lifestyle Blog",
         124000
        ],
        [
         "Armenia",
         "Of Life & Lisa | Lifestyle Blog",
         124000
        ],
        [
         "Armenia",
         "Of Life & Lisa | Lifestyle Blog",
         124000
        ],
        [
         "Armenia",
         "Of Life & Lisa | Lifestyle Blog",
         124000
        ],
        [
         "Armenia",
         "Of Life & Lisa | Lifestyle Blog",
         124000
        ],
        [
         "Armenia",
         "Of Life & Lisa | Lifestyle Blog",
         124000
        ],
        [
         "Armenia",
         "Of Life & Lisa | Lifestyle Blog",
         124000
        ],
        [
         "Aruba",
         "The Work at Home Woman",
         110000
        ],
        [
         "Anguilla",
         "Kristen | Lifestyle, Mom Tips & Teacher Stuff Blog",
         92000
        ],
        [
         "Anguilla",
         "Kristen | Lifestyle, Mom Tips & Teacher Stuff Blog",
         92000
        ],
        [
         "Anguilla",
         "Kristen | Lifestyle, Mom Tips & Teacher Stuff Blog",
         92000
        ],
        [
         "Anguilla",
         "Kristen | Lifestyle, Mom Tips & Teacher Stuff Blog",
         92000
        ],
        [
         "Anguilla",
         "Kristen | Lifestyle, Mom Tips & Teacher Stuff Blog",
         92000
        ],
        [
         "Anguilla",
         "Kristen | Lifestyle, Mom Tips & Teacher Stuff Blog",
         92000
        ],
        [
         "Anguilla",
         "Kristen | Lifestyle, Mom Tips & Teacher Stuff Blog",
         92000
        ],
        [
         "Anguilla",
         "Kristen | Lifestyle, Mom Tips & Teacher Stuff Blog",
         92000
        ],
        [
         "Anguilla",
         "Kristen | Lifestyle, Mom Tips & Teacher Stuff Blog",
         92000
        ],
        [
         "Austria",
         "The World Pursuit Travel Website",
         89000
        ],
        [
         "Mozambique",
         "Stylin by Aylin",
         83000
        ],
        [
         "Mozambique",
         "Stylin by Aylin",
         83000
        ],
        [
         "Mozambique",
         "Stylin by Aylin",
         83000
        ],
        [
         "Mozambique",
         "Stylin by Aylin",
         83000
        ],
        [
         "Mozambique",
         "Stylin by Aylin",
         83000
        ],
        [
         "Mozambique",
         "Stylin by Aylin",
         83000
        ],
        [
         "Mozambique",
         "Stylin by Aylin",
         83000
        ],
        [
         "Mozambique",
         "Stylin by Aylin",
         83000
        ],
        [
         "Mozambique",
         "Stylin by Aylin",
         83000
        ],
        [
         "French Guiana",
         "Commitment Connection",
         51000
        ],
        [
         "French Guiana",
         "Commitment Connection",
         51000
        ],
        [
         "French Guiana",
         "Commitment Connection",
         51000
        ],
        [
         "French Guiana",
         "Commitment Connection",
         51000
        ],
        [
         "Bermuda",
         "Life on Summerhill | Home, Holiday Decor & DIY Website",
         46000
        ],
        [
         "Maldives",
         "Thrive Causemetics",
         43000
        ],
        [
         "Maldives",
         "Thrive Causemetics",
         43000
        ],
        [
         "Maldives",
         "Thrive Causemetics",
         43000
        ],
        [
         "Maldives",
         "Thrive Causemetics",
         43000
        ],
        [
         "American Samoa",
         "TheFab20s | Travel+Food+DIY+Listicles",
         42000
        ],
        [
         "Barbados",
         "Nicki ",
         28000
        ],
        [
         "Barbados",
         "Nicki ",
         28000
        ],
        [
         "Barbados",
         "Nicki ",
         28000
        ],
        [
         "Barbados",
         "Nicki ",
         28000
        ],
        [
         "Barbados",
         "Nicki ",
         28000
        ],
        [
         "Australia",
         "LLEGANCE | Workwear Fashion Woman Advice For Driven Professionals",
         28000
        ],
        [
         "Barbados",
         "Nicki ",
         28000
        ],
        [
         "Barbados",
         "Nicki ",
         28000
        ],
        [
         "Barbados",
         "Nicki ",
         28000
        ],
        [
         "Barbados",
         "Nicki ",
         28000
        ],
        [
         "Congo",
         "Shawn Petite",
         27000
        ],
        [
         "Bulgaria",
         "Living Low Key | Save Money, Make Money, & Frugal Living",
         26000
        ],
        [
         "Bulgaria",
         "Living Low Key | Save Money, Make Money, & Frugal Living",
         26000
        ],
        [
         "Bulgaria",
         "Living Low Key | Save Money, Make Money, & Frugal Living",
         26000
        ],
        [
         "Bulgaria",
         "Living Low Key | Save Money, Make Money, & Frugal Living",
         26000
        ],
        [
         "Bulgaria",
         "Living Low Key | Save Money, Make Money, & Frugal Living",
         26000
        ],
        [
         "Bulgaria",
         "Living Low Key | Save Money, Make Money, & Frugal Living",
         26000
        ],
        [
         "Bulgaria",
         "Living Low Key | Save Money, Make Money, & Frugal Living",
         26000
        ],
        [
         "Bulgaria",
         "Living Low Key | Save Money, Make Money, & Frugal Living",
         26000
        ],
        [
         "Bulgaria",
         "Living Low Key | Save Money, Make Money, & Frugal Living",
         26000
        ],
        [
         "Cote d'Ivoire",
         "Math Giraffe",
         25000
        ],
        [
         "Cote d'Ivoire",
         "Math Giraffe",
         25000
        ],
        [
         "Cote d'Ivoire",
         "Math Giraffe",
         25000
        ],
        [
         "Cote d'Ivoire",
         "Math Giraffe",
         25000
        ],
        [
         "Armenia",
         "The Arty Teacher",
         25000
        ],
        [
         "Seychelles",
         "ALL FOR WOMAN",
         21000
        ],
        [
         "Seychelles",
         "ALL FOR WOMAN",
         21000
        ],
        [
         "Seychelles",
         "ALL FOR WOMAN",
         21000
        ],
        [
         "Seychelles",
         "ALL FOR WOMAN",
         21000
        ],
        [
         "Albania",
         "Projects with Kids",
         20000
        ],
        [
         "Austria",
         "Wanderlust Chloe ✈️ Travel guides, inspo and adventure travel ✈️",
         10000
        ],
        [
         "Austria",
         "Wanderlust Chloe ✈️ Travel guides, inspo and adventure travel ✈️",
         10000
        ],
        [
         "Austria",
         "Wanderlust Chloe ✈️ Travel guides, inspo and adventure travel ✈️",
         10000
        ],
        [
         "Austria",
         "Wanderlust Chloe ✈️ Travel guides, inspo and adventure travel ✈️",
         10000
        ],
        [
         "Egypt",
         "South Lumina Style",
         9000
        ],
        [
         "Jamaica",
         "hobbyDB",
         8000
        ],
        [
         "Jamaica",
         "hobbyDB",
         8000
        ],
        [
         "Jamaica",
         "hobbyDB",
         8000
        ],
        [
         "Jamaica",
         "hobbyDB",
         8000
        ],
        [
         "Jamaica",
         "hobbyDB",
         8000
        ],
        [
         "Jamaica",
         "hobbyDB",
         8000
        ],
        [
         "Jamaica",
         "hobbyDB",
         8000
        ],
        [
         "Jamaica",
         "hobbyDB",
         8000
        ],
        [
         "Jamaica",
         "hobbyDB",
         8000
        ],
        [
         "India",
         "Travel Mad Mum",
         7000
        ],
        [
         "India",
         "Travel Mad Mum",
         7000
        ],
        [
         "India",
         "Travel Mad Mum",
         7000
        ],
        [
         "India",
         "Travel Mad Mum",
         7000
        ],
        [
         "Cambodia",
         "Mixed Media Crafts",
         6000
        ],
        [
         "Cambodia",
         "Mixed Media Crafts",
         6000
        ],
        [
         "Cambodia",
         "Mixed Media Crafts",
         6000
        ],
        [
         "Cambodia",
         "Mixed Media Crafts",
         6000
        ],
        [
         "Cambodia",
         "Mixed Media Crafts",
         6000
        ],
        [
         "Cambodia",
         "Mixed Media Crafts",
         6000
        ],
        [
         "Cambodia",
         "Mixed Media Crafts",
         6000
        ],
        [
         "Cambodia",
         "Mixed Media Crafts",
         6000
        ],
        [
         "Cambodia",
         "Mixed Media Crafts",
         6000
        ],
        [
         "Germany",
         "QC Career School",
         5000
        ],
        [
         "Australia",
         "Write Your Story | Budgeting, Healthy Lifestyle, Faith",
         5000
        ],
        [
         "Botswana",
         "RapidLeaks",
         4000
        ],
        [
         "Botswana",
         "RapidLeaks",
         4000
        ],
        [
         "Botswana",
         "RapidLeaks",
         4000
        ],
        [
         "Botswana",
         "RapidLeaks",
         4000
        ],
        [
         "Dominican Republic",
         "Petite in Paris",
         3000
        ],
        [
         "Dominican Republic",
         "Petite in Paris",
         3000
        ],
        [
         "Dominican Republic",
         "Petite in Paris",
         3000
        ],
        [
         "Dominican Republic",
         "Petite in Paris",
         3000
        ],
        [
         "Sudan",
         "iElylike ..✿◕‿◕✿ஐ✿◕‿◕✿",
         940
        ],
        [
         "Sudan",
         "iElylike ..✿◕‿◕✿ஐ✿◕‿◕✿",
         940
        ],
        [
         "Sudan",
         "iElylike ..✿◕‿◕✿ஐ✿◕‿◕✿",
         940
        ],
        [
         "Sudan",
         "iElylike ..✿◕‿◕✿ஐ✿◕‿◕✿",
         940
        ],
        [
         "Sudan",
         "iElylike ..✿◕‿◕✿ஐ✿◕‿◕✿",
         940
        ],
        [
         "Sudan",
         "iElylike ..✿◕‿◕✿ஐ✿◕‿◕✿",
         940
        ],
        [
         "Sudan",
         "iElylike ..✿◕‿◕✿ஐ✿◕‿◕✿",
         940
        ],
        [
         "Sudan",
         "iElylike ..✿◕‿◕✿ஐ✿◕‿◕✿",
         940
        ],
        [
         "Sudan",
         "iElylike ..✿◕‿◕✿ஐ✿◕‿◕✿",
         940
        ],
        [
         "Cocos (Keeling) Islands",
         "Ray Uyemura",
         437
        ],
        [
         "Cocos (Keeling) Islands",
         "Ray Uyemura",
         437
        ],
        [
         "Cocos (Keeling) Islands",
         "Ray Uyemura",
         437
        ],
        [
         "Cocos (Keeling) Islands",
         "Ray Uyemura",
         437
        ],
        [
         "Cocos (Keeling) Islands",
         "Ray Uyemura",
         437
        ],
        [
         "Cocos (Keeling) Islands",
         "Ray Uyemura",
         437
        ],
        [
         "Cocos (Keeling) Islands",
         "Ray Uyemura",
         437
        ],
        [
         "Cocos (Keeling) Islands",
         "Ray Uyemura",
         437
        ],
        [
         "Cocos (Keeling) Islands",
         "Ray Uyemura",
         437
        ],
        [
         "Isle of Man",
         "Annamarie Hilton",
         313
        ],
        [
         "Papua New Guinea",
         "AnnaLee Kick",
         112
        ],
        [
         "Philippines",
         "Life of Neon | Custom Neon Light Signs | Home Decor Wall Art",
         111
        ],
        [
         "Aruba",
         "Mala Rock | Rock T-shirts",
         27
        ],
        [
         "Colombia",
         "Consuelo Aguirre",
         0
        ],
        [
         "Colombia",
         "Consuelo Aguirre",
         0
        ],
        [
         "Tonga",
         "Grecia Perales",
         0
        ],
        [
         "Colombia",
         "Consuelo Aguirre",
         0
        ],
        [
         "Colombia",
         "Consuelo Aguirre",
         0
        ],
        [
         "Australia",
         "Cultura Colectiva",
         null
        ],
        [
         "Australia",
         "Cultura Colectiva",
         null
        ],
        [
         "Australia",
         "Cultura Colectiva",
         null
        ],
        [
         "Australia",
         "Cultura Colectiva",
         null
        ],
        [
         "Azerbaijan",
         "Style Me Pretty",
         null
        ],
        [
         "Bangladesh",
         "Architectural Digest",
         null
        ],
        [
         "Christmas Island",
         "Instructables",
         null
        ],
        [
         "Azerbaijan",
         "Style Me Pretty",
         null
        ],
        [
         "Azerbaijan",
         "Style Me Pretty",
         null
        ],
        [
         "Azerbaijan",
         "Style Me Pretty",
         null
        ],
        [
         "Azerbaijan",
         "Style Me Pretty",
         null
        ],
        [
         "Albania",
         "User Info Error",
         null
        ],
        [
         "Bangladesh",
         "Architectural Digest",
         null
        ],
        [
         "Azerbaijan",
         "Style Me Pretty",
         null
        ],
        [
         "Azerbaijan",
         "Style Me Pretty",
         null
        ],
        [
         "Bangladesh",
         "Architectural Digest",
         null
        ],
        [
         "Albania",
         "User Info Error",
         null
        ],
        [
         "Albania",
         "User Info Error",
         null
        ],
        [
         "Albania",
         "User Info Error",
         null
        ],
        [
         "Albania",
         "User Info Error",
         null
        ],
        [
         "Bangladesh",
         "Architectural Digest",
         null
        ],
        [
         "Bangladesh",
         "Architectural Digest",
         null
        ],
        [
         "Azerbaijan",
         "Style Me Pretty",
         null
        ],
        [
         "Albania",
         "User Info Error",
         null
        ],
        [
         "Albania",
         "User Info Error",
         null
        ],
        [
         "Albania",
         "User Info Error",
         null
        ],
        [
         "Albania",
         "User Info Error",
         null
        ],
        [
         "Albania",
         "User Info Error",
         null
        ],
        [
         "Albania",
         "User Info Error",
         null
        ],
        [
         "Albania",
         "User Info Error",
         null
        ],
        [
         "Albania",
         "User Info Error",
         null
        ],
        [
         "Bangladesh",
         "Architectural Digest",
         null
        ],
        [
         "Azerbaijan",
         "Style Me Pretty",
         null
        ],
        [
         "Albania",
         "User Info Error",
         null
        ],
        [
         "Albania",
         "User Info Error",
         null
        ],
        [
         "Albania",
         "User Info Error",
         null
        ],
        [
         "Albania",
         "User Info Error",
         null
        ],
        [
         "Albania",
         "User Info Error",
         null
        ],
        [
         "Albania",
         "User Info Error",
         null
        ],
        [
         "Albania",
         "User Info Error",
         null
        ],
        [
         "Albania",
         "User Info Error",
         null
        ],
        [
         "Albania",
         "User Info Error",
         null
        ],
        [
         "Albania",
         "User Info Error",
         null
        ],
        [
         "Albania",
         "User Info Error",
         null
        ],
        [
         "Albania",
         "User Info Error",
         null
        ]
       ],
       "datasetInfos": [],
       "dbfsResultPath": null,
       "isJsonSchema": true,
       "metadata": {},
       "overflow": false,
       "plotOptions": {
        "customPlotOptions": {},
        "displayType": "table",
        "pivotAggregation": null,
        "pivotColumns": null,
        "xColumns": null,
        "yColumns": null
       },
       "removedWidgets": [],
       "schema": [
        {
         "metadata": "{}",
         "name": "country",
         "type": "\"string\""
        },
        {
         "metadata": "{}",
         "name": "poster_name",
         "type": "\"string\""
        },
        {
         "metadata": "{}",
         "name": "follower_count",
         "type": "\"integer\""
        }
       ],
       "type": "table"
      }
     },
     "output_type": "display_data"
    },
    {
     "data": {
      "text/html": [
       "<style scoped>\n",
       "  .table-result-container {\n",
       "    max-height: 300px;\n",
       "    overflow: auto;\n",
       "  }\n",
       "  table, th, td {\n",
       "    border: 1px solid black;\n",
       "    border-collapse: collapse;\n",
       "  }\n",
       "  th, td {\n",
       "    padding: 5px;\n",
       "  }\n",
       "  th {\n",
       "    text-align: left;\n",
       "  }\n",
       "</style><div class='table-result-container'><table class='table-result'><thead style='background-color: white'><tr><th>country</th><th>follower_count</th></tr></thead><tbody><tr><td>Armenia</td><td>892000</td></tr></tbody></table></div>"
      ]
     },
     "metadata": {
      "application/vnd.databricks.v1+output": {
       "addedWidgets": {},
       "aggData": [],
       "aggError": "",
       "aggOverflow": false,
       "aggSchema": [],
       "aggSeriesLimitReached": false,
       "aggType": "",
       "arguments": {},
       "columnCustomDisplayInfos": {},
       "data": [
        [
         "Armenia",
         892000
        ]
       ],
       "datasetInfos": [],
       "dbfsResultPath": null,
       "isJsonSchema": true,
       "metadata": {},
       "overflow": false,
       "plotOptions": {
        "customPlotOptions": {},
        "displayType": "table",
        "pivotAggregation": null,
        "pivotColumns": null,
        "xColumns": null,
        "yColumns": null
       },
       "removedWidgets": [],
       "schema": [
        {
         "metadata": "{}",
         "name": "country",
         "type": "\"string\""
        },
        {
         "metadata": "{}",
         "name": "follower_count",
         "type": "\"integer\""
        }
       ],
       "type": "table"
      }
     },
     "output_type": "display_data"
    }
   ],
   "source": [
    "## Milestone 7 Task 6\n",
    "\n",
    "from pyspark.sql import SparkSession\n",
    "from pyspark.sql.functions import col, max\n",
    "\n",
    "df_combined.createOrReplaceTempView(\"combined_data\")\n",
    "\n",
    "query1 = \"\"\"\n",
    "SELECT\n",
    "    country,\n",
    "    poster_name,\n",
    "    follower_count\n",
    "FROM\n",
    "    combined_data\n",
    "ORDER BY\n",
    "    follower_count DESC\n",
    "\n",
    "\"\"\"\n",
    "\n",
    "result_df1 = spark.sql(query1)\n",
    "\n",
    "query2 = \"\"\"\n",
    "SELECT\n",
    "    country,\n",
    "    MAX(follower_count) AS follower_count\n",
    "FROM\n",
    "    combined_data\n",
    "GROUP BY\n",
    "    country\n",
    "ORDER BY\n",
    "    follower_count DESC\n",
    "LIMIT 1\n",
    "\"\"\"\n",
    "\n",
    "result_df2 = spark.sql(query2)\n",
    "display(result_df1)\n",
    "display(result_df2)"
   ]
  },
  {
   "cell_type": "code",
   "execution_count": null,
   "metadata": {
    "application/vnd.databricks.v1+cell": {
     "cellMetadata": {
      "byteLimit": 2048000,
      "rowLimit": 10000
     },
     "inputWidgets": {},
     "nuid": "9e3c621f-1490-4e92-9991-c337033874f9",
     "showTitle": false,
     "title": ""
    }
   },
   "outputs": [
    {
     "data": {
      "text/html": [
       "<style scoped>\n",
       "  .table-result-container {\n",
       "    max-height: 300px;\n",
       "    overflow: auto;\n",
       "  }\n",
       "  table, th, td {\n",
       "    border: 1px solid black;\n",
       "    border-collapse: collapse;\n",
       "  }\n",
       "  th, td {\n",
       "    padding: 5px;\n",
       "  }\n",
       "  th {\n",
       "    text-align: left;\n",
       "  }\n",
       "</style><div class='table-result-container'><table class='table-result'><thead style='background-color: white'><tr><th>age_group</th><th>category</th><th>category_count</th></tr></thead><tbody><tr><td>+50</td><td>diy-and-crafts</td><td>55</td></tr><tr><td>+50</td><td>mens-fashion</td><td>26</td></tr><tr><td>+50</td><td>travel</td><td>24</td></tr><tr><td>+50</td><td>vehicles</td><td>19</td></tr><tr><td>+50</td><td>home-decor</td><td>18</td></tr><tr><td>+50</td><td>christmas</td><td>16</td></tr><tr><td>+50</td><td>finance</td><td>14</td></tr><tr><td>+50</td><td>tattoos</td><td>14</td></tr><tr><td>+50</td><td>event-planning</td><td>12</td></tr><tr><td>+50</td><td>art</td><td>9</td></tr><tr><td>+50</td><td>education</td><td>7</td></tr><tr><td>+50</td><td>quotes</td><td>6</td></tr><tr><td>+50</td><td>beauty</td><td>5</td></tr></tbody></table></div>"
      ]
     },
     "metadata": {
      "application/vnd.databricks.v1+output": {
       "addedWidgets": {},
       "aggData": [],
       "aggError": "",
       "aggOverflow": false,
       "aggSchema": [],
       "aggSeriesLimitReached": false,
       "aggType": "",
       "arguments": {},
       "columnCustomDisplayInfos": {},
       "data": [
        [
         "+50",
         "diy-and-crafts",
         55
        ],
        [
         "+50",
         "mens-fashion",
         26
        ],
        [
         "+50",
         "travel",
         24
        ],
        [
         "+50",
         "vehicles",
         19
        ],
        [
         "+50",
         "home-decor",
         18
        ],
        [
         "+50",
         "christmas",
         16
        ],
        [
         "+50",
         "finance",
         14
        ],
        [
         "+50",
         "tattoos",
         14
        ],
        [
         "+50",
         "event-planning",
         12
        ],
        [
         "+50",
         "art",
         9
        ],
        [
         "+50",
         "education",
         7
        ],
        [
         "+50",
         "quotes",
         6
        ],
        [
         "+50",
         "beauty",
         5
        ]
       ],
       "datasetInfos": [],
       "dbfsResultPath": null,
       "isJsonSchema": true,
       "metadata": {},
       "overflow": false,
       "plotOptions": {
        "customPlotOptions": {},
        "displayType": "table",
        "pivotAggregation": null,
        "pivotColumns": null,
        "xColumns": null,
        "yColumns": null
       },
       "removedWidgets": [],
       "schema": [
        {
         "metadata": "{}",
         "name": "age_group",
         "type": "\"string\""
        },
        {
         "metadata": "{}",
         "name": "category",
         "type": "\"string\""
        },
        {
         "metadata": "{}",
         "name": "category_count",
         "type": "\"long\""
        }
       ],
       "type": "table"
      }
     },
     "output_type": "display_data"
    }
   ],
   "source": [
    "## Milestone 7 Task 7\n",
    "from pyspark.sql import SparkSession\n",
    "from pyspark.sql.functions import col, floor, current_date, year, when\n",
    "\n",
    "df_user = df_user.withColumn(\n",
    "    'age_group',\n",
    "    when(col('age').between(18, 24), '18-24')\n",
    "    .when(col('age').between(25, 35), '25-35')\n",
    "    .when(col('age').between(36, 50), '36-50')\n",
    "    .otherwise('+50')\n",
    ")\n",
    "\n",
    "df_pin.createOrReplaceTempView(\"pin_data\")\n",
    "df_user.createOrReplaceTempView(\"user_data\")\n",
    "\n",
    "query = \"\"\"\n",
    "SELECT\n",
    "    u.age_group,\n",
    "    p.category,\n",
    "    COUNT(*) AS category_count\n",
    "FROM\n",
    "    pin_data p\n",
    "JOIN\n",
    "    user_data u\n",
    "ON\n",
    "    p.ind = u.ind -- Assuming 'ind' is a common column\n",
    "GROUP BY\n",
    "    u.age_group,\n",
    "    p.category\n",
    "ORDER BY\n",
    "    u.age_group,\n",
    "    category_count DESC\n",
    "\"\"\"\n",
    "\n",
    "result_df = spark.sql(query)\n",
    "\n",
    "display(result_df)\n",
    "\n"
   ]
  },
  {
   "cell_type": "code",
   "execution_count": null,
   "metadata": {
    "application/vnd.databricks.v1+cell": {
     "cellMetadata": {
      "byteLimit": 2048000,
      "rowLimit": 10000
     },
     "inputWidgets": {},
     "nuid": "c5193dbd-bf40-4031-a9c1-213999f1f25d",
     "showTitle": false,
     "title": ""
    }
   },
   "outputs": [
    {
     "data": {
      "text/html": [
       "<style scoped>\n",
       "  .table-result-container {\n",
       "    max-height: 300px;\n",
       "    overflow: auto;\n",
       "  }\n",
       "  table, th, td {\n",
       "    border: 1px solid black;\n",
       "    border-collapse: collapse;\n",
       "  }\n",
       "  th, td {\n",
       "    padding: 5px;\n",
       "  }\n",
       "  th {\n",
       "    text-align: left;\n",
       "  }\n",
       "</style><div class='table-result-container'><table class='table-result'><thead style='background-color: white'><tr><th>age_group</th><th>median_follower_count</th></tr></thead><tbody><tr><td>+50</td><td>28000</td></tr></tbody></table></div>"
      ]
     },
     "metadata": {
      "application/vnd.databricks.v1+output": {
       "addedWidgets": {},
       "aggData": [],
       "aggError": "",
       "aggOverflow": false,
       "aggSchema": [],
       "aggSeriesLimitReached": false,
       "aggType": "",
       "arguments": {},
       "columnCustomDisplayInfos": {},
       "data": [
        [
         "+50",
         28000
        ]
       ],
       "datasetInfos": [],
       "dbfsResultPath": null,
       "isJsonSchema": true,
       "metadata": {},
       "overflow": false,
       "plotOptions": {
        "customPlotOptions": {},
        "displayType": "table",
        "pivotAggregation": null,
        "pivotColumns": null,
        "xColumns": null,
        "yColumns": null
       },
       "removedWidgets": [],
       "schema": [
        {
         "metadata": "{}",
         "name": "age_group",
         "type": "\"string\""
        },
        {
         "metadata": "{}",
         "name": "median_follower_count",
         "type": "\"integer\""
        }
       ],
       "type": "table"
      }
     },
     "output_type": "display_data"
    }
   ],
   "source": [
    "## Milestone 7 Task 8\n",
    "from pyspark.sql import SparkSession\n",
    "from pyspark.sql.functions import col, percentile_approx\n",
    "\n",
    "\n",
    "df_user = df_user.withColumn('age', floor((current_date() - col('date_joined')).cast('int') / 365))\n",
    "\n",
    "\n",
    "df_user = df_user.withColumn(\n",
    "    'age_group',\n",
    "    when(col('age').between(18, 24), '18-24')\n",
    "    .when(col('age').between(25, 35), '25-35')\n",
    "    .when(col('age').between(36, 50), '36-50')\n",
    "    .otherwise('+50')\n",
    ")\n",
    "\n",
    "\n",
    "df_pin.createOrReplaceTempView(\"pin_data\")\n",
    "df_user.createOrReplaceTempView(\"user_data\")\n",
    "\n",
    "\n",
    "query = \"\"\"\n",
    "SELECT\n",
    "    u.age_group,\n",
    "    percentile_approx(p.follower_count, 0.5) AS median_follower_count\n",
    "FROM\n",
    "    pin_data p\n",
    "JOIN\n",
    "    user_data u\n",
    "ON\n",
    "    p.ind = u.ind \n",
    "GROUP BY\n",
    "    u.age_group\n",
    "\"\"\"\n",
    "\n",
    "result_df = spark.sql(query)\n",
    "\n",
    "\n",
    "display(result_df)\n",
    "\n"
   ]
  },
  {
   "cell_type": "code",
   "execution_count": null,
   "metadata": {
    "application/vnd.databricks.v1+cell": {
     "cellMetadata": {
      "byteLimit": 2048000,
      "rowLimit": 10000
     },
     "inputWidgets": {},
     "nuid": "e4651cc1-2b83-4ffa-b7b5-0ea6ffee6f14",
     "showTitle": false,
     "title": ""
    }
   },
   "outputs": [
    {
     "data": {
      "text/html": [
       "<style scoped>\n",
       "  .table-result-container {\n",
       "    max-height: 300px;\n",
       "    overflow: auto;\n",
       "  }\n",
       "  table, th, td {\n",
       "    border: 1px solid black;\n",
       "    border-collapse: collapse;\n",
       "  }\n",
       "  th, td {\n",
       "    padding: 5px;\n",
       "  }\n",
       "  th {\n",
       "    text-align: left;\n",
       "  }\n",
       "</style><div class='table-result-container'><table class='table-result'><thead style='background-color: white'><tr><th>post_year</th><th>number_users_joined</th></tr></thead><tbody><tr><td>2015</td><td>50</td></tr><tr><td>2016</td><td>35</td></tr><tr><td>2017</td><td>12</td></tr></tbody></table></div>"
      ]
     },
     "metadata": {
      "application/vnd.databricks.v1+output": {
       "addedWidgets": {},
       "aggData": [],
       "aggError": "",
       "aggOverflow": false,
       "aggSchema": [],
       "aggSeriesLimitReached": false,
       "aggType": "",
       "arguments": {},
       "columnCustomDisplayInfos": {},
       "data": [
        [
         2015,
         50
        ],
        [
         2016,
         35
        ],
        [
         2017,
         12
        ]
       ],
       "datasetInfos": [],
       "dbfsResultPath": null,
       "isJsonSchema": true,
       "metadata": {},
       "overflow": false,
       "plotOptions": {
        "customPlotOptions": {},
        "displayType": "table",
        "pivotAggregation": null,
        "pivotColumns": null,
        "xColumns": null,
        "yColumns": null
       },
       "removedWidgets": [],
       "schema": [
        {
         "metadata": "{}",
         "name": "post_year",
         "type": "\"integer\""
        },
        {
         "metadata": "{}",
         "name": "number_users_joined",
         "type": "\"long\""
        }
       ],
       "type": "table"
      }
     },
     "output_type": "display_data"
    }
   ],
   "source": [
    "## Milestone 7 Task 9\n",
    "from pyspark.sql import SparkSession\n",
    "from pyspark.sql.functions import col, year, count\n",
    "\n",
    "df_user = df_user.withColumn('post_year', year(col('date_joined')))\n",
    "\n",
    "df_user.createOrReplaceTempView(\"user_data\")\n",
    "\n",
    "query = \"\"\"\n",
    "SELECT\n",
    "    post_year,\n",
    "    COUNT(*) AS number_users_joined\n",
    "FROM\n",
    "    user_data\n",
    "WHERE\n",
    "    post_year BETWEEN 2015 AND 2020\n",
    "GROUP BY\n",
    "    post_year\n",
    "ORDER BY\n",
    "    post_year\n",
    "\"\"\"\n",
    "\n",
    "result_df = spark.sql(query)\n",
    "\n",
    "\n",
    "display(result_df)\n"
   ]
  },
  {
   "cell_type": "code",
   "execution_count": null,
   "metadata": {
    "application/vnd.databricks.v1+cell": {
     "cellMetadata": {
      "byteLimit": 2048000,
      "rowLimit": 10000
     },
     "inputWidgets": {},
     "nuid": "2d27d353-6da7-4a95-b3e8-2c08226d8a8f",
     "showTitle": false,
     "title": ""
    }
   },
   "outputs": [
    {
     "data": {
      "text/html": [
       "<style scoped>\n",
       "  .table-result-container {\n",
       "    max-height: 300px;\n",
       "    overflow: auto;\n",
       "  }\n",
       "  table, th, td {\n",
       "    border: 1px solid black;\n",
       "    border-collapse: collapse;\n",
       "  }\n",
       "  th, td {\n",
       "    padding: 5px;\n",
       "  }\n",
       "  th {\n",
       "    text-align: left;\n",
       "  }\n",
       "</style><div class='table-result-container'><table class='table-result'><thead style='background-color: white'><tr><th>post_year</th><th>median_follower_count</th></tr></thead><tbody><tr><td>2015</td><td>83000</td></tr><tr><td>2016</td><td>25000</td></tr><tr><td>2017</td><td>6000</td></tr></tbody></table></div>"
      ]
     },
     "metadata": {
      "application/vnd.databricks.v1+output": {
       "addedWidgets": {},
       "aggData": [],
       "aggError": "",
       "aggOverflow": false,
       "aggSchema": [],
       "aggSeriesLimitReached": false,
       "aggType": "",
       "arguments": {},
       "columnCustomDisplayInfos": {},
       "data": [
        [
         2015,
         83000
        ],
        [
         2016,
         25000
        ],
        [
         2017,
         6000
        ]
       ],
       "datasetInfos": [],
       "dbfsResultPath": null,
       "isJsonSchema": true,
       "metadata": {},
       "overflow": false,
       "plotOptions": {
        "customPlotOptions": {},
        "displayType": "table",
        "pivotAggregation": null,
        "pivotColumns": null,
        "xColumns": null,
        "yColumns": null
       },
       "removedWidgets": [],
       "schema": [
        {
         "metadata": "{}",
         "name": "post_year",
         "type": "\"integer\""
        },
        {
         "metadata": "{}",
         "name": "median_follower_count",
         "type": "\"integer\""
        }
       ],
       "type": "table"
      }
     },
     "output_type": "display_data"
    }
   ],
   "source": [
    "## Milestone 7 Task 10\n",
    "from pyspark.sql import SparkSession\n",
    "from pyspark.sql.functions import col, percentile_approx\n",
    "\n",
    "df_user = df_user.withColumn('post_year', year(col('date_joined')))\n",
    "\n",
    "\n",
    "df_pin.createOrReplaceTempView(\"pin_data\")\n",
    "df_user.createOrReplaceTempView(\"user_data\")\n",
    "\n",
    "query = \"\"\"\n",
    "SELECT\n",
    "    u.post_year,\n",
    "    percentile_approx(p.follower_count, 0.5) AS median_follower_count\n",
    "FROM\n",
    "    pin_data p\n",
    "JOIN\n",
    "    user_data u\n",
    "ON\n",
    "    p.ind = u.ind \n",
    "WHERE\n",
    "    u.post_year BETWEEN 2015 AND 2020\n",
    "GROUP BY\n",
    "    u.post_year\n",
    "ORDER BY\n",
    "    u.post_year\n",
    "\"\"\"\n",
    "\n",
    "result_df = spark.sql(query)\n",
    "\n",
    "display(result_df)\n",
    "\n"
   ]
  },
  {
   "cell_type": "code",
   "execution_count": null,
   "metadata": {
    "application/vnd.databricks.v1+cell": {
     "cellMetadata": {
      "byteLimit": 2048000,
      "rowLimit": 10000
     },
     "inputWidgets": {},
     "nuid": "55626f0e-22c8-4350-8985-d0ef90c01e7a",
     "showTitle": false,
     "title": ""
    }
   },
   "outputs": [
    {
     "data": {
      "text/html": [
       "<style scoped>\n",
       "  .table-result-container {\n",
       "    max-height: 300px;\n",
       "    overflow: auto;\n",
       "  }\n",
       "  table, th, td {\n",
       "    border: 1px solid black;\n",
       "    border-collapse: collapse;\n",
       "  }\n",
       "  th, td {\n",
       "    padding: 5px;\n",
       "  }\n",
       "  th {\n",
       "    text-align: left;\n",
       "  }\n",
       "</style><div class='table-result-container'><table class='table-result'><thead style='background-color: white'><tr><th>age_group</th><th>post_year</th><th>median_follower_count</th></tr></thead><tbody><tr><td>+50</td><td>2015</td><td>92000</td></tr><tr><td>+50</td><td>2016</td><td>43000</td></tr><tr><td>+50</td><td>2017</td><td>6000</td></tr></tbody></table></div>"
      ]
     },
     "metadata": {
      "application/vnd.databricks.v1+output": {
       "addedWidgets": {},
       "aggData": [],
       "aggError": "",
       "aggOverflow": false,
       "aggSchema": [],
       "aggSeriesLimitReached": false,
       "aggType": "",
       "arguments": {},
       "columnCustomDisplayInfos": {},
       "data": [
        [
         "+50",
         2015,
         92000
        ],
        [
         "+50",
         2016,
         43000
        ],
        [
         "+50",
         2017,
         6000
        ]
       ],
       "datasetInfos": [],
       "dbfsResultPath": null,
       "isJsonSchema": true,
       "metadata": {},
       "overflow": false,
       "plotOptions": {
        "customPlotOptions": {},
        "displayType": "table",
        "pivotAggregation": null,
        "pivotColumns": null,
        "xColumns": null,
        "yColumns": null
       },
       "removedWidgets": [],
       "schema": [
        {
         "metadata": "{}",
         "name": "age_group",
         "type": "\"string\""
        },
        {
         "metadata": "{}",
         "name": "post_year",
         "type": "\"integer\""
        },
        {
         "metadata": "{}",
         "name": "median_follower_count",
         "type": "\"integer\""
        }
       ],
       "type": "table"
      }
     },
     "output_type": "display_data"
    }
   ],
   "source": [
    "## Milestone 7 Task 11\n",
    "from pyspark.sql import SparkSession\n",
    "from pyspark.sql.functions import col, year, percentile_approx, floor, current_date, when\n",
    "\n",
    "\n",
    "df_user = df_user.withColumn('age', floor((current_date() - col('date_joined')).cast('int') / 365))\n",
    "\n",
    "df_user = df_user.withColumn(\n",
    "    'age_group',\n",
    "    when(col('age').between(18, 24), '18-24')\n",
    "    .when(col('age').between(25, 35), '25-35')\n",
    "    .when(col('age').between(36, 50), '36-50')\n",
    "    .otherwise('+50')\n",
    ")\n",
    "\n",
    "df_user = df_user.withColumn('post_year', year(col('date_joined')))\n",
    "\n",
    "\n",
    "df_pin.createOrReplaceTempView(\"pin_data\")\n",
    "df_geo.createOrReplaceTempView(\"geo_data\")\n",
    "df_user.createOrReplaceTempView(\"user_data\")\n",
    "\n",
    "\n",
    "query = \"\"\"\n",
    "SELECT\n",
    "    u.age_group,\n",
    "    u.post_year,\n",
    "    percentile_approx(p.follower_count, 0.5) AS median_follower_count\n",
    "FROM\n",
    "    user_data u\n",
    "JOIN\n",
    "    pin_data p\n",
    "ON\n",
    "    u.ind = p.ind \n",
    "JOIN\n",
    "    geo_data g\n",
    "ON\n",
    "    p.ind = g.ind \n",
    "WHERE\n",
    "    u.post_year BETWEEN 2015 AND 2020\n",
    "GROUP BY\n",
    "    u.age_group,\n",
    "    u.post_year\n",
    "ORDER BY\n",
    "    u.age_group,\n",
    "    u.post_year\n",
    "\"\"\"\n",
    "\n",
    "\n",
    "result_df = spark.sql(query)\n",
    "\n",
    "display(result_df)\n",
    "\n"
   ]
  },
  {
   "cell_type": "code",
   "execution_count": null,
   "metadata": {
    "application/vnd.databricks.v1+cell": {
     "cellMetadata": {
      "byteLimit": 2048000,
      "rowLimit": 10000
     },
     "inputWidgets": {},
     "nuid": "06c44d52-73a8-49c3-94d6-f634f4956247",
     "showTitle": false,
     "title": ""
    }
   },
   "outputs": [
    {
     "data": {
      "text/html": [
       "<style scoped>\n",
       "  .ansiout {\n",
       "    display: block;\n",
       "    unicode-bidi: embed;\n",
       "    white-space: pre-wrap;\n",
       "    word-wrap: break-word;\n",
       "    word-break: break-all;\n",
       "    font-family: \"Menlo\", \"Monaco\", \"Consolas\", \"Ubuntu Mono\", \"Source Code Pro\", monospace;\n",
       "    font-size: 13px;\n",
       "    color: #555;\n",
       "    margin-left: 4px;\n",
       "    line-height: 19px;\n",
       "  }\n",
       "</style>\n",
       "<div class=\"ansiout\">Out[68]: &#39;/Users/mmalik18@hotmail.co.uk/Batch_processing&#39;</div>"
      ]
     },
     "metadata": {
      "application/vnd.databricks.v1+output": {
       "addedWidgets": {},
       "arguments": {},
       "data": "<div class=\"ansiout\">Out[68]: &#39;/Users/mmalik18@hotmail.co.uk/Batch_processing&#39;</div>",
       "datasetInfos": [],
       "metadata": {},
       "removedWidgets": [],
       "type": "html"
      }
     },
     "output_type": "display_data"
    }
   ],
   "source": [
    "dbutils.notebook.entry_point.getDbutils().notebook().getContext().notebookPath().get()"
   ]
  },
  {
   "cell_type": "code",
   "execution_count": null,
   "metadata": {
    "application/vnd.databricks.v1+cell": {
     "cellMetadata": {
      "byteLimit": 2048000,
      "rowLimit": 10000
     },
     "inputWidgets": {},
     "nuid": "9533043b-c317-421c-9f25-86bd89f271bf",
     "showTitle": false,
     "title": ""
    }
   },
   "outputs": [
    {
     "data": {
      "text/html": [
       "<style scoped>\n",
       "  .ansiout {\n",
       "    display: block;\n",
       "    unicode-bidi: embed;\n",
       "    white-space: pre-wrap;\n",
       "    word-wrap: break-word;\n",
       "    word-break: break-all;\n",
       "    font-family: \"Menlo\", \"Monaco\", \"Consolas\", \"Ubuntu Mono\", \"Source Code Pro\", monospace;\n",
       "    font-size: 13px;\n",
       "    color: #555;\n",
       "    margin-left: 4px;\n",
       "    line-height: 19px;\n",
       "  }\n",
       "</style>\n",
       "<div class=\"ansiout\">Out[69]: &#39;1108-162752-8okw8dgg&#39;</div>"
      ]
     },
     "metadata": {
      "application/vnd.databricks.v1+output": {
       "addedWidgets": {},
       "arguments": {},
       "data": "<div class=\"ansiout\">Out[69]: &#39;1108-162752-8okw8dgg&#39;</div>",
       "datasetInfos": [],
       "metadata": {},
       "removedWidgets": [],
       "type": "html"
      }
     },
     "output_type": "display_data"
    }
   ],
   "source": [
    "spark.conf.get(\"spark.databricks.clusterUsageTags.clusterId\")"
   ]
  },
  {
   "cell_type": "code",
   "execution_count": null,
   "metadata": {
    "application/vnd.databricks.v1+cell": {
     "cellMetadata": {},
     "inputWidgets": {},
     "nuid": "3c0cf56a-870c-4953-ba03-319358a15060",
     "showTitle": false,
     "title": ""
    }
   },
   "outputs": [],
   "source": [
    "import os\n",
    "s3_mount_point = '/mnt/0e06e68acedb_s3_bucket'\n",
    "\n",
    "os.system(f\"fusermount -u {s3_mount_point}\")"
   ]
  }
 ],
 "metadata": {
  "application/vnd.databricks.v1+notebook": {
   "dashboards": [],
   "language": "python",
   "notebookMetadata": {
    "mostRecentlyExecutedCommandWithImplicitDF": {
     "commandId": 3839337936911852,
     "dataframes": [
      "_sqldf"
     ]
    },
    "pythonIndentUnit": 4
   },
   "notebookName": "Batch_processing",
   "widgets": {}
  },
  "language_info": {
   "name": "python"
  }
 },
 "nbformat": 4,
 "nbformat_minor": 0
}
